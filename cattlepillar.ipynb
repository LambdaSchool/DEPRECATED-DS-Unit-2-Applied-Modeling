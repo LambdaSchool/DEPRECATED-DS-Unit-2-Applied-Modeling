{
  "nbformat": 4,
  "nbformat_minor": 0,
  "metadata": {
    "colab": {
      "name": "cattlepillar.ipynb",
      "version": "0.3.2",
      "provenance": [],
      "include_colab_link": true
    },
    "kernelspec": {
      "name": "python3",
      "display_name": "Python 3"
    }
  },
  "cells": [
    {
      "cell_type": "markdown",
      "metadata": {
        "id": "view-in-github",
        "colab_type": "text"
      },
      "source": [
        "<a href=\"https://colab.research.google.com/github/mjh09/DS-Unit-2-Applied-Modeling/blob/master/cattlepillar.ipynb\" target=\"_parent\"><img src=\"https://colab.research.google.com/assets/colab-badge.svg\" alt=\"Open In Colab\"/></a>"
      ]
    },
    {
      "cell_type": "code",
      "metadata": {
        "id": "DjfcD6lQNMRi",
        "colab_type": "code",
        "colab": {
          "base_uri": "https://localhost:8080/",
          "height": 128
        },
        "outputId": "51ffb750-fb2e-4cdf-f078-87e412721bc2"
      },
      "source": [
        "#Start a clean notebook.\n",
        "#Get the Caterpillar data from Kaggle.\n",
        "#Do train/validate/test split.\n",
        "#Select features from train_set.csv, tube.csv, and at least one more file.\n",
        "#Fit a model.\n",
        "#Get your validation RMSLE (or RMSE with log-transformed targets).\n",
        "#Submit your predictions to the Kaggle competition.\n",
        "#Commit your notebook to your fork of the GitHub repo."
      ],
      "execution_count": 1,
      "outputs": [
        {
          "output_type": "error",
          "ename": "SyntaxError",
          "evalue": "ignored",
          "traceback": [
            "\u001b[0;36m  File \u001b[0;32m\"<ipython-input-1-413c2fd0aee2>\"\u001b[0;36m, line \u001b[0;32m1\u001b[0m\n\u001b[0;31m    Start a clean notebook.\u001b[0m\n\u001b[0m          ^\u001b[0m\n\u001b[0;31mSyntaxError\u001b[0m\u001b[0;31m:\u001b[0m invalid syntax\n"
          ]
        }
      ]
    },
    {
      "cell_type": "code",
      "metadata": {
        "id": "FP6oFRIyNo_E",
        "colab_type": "code",
        "colab": {
          "base_uri": "https://localhost:8080/",
          "height": 221
        },
        "outputId": "69871f0d-5ec4-4f7c-c896-19eda8723359"
      },
      "source": [
        "! pip install category_encoders"
      ],
      "execution_count": 2,
      "outputs": [
        {
          "output_type": "stream",
          "text": [
            "Requirement already satisfied: category_encoders in /usr/local/lib/python3.6/dist-packages (2.0.0)\n",
            "Requirement already satisfied: patsy>=0.4.1 in /usr/local/lib/python3.6/dist-packages (from category_encoders) (0.5.1)\n",
            "Requirement already satisfied: numpy>=1.11.3 in /usr/local/lib/python3.6/dist-packages (from category_encoders) (1.16.4)\n",
            "Requirement already satisfied: statsmodels>=0.6.1 in /usr/local/lib/python3.6/dist-packages (from category_encoders) (0.10.0)\n",
            "Requirement already satisfied: scikit-learn>=0.20.0 in /usr/local/lib/python3.6/dist-packages (from category_encoders) (0.21.2)\n",
            "Requirement already satisfied: pandas>=0.21.1 in /usr/local/lib/python3.6/dist-packages (from category_encoders) (0.24.2)\n",
            "Requirement already satisfied: scipy>=0.19.0 in /usr/local/lib/python3.6/dist-packages (from category_encoders) (1.3.0)\n",
            "Requirement already satisfied: six in /usr/local/lib/python3.6/dist-packages (from patsy>=0.4.1->category_encoders) (1.12.0)\n",
            "Requirement already satisfied: joblib>=0.11 in /usr/local/lib/python3.6/dist-packages (from scikit-learn>=0.20.0->category_encoders) (0.13.2)\n",
            "Requirement already satisfied: python-dateutil>=2.5.0 in /usr/local/lib/python3.6/dist-packages (from pandas>=0.21.1->category_encoders) (2.5.3)\n",
            "Requirement already satisfied: pytz>=2011k in /usr/local/lib/python3.6/dist-packages (from pandas>=0.21.1->category_encoders) (2018.9)\n"
          ],
          "name": "stdout"
        }
      ]
    },
    {
      "cell_type": "code",
      "metadata": {
        "id": "Iuf1tPFhN9V7",
        "colab_type": "code",
        "colab": {
          "base_uri": "https://localhost:8080/",
          "height": 221
        },
        "outputId": "d1a52d23-f081-477a-9524-30ea5cc24df2"
      },
      "source": [
        " !wget https://raw.githubusercontent.com/LambdaSchool/DS-Unit-2-Applied-Modeling/master/data/caterpillar/caterpillar-tube-pricing.zip"
      ],
      "execution_count": 3,
      "outputs": [
        {
          "output_type": "stream",
          "text": [
            "--2019-07-22 22:56:36--  https://raw.githubusercontent.com/LambdaSchool/DS-Unit-2-Applied-Modeling/master/data/caterpillar/caterpillar-tube-pricing.zip\n",
            "Resolving raw.githubusercontent.com (raw.githubusercontent.com)... 151.101.0.133, 151.101.64.133, 151.101.128.133, ...\n",
            "Connecting to raw.githubusercontent.com (raw.githubusercontent.com)|151.101.0.133|:443... connected.\n",
            "HTTP request sent, awaiting response... 200 OK\n",
            "Length: 823789 (804K) [application/zip]\n",
            "Saving to: ‘caterpillar-tube-pricing.zip.2’\n",
            "\n",
            "\r          caterpill   0%[                    ]       0  --.-KB/s               \rcaterpillar-tube-pr 100%[===================>] 804.48K  --.-KB/s    in 0.07s   \n",
            "\n",
            "2019-07-22 22:56:36 (10.6 MB/s) - ‘caterpillar-tube-pricing.zip.2’ saved [823789/823789]\n",
            "\n"
          ],
          "name": "stdout"
        }
      ]
    },
    {
      "cell_type": "code",
      "metadata": {
        "id": "L53vbBhmN4cY",
        "colab_type": "code",
        "colab": {
          "base_uri": "https://localhost:8080/",
          "height": 84
        },
        "outputId": "692fbe2e-9b5b-4f6e-b41b-c68bedcd7d8a"
      },
      "source": [
        "!unzip caterpillar-tube-pricing.zip"
      ],
      "execution_count": 4,
      "outputs": [
        {
          "output_type": "stream",
          "text": [
            "Archive:  caterpillar-tube-pricing.zip\n",
            "replace sample_submission.csv? [y]es, [n]o, [A]ll, [N]one, [r]ename: A\n",
            "  inflating: sample_submission.csv   \n",
            "  inflating: data.zip                \n"
          ],
          "name": "stdout"
        }
      ]
    },
    {
      "cell_type": "code",
      "metadata": {
        "id": "eB35_xAnOPT7",
        "colab_type": "code",
        "colab": {
          "base_uri": "https://localhost:8080/",
          "height": 421
        },
        "outputId": "9f598197-faff-4944-d1f1-c13b60eeaa95"
      },
      "source": [
        "!unzip data.zip"
      ],
      "execution_count": 5,
      "outputs": [
        {
          "output_type": "stream",
          "text": [
            "Archive:  data.zip\n",
            "replace competition_data/bill_of_materials.csv? [y]es, [n]o, [A]ll, [N]one, [r]ename: A\n",
            "  inflating: competition_data/bill_of_materials.csv  \n",
            "  inflating: competition_data/comp_adaptor.csv  \n",
            "  inflating: competition_data/comp_boss.csv  \n",
            "  inflating: competition_data/comp_elbow.csv  \n",
            "  inflating: competition_data/comp_float.csv  \n",
            "  inflating: competition_data/comp_hfl.csv  \n",
            "  inflating: competition_data/comp_nut.csv  \n",
            "  inflating: competition_data/comp_other.csv  \n",
            "  inflating: competition_data/comp_sleeve.csv  \n",
            "  inflating: competition_data/comp_straight.csv  \n",
            "  inflating: competition_data/comp_tee.csv  \n",
            "  inflating: competition_data/comp_threaded.csv  \n",
            "  inflating: competition_data/components.csv  \n",
            "  inflating: competition_data/specs.csv  \n",
            "  inflating: competition_data/test_set.csv  \n",
            "  inflating: competition_data/train_set.csv  \n",
            "  inflating: competition_data/tube.csv  \n",
            "  inflating: competition_data/tube_end_form.csv  \n",
            "  inflating: competition_data/type_component.csv  \n",
            "  inflating: competition_data/type_connection.csv  \n",
            "  inflating: competition_data/type_end_form.csv  \n"
          ],
          "name": "stdout"
        }
      ]
    },
    {
      "cell_type": "code",
      "metadata": {
        "id": "RTUkRlfTOVyD",
        "colab_type": "code",
        "colab": {}
      },
      "source": [
        "import pandas as pd\n",
        "import numpy as np\n",
        "from glob import glob\n",
        "import category_encoders as ce\n",
        "from sklearn.metrics import mean_squared_error\n",
        "from sklearn.model_selection import train_test_split\n",
        "from sklearn.metrics import mean_squared_log_error\n",
        "from sklearn.metrics import r2_score\n",
        "from sklearn.ensemble import RandomForestRegressor\n",
        "from sklearn.pipeline import make_pipeline"
      ],
      "execution_count": 0,
      "outputs": []
    },
    {
      "cell_type": "code",
      "metadata": {
        "id": "QYdwT2liPSGI",
        "colab_type": "code",
        "colab": {
          "base_uri": "https://localhost:8080/",
          "height": 368
        },
        "outputId": "6aa45e07-984a-4c87-c76e-89fb7eb14f6b"
      },
      "source": [
        "for path in glob('competition_data/*.csv'):\n",
        "    df = pd.read_csv(path)\n",
        "    print(path, df.shape)"
      ],
      "execution_count": 7,
      "outputs": [
        {
          "output_type": "stream",
          "text": [
            "competition_data/comp_tee.csv (4, 14)\n",
            "competition_data/test_set.csv (30235, 8)\n",
            "competition_data/comp_threaded.csv (194, 32)\n",
            "competition_data/comp_other.csv (1001, 3)\n",
            "competition_data/comp_sleeve.csv (50, 10)\n",
            "competition_data/tube_end_form.csv (27, 2)\n",
            "competition_data/train_set.csv (30213, 8)\n",
            "competition_data/comp_boss.csv (147, 15)\n",
            "competition_data/comp_adaptor.csv (25, 20)\n",
            "competition_data/comp_nut.csv (65, 11)\n",
            "competition_data/type_connection.csv (14, 2)\n",
            "competition_data/bill_of_materials.csv (21198, 17)\n",
            "competition_data/specs.csv (21198, 11)\n",
            "competition_data/type_component.csv (29, 2)\n",
            "competition_data/type_end_form.csv (8, 2)\n",
            "competition_data/comp_elbow.csv (178, 16)\n",
            "competition_data/comp_float.csv (16, 7)\n",
            "competition_data/comp_straight.csv (361, 12)\n",
            "competition_data/components.csv (2048, 3)\n",
            "competition_data/tube.csv (21198, 16)\n",
            "competition_data/comp_hfl.csv (6, 9)\n"
          ],
          "name": "stdout"
        }
      ]
    },
    {
      "cell_type": "code",
      "metadata": {
        "id": "eItcn2hNRo9Z",
        "colab_type": "code",
        "colab": {}
      },
      "source": [
        "trainval = pd.read_csv('competition_data/train_set.csv')\n",
        "test = pd.read_csv('competition_data/test_set.csv')"
      ],
      "execution_count": 0,
      "outputs": []
    },
    {
      "cell_type": "code",
      "metadata": {
        "id": "1h-fxQWxSLtS",
        "colab_type": "code",
        "colab": {}
      },
      "source": [
        "trainval['quote_date'] = pd.to_datetime(trainval['quote_date'], infer_datetime_format=True)\n",
        "test['quote_date'] = pd.to_datetime(test['quote_date'], infer_datetime_format=True)"
      ],
      "execution_count": 0,
      "outputs": []
    },
    {
      "cell_type": "code",
      "metadata": {
        "id": "Re7Wn1guTDNn",
        "colab_type": "code",
        "colab": {}
      },
      "source": [
        "trainval_tube_assemblies = trainval['tube_assembly_id'].unique()\n",
        "test_tube_assemblies = test['tube_assembly_id'].unique()"
      ],
      "execution_count": 0,
      "outputs": []
    },
    {
      "cell_type": "code",
      "metadata": {
        "id": "VewVzBC6Wvzx",
        "colab_type": "code",
        "colab": {}
      },
      "source": [
        "train_tube_assemblies, val_tube_assemblies = train_test_split(\n",
        "    trainval_tube_assemblies, random_state=42\n",
        ")"
      ],
      "execution_count": 0,
      "outputs": []
    },
    {
      "cell_type": "code",
      "metadata": {
        "id": "onTUxTWfW2x8",
        "colab_type": "code",
        "colab": {
          "base_uri": "https://localhost:8080/",
          "height": 33
        },
        "outputId": "1cf9b37b-b3b3-42e9-f5e5-6f9374722d9c"
      },
      "source": [
        "train = trainval[trainval.tube_assembly_id.isin(train_tube_assemblies)]\n",
        "val = trainval[trainval.tube_assembly_id.isin(val_tube_assemblies)]\n",
        "train.shape, val.shape, trainval.shape"
      ],
      "execution_count": 12,
      "outputs": [
        {
          "output_type": "execute_result",
          "data": {
            "text/plain": [
              "((22628, 8), (7585, 8), (30213, 8))"
            ]
          },
          "metadata": {
            "tags": []
          },
          "execution_count": 12
        }
      ]
    },
    {
      "cell_type": "code",
      "metadata": {
        "id": "m7EvJLUES7F2",
        "colab_type": "code",
        "colab": {}
      },
      "source": [
        "def wrangle(X):\n",
        "    X = X.copy()\n",
        "    \n",
        "    # Engineer date features\n",
        "    X['quote_date'] = pd.to_datetime(X['quote_date'], infer_datetime_format=True)\n",
        "    X['quote_date_year'] = X['quote_date'].dt.year\n",
        "    X['quote_date_month'] = X['quote_date'].dt.month\n",
        "    X = X.drop(columns='quote_date')\n",
        "    \n",
        "    # Merge tube data\n",
        "    tube = pd.read_csv('competition_data/tube.csv')\n",
        "    specs = pd.read_csv('competition_data/specs.csv')\n",
        "    X = X.merge(tube, how='left')\n",
        "    X = X.merge(specs, how='left')\n",
        "    \n",
        "    # Drop tube_assembly_id because our goal is to predict unknown assemblies\n",
        "    X = X.drop(columns='tube_assembly_id')\n",
        "    \n",
        "    return X\n",
        "\n",
        "\n",
        "train_wrangled = wrangle(train)\n",
        "val_wrangled = wrangle(val)"
      ],
      "execution_count": 0,
      "outputs": []
    },
    {
      "cell_type": "code",
      "metadata": {
        "id": "pqxeXxjlXhml",
        "colab_type": "code",
        "colab": {}
      },
      "source": [
        "train_wrangled.shape, val_wrangled.shape"
      ],
      "execution_count": 0,
      "outputs": []
    },
    {
      "cell_type": "code",
      "metadata": {
        "id": "yf6DTFa38CvB",
        "colab_type": "code",
        "colab": {}
      },
      "source": [
        "target = 'cost'"
      ],
      "execution_count": 0,
      "outputs": []
    },
    {
      "cell_type": "code",
      "metadata": {
        "id": "RpreVEsh7-7Y",
        "colab_type": "code",
        "colab": {}
      },
      "source": [
        "y_train = train_wrangled[target]\n",
        "y_train_log = np.log1p(y_train)"
      ],
      "execution_count": 0,
      "outputs": []
    },
    {
      "cell_type": "code",
      "metadata": {
        "id": "TKMOfPkH8lQa",
        "colab_type": "code",
        "colab": {}
      },
      "source": [
        "y_val = val_wrangled[target]\n",
        "y_val_log = np.log1p(y_val)"
      ],
      "execution_count": 0,
      "outputs": []
    },
    {
      "cell_type": "code",
      "metadata": {
        "id": "vxzhRI_Ugzsd",
        "colab_type": "code",
        "colab": {}
      },
      "source": [
        "X_train = train_wrangled.drop(columns=target)\n",
        "X_val = val_wrangled.drop(columns=target)"
      ],
      "execution_count": 0,
      "outputs": []
    },
    {
      "cell_type": "code",
      "metadata": {
        "id": "EejW9giJ9Uf8",
        "colab_type": "code",
        "colab": {}
      },
      "source": [
        "def rmse(y_true, y_pred):\n",
        "    return np.sqrt(mean_squared_error(y_true, y_pred))"
      ],
      "execution_count": 0,
      "outputs": []
    },
    {
      "cell_type": "code",
      "metadata": {
        "id": "Xz2yyotkgLXQ",
        "colab_type": "code",
        "colab": {
          "base_uri": "https://localhost:8080/",
          "height": 33
        },
        "outputId": "0576b4cd-9e0c-4e82-f8ff-eddc98ee8983"
      },
      "source": [
        "pipeline = make_pipeline(\n",
        "    ce.OrdinalEncoder(), \n",
        "    RandomForestRegressor(n_estimators=100, random_state=42, n_jobs=-1)\n",
        ")\n",
        "\n",
        "pipeline.fit(X_train, y_train_log)\n",
        "y_pred_log = pipeline.predict(X_val)\n",
        "rmse(y_val_log, y_pred_log)"
      ],
      "execution_count": 25,
      "outputs": [
        {
          "output_type": "execute_result",
          "data": {
            "text/plain": [
              "0.308466078550845"
            ]
          },
          "metadata": {
            "tags": []
          },
          "execution_count": 25
        }
      ]
    },
    {
      "cell_type": "code",
      "metadata": {
        "id": "cEFAeiN79jQD",
        "colab_type": "code",
        "colab": {
          "base_uri": "https://localhost:8080/",
          "height": 33
        },
        "outputId": "702e3d92-bbff-44df-b23c-1d912039c4c2"
      },
      "source": [
        "test_wrangled = wrangle(test)\n",
        "X_test = test_wrangled.drop(columns='id')\n",
        "all(X_test.columns == X_train.columns)"
      ],
      "execution_count": 26,
      "outputs": [
        {
          "output_type": "execute_result",
          "data": {
            "text/plain": [
              "True"
            ]
          },
          "metadata": {
            "tags": []
          },
          "execution_count": 26
        }
      ]
    },
    {
      "cell_type": "code",
      "metadata": {
        "id": "XEWHrow19lUM",
        "colab_type": "code",
        "colab": {}
      },
      "source": [
        "y_pred_log = pipeline.predict(X_test)\n",
        "y_pred = np.expm1(y_pred_log)\n",
        "\n",
        "sample_submission = pd.read_csv('sample_submission.csv')\n",
        "submission = sample_submission.copy()\n",
        "submission['cost'] = y_pred\n",
        "submission.to_csv('cattlepillar-01.csv', index=False)"
      ],
      "execution_count": 0,
      "outputs": []
    }
  ]
}