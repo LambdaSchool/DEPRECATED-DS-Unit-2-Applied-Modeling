{
 "cells": [
  {
   "cell_type": "markdown",
   "metadata": {
    "colab_type": "text",
    "id": "n4GufWor6Js6"
   },
   "source": [
    "_Lambda School Data Science, Unit 2_\n",
    " \n",
    "# Regression 2 Sprint Challenge: Predict drugstore sales 🏥\n",
    "\n",
    "For your Sprint Challenge, you'll use real-world sales data from a German drugstore chain, from Jan 2, 2013 — July 31, 2015.\n",
    "\n",
    "You are given three dataframes:\n",
    "\n",
    "- `train`: historical sales data for 100 stores\n",
    "- `test`: historical sales data for 100 different stores\n",
    "- `store`: supplemental information about the stores\n",
    "\n",
    "\n",
    "The train and test set do _not_ have different date ranges. But they _do_ have different store ids. Your task is _not_ to forecast future sales from past sales. **Your task is to predict sales at unknown stores, from sales at known stores.**"
   ]
  },
  {
   "cell_type": "code",
   "execution_count": 49,
   "metadata": {
    "colab": {},
    "colab_type": "code",
    "id": "3jOs8F4K6Js7"
   },
   "outputs": [],
   "source": [
    "import pandas as pd\n",
    "train = pd.read_csv('https://drive.google.com/uc?export=download&id=1E9rgiGf1f_WL2S4-V6gD7ZhB8r8Yb_lE')\n",
    "test = pd.read_csv('https://drive.google.com/uc?export=download&id=1vkaVptn4TTYC9-YPZvbvmfDNHVR8aUml')\n",
    "store = pd.read_csv('https://drive.google.com/uc?export=download&id=1rZD-V1mWydeytptQfr-NL7dBqre6lZMo')\n",
    "assert train.shape == (78400, 7)\n",
    "assert test.shape == (78400, 7)\n",
    "assert store.shape == (200, 10)"
   ]
  },
  {
   "cell_type": "code",
   "execution_count": 50,
   "metadata": {},
   "outputs": [],
   "source": [
    "import numpy as np\n",
    "import category_encoders as ce\n",
    "import eli5\n",
    "from eli5.sklearn import PermutationImportance\n",
    "from sklearn.ensemble import RandomForestRegressor\n",
    "from sklearn.metrics import mean_squared_error, mean_squared_log_error\n",
    "from sklearn.model_selection import train_test_split\n",
    "from sklearn.pipeline import make_pipeline\n",
    "from xgboost import XGBRegressor\n",
    "from sklearn.model_selection import cross_val_score\n",
    "from sklearn.impute import SimpleImputer\n",
    "import xgboost as xgb\n",
    "from xgboost import XGBRegressor\n",
    "import warnings\n",
    "warnings.simplefilter(action='ignore', category=FutureWarning)\n",
    "\n"
   ]
  },
  {
   "cell_type": "markdown",
   "metadata": {
    "colab_type": "text",
    "id": "TkY6RGhm6Js-"
   },
   "source": [
    "The dataframes have a variety of columns:\n",
    "\n",
    "- **Store** - a unique Id for each store\n",
    "- **DayOfWeek** - integer, 1-6\n",
    "- **Date** - the date, from Jan 2, 2013 — July 31, 2015.\n",
    "- **Sales** - the units of inventory sold on a given date (this is the target you are predicting)\n",
    "- **Customers** - the number of customers on a given date\n",
    "- **Promo** - indicates whether a store is running a promo on that day\n",
    "- **SchoolHoliday** - indicates the closure of public schools\n",
    "- **StoreType** - differentiates between 4 different store models: a, b, c, d\n",
    "- **Assortment** - describes an assortment level: a = basic, b = extra, c = extended\n",
    "- **CompetitionDistance** - distance in meters to the nearest competitor store\n",
    "- **CompetitionOpenSince[Month/Year]** - gives the approximate year and month of the time the nearest competitor was opened\n",
    "- **Promo2** - Promo2 is a continuing and consecutive promotion for some stores: 0 = store is not participating, 1 = store is participating\n",
    "- **Promo2Since[Year/Week]** - describes the year and calendar week when the store started participating in Promo2\n",
    "- **PromoInterval** - describes the consecutive intervals Promo2 is started, naming the months the promotion is started anew. E.g. \"Feb,May,Aug,Nov\" means each round starts in February, May, August, November of any given year for that store"
   ]
  },
  {
   "cell_type": "markdown",
   "metadata": {
    "colab_type": "text",
    "id": "zQHPxAPV6Js-"
   },
   "source": [
    "This Sprint Challenge has three parts. To demonstrate mastery on each part, do all the required instructions. To earn a score of \"3\" for the part, also do the stretch goals."
   ]
  },
  {
   "cell_type": "markdown",
   "metadata": {
    "colab_type": "text",
    "id": "EGcK_2Ux6Js_"
   },
   "source": [
    "## 1. Wrangle relational data, Log-transform the target\n",
    "- Merge the `store` dataframe with the `train` and `test` dataframes. \n",
    "- Arrange the X matrix and y vector for the train and test sets.\n",
    "- Log-transform the target for the train and test set.\n",
    "- Plot the target's distribution for the train set, before and after the transformation.\n",
    "\n",
    "#### Stretch goals\n",
    "- Engineer 3+ more features."
   ]
  },
  {
   "cell_type": "code",
   "execution_count": 51,
   "metadata": {
    "colab": {},
    "colab_type": "code",
    "id": "R-vlwS9c6JtA"
   },
   "outputs": [],
   "source": [
    "#traintest = pd.concat([train,test])\n",
    "\n",
    "train = train.merge(store)\n",
    "test = test.merge(store)\n",
    "\n",
    "#traintest = traintest.merge(store)\n"
   ]
  },
  {
   "cell_type": "code",
   "execution_count": 60,
   "metadata": {},
   "outputs": [],
   "source": [
    "features = ['Store', 'DayOfWeek', 'Customers', 'Promo',\n",
    "        'SchoolHoliday', 'CompetitionDistance',\n",
    "        'CompetitionOpenSinceMonth', 'CompetitionOpenSinceYear', 'Promo2',\n",
    "        'Promo2SinceWeek', 'Promo2SinceYear', 'PromoInterval']\n",
    "\n",
    "target = 'Sales'\n",
    "\n",
    "ytrain = np.log1p(train[target])\n",
    "ytest = np.log1p(test[target])\n",
    "\n",
    "xtrain = train[features]\n",
    "\n",
    "xtest =test[features]\n",
    "\n",
    "#xtraintest = traintest[features]\n",
    "#ytraintest = traintest[target]"
   ]
  },
  {
   "cell_type": "markdown",
   "metadata": {
    "colab_type": "text",
    "id": "HWTEklmo6JtC"
   },
   "source": [
    "## 2. Fit and validate your model\n",
    "- **Use Gradient Boosting** or any type of regression model.\n",
    "- **Beat the baseline:** The estimated baseline Root Mean Squared Logarithmic Error is 0.90, if we guessed the mean sales for every prediction. Remember that RMSE with the log-transformed target is equivalent to RMSLE with the original target. Try to get your error below 0.20.\n",
    "- **To validate your model, choose any one of these options:**\n",
    "  - Split the train dataframe into train and validation sets. Put all rows for a given store into the same set. Use xgboost `early_stopping_rounds` with the validation set. \n",
    "  - Or, use scikit-learn `cross_val_score`. Put all rows for a given store into the same fold.\n",
    "  - Or, use scikit-learn `RandomizedSearchCV` for hyperparameter optimization. Put all rows for a given store into the same fold.\n",
    "- **Get the Validation Error** (multiple times if you try multiple iterations) **and Test Error** (one time, at the end).\n",
    "  \n",
    "#### Stretch goal\n",
    "- Optimize 3+ hyperparameters by searching 10+ \"candidates\" (possible combinations of hyperparameters). "
   ]
  },
  {
   "cell_type": "code",
   "execution_count": 53,
   "metadata": {
    "colab": {},
    "colab_type": "code",
    "id": "H6Iyb-jz6JtC"
   },
   "outputs": [],
   "source": [
    "#set(train['Store']) & set(test['Store'])\n",
    "\n",
    "#trainval_store = train['Store'].unique()\n",
    "#xtrain, xval, = train_test_split(trainval_store)\n",
    "\n",
    "#xtrain = train[train.Store.isin(xtrain)]\n",
    "#xval = train[train.Store.isin(xval)]"
   ]
  },
  {
   "cell_type": "code",
   "execution_count": 80,
   "metadata": {},
   "outputs": [
    {
     "name": "stdout",
     "output_type": "stream",
     "text": [
      "[11:02:45] WARNING: /workspace/src/objective/regression_obj.cu:152: reg:linear is now deprecated in favor of reg:squarederror.\n",
      "[11:02:45] WARNING: /workspace/src/objective/regression_obj.cu:152: reg:linear is now deprecated in favor of reg:squarederror.\n",
      "[11:02:46] WARNING: /workspace/src/objective/regression_obj.cu:152: reg:linear is now deprecated in favor of reg:squarederror.\n",
      "[11:02:46] WARNING: /workspace/src/objective/regression_obj.cu:152: reg:linear is now deprecated in favor of reg:squarederror.\n",
      "[11:02:47] WARNING: /workspace/src/objective/regression_obj.cu:152: reg:linear is now deprecated in favor of reg:squarederror.\n",
      "RMSLE for 5 folds: [0.15736142 0.15038773 0.16592383 0.18577861 0.17726637]\n",
      "Mean folds : 0.1673435947775183\n",
      "[11:02:47] WARNING: /workspace/src/objective/regression_obj.cu:152: reg:linear is now deprecated in favor of reg:squarederror.\n",
      "mean Squared Error:  0.022480376897081204\n",
      "CPU times: user 52.5 s, sys: 1.01 s, total: 53.5 s\n",
      "Wall time: 3.45 s\n"
     ]
    }
   ],
   "source": [
    "%%time\n",
    "\n",
    "pipeline = make_pipeline(\n",
    "    ce.OrdinalEncoder(),\n",
    "    SimpleImputer(strategy='median'),\n",
    "   #RandomForestRegressor(n_estimators=200, n_jobs=-1)\n",
    "    XGBRegressor(n_estimators=100, n_jobs=-1)\n",
    "\n",
    ")\n",
    "\n",
    "folds=5\n",
    "groups = train['Store']\n",
    "\n",
    "scores = cross_val_score(pipeline, xtrain, ytrain, cv=folds, \n",
    "                         scoring='neg_mean_squared_error', groups=groups);\n",
    "print(f'RMSLE for {folds} folds:', np.sqrt(-scores))\n",
    "print('Mean folds :',np.mean(np.sqrt(-scores)))\n",
    "\n",
    "pipeline.fit(xtrain, ytrain)\n",
    "ypred = pipeline.predict(xtest)\n",
    "\n",
    "print(\"mean Squared Error: \",mean_squared_error(ytest, ypred))\n",
    "\n"
   ]
  },
  {
   "cell_type": "markdown",
   "metadata": {
    "colab_type": "text",
    "id": "ysMSkZqx6JtE"
   },
   "source": [
    "## 3. Plot model interpretation visualizations\n",
    "- Choose any one of these options:\n",
    "  - Permutation Importances plot\n",
    "  - Partial Dependency Plot, 1 feature isolation\n",
    "  - Partial Dependency Plot, 2 feature interaction\n",
    "  \n",
    "#### Stretch goals\n",
    "- Plot 2+ visualizations.\n",
    "- Use permutation importances for feature selection. "
   ]
  },
  {
   "cell_type": "code",
   "execution_count": 81,
   "metadata": {
    "colab": {},
    "colab_type": "code",
    "id": "vPF30RiE6JtF"
   },
   "outputs": [
    {
     "ename": "NameError",
     "evalue": "name 'pipeline' is not defined",
     "output_type": "error",
     "traceback": [
      "\u001b[0;31m---------------------------------------------------------------------------\u001b[0m",
      "\u001b[0;31mNameError\u001b[0m                                 Traceback (most recent call last)",
      "\u001b[0;32m<ipython-input-81-25a92f078c04>\u001b[0m in \u001b[0;36m<module>\u001b[0;34m\u001b[0m\n\u001b[0;32m----> 1\u001b[0;31m permuter = PermutationImportance(pipeline, scoring='neg_mean_squared_error', \n\u001b[0m\u001b[1;32m      2\u001b[0m                                  cv='prefit', n_iter=2)\n\u001b[1;32m      3\u001b[0m \u001b[0;34m\u001b[0m\u001b[0m\n\u001b[1;32m      4\u001b[0m \u001b[0mpermuter\u001b[0m\u001b[0;34m.\u001b[0m\u001b[0mfit\u001b[0m\u001b[0;34m(\u001b[0m\u001b[0mxtrain\u001b[0m\u001b[0;34m,\u001b[0m \u001b[0mytrain\u001b[0m\u001b[0;34m)\u001b[0m\u001b[0;34m\u001b[0m\u001b[0;34m\u001b[0m\u001b[0m\n\u001b[1;32m      5\u001b[0m \u001b[0mfeature_names\u001b[0m \u001b[0;34m=\u001b[0m \u001b[0mxtrain\u001b[0m\u001b[0;34m.\u001b[0m\u001b[0mcolumns\u001b[0m\u001b[0;34m.\u001b[0m\u001b[0mtolist\u001b[0m\u001b[0;34m(\u001b[0m\u001b[0;34m)\u001b[0m\u001b[0;34m\u001b[0m\u001b[0;34m\u001b[0m\u001b[0m\n",
      "\u001b[0;31mNameError\u001b[0m: name 'pipeline' is not defined"
     ]
    }
   ],
   "source": [
    "permuter = PermutationImportance(pipeline, scoring='neg_mean_squared_error', \n",
    "                                 cv='prefit', n_iter=2)\n",
    "\n",
    "permuter.fit(xtrain, ytrain)\n",
    "feature_names = xtrain.columns.tolist()\n",
    "eli5.show_weights(permuter, top=None, feature_names=feature_names)"
   ]
  }
 ],
 "metadata": {
  "colab": {
   "collapsed_sections": [],
   "name": "DS_Sprint_Challenge_8_Regression_2.ipynb",
   "provenance": [],
   "version": "0.3.2"
  },
  "kernelspec": {
   "display_name": "Python 3",
   "language": "python",
   "name": "python3"
  },
  "language_info": {
   "codemirror_mode": {
    "name": "ipython",
    "version": 3
   },
   "file_extension": ".py",
   "mimetype": "text/x-python",
   "name": "python",
   "nbconvert_exporter": "python",
   "pygments_lexer": "ipython3",
   "version": "3.7.3"
  }
 },
 "nbformat": 4,
 "nbformat_minor": 1
}
