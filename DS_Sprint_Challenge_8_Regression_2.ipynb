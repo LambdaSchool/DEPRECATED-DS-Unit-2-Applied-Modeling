{
  "nbformat": 4,
  "nbformat_minor": 0,
  "metadata": {
    "colab": {
      "name": "DS_Sprint_Challenge_8_Regression_2.ipynb",
      "version": "0.3.2",
      "provenance": [],
      "collapsed_sections": [],
      "include_colab_link": true
    },
    "kernelspec": {
      "display_name": "Python 3",
      "language": "python",
      "name": "python3"
    },
    "language_info": {
      "codemirror_mode": {
        "name": "ipython",
        "version": 3
      },
      "file_extension": ".py",
      "mimetype": "text/x-python",
      "name": "python",
      "nbconvert_exporter": "python",
      "pygments_lexer": "ipython3",
      "version": "3.7.3"
    }
  },
  "cells": [
    {
      "cell_type": "markdown",
      "metadata": {
        "id": "view-in-github",
        "colab_type": "text"
      },
      "source": [
        "<a href=\"https://colab.research.google.com/github/leehanchung/DS-Unit-2-Applied-Modeling/blob/master/DS_Sprint_Challenge_8_Regression_2.ipynb\" target=\"_parent\"><img src=\"https://colab.research.google.com/assets/colab-badge.svg\" alt=\"Open In Colab\"/></a>"
      ]
    },
    {
      "cell_type": "markdown",
      "metadata": {
        "colab_type": "text",
        "id": "n4GufWor6Js6"
      },
      "source": [
        "_Lambda School Data Science, Unit 2_\n",
        " \n",
        "# Regression 2 Sprint Challenge: Predict drugstore sales 🏥\n",
        "\n",
        "For your Sprint Challenge, you'll use real-world sales data from a German drugstore chain, from Jan 2, 2013 — July 31, 2015.\n",
        "\n",
        "You are given three dataframes:\n",
        "\n",
        "- `train`: historical sales data for 100 stores\n",
        "- `test`: historical sales data for 100 different stores\n",
        "- `store`: supplemental information about the stores\n",
        "\n",
        "\n",
        "The train and test set do _not_ have different date ranges. But they _do_ have different store ids. Your task is _not_ to forecast future sales from past sales. **Your task is to predict sales at unknown stores, from sales at known stores.**"
      ]
    },
    {
      "cell_type": "code",
      "metadata": {
        "colab_type": "code",
        "id": "3jOs8F4K6Js7",
        "colab": {}
      },
      "source": [
        "import pandas as pd\n",
        "train = pd.read_csv('https://drive.google.com/uc?export=download&id=1E9rgiGf1f_WL2S4-V6gD7ZhB8r8Yb_lE')\n",
        "test = pd.read_csv('https://drive.google.com/uc?export=download&id=1vkaVptn4TTYC9-YPZvbvmfDNHVR8aUml')\n",
        "store = pd.read_csv('https://drive.google.com/uc?export=download&id=1rZD-V1mWydeytptQfr-NL7dBqre6lZMo')\n",
        "assert train.shape == (78400, 7)\n",
        "assert test.shape == (78400, 7)\n",
        "assert store.shape == (200, 10)"
      ],
      "execution_count": 0,
      "outputs": []
    },
    {
      "cell_type": "markdown",
      "metadata": {
        "colab_type": "text",
        "id": "TkY6RGhm6Js-"
      },
      "source": [
        "The dataframes have a variety of columns:\n",
        "\n",
        "- **Store** - a unique Id for each store\n",
        "- **DayOfWeek** - integer, 1-6\n",
        "- **Date** - the date, from Jan 2, 2013 — July 31, 2015.\n",
        "- **Sales** - the units of inventory sold on a given date (this is the target you are predicting)\n",
        "- **Customers** - the number of customers on a given date\n",
        "- **Promo** - indicates whether a store is running a promo on that day\n",
        "- **SchoolHoliday** - indicates the closure of public schools\n",
        "- **StoreType** - differentiates between 4 different store models: a, b, c, d\n",
        "- **Assortment** - describes an assortment level: a = basic, b = extra, c = extended\n",
        "- **CompetitionDistance** - distance in meters to the nearest competitor store\n",
        "- **CompetitionOpenSince[Month/Year]** - gives the approximate year and month of the time the nearest competitor was opened\n",
        "- **Promo2** - Promo2 is a continuing and consecutive promotion for some stores: 0 = store is not participating, 1 = store is participating\n",
        "- **Promo2Since[Year/Week]** - describes the year and calendar week when the store started participating in Promo2\n",
        "- **PromoInterval** - describes the consecutive intervals Promo2 is started, naming the months the promotion is started anew. E.g. \"Feb,May,Aug,Nov\" means each round starts in February, May, August, November of any given year for that store"
      ]
    },
    {
      "cell_type": "markdown",
      "metadata": {
        "colab_type": "text",
        "id": "zQHPxAPV6Js-"
      },
      "source": [
        "This Sprint Challenge has three parts. To demonstrate mastery on each part, do all the required instructions. To earn a score of \"3\" for the part, also do the stretch goals."
      ]
    },
    {
      "cell_type": "markdown",
      "metadata": {
        "colab_type": "text",
        "id": "EGcK_2Ux6Js_"
      },
      "source": [
        "## 1. Wrangle relational data, Log-transform the target\n",
        "- Merge the `store` dataframe with the `train` and `test` dataframes. \n",
        "- Arrange the X matrix and y vector for the train and test sets.\n",
        "- Log-transform the target for the train and test set.\n",
        "- Plot the target's distribution for the train set, before and after the transformation.\n",
        "\n",
        "#### Stretch goals\n",
        "- Engineer 3+ more features."
      ]
    },
    {
      "cell_type": "code",
      "metadata": {
        "id": "oVHUbIqI6vJC",
        "colab_type": "code",
        "colab": {}
      },
      "source": [
        "import pandas as pd\n",
        "import numpy as np\n",
        "\n",
        "# Modeling\n",
        "import category_encoders as ce\n",
        "from sklearn.pipeline import Pipeline\n",
        "from sklearn.model_selection import RandomizedSearchCV\n",
        "from sklearn.metrics import mean_squared_error\n",
        "from xgboost import XGBRegressor\n",
        "\n",
        "# Plotting \n",
        "import matplotlib.pyplot as plt\n",
        "import seaborn as sns\n",
        "%matplotlib inline\n",
        "from pdpbox.pdp import pdp_isolate, pdp_plot\n",
        "from pdpbox.pdp import pdp_interact, pdp_interact_plot\n",
        "from xgboost import plot_importance\n",
        "from eli5 import show_weights\n",
        "from eli5.sklearn import PermutationImportance\n",
        "\n",
        "import datetime as dt\n",
        "from datetime import date"
      ],
      "execution_count": 0,
      "outputs": []
    },
    {
      "cell_type": "markdown",
      "metadata": {
        "id": "Cbs1ofsn6vJE",
        "colab_type": "text"
      },
      "source": [
        "## 1.1 Merging Store with Train and Test"
      ]
    },
    {
      "cell_type": "code",
      "metadata": {
        "id": "aIM-QmNe6vJF",
        "colab_type": "code",
        "colab": {}
      },
      "source": [
        "train = train.merge(store, on='Store')\n",
        "test = test.merge(store, on='Store')"
      ],
      "execution_count": 0,
      "outputs": []
    },
    {
      "cell_type": "markdown",
      "metadata": {
        "id": "PbRzvDdI6vJH",
        "colab_type": "text"
      },
      "source": [
        "## 1.4 Target Before And After Log Transform"
      ]
    },
    {
      "cell_type": "code",
      "metadata": {
        "colab_type": "code",
        "id": "R-vlwS9c6JtA",
        "scrolled": false,
        "colab": {},
        "outputId": "0292c7a4-ae4b-4d90-d465-c6b602f9bb92"
      },
      "source": [
        "y_train = train.Sales\n",
        "sns.distplot(y_train);"
      ],
      "execution_count": 0,
      "outputs": [
        {
          "output_type": "display_data",
          "data": {
            "image/png": "[encoded data removed]",
            "text/plain": [
              "<Figure size 432x288 with 1 Axes>"
            ]
          },
          "metadata": {
            "tags": [],
            "needs_background": "light"
          }
        }
      ]
    },
    {
      "cell_type": "code",
      "metadata": {
        "scrolled": true,
        "id": "c88tcNt46vJN",
        "colab_type": "code",
        "colab": {},
        "outputId": "f492a494-70bf-4657-dc67-5993bc63914b"
      },
      "source": [
        "sns.distplot(np.log1p(y_train));"
      ],
      "execution_count": 0,
      "outputs": [
        {
          "output_type": "display_data",
          "data": {
            "image/png": "[encoded data removed]",
            "text/plain": [
              "<Figure size 432x288 with 1 Axes>"
            ]
          },
          "metadata": {
            "tags": [],
            "needs_background": "light"
          }
        }
      ]
    },
    {
      "cell_type": "code",
      "metadata": {
        "scrolled": false,
        "id": "ruXk5_3v6vJQ",
        "colab_type": "code",
        "colab": {},
        "outputId": "1521d1ab-948b-410a-b830-7259084b514c"
      },
      "source": [
        "train.describe()"
      ],
      "execution_count": 0,
      "outputs": [
        {
          "output_type": "execute_result",
          "data": {
            "text/html": [
              "<div>\n",
              "<style scoped>\n",
              "    .dataframe tbody tr th:only-of-type {\n",
              "        vertical-align: middle;\n",
              "    }\n",
              "\n",
              "    .dataframe tbody tr th {\n",
              "        vertical-align: top;\n",
              "    }\n",
              "\n",
              "    .dataframe thead th {\n",
              "        text-align: right;\n",
              "    }\n",
              "</style>\n",
              "<table border=\"1\" class=\"dataframe\">\n",
              "  <thead>\n",
              "    <tr style=\"text-align: right;\">\n",
              "      <th></th>\n",
              "      <th>Store</th>\n",
              "      <th>DayOfWeek</th>\n",
              "      <th>Sales</th>\n",
              "      <th>Customers</th>\n",
              "      <th>Promo</th>\n",
              "      <th>SchoolHoliday</th>\n",
              "      <th>CompetitionDistance</th>\n",
              "      <th>CompetitionOpenSinceMonth</th>\n",
              "      <th>CompetitionOpenSinceYear</th>\n",
              "      <th>Promo2</th>\n",
              "      <th>Promo2SinceWeek</th>\n",
              "      <th>Promo2SinceYear</th>\n",
              "    </tr>\n",
              "  </thead>\n",
              "  <tbody>\n",
              "    <tr>\n",
              "      <th>count</th>\n",
              "      <td>78400.000000</td>\n",
              "      <td>78400.000000</td>\n",
              "      <td>78400.000000</td>\n",
              "      <td>78400.000000</td>\n",
              "      <td>78400.000000</td>\n",
              "      <td>78400.000000</td>\n",
              "      <td>78400.000000</td>\n",
              "      <td>65072.00000</td>\n",
              "      <td>65072.000000</td>\n",
              "      <td>78400.000000</td>\n",
              "      <td>15680.000000</td>\n",
              "      <td>15680.000000</td>\n",
              "    </tr>\n",
              "    <tr>\n",
              "      <th>mean</th>\n",
              "      <td>544.690000</td>\n",
              "      <td>3.506378</td>\n",
              "      <td>6988.430778</td>\n",
              "      <td>826.109847</td>\n",
              "      <td>0.450255</td>\n",
              "      <td>0.195268</td>\n",
              "      <td>4731.200000</td>\n",
              "      <td>7.13253</td>\n",
              "      <td>2010.963855</td>\n",
              "      <td>0.200000</td>\n",
              "      <td>24.450000</td>\n",
              "      <td>2011.600000</td>\n",
              "    </tr>\n",
              "    <tr>\n",
              "      <th>std</th>\n",
              "      <td>325.893217</td>\n",
              "      <td>1.710560</td>\n",
              "      <td>2824.069622</td>\n",
              "      <td>316.205067</td>\n",
              "      <td>0.497522</td>\n",
              "      <td>0.396409</td>\n",
              "      <td>8911.590516</td>\n",
              "      <td>3.22930</td>\n",
              "      <td>2.451700</td>\n",
              "      <td>0.400003</td>\n",
              "      <td>13.596297</td>\n",
              "      <td>0.969567</td>\n",
              "    </tr>\n",
              "    <tr>\n",
              "      <th>min</th>\n",
              "      <td>4.000000</td>\n",
              "      <td>1.000000</td>\n",
              "      <td>1712.000000</td>\n",
              "      <td>206.000000</td>\n",
              "      <td>0.000000</td>\n",
              "      <td>0.000000</td>\n",
              "      <td>30.000000</td>\n",
              "      <td>1.00000</td>\n",
              "      <td>2006.000000</td>\n",
              "      <td>0.000000</td>\n",
              "      <td>1.000000</td>\n",
              "      <td>2010.000000</td>\n",
              "    </tr>\n",
              "    <tr>\n",
              "      <th>25%</th>\n",
              "      <td>259.250000</td>\n",
              "      <td>2.000000</td>\n",
              "      <td>5005.000000</td>\n",
              "      <td>599.000000</td>\n",
              "      <td>0.000000</td>\n",
              "      <td>0.000000</td>\n",
              "      <td>700.000000</td>\n",
              "      <td>4.00000</td>\n",
              "      <td>2009.000000</td>\n",
              "      <td>0.000000</td>\n",
              "      <td>14.000000</td>\n",
              "      <td>2011.000000</td>\n",
              "    </tr>\n",
              "    <tr>\n",
              "      <th>50%</th>\n",
              "      <td>550.000000</td>\n",
              "      <td>3.000000</td>\n",
              "      <td>6370.000000</td>\n",
              "      <td>757.000000</td>\n",
              "      <td>0.000000</td>\n",
              "      <td>0.000000</td>\n",
              "      <td>1945.000000</td>\n",
              "      <td>9.00000</td>\n",
              "      <td>2011.000000</td>\n",
              "      <td>0.000000</td>\n",
              "      <td>22.000000</td>\n",
              "      <td>2012.000000</td>\n",
              "    </tr>\n",
              "    <tr>\n",
              "      <th>75%</th>\n",
              "      <td>826.500000</td>\n",
              "      <td>5.000000</td>\n",
              "      <td>8303.000000</td>\n",
              "      <td>993.000000</td>\n",
              "      <td>1.000000</td>\n",
              "      <td>0.000000</td>\n",
              "      <td>3797.500000</td>\n",
              "      <td>9.00000</td>\n",
              "      <td>2013.000000</td>\n",
              "      <td>0.000000</td>\n",
              "      <td>35.000000</td>\n",
              "      <td>2012.000000</td>\n",
              "    </tr>\n",
              "    <tr>\n",
              "      <th>max</th>\n",
              "      <td>1113.000000</td>\n",
              "      <td>6.000000</td>\n",
              "      <td>27265.000000</td>\n",
              "      <td>3360.000000</td>\n",
              "      <td>1.000000</td>\n",
              "      <td>1.000000</td>\n",
              "      <td>48330.000000</td>\n",
              "      <td>12.00000</td>\n",
              "      <td>2015.000000</td>\n",
              "      <td>1.000000</td>\n",
              "      <td>48.000000</td>\n",
              "      <td>2013.000000</td>\n",
              "    </tr>\n",
              "  </tbody>\n",
              "</table>\n",
              "</div>"
            ],
            "text/plain": [
              "              Store     DayOfWeek         Sales     Customers         Promo  \\\n",
              "count  78400.000000  78400.000000  78400.000000  78400.000000  78400.000000   \n",
              "mean     544.690000      3.506378   6988.430778    826.109847      0.450255   \n",
              "std      325.893217      1.710560   2824.069622    316.205067      0.497522   \n",
              "min        4.000000      1.000000   1712.000000    206.000000      0.000000   \n",
              "25%      259.250000      2.000000   5005.000000    599.000000      0.000000   \n",
              "50%      550.000000      3.000000   6370.000000    757.000000      0.000000   \n",
              "75%      826.500000      5.000000   8303.000000    993.000000      1.000000   \n",
              "max     1113.000000      6.000000  27265.000000   3360.000000      1.000000   \n",
              "\n",
              "       SchoolHoliday  CompetitionDistance  CompetitionOpenSinceMonth  \\\n",
              "count   78400.000000         78400.000000                65072.00000   \n",
              "mean        0.195268          4731.200000                    7.13253   \n",
              "std         0.396409          8911.590516                    3.22930   \n",
              "min         0.000000            30.000000                    1.00000   \n",
              "25%         0.000000           700.000000                    4.00000   \n",
              "50%         0.000000          1945.000000                    9.00000   \n",
              "75%         0.000000          3797.500000                    9.00000   \n",
              "max         1.000000         48330.000000                   12.00000   \n",
              "\n",
              "       CompetitionOpenSinceYear        Promo2  Promo2SinceWeek  \\\n",
              "count              65072.000000  78400.000000     15680.000000   \n",
              "mean                2010.963855      0.200000        24.450000   \n",
              "std                    2.451700      0.400003        13.596297   \n",
              "min                 2006.000000      0.000000         1.000000   \n",
              "25%                 2009.000000      0.000000        14.000000   \n",
              "50%                 2011.000000      0.000000        22.000000   \n",
              "75%                 2013.000000      0.000000        35.000000   \n",
              "max                 2015.000000      1.000000        48.000000   \n",
              "\n",
              "       Promo2SinceYear  \n",
              "count     15680.000000  \n",
              "mean       2011.600000  \n",
              "std           0.969567  \n",
              "min        2010.000000  \n",
              "25%        2011.000000  \n",
              "50%        2012.000000  \n",
              "75%        2012.000000  \n",
              "max        2013.000000  "
            ]
          },
          "metadata": {
            "tags": []
          },
          "execution_count": 6
        }
      ]
    },
    {
      "cell_type": "code",
      "metadata": {
        "scrolled": false,
        "id": "6xkcUj286vJT",
        "colab_type": "code",
        "colab": {},
        "outputId": "5d56b0d4-22c0-4929-ae9b-4de1095c41b3"
      },
      "source": [
        "print(train.shape)\n",
        "train.isna().sum()"
      ],
      "execution_count": 0,
      "outputs": [
        {
          "output_type": "stream",
          "text": [
            "(78400, 16)\n"
          ],
          "name": "stdout"
        },
        {
          "output_type": "execute_result",
          "data": {
            "text/plain": [
              "Store                            0\n",
              "DayOfWeek                        0\n",
              "Date                             0\n",
              "Sales                            0\n",
              "Customers                        0\n",
              "Promo                            0\n",
              "SchoolHoliday                    0\n",
              "StoreType                        0\n",
              "Assortment                       0\n",
              "CompetitionDistance              0\n",
              "CompetitionOpenSinceMonth    13328\n",
              "CompetitionOpenSinceYear     13328\n",
              "Promo2                           0\n",
              "Promo2SinceWeek              62720\n",
              "Promo2SinceYear              62720\n",
              "PromoInterval                62720\n",
              "dtype: int64"
            ]
          },
          "metadata": {
            "tags": []
          },
          "execution_count": 7
        }
      ]
    },
    {
      "cell_type": "markdown",
      "metadata": {
        "id": "zGEMJTDs6vJW",
        "colab_type": "text"
      },
      "source": [
        "## 1.1 Cleanup CompetitionOpenSinceX\n",
        "\n",
        "We will create a new feature called MonthsCompetition that markes how many months since a competition open near a store. Since CompetitionOpenSinceMonth and CompetitionOpenSinceYear are missing for some stores, we will impute them with first transaction date of the store."
      ]
    },
    {
      "cell_type": "code",
      "metadata": {
        "id": "uwBoyFDb6vJX",
        "colab_type": "code",
        "colab": {}
      },
      "source": [
        "train['Date'] = pd.to_datetime(train['Date'], infer_datetime_format=True)\n",
        "train['Year'] = train['Date'].dt.year\n",
        "train['Month'] = train['Date'].dt.month\n",
        "train['Day'] = train['Date'].dt.day"
      ],
      "execution_count": 0,
      "outputs": []
    },
    {
      "cell_type": "code",
      "metadata": {
        "id": "wVrOTULQ6vJZ",
        "colab_type": "code",
        "colab": {},
        "outputId": "8ae04996-2097-4bc4-a78b-ed3996ac5a81"
      },
      "source": [
        "train.isna().sum()"
      ],
      "execution_count": 0,
      "outputs": [
        {
          "output_type": "execute_result",
          "data": {
            "text/plain": [
              "Store                            0\n",
              "DayOfWeek                        0\n",
              "Date                             0\n",
              "Sales                            0\n",
              "Customers                        0\n",
              "Promo                            0\n",
              "SchoolHoliday                    0\n",
              "StoreType                        0\n",
              "Assortment                       0\n",
              "CompetitionDistance              0\n",
              "CompetitionOpenSinceMonth    13328\n",
              "CompetitionOpenSinceYear     13328\n",
              "Promo2                           0\n",
              "Promo2SinceWeek              62720\n",
              "Promo2SinceYear              62720\n",
              "PromoInterval                62720\n",
              "Year                             0\n",
              "Month                            0\n",
              "Day                              0\n",
              "dtype: int64"
            ]
          },
          "metadata": {
            "tags": []
          },
          "execution_count": 9
        }
      ]
    },
    {
      "cell_type": "code",
      "metadata": {
        "scrolled": false,
        "id": "9K3tp3R_6vJc",
        "colab_type": "code",
        "colab": {},
        "outputId": "21e36ce7-7d68-4aab-c2df-458260e75792"
      },
      "source": [
        "train.groupby(['Store'])['Date'].min().unique(), test.groupby(['Store'])['Date'].min().unique()"
      ],
      "execution_count": 0,
      "outputs": [
        {
          "output_type": "execute_result",
          "data": {
            "text/plain": [
              "(array(['2013-01-02T00:00:00.000000000'], dtype='datetime64[ns]'),\n",
              " array(['2013-01-02'], dtype=object))"
            ]
          },
          "metadata": {
            "tags": []
          },
          "execution_count": 10
        }
      ]
    },
    {
      "cell_type": "code",
      "metadata": {
        "scrolled": true,
        "id": "mIfIz4eG6vJf",
        "colab_type": "code",
        "colab": {}
      },
      "source": [
        "train.CompetitionOpenSinceMonth.fillna(1, inplace=True)"
      ],
      "execution_count": 0,
      "outputs": []
    },
    {
      "cell_type": "code",
      "metadata": {
        "id": "wxFzscEG6vJh",
        "colab_type": "code",
        "colab": {}
      },
      "source": [
        "train.CompetitionOpenSinceYear.fillna(2013, inplace=True)"
      ],
      "execution_count": 0,
      "outputs": []
    },
    {
      "cell_type": "code",
      "metadata": {
        "id": "EmPq_Gom6vJj",
        "colab_type": "code",
        "colab": {},
        "outputId": "f6602908-851f-41b4-a70d-acb631c4d17f"
      },
      "source": [
        "train.head()"
      ],
      "execution_count": 0,
      "outputs": [
        {
          "output_type": "execute_result",
          "data": {
            "text/html": [
              "<div>\n",
              "<style scoped>\n",
              "    .dataframe tbody tr th:only-of-type {\n",
              "        vertical-align: middle;\n",
              "    }\n",
              "\n",
              "    .dataframe tbody tr th {\n",
              "        vertical-align: top;\n",
              "    }\n",
              "\n",
              "    .dataframe thead th {\n",
              "        text-align: right;\n",
              "    }\n",
              "</style>\n",
              "<table border=\"1\" class=\"dataframe\">\n",
              "  <thead>\n",
              "    <tr style=\"text-align: right;\">\n",
              "      <th></th>\n",
              "      <th>Store</th>\n",
              "      <th>DayOfWeek</th>\n",
              "      <th>Date</th>\n",
              "      <th>Sales</th>\n",
              "      <th>Customers</th>\n",
              "      <th>Promo</th>\n",
              "      <th>SchoolHoliday</th>\n",
              "      <th>StoreType</th>\n",
              "      <th>Assortment</th>\n",
              "      <th>CompetitionDistance</th>\n",
              "      <th>CompetitionOpenSinceMonth</th>\n",
              "      <th>CompetitionOpenSinceYear</th>\n",
              "      <th>Promo2</th>\n",
              "      <th>Promo2SinceWeek</th>\n",
              "      <th>Promo2SinceYear</th>\n",
              "      <th>PromoInterval</th>\n",
              "      <th>Year</th>\n",
              "      <th>Month</th>\n",
              "      <th>Day</th>\n",
              "    </tr>\n",
              "  </thead>\n",
              "  <tbody>\n",
              "    <tr>\n",
              "      <th>0</th>\n",
              "      <td>4</td>\n",
              "      <td>5</td>\n",
              "      <td>2015-07-31</td>\n",
              "      <td>13995</td>\n",
              "      <td>1498</td>\n",
              "      <td>1</td>\n",
              "      <td>1</td>\n",
              "      <td>c</td>\n",
              "      <td>c</td>\n",
              "      <td>620.0</td>\n",
              "      <td>9.0</td>\n",
              "      <td>2009.0</td>\n",
              "      <td>0</td>\n",
              "      <td>NaN</td>\n",
              "      <td>NaN</td>\n",
              "      <td>NaN</td>\n",
              "      <td>2015</td>\n",
              "      <td>7</td>\n",
              "      <td>31</td>\n",
              "    </tr>\n",
              "    <tr>\n",
              "      <th>1</th>\n",
              "      <td>4</td>\n",
              "      <td>4</td>\n",
              "      <td>2015-07-30</td>\n",
              "      <td>10387</td>\n",
              "      <td>1276</td>\n",
              "      <td>1</td>\n",
              "      <td>1</td>\n",
              "      <td>c</td>\n",
              "      <td>c</td>\n",
              "      <td>620.0</td>\n",
              "      <td>9.0</td>\n",
              "      <td>2009.0</td>\n",
              "      <td>0</td>\n",
              "      <td>NaN</td>\n",
              "      <td>NaN</td>\n",
              "      <td>NaN</td>\n",
              "      <td>2015</td>\n",
              "      <td>7</td>\n",
              "      <td>30</td>\n",
              "    </tr>\n",
              "    <tr>\n",
              "      <th>2</th>\n",
              "      <td>4</td>\n",
              "      <td>3</td>\n",
              "      <td>2015-07-29</td>\n",
              "      <td>10514</td>\n",
              "      <td>1258</td>\n",
              "      <td>1</td>\n",
              "      <td>1</td>\n",
              "      <td>c</td>\n",
              "      <td>c</td>\n",
              "      <td>620.0</td>\n",
              "      <td>9.0</td>\n",
              "      <td>2009.0</td>\n",
              "      <td>0</td>\n",
              "      <td>NaN</td>\n",
              "      <td>NaN</td>\n",
              "      <td>NaN</td>\n",
              "      <td>2015</td>\n",
              "      <td>7</td>\n",
              "      <td>29</td>\n",
              "    </tr>\n",
              "    <tr>\n",
              "      <th>3</th>\n",
              "      <td>4</td>\n",
              "      <td>2</td>\n",
              "      <td>2015-07-28</td>\n",
              "      <td>10275</td>\n",
              "      <td>1191</td>\n",
              "      <td>1</td>\n",
              "      <td>1</td>\n",
              "      <td>c</td>\n",
              "      <td>c</td>\n",
              "      <td>620.0</td>\n",
              "      <td>9.0</td>\n",
              "      <td>2009.0</td>\n",
              "      <td>0</td>\n",
              "      <td>NaN</td>\n",
              "      <td>NaN</td>\n",
              "      <td>NaN</td>\n",
              "      <td>2015</td>\n",
              "      <td>7</td>\n",
              "      <td>28</td>\n",
              "    </tr>\n",
              "    <tr>\n",
              "      <th>4</th>\n",
              "      <td>4</td>\n",
              "      <td>1</td>\n",
              "      <td>2015-07-27</td>\n",
              "      <td>11812</td>\n",
              "      <td>1379</td>\n",
              "      <td>1</td>\n",
              "      <td>1</td>\n",
              "      <td>c</td>\n",
              "      <td>c</td>\n",
              "      <td>620.0</td>\n",
              "      <td>9.0</td>\n",
              "      <td>2009.0</td>\n",
              "      <td>0</td>\n",
              "      <td>NaN</td>\n",
              "      <td>NaN</td>\n",
              "      <td>NaN</td>\n",
              "      <td>2015</td>\n",
              "      <td>7</td>\n",
              "      <td>27</td>\n",
              "    </tr>\n",
              "  </tbody>\n",
              "</table>\n",
              "</div>"
            ],
            "text/plain": [
              "   Store  DayOfWeek       Date  Sales  Customers  Promo  SchoolHoliday  \\\n",
              "0      4          5 2015-07-31  13995       1498      1              1   \n",
              "1      4          4 2015-07-30  10387       1276      1              1   \n",
              "2      4          3 2015-07-29  10514       1258      1              1   \n",
              "3      4          2 2015-07-28  10275       1191      1              1   \n",
              "4      4          1 2015-07-27  11812       1379      1              1   \n",
              "\n",
              "  StoreType Assortment  CompetitionDistance  CompetitionOpenSinceMonth  \\\n",
              "0         c          c                620.0                        9.0   \n",
              "1         c          c                620.0                        9.0   \n",
              "2         c          c                620.0                        9.0   \n",
              "3         c          c                620.0                        9.0   \n",
              "4         c          c                620.0                        9.0   \n",
              "\n",
              "   CompetitionOpenSinceYear  Promo2  Promo2SinceWeek  Promo2SinceYear  \\\n",
              "0                    2009.0       0              NaN              NaN   \n",
              "1                    2009.0       0              NaN              NaN   \n",
              "2                    2009.0       0              NaN              NaN   \n",
              "3                    2009.0       0              NaN              NaN   \n",
              "4                    2009.0       0              NaN              NaN   \n",
              "\n",
              "  PromoInterval  Year  Month  Day  \n",
              "0           NaN  2015      7   31  \n",
              "1           NaN  2015      7   30  \n",
              "2           NaN  2015      7   29  \n",
              "3           NaN  2015      7   28  \n",
              "4           NaN  2015      7   27  "
            ]
          },
          "metadata": {
            "tags": []
          },
          "execution_count": 13
        }
      ]
    },
    {
      "cell_type": "markdown",
      "metadata": {
        "id": "WHSRS-bI6vJm",
        "colab_type": "text"
      },
      "source": [
        "## 1.2 Cleanup PromoX"
      ]
    },
    {
      "cell_type": "code",
      "metadata": {
        "id": "35DofQ6n6vJo",
        "colab_type": "code",
        "colab": {},
        "outputId": "97588363-5327-4771-a75b-197f0a8b6706"
      },
      "source": [
        "train.PromoInterval.value_counts()"
      ],
      "execution_count": 0,
      "outputs": [
        {
          "output_type": "execute_result",
          "data": {
            "text/plain": [
              "Jan,Apr,Jul,Oct     7056\n",
              "Mar,Jun,Sept,Dec    5488\n",
              "Feb,May,Aug,Nov     3136\n",
              "Name: PromoInterval, dtype: int64"
            ]
          },
          "metadata": {
            "tags": []
          },
          "execution_count": 14
        }
      ]
    },
    {
      "cell_type": "code",
      "metadata": {
        "id": "ZoAqQzHL6vJu",
        "colab_type": "code",
        "colab": {},
        "outputId": "63d0044c-fd23-4be5-e6c9-d1373ca23367"
      },
      "source": [
        "print(train.groupby(['Store'])['Promo2SinceYear'].describe().dropna().index)\n",
        "print(train.groupby(['Store'])['PromoInterval'].describe().dropna().index)\n",
        "print(train.groupby(['Store'])['Promo2SinceWeek'].describe().dropna().index)"
      ],
      "execution_count": 0,
      "outputs": [
        {
          "output_type": "stream",
          "text": [
            "Int64Index([  11,   12,   68,  101,  248,  344,  377,  398,  459,  487,  566,\n",
            "             577,  680,  802,  822,  862,  914, 1010, 1071, 1106],\n",
            "           dtype='int64', name='Store')\n",
            "Int64Index([  11,   12,   68,  101,  248,  344,  377,  398,  459,  487,  566,\n",
            "             577,  680,  802,  822,  862,  914, 1010, 1071, 1106],\n",
            "           dtype='int64', name='Store')\n",
            "Int64Index([  11,   12,   68,  101,  248,  344,  377,  398,  459,  487,  566,\n",
            "             577,  680,  802,  822,  862,  914, 1010, 1071, 1106],\n",
            "           dtype='int64', name='Store')\n"
          ],
          "name": "stdout"
        }
      ]
    },
    {
      "cell_type": "markdown",
      "metadata": {
        "id": "xIPhDp9g6vJy",
        "colab_type": "text"
      },
      "source": [
        "It seems that some stores are just not running any promo2s.  So we will leave the NaN and let encoder handle them."
      ]
    },
    {
      "cell_type": "code",
      "metadata": {
        "id": "0mfNtvZP6vJy",
        "colab_type": "code",
        "colab": {}
      },
      "source": [
        "def cleaning(df):\n",
        "    df['Date'] = pd.to_datetime(df['Date'], infer_datetime_format=True)\n",
        "    df['Year'] = df['Date'].dt.year\n",
        "    df['Month'] = df['Date'].dt.month\n",
        "    df['Day'] = df['Date'].dt.day\n",
        "    \n",
        "    df.CompetitionOpenSinceMonth.fillna(1, inplace=True)\n",
        "    df.CompetitionOpenSinceYear.fillna(2013, inplace=True)\n",
        "    \n",
        "    df.fillna(0, inplace=True)\n",
        "    \n",
        "    return df"
      ],
      "execution_count": 0,
      "outputs": []
    },
    {
      "cell_type": "markdown",
      "metadata": {
        "id": "Lh6wjhiz6vJ2",
        "colab_type": "text"
      },
      "source": [
        "## 1.2-3 Arrange Features Matrices and Target Vector and Log Transform Target Vector\n",
        "\n",
        "First we will reload the data to get a clean slate"
      ]
    },
    {
      "cell_type": "code",
      "metadata": {
        "id": "s4gNRlj06vJ4",
        "colab_type": "code",
        "colab": {}
      },
      "source": [
        "train = pd.read_csv('https://drive.google.com/uc?export=download&id=1E9rgiGf1f_WL2S4-V6gD7ZhB8r8Yb_lE')\n",
        "test = pd.read_csv('https://drive.google.com/uc?export=download&id=1vkaVptn4TTYC9-YPZvbvmfDNHVR8aUml')\n",
        "store = pd.read_csv('https://drive.google.com/uc?export=download&id=1rZD-V1mWydeytptQfr-NL7dBqre6lZMo')\n",
        "assert train.shape == (78400, 7)\n",
        "assert test.shape == (78400, 7)\n",
        "assert store.shape == (200, 10)\n",
        "train = train.merge(store, on='Store')\n",
        "test = test.merge(store, on='Store')"
      ],
      "execution_count": 0,
      "outputs": []
    },
    {
      "cell_type": "code",
      "metadata": {
        "id": "RFc5ke6Z6vJ8",
        "colab_type": "code",
        "colab": {}
      },
      "source": [
        "train = cleaning(train)\n",
        "test = cleaning(test)"
      ],
      "execution_count": 0,
      "outputs": []
    },
    {
      "cell_type": "code",
      "metadata": {
        "id": "AGuPDNDK6vJ-",
        "colab_type": "code",
        "colab": {},
        "outputId": "016ab14f-d43c-4214-a9f1-b2eeabe4e4ba"
      },
      "source": [
        "train.head()"
      ],
      "execution_count": 0,
      "outputs": [
        {
          "output_type": "execute_result",
          "data": {
            "text/html": [
              "<div>\n",
              "<style scoped>\n",
              "    .dataframe tbody tr th:only-of-type {\n",
              "        vertical-align: middle;\n",
              "    }\n",
              "\n",
              "    .dataframe tbody tr th {\n",
              "        vertical-align: top;\n",
              "    }\n",
              "\n",
              "    .dataframe thead th {\n",
              "        text-align: right;\n",
              "    }\n",
              "</style>\n",
              "<table border=\"1\" class=\"dataframe\">\n",
              "  <thead>\n",
              "    <tr style=\"text-align: right;\">\n",
              "      <th></th>\n",
              "      <th>Store</th>\n",
              "      <th>DayOfWeek</th>\n",
              "      <th>Date</th>\n",
              "      <th>Sales</th>\n",
              "      <th>Customers</th>\n",
              "      <th>Promo</th>\n",
              "      <th>SchoolHoliday</th>\n",
              "      <th>StoreType</th>\n",
              "      <th>Assortment</th>\n",
              "      <th>CompetitionDistance</th>\n",
              "      <th>CompetitionOpenSinceMonth</th>\n",
              "      <th>CompetitionOpenSinceYear</th>\n",
              "      <th>Promo2</th>\n",
              "      <th>Promo2SinceWeek</th>\n",
              "      <th>Promo2SinceYear</th>\n",
              "      <th>PromoInterval</th>\n",
              "      <th>Year</th>\n",
              "      <th>Month</th>\n",
              "      <th>Day</th>\n",
              "    </tr>\n",
              "  </thead>\n",
              "  <tbody>\n",
              "    <tr>\n",
              "      <th>0</th>\n",
              "      <td>4</td>\n",
              "      <td>5</td>\n",
              "      <td>2015-07-31</td>\n",
              "      <td>13995</td>\n",
              "      <td>1498</td>\n",
              "      <td>1</td>\n",
              "      <td>1</td>\n",
              "      <td>c</td>\n",
              "      <td>c</td>\n",
              "      <td>620.0</td>\n",
              "      <td>9.0</td>\n",
              "      <td>2009.0</td>\n",
              "      <td>0</td>\n",
              "      <td>0.0</td>\n",
              "      <td>0.0</td>\n",
              "      <td>0</td>\n",
              "      <td>2015</td>\n",
              "      <td>7</td>\n",
              "      <td>31</td>\n",
              "    </tr>\n",
              "    <tr>\n",
              "      <th>1</th>\n",
              "      <td>4</td>\n",
              "      <td>4</td>\n",
              "      <td>2015-07-30</td>\n",
              "      <td>10387</td>\n",
              "      <td>1276</td>\n",
              "      <td>1</td>\n",
              "      <td>1</td>\n",
              "      <td>c</td>\n",
              "      <td>c</td>\n",
              "      <td>620.0</td>\n",
              "      <td>9.0</td>\n",
              "      <td>2009.0</td>\n",
              "      <td>0</td>\n",
              "      <td>0.0</td>\n",
              "      <td>0.0</td>\n",
              "      <td>0</td>\n",
              "      <td>2015</td>\n",
              "      <td>7</td>\n",
              "      <td>30</td>\n",
              "    </tr>\n",
              "    <tr>\n",
              "      <th>2</th>\n",
              "      <td>4</td>\n",
              "      <td>3</td>\n",
              "      <td>2015-07-29</td>\n",
              "      <td>10514</td>\n",
              "      <td>1258</td>\n",
              "      <td>1</td>\n",
              "      <td>1</td>\n",
              "      <td>c</td>\n",
              "      <td>c</td>\n",
              "      <td>620.0</td>\n",
              "      <td>9.0</td>\n",
              "      <td>2009.0</td>\n",
              "      <td>0</td>\n",
              "      <td>0.0</td>\n",
              "      <td>0.0</td>\n",
              "      <td>0</td>\n",
              "      <td>2015</td>\n",
              "      <td>7</td>\n",
              "      <td>29</td>\n",
              "    </tr>\n",
              "    <tr>\n",
              "      <th>3</th>\n",
              "      <td>4</td>\n",
              "      <td>2</td>\n",
              "      <td>2015-07-28</td>\n",
              "      <td>10275</td>\n",
              "      <td>1191</td>\n",
              "      <td>1</td>\n",
              "      <td>1</td>\n",
              "      <td>c</td>\n",
              "      <td>c</td>\n",
              "      <td>620.0</td>\n",
              "      <td>9.0</td>\n",
              "      <td>2009.0</td>\n",
              "      <td>0</td>\n",
              "      <td>0.0</td>\n",
              "      <td>0.0</td>\n",
              "      <td>0</td>\n",
              "      <td>2015</td>\n",
              "      <td>7</td>\n",
              "      <td>28</td>\n",
              "    </tr>\n",
              "    <tr>\n",
              "      <th>4</th>\n",
              "      <td>4</td>\n",
              "      <td>1</td>\n",
              "      <td>2015-07-27</td>\n",
              "      <td>11812</td>\n",
              "      <td>1379</td>\n",
              "      <td>1</td>\n",
              "      <td>1</td>\n",
              "      <td>c</td>\n",
              "      <td>c</td>\n",
              "      <td>620.0</td>\n",
              "      <td>9.0</td>\n",
              "      <td>2009.0</td>\n",
              "      <td>0</td>\n",
              "      <td>0.0</td>\n",
              "      <td>0.0</td>\n",
              "      <td>0</td>\n",
              "      <td>2015</td>\n",
              "      <td>7</td>\n",
              "      <td>27</td>\n",
              "    </tr>\n",
              "  </tbody>\n",
              "</table>\n",
              "</div>"
            ],
            "text/plain": [
              "   Store  DayOfWeek       Date  Sales  Customers  Promo  SchoolHoliday  \\\n",
              "0      4          5 2015-07-31  13995       1498      1              1   \n",
              "1      4          4 2015-07-30  10387       1276      1              1   \n",
              "2      4          3 2015-07-29  10514       1258      1              1   \n",
              "3      4          2 2015-07-28  10275       1191      1              1   \n",
              "4      4          1 2015-07-27  11812       1379      1              1   \n",
              "\n",
              "  StoreType Assortment  CompetitionDistance  CompetitionOpenSinceMonth  \\\n",
              "0         c          c                620.0                        9.0   \n",
              "1         c          c                620.0                        9.0   \n",
              "2         c          c                620.0                        9.0   \n",
              "3         c          c                620.0                        9.0   \n",
              "4         c          c                620.0                        9.0   \n",
              "\n",
              "   CompetitionOpenSinceYear  Promo2  Promo2SinceWeek  Promo2SinceYear  \\\n",
              "0                    2009.0       0              0.0              0.0   \n",
              "1                    2009.0       0              0.0              0.0   \n",
              "2                    2009.0       0              0.0              0.0   \n",
              "3                    2009.0       0              0.0              0.0   \n",
              "4                    2009.0       0              0.0              0.0   \n",
              "\n",
              "  PromoInterval  Year  Month  Day  \n",
              "0             0  2015      7   31  \n",
              "1             0  2015      7   30  \n",
              "2             0  2015      7   29  \n",
              "3             0  2015      7   28  \n",
              "4             0  2015      7   27  "
            ]
          },
          "metadata": {
            "tags": []
          },
          "execution_count": 19
        }
      ]
    },
    {
      "cell_type": "code",
      "metadata": {
        "id": "U5AsWWwr6vKB",
        "colab_type": "code",
        "colab": {}
      },
      "source": [
        "features = ['Store', 'DayOfWeek', 'Customers', 'Promo', 'SchoolHoliday', \n",
        "            'StoreType', 'Assortment', 'CompetitionDistance', 'CompetitionOpenSinceMonth',\n",
        "            'CompetitionOpenSinceYear', 'Promo2']\n",
        "target = ['Sales']"
      ],
      "execution_count": 0,
      "outputs": []
    },
    {
      "cell_type": "code",
      "metadata": {
        "id": "Ur3RpdgN6vKF",
        "colab_type": "code",
        "colab": {}
      },
      "source": [
        "# For simplification, log transform both y_train and y_test so we can use RMSE directly\n",
        "# during our randomized search to present RMSLE.\n",
        "X_train = train[features]\n",
        "y_train = np.log1p(train[target])\n",
        "X_test = test[features]\n",
        "y_test = np.log1p(test[target])"
      ],
      "execution_count": 0,
      "outputs": []
    },
    {
      "cell_type": "markdown",
      "metadata": {
        "colab_type": "text",
        "id": "HWTEklmo6JtC"
      },
      "source": [
        "## 2. Fit and validate your model\n",
        "- **Use Gradient Boosting** or any type of regression model.\n",
        "- **Beat the baseline:** The estimated baseline Root Mean Squared Logarithmic Error is 0.90, if we guessed the mean sales for every prediction. Remember that RMSE with the log-transformed target is equivalent to RMSLE with the original target. Try to get your error below 0.20.\n",
        "- **To validate your model, choose any one of these options:**\n",
        "  - Split the train dataframe into train and validation sets. Put all rows for a given store into the same set. Use xgboost `early_stopping_rounds` with the validation set. \n",
        "  - Or, use scikit-learn `cross_val_score`. Put all rows for a given store into the same fold.\n",
        "  - Or, use scikit-learn `RandomizedSearchCV` for hyperparameter optimization. Put all rows for a given store into the same fold.\n",
        "- **Get the Validation Error** (multiple times if you try multiple iterations) **and Test Error** (one time, at the end).\n",
        "  \n",
        "#### Stretch goal\n",
        "- Optimize 3+ hyperparameters by searching 10+ \"candidates\" (possible combinations of hyperparameters). "
      ]
    },
    {
      "cell_type": "markdown",
      "metadata": {
        "id": "hff-twau6vKK",
        "colab_type": "text"
      },
      "source": [
        "## 2.1 RandomizedSearchCV, 10 Candidates, 20 Fits"
      ]
    },
    {
      "cell_type": "code",
      "metadata": {
        "id": "kaLHbuly6vKL",
        "colab_type": "code",
        "colab": {}
      },
      "source": [
        "xgbr = XGBRegressor(random_state=45, nrounds = 'min.error.idx', eval_metric = 'rmse',\n",
        "                    verbosity=1, nthread=-1, early_stopping_rounds=8,\n",
        "                    max_depth = 3, n_estimators = 100, learning_rate=0.1)\n",
        "\n",
        "encoder = ce.OrdinalEncoder()\n",
        "xgbr_pipe = Pipeline(steps=[('encoder', encoder),\n",
        "                            ('xgbr', xgbr)])\n",
        "\n",
        "param_grid = {\n",
        "    \"xgbr__max_depth\": [3, 4, 5],\n",
        "    \"xgbr__n_estimators\": [100, 200],\n",
        "    \"xgbr__learning_rate\": [0.1, 0.3],\n",
        "}\n",
        "\n",
        "xgb_gs = RandomizedSearchCV(xgbr_pipe, param_distributions=param_grid, n_jobs=-1, cv=2, verbose=True)"
      ],
      "execution_count": 0,
      "outputs": []
    },
    {
      "cell_type": "code",
      "metadata": {
        "colab_type": "code",
        "id": "H6Iyb-jz6JtC",
        "colab": {},
        "outputId": "9123c9bb-eb3d-48dd-aa69-f0860add0fc2"
      },
      "source": [
        "xgb_gs.fit(X_train, y_train)"
      ],
      "execution_count": 0,
      "outputs": [
        {
          "output_type": "stream",
          "text": [
            "Fitting 2 folds for each of 10 candidates, totalling 20 fits\n"
          ],
          "name": "stdout"
        },
        {
          "output_type": "stream",
          "text": [
            "[Parallel(n_jobs=-1)]: Using backend LokyBackend with 8 concurrent workers.\n",
            "[Parallel(n_jobs=-1)]: Done  20 out of  20 | elapsed:   28.3s finished\n"
          ],
          "name": "stderr"
        },
        {
          "output_type": "stream",
          "text": [
            "[17:50:26] WARNING: C:/Jenkins/workspace/xgboost-win64_release_0.90/src/objective/regression_obj.cu:152: reg:linear is now deprecated in favor of reg:squarederror.\n"
          ],
          "name": "stdout"
        },
        {
          "output_type": "execute_result",
          "data": {
            "text/plain": [
              "RandomizedSearchCV(cv=2, error_score='raise-deprecating',\n",
              "                   estimator=Pipeline(memory=None,\n",
              "                                      steps=[('encoder',\n",
              "                                              OrdinalEncoder(cols=None,\n",
              "                                                             drop_invariant=False,\n",
              "                                                             handle_missing='value',\n",
              "                                                             handle_unknown='value',\n",
              "                                                             mapping=None,\n",
              "                                                             return_df=True,\n",
              "                                                             verbose=0)),\n",
              "                                             ('xgbr',\n",
              "                                              XGBRegressor(base_score=0.5,\n",
              "                                                           booster='gbtree',\n",
              "                                                           colsample_bylevel=1,\n",
              "                                                           colsample_bynode=1,\n",
              "                                                           colsample_bytree=1,\n",
              "                                                           ea...\n",
              "                                                           reg_alpha=0,\n",
              "                                                           reg_lambda=1,\n",
              "                                                           scale_pos_weight=1,\n",
              "                                                           seed=None,\n",
              "                                                           silent=None,\n",
              "                                                           subsample=1,\n",
              "                                                           verbosity=1))],\n",
              "                                      verbose=False),\n",
              "                   iid='warn', n_iter=10, n_jobs=-1,\n",
              "                   param_distributions={'xgbr__learning_rate': [0.1, 0.3],\n",
              "                                        'xgbr__max_depth': [3, 4, 5],\n",
              "                                        'xgbr__n_estimators': [100, 200]},\n",
              "                   pre_dispatch='2*n_jobs', random_state=None, refit=True,\n",
              "                   return_train_score=False, scoring=None, verbose=True)"
            ]
          },
          "metadata": {
            "tags": []
          },
          "execution_count": 23
        }
      ]
    },
    {
      "cell_type": "markdown",
      "metadata": {
        "id": "UjYxrTlb6vKU",
        "colab_type": "text"
      },
      "source": [
        "## 2.2 Validation Scores in Randomized Search"
      ]
    },
    {
      "cell_type": "code",
      "metadata": {
        "scrolled": true,
        "id": "rovr7Rv66vKU",
        "colab_type": "code",
        "colab": {},
        "outputId": "4a219a5c-0471-4086-c4a0-395ba83d3ae7"
      },
      "source": [
        "results = pd.DataFrame(xgb_gs.cv_results_)\n",
        "results[['params', 'mean_test_score', 'std_test_score']]"
      ],
      "execution_count": 0,
      "outputs": [
        {
          "output_type": "execute_result",
          "data": {
            "text/html": [
              "<div>\n",
              "<style scoped>\n",
              "    .dataframe tbody tr th:only-of-type {\n",
              "        vertical-align: middle;\n",
              "    }\n",
              "\n",
              "    .dataframe tbody tr th {\n",
              "        vertical-align: top;\n",
              "    }\n",
              "\n",
              "    .dataframe thead th {\n",
              "        text-align: right;\n",
              "    }\n",
              "</style>\n",
              "<table border=\"1\" class=\"dataframe\">\n",
              "  <thead>\n",
              "    <tr style=\"text-align: right;\">\n",
              "      <th></th>\n",
              "      <th>params</th>\n",
              "      <th>mean_test_score</th>\n",
              "      <th>std_test_score</th>\n",
              "    </tr>\n",
              "  </thead>\n",
              "  <tbody>\n",
              "    <tr>\n",
              "      <th>0</th>\n",
              "      <td>{'xgbr__n_estimators': 200, 'xgbr__max_depth':...</td>\n",
              "      <td>0.718445</td>\n",
              "      <td>0.024465</td>\n",
              "    </tr>\n",
              "    <tr>\n",
              "      <th>1</th>\n",
              "      <td>{'xgbr__n_estimators': 200, 'xgbr__max_depth':...</td>\n",
              "      <td>0.707831</td>\n",
              "      <td>0.007093</td>\n",
              "    </tr>\n",
              "    <tr>\n",
              "      <th>2</th>\n",
              "      <td>{'xgbr__n_estimators': 200, 'xgbr__max_depth':...</td>\n",
              "      <td>0.638932</td>\n",
              "      <td>0.084757</td>\n",
              "    </tr>\n",
              "    <tr>\n",
              "      <th>3</th>\n",
              "      <td>{'xgbr__n_estimators': 200, 'xgbr__max_depth':...</td>\n",
              "      <td>0.705260</td>\n",
              "      <td>0.006101</td>\n",
              "    </tr>\n",
              "    <tr>\n",
              "      <th>4</th>\n",
              "      <td>{'xgbr__n_estimators': 100, 'xgbr__max_depth':...</td>\n",
              "      <td>0.748567</td>\n",
              "      <td>0.000589</td>\n",
              "    </tr>\n",
              "    <tr>\n",
              "      <th>5</th>\n",
              "      <td>{'xgbr__n_estimators': 100, 'xgbr__max_depth':...</td>\n",
              "      <td>0.696441</td>\n",
              "      <td>0.011820</td>\n",
              "    </tr>\n",
              "    <tr>\n",
              "      <th>6</th>\n",
              "      <td>{'xgbr__n_estimators': 200, 'xgbr__max_depth':...</td>\n",
              "      <td>0.688102</td>\n",
              "      <td>0.008115</td>\n",
              "    </tr>\n",
              "    <tr>\n",
              "      <th>7</th>\n",
              "      <td>{'xgbr__n_estimators': 100, 'xgbr__max_depth':...</td>\n",
              "      <td>0.693678</td>\n",
              "      <td>0.051707</td>\n",
              "    </tr>\n",
              "    <tr>\n",
              "      <th>8</th>\n",
              "      <td>{'xgbr__n_estimators': 200, 'xgbr__max_depth':...</td>\n",
              "      <td>0.659365</td>\n",
              "      <td>0.047030</td>\n",
              "    </tr>\n",
              "    <tr>\n",
              "      <th>9</th>\n",
              "      <td>{'xgbr__n_estimators': 100, 'xgbr__max_depth':...</td>\n",
              "      <td>0.659062</td>\n",
              "      <td>0.052089</td>\n",
              "    </tr>\n",
              "  </tbody>\n",
              "</table>\n",
              "</div>"
            ],
            "text/plain": [
              "                                              params  mean_test_score  \\\n",
              "0  {'xgbr__n_estimators': 200, 'xgbr__max_depth':...         0.718445   \n",
              "1  {'xgbr__n_estimators': 200, 'xgbr__max_depth':...         0.707831   \n",
              "2  {'xgbr__n_estimators': 200, 'xgbr__max_depth':...         0.638932   \n",
              "3  {'xgbr__n_estimators': 200, 'xgbr__max_depth':...         0.705260   \n",
              "4  {'xgbr__n_estimators': 100, 'xgbr__max_depth':...         0.748567   \n",
              "5  {'xgbr__n_estimators': 100, 'xgbr__max_depth':...         0.696441   \n",
              "6  {'xgbr__n_estimators': 200, 'xgbr__max_depth':...         0.688102   \n",
              "7  {'xgbr__n_estimators': 100, 'xgbr__max_depth':...         0.693678   \n",
              "8  {'xgbr__n_estimators': 200, 'xgbr__max_depth':...         0.659365   \n",
              "9  {'xgbr__n_estimators': 100, 'xgbr__max_depth':...         0.659062   \n",
              "\n",
              "   std_test_score  \n",
              "0        0.024465  \n",
              "1        0.007093  \n",
              "2        0.084757  \n",
              "3        0.006101  \n",
              "4        0.000589  \n",
              "5        0.011820  \n",
              "6        0.008115  \n",
              "7        0.051707  \n",
              "8        0.047030  \n",
              "9        0.052089  "
            ]
          },
          "metadata": {
            "tags": []
          },
          "execution_count": 24
        }
      ]
    },
    {
      "cell_type": "code",
      "metadata": {
        "id": "vmo_FHzJ6vKX",
        "colab_type": "code",
        "colab": {},
        "outputId": "b2073ce1-4903-4c57-a0c8-dc9b621e5866"
      },
      "source": [
        "sns.lineplot(x=\"rank_test_score\", y=\"mean_test_score\", data=results);"
      ],
      "execution_count": 0,
      "outputs": [
        {
          "output_type": "display_data",
          "data": {
            "image/png": "[encoded data removed]",
            "text/plain": [
              "<Figure size 432x288 with 1 Axes>"
            ]
          },
          "metadata": {
            "tags": [],
            "needs_background": "light"
          }
        }
      ]
    },
    {
      "cell_type": "markdown",
      "metadata": {
        "id": "5opCWW-q6vKc",
        "colab_type": "text"
      },
      "source": [
        "## 2.3 Test Score"
      ]
    },
    {
      "cell_type": "code",
      "metadata": {
        "id": "OxFik3ji6vKd",
        "colab_type": "code",
        "colab": {},
        "outputId": "7a135a68-9896-44eb-d761-1d385262c426"
      },
      "source": [
        "# Since we already log transformed y_test, both y_test and y_pred are log-transformed\n",
        "# thus their root-mean-squared error is the same as their root-mean-squared log error  \n",
        "# in normal space.\n",
        "y_pred = xgb_gs.predict(X_test)\n",
        "print(np.sqrt(mean_squared_error(y_test, y_pred)))"
      ],
      "execution_count": 0,
      "outputs": [
        {
          "output_type": "stream",
          "text": [
            "0.14556220261358613\n"
          ],
          "name": "stdout"
        }
      ]
    },
    {
      "cell_type": "code",
      "metadata": {
        "id": "tKnhfGXv6vKh",
        "colab_type": "code",
        "colab": {},
        "outputId": "349c04ea-9ba5-4952-ac8c-f25181f8a4bb"
      },
      "source": [
        "xgb_gs.best_params_"
      ],
      "execution_count": 0,
      "outputs": [
        {
          "output_type": "execute_result",
          "data": {
            "text/plain": [
              "{'xgbr__n_estimators': 100, 'xgbr__max_depth': 3, 'xgbr__learning_rate': 0.1}"
            ]
          },
          "metadata": {
            "tags": []
          },
          "execution_count": 27
        }
      ]
    },
    {
      "cell_type": "code",
      "metadata": {
        "id": "CSQd3TUl6vKk",
        "colab_type": "code",
        "colab": {},
        "outputId": "eef02dd4-16ed-42c6-ca02-6d3a10f9deb7"
      },
      "source": [
        "xgb_gs.best_score_"
      ],
      "execution_count": 0,
      "outputs": [
        {
          "output_type": "execute_result",
          "data": {
            "text/plain": [
              "0.7485666701377173"
            ]
          },
          "metadata": {
            "tags": []
          },
          "execution_count": 28
        }
      ]
    },
    {
      "cell_type": "code",
      "metadata": {
        "id": "6M04sVPu6vKn",
        "colab_type": "code",
        "colab": {}
      },
      "source": [
        "model = xgb_gs.best_estimator_ "
      ],
      "execution_count": 0,
      "outputs": []
    },
    {
      "cell_type": "code",
      "metadata": {
        "id": "wbZFdQnH6vKq",
        "colab_type": "code",
        "colab": {},
        "outputId": "e86de9d8-3404-419b-cece-438ec03a9c5b"
      },
      "source": [
        "y_pred = model.predict(X_test)\n",
        "print(np.sqrt(mean_squared_error(y_test, y_pred)))"
      ],
      "execution_count": 0,
      "outputs": [
        {
          "output_type": "stream",
          "text": [
            "0.14556220261358613\n"
          ],
          "name": "stdout"
        }
      ]
    },
    {
      "cell_type": "markdown",
      "metadata": {
        "colab_type": "text",
        "id": "ysMSkZqx6JtE"
      },
      "source": [
        "## 3. Plot model interpretation visualizations\n",
        "- Choose any one of these options:\n",
        "  - Permutation Importances plot\n",
        "  - Partial Dependency Plot, 1 feature isolation\n",
        "  - Partial Dependency Plot, 2 feature interaction\n",
        "  \n",
        "#### Stretch goals\n",
        "- Plot 2+ visualizations.\n",
        "- Use permutation importances for feature selection. "
      ]
    },
    {
      "cell_type": "code",
      "metadata": {
        "id": "_l06s8di6vKu",
        "colab_type": "code",
        "colab": {},
        "outputId": "cdc886b7-4ec8-4642-a2be-6e16d63b47d9"
      },
      "source": [
        "permuter = PermutationImportance(model, scoring='neg_mean_squared_error', \n",
        "                                 cv='prefit', n_iter=2, random_state=45)\n",
        "#encoder.transform(\n",
        "permuter.fit(encoder.fit_transform(X_train), y_train)\n",
        "feature_names = X_train.columns.to_list()\n",
        "show_weights(permuter, top=None, feature_names=feature_names)"
      ],
      "execution_count": 0,
      "outputs": [
        {
          "output_type": "execute_result",
          "data": {
            "text/html": [
              "\n",
              "    <style>\n",
              "    table.eli5-weights tr:hover {\n",
              "        filter: brightness(85%);\n",
              "    }\n",
              "</style>\n",
              "\n",
              "\n",
              "\n",
              "    \n",
              "\n",
              "    \n",
              "\n",
              "    \n",
              "\n",
              "    \n",
              "\n",
              "    \n",
              "\n",
              "    \n",
              "\n",
              "\n",
              "    \n",
              "\n",
              "    \n",
              "\n",
              "    \n",
              "\n",
              "    \n",
              "\n",
              "    \n",
              "\n",
              "    \n",
              "\n",
              "\n",
              "    \n",
              "\n",
              "    \n",
              "\n",
              "    \n",
              "\n",
              "    \n",
              "\n",
              "    \n",
              "        <table class=\"eli5-weights eli5-feature-importances\" style=\"border-collapse: collapse; border: none; margin-top: 0em; table-layout: auto;\">\n",
              "    <thead>\n",
              "    <tr style=\"border: none;\">\n",
              "        <th style=\"padding: 0 1em 0 0.5em; text-align: right; border: none;\">Weight</th>\n",
              "        <th style=\"padding: 0 0.5em 0 0.5em; text-align: left; border: none;\">Feature</th>\n",
              "    </tr>\n",
              "    </thead>\n",
              "    <tbody>\n",
              "    \n",
              "        <tr style=\"background-color: hsl(120, 100.00%, 80.00%); border: none;\">\n",
              "            <td style=\"padding: 0 1em 0 0.5em; text-align: right; border: none;\">\n",
              "                0.2105\n",
              "                \n",
              "                    &plusmn; 0.0009\n",
              "                \n",
              "            </td>\n",
              "            <td style=\"padding: 0 0.5em 0 0.5em; text-align: left; border: none;\">\n",
              "                Customers\n",
              "            </td>\n",
              "        </tr>\n",
              "    \n",
              "        <tr style=\"background-color: hsl(120, 100.00%, 97.64%); border: none;\">\n",
              "            <td style=\"padding: 0 1em 0 0.5em; text-align: right; border: none;\">\n",
              "                0.0099\n",
              "                \n",
              "                    &plusmn; 0.0000\n",
              "                \n",
              "            </td>\n",
              "            <td style=\"padding: 0 0.5em 0 0.5em; text-align: left; border: none;\">\n",
              "                Promo\n",
              "            </td>\n",
              "        </tr>\n",
              "    \n",
              "        <tr style=\"background-color: hsl(120, 100.00%, 97.69%); border: none;\">\n",
              "            <td style=\"padding: 0 1em 0 0.5em; text-align: right; border: none;\">\n",
              "                0.0097\n",
              "                \n",
              "                    &plusmn; 0.0001\n",
              "                \n",
              "            </td>\n",
              "            <td style=\"padding: 0 0.5em 0 0.5em; text-align: left; border: none;\">\n",
              "                Store\n",
              "            </td>\n",
              "        </tr>\n",
              "    \n",
              "        <tr style=\"background-color: hsl(120, 100.00%, 98.43%); border: none;\">\n",
              "            <td style=\"padding: 0 1em 0 0.5em; text-align: right; border: none;\">\n",
              "                0.0056\n",
              "                \n",
              "                    &plusmn; 0.0000\n",
              "                \n",
              "            </td>\n",
              "            <td style=\"padding: 0 0.5em 0 0.5em; text-align: left; border: none;\">\n",
              "                CompetitionDistance\n",
              "            </td>\n",
              "        </tr>\n",
              "    \n",
              "        <tr style=\"background-color: hsl(120, 100.00%, 98.98%); border: none;\">\n",
              "            <td style=\"padding: 0 1em 0 0.5em; text-align: right; border: none;\">\n",
              "                0.0030\n",
              "                \n",
              "                    &plusmn; 0.0000\n",
              "                \n",
              "            </td>\n",
              "            <td style=\"padding: 0 0.5em 0 0.5em; text-align: left; border: none;\">\n",
              "                CompetitionOpenSinceYear\n",
              "            </td>\n",
              "        </tr>\n",
              "    \n",
              "        <tr style=\"background-color: hsl(120, 100.00%, 99.43%); border: none;\">\n",
              "            <td style=\"padding: 0 1em 0 0.5em; text-align: right; border: none;\">\n",
              "                0.0013\n",
              "                \n",
              "                    &plusmn; 0.0000\n",
              "                \n",
              "            </td>\n",
              "            <td style=\"padding: 0 0.5em 0 0.5em; text-align: left; border: none;\">\n",
              "                DayOfWeek\n",
              "            </td>\n",
              "        </tr>\n",
              "    \n",
              "        <tr style=\"background-color: hsl(120, 100.00%, 99.69%); border: none;\">\n",
              "            <td style=\"padding: 0 1em 0 0.5em; text-align: right; border: none;\">\n",
              "                0.0005\n",
              "                \n",
              "                    &plusmn; 0.0000\n",
              "                \n",
              "            </td>\n",
              "            <td style=\"padding: 0 0.5em 0 0.5em; text-align: left; border: none;\">\n",
              "                Promo2\n",
              "            </td>\n",
              "        </tr>\n",
              "    \n",
              "        <tr style=\"background-color: hsl(120, 100.00%, 99.81%); border: none;\">\n",
              "            <td style=\"padding: 0 1em 0 0.5em; text-align: right; border: none;\">\n",
              "                0.0003\n",
              "                \n",
              "                    &plusmn; 0.0000\n",
              "                \n",
              "            </td>\n",
              "            <td style=\"padding: 0 0.5em 0 0.5em; text-align: left; border: none;\">\n",
              "                CompetitionOpenSinceMonth\n",
              "            </td>\n",
              "        </tr>\n",
              "    \n",
              "        <tr style=\"background-color: hsl(120, 100.00%, 99.94%); border: none;\">\n",
              "            <td style=\"padding: 0 1em 0 0.5em; text-align: right; border: none;\">\n",
              "                0.0001\n",
              "                \n",
              "                    &plusmn; 0.0000\n",
              "                \n",
              "            </td>\n",
              "            <td style=\"padding: 0 0.5em 0 0.5em; text-align: left; border: none;\">\n",
              "                SchoolHoliday\n",
              "            </td>\n",
              "        </tr>\n",
              "    \n",
              "        <tr style=\"background-color: hsl(0, 100.00%, 100.00%); border: none;\">\n",
              "            <td style=\"padding: 0 1em 0 0.5em; text-align: right; border: none;\">\n",
              "                0\n",
              "                \n",
              "                    &plusmn; 0.0000\n",
              "                \n",
              "            </td>\n",
              "            <td style=\"padding: 0 0.5em 0 0.5em; text-align: left; border: none;\">\n",
              "                Assortment\n",
              "            </td>\n",
              "        </tr>\n",
              "    \n",
              "        <tr style=\"background-color: hsl(0, 100.00%, 100.00%); border: none;\">\n",
              "            <td style=\"padding: 0 1em 0 0.5em; text-align: right; border: none;\">\n",
              "                0\n",
              "                \n",
              "                    &plusmn; 0.0000\n",
              "                \n",
              "            </td>\n",
              "            <td style=\"padding: 0 0.5em 0 0.5em; text-align: left; border: none;\">\n",
              "                StoreType\n",
              "            </td>\n",
              "        </tr>\n",
              "    \n",
              "    \n",
              "    </tbody>\n",
              "</table>\n",
              "    \n",
              "\n",
              "    \n",
              "\n",
              "\n",
              "    \n",
              "\n",
              "    \n",
              "\n",
              "    \n",
              "\n",
              "    \n",
              "\n",
              "    \n",
              "\n",
              "    \n",
              "\n",
              "\n",
              "\n"
            ],
            "text/plain": [
              "<IPython.core.display.HTML object>"
            ]
          },
          "metadata": {
            "tags": []
          },
          "execution_count": 33
        }
      ]
    },
    {
      "cell_type": "code",
      "metadata": {
        "id": "iBquzclh6vKw",
        "colab_type": "code",
        "colab": {},
        "outputId": "190c2949-f32a-493e-faaf-9aca41cd7e7e"
      },
      "source": [
        "# Log Sales vs number of customers.\n",
        "\n",
        "feature = 'Customers'\n",
        "\n",
        "isolated = pdp_isolate(\n",
        "    model=xgb_gs, \n",
        "    dataset=X_test, \n",
        "    model_features=X_test.columns, \n",
        "    feature=feature\n",
        ")\n",
        "\n",
        "pdp_plot(isolated, feature_name=feature);"
      ],
      "execution_count": 0,
      "outputs": [
        {
          "output_type": "display_data",
          "data": {
            "image/png": "[encoded data removed]",
            "text/plain": [
              "<Figure size 1080x684 with 2 Axes>"
            ]
          },
          "metadata": {
            "tags": [],
            "needs_background": "light"
          }
        }
      ]
    },
    {
      "cell_type": "code",
      "metadata": {
        "id": "b4puPClc6vKz",
        "colab_type": "code",
        "colab": {}
      },
      "source": [
        ""
      ],
      "execution_count": 0,
      "outputs": []
    },
    {
      "cell_type": "code",
      "metadata": {
        "id": "b5uxymiq6vK0",
        "colab_type": "code",
        "colab": {}
      },
      "source": [
        ""
      ],
      "execution_count": 0,
      "outputs": []
    }
  ]
}