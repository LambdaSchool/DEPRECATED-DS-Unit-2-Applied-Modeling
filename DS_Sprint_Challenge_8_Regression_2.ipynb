{
  "nbformat": 4,
  "nbformat_minor": 0,
  "metadata": {
    "colab": {
      "name": "DS_Sprint_Challenge_8_Regression_2.ipynb",
      "version": "0.3.2",
      "provenance": [],
      "include_colab_link": true
    },
    "language_info": {
      "codemirror_mode": {
        "name": "ipython",
        "version": 3
      },
      "file_extension": ".py",
      "mimetype": "text/x-python",
      "name": "python",
      "nbconvert_exporter": "python",
      "pygments_lexer": "ipython3",
      "version": "3.7.1"
    },
    "kernelspec": {
      "display_name": "Python 3",
      "language": "python",
      "name": "python3"
    }
  },
  "cells": [
    {
      "cell_type": "markdown",
      "metadata": {
        "id": "view-in-github",
        "colab_type": "text"
      },
      "source": [
        "<a href=\"https://colab.research.google.com/github/ElisabethShah/DS-Unit-2-Applied-Modeling/blob/master/DS_Sprint_Challenge_8_Regression_2.ipynb\" target=\"_parent\"><img src=\"https://colab.research.google.com/assets/colab-badge.svg\" alt=\"Open In Colab\"/></a>"
      ]
    },
    {
      "cell_type": "markdown",
      "metadata": {
        "id": "rPh-uurrzprt",
        "colab_type": "text"
      },
      "source": [
        "_Lambda School Data Science, Unit 2_\n",
        " \n",
        "# Regression 2 Sprint Challenge: Predict drugstore sales 🏥\n",
        "\n",
        "For your Sprint Challenge, you'll use real-world sales data from a German drugstore chain, from Jan 2, 2013 — July 31, 2015.\n",
        "\n",
        "You are given three dataframes:\n",
        "\n",
        "- `train`: historical sales data for 100 stores\n",
        "- `test`: historical sales data for 100 different stores\n",
        "- `store`: supplemental information about the stores\n",
        "\n",
        "\n",
        "The train and test set do _not_ have different date ranges. But they _do_ have different store ids. Your task is _not_ to forecast future sales from past sales. **Your task is to predict sales at unknown stores, from sales at known stores.**"
      ]
    },
    {
      "cell_type": "markdown",
      "metadata": {
        "id": "PrvIj4olzprv",
        "colab_type": "text"
      },
      "source": [
        "The dataframes have a variety of columns:\n",
        "\n",
        "- **Store** - a unique Id for each store\n",
        "- **DayOfWeek** - integer, 1-6\n",
        "- **Date** - the date, from Jan 2, 2013 — July 31, 2015.\n",
        "- **Sales** - the units of inventory sold on a given date (this is the target you are predicting)\n",
        "- **Customers** - the number of customers on a given date\n",
        "- **Promo** - indicates whether a store is running a promo on that day\n",
        "- **SchoolHoliday** - indicates the closure of public schools\n",
        "- **StoreType** - differentiates between 4 different store models: a, b, c, d\n",
        "- **Assortment** - describes an assortment level: a = basic, b = extra, c = extended\n",
        "- **CompetitionDistance** - distance in meters to the nearest competitor store\n",
        "- **CompetitionOpenSince[Month/Year]** - gives the approximate year and month of the time the nearest competitor was opened\n",
        "- **Promo2** - Promo2 is a continuing and consecutive promotion for some stores: 0 = store is not participating, 1 = store is participating\n",
        "- **Promo2Since[Year/Week]** - describes the year and calendar week when the store started participating in Promo2\n",
        "- **PromoInterval** - describes the consecutive intervals Promo2 is started, naming the months the promotion is started anew. E.g. \"Feb,May,Aug,Nov\" means each round starts in February, May, August, November of any given year for that store"
      ]
    },
    {
      "cell_type": "markdown",
      "metadata": {
        "id": "Txb785Qdzprw",
        "colab_type": "text"
      },
      "source": [
        "This Sprint Challenge has three parts. To demonstrate mastery on each part, do all the required instructions. To earn a score of \"3\" for the part, also do the stretch goals."
      ]
    },
    {
      "cell_type": "markdown",
      "metadata": {
        "id": "rrO68oUwZmph",
        "colab_type": "text"
      },
      "source": [
        "## Setup"
      ]
    },
    {
      "cell_type": "markdown",
      "metadata": {
        "id": "8oCeA-D-j7XQ",
        "colab_type": "text"
      },
      "source": [
        "### Install dependencies"
      ]
    },
    {
      "cell_type": "code",
      "metadata": {
        "id": "aqPznQBAj7tC",
        "colab_type": "code",
        "colab": {
          "base_uri": "https://localhost:8080/",
          "height": 331
        },
        "outputId": "b4548da7-b459-400c-dd3d-cd58dc815acb"
      },
      "source": [
        "!pip install eli5"
      ],
      "execution_count": 37,
      "outputs": [
        {
          "output_type": "stream",
          "text": [
            "Collecting eli5\n",
            "\u001b[?25l  Downloading https://files.pythonhosted.org/packages/73/cb/e773ec38d6d8b48b18537020e7782ac038581b52047d41b6500135e4bdc7/eli5-0.9.0-py2.py3-none-any.whl (94kB)\n",
            "\u001b[K     |████████████████████████████████| 102kB 6.1MB/s \n",
            "\u001b[?25hRequirement already satisfied: typing in /usr/local/lib/python3.6/dist-packages (from eli5) (3.7.4)\n",
            "Requirement already satisfied: numpy>=1.9.0 in /usr/local/lib/python3.6/dist-packages (from eli5) (1.16.4)\n",
            "Requirement already satisfied: scipy in /usr/local/lib/python3.6/dist-packages (from eli5) (1.3.1)\n",
            "Requirement already satisfied: scikit-learn>=0.18 in /usr/local/lib/python3.6/dist-packages (from eli5) (0.21.3)\n",
            "Requirement already satisfied: six in /usr/local/lib/python3.6/dist-packages (from eli5) (1.12.0)\n",
            "Requirement already satisfied: jinja2 in /usr/local/lib/python3.6/dist-packages (from eli5) (2.10.1)\n",
            "Requirement already satisfied: attrs>16.0.0 in /usr/local/lib/python3.6/dist-packages (from eli5) (19.1.0)\n",
            "Requirement already satisfied: tabulate>=0.7.7 in /usr/local/lib/python3.6/dist-packages (from eli5) (0.8.3)\n",
            "Requirement already satisfied: graphviz in /usr/local/lib/python3.6/dist-packages (from eli5) (0.10.1)\n",
            "Requirement already satisfied: joblib>=0.11 in /usr/local/lib/python3.6/dist-packages (from scikit-learn>=0.18->eli5) (0.13.2)\n",
            "Requirement already satisfied: MarkupSafe>=0.23 in /usr/local/lib/python3.6/dist-packages (from jinja2->eli5) (1.1.1)\n",
            "Installing collected packages: eli5\n",
            "Successfully installed eli5-0.9.0\n"
          ],
          "name": "stdout"
        }
      ]
    },
    {
      "cell_type": "markdown",
      "metadata": {
        "id": "MBGkcRbGZpch",
        "colab_type": "text"
      },
      "source": [
        "### Import libraries"
      ]
    },
    {
      "cell_type": "code",
      "metadata": {
        "id": "gOw655EFZZen",
        "colab_type": "code",
        "colab": {}
      },
      "source": [
        "import eli5\n",
        "import numpy as np\n",
        "import pandas as pd\n",
        "import seaborn as sns\n",
        "\n",
        "from sklearn.impute import SimpleImputer\n",
        "from sklearn.linear_model import LinearRegression\n",
        "from sklearn.metrics import mean_squared_error, mean_squared_log_error\n",
        "from sklearn.model_selection import train_test_split"
      ],
      "execution_count": 0,
      "outputs": []
    },
    {
      "cell_type": "markdown",
      "metadata": {
        "id": "o1KMi91fZvnn",
        "colab_type": "text"
      },
      "source": [
        "### Define utility functions"
      ]
    },
    {
      "cell_type": "code",
      "metadata": {
        "id": "9EBymUyDZyX5",
        "colab_type": "code",
        "colab": {}
      },
      "source": [
        "def rmse(y_true, y_pred):\n",
        "  \"\"\"\n",
        "  Calculate root mean squared error.\n",
        "  \"\"\"\n",
        "  return np.sqrt(mean_squared_error(y_true, y_pred))\n",
        "\n",
        "def rmsle(y_true, y_pred):\n",
        "  \"\"\"\n",
        "  Calculate root mean squared log error.\n",
        "  \"\"\"\n",
        "  return np.sqrt(mean_squared_log_error(y_true, y_pred))"
      ],
      "execution_count": 0,
      "outputs": []
    },
    {
      "cell_type": "code",
      "metadata": {
        "id": "gw4qV90xkJuw",
        "colab_type": "code",
        "colab": {}
      },
      "source": [
        "def custom_scorer(estimator, X, y_true):\n",
        "  \"\"\"\n",
        "  Return negative root mean square error (for maximization).\n",
        "  \"\"\"\n",
        "  y_pred = estimator.predict(X)\n",
        "  return -rmse(y_true, y_pred)"
      ],
      "execution_count": 0,
      "outputs": []
    },
    {
      "cell_type": "markdown",
      "metadata": {
        "id": "dZXtvXgHZvYu",
        "colab_type": "text"
      },
      "source": [
        "### Load data"
      ]
    },
    {
      "cell_type": "code",
      "metadata": {
        "id": "jKOFk_6nzpru",
        "colab_type": "code",
        "colab": {}
      },
      "source": [
        "trainval = pd.read_csv('https://drive.google.com/uc?export=download'\n",
        "                       '&id=1E9rgiGf1f_WL2S4-V6gD7ZhB8r8Yb_lE')\n",
        "test = pd.read_csv('https://drive.google.com/uc?export=download'\n",
        "                   '&id=1vkaVptn4TTYC9-YPZvbvmfDNHVR8aUml')\n",
        "store = pd.read_csv('https://drive.google.com/uc?export=download'\n",
        "                    '&id=1rZD-V1mWydeytptQfr-NL7dBqre6lZMo')\n",
        "\n",
        "# Verify data dimensions.\n",
        "assert trainval.shape == (78400, 7)\n",
        "assert test.shape == (78400, 7)\n",
        "assert store.shape == (200, 10)"
      ],
      "execution_count": 0,
      "outputs": []
    },
    {
      "cell_type": "markdown",
      "metadata": {
        "id": "cehVFkF4ambH",
        "colab_type": "text"
      },
      "source": [
        "## Split into training and validation sets"
      ]
    },
    {
      "cell_type": "code",
      "metadata": {
        "id": "0FdAkekEatBw",
        "colab_type": "code",
        "colab": {
          "base_uri": "https://localhost:8080/",
          "height": 35
        },
        "outputId": "d8a599ad-db25-4959-856c-40127144da08"
      },
      "source": [
        "trainval['Store'].nunique()"
      ],
      "execution_count": 4,
      "outputs": [
        {
          "output_type": "execute_result",
          "data": {
            "text/plain": [
              "100"
            ]
          },
          "metadata": {
            "tags": []
          },
          "execution_count": 4
        }
      ]
    },
    {
      "cell_type": "code",
      "metadata": {
        "id": "24DfmCyBays3",
        "colab_type": "code",
        "colab": {}
      },
      "source": [
        "train_stores, val_stores = train_test_split(trainval['Store'].unique(), \n",
        "                                            random_state=0)"
      ],
      "execution_count": 0,
      "outputs": []
    },
    {
      "cell_type": "code",
      "metadata": {
        "id": "cvB8ojQzayqn",
        "colab_type": "code",
        "colab": {
          "base_uri": "https://localhost:8080/",
          "height": 35
        },
        "outputId": "58324c9b-ffae-4dce-8174-c3806a73673a"
      },
      "source": [
        "train_stores.shape, val_stores.shape"
      ],
      "execution_count": 6,
      "outputs": [
        {
          "output_type": "execute_result",
          "data": {
            "text/plain": [
              "((75,), (25,))"
            ]
          },
          "metadata": {
            "tags": []
          },
          "execution_count": 6
        }
      ]
    },
    {
      "cell_type": "code",
      "metadata": {
        "id": "AHZVm_A3aynv",
        "colab_type": "code",
        "colab": {
          "base_uri": "https://localhost:8080/",
          "height": 35
        },
        "outputId": "f02f7ed4-957c-4715-9424-2cebcebd9d76"
      },
      "source": [
        "train = trainval[trainval['Store'].isin(train_stores)]\n",
        "val = trainval[trainval['Store'].isin(val_stores)]\n",
        "\n",
        "train.shape, val.shape"
      ],
      "execution_count": 7,
      "outputs": [
        {
          "output_type": "execute_result",
          "data": {
            "text/plain": [
              "((58800, 7), (19600, 7))"
            ]
          },
          "metadata": {
            "tags": []
          },
          "execution_count": 7
        }
      ]
    },
    {
      "cell_type": "markdown",
      "metadata": {
        "id": "SXYd-wLYapgm",
        "colab_type": "text"
      },
      "source": [
        "## Data Exploration"
      ]
    },
    {
      "cell_type": "markdown",
      "metadata": {
        "id": "lWJndnAibQvB",
        "colab_type": "text"
      },
      "source": [
        "#### Sales table"
      ]
    },
    {
      "cell_type": "code",
      "metadata": {
        "id": "4G3HNcRMayZg",
        "colab_type": "code",
        "colab": {
          "base_uri": "https://localhost:8080/",
          "height": 206
        },
        "outputId": "8c7b3103-2137-4e11-e27b-f4d2c1b898fe"
      },
      "source": [
        "# Preview data.\n",
        "train.head()"
      ],
      "execution_count": 8,
      "outputs": [
        {
          "output_type": "execute_result",
          "data": {
            "text/html": [
              "<div>\n",
              "<style scoped>\n",
              "    .dataframe tbody tr th:only-of-type {\n",
              "        vertical-align: middle;\n",
              "    }\n",
              "\n",
              "    .dataframe tbody tr th {\n",
              "        vertical-align: top;\n",
              "    }\n",
              "\n",
              "    .dataframe thead th {\n",
              "        text-align: right;\n",
              "    }\n",
              "</style>\n",
              "<table border=\"1\" class=\"dataframe\">\n",
              "  <thead>\n",
              "    <tr style=\"text-align: right;\">\n",
              "      <th></th>\n",
              "      <th>Store</th>\n",
              "      <th>DayOfWeek</th>\n",
              "      <th>Date</th>\n",
              "      <th>Sales</th>\n",
              "      <th>Customers</th>\n",
              "      <th>Promo</th>\n",
              "      <th>SchoolHoliday</th>\n",
              "    </tr>\n",
              "  </thead>\n",
              "  <tbody>\n",
              "    <tr>\n",
              "      <th>0</th>\n",
              "      <td>4</td>\n",
              "      <td>5</td>\n",
              "      <td>2015-07-31</td>\n",
              "      <td>13995</td>\n",
              "      <td>1498</td>\n",
              "      <td>1</td>\n",
              "      <td>1</td>\n",
              "    </tr>\n",
              "    <tr>\n",
              "      <th>1</th>\n",
              "      <td>8</td>\n",
              "      <td>5</td>\n",
              "      <td>2015-07-31</td>\n",
              "      <td>8492</td>\n",
              "      <td>833</td>\n",
              "      <td>1</td>\n",
              "      <td>1</td>\n",
              "    </tr>\n",
              "    <tr>\n",
              "      <th>4</th>\n",
              "      <td>34</td>\n",
              "      <td>5</td>\n",
              "      <td>2015-07-31</td>\n",
              "      <td>11144</td>\n",
              "      <td>1162</td>\n",
              "      <td>1</td>\n",
              "      <td>1</td>\n",
              "    </tr>\n",
              "    <tr>\n",
              "      <th>5</th>\n",
              "      <td>44</td>\n",
              "      <td>5</td>\n",
              "      <td>2015-07-31</td>\n",
              "      <td>6670</td>\n",
              "      <td>665</td>\n",
              "      <td>1</td>\n",
              "      <td>1</td>\n",
              "    </tr>\n",
              "    <tr>\n",
              "      <th>6</th>\n",
              "      <td>48</td>\n",
              "      <td>5</td>\n",
              "      <td>2015-07-31</td>\n",
              "      <td>3874</td>\n",
              "      <td>390</td>\n",
              "      <td>1</td>\n",
              "      <td>1</td>\n",
              "    </tr>\n",
              "  </tbody>\n",
              "</table>\n",
              "</div>"
            ],
            "text/plain": [
              "   Store  DayOfWeek        Date  Sales  Customers  Promo  SchoolHoliday\n",
              "0      4          5  2015-07-31  13995       1498      1              1\n",
              "1      8          5  2015-07-31   8492        833      1              1\n",
              "4     34          5  2015-07-31  11144       1162      1              1\n",
              "5     44          5  2015-07-31   6670        665      1              1\n",
              "6     48          5  2015-07-31   3874        390      1              1"
            ]
          },
          "metadata": {
            "tags": []
          },
          "execution_count": 8
        }
      ]
    },
    {
      "cell_type": "code",
      "metadata": {
        "id": "y6s2AsPaapHg",
        "colab_type": "code",
        "colab": {
          "base_uri": "https://localhost:8080/",
          "height": 164
        },
        "outputId": "837af177-dedf-4afc-f959-11f6d4b71d51"
      },
      "source": [
        "# Check data types.\n",
        "train.dtypes"
      ],
      "execution_count": 9,
      "outputs": [
        {
          "output_type": "execute_result",
          "data": {
            "text/plain": [
              "Store             int64\n",
              "DayOfWeek         int64\n",
              "Date             object\n",
              "Sales             int64\n",
              "Customers         int64\n",
              "Promo             int64\n",
              "SchoolHoliday     int64\n",
              "dtype: object"
            ]
          },
          "metadata": {
            "tags": []
          },
          "execution_count": 9
        }
      ]
    },
    {
      "cell_type": "code",
      "metadata": {
        "id": "l5myqchwbJ1x",
        "colab_type": "code",
        "colab": {
          "base_uri": "https://localhost:8080/",
          "height": 394
        },
        "outputId": "dcd42357-8f0a-44eb-b0f6-b5e827691b3b"
      },
      "source": [
        "# Examine summary statistics.\n",
        "train.describe(include='all')"
      ],
      "execution_count": 10,
      "outputs": [
        {
          "output_type": "execute_result",
          "data": {
            "text/html": [
              "<div>\n",
              "<style scoped>\n",
              "    .dataframe tbody tr th:only-of-type {\n",
              "        vertical-align: middle;\n",
              "    }\n",
              "\n",
              "    .dataframe tbody tr th {\n",
              "        vertical-align: top;\n",
              "    }\n",
              "\n",
              "    .dataframe thead th {\n",
              "        text-align: right;\n",
              "    }\n",
              "</style>\n",
              "<table border=\"1\" class=\"dataframe\">\n",
              "  <thead>\n",
              "    <tr style=\"text-align: right;\">\n",
              "      <th></th>\n",
              "      <th>Store</th>\n",
              "      <th>DayOfWeek</th>\n",
              "      <th>Date</th>\n",
              "      <th>Sales</th>\n",
              "      <th>Customers</th>\n",
              "      <th>Promo</th>\n",
              "      <th>SchoolHoliday</th>\n",
              "    </tr>\n",
              "  </thead>\n",
              "  <tbody>\n",
              "    <tr>\n",
              "      <th>count</th>\n",
              "      <td>58800.000000</td>\n",
              "      <td>58800.000000</td>\n",
              "      <td>58800</td>\n",
              "      <td>58800.000000</td>\n",
              "      <td>58800.000000</td>\n",
              "      <td>58800.000000</td>\n",
              "      <td>58800.000000</td>\n",
              "    </tr>\n",
              "    <tr>\n",
              "      <th>unique</th>\n",
              "      <td>NaN</td>\n",
              "      <td>NaN</td>\n",
              "      <td>784</td>\n",
              "      <td>NaN</td>\n",
              "      <td>NaN</td>\n",
              "      <td>NaN</td>\n",
              "      <td>NaN</td>\n",
              "    </tr>\n",
              "    <tr>\n",
              "      <th>top</th>\n",
              "      <td>NaN</td>\n",
              "      <td>NaN</td>\n",
              "      <td>2014-08-20</td>\n",
              "      <td>NaN</td>\n",
              "      <td>NaN</td>\n",
              "      <td>NaN</td>\n",
              "      <td>NaN</td>\n",
              "    </tr>\n",
              "    <tr>\n",
              "      <th>freq</th>\n",
              "      <td>NaN</td>\n",
              "      <td>NaN</td>\n",
              "      <td>75</td>\n",
              "      <td>NaN</td>\n",
              "      <td>NaN</td>\n",
              "      <td>NaN</td>\n",
              "      <td>NaN</td>\n",
              "    </tr>\n",
              "    <tr>\n",
              "      <th>mean</th>\n",
              "      <td>557.226667</td>\n",
              "      <td>3.506378</td>\n",
              "      <td>NaN</td>\n",
              "      <td>7013.920357</td>\n",
              "      <td>825.035561</td>\n",
              "      <td>0.450255</td>\n",
              "      <td>0.195595</td>\n",
              "    </tr>\n",
              "    <tr>\n",
              "      <th>std</th>\n",
              "      <td>320.263225</td>\n",
              "      <td>1.710564</td>\n",
              "      <td>NaN</td>\n",
              "      <td>2849.244395</td>\n",
              "      <td>314.173058</td>\n",
              "      <td>0.497524</td>\n",
              "      <td>0.396662</td>\n",
              "    </tr>\n",
              "    <tr>\n",
              "      <th>min</th>\n",
              "      <td>4.000000</td>\n",
              "      <td>1.000000</td>\n",
              "      <td>NaN</td>\n",
              "      <td>1712.000000</td>\n",
              "      <td>208.000000</td>\n",
              "      <td>0.000000</td>\n",
              "      <td>0.000000</td>\n",
              "    </tr>\n",
              "    <tr>\n",
              "      <th>25%</th>\n",
              "      <td>270.000000</td>\n",
              "      <td>2.000000</td>\n",
              "      <td>NaN</td>\n",
              "      <td>4997.000000</td>\n",
              "      <td>600.000000</td>\n",
              "      <td>0.000000</td>\n",
              "      <td>0.000000</td>\n",
              "    </tr>\n",
              "    <tr>\n",
              "      <th>50%</th>\n",
              "      <td>551.000000</td>\n",
              "      <td>3.000000</td>\n",
              "      <td>NaN</td>\n",
              "      <td>6374.000000</td>\n",
              "      <td>759.000000</td>\n",
              "      <td>0.000000</td>\n",
              "      <td>0.000000</td>\n",
              "    </tr>\n",
              "    <tr>\n",
              "      <th>75%</th>\n",
              "      <td>839.000000</td>\n",
              "      <td>5.000000</td>\n",
              "      <td>NaN</td>\n",
              "      <td>8360.000000</td>\n",
              "      <td>989.000000</td>\n",
              "      <td>1.000000</td>\n",
              "      <td>0.000000</td>\n",
              "    </tr>\n",
              "    <tr>\n",
              "      <th>max</th>\n",
              "      <td>1113.000000</td>\n",
              "      <td>6.000000</td>\n",
              "      <td>NaN</td>\n",
              "      <td>26914.000000</td>\n",
              "      <td>2780.000000</td>\n",
              "      <td>1.000000</td>\n",
              "      <td>1.000000</td>\n",
              "    </tr>\n",
              "  </tbody>\n",
              "</table>\n",
              "</div>"
            ],
            "text/plain": [
              "               Store     DayOfWeek  ...         Promo  SchoolHoliday\n",
              "count   58800.000000  58800.000000  ...  58800.000000   58800.000000\n",
              "unique           NaN           NaN  ...           NaN            NaN\n",
              "top              NaN           NaN  ...           NaN            NaN\n",
              "freq             NaN           NaN  ...           NaN            NaN\n",
              "mean      557.226667      3.506378  ...      0.450255       0.195595\n",
              "std       320.263225      1.710564  ...      0.497524       0.396662\n",
              "min         4.000000      1.000000  ...      0.000000       0.000000\n",
              "25%       270.000000      2.000000  ...      0.000000       0.000000\n",
              "50%       551.000000      3.000000  ...      0.000000       0.000000\n",
              "75%       839.000000      5.000000  ...      1.000000       0.000000\n",
              "max      1113.000000      6.000000  ...      1.000000       1.000000\n",
              "\n",
              "[11 rows x 7 columns]"
            ]
          },
          "metadata": {
            "tags": []
          },
          "execution_count": 10
        }
      ]
    },
    {
      "cell_type": "markdown",
      "metadata": {
        "id": "nGa0HFO2bgDg",
        "colab_type": "text"
      },
      "source": [
        "#### Store table"
      ]
    },
    {
      "cell_type": "code",
      "metadata": {
        "id": "a2Dcv_vabLYh",
        "colab_type": "code",
        "colab": {
          "base_uri": "https://localhost:8080/",
          "height": 226
        },
        "outputId": "543d895a-4d7f-4dbd-e8b1-4834eff27abe"
      },
      "source": [
        "# Preview data.\n",
        "store.head()"
      ],
      "execution_count": 11,
      "outputs": [
        {
          "output_type": "execute_result",
          "data": {
            "text/html": [
              "<div>\n",
              "<style scoped>\n",
              "    .dataframe tbody tr th:only-of-type {\n",
              "        vertical-align: middle;\n",
              "    }\n",
              "\n",
              "    .dataframe tbody tr th {\n",
              "        vertical-align: top;\n",
              "    }\n",
              "\n",
              "    .dataframe thead th {\n",
              "        text-align: right;\n",
              "    }\n",
              "</style>\n",
              "<table border=\"1\" class=\"dataframe\">\n",
              "  <thead>\n",
              "    <tr style=\"text-align: right;\">\n",
              "      <th></th>\n",
              "      <th>Store</th>\n",
              "      <th>StoreType</th>\n",
              "      <th>Assortment</th>\n",
              "      <th>CompetitionDistance</th>\n",
              "      <th>CompetitionOpenSinceMonth</th>\n",
              "      <th>CompetitionOpenSinceYear</th>\n",
              "      <th>Promo2</th>\n",
              "      <th>Promo2SinceWeek</th>\n",
              "      <th>Promo2SinceYear</th>\n",
              "      <th>PromoInterval</th>\n",
              "    </tr>\n",
              "  </thead>\n",
              "  <tbody>\n",
              "    <tr>\n",
              "      <th>0</th>\n",
              "      <td>4</td>\n",
              "      <td>c</td>\n",
              "      <td>c</td>\n",
              "      <td>620.0</td>\n",
              "      <td>9.0</td>\n",
              "      <td>2009.0</td>\n",
              "      <td>0</td>\n",
              "      <td>NaN</td>\n",
              "      <td>NaN</td>\n",
              "      <td>NaN</td>\n",
              "    </tr>\n",
              "    <tr>\n",
              "      <th>1</th>\n",
              "      <td>8</td>\n",
              "      <td>a</td>\n",
              "      <td>a</td>\n",
              "      <td>7520.0</td>\n",
              "      <td>10.0</td>\n",
              "      <td>2014.0</td>\n",
              "      <td>0</td>\n",
              "      <td>NaN</td>\n",
              "      <td>NaN</td>\n",
              "      <td>NaN</td>\n",
              "    </tr>\n",
              "    <tr>\n",
              "      <th>2</th>\n",
              "      <td>10</td>\n",
              "      <td>a</td>\n",
              "      <td>a</td>\n",
              "      <td>3160.0</td>\n",
              "      <td>9.0</td>\n",
              "      <td>2009.0</td>\n",
              "      <td>0</td>\n",
              "      <td>NaN</td>\n",
              "      <td>NaN</td>\n",
              "      <td>NaN</td>\n",
              "    </tr>\n",
              "    <tr>\n",
              "      <th>3</th>\n",
              "      <td>11</td>\n",
              "      <td>a</td>\n",
              "      <td>c</td>\n",
              "      <td>960.0</td>\n",
              "      <td>11.0</td>\n",
              "      <td>2011.0</td>\n",
              "      <td>1</td>\n",
              "      <td>1.0</td>\n",
              "      <td>2012.0</td>\n",
              "      <td>Jan,Apr,Jul,Oct</td>\n",
              "    </tr>\n",
              "    <tr>\n",
              "      <th>4</th>\n",
              "      <td>12</td>\n",
              "      <td>a</td>\n",
              "      <td>c</td>\n",
              "      <td>1070.0</td>\n",
              "      <td>NaN</td>\n",
              "      <td>NaN</td>\n",
              "      <td>1</td>\n",
              "      <td>13.0</td>\n",
              "      <td>2010.0</td>\n",
              "      <td>Jan,Apr,Jul,Oct</td>\n",
              "    </tr>\n",
              "  </tbody>\n",
              "</table>\n",
              "</div>"
            ],
            "text/plain": [
              "   Store StoreType  ... Promo2SinceYear    PromoInterval\n",
              "0      4         c  ...             NaN              NaN\n",
              "1      8         a  ...             NaN              NaN\n",
              "2     10         a  ...             NaN              NaN\n",
              "3     11         a  ...          2012.0  Jan,Apr,Jul,Oct\n",
              "4     12         a  ...          2010.0  Jan,Apr,Jul,Oct\n",
              "\n",
              "[5 rows x 10 columns]"
            ]
          },
          "metadata": {
            "tags": []
          },
          "execution_count": 11
        }
      ]
    },
    {
      "cell_type": "code",
      "metadata": {
        "id": "HEj4SSvbbkNn",
        "colab_type": "code",
        "colab": {
          "base_uri": "https://localhost:8080/",
          "height": 219
        },
        "outputId": "4e5cfb6b-b364-4e93-ea87-9eec2c1e074c"
      },
      "source": [
        "# Check data types.\n",
        "store.dtypes"
      ],
      "execution_count": 12,
      "outputs": [
        {
          "output_type": "execute_result",
          "data": {
            "text/plain": [
              "Store                          int64\n",
              "StoreType                     object\n",
              "Assortment                    object\n",
              "CompetitionDistance          float64\n",
              "CompetitionOpenSinceMonth    float64\n",
              "CompetitionOpenSinceYear     float64\n",
              "Promo2                         int64\n",
              "Promo2SinceWeek              float64\n",
              "Promo2SinceYear              float64\n",
              "PromoInterval                 object\n",
              "dtype: object"
            ]
          },
          "metadata": {
            "tags": []
          },
          "execution_count": 12
        }
      ]
    },
    {
      "cell_type": "code",
      "metadata": {
        "id": "BnEervvEbnMo",
        "colab_type": "code",
        "colab": {
          "base_uri": "https://localhost:8080/",
          "height": 414
        },
        "outputId": "7e2267df-783a-4834-d290-6b215cc68137"
      },
      "source": [
        "# Examine summary statistics.\n",
        "store.describe(include='all')"
      ],
      "execution_count": 13,
      "outputs": [
        {
          "output_type": "execute_result",
          "data": {
            "text/html": [
              "<div>\n",
              "<style scoped>\n",
              "    .dataframe tbody tr th:only-of-type {\n",
              "        vertical-align: middle;\n",
              "    }\n",
              "\n",
              "    .dataframe tbody tr th {\n",
              "        vertical-align: top;\n",
              "    }\n",
              "\n",
              "    .dataframe thead th {\n",
              "        text-align: right;\n",
              "    }\n",
              "</style>\n",
              "<table border=\"1\" class=\"dataframe\">\n",
              "  <thead>\n",
              "    <tr style=\"text-align: right;\">\n",
              "      <th></th>\n",
              "      <th>Store</th>\n",
              "      <th>StoreType</th>\n",
              "      <th>Assortment</th>\n",
              "      <th>CompetitionDistance</th>\n",
              "      <th>CompetitionOpenSinceMonth</th>\n",
              "      <th>CompetitionOpenSinceYear</th>\n",
              "      <th>Promo2</th>\n",
              "      <th>Promo2SinceWeek</th>\n",
              "      <th>Promo2SinceYear</th>\n",
              "      <th>PromoInterval</th>\n",
              "    </tr>\n",
              "  </thead>\n",
              "  <tbody>\n",
              "    <tr>\n",
              "      <th>count</th>\n",
              "      <td>200.000000</td>\n",
              "      <td>200</td>\n",
              "      <td>200</td>\n",
              "      <td>199.000000</td>\n",
              "      <td>163.000000</td>\n",
              "      <td>163.000000</td>\n",
              "      <td>200.000000</td>\n",
              "      <td>36.000000</td>\n",
              "      <td>36.000000</td>\n",
              "      <td>36</td>\n",
              "    </tr>\n",
              "    <tr>\n",
              "      <th>unique</th>\n",
              "      <td>NaN</td>\n",
              "      <td>3</td>\n",
              "      <td>2</td>\n",
              "      <td>NaN</td>\n",
              "      <td>NaN</td>\n",
              "      <td>NaN</td>\n",
              "      <td>NaN</td>\n",
              "      <td>NaN</td>\n",
              "      <td>NaN</td>\n",
              "      <td>3</td>\n",
              "    </tr>\n",
              "    <tr>\n",
              "      <th>top</th>\n",
              "      <td>NaN</td>\n",
              "      <td>a</td>\n",
              "      <td>c</td>\n",
              "      <td>NaN</td>\n",
              "      <td>NaN</td>\n",
              "      <td>NaN</td>\n",
              "      <td>NaN</td>\n",
              "      <td>NaN</td>\n",
              "      <td>NaN</td>\n",
              "      <td>Mar,Jun,Sept,Dec</td>\n",
              "    </tr>\n",
              "    <tr>\n",
              "      <th>freq</th>\n",
              "      <td>NaN</td>\n",
              "      <td>127</td>\n",
              "      <td>112</td>\n",
              "      <td>NaN</td>\n",
              "      <td>NaN</td>\n",
              "      <td>NaN</td>\n",
              "      <td>NaN</td>\n",
              "      <td>NaN</td>\n",
              "      <td>NaN</td>\n",
              "      <td>14</td>\n",
              "    </tr>\n",
              "    <tr>\n",
              "      <th>mean</th>\n",
              "      <td>538.750000</td>\n",
              "      <td>NaN</td>\n",
              "      <td>NaN</td>\n",
              "      <td>4971.758794</td>\n",
              "      <td>7.319018</td>\n",
              "      <td>2010.748466</td>\n",
              "      <td>0.180000</td>\n",
              "      <td>23.916667</td>\n",
              "      <td>2011.666667</td>\n",
              "      <td>NaN</td>\n",
              "    </tr>\n",
              "    <tr>\n",
              "      <th>std</th>\n",
              "      <td>318.711977</td>\n",
              "      <td>NaN</td>\n",
              "      <td>NaN</td>\n",
              "      <td>7828.182796</td>\n",
              "      <td>3.165605</td>\n",
              "      <td>2.477911</td>\n",
              "      <td>0.385152</td>\n",
              "      <td>13.645250</td>\n",
              "      <td>0.956183</td>\n",
              "      <td>NaN</td>\n",
              "    </tr>\n",
              "    <tr>\n",
              "      <th>min</th>\n",
              "      <td>4.000000</td>\n",
              "      <td>NaN</td>\n",
              "      <td>NaN</td>\n",
              "      <td>30.000000</td>\n",
              "      <td>1.000000</td>\n",
              "      <td>2005.000000</td>\n",
              "      <td>0.000000</td>\n",
              "      <td>1.000000</td>\n",
              "      <td>2010.000000</td>\n",
              "      <td>NaN</td>\n",
              "    </tr>\n",
              "    <tr>\n",
              "      <th>25%</th>\n",
              "      <td>259.250000</td>\n",
              "      <td>NaN</td>\n",
              "      <td>NaN</td>\n",
              "      <td>890.000000</td>\n",
              "      <td>4.000000</td>\n",
              "      <td>2009.000000</td>\n",
              "      <td>0.000000</td>\n",
              "      <td>14.000000</td>\n",
              "      <td>2011.000000</td>\n",
              "      <td>NaN</td>\n",
              "    </tr>\n",
              "    <tr>\n",
              "      <th>50%</th>\n",
              "      <td>534.500000</td>\n",
              "      <td>NaN</td>\n",
              "      <td>NaN</td>\n",
              "      <td>2180.000000</td>\n",
              "      <td>9.000000</td>\n",
              "      <td>2011.000000</td>\n",
              "      <td>0.000000</td>\n",
              "      <td>22.000000</td>\n",
              "      <td>2012.000000</td>\n",
              "      <td>NaN</td>\n",
              "    </tr>\n",
              "    <tr>\n",
              "      <th>75%</th>\n",
              "      <td>819.500000</td>\n",
              "      <td>NaN</td>\n",
              "      <td>NaN</td>\n",
              "      <td>4655.000000</td>\n",
              "      <td>9.000000</td>\n",
              "      <td>2013.000000</td>\n",
              "      <td>0.000000</td>\n",
              "      <td>35.000000</td>\n",
              "      <td>2012.000000</td>\n",
              "      <td>NaN</td>\n",
              "    </tr>\n",
              "    <tr>\n",
              "      <th>max</th>\n",
              "      <td>1113.000000</td>\n",
              "      <td>NaN</td>\n",
              "      <td>NaN</td>\n",
              "      <td>48330.000000</td>\n",
              "      <td>12.000000</td>\n",
              "      <td>2015.000000</td>\n",
              "      <td>1.000000</td>\n",
              "      <td>48.000000</td>\n",
              "      <td>2013.000000</td>\n",
              "      <td>NaN</td>\n",
              "    </tr>\n",
              "  </tbody>\n",
              "</table>\n",
              "</div>"
            ],
            "text/plain": [
              "              Store StoreType  ... Promo2SinceYear     PromoInterval\n",
              "count    200.000000       200  ...       36.000000                36\n",
              "unique          NaN         3  ...             NaN                 3\n",
              "top             NaN         a  ...             NaN  Mar,Jun,Sept,Dec\n",
              "freq            NaN       127  ...             NaN                14\n",
              "mean     538.750000       NaN  ...     2011.666667               NaN\n",
              "std      318.711977       NaN  ...        0.956183               NaN\n",
              "min        4.000000       NaN  ...     2010.000000               NaN\n",
              "25%      259.250000       NaN  ...     2011.000000               NaN\n",
              "50%      534.500000       NaN  ...     2012.000000               NaN\n",
              "75%      819.500000       NaN  ...     2012.000000               NaN\n",
              "max     1113.000000       NaN  ...     2013.000000               NaN\n",
              "\n",
              "[11 rows x 10 columns]"
            ]
          },
          "metadata": {
            "tags": []
          },
          "execution_count": 13
        }
      ]
    },
    {
      "cell_type": "code",
      "metadata": {
        "id": "d4B99dk2bpp5",
        "colab_type": "code",
        "colab": {
          "base_uri": "https://localhost:8080/",
          "height": 54
        },
        "outputId": "d427c793-f968-4c84-b83b-4b44302eb9dd"
      },
      "source": [
        "# List possible promo2 schedules.\n",
        "store['PromoInterval'].unique()"
      ],
      "execution_count": 14,
      "outputs": [
        {
          "output_type": "execute_result",
          "data": {
            "text/plain": [
              "array([nan, 'Jan,Apr,Jul,Oct', 'Feb,May,Aug,Nov', 'Mar,Jun,Sept,Dec'],\n",
              "      dtype=object)"
            ]
          },
          "metadata": {
            "tags": []
          },
          "execution_count": 14
        }
      ]
    },
    {
      "cell_type": "markdown",
      "metadata": {
        "id": "B9NV3COuzprw",
        "colab_type": "text"
      },
      "source": [
        "## 1. Wrangle relational data, log-transform the target\n",
        "- Merge the `store` dataframe with the `train` and `test` dataframes. \n",
        "- Arrange the X matrix and y vector for the train and test sets.\n",
        "- Log-transform the target for the train and test set.\n",
        "- Plot the target's distribution for the train set, before and after the transformation.\n",
        "\n",
        "**Stretch goals**\n",
        "- Engineer 3+ more features."
      ]
    },
    {
      "cell_type": "markdown",
      "metadata": {
        "id": "V64DBeoVaPEQ",
        "colab_type": "text"
      },
      "source": [
        "### Merge the `store` dataframe with the `train` and `test` dataframes"
      ]
    },
    {
      "cell_type": "code",
      "metadata": {
        "id": "qjvBbl78zprx",
        "colab_type": "code",
        "colab": {}
      },
      "source": [
        "# Merge on shared column (\"Store\").\n",
        "train = train.merge(store, how='left')\n",
        "val = val.merge(store, how='left')\n",
        "test = test.merge(store, how='left')"
      ],
      "execution_count": 0,
      "outputs": []
    },
    {
      "cell_type": "code",
      "metadata": {
        "id": "9kLAUKgGcjsJ",
        "colab_type": "code",
        "colab": {
          "base_uri": "https://localhost:8080/",
          "height": 226
        },
        "outputId": "feeb4964-f692-4094-a417-6da1d726a2b4"
      },
      "source": [
        "# Check output.\n",
        "train.head()"
      ],
      "execution_count": 16,
      "outputs": [
        {
          "output_type": "execute_result",
          "data": {
            "text/html": [
              "<div>\n",
              "<style scoped>\n",
              "    .dataframe tbody tr th:only-of-type {\n",
              "        vertical-align: middle;\n",
              "    }\n",
              "\n",
              "    .dataframe tbody tr th {\n",
              "        vertical-align: top;\n",
              "    }\n",
              "\n",
              "    .dataframe thead th {\n",
              "        text-align: right;\n",
              "    }\n",
              "</style>\n",
              "<table border=\"1\" class=\"dataframe\">\n",
              "  <thead>\n",
              "    <tr style=\"text-align: right;\">\n",
              "      <th></th>\n",
              "      <th>Store</th>\n",
              "      <th>DayOfWeek</th>\n",
              "      <th>Date</th>\n",
              "      <th>Sales</th>\n",
              "      <th>Customers</th>\n",
              "      <th>Promo</th>\n",
              "      <th>SchoolHoliday</th>\n",
              "      <th>StoreType</th>\n",
              "      <th>Assortment</th>\n",
              "      <th>CompetitionDistance</th>\n",
              "      <th>CompetitionOpenSinceMonth</th>\n",
              "      <th>CompetitionOpenSinceYear</th>\n",
              "      <th>Promo2</th>\n",
              "      <th>Promo2SinceWeek</th>\n",
              "      <th>Promo2SinceYear</th>\n",
              "      <th>PromoInterval</th>\n",
              "    </tr>\n",
              "  </thead>\n",
              "  <tbody>\n",
              "    <tr>\n",
              "      <th>0</th>\n",
              "      <td>4</td>\n",
              "      <td>5</td>\n",
              "      <td>2015-07-31</td>\n",
              "      <td>13995</td>\n",
              "      <td>1498</td>\n",
              "      <td>1</td>\n",
              "      <td>1</td>\n",
              "      <td>c</td>\n",
              "      <td>c</td>\n",
              "      <td>620.0</td>\n",
              "      <td>9.0</td>\n",
              "      <td>2009.0</td>\n",
              "      <td>0</td>\n",
              "      <td>NaN</td>\n",
              "      <td>NaN</td>\n",
              "      <td>NaN</td>\n",
              "    </tr>\n",
              "    <tr>\n",
              "      <th>1</th>\n",
              "      <td>8</td>\n",
              "      <td>5</td>\n",
              "      <td>2015-07-31</td>\n",
              "      <td>8492</td>\n",
              "      <td>833</td>\n",
              "      <td>1</td>\n",
              "      <td>1</td>\n",
              "      <td>a</td>\n",
              "      <td>a</td>\n",
              "      <td>7520.0</td>\n",
              "      <td>10.0</td>\n",
              "      <td>2014.0</td>\n",
              "      <td>0</td>\n",
              "      <td>NaN</td>\n",
              "      <td>NaN</td>\n",
              "      <td>NaN</td>\n",
              "    </tr>\n",
              "    <tr>\n",
              "      <th>2</th>\n",
              "      <td>34</td>\n",
              "      <td>5</td>\n",
              "      <td>2015-07-31</td>\n",
              "      <td>11144</td>\n",
              "      <td>1162</td>\n",
              "      <td>1</td>\n",
              "      <td>1</td>\n",
              "      <td>c</td>\n",
              "      <td>a</td>\n",
              "      <td>2240.0</td>\n",
              "      <td>9.0</td>\n",
              "      <td>2009.0</td>\n",
              "      <td>0</td>\n",
              "      <td>NaN</td>\n",
              "      <td>NaN</td>\n",
              "      <td>NaN</td>\n",
              "    </tr>\n",
              "    <tr>\n",
              "      <th>3</th>\n",
              "      <td>44</td>\n",
              "      <td>5</td>\n",
              "      <td>2015-07-31</td>\n",
              "      <td>6670</td>\n",
              "      <td>665</td>\n",
              "      <td>1</td>\n",
              "      <td>1</td>\n",
              "      <td>a</td>\n",
              "      <td>a</td>\n",
              "      <td>540.0</td>\n",
              "      <td>6.0</td>\n",
              "      <td>2011.0</td>\n",
              "      <td>0</td>\n",
              "      <td>NaN</td>\n",
              "      <td>NaN</td>\n",
              "      <td>NaN</td>\n",
              "    </tr>\n",
              "    <tr>\n",
              "      <th>4</th>\n",
              "      <td>48</td>\n",
              "      <td>5</td>\n",
              "      <td>2015-07-31</td>\n",
              "      <td>3874</td>\n",
              "      <td>390</td>\n",
              "      <td>1</td>\n",
              "      <td>1</td>\n",
              "      <td>a</td>\n",
              "      <td>a</td>\n",
              "      <td>1060.0</td>\n",
              "      <td>5.0</td>\n",
              "      <td>2012.0</td>\n",
              "      <td>0</td>\n",
              "      <td>NaN</td>\n",
              "      <td>NaN</td>\n",
              "      <td>NaN</td>\n",
              "    </tr>\n",
              "  </tbody>\n",
              "</table>\n",
              "</div>"
            ],
            "text/plain": [
              "   Store  DayOfWeek        Date  ...  Promo2SinceWeek  Promo2SinceYear  PromoInterval\n",
              "0      4          5  2015-07-31  ...              NaN              NaN            NaN\n",
              "1      8          5  2015-07-31  ...              NaN              NaN            NaN\n",
              "2     34          5  2015-07-31  ...              NaN              NaN            NaN\n",
              "3     44          5  2015-07-31  ...              NaN              NaN            NaN\n",
              "4     48          5  2015-07-31  ...              NaN              NaN            NaN\n",
              "\n",
              "[5 rows x 16 columns]"
            ]
          },
          "metadata": {
            "tags": []
          },
          "execution_count": 16
        }
      ]
    },
    {
      "cell_type": "markdown",
      "metadata": {
        "id": "cHsNSxmfaQdv",
        "colab_type": "text"
      },
      "source": [
        "### Arrange the X matrix and y vector for the train and test sets"
      ]
    },
    {
      "cell_type": "code",
      "metadata": {
        "id": "abeprpAGaUd3",
        "colab_type": "code",
        "colab": {}
      },
      "source": [
        "target = 'Sales'\n",
        "\n",
        "# Store number is a presumably meaningless identifier, and the goal is to \n",
        "# predict sales for unknown stores in any case. We probably don't want to fit \n",
        "# to it.\n",
        "X_train = train.drop(columns='Store')\n",
        "X_val = val.drop(columns='Store')\n",
        "X_test = test.drop(columns='Store')\n",
        "\n",
        "# Arrange X matrices.\n",
        "X_train = X_train.drop(columns=target)\n",
        "X_val = X_val.drop(columns=target)\n",
        "X_test = X_test.drop(columns=target)\n",
        "\n",
        "# Arrange y vectors.\n",
        "y_train = train[target]\n",
        "y_val = val[target]\n",
        "y_test = test[target]"
      ],
      "execution_count": 0,
      "outputs": []
    },
    {
      "cell_type": "code",
      "metadata": {
        "id": "yHNaB090dJpB",
        "colab_type": "code",
        "colab": {
          "base_uri": "https://localhost:8080/",
          "height": 226
        },
        "outputId": "e36ef306-d5c6-4c3a-83e9-38313d349e4f"
      },
      "source": [
        "# Check output.\n",
        "X_train.head()"
      ],
      "execution_count": 18,
      "outputs": [
        {
          "output_type": "execute_result",
          "data": {
            "text/html": [
              "<div>\n",
              "<style scoped>\n",
              "    .dataframe tbody tr th:only-of-type {\n",
              "        vertical-align: middle;\n",
              "    }\n",
              "\n",
              "    .dataframe tbody tr th {\n",
              "        vertical-align: top;\n",
              "    }\n",
              "\n",
              "    .dataframe thead th {\n",
              "        text-align: right;\n",
              "    }\n",
              "</style>\n",
              "<table border=\"1\" class=\"dataframe\">\n",
              "  <thead>\n",
              "    <tr style=\"text-align: right;\">\n",
              "      <th></th>\n",
              "      <th>DayOfWeek</th>\n",
              "      <th>Date</th>\n",
              "      <th>Customers</th>\n",
              "      <th>Promo</th>\n",
              "      <th>SchoolHoliday</th>\n",
              "      <th>StoreType</th>\n",
              "      <th>Assortment</th>\n",
              "      <th>CompetitionDistance</th>\n",
              "      <th>CompetitionOpenSinceMonth</th>\n",
              "      <th>CompetitionOpenSinceYear</th>\n",
              "      <th>Promo2</th>\n",
              "      <th>Promo2SinceWeek</th>\n",
              "      <th>Promo2SinceYear</th>\n",
              "      <th>PromoInterval</th>\n",
              "    </tr>\n",
              "  </thead>\n",
              "  <tbody>\n",
              "    <tr>\n",
              "      <th>0</th>\n",
              "      <td>5</td>\n",
              "      <td>2015-07-31</td>\n",
              "      <td>1498</td>\n",
              "      <td>1</td>\n",
              "      <td>1</td>\n",
              "      <td>c</td>\n",
              "      <td>c</td>\n",
              "      <td>620.0</td>\n",
              "      <td>9.0</td>\n",
              "      <td>2009.0</td>\n",
              "      <td>0</td>\n",
              "      <td>NaN</td>\n",
              "      <td>NaN</td>\n",
              "      <td>NaN</td>\n",
              "    </tr>\n",
              "    <tr>\n",
              "      <th>1</th>\n",
              "      <td>5</td>\n",
              "      <td>2015-07-31</td>\n",
              "      <td>833</td>\n",
              "      <td>1</td>\n",
              "      <td>1</td>\n",
              "      <td>a</td>\n",
              "      <td>a</td>\n",
              "      <td>7520.0</td>\n",
              "      <td>10.0</td>\n",
              "      <td>2014.0</td>\n",
              "      <td>0</td>\n",
              "      <td>NaN</td>\n",
              "      <td>NaN</td>\n",
              "      <td>NaN</td>\n",
              "    </tr>\n",
              "    <tr>\n",
              "      <th>2</th>\n",
              "      <td>5</td>\n",
              "      <td>2015-07-31</td>\n",
              "      <td>1162</td>\n",
              "      <td>1</td>\n",
              "      <td>1</td>\n",
              "      <td>c</td>\n",
              "      <td>a</td>\n",
              "      <td>2240.0</td>\n",
              "      <td>9.0</td>\n",
              "      <td>2009.0</td>\n",
              "      <td>0</td>\n",
              "      <td>NaN</td>\n",
              "      <td>NaN</td>\n",
              "      <td>NaN</td>\n",
              "    </tr>\n",
              "    <tr>\n",
              "      <th>3</th>\n",
              "      <td>5</td>\n",
              "      <td>2015-07-31</td>\n",
              "      <td>665</td>\n",
              "      <td>1</td>\n",
              "      <td>1</td>\n",
              "      <td>a</td>\n",
              "      <td>a</td>\n",
              "      <td>540.0</td>\n",
              "      <td>6.0</td>\n",
              "      <td>2011.0</td>\n",
              "      <td>0</td>\n",
              "      <td>NaN</td>\n",
              "      <td>NaN</td>\n",
              "      <td>NaN</td>\n",
              "    </tr>\n",
              "    <tr>\n",
              "      <th>4</th>\n",
              "      <td>5</td>\n",
              "      <td>2015-07-31</td>\n",
              "      <td>390</td>\n",
              "      <td>1</td>\n",
              "      <td>1</td>\n",
              "      <td>a</td>\n",
              "      <td>a</td>\n",
              "      <td>1060.0</td>\n",
              "      <td>5.0</td>\n",
              "      <td>2012.0</td>\n",
              "      <td>0</td>\n",
              "      <td>NaN</td>\n",
              "      <td>NaN</td>\n",
              "      <td>NaN</td>\n",
              "    </tr>\n",
              "  </tbody>\n",
              "</table>\n",
              "</div>"
            ],
            "text/plain": [
              "   DayOfWeek        Date  ...  Promo2SinceYear  PromoInterval\n",
              "0          5  2015-07-31  ...              NaN            NaN\n",
              "1          5  2015-07-31  ...              NaN            NaN\n",
              "2          5  2015-07-31  ...              NaN            NaN\n",
              "3          5  2015-07-31  ...              NaN            NaN\n",
              "4          5  2015-07-31  ...              NaN            NaN\n",
              "\n",
              "[5 rows x 14 columns]"
            ]
          },
          "metadata": {
            "tags": []
          },
          "execution_count": 18
        }
      ]
    },
    {
      "cell_type": "code",
      "metadata": {
        "id": "D5s_vTyldQ0h",
        "colab_type": "code",
        "colab": {
          "base_uri": "https://localhost:8080/",
          "height": 35
        },
        "outputId": "8384cc63-57e3-4602-dcb3-c38f9bfc64f8"
      },
      "source": [
        "# Verify output dimensions.\n",
        "X_train.shape"
      ],
      "execution_count": 19,
      "outputs": [
        {
          "output_type": "execute_result",
          "data": {
            "text/plain": [
              "(58800, 14)"
            ]
          },
          "metadata": {
            "tags": []
          },
          "execution_count": 19
        }
      ]
    },
    {
      "cell_type": "markdown",
      "metadata": {
        "id": "k0WrulCJaU3u",
        "colab_type": "text"
      },
      "source": [
        "### Log-transform the target for the train and test set"
      ]
    },
    {
      "cell_type": "code",
      "metadata": {
        "id": "rnJcZExLabfv",
        "colab_type": "code",
        "colab": {}
      },
      "source": [
        "# Take the natural log of the target variable.\n",
        "y_train_log = np.log(y_train)\n",
        "y_val_log = np.log(y_val)\n",
        "y_test_log = np.log(y_test)"
      ],
      "execution_count": 0,
      "outputs": []
    },
    {
      "cell_type": "markdown",
      "metadata": {
        "id": "BF4N4-qKab1n",
        "colab_type": "text"
      },
      "source": [
        "### Plot the target's distribution for the train set, before and after the transformation"
      ]
    },
    {
      "cell_type": "markdown",
      "metadata": {
        "id": "g3qmA2zxcHNQ",
        "colab_type": "text"
      },
      "source": [
        "#### Original target distribution"
      ]
    },
    {
      "cell_type": "code",
      "metadata": {
        "id": "ezHi7ugvadIS",
        "colab_type": "code",
        "colab": {
          "base_uri": "https://localhost:8080/",
          "height": 283
        },
        "outputId": "a2034c1e-e3cc-4f0e-cc0d-2b054296dab0"
      },
      "source": [
        "sns.distplot(y_train);"
      ],
      "execution_count": 21,
      "outputs": [
        {
          "output_type": "display_data",
          "data": {
            "image/png": "[encoded data removed]",
            "text/plain": [
              "<Figure size 432x288 with 1 Axes>"
            ]
          },
          "metadata": {
            "tags": []
          }
        }
      ]
    },
    {
      "cell_type": "markdown",
      "metadata": {
        "id": "gtcmNQuAcNBv",
        "colab_type": "text"
      },
      "source": [
        "#### Log-transformed target distribution"
      ]
    },
    {
      "cell_type": "code",
      "metadata": {
        "id": "DiOiuyrFcNPf",
        "colab_type": "code",
        "colab": {
          "base_uri": "https://localhost:8080/",
          "height": 283
        },
        "outputId": "3dc9587a-6df0-4175-89a4-f3b283f42d5a"
      },
      "source": [
        "sns.distplot(y_train_log);"
      ],
      "execution_count": 22,
      "outputs": [
        {
          "output_type": "display_data",
          "data": {
            "image/png": "[encoded data removed]",
            "text/plain": [
              "<Figure size 432x288 with 1 Axes>"
            ]
          },
          "metadata": {
            "tags": []
          }
        }
      ]
    },
    {
      "cell_type": "markdown",
      "metadata": {
        "id": "lCYGGx1PcTgf",
        "colab_type": "text"
      },
      "source": [
        "### Stretch: Engineer 3+ more features"
      ]
    },
    {
      "cell_type": "markdown",
      "metadata": {
        "id": "HvlLXqJRfjBx",
        "colab_type": "text"
      },
      "source": [
        "#### Generate date-based features"
      ]
    },
    {
      "cell_type": "code",
      "metadata": {
        "id": "hBEJU3gjcTMw",
        "colab_type": "code",
        "colab": {}
      },
      "source": [
        "def wrangle_dates(X):\n",
        "    X = X.copy()\n",
        "    \n",
        "    X['Date'] = pd.to_datetime(X['Date'], infer_datetime_format=True)\n",
        "    X['Year'] = X['Date'].dt.year\n",
        "    X['Month'] = X['Date'].dt.month\n",
        "    X['Week'] = X['Date'].dt.week\n",
        "    X['DayOfMonth'] = X['Date'].dt.day\n",
        "    X['DayOfWeek'] = X['Date'].dt.weekday\n",
        "    \n",
        "    return X"
      ],
      "execution_count": 0,
      "outputs": []
    },
    {
      "cell_type": "code",
      "metadata": {
        "id": "nSyJfM7vfo1o",
        "colab_type": "code",
        "colab": {}
      },
      "source": [
        "X_train_wrangled = wrangle_dates(X_train)\n",
        "X_val_wrangled = wrangle_dates(X_val)\n",
        "X_test_wrangled = wrangle_dates(X_test)"
      ],
      "execution_count": 0,
      "outputs": []
    },
    {
      "cell_type": "markdown",
      "metadata": {
        "id": "xiljXNuKzprz",
        "colab_type": "text"
      },
      "source": [
        "## 2. Fit and validate your model\n",
        "- **Use Gradient Boosting** or any type of regression model.\n",
        "- **Beat the baseline:** The estimated baseline Root Mean Squared Logarithmic Error is 0.90, if we guessed the mean sales for every prediction. Remember that RMSE with the log-transformed target is equivalent to RMSLE with the original target. Try to get your error below 0.20.\n",
        "- **To validate your model, choose any one of these options:**\n",
        "  - Split the train dataframe into train and validation sets. Put all dates for a given store into the same set. Use xgboost `early_stopping_rounds` with the validation set. \n",
        "  - Or, use scikit-learn `cross_val_score`. Put all dates for a given store into the same fold.\n",
        "  - Or, use scikit-learn `RandomizedSearchCV` for hyperparameter optimization. Put all dates for a given store into the same fold.\n",
        "- **Get the Validation Error** (multiple times if you try multiple iterations) **and Test Error** (one time, at the end).\n",
        "  \n",
        "#### Stretch goal\n",
        "- Optimize 3+ hyperparameters by searching 10+ \"candidates\" (possible combinations of hyperparameters). "
      ]
    },
    {
      "cell_type": "markdown",
      "metadata": {
        "id": "gIKYpnLFeFFB",
        "colab_type": "text"
      },
      "source": [
        "### Begin with a baseline"
      ]
    },
    {
      "cell_type": "markdown",
      "metadata": {
        "id": "ADQLOLtJeHzR",
        "colab_type": "text"
      },
      "source": [
        "#### RMSLE with original target"
      ]
    },
    {
      "cell_type": "code",
      "metadata": {
        "id": "WWNccxI5zprz",
        "colab_type": "code",
        "colab": {
          "base_uri": "https://localhost:8080/",
          "height": 35
        },
        "outputId": "a4cfa2d6-e0c9-4c34-e26d-18fc9e82bac1"
      },
      "source": [
        "# Find mean of target variable.\n",
        "y_train.mean()"
      ],
      "execution_count": 25,
      "outputs": [
        {
          "output_type": "execute_result",
          "data": {
            "text/plain": [
              "7013.920357142857"
            ]
          },
          "metadata": {
            "tags": []
          },
          "execution_count": 25
        }
      ]
    },
    {
      "cell_type": "code",
      "metadata": {
        "id": "MeRfkAfbeQ25",
        "colab_type": "code",
        "colab": {
          "base_uri": "https://localhost:8080/",
          "height": 54
        },
        "outputId": "bb9a7cb1-ce9b-41f3-ac8e-e18f695a500e"
      },
      "source": [
        "# Calculate and print RMSLE.\n",
        "y_train_pred_baseline = np.full_like(y_train, y_train.mean())\n",
        "y_val_pred_baseline = np.full_like(y_val, y_train.mean())\n",
        "\n",
        "print(f'Baseline training RMSLE: {rmsle(y_train, y_train_pred_baseline):.5f}')\n",
        "print(f'Baseline validation RMSLE: {rmsle(y_val, y_val_pred_baseline):.5f}')"
      ],
      "execution_count": 26,
      "outputs": [
        {
          "output_type": "stream",
          "text": [
            "Baseline training RMSLE: 0.38722\n",
            "Baseline validation RMSLE: 0.37664\n"
          ],
          "name": "stdout"
        }
      ]
    },
    {
      "cell_type": "markdown",
      "metadata": {
        "id": "o0oESh0OeKex",
        "colab_type": "text"
      },
      "source": [
        "#### RMSE with log-transformed target"
      ]
    },
    {
      "cell_type": "code",
      "metadata": {
        "id": "xq2g95I5eLgF",
        "colab_type": "code",
        "colab": {
          "base_uri": "https://localhost:8080/",
          "height": 35
        },
        "outputId": "5f17ae4f-e2cf-4ef5-9296-5c1c6028f9e3"
      },
      "source": [
        "# Find mean of log-transformed target.\n",
        "y_train_log.mean()"
      ],
      "execution_count": 27,
      "outputs": [
        {
          "output_type": "execute_result",
          "data": {
            "text/plain": [
              "8.7817773253162"
            ]
          },
          "metadata": {
            "tags": []
          },
          "execution_count": 27
        }
      ]
    },
    {
      "cell_type": "code",
      "metadata": {
        "id": "iOdSekoSenA6",
        "colab_type": "code",
        "colab": {
          "base_uri": "https://localhost:8080/",
          "height": 54
        },
        "outputId": "64848a8b-22b5-4aa9-a22e-fbfd0ea1a6c9"
      },
      "source": [
        "# Calculate and predict RMSE.\n",
        "y_train_pred_log_baseline = np.full_like(y_train_log, y_train_log.mean())\n",
        "y_val_pred_log_baseline = np.full_like(y_val_log, y_train_log.mean())\n",
        "\n",
        "print(f'Baseline training RMSE: {rmse(y_train_log, y_train_pred_log_baseline):.5f}')\n",
        "print(f'Baseline validation RMSE: {rmse(y_val_log, y_val_pred_log_baseline):.5f}')"
      ],
      "execution_count": 28,
      "outputs": [
        {
          "output_type": "stream",
          "text": [
            "Baseline training RMSE: 0.38020\n",
            "Baseline validation RMSE: 0.36741\n"
          ],
          "name": "stdout"
        }
      ]
    },
    {
      "cell_type": "markdown",
      "metadata": {
        "id": "mWhNRm35er6P",
        "colab_type": "text"
      },
      "source": [
        "### Try linear regression on numeric features"
      ]
    },
    {
      "cell_type": "code",
      "metadata": {
        "id": "5IxDB5bRerkx",
        "colab_type": "code",
        "colab": {}
      },
      "source": [
        "# Discard non-numeric features.\n",
        "X_train_numeric = X_train_wrangled.select_dtypes(exclude=['object', 'datetime'])\n",
        "X_val_numeric = X_val_wrangled.select_dtypes(exclude=['object', 'datetime'])"
      ],
      "execution_count": 0,
      "outputs": []
    },
    {
      "cell_type": "code",
      "metadata": {
        "id": "f_OiVoiWfweA",
        "colab_type": "code",
        "colab": {
          "base_uri": "https://localhost:8080/",
          "height": 35
        },
        "outputId": "4d9d6dd9-b5aa-4602-b7b1-357a567c8176"
      },
      "source": [
        "# Check output dimensions.\n",
        "X_train_numeric.shape"
      ],
      "execution_count": 30,
      "outputs": [
        {
          "output_type": "execute_result",
          "data": {
            "text/plain": [
              "(58800, 14)"
            ]
          },
          "metadata": {
            "tags": []
          },
          "execution_count": 30
        }
      ]
    },
    {
      "cell_type": "code",
      "metadata": {
        "id": "dyUOOEoygE_I",
        "colab_type": "code",
        "colab": {
          "base_uri": "https://localhost:8080/",
          "height": 109
        },
        "outputId": "74969215-d496-42c2-f0db-ef32517a97dc"
      },
      "source": [
        "# List numeric features to be used.\n",
        "X_train_numeric.columns"
      ],
      "execution_count": 31,
      "outputs": [
        {
          "output_type": "execute_result",
          "data": {
            "text/plain": [
              "Index(['DayOfWeek', 'Customers', 'Promo', 'SchoolHoliday',\n",
              "       'CompetitionDistance', 'CompetitionOpenSinceMonth',\n",
              "       'CompetitionOpenSinceYear', 'Promo2', 'Promo2SinceWeek',\n",
              "       'Promo2SinceYear', 'Year', 'Month', 'Week', 'DayOfMonth'],\n",
              "      dtype='object')"
            ]
          },
          "metadata": {
            "tags": []
          },
          "execution_count": 31
        }
      ]
    },
    {
      "cell_type": "code",
      "metadata": {
        "id": "3KduhXV4f8X3",
        "colab_type": "code",
        "colab": {}
      },
      "source": [
        "# Do a quick and dirty mean-based imputation.\n",
        "imputer = SimpleImputer()\n",
        "\n",
        "X_train_imputed = imputer.fit_transform(X_train_numeric)\n",
        "X_val_imputed = imputer.transform(X_val_numeric)"
      ],
      "execution_count": 0,
      "outputs": []
    },
    {
      "cell_type": "code",
      "metadata": {
        "id": "-aHR7GaLgPVo",
        "colab_type": "code",
        "colab": {
          "base_uri": "https://localhost:8080/",
          "height": 35
        },
        "outputId": "c5cd68c3-efab-417a-8999-ef261870796b"
      },
      "source": [
        "# Generate and fit a linear regression model.\n",
        "lr_model = LinearRegression()\n",
        "lr_model.fit(X_train_imputed, y_train)"
      ],
      "execution_count": 33,
      "outputs": [
        {
          "output_type": "execute_result",
          "data": {
            "text/plain": [
              "LinearRegression(copy_X=True, fit_intercept=True, n_jobs=None, normalize=False)"
            ]
          },
          "metadata": {
            "tags": []
          },
          "execution_count": 33
        }
      ]
    },
    {
      "cell_type": "code",
      "metadata": {
        "id": "jSwLj4omgVgv",
        "colab_type": "code",
        "colab": {}
      },
      "source": [
        "# Make predictions.\n",
        "y_train_pred_linreg = lr_model.predict(X_train_imputed)\n",
        "y_val_pred_linreg = lr_model.predict(X_val_imputed)"
      ],
      "execution_count": 0,
      "outputs": []
    },
    {
      "cell_type": "code",
      "metadata": {
        "id": "VDSJ2UqdgVVg",
        "colab_type": "code",
        "colab": {
          "base_uri": "https://localhost:8080/",
          "height": 54
        },
        "outputId": "437088b1-9219-4f33-eeaa-ed5ea957ffe1"
      },
      "source": [
        "# Calculate and print RMSLE.\n",
        "print(f'Linear regression training RMSLE: {rmsle(y_train, y_train_pred_linreg):.5f}')\n",
        "print(f'Linear regression validation RMSLE: {rmsle(y_val, y_val_pred_linreg):.5f}')"
      ],
      "execution_count": 35,
      "outputs": [
        {
          "output_type": "stream",
          "text": [
            "Linear regression training RMSLE: 0.15239\n",
            "Linear regression validation RMSLE: 0.19989\n"
          ],
          "name": "stdout"
        }
      ]
    },
    {
      "cell_type": "markdown",
      "metadata": {
        "id": "_TTlJdECjztD",
        "colab_type": "text"
      },
      "source": [
        "#### Permutation importances plot"
      ]
    },
    {
      "cell_type": "code",
      "metadata": {
        "id": "ZFUsw2zkj14Y",
        "colab_type": "code",
        "colab": {
          "base_uri": "https://localhost:8080/",
          "height": 278
        },
        "outputId": "a39272c6-5dea-40cc-db55-f039593ae192"
      },
      "source": [
        "permuter = eli5.sklearn.PermutationImportance(lr_model, \n",
        "                                              scoring=custom_scorer, \n",
        "                                              cv='prefit', \n",
        "                                              n_iter=5, \n",
        "                                              random_state=0)\n",
        "\n",
        "permuter.fit(X_val_imputed, y_val)\n",
        "feature_names = X_val_numeric.columns.tolist()\n",
        "eli5.show_weights(permuter, top=None, feature_names=feature_names)"
      ],
      "execution_count": 43,
      "outputs": [
        {
          "output_type": "execute_result",
          "data": {
            "text/html": [
              "\n",
              "    <style>\n",
              "    table.eli5-weights tr:hover {\n",
              "        filter: brightness(85%);\n",
              "    }\n",
              "</style>\n",
              "\n",
              "\n",
              "\n",
              "    \n",
              "\n",
              "    \n",
              "\n",
              "    \n",
              "\n",
              "    \n",
              "\n",
              "    \n",
              "\n",
              "    \n",
              "\n",
              "\n",
              "    \n",
              "\n",
              "    \n",
              "\n",
              "    \n",
              "\n",
              "    \n",
              "\n",
              "    \n",
              "\n",
              "    \n",
              "\n",
              "\n",
              "    \n",
              "\n",
              "    \n",
              "\n",
              "    \n",
              "\n",
              "    \n",
              "\n",
              "    \n",
              "        <table class=\"eli5-weights eli5-feature-importances\" style=\"border-collapse: collapse; border: none; margin-top: 0em; table-layout: auto;\">\n",
              "    <thead>\n",
              "    <tr style=\"border: none;\">\n",
              "        <th style=\"padding: 0 1em 0 0.5em; text-align: right; border: none;\">Weight</th>\n",
              "        <th style=\"padding: 0 0.5em 0 0.5em; text-align: left; border: none;\">Feature</th>\n",
              "    </tr>\n",
              "    </thead>\n",
              "    <tbody>\n",
              "    \n",
              "        <tr style=\"background-color: hsl(120, 100.00%, 80.00%); border: none;\">\n",
              "            <td style=\"padding: 0 1em 0 0.5em; text-align: right; border: none;\">\n",
              "                2229.6777\n",
              "                \n",
              "                    &plusmn; 41.5519\n",
              "                \n",
              "            </td>\n",
              "            <td style=\"padding: 0 0.5em 0 0.5em; text-align: left; border: none;\">\n",
              "                Customers\n",
              "            </td>\n",
              "        </tr>\n",
              "    \n",
              "        <tr style=\"background-color: hsl(120, 100.00%, 97.35%); border: none;\">\n",
              "            <td style=\"padding: 0 1em 0 0.5em; text-align: right; border: none;\">\n",
              "                124.3218\n",
              "                \n",
              "                    &plusmn; 4.9826\n",
              "                \n",
              "            </td>\n",
              "            <td style=\"padding: 0 0.5em 0 0.5em; text-align: left; border: none;\">\n",
              "                Promo\n",
              "            </td>\n",
              "        </tr>\n",
              "    \n",
              "        <tr style=\"background-color: hsl(120, 100.00%, 98.89%); border: none;\">\n",
              "            <td style=\"padding: 0 1em 0 0.5em; text-align: right; border: none;\">\n",
              "                35.6286\n",
              "                \n",
              "                    &plusmn; 1.0144\n",
              "                \n",
              "            </td>\n",
              "            <td style=\"padding: 0 0.5em 0 0.5em; text-align: left; border: none;\">\n",
              "                Promo2SinceYear\n",
              "            </td>\n",
              "        </tr>\n",
              "    \n",
              "        <tr style=\"background-color: hsl(120, 100.00%, 99.28%); border: none;\">\n",
              "            <td style=\"padding: 0 1em 0 0.5em; text-align: right; border: none;\">\n",
              "                19.4228\n",
              "                \n",
              "                    &plusmn; 2.4646\n",
              "                \n",
              "            </td>\n",
              "            <td style=\"padding: 0 0.5em 0 0.5em; text-align: left; border: none;\">\n",
              "                Month\n",
              "            </td>\n",
              "        </tr>\n",
              "    \n",
              "        <tr style=\"background-color: hsl(120, 100.00%, 99.43%); border: none;\">\n",
              "            <td style=\"padding: 0 1em 0 0.5em; text-align: right; border: none;\">\n",
              "                13.6800\n",
              "                \n",
              "                    &plusmn; 0.1573\n",
              "                \n",
              "            </td>\n",
              "            <td style=\"padding: 0 0.5em 0 0.5em; text-align: left; border: none;\">\n",
              "                CompetitionDistance\n",
              "            </td>\n",
              "        </tr>\n",
              "    \n",
              "        <tr style=\"background-color: hsl(120, 100.00%, 99.57%); border: none;\">\n",
              "            <td style=\"padding: 0 1em 0 0.5em; text-align: right; border: none;\">\n",
              "                9.3513\n",
              "                \n",
              "                    &plusmn; 1.1172\n",
              "                \n",
              "            </td>\n",
              "            <td style=\"padding: 0 0.5em 0 0.5em; text-align: left; border: none;\">\n",
              "                Year\n",
              "            </td>\n",
              "        </tr>\n",
              "    \n",
              "        <tr style=\"background-color: hsl(120, 100.00%, 99.68%); border: none;\">\n",
              "            <td style=\"padding: 0 1em 0 0.5em; text-align: right; border: none;\">\n",
              "                6.0485\n",
              "                \n",
              "                    &plusmn; 1.3062\n",
              "                \n",
              "            </td>\n",
              "            <td style=\"padding: 0 0.5em 0 0.5em; text-align: left; border: none;\">\n",
              "                Promo2SinceWeek\n",
              "            </td>\n",
              "        </tr>\n",
              "    \n",
              "        <tr style=\"background-color: hsl(120, 100.00%, 99.82%); border: none;\">\n",
              "            <td style=\"padding: 0 1em 0 0.5em; text-align: right; border: none;\">\n",
              "                2.7216\n",
              "                \n",
              "                    &plusmn; 0.5462\n",
              "                \n",
              "            </td>\n",
              "            <td style=\"padding: 0 0.5em 0 0.5em; text-align: left; border: none;\">\n",
              "                Week\n",
              "            </td>\n",
              "        </tr>\n",
              "    \n",
              "        <tr style=\"background-color: hsl(120, 100.00%, 99.95%); border: none;\">\n",
              "            <td style=\"padding: 0 1em 0 0.5em; text-align: right; border: none;\">\n",
              "                0.4773\n",
              "                \n",
              "                    &plusmn; 0.3110\n",
              "                \n",
              "            </td>\n",
              "            <td style=\"padding: 0 0.5em 0 0.5em; text-align: left; border: none;\">\n",
              "                SchoolHoliday\n",
              "            </td>\n",
              "        </tr>\n",
              "    \n",
              "        <tr style=\"background-color: hsl(120, 100.00%, 99.97%); border: none;\">\n",
              "            <td style=\"padding: 0 1em 0 0.5em; text-align: right; border: none;\">\n",
              "                0.2557\n",
              "                \n",
              "                    &plusmn; 0.1273\n",
              "                \n",
              "            </td>\n",
              "            <td style=\"padding: 0 0.5em 0 0.5em; text-align: left; border: none;\">\n",
              "                DayOfMonth\n",
              "            </td>\n",
              "        </tr>\n",
              "    \n",
              "        <tr style=\"background-color: hsl(120, 100.00%, 99.99%); border: none;\">\n",
              "            <td style=\"padding: 0 1em 0 0.5em; text-align: right; border: none;\">\n",
              "                0.0615\n",
              "                \n",
              "                    &plusmn; 0.0301\n",
              "                \n",
              "            </td>\n",
              "            <td style=\"padding: 0 0.5em 0 0.5em; text-align: left; border: none;\">\n",
              "                DayOfWeek\n",
              "            </td>\n",
              "        </tr>\n",
              "    \n",
              "        <tr style=\"background-color: hsl(0, 100.00%, 99.81%); border: none;\">\n",
              "            <td style=\"padding: 0 1em 0 0.5em; text-align: right; border: none;\">\n",
              "                -2.9368\n",
              "                \n",
              "                    &plusmn; 1.4654\n",
              "                \n",
              "            </td>\n",
              "            <td style=\"padding: 0 0.5em 0 0.5em; text-align: left; border: none;\">\n",
              "                CompetitionOpenSinceMonth\n",
              "            </td>\n",
              "        </tr>\n",
              "    \n",
              "        <tr style=\"background-color: hsl(0, 100.00%, 99.52%); border: none;\">\n",
              "            <td style=\"padding: 0 1em 0 0.5em; text-align: right; border: none;\">\n",
              "                -10.9377\n",
              "                \n",
              "                    &plusmn; 2.0366\n",
              "                \n",
              "            </td>\n",
              "            <td style=\"padding: 0 0.5em 0 0.5em; text-align: left; border: none;\">\n",
              "                Promo2\n",
              "            </td>\n",
              "        </tr>\n",
              "    \n",
              "        <tr style=\"background-color: hsl(0, 100.00%, 98.39%); border: none;\">\n",
              "            <td style=\"padding: 0 1em 0 0.5em; text-align: right; border: none;\">\n",
              "                -60.7626\n",
              "                \n",
              "                    &plusmn; 2.2334\n",
              "                \n",
              "            </td>\n",
              "            <td style=\"padding: 0 0.5em 0 0.5em; text-align: left; border: none;\">\n",
              "                CompetitionOpenSinceYear\n",
              "            </td>\n",
              "        </tr>\n",
              "    \n",
              "    \n",
              "    </tbody>\n",
              "</table>\n",
              "    \n",
              "\n",
              "    \n",
              "\n",
              "\n",
              "    \n",
              "\n",
              "    \n",
              "\n",
              "    \n",
              "\n",
              "    \n",
              "\n",
              "    \n",
              "\n",
              "    \n",
              "\n",
              "\n",
              "\n"
            ],
            "text/plain": [
              "<IPython.core.display.HTML object>"
            ]
          },
          "metadata": {
            "tags": []
          },
          "execution_count": 43
        }
      ]
    },
    {
      "cell_type": "markdown",
      "metadata": {
        "id": "i2aX6OHOkY_p",
        "colab_type": "text"
      },
      "source": [
        "#### Re-run linear regression without `Customers` feature\n",
        "\n",
        "This feature seems suspiciously like some kind of leakage. It's not something we'd expect to know in advance of opening a new location, certainly."
      ]
    },
    {
      "cell_type": "code",
      "metadata": {
        "id": "_F6yVmr9lTg5",
        "colab_type": "code",
        "colab": {}
      },
      "source": [
        ""
      ],
      "execution_count": 0,
      "outputs": []
    },
    {
      "cell_type": "markdown",
      "metadata": {
        "id": "JGqeEpRmzpr1",
        "colab_type": "text"
      },
      "source": [
        "## 3. Plot model interpretation visualizations\n",
        "- Choose any one of these options:\n",
        "  - Permutation Importances plot\n",
        "  - Partial Dependency Plot, 1 feature isolation\n",
        "  - Partial Dependency Plot, 2 feature interaction\n",
        "  \n",
        "#### Stretch goals\n",
        "- Plot 2+ visualizations.\n",
        "- Use permutation importances for feature selection. "
      ]
    },
    {
      "cell_type": "code",
      "metadata": {
        "id": "ZeOJFJJZzpr1",
        "colab_type": "code",
        "colab": {}
      },
      "source": [
        ""
      ],
      "execution_count": 0,
      "outputs": []
    }
  ]
}