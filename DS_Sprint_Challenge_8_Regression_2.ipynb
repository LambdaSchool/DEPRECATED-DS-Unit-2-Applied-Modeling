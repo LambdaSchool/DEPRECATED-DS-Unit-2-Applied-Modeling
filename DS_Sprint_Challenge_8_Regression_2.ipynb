{
  "nbformat": 4,
  "nbformat_minor": 0,
  "metadata": {
    "colab": {
      "name": "DS_Sprint_Challenge_8_Regression_2.ipynb",
      "version": "0.3.2",
      "provenance": [],
      "collapsed_sections": [],
      "include_colab_link": true
    },
    "kernelspec": {
      "display_name": "Python 3",
      "language": "python",
      "name": "python3"
    },
    "language_info": {
      "codemirror_mode": {
        "name": "ipython",
        "version": 3
      },
      "file_extension": ".py",
      "mimetype": "text/x-python",
      "name": "python",
      "nbconvert_exporter": "python",
      "pygments_lexer": "ipython3",
      "version": "3.7.3"
    }
  },
  "cells": [
    {
      "cell_type": "markdown",
      "metadata": {
        "id": "view-in-github",
        "colab_type": "text"
      },
      "source": [
        "<a href=\"https://colab.research.google.com/github/leehanchung/DS-Unit-2-Applied-Modeling/blob/master/DS_Sprint_Challenge_8_Regression_2.ipynb\" target=\"_parent\"><img src=\"https://colab.research.google.com/assets/colab-badge.svg\" alt=\"Open In Colab\"/></a>"
      ]
    },
    {
      "cell_type": "markdown",
      "metadata": {
        "colab_type": "text",
        "id": "n4GufWor6Js6"
      },
      "source": [
        "_Lambda School Data Science, Unit 2_\n",
        " \n",
        "# Regression 2 Sprint Challenge: Predict drugstore sales 🏥\n",
        "\n",
        "For your Sprint Challenge, you'll use real-world sales data from a German drugstore chain, from Jan 2, 2013 — July 31, 2015.\n",
        "\n",
        "You are given three dataframes:\n",
        "\n",
        "- `train`: historical sales data for 100 stores\n",
        "- `test`: historical sales data for 100 different stores\n",
        "- `store`: supplemental information about the stores\n",
        "\n",
        "\n",
        "The train and test set do _not_ have different date ranges. But they _do_ have different store ids. Your task is _not_ to forecast future sales from past sales. **Your task is to predict sales at unknown stores, from sales at known stores.**"
      ]
    },
    {
      "cell_type": "code",
      "metadata": {
        "colab_type": "code",
        "id": "3jOs8F4K6Js7",
        "colab": {}
      },
      "source": [
        "import pandas as pd\n",
        "train = pd.read_csv('https://drive.google.com/uc?export=download&id=1E9rgiGf1f_WL2S4-V6gD7ZhB8r8Yb_lE')\n",
        "test = pd.read_csv('https://drive.google.com/uc?export=download&id=1vkaVptn4TTYC9-YPZvbvmfDNHVR8aUml')\n",
        "store = pd.read_csv('https://drive.google.com/uc?export=download&id=1rZD-V1mWydeytptQfr-NL7dBqre6lZMo')\n",
        "assert train.shape == (78400, 7)\n",
        "assert test.shape == (78400, 7)\n",
        "assert store.shape == (200, 10)"
      ],
      "execution_count": 0,
      "outputs": []
    },
    {
      "cell_type": "markdown",
      "metadata": {
        "colab_type": "text",
        "id": "TkY6RGhm6Js-"
      },
      "source": [
        "The dataframes have a variety of columns:\n",
        "\n",
        "- **Store** - a unique Id for each store\n",
        "- **DayOfWeek** - integer, 1-6\n",
        "- **Date** - the date, from Jan 2, 2013 — July 31, 2015.\n",
        "- **Sales** - the units of inventory sold on a given date (this is the target you are predicting)\n",
        "- **Customers** - the number of customers on a given date\n",
        "- **Promo** - indicates whether a store is running a promo on that day\n",
        "- **SchoolHoliday** - indicates the closure of public schools\n",
        "- **StoreType** - differentiates between 4 different store models: a, b, c, d\n",
        "- **Assortment** - describes an assortment level: a = basic, b = extra, c = extended\n",
        "- **CompetitionDistance** - distance in meters to the nearest competitor store\n",
        "- **CompetitionOpenSince[Month/Year]** - gives the approximate year and month of the time the nearest competitor was opened\n",
        "- **Promo2** - Promo2 is a continuing and consecutive promotion for some stores: 0 = store is not participating, 1 = store is participating\n",
        "- **Promo2Since[Year/Week]** - describes the year and calendar week when the store started participating in Promo2\n",
        "- **PromoInterval** - describes the consecutive intervals Promo2 is started, naming the months the promotion is started anew. E.g. \"Feb,May,Aug,Nov\" means each round starts in February, May, August, November of any given year for that store"
      ]
    },
    {
      "cell_type": "markdown",
      "metadata": {
        "colab_type": "text",
        "id": "zQHPxAPV6Js-"
      },
      "source": [
        "This Sprint Challenge has three parts. To demonstrate mastery on each part, do all the required instructions. To earn a score of \"3\" for the part, also do the stretch goals."
      ]
    },
    {
      "cell_type": "markdown",
      "metadata": {
        "colab_type": "text",
        "id": "EGcK_2Ux6Js_"
      },
      "source": [
        "## 1. Wrangle relational data, Log-transform the target\n",
        "- Merge the `store` dataframe with the `train` and `test` dataframes. \n",
        "- Arrange the X matrix and y vector for the train and test sets.\n",
        "- Log-transform the target for the train and test set.\n",
        "- Plot the target's distribution for the train set, before and after the transformation.\n",
        "\n",
        "#### Stretch goals\n",
        "- Engineer 3+ more features."
      ]
    },
    {
      "cell_type": "code",
      "metadata": {
        "id": "WHTU9uVdZvN9",
        "colab_type": "code",
        "colab": {}
      },
      "source": [
        "import pandas as pd\n",
        "import numpy as np\n",
        "\n",
        "# Modeling\n",
        "import category_encoders as ce\n",
        "from sklearn.pipeline import Pipeline\n",
        "from sklearn.model_selection import RandomizedSearchCV\n",
        "from sklearn.metrics import mean_squared_error\n",
        "from xgboost import XGBRegressor\n",
        "\n",
        "# Plotting \n",
        "import matplotlib.pyplot as plt\n",
        "import seaborn as sns\n",
        "%matplotlib inline\n",
        "from pdpbox.pdp import pdp_isolate, pdp_plot\n",
        "from pdpbox.pdp import pdp_interact, pdp_interact_plot\n",
        "from xgboost import plot_importance\n",
        "import eli5\n",
        "from eli5.sklearn import PermutationImportance\n",
        "\n",
        "import datetime as dt\n",
        "from datetime import date"
      ],
      "execution_count": 0,
      "outputs": []
    },
    {
      "cell_type": "markdown",
      "metadata": {
        "id": "ktwr5dYTZvOA",
        "colab_type": "text"
      },
      "source": [
        "## 1.1 Merging Store with Train and Test"
      ]
    },
    {
      "cell_type": "code",
      "metadata": {
        "id": "Vnd-aLKAZvOB",
        "colab_type": "code",
        "colab": {}
      },
      "source": [
        "train = train.merge(store, on='Store')\n",
        "test = test.merge(store, on='Store')"
      ],
      "execution_count": 0,
      "outputs": []
    },
    {
      "cell_type": "markdown",
      "metadata": {
        "id": "H3fLJyXBZvOE",
        "colab_type": "text"
      },
      "source": [
        "## 1.4 Target Before And After Log Transform"
      ]
    },
    {
      "cell_type": "code",
      "metadata": {
        "colab_type": "code",
        "id": "R-vlwS9c6JtA",
        "scrolled": false,
        "colab": {},
        "outputId": "296f68c0-e2df-45b4-80f5-f8b5456f2532"
      },
      "source": [
        "y_train = train.Sales\n",
        "sns.distplot(y_train);"
      ],
      "execution_count": 0,
      "outputs": [
        {
          "output_type": "display_data",
          "data": {
            "image/png": "[encoded data removed]",
            "text/plain": [
              "<Figure size 432x288 with 1 Axes>"
            ]
          },
          "metadata": {
            "tags": [],
            "needs_background": "light"
          }
        }
      ]
    },
    {
      "cell_type": "code",
      "metadata": {
        "scrolled": true,
        "id": "QpJAd2t0ZvON",
        "colab_type": "code",
        "colab": {},
        "outputId": "675297a6-9dc1-424c-8f33-1d3e421f1e5b"
      },
      "source": [
        "sns.distplot(np.log1p(y_train));"
      ],
      "execution_count": 0,
      "outputs": [
        {
          "output_type": "display_data",
          "data": {
            "image/png": "[encoded data removed]",
            "text/plain": [
              "<Figure size 432x288 with 1 Axes>"
            ]
          },
          "metadata": {
            "tags": [],
            "needs_background": "light"
          }
        }
      ]
    },
    {
      "cell_type": "code",
      "metadata": {
        "scrolled": true,
        "id": "igcl6HmQZvOQ",
        "colab_type": "code",
        "colab": {},
        "outputId": "d9f4d270-2fca-4c4e-8a5d-9436e839cd5d"
      },
      "source": [
        "train.describe()"
      ],
      "execution_count": 0,
      "outputs": [
        {
          "output_type": "execute_result",
          "data": {
            "text/html": [
              "<div>\n",
              "<style scoped>\n",
              "    .dataframe tbody tr th:only-of-type {\n",
              "        vertical-align: middle;\n",
              "    }\n",
              "\n",
              "    .dataframe tbody tr th {\n",
              "        vertical-align: top;\n",
              "    }\n",
              "\n",
              "    .dataframe thead th {\n",
              "        text-align: right;\n",
              "    }\n",
              "</style>\n",
              "<table border=\"1\" class=\"dataframe\">\n",
              "  <thead>\n",
              "    <tr style=\"text-align: right;\">\n",
              "      <th></th>\n",
              "      <th>Store</th>\n",
              "      <th>DayOfWeek</th>\n",
              "      <th>Sales</th>\n",
              "      <th>Customers</th>\n",
              "      <th>Promo</th>\n",
              "      <th>SchoolHoliday</th>\n",
              "      <th>CompetitionDistance</th>\n",
              "      <th>CompetitionOpenSinceMonth</th>\n",
              "      <th>CompetitionOpenSinceYear</th>\n",
              "      <th>Promo2</th>\n",
              "      <th>Promo2SinceWeek</th>\n",
              "      <th>Promo2SinceYear</th>\n",
              "    </tr>\n",
              "  </thead>\n",
              "  <tbody>\n",
              "    <tr>\n",
              "      <th>count</th>\n",
              "      <td>78400.000000</td>\n",
              "      <td>78400.000000</td>\n",
              "      <td>78400.000000</td>\n",
              "      <td>78400.000000</td>\n",
              "      <td>78400.000000</td>\n",
              "      <td>78400.000000</td>\n",
              "      <td>78400.000000</td>\n",
              "      <td>65072.00000</td>\n",
              "      <td>65072.000000</td>\n",
              "      <td>78400.000000</td>\n",
              "      <td>15680.000000</td>\n",
              "      <td>15680.000000</td>\n",
              "    </tr>\n",
              "    <tr>\n",
              "      <th>mean</th>\n",
              "      <td>544.690000</td>\n",
              "      <td>3.506378</td>\n",
              "      <td>6988.430778</td>\n",
              "      <td>826.109847</td>\n",
              "      <td>0.450255</td>\n",
              "      <td>0.195268</td>\n",
              "      <td>4731.200000</td>\n",
              "      <td>7.13253</td>\n",
              "      <td>2010.963855</td>\n",
              "      <td>0.200000</td>\n",
              "      <td>24.450000</td>\n",
              "      <td>2011.600000</td>\n",
              "    </tr>\n",
              "    <tr>\n",
              "      <th>std</th>\n",
              "      <td>325.893217</td>\n",
              "      <td>1.710560</td>\n",
              "      <td>2824.069622</td>\n",
              "      <td>316.205067</td>\n",
              "      <td>0.497522</td>\n",
              "      <td>0.396409</td>\n",
              "      <td>8911.590516</td>\n",
              "      <td>3.22930</td>\n",
              "      <td>2.451700</td>\n",
              "      <td>0.400003</td>\n",
              "      <td>13.596297</td>\n",
              "      <td>0.969567</td>\n",
              "    </tr>\n",
              "    <tr>\n",
              "      <th>min</th>\n",
              "      <td>4.000000</td>\n",
              "      <td>1.000000</td>\n",
              "      <td>1712.000000</td>\n",
              "      <td>206.000000</td>\n",
              "      <td>0.000000</td>\n",
              "      <td>0.000000</td>\n",
              "      <td>30.000000</td>\n",
              "      <td>1.00000</td>\n",
              "      <td>2006.000000</td>\n",
              "      <td>0.000000</td>\n",
              "      <td>1.000000</td>\n",
              "      <td>2010.000000</td>\n",
              "    </tr>\n",
              "    <tr>\n",
              "      <th>25%</th>\n",
              "      <td>259.250000</td>\n",
              "      <td>2.000000</td>\n",
              "      <td>5005.000000</td>\n",
              "      <td>599.000000</td>\n",
              "      <td>0.000000</td>\n",
              "      <td>0.000000</td>\n",
              "      <td>700.000000</td>\n",
              "      <td>4.00000</td>\n",
              "      <td>2009.000000</td>\n",
              "      <td>0.000000</td>\n",
              "      <td>14.000000</td>\n",
              "      <td>2011.000000</td>\n",
              "    </tr>\n",
              "    <tr>\n",
              "      <th>50%</th>\n",
              "      <td>550.000000</td>\n",
              "      <td>3.000000</td>\n",
              "      <td>6370.000000</td>\n",
              "      <td>757.000000</td>\n",
              "      <td>0.000000</td>\n",
              "      <td>0.000000</td>\n",
              "      <td>1945.000000</td>\n",
              "      <td>9.00000</td>\n",
              "      <td>2011.000000</td>\n",
              "      <td>0.000000</td>\n",
              "      <td>22.000000</td>\n",
              "      <td>2012.000000</td>\n",
              "    </tr>\n",
              "    <tr>\n",
              "      <th>75%</th>\n",
              "      <td>826.500000</td>\n",
              "      <td>5.000000</td>\n",
              "      <td>8303.000000</td>\n",
              "      <td>993.000000</td>\n",
              "      <td>1.000000</td>\n",
              "      <td>0.000000</td>\n",
              "      <td>3797.500000</td>\n",
              "      <td>9.00000</td>\n",
              "      <td>2013.000000</td>\n",
              "      <td>0.000000</td>\n",
              "      <td>35.000000</td>\n",
              "      <td>2012.000000</td>\n",
              "    </tr>\n",
              "    <tr>\n",
              "      <th>max</th>\n",
              "      <td>1113.000000</td>\n",
              "      <td>6.000000</td>\n",
              "      <td>27265.000000</td>\n",
              "      <td>3360.000000</td>\n",
              "      <td>1.000000</td>\n",
              "      <td>1.000000</td>\n",
              "      <td>48330.000000</td>\n",
              "      <td>12.00000</td>\n",
              "      <td>2015.000000</td>\n",
              "      <td>1.000000</td>\n",
              "      <td>48.000000</td>\n",
              "      <td>2013.000000</td>\n",
              "    </tr>\n",
              "  </tbody>\n",
              "</table>\n",
              "</div>"
            ],
            "text/plain": [
              "              Store     DayOfWeek         Sales     Customers         Promo  \\\n",
              "count  78400.000000  78400.000000  78400.000000  78400.000000  78400.000000   \n",
              "mean     544.690000      3.506378   6988.430778    826.109847      0.450255   \n",
              "std      325.893217      1.710560   2824.069622    316.205067      0.497522   \n",
              "min        4.000000      1.000000   1712.000000    206.000000      0.000000   \n",
              "25%      259.250000      2.000000   5005.000000    599.000000      0.000000   \n",
              "50%      550.000000      3.000000   6370.000000    757.000000      0.000000   \n",
              "75%      826.500000      5.000000   8303.000000    993.000000      1.000000   \n",
              "max     1113.000000      6.000000  27265.000000   3360.000000      1.000000   \n",
              "\n",
              "       SchoolHoliday  CompetitionDistance  CompetitionOpenSinceMonth  \\\n",
              "count   78400.000000         78400.000000                65072.00000   \n",
              "mean        0.195268          4731.200000                    7.13253   \n",
              "std         0.396409          8911.590516                    3.22930   \n",
              "min         0.000000            30.000000                    1.00000   \n",
              "25%         0.000000           700.000000                    4.00000   \n",
              "50%         0.000000          1945.000000                    9.00000   \n",
              "75%         0.000000          3797.500000                    9.00000   \n",
              "max         1.000000         48330.000000                   12.00000   \n",
              "\n",
              "       CompetitionOpenSinceYear        Promo2  Promo2SinceWeek  \\\n",
              "count              65072.000000  78400.000000     15680.000000   \n",
              "mean                2010.963855      0.200000        24.450000   \n",
              "std                    2.451700      0.400003        13.596297   \n",
              "min                 2006.000000      0.000000         1.000000   \n",
              "25%                 2009.000000      0.000000        14.000000   \n",
              "50%                 2011.000000      0.000000        22.000000   \n",
              "75%                 2013.000000      0.000000        35.000000   \n",
              "max                 2015.000000      1.000000        48.000000   \n",
              "\n",
              "       Promo2SinceYear  \n",
              "count     15680.000000  \n",
              "mean       2011.600000  \n",
              "std           0.969567  \n",
              "min        2010.000000  \n",
              "25%        2011.000000  \n",
              "50%        2012.000000  \n",
              "75%        2012.000000  \n",
              "max        2013.000000  "
            ]
          },
          "metadata": {
            "tags": []
          },
          "execution_count": 6
        }
      ]
    },
    {
      "cell_type": "code",
      "metadata": {
        "scrolled": false,
        "id": "CbwT6-o3ZvOU",
        "colab_type": "code",
        "colab": {},
        "outputId": "50e660a1-1b51-4f53-9d90-ff17d19d631e"
      },
      "source": [
        "print(train.shape)\n",
        "train.isna().sum()"
      ],
      "execution_count": 0,
      "outputs": [
        {
          "output_type": "stream",
          "text": [
            "(78400, 16)\n"
          ],
          "name": "stdout"
        },
        {
          "output_type": "execute_result",
          "data": {
            "text/plain": [
              "Store                            0\n",
              "DayOfWeek                        0\n",
              "Date                             0\n",
              "Sales                            0\n",
              "Customers                        0\n",
              "Promo                            0\n",
              "SchoolHoliday                    0\n",
              "StoreType                        0\n",
              "Assortment                       0\n",
              "CompetitionDistance              0\n",
              "CompetitionOpenSinceMonth    13328\n",
              "CompetitionOpenSinceYear     13328\n",
              "Promo2                           0\n",
              "Promo2SinceWeek              62720\n",
              "Promo2SinceYear              62720\n",
              "PromoInterval                62720\n",
              "dtype: int64"
            ]
          },
          "metadata": {
            "tags": []
          },
          "execution_count": 7
        }
      ]
    },
    {
      "cell_type": "markdown",
      "metadata": {
        "id": "78tu7OfxZvOY",
        "colab_type": "text"
      },
      "source": [
        "## 1.1 Feature 1\n",
        "\n",
        "We will create a new feature called MonthsCompetition that markes how many months since a competition open near a store. Since CompetitionOpenSinceMonth and CompetitionOpenSinceYear are missing for some stores, we will impute them with first transaction date of the store."
      ]
    },
    {
      "cell_type": "code",
      "metadata": {
        "id": "RVXWS_zEZvOa",
        "colab_type": "code",
        "colab": {}
      },
      "source": [
        "train['Date'] = pd.to_datetime(train['Date'], infer_datetime_format=True)"
      ],
      "execution_count": 0,
      "outputs": []
    },
    {
      "cell_type": "markdown",
      "metadata": {
        "id": "uOxHx9NKZvOc",
        "colab_type": "text"
      },
      "source": [
        "stores = train.Store.unique()\n",
        "for s in stores:\n",
        "    train[train.Store == s][\"CompetitionOpenSinceYear\"] = train[train.Store == s][\"CompetitionOpenSinceYear\"].fillna(\n",
        "        train[train.Store == s].Date.min().year, inplace=True)"
      ]
    },
    {
      "cell_type": "code",
      "metadata": {
        "id": "qa2qkrweZvOd",
        "colab_type": "code",
        "colab": {}
      },
      "source": [
        "### This is so wrong since stores could have different opening months.\n",
        "train['Date'] = pd.to_datetime(train['Date'], infer_datetime_format=True)\n",
        "train.CompetitionOpenSinceYear = train.CompetitionOpenSinceYear.fillna(train.Date.min().year)\n",
        "train.CompetitionOpenSinceMonth = train.CompetitionOpenSinceMonth.fillna(train.Date.min().month)\n",
        "train[\"MonthsCompetition\"] = (train.Date - train.Date.min()).dt.days# + train.CompetitionOpenSinceYear * 12\n",
        "\n",
        "test['Date'] = pd.to_datetime(test['Date'], infer_datetime_format=True)\n",
        "test.CompetitionOpenSinceYear = test.CompetitionOpenSinceYear.fillna(test.Date.min().year)\n",
        "test.CompetitionOpenSinceMonth = test.CompetitionOpenSinceMonth.fillna(test.Date.min().month)\n",
        "test[\"MonthsCompetition\"] = (test.Date - test.Date.min()).dt.days# + train.CompetitionOpenSinceYear * 12"
      ],
      "execution_count": 0,
      "outputs": []
    },
    {
      "cell_type": "markdown",
      "metadata": {
        "id": "pOn5ko7jZvOf",
        "colab_type": "text"
      },
      "source": [
        "## 1.2-3 Arrange Features Matrices and Target Vector and Log Transform Target Vector"
      ]
    },
    {
      "cell_type": "code",
      "metadata": {
        "id": "xJ4GosbDZvOg",
        "colab_type": "code",
        "colab": {}
      },
      "source": [
        "features = ['DayOfWeek', 'Customers', 'Promo', 'SchoolHoliday', \n",
        "            'StoreType', 'Assortment', 'CompetitionDistance', 'Promo2', \"MonthsCompetition\"]\n",
        "target = ['Sales']"
      ],
      "execution_count": 0,
      "outputs": []
    },
    {
      "cell_type": "code",
      "metadata": {
        "id": "OfC629M4ZvOj",
        "colab_type": "code",
        "colab": {}
      },
      "source": [
        "# For simplification, log transform both y_train and y_test so we can use RMSE directly\n",
        "# during our randomized search to present RMSLE.\n",
        "X_train = train[features]\n",
        "y_train = np.log1p(train[target])\n",
        "X_test = test[features]\n",
        "y_test = np.log1p(test[target])"
      ],
      "execution_count": 0,
      "outputs": []
    },
    {
      "cell_type": "markdown",
      "metadata": {
        "colab_type": "text",
        "id": "HWTEklmo6JtC"
      },
      "source": [
        "## 2. Fit and validate your model\n",
        "- **Use Gradient Boosting** or any type of regression model.\n",
        "- **Beat the baseline:** The estimated baseline Root Mean Squared Logarithmic Error is 0.90, if we guessed the mean sales for every prediction. Remember that RMSE with the log-transformed target is equivalent to RMSLE with the original target. Try to get your error below 0.20.\n",
        "- **To validate your model, choose any one of these options:**\n",
        "  - Split the train dataframe into train and validation sets. Put all rows for a given store into the same set. Use xgboost `early_stopping_rounds` with the validation set. \n",
        "  - Or, use scikit-learn `cross_val_score`. Put all rows for a given store into the same fold.\n",
        "  - Or, use scikit-learn `RandomizedSearchCV` for hyperparameter optimization. Put all rows for a given store into the same fold.\n",
        "- **Get the Validation Error** (multiple times if you try multiple iterations) **and Test Error** (one time, at the end).\n",
        "  \n",
        "#### Stretch goal\n",
        "- Optimize 3+ hyperparameters by searching 10+ \"candidates\" (possible combinations of hyperparameters). "
      ]
    },
    {
      "cell_type": "markdown",
      "metadata": {
        "id": "VpmaH647ZvOn",
        "colab_type": "text"
      },
      "source": [
        "## 2.1 RandomizedSearchCV, 10 Candidates, 20 Fits"
      ]
    },
    {
      "cell_type": "code",
      "metadata": {
        "id": "wHN9ac24ZvOo",
        "colab_type": "code",
        "colab": {}
      },
      "source": [
        "xgbr = XGBRegressor(random_state=45, nrounds = 'min.error.idx', eval_metric = 'rmse',\n",
        "                    verbosity=1, nthread=-1, early_stopping_rounds=8,\n",
        "                    max_depth = 3, n_estimators = 100, learning_rate=0.1)\n",
        "\n",
        "encoder = ce.OrdinalEncoder()\n",
        "xgbr_pipe = Pipeline(steps=[('encoder', encoder),\n",
        "                            ('xgbr', xgbr)])\n",
        "\n",
        "param_grid = {\n",
        "    \"xgbr__max_depth\": [3, 4, 5],\n",
        "    \"xgbr__n_estimators\": [100, 200],\n",
        "    \"xgbr__learning_rate\": [0.1, 0.3],\n",
        "}\n",
        "\n",
        "xgb_gs = RandomizedSearchCV(xgbr_pipe, param_distributions=param_grid, n_jobs=-1, cv=2, verbose=True)"
      ],
      "execution_count": 0,
      "outputs": []
    },
    {
      "cell_type": "code",
      "metadata": {
        "colab_type": "code",
        "id": "H6Iyb-jz6JtC",
        "colab": {},
        "outputId": "af91b415-cb45-4c89-8c44-07ac3907a5ba"
      },
      "source": [
        "xgb_gs.fit(X_train, y_train)"
      ],
      "execution_count": 0,
      "outputs": [
        {
          "output_type": "stream",
          "text": [
            "Fitting 2 folds for each of 10 candidates, totalling 20 fits\n"
          ],
          "name": "stdout"
        },
        {
          "output_type": "stream",
          "text": [
            "[Parallel(n_jobs=-1)]: Using backend LokyBackend with 8 concurrent workers.\n",
            "[Parallel(n_jobs=-1)]: Done  20 out of  20 | elapsed:   24.0s finished\n"
          ],
          "name": "stderr"
        },
        {
          "output_type": "stream",
          "text": [
            "[10:48:56] WARNING: C:/Jenkins/workspace/xgboost-win64_release_0.90/src/objective/regression_obj.cu:152: reg:linear is now deprecated in favor of reg:squarederror.\n"
          ],
          "name": "stdout"
        },
        {
          "output_type": "execute_result",
          "data": {
            "text/plain": [
              "RandomizedSearchCV(cv=2, error_score='raise-deprecating',\n",
              "                   estimator=Pipeline(memory=None,\n",
              "                                      steps=[('encoder',\n",
              "                                              OrdinalEncoder(cols=None,\n",
              "                                                             drop_invariant=False,\n",
              "                                                             handle_missing='value',\n",
              "                                                             handle_unknown='value',\n",
              "                                                             mapping=None,\n",
              "                                                             return_df=True,\n",
              "                                                             verbose=0)),\n",
              "                                             ('xgbr',\n",
              "                                              XGBRegressor(base_score=0.5,\n",
              "                                                           booster='gbtree',\n",
              "                                                           colsample_bylevel=1,\n",
              "                                                           colsample_bynode=1,\n",
              "                                                           colsample_bytree=1,\n",
              "                                                           ea...\n",
              "                                                           reg_alpha=0,\n",
              "                                                           reg_lambda=1,\n",
              "                                                           scale_pos_weight=1,\n",
              "                                                           seed=None,\n",
              "                                                           silent=None,\n",
              "                                                           subsample=1,\n",
              "                                                           verbosity=1))],\n",
              "                                      verbose=False),\n",
              "                   iid='warn', n_iter=10, n_jobs=-1,\n",
              "                   param_distributions={'xgbr__learning_rate': [0.1, 0.3],\n",
              "                                        'xgbr__max_depth': [3, 4, 5],\n",
              "                                        'xgbr__n_estimators': [100, 200]},\n",
              "                   pre_dispatch='2*n_jobs', random_state=None, refit=True,\n",
              "                   return_train_score=False, scoring=None, verbose=True)"
            ]
          },
          "metadata": {
            "tags": []
          },
          "execution_count": 14
        }
      ]
    },
    {
      "cell_type": "markdown",
      "metadata": {
        "id": "FHzEaz2aZvOv",
        "colab_type": "text"
      },
      "source": [
        "## 2.2 Validation Scores in Randomized Search"
      ]
    },
    {
      "cell_type": "code",
      "metadata": {
        "scrolled": true,
        "id": "ceoBRb-CZvOv",
        "colab_type": "code",
        "colab": {},
        "outputId": "f07cb3a5-66db-4552-fa50-a139139400f8"
      },
      "source": [
        "results = pd.DataFrame(xgb_gs.cv_results_)\n",
        "results[['params', 'mean_test_score', 'std_test_score']]"
      ],
      "execution_count": 0,
      "outputs": [
        {
          "output_type": "execute_result",
          "data": {
            "text/html": [
              "<div>\n",
              "<style scoped>\n",
              "    .dataframe tbody tr th:only-of-type {\n",
              "        vertical-align: middle;\n",
              "    }\n",
              "\n",
              "    .dataframe tbody tr th {\n",
              "        vertical-align: top;\n",
              "    }\n",
              "\n",
              "    .dataframe thead th {\n",
              "        text-align: right;\n",
              "    }\n",
              "</style>\n",
              "<table border=\"1\" class=\"dataframe\">\n",
              "  <thead>\n",
              "    <tr style=\"text-align: right;\">\n",
              "      <th></th>\n",
              "      <th>params</th>\n",
              "      <th>mean_test_score</th>\n",
              "      <th>std_test_score</th>\n",
              "    </tr>\n",
              "  </thead>\n",
              "  <tbody>\n",
              "    <tr>\n",
              "      <th>0</th>\n",
              "      <td>{'xgbr__n_estimators': 100, 'xgbr__max_depth':...</td>\n",
              "      <td>0.748716</td>\n",
              "      <td>0.050311</td>\n",
              "    </tr>\n",
              "    <tr>\n",
              "      <th>1</th>\n",
              "      <td>{'xgbr__n_estimators': 100, 'xgbr__max_depth':...</td>\n",
              "      <td>0.764901</td>\n",
              "      <td>0.029911</td>\n",
              "    </tr>\n",
              "    <tr>\n",
              "      <th>2</th>\n",
              "      <td>{'xgbr__n_estimators': 100, 'xgbr__max_depth':...</td>\n",
              "      <td>0.787255</td>\n",
              "      <td>0.041578</td>\n",
              "    </tr>\n",
              "    <tr>\n",
              "      <th>3</th>\n",
              "      <td>{'xgbr__n_estimators': 200, 'xgbr__max_depth':...</td>\n",
              "      <td>0.737096</td>\n",
              "      <td>0.050616</td>\n",
              "    </tr>\n",
              "    <tr>\n",
              "      <th>4</th>\n",
              "      <td>{'xgbr__n_estimators': 200, 'xgbr__max_depth':...</td>\n",
              "      <td>0.741977</td>\n",
              "      <td>0.043952</td>\n",
              "    </tr>\n",
              "    <tr>\n",
              "      <th>5</th>\n",
              "      <td>{'xgbr__n_estimators': 100, 'xgbr__max_depth':...</td>\n",
              "      <td>0.802789</td>\n",
              "      <td>0.049570</td>\n",
              "    </tr>\n",
              "    <tr>\n",
              "      <th>6</th>\n",
              "      <td>{'xgbr__n_estimators': 200, 'xgbr__max_depth':...</td>\n",
              "      <td>0.758328</td>\n",
              "      <td>0.031542</td>\n",
              "    </tr>\n",
              "    <tr>\n",
              "      <th>7</th>\n",
              "      <td>{'xgbr__n_estimators': 200, 'xgbr__max_depth':...</td>\n",
              "      <td>0.733128</td>\n",
              "      <td>0.009130</td>\n",
              "    </tr>\n",
              "    <tr>\n",
              "      <th>8</th>\n",
              "      <td>{'xgbr__n_estimators': 100, 'xgbr__max_depth':...</td>\n",
              "      <td>0.720680</td>\n",
              "      <td>0.013805</td>\n",
              "    </tr>\n",
              "    <tr>\n",
              "      <th>9</th>\n",
              "      <td>{'xgbr__n_estimators': 100, 'xgbr__max_depth':...</td>\n",
              "      <td>0.748142</td>\n",
              "      <td>0.046434</td>\n",
              "    </tr>\n",
              "  </tbody>\n",
              "</table>\n",
              "</div>"
            ],
            "text/plain": [
              "                                              params  mean_test_score  \\\n",
              "0  {'xgbr__n_estimators': 100, 'xgbr__max_depth':...         0.748716   \n",
              "1  {'xgbr__n_estimators': 100, 'xgbr__max_depth':...         0.764901   \n",
              "2  {'xgbr__n_estimators': 100, 'xgbr__max_depth':...         0.787255   \n",
              "3  {'xgbr__n_estimators': 200, 'xgbr__max_depth':...         0.737096   \n",
              "4  {'xgbr__n_estimators': 200, 'xgbr__max_depth':...         0.741977   \n",
              "5  {'xgbr__n_estimators': 100, 'xgbr__max_depth':...         0.802789   \n",
              "6  {'xgbr__n_estimators': 200, 'xgbr__max_depth':...         0.758328   \n",
              "7  {'xgbr__n_estimators': 200, 'xgbr__max_depth':...         0.733128   \n",
              "8  {'xgbr__n_estimators': 100, 'xgbr__max_depth':...         0.720680   \n",
              "9  {'xgbr__n_estimators': 100, 'xgbr__max_depth':...         0.748142   \n",
              "\n",
              "   std_test_score  \n",
              "0        0.050311  \n",
              "1        0.029911  \n",
              "2        0.041578  \n",
              "3        0.050616  \n",
              "4        0.043952  \n",
              "5        0.049570  \n",
              "6        0.031542  \n",
              "7        0.009130  \n",
              "8        0.013805  \n",
              "9        0.046434  "
            ]
          },
          "metadata": {
            "tags": []
          },
          "execution_count": 15
        }
      ]
    },
    {
      "cell_type": "code",
      "metadata": {
        "id": "TtMo7H1TZvOz",
        "colab_type": "code",
        "colab": {},
        "outputId": "7fae0a22-d3cd-4122-f16c-9badd717931d"
      },
      "source": [
        "sns.lineplot(x=\"rank_test_score\", y=\"mean_test_score\", data=results);"
      ],
      "execution_count": 0,
      "outputs": [
        {
          "output_type": "display_data",
          "data": {
            "image/png": "[encoded data removed]",
            "text/plain": [
              "<Figure size 432x288 with 1 Axes>"
            ]
          },
          "metadata": {
            "tags": [],
            "needs_background": "light"
          }
        }
      ]
    },
    {
      "cell_type": "markdown",
      "metadata": {
        "id": "hzAJTMHHZvO4",
        "colab_type": "text"
      },
      "source": [
        "## 2.3 Test Score"
      ]
    },
    {
      "cell_type": "code",
      "metadata": {
        "id": "xg_-Y3fJZvO5",
        "colab_type": "code",
        "colab": {},
        "outputId": "658d3c37-eb08-4af4-ad8e-60c61d0d02de"
      },
      "source": [
        "# Since we already log transformed y_test, both y_test and y_pred are log-transformed\n",
        "# thus their root-mean-squared error is the same as their root-mean-squared log error  \n",
        "# in normal space.\n",
        "y_pred = xgb_gs.predict(X_test)\n",
        "print(np.sqrt(mean_squared_error(y_test, y_pred)))"
      ],
      "execution_count": 0,
      "outputs": [
        {
          "output_type": "stream",
          "text": [
            "0.14246745108732112\n"
          ],
          "name": "stdout"
        }
      ]
    },
    {
      "cell_type": "markdown",
      "metadata": {
        "colab_type": "text",
        "id": "ysMSkZqx6JtE"
      },
      "source": [
        "## 3. Plot model interpretation visualizations\n",
        "- Choose any one of these options:\n",
        "  - Permutation Importances plot\n",
        "  - Partial Dependency Plot, 1 feature isolation\n",
        "  - Partial Dependency Plot, 2 feature interaction\n",
        "  \n",
        "#### Stretch goals\n",
        "- Plot 2+ visualizations.\n",
        "- Use permutation importances for feature selection. "
      ]
    },
    {
      "cell_type": "code",
      "metadata": {
        "id": "OhvXRsWlZvO9",
        "colab_type": "code",
        "colab": {}
      },
      "source": [
        ""
      ],
      "execution_count": 0,
      "outputs": []
    },
    {
      "cell_type": "code",
      "metadata": {
        "id": "ruwFXQYjZvO_",
        "colab_type": "code",
        "colab": {},
        "outputId": "6a4fa12b-ef5b-47b8-dd93-c8bb3d2a8023"
      },
      "source": [
        "# Log Sales vs number of customers.\n",
        "\n",
        "feature = 'Customers'\n",
        "\n",
        "isolated = pdp_isolate(\n",
        "    model=xgb_gs, \n",
        "    dataset=X_test, \n",
        "    model_features=X_test.columns, \n",
        "    feature=feature\n",
        ")\n",
        "\n",
        "pdp_plot(isolated, feature_name=feature);"
      ],
      "execution_count": 0,
      "outputs": [
        {
          "output_type": "display_data",
          "data": {
            "image/png": "[encoded data removed]",
            "text/plain": [
              "<Figure size 1080x684 with 2 Axes>"
            ]
          },
          "metadata": {
            "tags": [],
            "needs_background": "light"
          }
        }
      ]
    },
    {
      "cell_type": "code",
      "metadata": {
        "id": "hBvep57ZZvPC",
        "colab_type": "code",
        "colab": {}
      },
      "source": [
        ""
      ],
      "execution_count": 0,
      "outputs": []
    },
    {
      "cell_type": "code",
      "metadata": {
        "id": "HwZ6dVYfZvPG",
        "colab_type": "code",
        "colab": {}
      },
      "source": [
        ""
      ],
      "execution_count": 0,
      "outputs": []
    }
  ]
}