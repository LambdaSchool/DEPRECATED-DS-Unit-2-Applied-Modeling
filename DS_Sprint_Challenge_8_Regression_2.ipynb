{
 "cells": [
  {
   "cell_type": "markdown",
   "metadata": {
    "colab_type": "text",
    "id": "rPh-uurrzprt"
   },
   "source": [
    "_Lambda School Data Science, Unit 2_\n",
    " \n",
    "# Regression 2 Sprint Challenge: Predict drugstore sales 🏥\n",
    "\n",
    "For your Sprint Challenge, you'll use real-world sales data from a German drugstore chain, from Jan 2, 2013 — July 31, 2015.\n",
    "\n",
    "You are given three dataframes:\n",
    "\n",
    "- `train`: historical sales data for 100 stores\n",
    "- `test`: historical sales data for 100 different stores\n",
    "- `store`: supplemental information about the stores\n",
    "\n",
    "\n",
    "The train and test set do _not_ have different date ranges. But they _do_ have different store ids. Your task is _not_ to forecast future sales from past sales. **Your task is to predict sales at unknown stores, from sales at known stores.**"
   ]
  },
  {
   "cell_type": "markdown",
   "metadata": {
    "colab_type": "text",
    "id": "PrvIj4olzprv"
   },
   "source": [
    "The dataframes have a variety of columns:\n",
    "\n",
    "- **Store** - a unique Id for each store\n",
    "- **DayOfWeek** - integer, 1-6\n",
    "- **Date** - the date, from Jan 2, 2013 — July 31, 2015.\n",
    "- **Sales** - the units of inventory sold on a given date (this is the target you are predicting)\n",
    "- **Customers** - the number of customers on a given date\n",
    "- **Promo** - indicates whether a store is running a promo on that day\n",
    "- **SchoolHoliday** - indicates the closure of public schools\n",
    "- **StoreType** - differentiates between 4 different store models: a, b, c, d\n",
    "- **Assortment** - describes an assortment level: a = basic, b = extra, c = extended\n",
    "- **CompetitionDistance** - distance in meters to the nearest competitor store\n",
    "- **CompetitionOpenSince[Month/Year]** - gives the approximate year and month of the time the nearest competitor was opened\n",
    "- **Promo2** - Promo2 is a continuing and consecutive promotion for some stores: 0 = store is not participating, 1 = store is participating\n",
    "- **Promo2Since[Year/Week]** - describes the year and calendar week when the store started participating in Promo2\n",
    "- **PromoInterval** - describes the consecutive intervals Promo2 is started, naming the months the promotion is started anew. E.g. \"Feb,May,Aug,Nov\" means each round starts in February, May, August, November of any given year for that store"
   ]
  },
  {
   "cell_type": "markdown",
   "metadata": {
    "colab_type": "text",
    "id": "Txb785Qdzprw"
   },
   "source": [
    "This Sprint Challenge has three parts. To demonstrate mastery on each part, do all the required instructions. To earn a score of \"3\" for the part, also do the stretch goals."
   ]
  },
  {
   "cell_type": "markdown",
   "metadata": {
    "colab_type": "text",
    "id": "B9NV3COuzprw"
   },
   "source": [
    "## 1. Wrangle relational data, Log-transform the target\n",
    "- Merge the `store` dataframe with the `train` and `test` dataframes. \n",
    "- Arrange the X matrix and y vector for the train and test sets.\n",
    "- Log-transform the target for the train and test set.\n",
    "- Plot the target's distribution for the train set, before and after the transformation.\n",
    "\n",
    "#### Stretch goals\n",
    "- Engineer 3+ more features."
   ]
  },
  {
   "cell_type": "code",
   "execution_count": 9,
   "metadata": {},
   "outputs": [],
   "source": [
    "# Import relational data\n",
    "import pandas as pd\n",
    "trainval = pd.read_csv('https://drive.google.com/uc?export=download&id=1E9rgiGf1f_WL2S4-V6gD7ZhB8r8Yb_lE')\n",
    "test = pd.read_csv('https://drive.google.com/uc?export=download&id=1vkaVptn4TTYC9-YPZvbvmfDNHVR8aUml')\n",
    "store = pd.read_csv('https://drive.google.com/uc?export=download&id=1rZD-V1mWydeytptQfr-NL7dBqre6lZMo')\n",
    "assert trainval.shape == (78400, 7)\n",
    "assert test.shape == (78400, 7)\n",
    "assert store.shape == (200, 10)"
   ]
  },
  {
   "cell_type": "code",
   "execution_count": 10,
   "metadata": {},
   "outputs": [],
   "source": [
    "def merge(X):\n",
    "    X = X.copy()\n",
    "    X = X.merge(store)\n",
    "    return X\n",
    "\n",
    "trainval = merge(trainval)\n",
    "test = merge(test)"
   ]
  },
  {
   "cell_type": "code",
   "execution_count": 11,
   "metadata": {},
   "outputs": [
    {
     "data": {
      "text/plain": [
       "((78400, 16), (78400, 16))"
      ]
     },
     "execution_count": 11,
     "metadata": {},
     "output_type": "execute_result"
    }
   ],
   "source": [
    "trainval.shape, test.shape"
   ]
  },
  {
   "cell_type": "code",
   "execution_count": 12,
   "metadata": {},
   "outputs": [],
   "source": [
    "from sklearn.model_selection import train_test_split\n",
    "\n",
    "train, val = train_test_split(\n",
    "    trainval, random_state=42\n",
    ")"
   ]
  },
  {
   "cell_type": "code",
   "execution_count": 13,
   "metadata": {},
   "outputs": [
    {
     "data": {
      "text/plain": [
       "((58800, 16), (19600, 16), (78400, 16))"
      ]
     },
     "execution_count": 13,
     "metadata": {},
     "output_type": "execute_result"
    }
   ],
   "source": [
    "train.shape, val.shape, test.shape"
   ]
  },
  {
   "cell_type": "code",
   "execution_count": 14,
   "metadata": {
    "colab": {},
    "colab_type": "code",
    "id": "qjvBbl78zprx"
   },
   "outputs": [],
   "source": [
    "def wrangle(X):\n",
    "    X = X.copy()\n",
    "    \n",
    "    # Drop Store because our goal is to predict unknown stores\n",
    "    X = X.drop(columns='Store')\n",
    "    return X\n",
    "\n",
    "\n",
    "train = wrangle(train)\n",
    "val = wrangle(val)\n",
    "test = wrangle(test)"
   ]
  },
  {
   "cell_type": "code",
   "execution_count": 15,
   "metadata": {},
   "outputs": [
    {
     "data": {
      "text/plain": [
       "((58800, 15), (19600, 15), (78400, 15))"
      ]
     },
     "execution_count": 15,
     "metadata": {},
     "output_type": "execute_result"
    }
   ],
   "source": [
    "train.shape, val.shape, test.shape"
   ]
  },
  {
   "cell_type": "code",
   "execution_count": 16,
   "metadata": {},
   "outputs": [
    {
     "data": {
      "text/html": [
       "<div>\n",
       "<style scoped>\n",
       "    .dataframe tbody tr th:only-of-type {\n",
       "        vertical-align: middle;\n",
       "    }\n",
       "\n",
       "    .dataframe tbody tr th {\n",
       "        vertical-align: top;\n",
       "    }\n",
       "\n",
       "    .dataframe thead th {\n",
       "        text-align: right;\n",
       "    }\n",
       "</style>\n",
       "<table border=\"1\" class=\"dataframe\">\n",
       "  <thead>\n",
       "    <tr style=\"text-align: right;\">\n",
       "      <th></th>\n",
       "      <th>DayOfWeek</th>\n",
       "      <th>Date</th>\n",
       "      <th>Sales</th>\n",
       "      <th>Customers</th>\n",
       "      <th>Promo</th>\n",
       "      <th>SchoolHoliday</th>\n",
       "      <th>StoreType</th>\n",
       "      <th>Assortment</th>\n",
       "      <th>CompetitionDistance</th>\n",
       "      <th>CompetitionOpenSinceMonth</th>\n",
       "      <th>CompetitionOpenSinceYear</th>\n",
       "      <th>Promo2</th>\n",
       "      <th>Promo2SinceWeek</th>\n",
       "      <th>Promo2SinceYear</th>\n",
       "      <th>PromoInterval</th>\n",
       "    </tr>\n",
       "  </thead>\n",
       "  <tbody>\n",
       "    <tr>\n",
       "      <th>36471</th>\n",
       "      <td>4</td>\n",
       "      <td>2014-03-27</td>\n",
       "      <td>5576</td>\n",
       "      <td>686</td>\n",
       "      <td>0</td>\n",
       "      <td>0</td>\n",
       "      <td>d</td>\n",
       "      <td>c</td>\n",
       "      <td>2780.0</td>\n",
       "      <td>6.0</td>\n",
       "      <td>2015.0</td>\n",
       "      <td>0</td>\n",
       "      <td>NaN</td>\n",
       "      <td>NaN</td>\n",
       "      <td>NaN</td>\n",
       "    </tr>\n",
       "    <tr>\n",
       "      <th>58197</th>\n",
       "      <td>2</td>\n",
       "      <td>2014-12-23</td>\n",
       "      <td>12190</td>\n",
       "      <td>1305</td>\n",
       "      <td>0</td>\n",
       "      <td>1</td>\n",
       "      <td>a</td>\n",
       "      <td>a</td>\n",
       "      <td>17570.0</td>\n",
       "      <td>NaN</td>\n",
       "      <td>NaN</td>\n",
       "      <td>0</td>\n",
       "      <td>NaN</td>\n",
       "      <td>NaN</td>\n",
       "      <td>NaN</td>\n",
       "    </tr>\n",
       "    <tr>\n",
       "      <th>30201</th>\n",
       "      <td>2</td>\n",
       "      <td>2014-03-25</td>\n",
       "      <td>3642</td>\n",
       "      <td>486</td>\n",
       "      <td>0</td>\n",
       "      <td>0</td>\n",
       "      <td>c</td>\n",
       "      <td>c</td>\n",
       "      <td>1540.0</td>\n",
       "      <td>NaN</td>\n",
       "      <td>NaN</td>\n",
       "      <td>1</td>\n",
       "      <td>1.0</td>\n",
       "      <td>2012.0</td>\n",
       "      <td>Jan,Apr,Jul,Oct</td>\n",
       "    </tr>\n",
       "    <tr>\n",
       "      <th>17698</th>\n",
       "      <td>3</td>\n",
       "      <td>2014-02-05</td>\n",
       "      <td>8995</td>\n",
       "      <td>1150</td>\n",
       "      <td>1</td>\n",
       "      <td>0</td>\n",
       "      <td>a</td>\n",
       "      <td>c</td>\n",
       "      <td>340.0</td>\n",
       "      <td>9.0</td>\n",
       "      <td>2012.0</td>\n",
       "      <td>1</td>\n",
       "      <td>40.0</td>\n",
       "      <td>2012.0</td>\n",
       "      <td>Jan,Apr,Jul,Oct</td>\n",
       "    </tr>\n",
       "    <tr>\n",
       "      <th>65968</th>\n",
       "      <td>2</td>\n",
       "      <td>2015-03-17</td>\n",
       "      <td>10352</td>\n",
       "      <td>1035</td>\n",
       "      <td>1</td>\n",
       "      <td>0</td>\n",
       "      <td>a</td>\n",
       "      <td>a</td>\n",
       "      <td>2820.0</td>\n",
       "      <td>9.0</td>\n",
       "      <td>2009.0</td>\n",
       "      <td>0</td>\n",
       "      <td>NaN</td>\n",
       "      <td>NaN</td>\n",
       "      <td>NaN</td>\n",
       "    </tr>\n",
       "  </tbody>\n",
       "</table>\n",
       "</div>"
      ],
      "text/plain": [
       "       DayOfWeek        Date  Sales  Customers  Promo  SchoolHoliday  \\\n",
       "36471          4  2014-03-27   5576        686      0              0   \n",
       "58197          2  2014-12-23  12190       1305      0              1   \n",
       "30201          2  2014-03-25   3642        486      0              0   \n",
       "17698          3  2014-02-05   8995       1150      1              0   \n",
       "65968          2  2015-03-17  10352       1035      1              0   \n",
       "\n",
       "      StoreType Assortment  CompetitionDistance  CompetitionOpenSinceMonth  \\\n",
       "36471         d          c               2780.0                        6.0   \n",
       "58197         a          a              17570.0                        NaN   \n",
       "30201         c          c               1540.0                        NaN   \n",
       "17698         a          c                340.0                        9.0   \n",
       "65968         a          a               2820.0                        9.0   \n",
       "\n",
       "       CompetitionOpenSinceYear  Promo2  Promo2SinceWeek  Promo2SinceYear  \\\n",
       "36471                    2015.0       0              NaN              NaN   \n",
       "58197                       NaN       0              NaN              NaN   \n",
       "30201                       NaN       1              1.0           2012.0   \n",
       "17698                    2012.0       1             40.0           2012.0   \n",
       "65968                    2009.0       0              NaN              NaN   \n",
       "\n",
       "         PromoInterval  \n",
       "36471              NaN  \n",
       "58197              NaN  \n",
       "30201  Jan,Apr,Jul,Oct  \n",
       "17698  Jan,Apr,Jul,Oct  \n",
       "65968              NaN  "
      ]
     },
     "execution_count": 16,
     "metadata": {},
     "output_type": "execute_result"
    }
   ],
   "source": [
    "train.head()"
   ]
  },
  {
   "cell_type": "code",
   "execution_count": 17,
   "metadata": {},
   "outputs": [],
   "source": [
    "import numpy as np\n",
    "target = 'Sales'\n",
    "y_train = train[target]\n",
    "y_val = val[target]\n",
    "y_pred = np.full_like(y_val, fill_value=y_train.mean())\n",
    "\n",
    "#print('Validation RMSLE, Mean Baseline:', rmsle(y_val, y_pred))"
   ]
  },
  {
   "cell_type": "code",
   "execution_count": 18,
   "metadata": {},
   "outputs": [
    {
     "data": {
      "image/png": "[encoded data removed]",
      "text/plain": [
       "<Figure size 432x288 with 1 Axes>"
      ]
     },
     "metadata": {
      "needs_background": "light"
     },
     "output_type": "display_data"
    }
   ],
   "source": [
    "%matplotlib inline\n",
    "import seaborn as sns\n",
    "sns.distplot(y_train);"
   ]
  },
  {
   "cell_type": "code",
   "execution_count": 19,
   "metadata": {},
   "outputs": [
    {
     "data": {
      "image/png": "[encoded data removed]",
      "text/plain": [
       "<Figure size 432x288 with 1 Axes>"
      ]
     },
     "metadata": {
      "needs_background": "light"
     },
     "output_type": "display_data"
    }
   ],
   "source": [
    "y_train_log = np.log1p(y_train)\n",
    "sns.distplot(y_train_log);"
   ]
  },
  {
   "cell_type": "markdown",
   "metadata": {
    "colab_type": "text",
    "id": "xiljXNuKzprz"
   },
   "source": [
    "## 2. Fit and validate your model\n",
    "- **Use Gradient Boosting** or any type of regression model.\n",
    "- **Beat the baseline:** The estimated baseline Root Mean Squared Logarithmic Error is 0.90, if we guessed the mean sales for every prediction. Remember that RMSE with the log-transformed target is equivalent to RMSLE with the original target. Try to get your error below 0.20.\n",
    "- **To validate your model, choose any one of these options:**\n",
    "  - Split the train dataframe into train and validation sets. Put all dates for a given store into the same set. Use xgboost `early_stopping_rounds` with the validation set. \n",
    "  - Or, use scikit-learn `cross_val_score`. Put all dates for a given store into the same fold.\n",
    "  - Or, use scikit-learn `RandomizedSearchCV` for hyperparameter optimization. Put all dates for a given store into the same fold.\n",
    "- **Get the Validation Error** (multiple times if you try multiple iterations) **and Test Error** (one time, at the end).\n",
    "  \n",
    "#### Stretch goal\n",
    "- Optimize 3+ hyperparameters by searching 10+ \"candidates\" (possible combinations of hyperparameters). "
   ]
  },
  {
   "cell_type": "code",
   "execution_count": 20,
   "metadata": {},
   "outputs": [
    {
     "data": {
      "text/html": [
       "<div>\n",
       "<style scoped>\n",
       "    .dataframe tbody tr th:only-of-type {\n",
       "        vertical-align: middle;\n",
       "    }\n",
       "\n",
       "    .dataframe tbody tr th {\n",
       "        vertical-align: top;\n",
       "    }\n",
       "\n",
       "    .dataframe thead th {\n",
       "        text-align: right;\n",
       "    }\n",
       "</style>\n",
       "<table border=\"1\" class=\"dataframe\">\n",
       "  <thead>\n",
       "    <tr style=\"text-align: right;\">\n",
       "      <th></th>\n",
       "      <th>DayOfWeek</th>\n",
       "      <th>Sales</th>\n",
       "      <th>Customers</th>\n",
       "      <th>Promo</th>\n",
       "      <th>SchoolHoliday</th>\n",
       "      <th>CompetitionDistance</th>\n",
       "      <th>CompetitionOpenSinceMonth</th>\n",
       "      <th>CompetitionOpenSinceYear</th>\n",
       "      <th>Promo2</th>\n",
       "      <th>Promo2SinceWeek</th>\n",
       "      <th>Promo2SinceYear</th>\n",
       "    </tr>\n",
       "  </thead>\n",
       "  <tbody>\n",
       "    <tr>\n",
       "      <th>count</th>\n",
       "      <td>58800.000000</td>\n",
       "      <td>58800.000000</td>\n",
       "      <td>58800.000000</td>\n",
       "      <td>58800.000000</td>\n",
       "      <td>58800.000000</td>\n",
       "      <td>58800.000000</td>\n",
       "      <td>48763.000000</td>\n",
       "      <td>48763.000000</td>\n",
       "      <td>58800.000000</td>\n",
       "      <td>11772.000000</td>\n",
       "      <td>11772.000000</td>\n",
       "    </tr>\n",
       "    <tr>\n",
       "      <th>mean</th>\n",
       "      <td>3.506650</td>\n",
       "      <td>6985.294711</td>\n",
       "      <td>825.836531</td>\n",
       "      <td>0.449677</td>\n",
       "      <td>0.194558</td>\n",
       "      <td>4714.858333</td>\n",
       "      <td>7.141275</td>\n",
       "      <td>2010.967168</td>\n",
       "      <td>0.200204</td>\n",
       "      <td>24.418875</td>\n",
       "      <td>2011.597944</td>\n",
       "    </tr>\n",
       "    <tr>\n",
       "      <th>std</th>\n",
       "      <td>1.709081</td>\n",
       "      <td>2825.195842</td>\n",
       "      <td>316.179133</td>\n",
       "      <td>0.497465</td>\n",
       "      <td>0.395863</td>\n",
       "      <td>8876.796006</td>\n",
       "      <td>3.226152</td>\n",
       "      <td>2.448721</td>\n",
       "      <td>0.400156</td>\n",
       "      <td>13.581433</td>\n",
       "      <td>0.966435</td>\n",
       "    </tr>\n",
       "    <tr>\n",
       "      <th>min</th>\n",
       "      <td>1.000000</td>\n",
       "      <td>1712.000000</td>\n",
       "      <td>206.000000</td>\n",
       "      <td>0.000000</td>\n",
       "      <td>0.000000</td>\n",
       "      <td>30.000000</td>\n",
       "      <td>1.000000</td>\n",
       "      <td>2006.000000</td>\n",
       "      <td>0.000000</td>\n",
       "      <td>1.000000</td>\n",
       "      <td>2010.000000</td>\n",
       "    </tr>\n",
       "    <tr>\n",
       "      <th>25%</th>\n",
       "      <td>2.000000</td>\n",
       "      <td>4998.000000</td>\n",
       "      <td>598.000000</td>\n",
       "      <td>0.000000</td>\n",
       "      <td>0.000000</td>\n",
       "      <td>720.000000</td>\n",
       "      <td>4.000000</td>\n",
       "      <td>2009.000000</td>\n",
       "      <td>0.000000</td>\n",
       "      <td>14.000000</td>\n",
       "      <td>2011.000000</td>\n",
       "    </tr>\n",
       "    <tr>\n",
       "      <th>50%</th>\n",
       "      <td>3.000000</td>\n",
       "      <td>6362.000000</td>\n",
       "      <td>757.000000</td>\n",
       "      <td>0.000000</td>\n",
       "      <td>0.000000</td>\n",
       "      <td>1940.000000</td>\n",
       "      <td>9.000000</td>\n",
       "      <td>2011.000000</td>\n",
       "      <td>0.000000</td>\n",
       "      <td>22.000000</td>\n",
       "      <td>2012.000000</td>\n",
       "    </tr>\n",
       "    <tr>\n",
       "      <th>75%</th>\n",
       "      <td>5.000000</td>\n",
       "      <td>8304.250000</td>\n",
       "      <td>994.000000</td>\n",
       "      <td>1.000000</td>\n",
       "      <td>0.000000</td>\n",
       "      <td>4030.000000</td>\n",
       "      <td>9.000000</td>\n",
       "      <td>2013.000000</td>\n",
       "      <td>0.000000</td>\n",
       "      <td>35.000000</td>\n",
       "      <td>2012.000000</td>\n",
       "    </tr>\n",
       "    <tr>\n",
       "      <th>max</th>\n",
       "      <td>6.000000</td>\n",
       "      <td>26914.000000</td>\n",
       "      <td>3360.000000</td>\n",
       "      <td>1.000000</td>\n",
       "      <td>1.000000</td>\n",
       "      <td>48330.000000</td>\n",
       "      <td>12.000000</td>\n",
       "      <td>2015.000000</td>\n",
       "      <td>1.000000</td>\n",
       "      <td>48.000000</td>\n",
       "      <td>2013.000000</td>\n",
       "    </tr>\n",
       "  </tbody>\n",
       "</table>\n",
       "</div>"
      ],
      "text/plain": [
       "          DayOfWeek         Sales     Customers         Promo  SchoolHoliday  \\\n",
       "count  58800.000000  58800.000000  58800.000000  58800.000000   58800.000000   \n",
       "mean       3.506650   6985.294711    825.836531      0.449677       0.194558   \n",
       "std        1.709081   2825.195842    316.179133      0.497465       0.395863   \n",
       "min        1.000000   1712.000000    206.000000      0.000000       0.000000   \n",
       "25%        2.000000   4998.000000    598.000000      0.000000       0.000000   \n",
       "50%        3.000000   6362.000000    757.000000      0.000000       0.000000   \n",
       "75%        5.000000   8304.250000    994.000000      1.000000       0.000000   \n",
       "max        6.000000  26914.000000   3360.000000      1.000000       1.000000   \n",
       "\n",
       "       CompetitionDistance  CompetitionOpenSinceMonth  \\\n",
       "count         58800.000000               48763.000000   \n",
       "mean           4714.858333                   7.141275   \n",
       "std            8876.796006                   3.226152   \n",
       "min              30.000000                   1.000000   \n",
       "25%             720.000000                   4.000000   \n",
       "50%            1940.000000                   9.000000   \n",
       "75%            4030.000000                   9.000000   \n",
       "max           48330.000000                  12.000000   \n",
       "\n",
       "       CompetitionOpenSinceYear        Promo2  Promo2SinceWeek  \\\n",
       "count              48763.000000  58800.000000     11772.000000   \n",
       "mean                2010.967168      0.200204        24.418875   \n",
       "std                    2.448721      0.400156        13.581433   \n",
       "min                 2006.000000      0.000000         1.000000   \n",
       "25%                 2009.000000      0.000000        14.000000   \n",
       "50%                 2011.000000      0.000000        22.000000   \n",
       "75%                 2013.000000      0.000000        35.000000   \n",
       "max                 2015.000000      1.000000        48.000000   \n",
       "\n",
       "       Promo2SinceYear  \n",
       "count     11772.000000  \n",
       "mean       2011.597944  \n",
       "std           0.966435  \n",
       "min        2010.000000  \n",
       "25%        2011.000000  \n",
       "50%        2012.000000  \n",
       "75%        2012.000000  \n",
       "max        2013.000000  "
      ]
     },
     "execution_count": 20,
     "metadata": {},
     "output_type": "execute_result"
    }
   ],
   "source": [
    "train.describe()"
   ]
  },
  {
   "cell_type": "code",
   "execution_count": 21,
   "metadata": {},
   "outputs": [],
   "source": [
    "features = ['Customers', 'DayOfWeek', 'Promo']\n"
   ]
  },
  {
   "cell_type": "code",
   "execution_count": 22,
   "metadata": {},
   "outputs": [],
   "source": [
    "X_train = train[features]\n",
    "X_val = val[features]"
   ]
  },
  {
   "cell_type": "code",
   "execution_count": 23,
   "metadata": {},
   "outputs": [],
   "source": [
    "target = 'Sales'\n",
    "y_train = train[target]\n",
    "y_val = val[target]\n",
    "y_pred = np.full_like(y_val, fill_value=y_train.mean())\n"
   ]
  },
  {
   "cell_type": "code",
   "execution_count": 24,
   "metadata": {},
   "outputs": [],
   "source": [
    "y_train_log = np.log1p(y_train)\n",
    "y_val_log = np.log1p(y_val)"
   ]
  },
  {
   "cell_type": "code",
   "execution_count": 31,
   "metadata": {},
   "outputs": [],
   "source": [
    "X_test = test[features]"
   ]
  },
  {
   "cell_type": "code",
   "execution_count": 25,
   "metadata": {},
   "outputs": [
    {
     "name": "stdout",
     "output_type": "stream",
     "text": [
      "RMSE 0.17167897054491466\n",
      "RMSLE 0.017494675352758275\n"
     ]
    }
   ],
   "source": [
    "import numpy as np\n",
    "from sklearn.metrics import mean_squared_log_error, mean_squared_error\n",
    "import category_encoders as ce\n",
    "from sklearn.pipeline import make_pipeline\n",
    "from sklearn.ensemble import RandomForestRegressor\n",
    "\n",
    "def rmse(y_true, y_pred):\n",
    "    return np.sqrt(mean_squared_error(y_true, y_pred))\n",
    "def rmsle(y_true, y_pred):\n",
    "    return np.sqrt(mean_squared_log_error(y_true, y_pred))\n",
    "\n",
    "pipeline = make_pipeline(\n",
    "    ce.OrdinalEncoder(), \n",
    "    RandomForestRegressor(n_estimators=100, random_state=42, n_jobs=-1)\n",
    ")\n",
    "\n",
    "pipeline.fit(X_train, y_train_log)\n",
    "y_pred_log = pipeline.predict(X_val)\n",
    "print('RMSE', rmse(y_val_log, y_pred_log))\n",
    "print('RMSLE', rmsle(y_val_log, y_pred_log))"
   ]
  },
  {
   "cell_type": "code",
   "execution_count": 26,
   "metadata": {
    "colab": {},
    "colab_type": "code",
    "id": "WWNccxI5zprz"
   },
   "outputs": [
    {
     "name": "stdout",
     "output_type": "stream",
     "text": [
      "[18:45:54] WARNING: src/objective/regression_obj.cu:152: reg:linear is now deprecated in favor of reg:squarederror.\n",
      "Validation Error 0.15829431963776353\n"
     ]
    }
   ],
   "source": [
    "from xgboost import XGBRegressor\n",
    "\n",
    "# Make pipeline\n",
    "pipeline = make_pipeline(\n",
    "    ce.OrdinalEncoder(), \n",
    "    XGBRegressor(n_estimators=1000, n_job=-1)\n",
    ")\n",
    "\n",
    "# Fit\n",
    "pipeline.fit(X_train, y_train_log)\n",
    "\n",
    "# Validate\n",
    "y_pred_log = pipeline.predict(X_val)\n",
    "print('Validation Error', rmse(y_val_log, y_pred_log))"
   ]
  },
  {
   "cell_type": "markdown",
   "metadata": {
    "colab_type": "text",
    "id": "JGqeEpRmzpr1"
   },
   "source": [
    "## 3. Plot model interpretation visualizations\n",
    "- Choose any one of these options:\n",
    "  - Permutation Importances plot\n",
    "  - Partial Dependency Plot, 1 feature isolation\n",
    "  - Partial Dependency Plot, 2 feature interaction\n",
    "  \n",
    "#### Stretch goals\n",
    "- Plot 2+ visualizations.\n",
    "- Use permutation importances for feature selection. "
   ]
  },
  {
   "cell_type": "code",
   "execution_count": 27,
   "metadata": {
    "colab": {},
    "colab_type": "code",
    "id": "ZeOJFJJZzpr1"
   },
   "outputs": [
    {
     "ename": "KeyError",
     "evalue": "'randomforestregressor'",
     "output_type": "error",
     "traceback": [
      "\u001b[0;31m---------------------------------------------------------------------------\u001b[0m",
      "\u001b[0;31mKeyError\u001b[0m                                  Traceback (most recent call last)",
      "\u001b[0;32m<ipython-input-27-d22f151aba0f>\u001b[0m in \u001b[0;36m<module>\u001b[0;34m\u001b[0m\n\u001b[1;32m      2\u001b[0m \u001b[0;32mimport\u001b[0m \u001b[0mmatplotlib\u001b[0m\u001b[0;34m.\u001b[0m\u001b[0mpyplot\u001b[0m \u001b[0;32mas\u001b[0m \u001b[0mplt\u001b[0m\u001b[0;34m\u001b[0m\u001b[0;34m\u001b[0m\u001b[0m\n\u001b[1;32m      3\u001b[0m \u001b[0mplt\u001b[0m\u001b[0;34m.\u001b[0m\u001b[0mfigure\u001b[0m\u001b[0;34m(\u001b[0m\u001b[0mfigsize\u001b[0m\u001b[0;34m=\u001b[0m\u001b[0;34m(\u001b[0m\u001b[0;36m10\u001b[0m\u001b[0;34m,\u001b[0m\u001b[0;36m10\u001b[0m\u001b[0;34m)\u001b[0m\u001b[0;34m)\u001b[0m\u001b[0;34m\u001b[0m\u001b[0;34m\u001b[0m\u001b[0m\n\u001b[0;32m----> 4\u001b[0;31m \u001b[0mrf\u001b[0m \u001b[0;34m=\u001b[0m \u001b[0mpipeline\u001b[0m\u001b[0;34m.\u001b[0m\u001b[0mnamed_steps\u001b[0m\u001b[0;34m[\u001b[0m\u001b[0;34m'randomforestregressor'\u001b[0m\u001b[0;34m]\u001b[0m\u001b[0;34m\u001b[0m\u001b[0;34m\u001b[0m\u001b[0m\n\u001b[0m\u001b[1;32m      5\u001b[0m \u001b[0mimportances\u001b[0m \u001b[0;34m=\u001b[0m \u001b[0mpd\u001b[0m\u001b[0;34m.\u001b[0m\u001b[0mSeries\u001b[0m\u001b[0;34m(\u001b[0m\u001b[0mrf\u001b[0m\u001b[0;34m.\u001b[0m\u001b[0mfeature_importances_\u001b[0m\u001b[0;34m,\u001b[0m \u001b[0mX_train\u001b[0m\u001b[0;34m.\u001b[0m\u001b[0mcolumns\u001b[0m\u001b[0;34m)\u001b[0m\u001b[0;34m\u001b[0m\u001b[0;34m\u001b[0m\u001b[0m\n\u001b[1;32m      6\u001b[0m \u001b[0mimportances\u001b[0m\u001b[0;34m.\u001b[0m\u001b[0msort_values\u001b[0m\u001b[0;34m(\u001b[0m\u001b[0;34m)\u001b[0m\u001b[0;34m.\u001b[0m\u001b[0mplot\u001b[0m\u001b[0;34m.\u001b[0m\u001b[0mbarh\u001b[0m\u001b[0;34m(\u001b[0m\u001b[0mcolor\u001b[0m\u001b[0;34m=\u001b[0m\u001b[0;34m'grey'\u001b[0m\u001b[0;34m)\u001b[0m\u001b[0;34m;\u001b[0m\u001b[0;34m\u001b[0m\u001b[0;34m\u001b[0m\u001b[0m\n",
      "\u001b[0;31mKeyError\u001b[0m: 'randomforestregressor'"
     ]
    },
    {
     "data": {
      "text/plain": [
       "<Figure size 720x720 with 0 Axes>"
      ]
     },
     "metadata": {},
     "output_type": "display_data"
    }
   ],
   "source": [
    "%matplotlib inline\n",
    "import matplotlib.pyplot as plt\n",
    "plt.figure(figsize=(10,10))\n",
    "rf = pipeline.named_steps['randomforestregressor']\n",
    "importances = pd.Series(rf.feature_importances_, X_train.columns)\n",
    "importances.sort_values().plot.barh(color='grey');"
   ]
  },
  {
   "cell_type": "code",
   "execution_count": 28,
   "metadata": {},
   "outputs": [
    {
     "data": {
      "image/png": "[encoded data removed]",
      "text/plain": [
       "<Figure size 720x720 with 1 Axes>"
      ]
     },
     "metadata": {
      "needs_background": "light"
     },
     "output_type": "display_data"
    }
   ],
   "source": [
    "%matplotlib inline\n",
    "import matplotlib.pyplot as plt\n",
    "plt.figure(figsize=(10,10))\n",
    "xgb = pipeline.named_steps['xgbregressor']\n",
    "importances = pd.Series(xgb.feature_importances_, X_train.columns)\n",
    "importances.sort_values().plot.barh(color='grey');"
   ]
  },
  {
   "cell_type": "code",
   "execution_count": 29,
   "metadata": {},
   "outputs": [
    {
     "data": {
      "image/png": "[encoded data removed]",
      "text/plain": [
       "<Figure size 432x288 with 1 Axes>"
      ]
     },
     "metadata": {
      "needs_background": "light"
     },
     "output_type": "display_data"
    }
   ],
   "source": [
    "import matplotlib.pyplot as plt\n",
    "sns.distplot(y_val_log, label='True')\n",
    "sns.distplot(y_pred_log, label='Predicted')\n",
    "plt.legend();"
   ]
  },
  {
   "cell_type": "code",
   "execution_count": 32,
   "metadata": {},
   "outputs": [],
   "source": [
    "import pdpbox\n",
    "import eli5\n",
    "from pdpbox.pdp import pdp_interact, pdp_interact_plot, pdp_isolate, pdp_plot\n",
    "from eli5.sklearn import PermutationImportance\n",
    "\n",
    "encoder = ce.OrdinalEncoder()\n",
    "X_train_encoded = encoder.fit_transform(X_train)\n",
    "X_test_encoded = encoder.transform(X_test)"
   ]
  },
  {
   "cell_type": "code",
   "execution_count": 33,
   "metadata": {},
   "outputs": [
    {
     "data": {
      "text/plain": [
       "(<Figure size 1080x684 with 2 Axes>,\n",
       " {'title_ax': <matplotlib.axes._subplots.AxesSubplot at 0x1a2293fac8>,\n",
       "  'pdp_ax': <matplotlib.axes._subplots.AxesSubplot at 0x1a23a940b8>})"
      ]
     },
     "execution_count": 33,
     "metadata": {},
     "output_type": "execute_result"
    },
    {
     "data": {
      "image/png": "[encoded data removed]",
      "text/plain": [
       "<Figure size 1080x684 with 2 Axes>"
      ]
     },
     "metadata": {
      "needs_background": "light"
     },
     "output_type": "display_data"
    }
   ],
   "source": [
    "features ='Customers'\n",
    "\n",
    "isolated = pdp_isolate(\n",
    "    model=pipeline.named_steps['xgbregressor'], \n",
    "    dataset=X_test_encoded, \n",
    "    model_features=X_test_encoded.columns, \n",
    "    feature=features\n",
    ")\n",
    "\n",
    "pdp_plot(isolated, feature_name=features)"
   ]
  },
  {
   "cell_type": "code",
   "execution_count": null,
   "metadata": {},
   "outputs": [],
   "source": [
    "features ='DayOfWeek'\n",
    "\n",
    "isolated = pdp_isolate(\n",
    "    model=pipeline.named_steps['xgbregressor'], \n",
    "    dataset=X_test_encoded, \n",
    "    model_features=X_test_encoded.columns, \n",
    "    feature=features\n",
    ")\n",
    "\n",
    "pdp_plot(isolated, feature_name=features)"
   ]
  },
  {
   "cell_type": "code",
   "execution_count": null,
   "metadata": {},
   "outputs": [],
   "source": []
  }
 ],
 "metadata": {
  "colab": {
   "name": "DS_Sprint_Challenge_8_Regression_2.ipynb",
   "provenance": [],
   "version": "0.3.2"
  },
  "kernelspec": {
   "display_name": "Python 3",
   "language": "python",
   "name": "python3"
  },
  "language_info": {
   "codemirror_mode": {
    "name": "ipython",
    "version": 3
   },
   "file_extension": ".py",
   "mimetype": "text/x-python",
   "name": "python",
   "nbconvert_exporter": "python",
   "pygments_lexer": "ipython3",
   "version": "3.7.3"
  }
 },
 "nbformat": 4,
 "nbformat_minor": 1
}
