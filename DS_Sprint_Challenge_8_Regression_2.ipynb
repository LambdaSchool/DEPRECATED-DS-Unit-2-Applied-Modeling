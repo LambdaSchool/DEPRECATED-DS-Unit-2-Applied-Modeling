{
 "cells": [
  {
   "cell_type": "markdown",
   "metadata": {
    "colab_type": "text",
    "id": "rPh-uurrzprt"
   },
   "source": [
    "_Lambda School Data Science, Unit 2_\n",
    " \n",
    "# Regression 2 Sprint Challenge: Predict drugstore sales 🏥\n",
    "\n",
    "For your Sprint Challenge, you'll use real-world sales data from a German drugstore chain, from Jan 2, 2013 — July 31, 2015.\n",
    "\n",
    "You are given three dataframes:\n",
    "\n",
    "- `train`: historical sales data for 100 stores\n",
    "- `test`: historical sales data for 100 different stores\n",
    "- `store`: supplemental information about the stores\n",
    "\n",
    "\n",
    "The train and test set do _not_ have different date ranges. But they _do_ have different store ids. Your task is _not_ to forecast future sales from past sales. **Your task is to predict sales at unknown stores, from sales at known stores.**"
   ]
  },
  {
   "cell_type": "code",
   "execution_count": 1,
   "metadata": {
    "colab": {},
    "colab_type": "code",
    "id": "jKOFk_6nzpru"
   },
   "outputs": [],
   "source": [
    "import pandas as pd\n",
    "train = pd.read_csv('https://drive.google.com/uc?export=download&id=1E9rgiGf1f_WL2S4-V6gD7ZhB8r8Yb_lE')\n",
    "test = pd.read_csv('https://drive.google.com/uc?export=download&id=1vkaVptn4TTYC9-YPZvbvmfDNHVR8aUml')\n",
    "store = pd.read_csv('https://drive.google.com/uc?export=download&id=1rZD-V1mWydeytptQfr-NL7dBqre6lZMo')\n",
    "assert train.shape == (78400, 7)\n",
    "assert test.shape == (78400, 7)\n",
    "assert store.shape == (200, 10)"
   ]
  },
  {
   "cell_type": "markdown",
   "metadata": {
    "colab_type": "text",
    "id": "PrvIj4olzprv"
   },
   "source": [
    "The dataframes have a variety of columns:\n",
    "\n",
    "- **Store** - a unique Id for each store\n",
    "- **DayOfWeek** - integer, 1-6\n",
    "- **Date** - the date, from Jan 2, 2013 — July 31, 2015.\n",
    "- **Sales** - the units of inventory sold on a given date (this is the target you are predicting)\n",
    "- **Customers** - the number of customers on a given date\n",
    "- **Promo** - indicates whether a store is running a promo on that day\n",
    "- **SchoolHoliday** - indicates the closure of public schools\n",
    "- **StoreType** - differentiates between 4 different store models: a, b, c, d\n",
    "- **Assortment** - describes an assortment level: a = basic, b = extra, c = extended\n",
    "- **CompetitionDistance** - distance in meters to the nearest competitor store\n",
    "- **CompetitionOpenSince[Month/Year]** - gives the approximate year and month of the time the nearest competitor was opened\n",
    "- **Promo2** - Promo2 is a continuing and consecutive promotion for some stores: 0 = store is not participating, 1 = store is participating\n",
    "- **Promo2Since[Year/Week]** - describes the year and calendar week when the store started participating in Promo2\n",
    "- **PromoInterval** - describes the consecutive intervals Promo2 is started, naming the months the promotion is started anew. E.g. \"Feb,May,Aug,Nov\" means each round starts in February, May, August, November of any given year for that store"
   ]
  },
  {
   "cell_type": "markdown",
   "metadata": {
    "colab_type": "text",
    "id": "Txb785Qdzprw"
   },
   "source": [
    "This Sprint Challenge has three parts. To demonstrate mastery on each part, do all the required instructions. To earn a score of \"3\" for the part, also do the stretch goals."
   ]
  },
  {
   "cell_type": "markdown",
   "metadata": {
    "colab_type": "text",
    "id": "B9NV3COuzprw"
   },
   "source": [
    "## 1. Wrangle relational data, Log-transform the target\n",
    "- Merge the `store` dataframe with the `train` and `test` dataframes. \n",
    "- Arrange the X matrix and y vector for the train and test sets.\n",
    "- Log-transform the target for the train and test set.\n",
    "- Plot the target's distribution for the train set, before and after the transformation.\n",
    "\n",
    "#### Stretch goals\n",
    "- Engineer 3+ more features."
   ]
  },
  {
   "cell_type": "code",
   "execution_count": 118,
   "metadata": {
    "colab": {},
    "colab_type": "code",
    "id": "qjvBbl78zprx"
   },
   "outputs": [],
   "source": [
    "def wrangle(df):\n",
    "    X = df.copy()\n",
    "    \n",
    "    #add relational data\n",
    "    X = X.merge(store, how = 'left')\n",
    "    \n",
    "    #make column names lower case\n",
    "    X.columns = X.columns.str.lower()\n",
    "    \n",
    "    \n",
    "    #convert to datetime objects and add date features\n",
    "    X['date'] = pd.to_datetime(X.date)\n",
    "    X['month'] = X.date.dt.month\n",
    "    X['year'] = X.date.dt.year\n",
    "    X['dayofyear'] = X.date.dt.dayofyear\n",
    "    X = X.drop(columns = 'date')\n",
    "    \n",
    "    #add flue season feature\n",
    "    X['flu_season'] = np.where((X.month > 8) | (X.month < 3), 1, 0)\n",
    "    \n",
    "    #fill missing values with zero, since they are dates or time periods\n",
    "    X = X.fillna(value = 0)\n",
    "    \n",
    "    \n",
    "    return X"
   ]
  },
  {
   "cell_type": "code",
   "execution_count": 119,
   "metadata": {},
   "outputs": [],
   "source": [
    "import numpy as np\n",
    "#instantiate target label\n",
    "target = 'sales'\n",
    "\n",
    "#get X matrix from wrangled data\n",
    "X_train = wrangle(train)\n",
    "X_test = wrangle(test)\n",
    "\n",
    "#pop target vectors from X matrix and transform \n",
    "y_train = X_train.pop(target)\n",
    "y_train_log = np.log1p(y_train)\n",
    "\n",
    "y_test = X_test.pop(target)\n",
    "y_test_log = np.log1p(y_test)"
   ]
  },
  {
   "cell_type": "code",
   "execution_count": 76,
   "metadata": {},
   "outputs": [
    {
     "data": {
      "image/png": "[encoded data removed]",
      "text/plain": [
       "<Figure size 432x288 with 1 Axes>"
      ]
     },
     "metadata": {
      "needs_background": "light"
     },
     "output_type": "display_data"
    }
   ],
   "source": [
    "%matplotlib inline\n",
    "import matplotlib.pyplot as plt\n",
    "import seaborn as sns\n",
    "\n",
    "#plot before transformation distribution\n",
    "fig = plt.figure()\n",
    "\n",
    "ax = sns.distplot(y_train)\n",
    "ax.set_title('Before log Transformation')\n",
    "ax.set_yticks([])\n",
    "plt.show();"
   ]
  },
  {
   "cell_type": "code",
   "execution_count": 79,
   "metadata": {},
   "outputs": [
    {
     "data": {
      "image/png": "[encoded data removed]",
      "text/plain": [
       "<Figure size 432x288 with 1 Axes>"
      ]
     },
     "metadata": {
      "needs_background": "light"
     },
     "output_type": "display_data"
    }
   ],
   "source": [
    "#plot after transformation distribution\n",
    "fig = plt.figure()\n",
    "\n",
    "ax = sns.distplot(y_val_log)\n",
    "ax.set_title('After log Transformation')\n",
    "ax.set_yticks([])\n",
    "plt.show();"
   ]
  },
  {
   "cell_type": "markdown",
   "metadata": {
    "colab_type": "text",
    "id": "xiljXNuKzprz"
   },
   "source": [
    "## 2. Fit and validate your model\n",
    "- **Use Gradient Boosting** or any type of regression model.\n",
    "- **Beat the baseline:** The estimated baseline Root Mean Squared Logarithmic Error is 0.90, if we guessed the mean sales for every prediction. Remember that RMSE with the log-transformed target is equivalent to RMSLE with the original target. Try to get your error below 0.20.\n",
    "- **To validate your model, choose any one of these options:**\n",
    "  - Split the train dataframe into train and validation sets. Put all dates for a given store into the same set. Use xgboost `early_stopping_rounds` with the validation set. \n",
    "  - Or, use scikit-learn `cross_val_score`. Put all dates for a given store into the same fold.\n",
    "  - Or, use scikit-learn `RandomizedSearchCV` for hyperparameter optimization. Put all dates for a given store into the same fold.\n",
    "- **Get the Validation Error** (multiple times if you try multiple iterations) **and Test Error** (one time, at the end).\n",
    "  \n",
    "#### Stretch goal\n",
    "- Optimize 3+ hyperparameters by searching 10+ \"candidates\" (possible combinations of hyperparameters). "
   ]
  },
  {
   "cell_type": "code",
   "execution_count": 120,
   "metadata": {
    "colab": {},
    "colab_type": "code",
    "id": "WWNccxI5zprz"
   },
   "outputs": [],
   "source": [
    "from sklearn.model_selection import train_test_split\n",
    "\n",
    "#get unique store ids\n",
    "stores= train['Store'].unique()\n",
    "\n",
    "#split unique store ids for validation\n",
    "X_train_stores, X_val_stores = train_test_split(stores,\n",
    "                                                test_size = .2,\n",
    "                                                random_state = 42)\n",
    "\n",
    "#create train and validation matrix using unique store ids\n",
    "X_train = wrangle(train[train.Store.isin(X_train_stores)])\n",
    "X_val = wrangle(train[train.Store.isin(X_val_stores)])"
   ]
  },
  {
   "cell_type": "code",
   "execution_count": 121,
   "metadata": {},
   "outputs": [],
   "source": [
    "#pop target vectors from train and validation matrices\n",
    "y_train = X_train.pop(target)\n",
    "y_train_log = np.log1p(y_train)\n",
    "\n",
    "y_val = X_val.pop(target)\n",
    "y_val_log  = np.log1p(y_val)"
   ]
  },
  {
   "cell_type": "code",
   "execution_count": 49,
   "metadata": {},
   "outputs": [],
   "source": [
    "from sklearn.metrics import mean_squared_error\n",
    "\n",
    "#root mean square will be our metric for this data\n",
    "def rmse(y_true, y_pred):\n",
    "    return np.sqrt(mean_squared_error(y_true, y_pred))"
   ]
  },
  {
   "cell_type": "code",
   "execution_count": 122,
   "metadata": {},
   "outputs": [
    {
     "name": "stdout",
     "output_type": "stream",
     "text": [
      "[23:48:46] WARNING: src/objective/regression_obj.cu:152: reg:linear is now deprecated in favor of reg:squarederror.\n",
      "[0]\tvalidation_0-rmse:7.46951\tvalidation_1-rmse:7.4167\n",
      "Multiple eval metrics have been passed: 'validation_1-rmse' will be used for early stopping.\n",
      "\n",
      "Will train until validation_1-rmse hasn't improved in 10 rounds.\n",
      "[1]\tvalidation_0-rmse:6.72312\tvalidation_1-rmse:6.67246\n",
      "[2]\tvalidation_0-rmse:6.05139\tvalidation_1-rmse:6.0036\n",
      "[3]\tvalidation_0-rmse:5.44685\tvalidation_1-rmse:5.40114\n",
      "[4]\tvalidation_0-rmse:4.90278\tvalidation_1-rmse:4.86049\n",
      "[5]\tvalidation_0-rmse:4.41313\tvalidation_1-rmse:4.37324\n",
      "[6]\tvalidation_0-rmse:3.97248\tvalidation_1-rmse:3.93602\n",
      "[7]\tvalidation_0-rmse:3.57591\tvalidation_1-rmse:3.5414\n",
      "[8]\tvalidation_0-rmse:3.21902\tvalidation_1-rmse:3.18603\n",
      "[9]\tvalidation_0-rmse:2.89787\tvalidation_1-rmse:2.86706\n",
      "[10]\tvalidation_0-rmse:2.60887\tvalidation_1-rmse:2.58019\n",
      "[11]\tvalidation_0-rmse:2.34882\tvalidation_1-rmse:2.32279\n",
      "[12]\tvalidation_0-rmse:2.11479\tvalidation_1-rmse:2.09015\n",
      "[13]\tvalidation_0-rmse:1.90423\tvalidation_1-rmse:1.87908\n",
      "[14]\tvalidation_0-rmse:1.71476\tvalidation_1-rmse:1.69305\n",
      "[15]\tvalidation_0-rmse:1.54431\tvalidation_1-rmse:1.52457\n",
      "[16]\tvalidation_0-rmse:1.391\tvalidation_1-rmse:1.37325\n",
      "[17]\tvalidation_0-rmse:1.25312\tvalidation_1-rmse:1.23638\n",
      "[18]\tvalidation_0-rmse:1.1291\tvalidation_1-rmse:1.11518\n",
      "[19]\tvalidation_0-rmse:1.01754\tvalidation_1-rmse:1.00528\n",
      "[20]\tvalidation_0-rmse:0.917275\tvalidation_1-rmse:0.906502\n",
      "[21]\tvalidation_0-rmse:0.827187\tvalidation_1-rmse:0.817581\n",
      "[22]\tvalidation_0-rmse:0.746189\tvalidation_1-rmse:0.739372\n",
      "[23]\tvalidation_0-rmse:0.6734\tvalidation_1-rmse:0.667657\n",
      "[24]\tvalidation_0-rmse:0.608094\tvalidation_1-rmse:0.605422\n",
      "[25]\tvalidation_0-rmse:0.54947\tvalidation_1-rmse:0.549919\n",
      "[26]\tvalidation_0-rmse:0.496686\tvalidation_1-rmse:0.501347\n",
      "[27]\tvalidation_0-rmse:0.449548\tvalidation_1-rmse:0.455884\n",
      "[28]\tvalidation_0-rmse:0.407355\tvalidation_1-rmse:0.416053\n",
      "[29]\tvalidation_0-rmse:0.369324\tvalidation_1-rmse:0.380761\n",
      "[30]\tvalidation_0-rmse:0.335574\tvalidation_1-rmse:0.349474\n",
      "[31]\tvalidation_0-rmse:0.305113\tvalidation_1-rmse:0.323925\n",
      "[32]\tvalidation_0-rmse:0.278101\tvalidation_1-rmse:0.300835\n",
      "[33]\tvalidation_0-rmse:0.254232\tvalidation_1-rmse:0.27958\n",
      "[34]\tvalidation_0-rmse:0.232661\tvalidation_1-rmse:0.261688\n",
      "[35]\tvalidation_0-rmse:0.213448\tvalidation_1-rmse:0.245817\n",
      "[36]\tvalidation_0-rmse:0.196538\tvalidation_1-rmse:0.232999\n",
      "[37]\tvalidation_0-rmse:0.181856\tvalidation_1-rmse:0.221837\n",
      "[38]\tvalidation_0-rmse:0.168946\tvalidation_1-rmse:0.211695\n",
      "[39]\tvalidation_0-rmse:0.156986\tvalidation_1-rmse:0.203578\n",
      "[40]\tvalidation_0-rmse:0.147019\tvalidation_1-rmse:0.19803\n",
      "[41]\tvalidation_0-rmse:0.137782\tvalidation_1-rmse:0.192225\n",
      "[42]\tvalidation_0-rmse:0.130295\tvalidation_1-rmse:0.187238\n",
      "[43]\tvalidation_0-rmse:0.123752\tvalidation_1-rmse:0.182978\n",
      "[44]\tvalidation_0-rmse:0.118141\tvalidation_1-rmse:0.178739\n",
      "[45]\tvalidation_0-rmse:0.113202\tvalidation_1-rmse:0.176313\n",
      "[46]\tvalidation_0-rmse:0.108898\tvalidation_1-rmse:0.173932\n",
      "[47]\tvalidation_0-rmse:0.104906\tvalidation_1-rmse:0.171715\n",
      "[48]\tvalidation_0-rmse:0.10115\tvalidation_1-rmse:0.170609\n",
      "[49]\tvalidation_0-rmse:0.098572\tvalidation_1-rmse:0.168939\n",
      "[50]\tvalidation_0-rmse:0.095813\tvalidation_1-rmse:0.168098\n",
      "[51]\tvalidation_0-rmse:0.093684\tvalidation_1-rmse:0.166668\n",
      "[52]\tvalidation_0-rmse:0.091775\tvalidation_1-rmse:0.165596\n",
      "[53]\tvalidation_0-rmse:0.090038\tvalidation_1-rmse:0.165865\n",
      "[54]\tvalidation_0-rmse:0.088828\tvalidation_1-rmse:0.165032\n",
      "[55]\tvalidation_0-rmse:0.087407\tvalidation_1-rmse:0.164785\n",
      "[56]\tvalidation_0-rmse:0.086404\tvalidation_1-rmse:0.163146\n",
      "[57]\tvalidation_0-rmse:0.085389\tvalidation_1-rmse:0.162931\n",
      "[58]\tvalidation_0-rmse:0.084617\tvalidation_1-rmse:0.161665\n",
      "[59]\tvalidation_0-rmse:0.083676\tvalidation_1-rmse:0.161401\n",
      "[60]\tvalidation_0-rmse:0.08311\tvalidation_1-rmse:0.160125\n",
      "[61]\tvalidation_0-rmse:0.082416\tvalidation_1-rmse:0.159586\n",
      "[62]\tvalidation_0-rmse:0.081571\tvalidation_1-rmse:0.160065\n",
      "[63]\tvalidation_0-rmse:0.080556\tvalidation_1-rmse:0.1597\n",
      "[64]\tvalidation_0-rmse:0.080121\tvalidation_1-rmse:0.159233\n",
      "[65]\tvalidation_0-rmse:0.079632\tvalidation_1-rmse:0.158088\n",
      "[66]\tvalidation_0-rmse:0.079083\tvalidation_1-rmse:0.158333\n",
      "[67]\tvalidation_0-rmse:0.078511\tvalidation_1-rmse:0.158356\n",
      "[68]\tvalidation_0-rmse:0.078112\tvalidation_1-rmse:0.158598\n",
      "[69]\tvalidation_0-rmse:0.077739\tvalidation_1-rmse:0.158637\n",
      "[70]\tvalidation_0-rmse:0.077448\tvalidation_1-rmse:0.158334\n",
      "[71]\tvalidation_0-rmse:0.076909\tvalidation_1-rmse:0.158787\n",
      "[72]\tvalidation_0-rmse:0.076514\tvalidation_1-rmse:0.15866\n",
      "[73]\tvalidation_0-rmse:0.076228\tvalidation_1-rmse:0.158173\n",
      "[74]\tvalidation_0-rmse:0.075799\tvalidation_1-rmse:0.15827\n",
      "[75]\tvalidation_0-rmse:0.075428\tvalidation_1-rmse:0.15856\n",
      "Stopping. Best iteration:\n",
      "[65]\tvalidation_0-rmse:0.079632\tvalidation_1-rmse:0.158088\n",
      "\n"
     ]
    },
    {
     "data": {
      "text/plain": [
       "XGBRegressor(base_score=0.5, booster='gbtree', colsample_bylevel=1,\n",
       "       colsample_bynode=1, colsample_bytree=1, gamma=0,\n",
       "       importance_type='gain', learning_rate=0.1, max_delta_step=0,\n",
       "       max_depth=4, min_child_weight=1, missing=None, n_estimators=1000,\n",
       "       n_jobs=3, nthread=None, objective='reg:linear', random_state=0,\n",
       "       reg_alpha=0, reg_lambda=1, scale_pos_weight=1, seed=None,\n",
       "       silent=None, subsample=1, verbosity=1)"
      ]
     },
     "execution_count": 122,
     "metadata": {},
     "output_type": "execute_result"
    }
   ],
   "source": [
    "import category_encoders as ce\n",
    "from xgboost import XGBRegressor\n",
    "\n",
    "#encode data before fitting model\n",
    "encoder = ce.OrdinalEncoder()\n",
    "X_train_encoded = encoder.fit_transform(X_train)\n",
    "X_val_encoded = encoder.transform(X_val)\n",
    "\n",
    "#store an eval set for early stopping\n",
    "eval_set = [(X_train_encoded, y_train_log),\n",
    "            (X_val_encoded, y_val_log)]\n",
    "\n",
    "#instantiate a warm model with some basic parameters\n",
    "model = XGBRegressor(n_estimators = 1000,\n",
    "                    max_depth = 4,\n",
    "                    n_jobs = 3)\n",
    "\n",
    "#fit \n",
    "model.fit(X_train_encoded,\n",
    "          y_train_log,\n",
    "          eval_set = eval_set,\n",
    "          eval_metric = 'rmse',\n",
    "          early_stopping_rounds = 10)"
   ]
  },
  {
   "cell_type": "code",
   "execution_count": 123,
   "metadata": {},
   "outputs": [
    {
     "name": "stdout",
     "output_type": "stream",
     "text": [
      "Second Run Error = 0.1581\n"
     ]
    }
   ],
   "source": [
    "#get validation score\n",
    "y_pred = model.predict(X_val_encoded)\n",
    "print(f'Second Run Error = {rmse(y_val_log, y_pred):.4f}')"
   ]
  },
  {
   "cell_type": "code",
   "execution_count": 60,
   "metadata": {},
   "outputs": [
    {
     "name": "stdout",
     "output_type": "stream",
     "text": [
      "Test Run Error = 0.1477\n"
     ]
    }
   ],
   "source": [
    "#get test score\n",
    "X_test_encoded = encoder.transform(X_test)\n",
    "y_pred = model.predict(X_test_encoded)\n",
    "print(f'Test Run Error = {rmse(y_test_log, y_pred):.4f}')"
   ]
  },
  {
   "cell_type": "code",
   "execution_count": 124,
   "metadata": {},
   "outputs": [],
   "source": [
    "from sklearn.model_selection import RandomizedSearchCV\n",
    "\n",
    "#this will test more than 10 candidates\n",
    "n_estimators = range(1000, 3000, 250)\n",
    "max_depth = range(1,5)\n",
    "learning_rate = [.1, .5, 1 , 2]\n",
    "\n",
    "param_distributions = {\n",
    "    'xgbregressor__n_estimators' : n_estimators,\n",
    "    'xgbregressor__max_depth' : max_depth,\n",
    "    'xgbregressor__learning_rate' : learning_rate,\n",
    "    }\n",
    "\n",
    "tuner = RandomizedSearchCV(\n",
    "    XGBRegressor(),\n",
    "    param_distributions = param_distributions,\n",
    "    n_iter = 10,\n",
    "    cv = 4,\n",
    "    return_train_score = True,\n",
    "    n_jobs = 3)"
   ]
  },
  {
   "cell_type": "code",
   "execution_count": 126,
   "metadata": {},
   "outputs": [
    {
     "name": "stdout",
     "output_type": "stream",
     "text": [
      "[23:50:32] WARNING: src/objective/regression_obj.cu:152: reg:linear is now deprecated in favor of reg:squarederror.\n"
     ]
    },
    {
     "data": {
      "text/plain": [
       "RandomizedSearchCV(cv=4, error_score='raise-deprecating',\n",
       "          estimator=XGBRegressor(base_score=0.5, booster='gbtree', colsample_bylevel=1,\n",
       "       colsample_bynode=1, colsample_bytree=1, gamma=0,\n",
       "       importance_type='gain', learning_rate=0.1, max_delta_step=0,\n",
       "       max_depth=3, min_child_weight=1, missing=None, n_estimators=100,\n",
       "       n_jobs=1, nthread=None, objective='reg:linear', random_state=0,\n",
       "       reg_alpha=0, reg_lambda=1, scale_pos_weight=1, seed=None,\n",
       "       silent=None, subsample=1, verbosity=1),\n",
       "          fit_params=None, iid='warn', n_iter=10, n_jobs=3,\n",
       "          param_distributions={'xgbregressor__n_estimators': range(1000, 3000, 250), 'xgbregressor__max_depth': range(1, 5), 'xgbregressor__learning_rate': [0.1, 0.5, 1, 2]},\n",
       "          pre_dispatch='2*n_jobs', random_state=None, refit=True,\n",
       "          return_train_score=True, scoring=None, verbose=0)"
      ]
     },
     "execution_count": 126,
     "metadata": {},
     "output_type": "execute_result"
    }
   ],
   "source": [
    "tuner.fit(X_train_encoded, y_train_log)"
   ]
  },
  {
   "cell_type": "code",
   "execution_count": 127,
   "metadata": {},
   "outputs": [
    {
     "data": {
      "text/plain": [
       "{'xgbregressor__n_estimators': 2500,\n",
       " 'xgbregressor__max_depth': 3,\n",
       " 'xgbregressor__learning_rate': 1}"
      ]
     },
     "execution_count": 127,
     "metadata": {},
     "output_type": "execute_result"
    }
   ],
   "source": [
    "tuner.best_params_"
   ]
  },
  {
   "cell_type": "markdown",
   "metadata": {
    "colab_type": "text",
    "id": "JGqeEpRmzpr1"
   },
   "source": [
    "## 3. Plot model interpretation visualizations\n",
    "- Choose any one of these options:\n",
    "  - Permutation Importances plot\n",
    "  - Partial Dependency Plot, 1 feature isolation\n",
    "  - Partial Dependency Plot, 2 feature interaction\n",
    "  \n",
    "#### Stretch goals\n",
    "- Plot 2+ visualizations.\n",
    "- Use permutation importances for feature selection. "
   ]
  },
  {
   "cell_type": "code",
   "execution_count": 133,
   "metadata": {
    "colab": {},
    "colab_type": "code",
    "id": "ZeOJFJJZzpr1"
   },
   "outputs": [
    {
     "data": {
      "text/html": [
       "\n",
       "    <style>\n",
       "    table.eli5-weights tr:hover {\n",
       "        filter: brightness(85%);\n",
       "    }\n",
       "</style>\n",
       "\n",
       "\n",
       "\n",
       "    \n",
       "\n",
       "    \n",
       "\n",
       "    \n",
       "\n",
       "    \n",
       "\n",
       "    \n",
       "\n",
       "    \n",
       "\n",
       "\n",
       "    \n",
       "\n",
       "    \n",
       "\n",
       "    \n",
       "\n",
       "    \n",
       "\n",
       "    \n",
       "\n",
       "    \n",
       "\n",
       "\n",
       "    \n",
       "\n",
       "    \n",
       "\n",
       "    \n",
       "\n",
       "    \n",
       "\n",
       "    \n",
       "        <table class=\"eli5-weights eli5-feature-importances\" style=\"border-collapse: collapse; border: none; margin-top: 0em; table-layout: auto;\">\n",
       "    <thead>\n",
       "    <tr style=\"border: none;\">\n",
       "        <th style=\"padding: 0 1em 0 0.5em; text-align: right; border: none;\">Weight</th>\n",
       "        <th style=\"padding: 0 0.5em 0 0.5em; text-align: left; border: none;\">Feature</th>\n",
       "    </tr>\n",
       "    </thead>\n",
       "    <tbody>\n",
       "    \n",
       "        <tr style=\"background-color: hsl(120, 100.00%, 80.00%); border: none;\">\n",
       "            <td style=\"padding: 0 1em 0 0.5em; text-align: right; border: none;\">\n",
       "                0.2858\n",
       "                \n",
       "                    &plusmn; 0.0031\n",
       "                \n",
       "            </td>\n",
       "            <td style=\"padding: 0 0.5em 0 0.5em; text-align: left; border: none;\">\n",
       "                customers\n",
       "            </td>\n",
       "        </tr>\n",
       "    \n",
       "        <tr style=\"background-color: hsl(120, 100.00%, 96.17%); border: none;\">\n",
       "            <td style=\"padding: 0 1em 0 0.5em; text-align: right; border: none;\">\n",
       "                0.0269\n",
       "                \n",
       "                    &plusmn; 0.0013\n",
       "                \n",
       "            </td>\n",
       "            <td style=\"padding: 0 0.5em 0 0.5em; text-align: left; border: none;\">\n",
       "                promo\n",
       "            </td>\n",
       "        </tr>\n",
       "    \n",
       "        <tr style=\"background-color: hsl(120, 100.00%, 97.91%); border: none;\">\n",
       "            <td style=\"padding: 0 1em 0 0.5em; text-align: right; border: none;\">\n",
       "                0.0114\n",
       "                \n",
       "                    &plusmn; 0.0004\n",
       "                \n",
       "            </td>\n",
       "            <td style=\"padding: 0 0.5em 0 0.5em; text-align: left; border: none;\">\n",
       "                storetype\n",
       "            </td>\n",
       "        </tr>\n",
       "    \n",
       "        <tr style=\"background-color: hsl(120, 100.00%, 98.66%); border: none;\">\n",
       "            <td style=\"padding: 0 1em 0 0.5em; text-align: right; border: none;\">\n",
       "                0.0060\n",
       "                \n",
       "                    &plusmn; 0.0003\n",
       "                \n",
       "            </td>\n",
       "            <td style=\"padding: 0 0.5em 0 0.5em; text-align: left; border: none;\">\n",
       "                assortment\n",
       "            </td>\n",
       "        </tr>\n",
       "    \n",
       "        <tr style=\"background-color: hsl(120, 100.00%, 98.67%); border: none;\">\n",
       "            <td style=\"padding: 0 1em 0 0.5em; text-align: right; border: none;\">\n",
       "                0.0060\n",
       "                \n",
       "                    &plusmn; 0.0001\n",
       "                \n",
       "            </td>\n",
       "            <td style=\"padding: 0 0.5em 0 0.5em; text-align: left; border: none;\">\n",
       "                promo2sinceweek\n",
       "            </td>\n",
       "        </tr>\n",
       "    \n",
       "        <tr style=\"background-color: hsl(120, 100.00%, 98.91%); border: none;\">\n",
       "            <td style=\"padding: 0 1em 0 0.5em; text-align: right; border: none;\">\n",
       "                0.0044\n",
       "                \n",
       "                    &plusmn; 0.0001\n",
       "                \n",
       "            </td>\n",
       "            <td style=\"padding: 0 0.5em 0 0.5em; text-align: left; border: none;\">\n",
       "                dayofyear\n",
       "            </td>\n",
       "        </tr>\n",
       "    \n",
       "        <tr style=\"background-color: hsl(120, 100.00%, 98.93%); border: none;\">\n",
       "            <td style=\"padding: 0 1em 0 0.5em; text-align: right; border: none;\">\n",
       "                0.0044\n",
       "                \n",
       "                    &plusmn; 0.0006\n",
       "                \n",
       "            </td>\n",
       "            <td style=\"padding: 0 0.5em 0 0.5em; text-align: left; border: none;\">\n",
       "                competitiondistance\n",
       "            </td>\n",
       "        </tr>\n",
       "    \n",
       "        <tr style=\"background-color: hsl(120, 100.00%, 99.22%); border: none;\">\n",
       "            <td style=\"padding: 0 1em 0 0.5em; text-align: right; border: none;\">\n",
       "                0.0028\n",
       "                \n",
       "                    &plusmn; 0.0003\n",
       "                \n",
       "            </td>\n",
       "            <td style=\"padding: 0 0.5em 0 0.5em; text-align: left; border: none;\">\n",
       "                dayofweek\n",
       "            </td>\n",
       "        </tr>\n",
       "    \n",
       "        <tr style=\"background-color: hsl(120, 100.00%, 99.47%); border: none;\">\n",
       "            <td style=\"padding: 0 1em 0 0.5em; text-align: right; border: none;\">\n",
       "                0.0016\n",
       "                \n",
       "                    &plusmn; 0.0003\n",
       "                \n",
       "            </td>\n",
       "            <td style=\"padding: 0 0.5em 0 0.5em; text-align: left; border: none;\">\n",
       "                year\n",
       "            </td>\n",
       "        </tr>\n",
       "    \n",
       "        <tr style=\"background-color: hsl(120, 100.00%, 99.92%); border: none;\">\n",
       "            <td style=\"padding: 0 1em 0 0.5em; text-align: right; border: none;\">\n",
       "                0.0001\n",
       "                \n",
       "                    &plusmn; 0.0000\n",
       "                \n",
       "            </td>\n",
       "            <td style=\"padding: 0 0.5em 0 0.5em; text-align: left; border: none;\">\n",
       "                schoolholiday\n",
       "            </td>\n",
       "        </tr>\n",
       "    \n",
       "        <tr style=\"background-color: hsl(120, 100.00%, 99.96%); border: none;\">\n",
       "            <td style=\"padding: 0 1em 0 0.5em; text-align: right; border: none;\">\n",
       "                0.0000\n",
       "                \n",
       "                    &plusmn; 0.0006\n",
       "                \n",
       "            </td>\n",
       "            <td style=\"padding: 0 0.5em 0 0.5em; text-align: left; border: none;\">\n",
       "                competitionopensinceyear\n",
       "            </td>\n",
       "        </tr>\n",
       "    \n",
       "        <tr style=\"background-color: hsl(120, 100.00%, 99.97%); border: none;\">\n",
       "            <td style=\"padding: 0 1em 0 0.5em; text-align: right; border: none;\">\n",
       "                0.0000\n",
       "                \n",
       "                    &plusmn; 0.0000\n",
       "                \n",
       "            </td>\n",
       "            <td style=\"padding: 0 0.5em 0 0.5em; text-align: left; border: none;\">\n",
       "                promo2\n",
       "            </td>\n",
       "        </tr>\n",
       "    \n",
       "        <tr style=\"background-color: hsl(120, 100.00%, 99.98%); border: none;\">\n",
       "            <td style=\"padding: 0 1em 0 0.5em; text-align: right; border: none;\">\n",
       "                0.0000\n",
       "                \n",
       "                    &plusmn; 0.0000\n",
       "                \n",
       "            </td>\n",
       "            <td style=\"padding: 0 0.5em 0 0.5em; text-align: left; border: none;\">\n",
       "                month\n",
       "            </td>\n",
       "        </tr>\n",
       "    \n",
       "        <tr style=\"background-color: hsl(0, 100.00%, 100.00%); border: none;\">\n",
       "            <td style=\"padding: 0 1em 0 0.5em; text-align: right; border: none;\">\n",
       "                0\n",
       "                \n",
       "                    &plusmn; 0.0000\n",
       "                \n",
       "            </td>\n",
       "            <td style=\"padding: 0 0.5em 0 0.5em; text-align: left; border: none;\">\n",
       "                flu_season\n",
       "            </td>\n",
       "        </tr>\n",
       "    \n",
       "        <tr style=\"background-color: hsl(0, 100.00%, 100.00%); border: none;\">\n",
       "            <td style=\"padding: 0 1em 0 0.5em; text-align: right; border: none;\">\n",
       "                0\n",
       "                \n",
       "                    &plusmn; 0.0000\n",
       "                \n",
       "            </td>\n",
       "            <td style=\"padding: 0 0.5em 0 0.5em; text-align: left; border: none;\">\n",
       "                promointerval\n",
       "            </td>\n",
       "        </tr>\n",
       "    \n",
       "        <tr style=\"background-color: hsl(0, 100.00%, 99.81%); border: none;\">\n",
       "            <td style=\"padding: 0 1em 0 0.5em; text-align: right; border: none;\">\n",
       "                -0.0004\n",
       "                \n",
       "                    &plusmn; 0.0001\n",
       "                \n",
       "            </td>\n",
       "            <td style=\"padding: 0 0.5em 0 0.5em; text-align: left; border: none;\">\n",
       "                promo2sinceyear\n",
       "            </td>\n",
       "        </tr>\n",
       "    \n",
       "        <tr style=\"background-color: hsl(0, 100.00%, 99.62%); border: none;\">\n",
       "            <td style=\"padding: 0 1em 0 0.5em; text-align: right; border: none;\">\n",
       "                -0.0010\n",
       "                \n",
       "                    &plusmn; 0.0007\n",
       "                \n",
       "            </td>\n",
       "            <td style=\"padding: 0 0.5em 0 0.5em; text-align: left; border: none;\">\n",
       "                store\n",
       "            </td>\n",
       "        </tr>\n",
       "    \n",
       "        <tr style=\"background-color: hsl(0, 100.00%, 99.39%); border: none;\">\n",
       "            <td style=\"padding: 0 1em 0 0.5em; text-align: right; border: none;\">\n",
       "                -0.0020\n",
       "                \n",
       "                    &plusmn; 0.0001\n",
       "                \n",
       "            </td>\n",
       "            <td style=\"padding: 0 0.5em 0 0.5em; text-align: left; border: none;\">\n",
       "                competitionopensincemonth\n",
       "            </td>\n",
       "        </tr>\n",
       "    \n",
       "    \n",
       "    </tbody>\n",
       "</table>\n",
       "    \n",
       "\n",
       "    \n",
       "\n",
       "\n",
       "    \n",
       "\n",
       "    \n",
       "\n",
       "    \n",
       "\n",
       "    \n",
       "\n",
       "    \n",
       "\n",
       "    \n",
       "\n",
       "\n",
       "\n"
      ],
      "text/plain": [
       "<IPython.core.display.HTML object>"
      ]
     },
     "execution_count": 133,
     "metadata": {},
     "output_type": "execute_result"
    }
   ],
   "source": [
    "import eli5\n",
    "from eli5.sklearn import PermutationImportance\n",
    "\n",
    "#customer scorer for use in permuter\n",
    "def scoring(estimator, X, y_true):\n",
    "    y_pred = estimator.predict(X)\n",
    "    return -rmse(y_true, y_pred)\n",
    "\n",
    "#instantiate permuter with 5 iterations\n",
    "permuter = PermutationImportance(model,\n",
    "                                scoring = scoring,\n",
    "                                cv = 'prefit',\n",
    "                                n_iter = 5,\n",
    "                                random_state = 42)\n",
    "\n",
    "#fit \n",
    "permuter.fit(X_val_encoded, y_val_log)\n",
    "\n",
    "#show weights based on feature names\n",
    "feature_names = X_val_encoded.columns.tolist()\n",
    "eli5.show_weights(permuter, top=None, feature_names=feature_names)"
   ]
  },
  {
   "cell_type": "code",
   "execution_count": 68,
   "metadata": {},
   "outputs": [
    {
     "data": {
      "text/plain": [
       "(<Figure size 1080x684 with 2 Axes>,\n",
       " {'title_ax': <matplotlib.axes._subplots.AxesSubplot at 0x7fa16de4fba8>,\n",
       "  'pdp_ax': <matplotlib.axes._subplots.AxesSubplot at 0x7fa16de7aeb8>})"
      ]
     },
     "execution_count": 68,
     "metadata": {},
     "output_type": "execute_result"
    },
    {
     "data": {
      "image/png": "[encoded data removed]",
      "text/plain": [
       "<Figure size 1080x684 with 2 Axes>"
      ]
     },
     "metadata": {
      "needs_background": "light"
     },
     "output_type": "display_data"
    }
   ],
   "source": [
    "from pdpbox.pdp import pdp_isolate, pdp_plot\n",
    "\n",
    "#show mid level features dependance\n",
    "feature = 'dayofweek'\n",
    "\n",
    "#instantiate and isolated variable\n",
    "isolated = pdp_isolate(model = model,\n",
    "                       dataset = X_val_encoded,\n",
    "                       model_features = X_val_encoded.columns,\n",
    "                       feature = feature)\n",
    "#plot the variable\n",
    "pdp_plot(isolated, feature_name = feature)"
   ]
  },
  {
   "cell_type": "code",
   "execution_count": 71,
   "metadata": {},
   "outputs": [
    {
     "data": {
      "text/plain": [
       "(<Figure size 540x684 with 3 Axes>,\n",
       " {'title_ax': <matplotlib.axes._subplots.AxesSubplot at 0x7fa16dcc82e8>,\n",
       "  'pdp_inter_ax': <matplotlib.axes._subplots.AxesSubplot at 0x7fa16dc36dd8>})"
      ]
     },
     "execution_count": 71,
     "metadata": {},
     "output_type": "execute_result"
    },
    {
     "data": {
      "image/png": "[encoded data removed]",
      "text/plain": [
       "<Figure size 540x684 with 3 Axes>"
      ]
     },
     "metadata": {
      "needs_background": "light"
     },
     "output_type": "display_data"
    }
   ],
   "source": [
    "from pdpbox.pdp import pdp_interact, pdp_interact_plot\n",
    "\n",
    "#check interaction of higher wieghted features\n",
    "features = ['storetype', 'promo']\n",
    "\n",
    "#instantiate interaction vairable\n",
    "interaction = pdp_interact(model = model,\n",
    "                           dataset = X_val_encoded,\n",
    "                           model_features = X_val_encoded.columns,\n",
    "                           features = features)\n",
    "#plot interactions\n",
    "pdp_interact_plot(interaction, plot_type = 'grid', feature_names = features)"
   ]
  },
  {
   "cell_type": "code",
   "execution_count": 129,
   "metadata": {},
   "outputs": [
    {
     "data": {
      "image/png": "[encoded data removed]",
      "text/plain": [
       "<Figure size 432x288 with 1 Axes>"
      ]
     },
     "metadata": {
      "needs_background": "light"
     },
     "output_type": "display_data"
    }
   ],
   "source": [
    "#plot before transformation distribution\n",
    "fig = plt.figure()\n",
    "\n",
    "ax = sns.countplot(X_train.flu_season)\n",
    "ax.set_title('Flu Season Distribution')\n",
    "plt.show();"
   ]
  },
  {
   "cell_type": "code",
   "execution_count": 131,
   "metadata": {
    "scrolled": true
   },
   "outputs": [
    {
     "data": {
      "image/png": "[encoded data removed]",
      "text/plain": [
       "<Figure size 432x288 with 1 Axes>"
      ]
     },
     "metadata": {
      "needs_background": "light"
     },
     "output_type": "display_data"
    }
   ],
   "source": [
    "#plot before transformation distribution\n",
    "fig = plt.figure()\n",
    "\n",
    "ax = sns.countplot(X_train.dayofweek)\n",
    "ax.set_title('Flu Season Distribution')\n",
    "plt.show();"
   ]
  },
  {
   "cell_type": "code",
   "execution_count": 138,
   "metadata": {},
   "outputs": [
    {
     "data": {
      "text/plain": [
       "<bound method BaseEstimator.get_params of PermutationImportance(cv='prefit',\n",
       "           estimator=XGBRegressor(base_score=0.5, booster='gbtree', colsample_bylevel=1,\n",
       "       colsample_bynode=1, colsample_bytree=1, gamma=0,\n",
       "       importance_type='gain', learning_rate=0.1, max_delta_step=0,\n",
       "       max_depth=4, min_child_weight=1, missing=None, n_estimators=1000,\n",
       "       n_jobs=3, nthread=None, objective='reg:linear', random_state=0,\n",
       "       reg_alpha=0, reg_lambda=1, scale_pos_weight=1, seed=None,\n",
       "       silent=None, subsample=1, verbosity=1),\n",
       "           n_iter=5, random_state=42, refit=True,\n",
       "           scoring=<function scoring at 0x7fa16dc1aea0>)>"
      ]
     },
     "execution_count": 138,
     "metadata": {},
     "output_type": "execute_result"
    }
   ],
   "source": []
  },
  {
   "cell_type": "code",
   "execution_count": null,
   "metadata": {},
   "outputs": [],
   "source": []
  }
 ],
 "metadata": {
  "colab": {
   "name": "DS_Sprint_Challenge_8_Regression_2.ipynb",
   "provenance": [],
   "version": "0.3.2"
  },
  "kernelspec": {
   "display_name": "Python 3",
   "language": "python",
   "name": "python3"
  },
  "language_info": {
   "codemirror_mode": {
    "name": "ipython",
    "version": 3
   },
   "file_extension": ".py",
   "mimetype": "text/x-python",
   "name": "python",
   "nbconvert_exporter": "python",
   "pygments_lexer": "ipython3",
   "version": "3.7.3"
  }
 },
 "nbformat": 4,
 "nbformat_minor": 1
}
