{
  "nbformat": 4,
  "nbformat_minor": 0,
  "metadata": {
    "colab": {
      "name": "Anika DS-Unit-2-Applied-Modeling.ipynb",
      "version": "0.3.2",
      "provenance": [],
      "include_colab_link": true
    },
    "kernelspec": {
      "name": "python3",
      "display_name": "Python 3"
    }
  },
  "cells": [
    {
      "cell_type": "markdown",
      "metadata": {
        "id": "view-in-github",
        "colab_type": "text"
      },
      "source": [
        "<a href=\"https://colab.research.google.com/github/AnikaZN/DS-Unit-2-Applied-Modeling/blob/master/Anika_DS_Unit_2_Applied_Modeling.ipynb\" target=\"_parent\"><img src=\"https://colab.research.google.com/assets/colab-badge.svg\" alt=\"Open In Colab\"/></a>"
      ]
    },
    {
      "cell_type": "code",
      "metadata": {
        "id": "-pVEcT6pv98I",
        "colab_type": "code",
        "outputId": "e1c20f43-6796-414f-e87c-011a2e688d1b",
        "colab": {
          "base_uri": "https://localhost:8080/",
          "height": 222
        }
      },
      "source": [
        "!wget https://raw.githubusercontent.com/LambdaSchool/DS-Unit-2-Applied-Modeling/master/data/caterpillar/caterpillar-tube-pricing.zip"
      ],
      "execution_count": 0,
      "outputs": [
        {
          "output_type": "stream",
          "text": [
            "--2019-08-08 01:02:50--  https://raw.githubusercontent.com/LambdaSchool/DS-Unit-2-Applied-Modeling/master/data/caterpillar/caterpillar-tube-pricing.zip\n",
            "Resolving raw.githubusercontent.com (raw.githubusercontent.com)... 151.101.0.133, 151.101.64.133, 151.101.128.133, ...\n",
            "Connecting to raw.githubusercontent.com (raw.githubusercontent.com)|151.101.0.133|:443... connected.\n",
            "HTTP request sent, awaiting response... 200 OK\n",
            "Length: 823789 (804K) [application/zip]\n",
            "Saving to: ‘caterpillar-tube-pricing.zip’\n",
            "\n",
            "\r          caterpill   0%[                    ]       0  --.-KB/s               \rcaterpillar-tube-pr 100%[===================>] 804.48K  --.-KB/s    in 0.05s   \n",
            "\n",
            "2019-08-08 01:02:50 (17.4 MB/s) - ‘caterpillar-tube-pricing.zip’ saved [823789/823789]\n",
            "\n"
          ],
          "name": "stdout"
        }
      ]
    },
    {
      "cell_type": "code",
      "metadata": {
        "id": "DxZ35WbQwNwf",
        "colab_type": "code",
        "outputId": "37ee3ce5-e103-484e-cec7-aa8d491e9937",
        "colab": {
          "base_uri": "https://localhost:8080/",
          "height": 34
        }
      },
      "source": [
        "!ls *.zip"
      ],
      "execution_count": 0,
      "outputs": [
        {
          "output_type": "stream",
          "text": [
            "caterpillar-tube-pricing.zip\n"
          ],
          "name": "stdout"
        }
      ]
    },
    {
      "cell_type": "code",
      "metadata": {
        "id": "r14_vuQ0wQkE",
        "colab_type": "code",
        "outputId": "7329cd2c-a452-4e07-9f27-b0c03d9f2752",
        "colab": {
          "base_uri": "https://localhost:8080/",
          "height": 67
        }
      },
      "source": [
        "!unzip -o caterpillar-tube-pricing.zip"
      ],
      "execution_count": 0,
      "outputs": [
        {
          "output_type": "stream",
          "text": [
            "Archive:  caterpillar-tube-pricing.zip\n",
            "  inflating: sample_submission.csv   \n",
            "  inflating: data.zip                \n"
          ],
          "name": "stdout"
        }
      ]
    },
    {
      "cell_type": "code",
      "metadata": {
        "id": "UBt4iRfUwXCm",
        "colab_type": "code",
        "outputId": "62fe49fe-7905-4b4c-e073-c0df8cc778ec",
        "colab": {
          "base_uri": "https://localhost:8080/",
          "height": 403
        }
      },
      "source": [
        "!unzip -o data.zip"
      ],
      "execution_count": 0,
      "outputs": [
        {
          "output_type": "stream",
          "text": [
            "Archive:  data.zip\n",
            "   creating: competition_data/\n",
            "  inflating: competition_data/bill_of_materials.csv  \n",
            "  inflating: competition_data/comp_adaptor.csv  \n",
            "  inflating: competition_data/comp_boss.csv  \n",
            "  inflating: competition_data/comp_elbow.csv  \n",
            "  inflating: competition_data/comp_float.csv  \n",
            "  inflating: competition_data/comp_hfl.csv  \n",
            "  inflating: competition_data/comp_nut.csv  \n",
            "  inflating: competition_data/comp_other.csv  \n",
            "  inflating: competition_data/comp_sleeve.csv  \n",
            "  inflating: competition_data/comp_straight.csv  \n",
            "  inflating: competition_data/comp_tee.csv  \n",
            "  inflating: competition_data/comp_threaded.csv  \n",
            "  inflating: competition_data/components.csv  \n",
            "  inflating: competition_data/specs.csv  \n",
            "  inflating: competition_data/test_set.csv  \n",
            "  inflating: competition_data/train_set.csv  \n",
            "  inflating: competition_data/tube.csv  \n",
            "  inflating: competition_data/tube_end_form.csv  \n",
            "  inflating: competition_data/type_component.csv  \n",
            "  inflating: competition_data/type_connection.csv  \n",
            "  inflating: competition_data/type_end_form.csv  \n"
          ],
          "name": "stdout"
        }
      ]
    },
    {
      "cell_type": "code",
      "metadata": {
        "id": "4pT4HTaJv-l1",
        "colab_type": "code",
        "outputId": "a6a88d4a-3024-488d-c414-732bc7b4b248",
        "colab": {
          "base_uri": "https://localhost:8080/",
          "height": 370
        }
      },
      "source": [
        "from glob import glob\n",
        "import pandas as pd\n",
        "import numpy as np\n",
        "import matplotlib.pyplot as plt\n",
        "from sklearn.metrics import mean_squared_log_error as msle\n",
        "from sklearn.model_selection import train_test_split\n",
        "from sklearn.metrics import r2_score\n",
        "\n",
        "for path in glob('competition_data/*.csv'):\n",
        "  df = pd.read_csv(path)\n",
        "  print(path, df.shape)"
      ],
      "execution_count": 0,
      "outputs": [
        {
          "output_type": "stream",
          "text": [
            "competition_data/test_set.csv (30235, 8)\n",
            "competition_data/type_connection.csv (14, 2)\n",
            "competition_data/comp_tee.csv (4, 14)\n",
            "competition_data/comp_hfl.csv (6, 9)\n",
            "competition_data/comp_other.csv (1001, 3)\n",
            "competition_data/tube.csv (21198, 16)\n",
            "competition_data/type_end_form.csv (8, 2)\n",
            "competition_data/comp_float.csv (16, 7)\n",
            "competition_data/comp_threaded.csv (194, 32)\n",
            "competition_data/bill_of_materials.csv (21198, 17)\n",
            "competition_data/train_set.csv (30213, 8)\n",
            "competition_data/comp_elbow.csv (178, 16)\n",
            "competition_data/specs.csv (21198, 11)\n",
            "competition_data/comp_straight.csv (361, 12)\n",
            "competition_data/components.csv (2048, 3)\n",
            "competition_data/tube_end_form.csv (27, 2)\n",
            "competition_data/comp_boss.csv (147, 15)\n",
            "competition_data/comp_sleeve.csv (50, 10)\n",
            "competition_data/comp_adaptor.csv (25, 20)\n",
            "competition_data/comp_nut.csv (65, 11)\n",
            "competition_data/type_component.csv (29, 2)\n"
          ],
          "name": "stdout"
        }
      ]
    },
    {
      "cell_type": "code",
      "metadata": {
        "id": "z-55SygYwjrE",
        "colab_type": "code",
        "colab": {}
      },
      "source": [
        "def rmsle(y_true, y_pred):\n",
        "  return np.sqrt(msle(y_true, y_pred))"
      ],
      "execution_count": 0,
      "outputs": []
    },
    {
      "cell_type": "code",
      "metadata": {
        "id": "xt2eA2GIxCPZ",
        "colab_type": "code",
        "outputId": "a61f26f4-da2d-45e4-f15c-3a9ecf3d1141",
        "colab": {
          "base_uri": "https://localhost:8080/",
          "height": 34
        }
      },
      "source": [
        "trainval = pd.read_csv('competition_data/train_set.csv')\n",
        "test = pd.read_csv('competition_data/test_set.csv')\n",
        "\n",
        "trainval.shape, test.shape"
      ],
      "execution_count": 0,
      "outputs": [
        {
          "output_type": "execute_result",
          "data": {
            "text/plain": [
              "((30213, 8), (30235, 8))"
            ]
          },
          "metadata": {
            "tags": []
          },
          "execution_count": 81
        }
      ]
    },
    {
      "cell_type": "code",
      "metadata": {
        "id": "DWv_gTpaxOAr",
        "colab_type": "code",
        "outputId": "92180cf6-4177-49a8-a6ee-876aefc3718a",
        "colab": {
          "base_uri": "https://localhost:8080/",
          "height": 215
        }
      },
      "source": [
        "#trainval.head() - 7/7/13\n",
        "\n",
        "test.head() # 6/23/13"
      ],
      "execution_count": 0,
      "outputs": [
        {
          "output_type": "execute_result",
          "data": {
            "text/html": [
              "<div>\n",
              "<style scoped>\n",
              "    .dataframe tbody tr th:only-of-type {\n",
              "        vertical-align: middle;\n",
              "    }\n",
              "\n",
              "    .dataframe tbody tr th {\n",
              "        vertical-align: top;\n",
              "    }\n",
              "\n",
              "    .dataframe thead th {\n",
              "        text-align: right;\n",
              "    }\n",
              "</style>\n",
              "<table border=\"1\" class=\"dataframe\">\n",
              "  <thead>\n",
              "    <tr style=\"text-align: right;\">\n",
              "      <th></th>\n",
              "      <th>id</th>\n",
              "      <th>tube_assembly_id</th>\n",
              "      <th>supplier</th>\n",
              "      <th>quote_date</th>\n",
              "      <th>annual_usage</th>\n",
              "      <th>min_order_quantity</th>\n",
              "      <th>bracket_pricing</th>\n",
              "      <th>quantity</th>\n",
              "    </tr>\n",
              "  </thead>\n",
              "  <tbody>\n",
              "    <tr>\n",
              "      <th>0</th>\n",
              "      <td>1</td>\n",
              "      <td>TA-00001</td>\n",
              "      <td>S-0066</td>\n",
              "      <td>2013-06-23</td>\n",
              "      <td>0</td>\n",
              "      <td>0</td>\n",
              "      <td>Yes</td>\n",
              "      <td>1</td>\n",
              "    </tr>\n",
              "    <tr>\n",
              "      <th>1</th>\n",
              "      <td>2</td>\n",
              "      <td>TA-00001</td>\n",
              "      <td>S-0066</td>\n",
              "      <td>2013-06-23</td>\n",
              "      <td>0</td>\n",
              "      <td>0</td>\n",
              "      <td>Yes</td>\n",
              "      <td>2</td>\n",
              "    </tr>\n",
              "    <tr>\n",
              "      <th>2</th>\n",
              "      <td>3</td>\n",
              "      <td>TA-00001</td>\n",
              "      <td>S-0066</td>\n",
              "      <td>2013-06-23</td>\n",
              "      <td>0</td>\n",
              "      <td>0</td>\n",
              "      <td>Yes</td>\n",
              "      <td>5</td>\n",
              "    </tr>\n",
              "    <tr>\n",
              "      <th>3</th>\n",
              "      <td>4</td>\n",
              "      <td>TA-00001</td>\n",
              "      <td>S-0066</td>\n",
              "      <td>2013-06-23</td>\n",
              "      <td>0</td>\n",
              "      <td>0</td>\n",
              "      <td>Yes</td>\n",
              "      <td>10</td>\n",
              "    </tr>\n",
              "    <tr>\n",
              "      <th>4</th>\n",
              "      <td>5</td>\n",
              "      <td>TA-00001</td>\n",
              "      <td>S-0066</td>\n",
              "      <td>2013-06-23</td>\n",
              "      <td>0</td>\n",
              "      <td>0</td>\n",
              "      <td>Yes</td>\n",
              "      <td>25</td>\n",
              "    </tr>\n",
              "  </tbody>\n",
              "</table>\n",
              "</div>"
            ],
            "text/plain": [
              "   id tube_assembly_id supplier  ... min_order_quantity  bracket_pricing  quantity\n",
              "0   1         TA-00001   S-0066  ...                  0              Yes         1\n",
              "1   2         TA-00001   S-0066  ...                  0              Yes         2\n",
              "2   3         TA-00001   S-0066  ...                  0              Yes         5\n",
              "3   4         TA-00001   S-0066  ...                  0              Yes        10\n",
              "4   5         TA-00001   S-0066  ...                  0              Yes        25\n",
              "\n",
              "[5 rows x 8 columns]"
            ]
          },
          "metadata": {
            "tags": []
          },
          "execution_count": 82
        }
      ]
    },
    {
      "cell_type": "code",
      "metadata": {
        "id": "SDDeJAOtxQYt",
        "colab_type": "code",
        "outputId": "25726632-486f-4568-82b7-7890bbb3717c",
        "colab": {
          "base_uri": "https://localhost:8080/",
          "height": 34
        }
      },
      "source": [
        "trainval_tubes = trainval['tube_assembly_id'].unique()\n",
        "test_tubes = test['tube_assembly_id'].unique()\n",
        "len(trainval_tubes), len(test_tubes)"
      ],
      "execution_count": 0,
      "outputs": [
        {
          "output_type": "execute_result",
          "data": {
            "text/plain": [
              "(8855, 8856)"
            ]
          },
          "metadata": {
            "tags": []
          },
          "execution_count": 83
        }
      ]
    },
    {
      "cell_type": "code",
      "metadata": {
        "id": "3v-qJrWkxtbo",
        "colab_type": "code",
        "outputId": "3e4b52c2-c71a-4277-da31-970872739953",
        "colab": {
          "base_uri": "https://localhost:8080/",
          "height": 34
        }
      },
      "source": [
        "set(trainval_tubes) & set(test_tubes)"
      ],
      "execution_count": 0,
      "outputs": [
        {
          "output_type": "execute_result",
          "data": {
            "text/plain": [
              "set()"
            ]
          },
          "metadata": {
            "tags": []
          },
          "execution_count": 84
        }
      ]
    },
    {
      "cell_type": "code",
      "metadata": {
        "id": "kMe4E56Txycj",
        "colab_type": "code",
        "outputId": "3265fe2c-1201-4cc3-995d-4995527bb063",
        "colab": {
          "base_uri": "https://localhost:8080/",
          "height": 50
        }
      },
      "source": [
        "trainval_tubes"
      ],
      "execution_count": 0,
      "outputs": [
        {
          "output_type": "execute_result",
          "data": {
            "text/plain": [
              "array(['TA-00002', 'TA-00004', 'TA-00005', ..., 'TA-21195', 'TA-21196',\n",
              "       'TA-21197'], dtype=object)"
            ]
          },
          "metadata": {
            "tags": []
          },
          "execution_count": 85
        }
      ]
    },
    {
      "cell_type": "code",
      "metadata": {
        "id": "XTTau1hpx4_o",
        "colab_type": "code",
        "colab": {}
      },
      "source": [
        "train_tubes, val_tubes = train_test_split(trainval_tubes, random_state=42)"
      ],
      "execution_count": 0,
      "outputs": []
    },
    {
      "cell_type": "code",
      "metadata": {
        "id": "0Ps8Jt1tyedC",
        "colab_type": "code",
        "outputId": "95b61f51-2f5b-47fd-f2f7-d151e4b68b6f",
        "colab": {
          "base_uri": "https://localhost:8080/",
          "height": 50
        }
      },
      "source": [
        "train_tubes"
      ],
      "execution_count": 0,
      "outputs": [
        {
          "output_type": "execute_result",
          "data": {
            "text/plain": [
              "array(['TA-02700', 'TA-20881', 'TA-18779', ..., 'TA-13470', 'TA-02018',\n",
              "       'TA-17839'], dtype=object)"
            ]
          },
          "metadata": {
            "tags": []
          },
          "execution_count": 87
        }
      ]
    },
    {
      "cell_type": "code",
      "metadata": {
        "id": "4nSyvxZjz8XB",
        "colab_type": "code",
        "outputId": "98252123-5c4a-4147-a37d-af4f95a06ff2",
        "colab": {
          "base_uri": "https://localhost:8080/",
          "height": 50
        }
      },
      "source": [
        "val_tubes"
      ],
      "execution_count": 0,
      "outputs": [
        {
          "output_type": "execute_result",
          "data": {
            "text/plain": [
              "array(['TA-10379', 'TA-14110', 'TA-09998', ..., 'TA-19237', 'TA-03176',\n",
              "       'TA-01973'], dtype=object)"
            ]
          },
          "metadata": {
            "tags": []
          },
          "execution_count": 88
        }
      ]
    },
    {
      "cell_type": "code",
      "metadata": {
        "id": "mXx-dnK5z9TE",
        "colab_type": "code",
        "outputId": "2d99133b-a940-4935-cf7c-3632621d5079",
        "colab": {
          "base_uri": "https://localhost:8080/",
          "height": 34
        }
      },
      "source": [
        "set(train_tubes) & set(val_tubes)"
      ],
      "execution_count": 0,
      "outputs": [
        {
          "output_type": "execute_result",
          "data": {
            "text/plain": [
              "set()"
            ]
          },
          "metadata": {
            "tags": []
          },
          "execution_count": 89
        }
      ]
    },
    {
      "cell_type": "code",
      "metadata": {
        "id": "EGxnZ7NH0IdT",
        "colab_type": "code",
        "outputId": "0b94a46f-f456-4a1c-b8b2-27f081d89b9e",
        "colab": {
          "base_uri": "https://localhost:8080/",
          "height": 34
        }
      },
      "source": [
        "train = trainval[trainval['tube_assembly_id'].isin(train_tubes)]\n",
        "val = trainval[trainval['tube_assembly_id'].isin(val_tubes)]\n",
        "\n",
        "train.shape, val.shape, trainval.shape"
      ],
      "execution_count": 0,
      "outputs": [
        {
          "output_type": "execute_result",
          "data": {
            "text/plain": [
              "((22628, 8), (7585, 8), (30213, 8))"
            ]
          },
          "metadata": {
            "tags": []
          },
          "execution_count": 90
        }
      ]
    },
    {
      "cell_type": "code",
      "metadata": {
        "id": "mxhla4Bl0a1Q",
        "colab_type": "code",
        "outputId": "4ebaca7b-7060-4472-dce6-96d36f8c91f1",
        "colab": {
          "base_uri": "https://localhost:8080/",
          "height": 50
        }
      },
      "source": [
        "target = 'cost'\n",
        "y_train = train[target]\n",
        "y_val = val[target]\n",
        "\n",
        "y_pred = np.full_like(y_val, fill_value=y_train.mean())\n",
        "\n",
        "print('Validation RMSLE, Mean Baseline:', rmsle(y_val, y_pred))\n",
        "print('Validation R^2, Mean Baseline:', r2_score(y_val, y_pred))"
      ],
      "execution_count": 0,
      "outputs": [
        {
          "output_type": "stream",
          "text": [
            "Validation RMSLE, Mean Baseline: 0.9418101276064408\n",
            "Validation R^2, Mean Baseline: -4.701447715138585e-06\n"
          ],
          "name": "stdout"
        }
      ]
    },
    {
      "cell_type": "code",
      "metadata": {
        "id": "1RgeWwtx1Kgm",
        "colab_type": "code",
        "outputId": "276750f6-5b19-421c-cb79-eca4ab49829a",
        "colab": {
          "base_uri": "https://localhost:8080/",
          "height": 34
        }
      },
      "source": [
        "train['cost'].mean()"
      ],
      "execution_count": 0,
      "outputs": [
        {
          "output_type": "execute_result",
          "data": {
            "text/plain": [
              "13.450499769517025"
            ]
          },
          "metadata": {
            "tags": []
          },
          "execution_count": 92
        }
      ]
    },
    {
      "cell_type": "code",
      "metadata": {
        "id": "RhL8_2OR23k5",
        "colab_type": "code",
        "outputId": "ba8ec687-0719-4d2b-bc38-05f43fce1d62",
        "colab": {
          "base_uri": "https://localhost:8080/",
          "height": 1000
        }
      },
      "source": [
        "train.groupby('quantity')['cost'].mean()"
      ],
      "execution_count": 0,
      "outputs": [
        {
          "output_type": "execute_result",
          "data": {
            "text/plain": [
              "quantity\n",
              "1       26.602862\n",
              "2       19.222738\n",
              "3       37.130535\n",
              "4       26.695014\n",
              "5       12.671149\n",
              "6       10.638119\n",
              "7       31.482244\n",
              "8       16.170021\n",
              "9       21.015575\n",
              "10       7.356611\n",
              "11      23.711489\n",
              "12      14.262210\n",
              "13       7.798112\n",
              "14       9.330717\n",
              "15      13.173706\n",
              "16      10.771868\n",
              "17      13.403166\n",
              "18      11.248039\n",
              "19       7.092018\n",
              "20       5.070719\n",
              "21       7.277866\n",
              "22       6.174626\n",
              "24       9.232764\n",
              "25       5.098735\n",
              "26       4.847274\n",
              "27       5.278957\n",
              "28       5.888784\n",
              "29       5.586375\n",
              "30       8.083138\n",
              "31       4.047340\n",
              "          ...    \n",
              "167     19.449375\n",
              "170      7.603367\n",
              "180      2.601225\n",
              "185     13.746154\n",
              "195      1.627505\n",
              "200      3.792344\n",
              "205      1.941877\n",
              "210      3.741869\n",
              "225      7.873227\n",
              "240      2.573405\n",
              "250      4.077934\n",
              "253     11.945605\n",
              "285      2.107410\n",
              "290      1.620549\n",
              "300      5.785755\n",
              "325      3.994341\n",
              "350      4.594571\n",
              "400      4.321465\n",
              "480      4.932591\n",
              "500      3.597759\n",
              "535      6.357005\n",
              "550      1.414677\n",
              "574      1.926576\n",
              "666      2.871085\n",
              "700      0.817925\n",
              "750      1.980826\n",
              "829      3.076957\n",
              "1034     2.590097\n",
              "1045    11.492686\n",
              "2500     1.571863\n",
              "Name: cost, Length: 109, dtype: float64"
            ]
          },
          "metadata": {
            "tags": []
          },
          "execution_count": 93
        }
      ]
    },
    {
      "cell_type": "code",
      "metadata": {
        "id": "6V6wdBkY27tr",
        "colab_type": "code",
        "colab": {}
      },
      "source": [
        "features = ['quantity']\n",
        "\n",
        "x_train = train[features]\n",
        "x_val = val[features]"
      ],
      "execution_count": 0,
      "outputs": []
    },
    {
      "cell_type": "code",
      "metadata": {
        "id": "XX2B6kzG3Eh3",
        "colab_type": "code",
        "outputId": "fa719b44-3b4c-4306-c1b9-d97bba58c24a",
        "colab": {
          "base_uri": "https://localhost:8080/",
          "height": 34
        }
      },
      "source": [
        "from sklearn.ensemble import RandomForestRegressor as rfr\n",
        "\n",
        "model = rfr(n_estimators = 100, random_state = 42, n_jobs = -1)\n",
        "model.fit(x_train, y_train)\n",
        "r2 = model.score(x_val, y_val)\n",
        "\n",
        "print('Validation R^2:', r2)"
      ],
      "execution_count": 0,
      "outputs": [
        {
          "output_type": "stream",
          "text": [
            "Validation R^2: 0.08879518736792147\n"
          ],
          "name": "stdout"
        }
      ]
    },
    {
      "cell_type": "code",
      "metadata": {
        "id": "f2zRA63q3eZv",
        "colab_type": "code",
        "outputId": "cf0b6ff8-d4f4-4abe-cff8-69dbe9996e80",
        "colab": {
          "base_uri": "https://localhost:8080/",
          "height": 50
        }
      },
      "source": [
        "y_pred = model.predict(x_val)\n",
        "print('Validation RMSLE, Random Forest with', features)\n",
        "print(rmsle(y_val, y_pred))"
      ],
      "execution_count": 0,
      "outputs": [
        {
          "output_type": "stream",
          "text": [
            "Validation RMSLE, Random Forest with ['quantity']\n",
            "0.6908805822519186\n"
          ],
          "name": "stdout"
        }
      ]
    },
    {
      "cell_type": "code",
      "metadata": {
        "id": "vvLoHjzv3sVZ",
        "colab_type": "code",
        "outputId": "9ac6bd04-77f5-4a0c-a85a-c0991f769dd7",
        "colab": {
          "base_uri": "https://localhost:8080/",
          "height": 283
        }
      },
      "source": [
        "import seaborn as sns\n",
        "sns.distplot(y_train);"
      ],
      "execution_count": 0,
      "outputs": [
        {
          "output_type": "display_data",
          "data": {
            "image/png": "[encoded data removed]",
            "text/plain": [
              "<Figure size 432x288 with 1 Axes>"
            ]
          },
          "metadata": {
            "tags": []
          }
        }
      ]
    },
    {
      "cell_type": "code",
      "metadata": {
        "id": "0kadajtz37Hv",
        "colab_type": "code",
        "outputId": "6700bc82-bfe4-4515-fa24-3d1d28636f28",
        "colab": {
          "base_uri": "https://localhost:8080/",
          "height": 283
        }
      },
      "source": [
        "y_train_log = np.log(y_train)\n",
        "sns.distplot(y_train_log);"
      ],
      "execution_count": 0,
      "outputs": [
        {
          "output_type": "display_data",
          "data": {
            "image/png": "[encoded data removed]",
            "text/plain": [
              "<Figure size 432x288 with 1 Axes>"
            ]
          },
          "metadata": {
            "tags": []
          }
        }
      ]
    },
    {
      "cell_type": "code",
      "metadata": {
        "id": "IHt-_NBQ4C0T",
        "colab_type": "code",
        "outputId": "bff239a5-977d-43fd-8ad1-71fe9233f85b",
        "colab": {
          "base_uri": "https://localhost:8080/",
          "height": 283
        }
      },
      "source": [
        "y_train_log_exp = np.expm1(y_train_log)\n",
        "sns.distplot(y_train_log_exp);"
      ],
      "execution_count": 0,
      "outputs": [
        {
          "output_type": "display_data",
          "data": {
            "image/png": "[encoded data removed]",
            "text/plain": [
              "<Figure size 432x288 with 1 Axes>"
            ]
          },
          "metadata": {
            "tags": []
          }
        }
      ]
    },
    {
      "cell_type": "code",
      "metadata": {
        "id": "ghyX1aGX4R1y",
        "colab_type": "code",
        "outputId": "9e49013c-98d6-4f23-ceb7-e6f2f863c713",
        "colab": {
          "base_uri": "https://localhost:8080/",
          "height": 34
        }
      },
      "source": [
        "model.fit(x_train, y_train_log)\n",
        "\n",
        "y_pred_log = model.predict(x_val)\n",
        "\n",
        "y_pred = np.expm1(y_pred_log)\n",
        "rmsle(y_val, y_pred)"
      ],
      "execution_count": 0,
      "outputs": [
        {
          "output_type": "execute_result",
          "data": {
            "text/plain": [
              "0.6496605059511013"
            ]
          },
          "metadata": {
            "tags": []
          },
          "execution_count": 100
        }
      ]
    },
    {
      "cell_type": "code",
      "metadata": {
        "id": "5nWI5mA84gIg",
        "colab_type": "code",
        "colab": {}
      },
      "source": [
        "from sklearn.metrics import mean_squared_error as mse\n",
        "\n",
        "def rmse(y_true, y_pred):\n",
        "  return np.sqrt(mse(y_true, y_pred))"
      ],
      "execution_count": 0,
      "outputs": []
    },
    {
      "cell_type": "code",
      "metadata": {
        "id": "l6G1LnTg4t8n",
        "colab_type": "code",
        "outputId": "abb2bef9-71bc-4048-e006-ec477d227171",
        "colab": {
          "base_uri": "https://localhost:8080/",
          "height": 34
        }
      },
      "source": [
        "y_val_log = np.log1p(y_val)\n",
        "rmse(y_val_log, y_pred_log)"
      ],
      "execution_count": 0,
      "outputs": [
        {
          "output_type": "execute_result",
          "data": {
            "text/plain": [
              "0.6496605059511013"
            ]
          },
          "metadata": {
            "tags": []
          },
          "execution_count": 102
        }
      ]
    },
    {
      "cell_type": "code",
      "metadata": {
        "id": "Nn38JlsN4z_i",
        "colab_type": "code",
        "colab": {}
      },
      "source": [
        "#!pip install category_encoders"
      ],
      "execution_count": 0,
      "outputs": []
    },
    {
      "cell_type": "code",
      "metadata": {
        "id": "5h2u1icq48FD",
        "colab_type": "code",
        "outputId": "ca783f28-e152-4220-a936-06e314aba6cb",
        "colab": {
          "base_uri": "https://localhost:8080/",
          "height": 215
        }
      },
      "source": [
        "train.head()"
      ],
      "execution_count": 0,
      "outputs": [
        {
          "output_type": "execute_result",
          "data": {
            "text/html": [
              "<div>\n",
              "<style scoped>\n",
              "    .dataframe tbody tr th:only-of-type {\n",
              "        vertical-align: middle;\n",
              "    }\n",
              "\n",
              "    .dataframe tbody tr th {\n",
              "        vertical-align: top;\n",
              "    }\n",
              "\n",
              "    .dataframe thead th {\n",
              "        text-align: right;\n",
              "    }\n",
              "</style>\n",
              "<table border=\"1\" class=\"dataframe\">\n",
              "  <thead>\n",
              "    <tr style=\"text-align: right;\">\n",
              "      <th></th>\n",
              "      <th>tube_assembly_id</th>\n",
              "      <th>supplier</th>\n",
              "      <th>quote_date</th>\n",
              "      <th>annual_usage</th>\n",
              "      <th>min_order_quantity</th>\n",
              "      <th>bracket_pricing</th>\n",
              "      <th>quantity</th>\n",
              "      <th>cost</th>\n",
              "    </tr>\n",
              "  </thead>\n",
              "  <tbody>\n",
              "    <tr>\n",
              "      <th>8</th>\n",
              "      <td>TA-00004</td>\n",
              "      <td>S-0066</td>\n",
              "      <td>2013-07-07</td>\n",
              "      <td>0</td>\n",
              "      <td>0</td>\n",
              "      <td>Yes</td>\n",
              "      <td>1</td>\n",
              "      <td>21.972702</td>\n",
              "    </tr>\n",
              "    <tr>\n",
              "      <th>9</th>\n",
              "      <td>TA-00004</td>\n",
              "      <td>S-0066</td>\n",
              "      <td>2013-07-07</td>\n",
              "      <td>0</td>\n",
              "      <td>0</td>\n",
              "      <td>Yes</td>\n",
              "      <td>2</td>\n",
              "      <td>12.407983</td>\n",
              "    </tr>\n",
              "    <tr>\n",
              "      <th>10</th>\n",
              "      <td>TA-00004</td>\n",
              "      <td>S-0066</td>\n",
              "      <td>2013-07-07</td>\n",
              "      <td>0</td>\n",
              "      <td>0</td>\n",
              "      <td>Yes</td>\n",
              "      <td>5</td>\n",
              "      <td>6.668596</td>\n",
              "    </tr>\n",
              "    <tr>\n",
              "      <th>11</th>\n",
              "      <td>TA-00004</td>\n",
              "      <td>S-0066</td>\n",
              "      <td>2013-07-07</td>\n",
              "      <td>0</td>\n",
              "      <td>0</td>\n",
              "      <td>Yes</td>\n",
              "      <td>10</td>\n",
              "      <td>4.754539</td>\n",
              "    </tr>\n",
              "    <tr>\n",
              "      <th>12</th>\n",
              "      <td>TA-00004</td>\n",
              "      <td>S-0066</td>\n",
              "      <td>2013-07-07</td>\n",
              "      <td>0</td>\n",
              "      <td>0</td>\n",
              "      <td>Yes</td>\n",
              "      <td>25</td>\n",
              "      <td>3.608331</td>\n",
              "    </tr>\n",
              "  </tbody>\n",
              "</table>\n",
              "</div>"
            ],
            "text/plain": [
              "   tube_assembly_id supplier  quote_date  ...  bracket_pricing  quantity       cost\n",
              "8          TA-00004   S-0066  2013-07-07  ...              Yes         1  21.972702\n",
              "9          TA-00004   S-0066  2013-07-07  ...              Yes         2  12.407983\n",
              "10         TA-00004   S-0066  2013-07-07  ...              Yes         5   6.668596\n",
              "11         TA-00004   S-0066  2013-07-07  ...              Yes        10   4.754539\n",
              "12         TA-00004   S-0066  2013-07-07  ...              Yes        25   3.608331\n",
              "\n",
              "[5 rows x 8 columns]"
            ]
          },
          "metadata": {
            "tags": []
          },
          "execution_count": 104
        }
      ]
    },
    {
      "cell_type": "code",
      "metadata": {
        "id": "yFPneZUW4-c-",
        "colab_type": "code",
        "colab": {}
      },
      "source": [
        "def wrangle(x):\n",
        "  x = x.copy()\n",
        "  \n",
        "  x['quote_date'] = pd.to_datetime(x['quote_date'], infer_datetime_format = True)\n",
        "  x['quote_year'] = x['quote_date'].dt.year\n",
        "  x['quote_month'] = x['quote_date'].dt.month\n",
        "  \n",
        "  x = x.drop(columns='quote_date')\n",
        "  \n",
        "  x = x.drop(columns='tube_assembly_id')\n",
        "  \n",
        "  return x\n",
        "\n",
        "train_wrangled = wrangle(train)\n",
        "val_wrangled = wrangle(val)"
      ],
      "execution_count": 0,
      "outputs": []
    },
    {
      "cell_type": "code",
      "metadata": {
        "id": "hlG-WRxh5uMe",
        "colab_type": "code",
        "outputId": "cc0d866b-10de-41ec-e33a-f3a73703d8fb",
        "colab": {
          "base_uri": "https://localhost:8080/",
          "height": 54
        }
      },
      "source": [
        "features = train_wrangled.columns.drop(target)\n",
        "print('Features:', features.tolist())"
      ],
      "execution_count": 0,
      "outputs": [
        {
          "output_type": "stream",
          "text": [
            "Features: ['supplier', 'annual_usage', 'min_order_quantity', 'bracket_pricing', 'quantity', 'quote_year', 'quote_month']\n"
          ],
          "name": "stdout"
        }
      ]
    },
    {
      "cell_type": "code",
      "metadata": {
        "id": "xTYslOIa6IQX",
        "colab_type": "code",
        "colab": {}
      },
      "source": [
        "x_train = train_wrangled[features]\n",
        "x_val = val_wrangles[features]"
      ],
      "execution_count": 0,
      "outputs": []
    },
    {
      "cell_type": "code",
      "metadata": {
        "id": "VhpaT_nu6TpC",
        "colab_type": "code",
        "outputId": "2c9ec183-9646-4ff7-f7f2-fa79fe75f26e",
        "colab": {
          "base_uri": "https://localhost:8080/",
          "height": 34
        }
      },
      "source": [
        "import category_encoders as ce\n",
        "from sklearn.pipeline import make_pipeline\n",
        "\n",
        "pipeline = make_pipeline(\n",
        "  ce.OrdinalEncoder(),\n",
        "  rfr(n_estimators=100, random_state=42, n_jobs=-1))\n",
        "\n",
        "pipeline.fit(x_train, y_train_log)\n",
        "y_pred_log = pipeline.predict(x_val)\n",
        "rmse(y_val_log, y_pred_log)"
      ],
      "execution_count": 0,
      "outputs": [
        {
          "output_type": "execute_result",
          "data": {
            "text/plain": [
              "0.44473653825360976"
            ]
          },
          "metadata": {
            "tags": []
          },
          "execution_count": 108
        }
      ]
    },
    {
      "cell_type": "code",
      "metadata": {
        "id": "XQ6nMs5V6s0h",
        "colab_type": "code",
        "outputId": "b4fb8943-e5ff-436e-c803-d474540bea68",
        "colab": {
          "base_uri": "https://localhost:8080/",
          "height": 34
        }
      },
      "source": [
        "y_pred = np.expm1(y_pred_log)\n",
        "rmsle(y_val, y_pred)"
      ],
      "execution_count": 0,
      "outputs": [
        {
          "output_type": "execute_result",
          "data": {
            "text/plain": [
              "0.44473653825360976"
            ]
          },
          "metadata": {
            "tags": []
          },
          "execution_count": 109
        }
      ]
    },
    {
      "cell_type": "code",
      "metadata": {
        "id": "8PtU2Wp46zjD",
        "colab_type": "code",
        "outputId": "5537f86e-40c9-4ec2-a889-e5aaefcb5330",
        "colab": {
          "base_uri": "https://localhost:8080/",
          "height": 50
        }
      },
      "source": [
        "pipeline.named_steps['randomforestregressor'].feature_importances_"
      ],
      "execution_count": 0,
      "outputs": [
        {
          "output_type": "execute_result",
          "data": {
            "text/plain": [
              "array([0.09842109, 0.17595005, 0.04602993, 0.00670771, 0.52987582,\n",
              "       0.08061959, 0.06239581])"
            ]
          },
          "metadata": {
            "tags": []
          },
          "execution_count": 110
        }
      ]
    },
    {
      "cell_type": "code",
      "metadata": {
        "id": "6dCjeQEw9kV9",
        "colab_type": "code",
        "outputId": "bde96565-ab70-49df-9a5a-b6aeacd0cfc5",
        "colab": {
          "base_uri": "https://localhost:8080/",
          "height": 67
        }
      },
      "source": [
        "x_train.columns"
      ],
      "execution_count": 0,
      "outputs": [
        {
          "output_type": "execute_result",
          "data": {
            "text/plain": [
              "Index(['supplier', 'annual_usage', 'min_order_quantity', 'bracket_pricing',\n",
              "       'quantity', 'quote_year', 'quote_month'],\n",
              "      dtype='object')"
            ]
          },
          "metadata": {
            "tags": []
          },
          "execution_count": 111
        }
      ]
    },
    {
      "cell_type": "code",
      "metadata": {
        "id": "V9fJZHP39mJP",
        "colab_type": "code",
        "outputId": "fe0b5216-a2e8-4e45-8704-1b8887106484",
        "colab": {
          "base_uri": "https://localhost:8080/",
          "height": 269
        }
      },
      "source": [
        "rf = pipeline.named_steps['randomforestregressor']\n",
        "importances = pd.Series(rf.feature_importances_, x_train.columns)\n",
        "\n",
        "importances.sort_values().plot.barh(color='blue');"
      ],
      "execution_count": 0,
      "outputs": [
        {
          "output_type": "display_data",
          "data": {
            "image/png": "[encoded data removed]",
            "text/plain": [
              "<Figure size 432x288 with 1 Axes>"
            ]
          },
          "metadata": {
            "tags": []
          }
        }
      ]
    },
    {
      "cell_type": "code",
      "metadata": {
        "id": "Nzd2qwNt9ugt",
        "colab_type": "code",
        "outputId": "470152b5-1cee-4d80-94e8-b5177d4d6e6d",
        "colab": {
          "base_uri": "https://localhost:8080/",
          "height": 283
        }
      },
      "source": [
        "quantity_quartiles = pd.qcut(train_wrangled['quantity'], q=4)\n",
        "sns.pointplot(x=quantity_quartiles, y=train_wrangled['cost']);"
      ],
      "execution_count": 0,
      "outputs": [
        {
          "output_type": "display_data",
          "data": {
            "image/png": "[encoded data removed]",
            "text/plain": [
              "<Figure size 432x288 with 1 Axes>"
            ]
          },
          "metadata": {
            "tags": []
          }
        }
      ]
    },
    {
      "cell_type": "code",
      "metadata": {
        "id": "e0t_LH98-Iou",
        "colab_type": "code",
        "outputId": "1236d6fe-cb5d-4f5c-d8e5-3d9f5d1e2cab",
        "colab": {
          "base_uri": "https://localhost:8080/",
          "height": 283
        }
      },
      "source": [
        "sns.distplot(y_val_log, label=True)\n",
        "sns.distplot(y_pred_log, label='Predicted')\n",
        "plt.legend();"
      ],
      "execution_count": 0,
      "outputs": [
        {
          "output_type": "display_data",
          "data": {
            "image/png": "[encoded data removed]",
            "text/plain": [
              "<Figure size 432x288 with 1 Axes>"
            ]
          },
          "metadata": {
            "tags": []
          }
        }
      ]
    },
    {
      "cell_type": "code",
      "metadata": {
        "id": "MkZ4hMXh-hLS",
        "colab_type": "code",
        "outputId": "fe919104-d5f7-441b-d43e-8a5b4e058302",
        "colab": {
          "base_uri": "https://localhost:8080/",
          "height": 289
        }
      },
      "source": [
        "for path in glob('competition_data/*csv'):\n",
        "  df = pd.read_csv(path)\n",
        "  shared_columns = set(df.columns) & set(train.columns)\n",
        "  if shared_columns:\n",
        "    print(path, df.shape)\n",
        "    print(df.columns.tolist(), '\\n')"
      ],
      "execution_count": 0,
      "outputs": [
        {
          "output_type": "stream",
          "text": [
            "competition_data/test_set.csv (30235, 8)\n",
            "['id', 'tube_assembly_id', 'supplier', 'quote_date', 'annual_usage', 'min_order_quantity', 'bracket_pricing', 'quantity'] \n",
            "\n",
            "competition_data/tube.csv (21198, 16)\n",
            "['tube_assembly_id', 'material_id', 'diameter', 'wall', 'length', 'num_bends', 'bend_radius', 'end_a_1x', 'end_a_2x', 'end_x_1x', 'end_x_2x', 'end_a', 'end_x', 'num_boss', 'num_bracket', 'other'] \n",
            "\n",
            "competition_data/bill_of_materials.csv (21198, 17)\n",
            "['tube_assembly_id', 'component_id_1', 'quantity_1', 'component_id_2', 'quantity_2', 'component_id_3', 'quantity_3', 'component_id_4', 'quantity_4', 'component_id_5', 'quantity_5', 'component_id_6', 'quantity_6', 'component_id_7', 'quantity_7', 'component_id_8', 'quantity_8'] \n",
            "\n",
            "competition_data/train_set.csv (30213, 8)\n",
            "['tube_assembly_id', 'supplier', 'quote_date', 'annual_usage', 'min_order_quantity', 'bracket_pricing', 'quantity', 'cost'] \n",
            "\n",
            "competition_data/specs.csv (21198, 11)\n",
            "['tube_assembly_id', 'spec1', 'spec2', 'spec3', 'spec4', 'spec5', 'spec6', 'spec7', 'spec8', 'spec9', 'spec10'] \n",
            "\n"
          ],
          "name": "stdout"
        }
      ]
    },
    {
      "cell_type": "code",
      "metadata": {
        "id": "cKonILgw-9be",
        "colab_type": "code",
        "outputId": "934897ce-65bc-4dcb-d7ba-72c9e91d0b08",
        "colab": {
          "base_uri": "https://localhost:8080/",
          "height": 304
        }
      },
      "source": [
        "tube = pd.read_csv('competition_data/tube.csv')\n",
        "\n",
        "tube.describe()"
      ],
      "execution_count": 0,
      "outputs": [
        {
          "output_type": "execute_result",
          "data": {
            "text/html": [
              "<div>\n",
              "<style scoped>\n",
              "    .dataframe tbody tr th:only-of-type {\n",
              "        vertical-align: middle;\n",
              "    }\n",
              "\n",
              "    .dataframe tbody tr th {\n",
              "        vertical-align: top;\n",
              "    }\n",
              "\n",
              "    .dataframe thead th {\n",
              "        text-align: right;\n",
              "    }\n",
              "</style>\n",
              "<table border=\"1\" class=\"dataframe\">\n",
              "  <thead>\n",
              "    <tr style=\"text-align: right;\">\n",
              "      <th></th>\n",
              "      <th>diameter</th>\n",
              "      <th>wall</th>\n",
              "      <th>length</th>\n",
              "      <th>num_bends</th>\n",
              "      <th>bend_radius</th>\n",
              "      <th>num_boss</th>\n",
              "      <th>num_bracket</th>\n",
              "      <th>other</th>\n",
              "    </tr>\n",
              "  </thead>\n",
              "  <tbody>\n",
              "    <tr>\n",
              "      <th>count</th>\n",
              "      <td>21198.000000</td>\n",
              "      <td>21198.000000</td>\n",
              "      <td>21198.000000</td>\n",
              "      <td>21198.000000</td>\n",
              "      <td>21198.000000</td>\n",
              "      <td>21198.000000</td>\n",
              "      <td>21198.000000</td>\n",
              "      <td>21198.000000</td>\n",
              "    </tr>\n",
              "    <tr>\n",
              "      <th>mean</th>\n",
              "      <td>23.687764</td>\n",
              "      <td>1.578402</td>\n",
              "      <td>100.312844</td>\n",
              "      <td>3.748137</td>\n",
              "      <td>49.350767</td>\n",
              "      <td>0.044485</td>\n",
              "      <td>0.006746</td>\n",
              "      <td>0.022644</td>\n",
              "    </tr>\n",
              "    <tr>\n",
              "      <th>std</th>\n",
              "      <td>25.396277</td>\n",
              "      <td>0.745749</td>\n",
              "      <td>70.542771</td>\n",
              "      <td>2.265405</td>\n",
              "      <td>196.468480</td>\n",
              "      <td>0.260737</td>\n",
              "      <td>0.100015</td>\n",
              "      <td>0.199676</td>\n",
              "    </tr>\n",
              "    <tr>\n",
              "      <th>min</th>\n",
              "      <td>3.180000</td>\n",
              "      <td>0.710000</td>\n",
              "      <td>0.000000</td>\n",
              "      <td>0.000000</td>\n",
              "      <td>0.000000</td>\n",
              "      <td>0.000000</td>\n",
              "      <td>0.000000</td>\n",
              "      <td>0.000000</td>\n",
              "    </tr>\n",
              "    <tr>\n",
              "      <th>25%</th>\n",
              "      <td>9.520000</td>\n",
              "      <td>0.890000</td>\n",
              "      <td>48.000000</td>\n",
              "      <td>2.000000</td>\n",
              "      <td>19.050000</td>\n",
              "      <td>0.000000</td>\n",
              "      <td>0.000000</td>\n",
              "      <td>0.000000</td>\n",
              "    </tr>\n",
              "    <tr>\n",
              "      <th>50%</th>\n",
              "      <td>15.880000</td>\n",
              "      <td>1.650000</td>\n",
              "      <td>86.000000</td>\n",
              "      <td>3.000000</td>\n",
              "      <td>38.100000</td>\n",
              "      <td>0.000000</td>\n",
              "      <td>0.000000</td>\n",
              "      <td>0.000000</td>\n",
              "    </tr>\n",
              "    <tr>\n",
              "      <th>75%</th>\n",
              "      <td>25.400000</td>\n",
              "      <td>1.650000</td>\n",
              "      <td>135.000000</td>\n",
              "      <td>5.000000</td>\n",
              "      <td>50.800000</td>\n",
              "      <td>0.000000</td>\n",
              "      <td>0.000000</td>\n",
              "      <td>0.000000</td>\n",
              "    </tr>\n",
              "    <tr>\n",
              "      <th>max</th>\n",
              "      <td>203.200000</td>\n",
              "      <td>7.900000</td>\n",
              "      <td>1333.000000</td>\n",
              "      <td>17.000000</td>\n",
              "      <td>9999.000000</td>\n",
              "      <td>5.000000</td>\n",
              "      <td>5.000000</td>\n",
              "      <td>8.000000</td>\n",
              "    </tr>\n",
              "  </tbody>\n",
              "</table>\n",
              "</div>"
            ],
            "text/plain": [
              "           diameter          wall  ...   num_bracket         other\n",
              "count  21198.000000  21198.000000  ...  21198.000000  21198.000000\n",
              "mean      23.687764      1.578402  ...      0.006746      0.022644\n",
              "std       25.396277      0.745749  ...      0.100015      0.199676\n",
              "min        3.180000      0.710000  ...      0.000000      0.000000\n",
              "25%        9.520000      0.890000  ...      0.000000      0.000000\n",
              "50%       15.880000      1.650000  ...      0.000000      0.000000\n",
              "75%       25.400000      1.650000  ...      0.000000      0.000000\n",
              "max      203.200000      7.900000  ...      5.000000      8.000000\n",
              "\n",
              "[8 rows x 8 columns]"
            ]
          },
          "metadata": {
            "tags": []
          },
          "execution_count": 119
        }
      ]
    },
    {
      "cell_type": "code",
      "metadata": {
        "id": "LNLMmRng_Jlm",
        "colab_type": "code",
        "outputId": "89189445-b422-440e-aaf1-2db526d9aacc",
        "colab": {
          "base_uri": "https://localhost:8080/",
          "height": 202
        }
      },
      "source": [
        "tube.describe(exclude='number')"
      ],
      "execution_count": 0,
      "outputs": [
        {
          "output_type": "execute_result",
          "data": {
            "text/html": [
              "<div>\n",
              "<style scoped>\n",
              "    .dataframe tbody tr th:only-of-type {\n",
              "        vertical-align: middle;\n",
              "    }\n",
              "\n",
              "    .dataframe tbody tr th {\n",
              "        vertical-align: top;\n",
              "    }\n",
              "\n",
              "    .dataframe thead th {\n",
              "        text-align: right;\n",
              "    }\n",
              "</style>\n",
              "<table border=\"1\" class=\"dataframe\">\n",
              "  <thead>\n",
              "    <tr style=\"text-align: right;\">\n",
              "      <th></th>\n",
              "      <th>tube_assembly_id</th>\n",
              "      <th>material_id</th>\n",
              "      <th>end_a_1x</th>\n",
              "      <th>end_a_2x</th>\n",
              "      <th>end_x_1x</th>\n",
              "      <th>end_x_2x</th>\n",
              "      <th>end_a</th>\n",
              "      <th>end_x</th>\n",
              "    </tr>\n",
              "  </thead>\n",
              "  <tbody>\n",
              "    <tr>\n",
              "      <th>count</th>\n",
              "      <td>21198</td>\n",
              "      <td>20919</td>\n",
              "      <td>21198</td>\n",
              "      <td>21198</td>\n",
              "      <td>21198</td>\n",
              "      <td>21198</td>\n",
              "      <td>21198</td>\n",
              "      <td>21198</td>\n",
              "    </tr>\n",
              "    <tr>\n",
              "      <th>unique</th>\n",
              "      <td>21198</td>\n",
              "      <td>19</td>\n",
              "      <td>2</td>\n",
              "      <td>2</td>\n",
              "      <td>2</td>\n",
              "      <td>2</td>\n",
              "      <td>25</td>\n",
              "      <td>27</td>\n",
              "    </tr>\n",
              "    <tr>\n",
              "      <th>top</th>\n",
              "      <td>TA-04088</td>\n",
              "      <td>SP-0029</td>\n",
              "      <td>N</td>\n",
              "      <td>N</td>\n",
              "      <td>N</td>\n",
              "      <td>N</td>\n",
              "      <td>EF-003</td>\n",
              "      <td>EF-003</td>\n",
              "    </tr>\n",
              "    <tr>\n",
              "      <th>freq</th>\n",
              "      <td>1</td>\n",
              "      <td>11488</td>\n",
              "      <td>20118</td>\n",
              "      <td>18015</td>\n",
              "      <td>20377</td>\n",
              "      <td>18493</td>\n",
              "      <td>11388</td>\n",
              "      <td>10863</td>\n",
              "    </tr>\n",
              "  </tbody>\n",
              "</table>\n",
              "</div>"
            ],
            "text/plain": [
              "       tube_assembly_id material_id end_a_1x  ... end_x_2x   end_a   end_x\n",
              "count             21198       20919    21198  ...    21198   21198   21198\n",
              "unique            21198          19        2  ...        2      25      27\n",
              "top            TA-04088     SP-0029        N  ...        N  EF-003  EF-003\n",
              "freq                  1       11488    20118  ...    18493   11388   10863\n",
              "\n",
              "[4 rows x 8 columns]"
            ]
          },
          "metadata": {
            "tags": []
          },
          "execution_count": 120
        }
      ]
    },
    {
      "cell_type": "code",
      "metadata": {
        "id": "MmPt8-LG_QQW",
        "colab_type": "code",
        "colab": {}
      },
      "source": [
        "def wrangle(x):\n",
        "  x = x.copy()\n",
        "  \n",
        "  x['quote_date'] = pd.to_datetime(x['quote_date'], infer_datetime_format = True)\n",
        "  x['quote_year'] = x['quote_date'].dt.year\n",
        "  x['quote_month'] = x['quote_date'].dt.month\n",
        "  \n",
        "  tube = pd.read_csv('competition_data/tube.csv')\n",
        "  x = x.merge(tube, how='left')\n",
        "  \n",
        "  x = x.drop(columns='quote_date')\n",
        "  \n",
        "  x = x.drop(columns='tube_assembly_id')\n",
        "  \n",
        "  return x\n",
        "\n",
        "train_wrangled = wrangle(train)\n",
        "val_wrangled = wrangle(val)"
      ],
      "execution_count": 0,
      "outputs": []
    },
    {
      "cell_type": "code",
      "metadata": {
        "id": "tWWqM3QB_naZ",
        "colab_type": "code",
        "outputId": "671a612b-98b2-49f7-dea3-59ab878945b7",
        "colab": {
          "base_uri": "https://localhost:8080/",
          "height": 34
        }
      },
      "source": [
        "train_wrangled.shape, val_wrangled.shape"
      ],
      "execution_count": 0,
      "outputs": [
        {
          "output_type": "execute_result",
          "data": {
            "text/plain": [
              "((22628, 23), (7585, 23))"
            ]
          },
          "metadata": {
            "tags": []
          },
          "execution_count": 123
        }
      ]
    },
    {
      "cell_type": "code",
      "metadata": {
        "id": "iQAivkkY_vWX",
        "colab_type": "code",
        "outputId": "968435bd-7bc1-4fdf-b3d8-ef3cac7ef92b",
        "colab": {
          "base_uri": "https://localhost:8080/",
          "height": 299
        }
      },
      "source": [
        "train_wrangled.head()"
      ],
      "execution_count": 0,
      "outputs": [
        {
          "output_type": "execute_result",
          "data": {
            "text/html": [
              "<div>\n",
              "<style scoped>\n",
              "    .dataframe tbody tr th:only-of-type {\n",
              "        vertical-align: middle;\n",
              "    }\n",
              "\n",
              "    .dataframe tbody tr th {\n",
              "        vertical-align: top;\n",
              "    }\n",
              "\n",
              "    .dataframe thead th {\n",
              "        text-align: right;\n",
              "    }\n",
              "</style>\n",
              "<table border=\"1\" class=\"dataframe\">\n",
              "  <thead>\n",
              "    <tr style=\"text-align: right;\">\n",
              "      <th></th>\n",
              "      <th>supplier</th>\n",
              "      <th>annual_usage</th>\n",
              "      <th>min_order_quantity</th>\n",
              "      <th>bracket_pricing</th>\n",
              "      <th>quantity</th>\n",
              "      <th>cost</th>\n",
              "      <th>quote_year</th>\n",
              "      <th>quote_month</th>\n",
              "      <th>material_id</th>\n",
              "      <th>diameter</th>\n",
              "      <th>wall</th>\n",
              "      <th>length</th>\n",
              "      <th>num_bends</th>\n",
              "      <th>bend_radius</th>\n",
              "      <th>end_a_1x</th>\n",
              "      <th>end_a_2x</th>\n",
              "      <th>end_x_1x</th>\n",
              "      <th>end_x_2x</th>\n",
              "      <th>end_a</th>\n",
              "      <th>end_x</th>\n",
              "      <th>num_boss</th>\n",
              "      <th>num_bracket</th>\n",
              "      <th>other</th>\n",
              "    </tr>\n",
              "  </thead>\n",
              "  <tbody>\n",
              "    <tr>\n",
              "      <th>0</th>\n",
              "      <td>S-0066</td>\n",
              "      <td>0</td>\n",
              "      <td>0</td>\n",
              "      <td>Yes</td>\n",
              "      <td>1</td>\n",
              "      <td>21.972702</td>\n",
              "      <td>2013</td>\n",
              "      <td>7</td>\n",
              "      <td>SP-0019</td>\n",
              "      <td>6.35</td>\n",
              "      <td>0.71</td>\n",
              "      <td>137.0</td>\n",
              "      <td>9</td>\n",
              "      <td>19.05</td>\n",
              "      <td>N</td>\n",
              "      <td>N</td>\n",
              "      <td>N</td>\n",
              "      <td>N</td>\n",
              "      <td>EF-008</td>\n",
              "      <td>EF-008</td>\n",
              "      <td>0</td>\n",
              "      <td>0</td>\n",
              "      <td>0</td>\n",
              "    </tr>\n",
              "    <tr>\n",
              "      <th>1</th>\n",
              "      <td>S-0066</td>\n",
              "      <td>0</td>\n",
              "      <td>0</td>\n",
              "      <td>Yes</td>\n",
              "      <td>2</td>\n",
              "      <td>12.407983</td>\n",
              "      <td>2013</td>\n",
              "      <td>7</td>\n",
              "      <td>SP-0019</td>\n",
              "      <td>6.35</td>\n",
              "      <td>0.71</td>\n",
              "      <td>137.0</td>\n",
              "      <td>9</td>\n",
              "      <td>19.05</td>\n",
              "      <td>N</td>\n",
              "      <td>N</td>\n",
              "      <td>N</td>\n",
              "      <td>N</td>\n",
              "      <td>EF-008</td>\n",
              "      <td>EF-008</td>\n",
              "      <td>0</td>\n",
              "      <td>0</td>\n",
              "      <td>0</td>\n",
              "    </tr>\n",
              "    <tr>\n",
              "      <th>2</th>\n",
              "      <td>S-0066</td>\n",
              "      <td>0</td>\n",
              "      <td>0</td>\n",
              "      <td>Yes</td>\n",
              "      <td>5</td>\n",
              "      <td>6.668596</td>\n",
              "      <td>2013</td>\n",
              "      <td>7</td>\n",
              "      <td>SP-0019</td>\n",
              "      <td>6.35</td>\n",
              "      <td>0.71</td>\n",
              "      <td>137.0</td>\n",
              "      <td>9</td>\n",
              "      <td>19.05</td>\n",
              "      <td>N</td>\n",
              "      <td>N</td>\n",
              "      <td>N</td>\n",
              "      <td>N</td>\n",
              "      <td>EF-008</td>\n",
              "      <td>EF-008</td>\n",
              "      <td>0</td>\n",
              "      <td>0</td>\n",
              "      <td>0</td>\n",
              "    </tr>\n",
              "    <tr>\n",
              "      <th>3</th>\n",
              "      <td>S-0066</td>\n",
              "      <td>0</td>\n",
              "      <td>0</td>\n",
              "      <td>Yes</td>\n",
              "      <td>10</td>\n",
              "      <td>4.754539</td>\n",
              "      <td>2013</td>\n",
              "      <td>7</td>\n",
              "      <td>SP-0019</td>\n",
              "      <td>6.35</td>\n",
              "      <td>0.71</td>\n",
              "      <td>137.0</td>\n",
              "      <td>9</td>\n",
              "      <td>19.05</td>\n",
              "      <td>N</td>\n",
              "      <td>N</td>\n",
              "      <td>N</td>\n",
              "      <td>N</td>\n",
              "      <td>EF-008</td>\n",
              "      <td>EF-008</td>\n",
              "      <td>0</td>\n",
              "      <td>0</td>\n",
              "      <td>0</td>\n",
              "    </tr>\n",
              "    <tr>\n",
              "      <th>4</th>\n",
              "      <td>S-0066</td>\n",
              "      <td>0</td>\n",
              "      <td>0</td>\n",
              "      <td>Yes</td>\n",
              "      <td>25</td>\n",
              "      <td>3.608331</td>\n",
              "      <td>2013</td>\n",
              "      <td>7</td>\n",
              "      <td>SP-0019</td>\n",
              "      <td>6.35</td>\n",
              "      <td>0.71</td>\n",
              "      <td>137.0</td>\n",
              "      <td>9</td>\n",
              "      <td>19.05</td>\n",
              "      <td>N</td>\n",
              "      <td>N</td>\n",
              "      <td>N</td>\n",
              "      <td>N</td>\n",
              "      <td>EF-008</td>\n",
              "      <td>EF-008</td>\n",
              "      <td>0</td>\n",
              "      <td>0</td>\n",
              "      <td>0</td>\n",
              "    </tr>\n",
              "  </tbody>\n",
              "</table>\n",
              "</div>"
            ],
            "text/plain": [
              "  supplier  annual_usage  min_order_quantity  ... num_boss  num_bracket  other\n",
              "0   S-0066             0                   0  ...        0            0      0\n",
              "1   S-0066             0                   0  ...        0            0      0\n",
              "2   S-0066             0                   0  ...        0            0      0\n",
              "3   S-0066             0                   0  ...        0            0      0\n",
              "4   S-0066             0                   0  ...        0            0      0\n",
              "\n",
              "[5 rows x 23 columns]"
            ]
          },
          "metadata": {
            "tags": []
          },
          "execution_count": 124
        }
      ]
    },
    {
      "cell_type": "code",
      "metadata": {
        "id": "yGqLfMkZ_xIv",
        "colab_type": "code",
        "outputId": "80e6572c-3c33-4a64-c8fb-9a097036b81d",
        "colab": {
          "base_uri": "https://localhost:8080/",
          "height": 521
        }
      },
      "source": [
        "x_train = train_wrangled.drop(columns=target)\n",
        "x_val = val_wrangled.drop(columns=target)\n",
        "\n",
        "pipeline = make_pipeline(\n",
        "  ce.OrdinalEncoder(),\n",
        "  rfr(n_estimators=100, random_state=42, n_jobs=-1))\n",
        "\n",
        "pipeline.fit(x_train, y_train_log)"
      ],
      "execution_count": 0,
      "outputs": [
        {
          "output_type": "execute_result",
          "data": {
            "text/plain": [
              "Pipeline(memory=None,\n",
              "         steps=[('ordinalencoder',\n",
              "                 OrdinalEncoder(cols=['supplier', 'bracket_pricing',\n",
              "                                      'material_id', 'end_a_1x', 'end_a_2x',\n",
              "                                      'end_x_1x', 'end_x_2x', 'end_a',\n",
              "                                      'end_x'],\n",
              "                                drop_invariant=False, handle_missing='value',\n",
              "                                handle_unknown='value',\n",
              "                                mapping=[{'col': 'supplier',\n",
              "                                          'data_type': dtype('O'),\n",
              "                                          'mapping': S-0066     1\n",
              "S-0026     2\n",
              "S-0030     3\n",
              "S-0013     4\n",
              "S-0062     5\n",
              "S-0014     6\n",
              "S-0072     7\n",
              "S-0...\n",
              "                ('randomforestregressor',\n",
              "                 RandomForestRegressor(bootstrap=True, criterion='mse',\n",
              "                                       max_depth=None, max_features='auto',\n",
              "                                       max_leaf_nodes=None,\n",
              "                                       min_impurity_decrease=0.0,\n",
              "                                       min_impurity_split=None,\n",
              "                                       min_samples_leaf=1, min_samples_split=2,\n",
              "                                       min_weight_fraction_leaf=0.0,\n",
              "                                       n_estimators=100, n_jobs=-1,\n",
              "                                       oob_score=False, random_state=42,\n",
              "                                       verbose=0, warm_start=False))],\n",
              "         verbose=False)"
            ]
          },
          "metadata": {
            "tags": []
          },
          "execution_count": 125
        }
      ]
    },
    {
      "cell_type": "code",
      "metadata": {
        "id": "4flildkiAKAN",
        "colab_type": "code",
        "outputId": "944938eb-8d42-492b-fe59-f79404dcfc84",
        "colab": {
          "base_uri": "https://localhost:8080/",
          "height": 34
        }
      },
      "source": [
        "y_pred_log = pipeline.predict(x_val)\n",
        "rmse(y_val_log, y_pred_log)"
      ],
      "execution_count": 0,
      "outputs": [
        {
          "output_type": "execute_result",
          "data": {
            "text/plain": [
              "0.36622265470649834"
            ]
          },
          "metadata": {
            "tags": []
          },
          "execution_count": 126
        }
      ]
    },
    {
      "cell_type": "code",
      "metadata": {
        "id": "qANJBLzBAWAP",
        "colab_type": "code",
        "colab": {}
      },
      "source": [
        "test_wrangled = wrangle(test)\n",
        "x_test = test_wrangled.drop(columns='id')"
      ],
      "execution_count": 0,
      "outputs": []
    },
    {
      "cell_type": "code",
      "metadata": {
        "id": "JBcnysVdAdzy",
        "colab_type": "code",
        "colab": {}
      },
      "source": [
        "y_pred_log = pipeline.predict(x_test)\n",
        "y_pred = np.expm1(y_pred_log)\n",
        "\n",
        "sample_submission = pd.read_csv('sample_submission.csv')\n",
        "submission = sample_submission.copy()\n",
        "submission['cost'] = y_pred\n",
        "submission.to_csv('Anika-pipes-1.csv', index=False)"
      ],
      "execution_count": 0,
      "outputs": []
    },
    {
      "cell_type": "code",
      "metadata": {
        "id": "uqtMqT-hA4c-",
        "colab_type": "code",
        "colab": {}
      },
      "source": [
        "specs = pd.read_csv('competition_data/specs.csv')"
      ],
      "execution_count": 0,
      "outputs": []
    },
    {
      "cell_type": "code",
      "metadata": {
        "id": "8W0YjqwEGsif",
        "colab_type": "code",
        "outputId": "6b3b4021-bb04-480c-f0af-139ffbea84a1",
        "colab": {
          "base_uri": "https://localhost:8080/",
          "height": 34
        }
      },
      "source": [
        "specs.shape"
      ],
      "execution_count": 0,
      "outputs": [
        {
          "output_type": "execute_result",
          "data": {
            "text/plain": [
              "(21198, 11)"
            ]
          },
          "metadata": {
            "tags": []
          },
          "execution_count": 146
        }
      ]
    },
    {
      "cell_type": "code",
      "metadata": {
        "id": "sOozuDwaCi-M",
        "colab_type": "code",
        "outputId": "adb5294d-02a8-42d8-fb48-3e865269c6fb",
        "colab": {
          "base_uri": "https://localhost:8080/",
          "height": 202
        }
      },
      "source": [
        "specs.describe()"
      ],
      "execution_count": 0,
      "outputs": [
        {
          "output_type": "execute_result",
          "data": {
            "text/html": [
              "<div>\n",
              "<style scoped>\n",
              "    .dataframe tbody tr th:only-of-type {\n",
              "        vertical-align: middle;\n",
              "    }\n",
              "\n",
              "    .dataframe tbody tr th {\n",
              "        vertical-align: top;\n",
              "    }\n",
              "\n",
              "    .dataframe thead th {\n",
              "        text-align: right;\n",
              "    }\n",
              "</style>\n",
              "<table border=\"1\" class=\"dataframe\">\n",
              "  <thead>\n",
              "    <tr style=\"text-align: right;\">\n",
              "      <th></th>\n",
              "      <th>tube_assembly_id</th>\n",
              "      <th>spec1</th>\n",
              "      <th>spec2</th>\n",
              "      <th>spec3</th>\n",
              "      <th>spec4</th>\n",
              "      <th>spec5</th>\n",
              "      <th>spec6</th>\n",
              "      <th>spec7</th>\n",
              "      <th>spec8</th>\n",
              "      <th>spec9</th>\n",
              "      <th>spec10</th>\n",
              "    </tr>\n",
              "  </thead>\n",
              "  <tbody>\n",
              "    <tr>\n",
              "      <th>count</th>\n",
              "      <td>21198</td>\n",
              "      <td>7129</td>\n",
              "      <td>6844</td>\n",
              "      <td>5840</td>\n",
              "      <td>4154</td>\n",
              "      <td>2921</td>\n",
              "      <td>2071</td>\n",
              "      <td>535</td>\n",
              "      <td>106</td>\n",
              "      <td>20</td>\n",
              "      <td>1</td>\n",
              "    </tr>\n",
              "    <tr>\n",
              "      <th>unique</th>\n",
              "      <td>21198</td>\n",
              "      <td>45</td>\n",
              "      <td>51</td>\n",
              "      <td>49</td>\n",
              "      <td>38</td>\n",
              "      <td>37</td>\n",
              "      <td>24</td>\n",
              "      <td>13</td>\n",
              "      <td>4</td>\n",
              "      <td>3</td>\n",
              "      <td>1</td>\n",
              "    </tr>\n",
              "    <tr>\n",
              "      <th>top</th>\n",
              "      <td>TA-04088</td>\n",
              "      <td>SP-0007</td>\n",
              "      <td>SP-0012</td>\n",
              "      <td>SP-0080</td>\n",
              "      <td>SP-0026</td>\n",
              "      <td>SP-0080</td>\n",
              "      <td>SP-0082</td>\n",
              "      <td>SP-0082</td>\n",
              "      <td>SP-0082</td>\n",
              "      <td>SP-0088</td>\n",
              "      <td>SP-0080</td>\n",
              "    </tr>\n",
              "    <tr>\n",
              "      <th>freq</th>\n",
              "      <td>1</td>\n",
              "      <td>3002</td>\n",
              "      <td>1736</td>\n",
              "      <td>1798</td>\n",
              "      <td>1492</td>\n",
              "      <td>1780</td>\n",
              "      <td>1167</td>\n",
              "      <td>322</td>\n",
              "      <td>73</td>\n",
              "      <td>18</td>\n",
              "      <td>1</td>\n",
              "    </tr>\n",
              "  </tbody>\n",
              "</table>\n",
              "</div>"
            ],
            "text/plain": [
              "       tube_assembly_id    spec1    spec2  ...    spec8    spec9   spec10\n",
              "count             21198     7129     6844  ...      106       20        1\n",
              "unique            21198       45       51  ...        4        3        1\n",
              "top            TA-04088  SP-0007  SP-0012  ...  SP-0082  SP-0088  SP-0080\n",
              "freq                  1     3002     1736  ...       73       18        1\n",
              "\n",
              "[4 rows x 11 columns]"
            ]
          },
          "metadata": {
            "tags": []
          },
          "execution_count": 132
        }
      ]
    },
    {
      "cell_type": "code",
      "metadata": {
        "id": "TWosG6TzCkag",
        "colab_type": "code",
        "outputId": "d865819d-e098-4284-85a0-60fb3b759c12",
        "colab": {
          "base_uri": "https://localhost:8080/",
          "height": 202
        }
      },
      "source": [
        "specs.describe(exclude='number')"
      ],
      "execution_count": 0,
      "outputs": [
        {
          "output_type": "execute_result",
          "data": {
            "text/html": [
              "<div>\n",
              "<style scoped>\n",
              "    .dataframe tbody tr th:only-of-type {\n",
              "        vertical-align: middle;\n",
              "    }\n",
              "\n",
              "    .dataframe tbody tr th {\n",
              "        vertical-align: top;\n",
              "    }\n",
              "\n",
              "    .dataframe thead th {\n",
              "        text-align: right;\n",
              "    }\n",
              "</style>\n",
              "<table border=\"1\" class=\"dataframe\">\n",
              "  <thead>\n",
              "    <tr style=\"text-align: right;\">\n",
              "      <th></th>\n",
              "      <th>tube_assembly_id</th>\n",
              "      <th>spec1</th>\n",
              "      <th>spec2</th>\n",
              "      <th>spec3</th>\n",
              "      <th>spec4</th>\n",
              "      <th>spec5</th>\n",
              "      <th>spec6</th>\n",
              "      <th>spec7</th>\n",
              "      <th>spec8</th>\n",
              "      <th>spec9</th>\n",
              "      <th>spec10</th>\n",
              "    </tr>\n",
              "  </thead>\n",
              "  <tbody>\n",
              "    <tr>\n",
              "      <th>count</th>\n",
              "      <td>21198</td>\n",
              "      <td>7129</td>\n",
              "      <td>6844</td>\n",
              "      <td>5840</td>\n",
              "      <td>4154</td>\n",
              "      <td>2921</td>\n",
              "      <td>2071</td>\n",
              "      <td>535</td>\n",
              "      <td>106</td>\n",
              "      <td>20</td>\n",
              "      <td>1</td>\n",
              "    </tr>\n",
              "    <tr>\n",
              "      <th>unique</th>\n",
              "      <td>21198</td>\n",
              "      <td>45</td>\n",
              "      <td>51</td>\n",
              "      <td>49</td>\n",
              "      <td>38</td>\n",
              "      <td>37</td>\n",
              "      <td>24</td>\n",
              "      <td>13</td>\n",
              "      <td>4</td>\n",
              "      <td>3</td>\n",
              "      <td>1</td>\n",
              "    </tr>\n",
              "    <tr>\n",
              "      <th>top</th>\n",
              "      <td>TA-04088</td>\n",
              "      <td>SP-0007</td>\n",
              "      <td>SP-0012</td>\n",
              "      <td>SP-0080</td>\n",
              "      <td>SP-0026</td>\n",
              "      <td>SP-0080</td>\n",
              "      <td>SP-0082</td>\n",
              "      <td>SP-0082</td>\n",
              "      <td>SP-0082</td>\n",
              "      <td>SP-0088</td>\n",
              "      <td>SP-0080</td>\n",
              "    </tr>\n",
              "    <tr>\n",
              "      <th>freq</th>\n",
              "      <td>1</td>\n",
              "      <td>3002</td>\n",
              "      <td>1736</td>\n",
              "      <td>1798</td>\n",
              "      <td>1492</td>\n",
              "      <td>1780</td>\n",
              "      <td>1167</td>\n",
              "      <td>322</td>\n",
              "      <td>73</td>\n",
              "      <td>18</td>\n",
              "      <td>1</td>\n",
              "    </tr>\n",
              "  </tbody>\n",
              "</table>\n",
              "</div>"
            ],
            "text/plain": [
              "       tube_assembly_id    spec1    spec2  ...    spec8    spec9   spec10\n",
              "count             21198     7129     6844  ...      106       20        1\n",
              "unique            21198       45       51  ...        4        3        1\n",
              "top            TA-04088  SP-0007  SP-0012  ...  SP-0082  SP-0088  SP-0080\n",
              "freq                  1     3002     1736  ...       73       18        1\n",
              "\n",
              "[4 rows x 11 columns]"
            ]
          },
          "metadata": {
            "tags": []
          },
          "execution_count": 134
        }
      ]
    },
    {
      "cell_type": "code",
      "metadata": {
        "id": "L_AkB1JnCpGP",
        "colab_type": "code",
        "colab": {}
      },
      "source": [
        "def wrangle(x):\n",
        "  x = x.copy()\n",
        "  \n",
        "  x['quote_date'] = pd.to_datetime(x['quote_date'], infer_datetime_format = True)\n",
        "  x['quote_year'] = x['quote_date'].dt.year\n",
        "  x['quote_month'] = x['quote_date'].dt.month\n",
        "  \n",
        "  tube = pd.read_csv('competition_data/tube.csv')\n",
        "  x = x.merge(tube, how='left')\n",
        "  \n",
        "  specs = pd.read_csv('competition_data/specs.csv')\n",
        "  x = x.merge(specs, how='left')\n",
        "  \n",
        "  x = x.drop(columns='quote_date')\n",
        "  \n",
        "  x = x.drop(columns='tube_assembly_id')\n",
        "  \n",
        "  return x\n",
        "\n",
        "train_wrangled = wrangle(train)\n",
        "val_wrangled = wrangle(val)"
      ],
      "execution_count": 0,
      "outputs": []
    },
    {
      "cell_type": "code",
      "metadata": {
        "id": "Gow_bTeyDC3m",
        "colab_type": "code",
        "outputId": "8bb61670-9c6c-410f-cc41-7cffbc62c969",
        "colab": {
          "base_uri": "https://localhost:8080/",
          "height": 34
        }
      },
      "source": [
        "train_wrangled.shape, val_wrangled.shape"
      ],
      "execution_count": 0,
      "outputs": [
        {
          "output_type": "execute_result",
          "data": {
            "text/plain": [
              "((22628, 33), (7585, 33))"
            ]
          },
          "metadata": {
            "tags": []
          },
          "execution_count": 149
        }
      ]
    },
    {
      "cell_type": "code",
      "metadata": {
        "id": "sYtUEmwZJuBb",
        "colab_type": "code",
        "outputId": "f154f6e0-cefb-4e4e-d6a3-33520f2e51c4",
        "colab": {
          "base_uri": "https://localhost:8080/",
          "height": 299
        }
      },
      "source": [
        "train_wrangled.head()"
      ],
      "execution_count": 0,
      "outputs": [
        {
          "output_type": "execute_result",
          "data": {
            "text/html": [
              "<div>\n",
              "<style scoped>\n",
              "    .dataframe tbody tr th:only-of-type {\n",
              "        vertical-align: middle;\n",
              "    }\n",
              "\n",
              "    .dataframe tbody tr th {\n",
              "        vertical-align: top;\n",
              "    }\n",
              "\n",
              "    .dataframe thead th {\n",
              "        text-align: right;\n",
              "    }\n",
              "</style>\n",
              "<table border=\"1\" class=\"dataframe\">\n",
              "  <thead>\n",
              "    <tr style=\"text-align: right;\">\n",
              "      <th></th>\n",
              "      <th>supplier</th>\n",
              "      <th>annual_usage</th>\n",
              "      <th>min_order_quantity</th>\n",
              "      <th>bracket_pricing</th>\n",
              "      <th>quantity</th>\n",
              "      <th>cost</th>\n",
              "      <th>quote_year</th>\n",
              "      <th>quote_month</th>\n",
              "      <th>material_id</th>\n",
              "      <th>diameter</th>\n",
              "      <th>wall</th>\n",
              "      <th>length</th>\n",
              "      <th>num_bends</th>\n",
              "      <th>bend_radius</th>\n",
              "      <th>end_a_1x</th>\n",
              "      <th>end_a_2x</th>\n",
              "      <th>end_x_1x</th>\n",
              "      <th>end_x_2x</th>\n",
              "      <th>end_a</th>\n",
              "      <th>end_x</th>\n",
              "      <th>num_boss</th>\n",
              "      <th>num_bracket</th>\n",
              "      <th>other</th>\n",
              "      <th>spec1</th>\n",
              "      <th>spec2</th>\n",
              "      <th>spec3</th>\n",
              "      <th>spec4</th>\n",
              "      <th>spec5</th>\n",
              "      <th>spec6</th>\n",
              "      <th>spec7</th>\n",
              "      <th>spec8</th>\n",
              "      <th>spec9</th>\n",
              "      <th>spec10</th>\n",
              "    </tr>\n",
              "  </thead>\n",
              "  <tbody>\n",
              "    <tr>\n",
              "      <th>0</th>\n",
              "      <td>S-0066</td>\n",
              "      <td>0</td>\n",
              "      <td>0</td>\n",
              "      <td>Yes</td>\n",
              "      <td>1</td>\n",
              "      <td>21.972702</td>\n",
              "      <td>2013</td>\n",
              "      <td>7</td>\n",
              "      <td>SP-0019</td>\n",
              "      <td>6.35</td>\n",
              "      <td>0.71</td>\n",
              "      <td>137.0</td>\n",
              "      <td>9</td>\n",
              "      <td>19.05</td>\n",
              "      <td>N</td>\n",
              "      <td>N</td>\n",
              "      <td>N</td>\n",
              "      <td>N</td>\n",
              "      <td>EF-008</td>\n",
              "      <td>EF-008</td>\n",
              "      <td>0</td>\n",
              "      <td>0</td>\n",
              "      <td>0</td>\n",
              "      <td>NaN</td>\n",
              "      <td>NaN</td>\n",
              "      <td>NaN</td>\n",
              "      <td>NaN</td>\n",
              "      <td>NaN</td>\n",
              "      <td>NaN</td>\n",
              "      <td>NaN</td>\n",
              "      <td>NaN</td>\n",
              "      <td>NaN</td>\n",
              "      <td>NaN</td>\n",
              "    </tr>\n",
              "    <tr>\n",
              "      <th>1</th>\n",
              "      <td>S-0066</td>\n",
              "      <td>0</td>\n",
              "      <td>0</td>\n",
              "      <td>Yes</td>\n",
              "      <td>2</td>\n",
              "      <td>12.407983</td>\n",
              "      <td>2013</td>\n",
              "      <td>7</td>\n",
              "      <td>SP-0019</td>\n",
              "      <td>6.35</td>\n",
              "      <td>0.71</td>\n",
              "      <td>137.0</td>\n",
              "      <td>9</td>\n",
              "      <td>19.05</td>\n",
              "      <td>N</td>\n",
              "      <td>N</td>\n",
              "      <td>N</td>\n",
              "      <td>N</td>\n",
              "      <td>EF-008</td>\n",
              "      <td>EF-008</td>\n",
              "      <td>0</td>\n",
              "      <td>0</td>\n",
              "      <td>0</td>\n",
              "      <td>NaN</td>\n",
              "      <td>NaN</td>\n",
              "      <td>NaN</td>\n",
              "      <td>NaN</td>\n",
              "      <td>NaN</td>\n",
              "      <td>NaN</td>\n",
              "      <td>NaN</td>\n",
              "      <td>NaN</td>\n",
              "      <td>NaN</td>\n",
              "      <td>NaN</td>\n",
              "    </tr>\n",
              "    <tr>\n",
              "      <th>2</th>\n",
              "      <td>S-0066</td>\n",
              "      <td>0</td>\n",
              "      <td>0</td>\n",
              "      <td>Yes</td>\n",
              "      <td>5</td>\n",
              "      <td>6.668596</td>\n",
              "      <td>2013</td>\n",
              "      <td>7</td>\n",
              "      <td>SP-0019</td>\n",
              "      <td>6.35</td>\n",
              "      <td>0.71</td>\n",
              "      <td>137.0</td>\n",
              "      <td>9</td>\n",
              "      <td>19.05</td>\n",
              "      <td>N</td>\n",
              "      <td>N</td>\n",
              "      <td>N</td>\n",
              "      <td>N</td>\n",
              "      <td>EF-008</td>\n",
              "      <td>EF-008</td>\n",
              "      <td>0</td>\n",
              "      <td>0</td>\n",
              "      <td>0</td>\n",
              "      <td>NaN</td>\n",
              "      <td>NaN</td>\n",
              "      <td>NaN</td>\n",
              "      <td>NaN</td>\n",
              "      <td>NaN</td>\n",
              "      <td>NaN</td>\n",
              "      <td>NaN</td>\n",
              "      <td>NaN</td>\n",
              "      <td>NaN</td>\n",
              "      <td>NaN</td>\n",
              "    </tr>\n",
              "    <tr>\n",
              "      <th>3</th>\n",
              "      <td>S-0066</td>\n",
              "      <td>0</td>\n",
              "      <td>0</td>\n",
              "      <td>Yes</td>\n",
              "      <td>10</td>\n",
              "      <td>4.754539</td>\n",
              "      <td>2013</td>\n",
              "      <td>7</td>\n",
              "      <td>SP-0019</td>\n",
              "      <td>6.35</td>\n",
              "      <td>0.71</td>\n",
              "      <td>137.0</td>\n",
              "      <td>9</td>\n",
              "      <td>19.05</td>\n",
              "      <td>N</td>\n",
              "      <td>N</td>\n",
              "      <td>N</td>\n",
              "      <td>N</td>\n",
              "      <td>EF-008</td>\n",
              "      <td>EF-008</td>\n",
              "      <td>0</td>\n",
              "      <td>0</td>\n",
              "      <td>0</td>\n",
              "      <td>NaN</td>\n",
              "      <td>NaN</td>\n",
              "      <td>NaN</td>\n",
              "      <td>NaN</td>\n",
              "      <td>NaN</td>\n",
              "      <td>NaN</td>\n",
              "      <td>NaN</td>\n",
              "      <td>NaN</td>\n",
              "      <td>NaN</td>\n",
              "      <td>NaN</td>\n",
              "    </tr>\n",
              "    <tr>\n",
              "      <th>4</th>\n",
              "      <td>S-0066</td>\n",
              "      <td>0</td>\n",
              "      <td>0</td>\n",
              "      <td>Yes</td>\n",
              "      <td>25</td>\n",
              "      <td>3.608331</td>\n",
              "      <td>2013</td>\n",
              "      <td>7</td>\n",
              "      <td>SP-0019</td>\n",
              "      <td>6.35</td>\n",
              "      <td>0.71</td>\n",
              "      <td>137.0</td>\n",
              "      <td>9</td>\n",
              "      <td>19.05</td>\n",
              "      <td>N</td>\n",
              "      <td>N</td>\n",
              "      <td>N</td>\n",
              "      <td>N</td>\n",
              "      <td>EF-008</td>\n",
              "      <td>EF-008</td>\n",
              "      <td>0</td>\n",
              "      <td>0</td>\n",
              "      <td>0</td>\n",
              "      <td>NaN</td>\n",
              "      <td>NaN</td>\n",
              "      <td>NaN</td>\n",
              "      <td>NaN</td>\n",
              "      <td>NaN</td>\n",
              "      <td>NaN</td>\n",
              "      <td>NaN</td>\n",
              "      <td>NaN</td>\n",
              "      <td>NaN</td>\n",
              "      <td>NaN</td>\n",
              "    </tr>\n",
              "  </tbody>\n",
              "</table>\n",
              "</div>"
            ],
            "text/plain": [
              "  supplier  annual_usage  min_order_quantity  ... spec8  spec9  spec10\n",
              "0   S-0066             0                   0  ...   NaN    NaN     NaN\n",
              "1   S-0066             0                   0  ...   NaN    NaN     NaN\n",
              "2   S-0066             0                   0  ...   NaN    NaN     NaN\n",
              "3   S-0066             0                   0  ...   NaN    NaN     NaN\n",
              "4   S-0066             0                   0  ...   NaN    NaN     NaN\n",
              "\n",
              "[5 rows x 33 columns]"
            ]
          },
          "metadata": {
            "tags": []
          },
          "execution_count": 150
        }
      ]
    },
    {
      "cell_type": "code",
      "metadata": {
        "id": "FOsLLB-2DG4v",
        "colab_type": "code",
        "outputId": "99371272-afa6-471f-dfb7-966e38cb6cae",
        "colab": {
          "base_uri": "https://localhost:8080/",
          "height": 420
        }
      },
      "source": [
        "x_train = train_wrangled.drop(columns=target)\n",
        "x_val = val_wrangled.drop(columns=target)\n",
        "\n",
        "pipeline = make_pipeline(\n",
        "  ce.OrdinalEncoder(),\n",
        "  rfr(n_estimators=100, random_state=42, n_jobs=-1))\n",
        "\n",
        "pipeline.fit(x_train, y_train_log)"
      ],
      "execution_count": 0,
      "outputs": [
        {
          "output_type": "execute_result",
          "data": {
            "text/plain": [
              "Pipeline(memory=None,\n",
              "         steps=[('ordinalencoder',\n",
              "                 OrdinalEncoder(cols=['supplier', 'bracket_pricing',\n",
              "                                      'material_id', 'end_a_1x', 'end_a_2x',\n",
              "                                      'end_x_1x', 'end_x_2x', 'end_a', 'end_x',\n",
              "                                      'spec1', 'spec2', 'spec3', 'spec4',\n",
              "                                      'spec5', 'spec6', 'spec7', 'spec8',\n",
              "                                      'spec9', 'spec10'],\n",
              "                                drop_invariant=False, handle_missing='value',\n",
              "                                handle_unknown='value',\n",
              "                                mapping=[{'col': 'supplier',\n",
              "                                          'dat...\n",
              "                ('randomforestregressor',\n",
              "                 RandomForestRegressor(bootstrap=True, criterion='mse',\n",
              "                                       max_depth=None, max_features='auto',\n",
              "                                       max_leaf_nodes=None,\n",
              "                                       min_impurity_decrease=0.0,\n",
              "                                       min_impurity_split=None,\n",
              "                                       min_samples_leaf=1, min_samples_split=2,\n",
              "                                       min_weight_fraction_leaf=0.0,\n",
              "                                       n_estimators=100, n_jobs=-1,\n",
              "                                       oob_score=False, random_state=42,\n",
              "                                       verbose=0, warm_start=False))],\n",
              "         verbose=False)"
            ]
          },
          "metadata": {
            "tags": []
          },
          "execution_count": 151
        }
      ]
    },
    {
      "cell_type": "code",
      "metadata": {
        "id": "rzEA0J9PDcI-",
        "colab_type": "code",
        "outputId": "8d32ba08-98a2-4cba-848a-59b8ffc677fa",
        "colab": {
          "base_uri": "https://localhost:8080/",
          "height": 34
        }
      },
      "source": [
        "y_pred_log = pipeline.predict(x_val)\n",
        "rmse(y_val_log, y_pred_log)\n",
        "\n",
        "#so my RMSE went up with the specs set, which is obviously not the goal.\n",
        "#probably due to lots of NaN values"
      ],
      "execution_count": 0,
      "outputs": [
        {
          "output_type": "execute_result",
          "data": {
            "text/plain": [
              "0.36802394702800084"
            ]
          },
          "metadata": {
            "tags": []
          },
          "execution_count": 152
        }
      ]
    },
    {
      "cell_type": "code",
      "metadata": {
        "id": "PFnE8khdDjmV",
        "colab_type": "code",
        "colab": {}
      },
      "source": [
        "#competition_data/bill_of_materials.csv (21198, 17)"
      ],
      "execution_count": 0,
      "outputs": []
    },
    {
      "cell_type": "code",
      "metadata": {
        "id": "jibfIjrhLAl_",
        "colab_type": "code",
        "outputId": "b2d92c9d-9426-47c2-8baf-5cc4054e9836",
        "colab": {
          "base_uri": "https://localhost:8080/",
          "height": 34
        }
      },
      "source": [
        "materials = pd.read_csv('competition_data/bill_of_materials.csv')\n",
        "\n",
        "materials.shape"
      ],
      "execution_count": 0,
      "outputs": [
        {
          "output_type": "execute_result",
          "data": {
            "text/plain": [
              "(21198, 17)"
            ]
          },
          "metadata": {
            "tags": []
          },
          "execution_count": 154
        }
      ]
    },
    {
      "cell_type": "code",
      "metadata": {
        "id": "SoRM7BazLHu_",
        "colab_type": "code",
        "colab": {}
      },
      "source": [
        "def wrangle(x):\n",
        "  x = x.copy()\n",
        "  \n",
        "  x['quote_date'] = pd.to_datetime(x['quote_date'], infer_datetime_format = True)\n",
        "  x['quote_year'] = x['quote_date'].dt.year\n",
        "  x['quote_month'] = x['quote_date'].dt.month\n",
        "  \n",
        "  tube = pd.read_csv('competition_data/tube.csv')\n",
        "  x = x.merge(tube, how='left')\n",
        "  \n",
        "  materials = pd.read_csv('competition_data/bill_of_materials.csv')\n",
        "  x = x.merge(materials, how='left')\n",
        "  \n",
        "  x = x.drop(columns='quote_date')\n",
        "  \n",
        "  x = x.drop(columns='tube_assembly_id')\n",
        "  \n",
        "  return x\n",
        "\n",
        "train_wrangled = wrangle(train)\n",
        "val_wrangled = wrangle(val)"
      ],
      "execution_count": 0,
      "outputs": []
    },
    {
      "cell_type": "code",
      "metadata": {
        "id": "Z8pYzt0sLXsd",
        "colab_type": "code",
        "outputId": "b74bc523-8e34-43db-80f3-51e11f9ff0de",
        "colab": {
          "base_uri": "https://localhost:8080/",
          "height": 34
        }
      },
      "source": [
        "train_wrangled.shape, val_wrangled.shape"
      ],
      "execution_count": 0,
      "outputs": [
        {
          "output_type": "execute_result",
          "data": {
            "text/plain": [
              "((22628, 39), (7585, 39))"
            ]
          },
          "metadata": {
            "tags": []
          },
          "execution_count": 171
        }
      ]
    },
    {
      "cell_type": "code",
      "metadata": {
        "id": "TN4vzICmLwRg",
        "colab_type": "code",
        "outputId": "6dc8f025-fb92-44b7-f798-e087731b13da",
        "colab": {
          "base_uri": "https://localhost:8080/",
          "height": 689
        }
      },
      "source": [
        "train_wrangled = train_wrangled.fillna(method='bfill')\n",
        "train_wrangled = train_wrangled.fillna(method='ffill')\n",
        "\n",
        "train_wrangled.isna().sum()"
      ],
      "execution_count": 0,
      "outputs": [
        {
          "output_type": "execute_result",
          "data": {
            "text/plain": [
              "supplier              0\n",
              "annual_usage          0\n",
              "min_order_quantity    0\n",
              "bracket_pricing       0\n",
              "quantity              0\n",
              "cost                  0\n",
              "quote_year            0\n",
              "quote_month           0\n",
              "material_id           0\n",
              "diameter              0\n",
              "wall                  0\n",
              "length                0\n",
              "num_bends             0\n",
              "bend_radius           0\n",
              "end_a_1x              0\n",
              "end_a_2x              0\n",
              "end_x_1x              0\n",
              "end_x_2x              0\n",
              "end_a                 0\n",
              "end_x                 0\n",
              "num_boss              0\n",
              "num_bracket           0\n",
              "other                 0\n",
              "component_id_1        0\n",
              "quantity_1            0\n",
              "component_id_2        0\n",
              "quantity_2            0\n",
              "component_id_3        0\n",
              "quantity_3            0\n",
              "component_id_4        0\n",
              "quantity_4            0\n",
              "component_id_5        0\n",
              "quantity_5            0\n",
              "component_id_6        0\n",
              "quantity_6            0\n",
              "component_id_7        0\n",
              "quantity_7            0\n",
              "component_id_8        0\n",
              "quantity_8            0\n",
              "dtype: int64"
            ]
          },
          "metadata": {
            "tags": []
          },
          "execution_count": 177
        }
      ]
    },
    {
      "cell_type": "code",
      "metadata": {
        "id": "zlg8NEGQLbNX",
        "colab_type": "code",
        "outputId": "e4be6302-22cb-4799-802b-aaf864ba5d4b",
        "colab": {
          "base_uri": "https://localhost:8080/",
          "height": 386
        }
      },
      "source": [
        "x_train = train_wrangled.drop(columns=target)\n",
        "x_val = val_wrangled.drop(columns=target)\n",
        "\n",
        "pipeline = make_pipeline(\n",
        "  ce.OrdinalEncoder(),\n",
        "  rfr(n_estimators=100, random_state=42, n_jobs=-1))\n",
        "\n",
        "pipeline.fit(x_train, y_train_log)"
      ],
      "execution_count": 0,
      "outputs": [
        {
          "output_type": "execute_result",
          "data": {
            "text/plain": [
              "Pipeline(memory=None,\n",
              "         steps=[('ordinalencoder',\n",
              "                 OrdinalEncoder(cols=['supplier', 'bracket_pricing',\n",
              "                                      'material_id', 'end_a_1x', 'end_a_2x',\n",
              "                                      'end_x_1x', 'end_x_2x', 'end_a', 'end_x',\n",
              "                                      'component_id_1', 'component_id_2',\n",
              "                                      'component_id_3', 'component_id_4',\n",
              "                                      'component_id_5', 'component_id_6',\n",
              "                                      'component_id_7', 'component_id_8'],\n",
              "                                drop_invariant=False, handle_missing='value'...\n",
              "                ('randomforestregressor',\n",
              "                 RandomForestRegressor(bootstrap=True, criterion='mse',\n",
              "                                       max_depth=None, max_features='auto',\n",
              "                                       max_leaf_nodes=None,\n",
              "                                       min_impurity_decrease=0.0,\n",
              "                                       min_impurity_split=None,\n",
              "                                       min_samples_leaf=1, min_samples_split=2,\n",
              "                                       min_weight_fraction_leaf=0.0,\n",
              "                                       n_estimators=100, n_jobs=-1,\n",
              "                                       oob_score=False, random_state=42,\n",
              "                                       verbose=0, warm_start=False))],\n",
              "         verbose=False)"
            ]
          },
          "metadata": {
            "tags": []
          },
          "execution_count": 178
        }
      ]
    },
    {
      "cell_type": "code",
      "metadata": {
        "id": "Ti8Dvqg9Lfx8",
        "colab_type": "code",
        "outputId": "76f4b5a6-d058-4ccf-f6db-3e4f4f46ce20",
        "colab": {
          "base_uri": "https://localhost:8080/",
          "height": 340
        }
      },
      "source": [
        "y_pred_log = pipeline.predict(x_val)\n",
        "rmse(y_val_log, y_pred_log)"
      ],
      "execution_count": 0,
      "outputs": [
        {
          "output_type": "error",
          "ename": "ValueError",
          "evalue": "ignored",
          "traceback": [
            "\u001b[0;31m---------------------------------------------------------------------------\u001b[0m",
            "\u001b[0;31mValueError\u001b[0m                                Traceback (most recent call last)",
            "\u001b[0;32m<ipython-input-179-165be428d624>\u001b[0m in \u001b[0;36m<module>\u001b[0;34m()\u001b[0m\n\u001b[0;32m----> 1\u001b[0;31m \u001b[0my_pred_log\u001b[0m \u001b[0;34m=\u001b[0m \u001b[0mpipeline\u001b[0m\u001b[0;34m.\u001b[0m\u001b[0mpredict\u001b[0m\u001b[0;34m(\u001b[0m\u001b[0mx_val\u001b[0m\u001b[0;34m)\u001b[0m\u001b[0;34m\u001b[0m\u001b[0;34m\u001b[0m\u001b[0m\n\u001b[0m\u001b[1;32m      2\u001b[0m \u001b[0mrmse\u001b[0m\u001b[0;34m(\u001b[0m\u001b[0my_val_log\u001b[0m\u001b[0;34m,\u001b[0m \u001b[0my_pred_log\u001b[0m\u001b[0;34m)\u001b[0m\u001b[0;34m\u001b[0m\u001b[0;34m\u001b[0m\u001b[0m\n",
            "\u001b[0;32m/usr/local/lib/python3.6/dist-packages/sklearn/utils/metaestimators.py\u001b[0m in \u001b[0;36m<lambda>\u001b[0;34m(*args, **kwargs)\u001b[0m\n\u001b[1;32m    114\u001b[0m \u001b[0;34m\u001b[0m\u001b[0m\n\u001b[1;32m    115\u001b[0m         \u001b[0;31m# lambda, but not partial, allows help() to work with update_wrapper\u001b[0m\u001b[0;34m\u001b[0m\u001b[0;34m\u001b[0m\u001b[0;34m\u001b[0m\u001b[0m\n\u001b[0;32m--> 116\u001b[0;31m         \u001b[0mout\u001b[0m \u001b[0;34m=\u001b[0m \u001b[0;32mlambda\u001b[0m \u001b[0;34m*\u001b[0m\u001b[0margs\u001b[0m\u001b[0;34m,\u001b[0m \u001b[0;34m**\u001b[0m\u001b[0mkwargs\u001b[0m\u001b[0;34m:\u001b[0m \u001b[0mself\u001b[0m\u001b[0;34m.\u001b[0m\u001b[0mfn\u001b[0m\u001b[0;34m(\u001b[0m\u001b[0mobj\u001b[0m\u001b[0;34m,\u001b[0m \u001b[0;34m*\u001b[0m\u001b[0margs\u001b[0m\u001b[0;34m,\u001b[0m \u001b[0;34m**\u001b[0m\u001b[0mkwargs\u001b[0m\u001b[0;34m)\u001b[0m\u001b[0;34m\u001b[0m\u001b[0;34m\u001b[0m\u001b[0m\n\u001b[0m\u001b[1;32m    117\u001b[0m         \u001b[0;31m# update the docstring of the returned function\u001b[0m\u001b[0;34m\u001b[0m\u001b[0;34m\u001b[0m\u001b[0;34m\u001b[0m\u001b[0m\n\u001b[1;32m    118\u001b[0m         \u001b[0mupdate_wrapper\u001b[0m\u001b[0;34m(\u001b[0m\u001b[0mout\u001b[0m\u001b[0;34m,\u001b[0m \u001b[0mself\u001b[0m\u001b[0;34m.\u001b[0m\u001b[0mfn\u001b[0m\u001b[0;34m)\u001b[0m\u001b[0;34m\u001b[0m\u001b[0;34m\u001b[0m\u001b[0m\n",
            "\u001b[0;32m/usr/local/lib/python3.6/dist-packages/sklearn/pipeline.py\u001b[0m in \u001b[0;36mpredict\u001b[0;34m(self, X, **predict_params)\u001b[0m\n\u001b[1;32m    420\u001b[0m         \u001b[0;32mfor\u001b[0m \u001b[0m_\u001b[0m\u001b[0;34m,\u001b[0m \u001b[0mname\u001b[0m\u001b[0;34m,\u001b[0m \u001b[0mtransform\u001b[0m \u001b[0;32min\u001b[0m \u001b[0mself\u001b[0m\u001b[0;34m.\u001b[0m\u001b[0m_iter\u001b[0m\u001b[0;34m(\u001b[0m\u001b[0mwith_final\u001b[0m\u001b[0;34m=\u001b[0m\u001b[0;32mFalse\u001b[0m\u001b[0;34m)\u001b[0m\u001b[0;34m:\u001b[0m\u001b[0;34m\u001b[0m\u001b[0;34m\u001b[0m\u001b[0m\n\u001b[1;32m    421\u001b[0m             \u001b[0mXt\u001b[0m \u001b[0;34m=\u001b[0m \u001b[0mtransform\u001b[0m\u001b[0;34m.\u001b[0m\u001b[0mtransform\u001b[0m\u001b[0;34m(\u001b[0m\u001b[0mXt\u001b[0m\u001b[0;34m)\u001b[0m\u001b[0;34m\u001b[0m\u001b[0;34m\u001b[0m\u001b[0m\n\u001b[0;32m--> 422\u001b[0;31m         \u001b[0;32mreturn\u001b[0m \u001b[0mself\u001b[0m\u001b[0;34m.\u001b[0m\u001b[0msteps\u001b[0m\u001b[0;34m[\u001b[0m\u001b[0;34m-\u001b[0m\u001b[0;36m1\u001b[0m\u001b[0;34m]\u001b[0m\u001b[0;34m[\u001b[0m\u001b[0;34m-\u001b[0m\u001b[0;36m1\u001b[0m\u001b[0;34m]\u001b[0m\u001b[0;34m.\u001b[0m\u001b[0mpredict\u001b[0m\u001b[0;34m(\u001b[0m\u001b[0mXt\u001b[0m\u001b[0;34m,\u001b[0m \u001b[0;34m**\u001b[0m\u001b[0mpredict_params\u001b[0m\u001b[0;34m)\u001b[0m\u001b[0;34m\u001b[0m\u001b[0;34m\u001b[0m\u001b[0m\n\u001b[0m\u001b[1;32m    423\u001b[0m \u001b[0;34m\u001b[0m\u001b[0m\n\u001b[1;32m    424\u001b[0m     \u001b[0;34m@\u001b[0m\u001b[0mif_delegate_has_method\u001b[0m\u001b[0;34m(\u001b[0m\u001b[0mdelegate\u001b[0m\u001b[0;34m=\u001b[0m\u001b[0;34m'_final_estimator'\u001b[0m\u001b[0;34m)\u001b[0m\u001b[0;34m\u001b[0m\u001b[0;34m\u001b[0m\u001b[0m\n",
            "\u001b[0;32m/usr/local/lib/python3.6/dist-packages/sklearn/ensemble/forest.py\u001b[0m in \u001b[0;36mpredict\u001b[0;34m(self, X)\u001b[0m\n\u001b[1;32m    691\u001b[0m         \u001b[0mcheck_is_fitted\u001b[0m\u001b[0;34m(\u001b[0m\u001b[0mself\u001b[0m\u001b[0;34m,\u001b[0m \u001b[0;34m'estimators_'\u001b[0m\u001b[0;34m)\u001b[0m\u001b[0;34m\u001b[0m\u001b[0;34m\u001b[0m\u001b[0m\n\u001b[1;32m    692\u001b[0m         \u001b[0;31m# Check data\u001b[0m\u001b[0;34m\u001b[0m\u001b[0;34m\u001b[0m\u001b[0;34m\u001b[0m\u001b[0m\n\u001b[0;32m--> 693\u001b[0;31m         \u001b[0mX\u001b[0m \u001b[0;34m=\u001b[0m \u001b[0mself\u001b[0m\u001b[0;34m.\u001b[0m\u001b[0m_validate_X_predict\u001b[0m\u001b[0;34m(\u001b[0m\u001b[0mX\u001b[0m\u001b[0;34m)\u001b[0m\u001b[0;34m\u001b[0m\u001b[0;34m\u001b[0m\u001b[0m\n\u001b[0m\u001b[1;32m    694\u001b[0m \u001b[0;34m\u001b[0m\u001b[0m\n\u001b[1;32m    695\u001b[0m         \u001b[0;31m# Assign chunk of trees to jobs\u001b[0m\u001b[0;34m\u001b[0m\u001b[0;34m\u001b[0m\u001b[0;34m\u001b[0m\u001b[0m\n",
            "\u001b[0;32m/usr/local/lib/python3.6/dist-packages/sklearn/ensemble/forest.py\u001b[0m in \u001b[0;36m_validate_X_predict\u001b[0;34m(self, X)\u001b[0m\n\u001b[1;32m    357\u001b[0m                                  \"call `fit` before exploiting the model.\")\n\u001b[1;32m    358\u001b[0m \u001b[0;34m\u001b[0m\u001b[0m\n\u001b[0;32m--> 359\u001b[0;31m         \u001b[0;32mreturn\u001b[0m \u001b[0mself\u001b[0m\u001b[0;34m.\u001b[0m\u001b[0mestimators_\u001b[0m\u001b[0;34m[\u001b[0m\u001b[0;36m0\u001b[0m\u001b[0;34m]\u001b[0m\u001b[0;34m.\u001b[0m\u001b[0m_validate_X_predict\u001b[0m\u001b[0;34m(\u001b[0m\u001b[0mX\u001b[0m\u001b[0;34m,\u001b[0m \u001b[0mcheck_input\u001b[0m\u001b[0;34m=\u001b[0m\u001b[0;32mTrue\u001b[0m\u001b[0;34m)\u001b[0m\u001b[0;34m\u001b[0m\u001b[0;34m\u001b[0m\u001b[0m\n\u001b[0m\u001b[1;32m    360\u001b[0m \u001b[0;34m\u001b[0m\u001b[0m\n\u001b[1;32m    361\u001b[0m     \u001b[0;34m@\u001b[0m\u001b[0mproperty\u001b[0m\u001b[0;34m\u001b[0m\u001b[0;34m\u001b[0m\u001b[0m\n",
            "\u001b[0;32m/usr/local/lib/python3.6/dist-packages/sklearn/tree/tree.py\u001b[0m in \u001b[0;36m_validate_X_predict\u001b[0;34m(self, X, check_input)\u001b[0m\n\u001b[1;32m    389\u001b[0m         \u001b[0;34m\"\"\"Validate X whenever one tries to predict, apply, predict_proba\"\"\"\u001b[0m\u001b[0;34m\u001b[0m\u001b[0;34m\u001b[0m\u001b[0m\n\u001b[1;32m    390\u001b[0m         \u001b[0;32mif\u001b[0m \u001b[0mcheck_input\u001b[0m\u001b[0;34m:\u001b[0m\u001b[0;34m\u001b[0m\u001b[0;34m\u001b[0m\u001b[0m\n\u001b[0;32m--> 391\u001b[0;31m             \u001b[0mX\u001b[0m \u001b[0;34m=\u001b[0m \u001b[0mcheck_array\u001b[0m\u001b[0;34m(\u001b[0m\u001b[0mX\u001b[0m\u001b[0;34m,\u001b[0m \u001b[0mdtype\u001b[0m\u001b[0;34m=\u001b[0m\u001b[0mDTYPE\u001b[0m\u001b[0;34m,\u001b[0m \u001b[0maccept_sparse\u001b[0m\u001b[0;34m=\u001b[0m\u001b[0;34m\"csr\"\u001b[0m\u001b[0;34m)\u001b[0m\u001b[0;34m\u001b[0m\u001b[0;34m\u001b[0m\u001b[0m\n\u001b[0m\u001b[1;32m    392\u001b[0m             if issparse(X) and (X.indices.dtype != np.intc or\n\u001b[1;32m    393\u001b[0m                                 X.indptr.dtype != np.intc):\n",
            "\u001b[0;32m/usr/local/lib/python3.6/dist-packages/sklearn/utils/validation.py\u001b[0m in \u001b[0;36mcheck_array\u001b[0;34m(array, accept_sparse, accept_large_sparse, dtype, order, copy, force_all_finite, ensure_2d, allow_nd, ensure_min_samples, ensure_min_features, warn_on_dtype, estimator)\u001b[0m\n\u001b[1;32m    540\u001b[0m         \u001b[0;32mif\u001b[0m \u001b[0mforce_all_finite\u001b[0m\u001b[0;34m:\u001b[0m\u001b[0;34m\u001b[0m\u001b[0;34m\u001b[0m\u001b[0m\n\u001b[1;32m    541\u001b[0m             _assert_all_finite(array,\n\u001b[0;32m--> 542\u001b[0;31m                                allow_nan=force_all_finite == 'allow-nan')\n\u001b[0m\u001b[1;32m    543\u001b[0m \u001b[0;34m\u001b[0m\u001b[0m\n\u001b[1;32m    544\u001b[0m     \u001b[0;32mif\u001b[0m \u001b[0mensure_min_samples\u001b[0m \u001b[0;34m>\u001b[0m \u001b[0;36m0\u001b[0m\u001b[0;34m:\u001b[0m\u001b[0;34m\u001b[0m\u001b[0;34m\u001b[0m\u001b[0m\n",
            "\u001b[0;32m/usr/local/lib/python3.6/dist-packages/sklearn/utils/validation.py\u001b[0m in \u001b[0;36m_assert_all_finite\u001b[0;34m(X, allow_nan)\u001b[0m\n\u001b[1;32m     54\u001b[0m                 not allow_nan and not np.isfinite(X).all()):\n\u001b[1;32m     55\u001b[0m             \u001b[0mtype_err\u001b[0m \u001b[0;34m=\u001b[0m \u001b[0;34m'infinity'\u001b[0m \u001b[0;32mif\u001b[0m \u001b[0mallow_nan\u001b[0m \u001b[0;32melse\u001b[0m \u001b[0;34m'NaN, infinity'\u001b[0m\u001b[0;34m\u001b[0m\u001b[0;34m\u001b[0m\u001b[0m\n\u001b[0;32m---> 56\u001b[0;31m             \u001b[0;32mraise\u001b[0m \u001b[0mValueError\u001b[0m\u001b[0;34m(\u001b[0m\u001b[0mmsg_err\u001b[0m\u001b[0;34m.\u001b[0m\u001b[0mformat\u001b[0m\u001b[0;34m(\u001b[0m\u001b[0mtype_err\u001b[0m\u001b[0;34m,\u001b[0m \u001b[0mX\u001b[0m\u001b[0;34m.\u001b[0m\u001b[0mdtype\u001b[0m\u001b[0;34m)\u001b[0m\u001b[0;34m)\u001b[0m\u001b[0;34m\u001b[0m\u001b[0;34m\u001b[0m\u001b[0m\n\u001b[0m\u001b[1;32m     57\u001b[0m     \u001b[0;31m# for object dtype data, we only check for NaNs (GH-13254)\u001b[0m\u001b[0;34m\u001b[0m\u001b[0;34m\u001b[0m\u001b[0;34m\u001b[0m\u001b[0m\n\u001b[1;32m     58\u001b[0m     \u001b[0;32melif\u001b[0m \u001b[0mX\u001b[0m\u001b[0;34m.\u001b[0m\u001b[0mdtype\u001b[0m \u001b[0;34m==\u001b[0m \u001b[0mnp\u001b[0m\u001b[0;34m.\u001b[0m\u001b[0mdtype\u001b[0m\u001b[0;34m(\u001b[0m\u001b[0;34m'object'\u001b[0m\u001b[0;34m)\u001b[0m \u001b[0;32mand\u001b[0m \u001b[0;32mnot\u001b[0m \u001b[0mallow_nan\u001b[0m\u001b[0;34m:\u001b[0m\u001b[0;34m\u001b[0m\u001b[0;34m\u001b[0m\u001b[0m\n",
            "\u001b[0;31mValueError\u001b[0m: Input contains NaN, infinity or a value too large for dtype('float32')."
          ]
        }
      ]
    },
    {
      "cell_type": "code",
      "metadata": {
        "id": "d3VrnaEhMetN",
        "colab_type": "code",
        "colab": {}
      },
      "source": [
        ""
      ],
      "execution_count": 0,
      "outputs": []
    }
  ]
}