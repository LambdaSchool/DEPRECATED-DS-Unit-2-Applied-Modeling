{
 "cells": [
  {
   "cell_type": "code",
   "execution_count": 43,
   "metadata": {},
   "outputs": [],
   "source": [
    "# The Usuals\n",
    "import numpy as np\n",
    "import pandas as pd\n",
    "import matplotlib.pyplot as plt\n",
    "\n",
    "# sklearn stuff\n",
    "from sklearn.model_selection import train_test_split\n",
    "from sklearn.metrics import mean_squared_log_error\n",
    "from sklearn.pipeline import make_pipeline\n",
    "from sklearn.ensemble import RandomForestRegressor\n",
    "from sklearn.impute import SimpleImputer"
   ]
  },
  {
   "cell_type": "code",
   "execution_count": 2,
   "metadata": {},
   "outputs": [
    {
     "name": "stdout",
     "output_type": "stream",
     "text": [
      "Requirement already satisfied: category-encoders in /home/eric/anaconda3/lib/python3.7/site-packages (2.0.0)\r\n",
      "Requirement already satisfied: pandas>=0.21.1 in /home/eric/anaconda3/lib/python3.7/site-packages (from category-encoders) (0.24.2)\r\n",
      "Requirement already satisfied: scikit-learn>=0.20.0 in /home/eric/anaconda3/lib/python3.7/site-packages (from category-encoders) (0.20.3)\r\n",
      "Requirement already satisfied: scipy>=0.19.0 in /home/eric/anaconda3/lib/python3.7/site-packages (from category-encoders) (1.2.1)\r\n",
      "Requirement already satisfied: statsmodels>=0.6.1 in /home/eric/anaconda3/lib/python3.7/site-packages (from category-encoders) (0.9.0)\r\n",
      "Requirement already satisfied: numpy>=1.11.3 in /home/eric/anaconda3/lib/python3.7/site-packages (from category-encoders) (1.16.2)\r\n",
      "Requirement already satisfied: patsy>=0.4.1 in /home/eric/anaconda3/lib/python3.7/site-packages (from category-encoders) (0.5.1)\r\n",
      "Requirement already satisfied: python-dateutil>=2.5.0 in /home/eric/anaconda3/lib/python3.7/site-packages (from pandas>=0.21.1->category-encoders) (2.8.0)\r\n",
      "Requirement already satisfied: pytz>=2011k in /home/eric/anaconda3/lib/python3.7/site-packages (from pandas>=0.21.1->category-encoders) (2018.9)\r\n",
      "Requirement already satisfied: six in /home/eric/anaconda3/lib/python3.7/site-packages (from patsy>=0.4.1->category-encoders) (1.12.0)\r\n"
     ]
    }
   ],
   "source": [
    "!pip install category-encoders"
   ]
  },
  {
   "cell_type": "code",
   "execution_count": 3,
   "metadata": {},
   "outputs": [],
   "source": [
    "import category_encoders as ce"
   ]
  },
  {
   "cell_type": "markdown",
   "metadata": {},
   "source": [
    "## Import Data"
   ]
  },
  {
   "cell_type": "code",
   "execution_count": 4,
   "metadata": {},
   "outputs": [],
   "source": [
    "!chmod 777 ../Data/train.csv\n",
    "!chmod 777 ../Data/test.csv\n",
    "\n",
    "# get train and test sets\n",
    "trainval = pd.read_csv('../Data/train.csv')\n",
    "test = pd.read_csv('../Data/test.csv')"
   ]
  },
  {
   "cell_type": "code",
   "execution_count": 5,
   "metadata": {},
   "outputs": [],
   "source": [
    "trainval_molecules = trainval['molecule_name'].unique()\n",
    "test_molecules = test['molecule_name'].unique()"
   ]
  },
  {
   "cell_type": "code",
   "execution_count": 6,
   "metadata": {},
   "outputs": [],
   "source": [
    "train_molecules, val_molecules = train_test_split(\n",
    "    trainval_molecules, random_state=32)"
   ]
  },
  {
   "cell_type": "code",
   "execution_count": 7,
   "metadata": {},
   "outputs": [],
   "source": [
    "train = trainval[trainval['molecule_name'].isin(train_molecules)]\n",
    "val = trainval[trainval['molecule_name'].isin(val_molecules)]"
   ]
  },
  {
   "cell_type": "code",
   "execution_count": 8,
   "metadata": {
    "scrolled": true
   },
   "outputs": [
    {
     "data": {
      "text/plain": [
       "((3492283, 6), (1165864, 6), (2505542, 5))"
      ]
     },
     "execution_count": 8,
     "metadata": {},
     "output_type": "execute_result"
    }
   ],
   "source": [
    "train.shape, val.shape, test.shape"
   ]
  },
  {
   "cell_type": "markdown",
   "metadata": {},
   "source": [
    "## Model"
   ]
  },
  {
   "cell_type": "code",
   "execution_count": 9,
   "metadata": {},
   "outputs": [],
   "source": [
    "# features & target\n",
    "features = ['type']\n",
    "target = 'scalar_coupling_constant'"
   ]
  },
  {
   "cell_type": "code",
   "execution_count": 10,
   "metadata": {},
   "outputs": [],
   "source": [
    "# Train\n",
    "X_train = train[features]\n",
    "y_train = train[target]\n",
    "\n",
    "# Val\n",
    "X_val = val[features]\n",
    "y_val = val[target]"
   ]
  },
  {
   "cell_type": "markdown",
   "metadata": {},
   "source": [
    "## Encode"
   ]
  },
  {
   "cell_type": "code",
   "execution_count": 15,
   "metadata": {},
   "outputs": [],
   "source": [
    "encoder = ce.OrdinalEncoder()"
   ]
  },
  {
   "cell_type": "code",
   "execution_count": 20,
   "metadata": {},
   "outputs": [],
   "source": [
    "X_train = pd.DataFrame(encoder.fit_transform(X_train.values))"
   ]
  },
  {
   "cell_type": "code",
   "execution_count": 21,
   "metadata": {},
   "outputs": [],
   "source": [
    "X_val = pd.DataFrame(encoder.transform(X_val.values))"
   ]
  },
  {
   "cell_type": "code",
   "execution_count": 22,
   "metadata": {},
   "outputs": [
    {
     "data": {
      "text/plain": [
       "RandomForestRegressor(bootstrap=True, criterion='mse', max_depth=None,\n",
       "           max_features='auto', max_leaf_nodes=None,\n",
       "           min_impurity_decrease=0.0, min_impurity_split=None,\n",
       "           min_samples_leaf=1, min_samples_split=2,\n",
       "           min_weight_fraction_leaf=0.0, n_estimators=100, n_jobs=None,\n",
       "           oob_score=False, random_state=32, verbose=0, warm_start=False)"
      ]
     },
     "execution_count": 22,
     "metadata": {},
     "output_type": "execute_result"
    }
   ],
   "source": [
    "# Instantiate rf\n",
    "rf = RandomForestRegressor(n_estimators=100, random_state=32)\n",
    "\n",
    "# fit\n",
    "rf.fit(X_train, y_train)"
   ]
  },
  {
   "cell_type": "code",
   "execution_count": 23,
   "metadata": {},
   "outputs": [],
   "source": [
    "# make predictions\n",
    "y_pred = rf.predict(X_val)"
   ]
  },
  {
   "cell_type": "code",
   "execution_count": 28,
   "metadata": {},
   "outputs": [],
   "source": [
    "# metric\n",
    "groups = X_train[0]\n",
    "\n",
    "def group_mean_log_mae(y_true, y_pred, floor=1e-9):\n",
    "    maes = (y_true-y_pred).abs().groupby(groups).mean()\n",
    "    return np.log(maes.map(lambda x: max(x, floor))).mean()"
   ]
  },
  {
   "cell_type": "code",
   "execution_count": 29,
   "metadata": {},
   "outputs": [
    {
     "data": {
      "text/plain": [
       "1.4529616324460817"
      ]
     },
     "execution_count": 29,
     "metadata": {},
     "output_type": "execute_result"
    }
   ],
   "source": [
    "group_mean_log_mae(y_val, y_pred)"
   ]
  },
  {
   "cell_type": "markdown",
   "metadata": {},
   "source": [
    "## Model with XGBoost"
   ]
  },
  {
   "cell_type": "code",
   "execution_count": 33,
   "metadata": {},
   "outputs": [
    {
     "name": "stdout",
     "output_type": "stream",
     "text": [
      "[16:36:56] WARNING: /workspace/src/objective/regression_obj.cu:152: reg:linear is now deprecated in favor of reg:squarederror.\n"
     ]
    },
    {
     "data": {
      "text/plain": [
       "XGBRegressor(base_score=0.5, booster='gbtree', colsample_bylevel=1,\n",
       "       colsample_bynode=1, colsample_bytree=1, gamma=0,\n",
       "       importance_type='gain', learning_rate=0.1, max_delta_step=0,\n",
       "       max_depth=25, min_child_weight=1, missing=None, n_estimators=100,\n",
       "       n_jobs=1, nthread=None, objective='reg:linear', random_state=32,\n",
       "       reg_alpha=0, reg_lambda=1, scale_pos_weight=1, seed=None,\n",
       "       silent=None, subsample=1, verbosity=1)"
      ]
     },
     "execution_count": 33,
     "metadata": {},
     "output_type": "execute_result"
    }
   ],
   "source": [
    "from xgboost import XGBRegressor\n",
    "\n",
    "# instantiate model\n",
    "model = XGBRegressor(n_estimators=100, max_depth=10, random_state=32)\n",
    "\n",
    "# fit model\n",
    "model.fit(X_train, y_train)"
   ]
  },
  {
   "cell_type": "code",
   "execution_count": 34,
   "metadata": {},
   "outputs": [],
   "source": [
    "# make predictions\n",
    "y_pred = model.predict(X_val)"
   ]
  },
  {
   "cell_type": "code",
   "execution_count": 35,
   "metadata": {},
   "outputs": [
    {
     "data": {
      "text/plain": [
       "1.4529320990612868"
      ]
     },
     "execution_count": 35,
     "metadata": {},
     "output_type": "execute_result"
    }
   ],
   "source": [
    "group_mean_log_mae(y_val, y_pred)"
   ]
  },
  {
   "cell_type": "markdown",
   "metadata": {},
   "source": [
    "## XGBoost Early Stopping"
   ]
  },
  {
   "cell_type": "code",
   "execution_count": 38,
   "metadata": {},
   "outputs": [],
   "source": [
    "eval_set = [(X_train, y_train), (X_val, y_val)]"
   ]
  },
  {
   "cell_type": "code",
   "execution_count": 41,
   "metadata": {},
   "outputs": [
    {
     "name": "stdout",
     "output_type": "stream",
     "text": [
      "[16:55:02] WARNING: /workspace/src/objective/regression_obj.cu:152: reg:linear is now deprecated in favor of reg:squarederror.\n",
      "[0]\tvalidation_0-rmse:34.4278\tvalidation_1-rmse:34.5378\n",
      "Multiple eval metrics have been passed: 'validation_1-rmse' will be used for early stopping.\n",
      "\n",
      "Will train until validation_1-rmse hasn't improved in 10 rounds.\n",
      "[1]\tvalidation_0-rmse:31.167\tvalidation_1-rmse:31.2892\n",
      "[2]\tvalidation_0-rmse:28.2867\tvalidation_1-rmse:28.3766\n",
      "[3]\tvalidation_0-rmse:25.7155\tvalidation_1-rmse:25.7867\n",
      "[4]\tvalidation_0-rmse:23.3965\tvalidation_1-rmse:23.4832\n",
      "[5]\tvalidation_0-rmse:21.3452\tvalidation_1-rmse:21.4321\n",
      "[6]\tvalidation_0-rmse:19.5448\tvalidation_1-rmse:19.6098\n",
      "[7]\tvalidation_0-rmse:17.966\tvalidation_1-rmse:18.0164\n",
      "[8]\tvalidation_0-rmse:16.5534\tvalidation_1-rmse:16.6161\n",
      "[9]\tvalidation_0-rmse:15.3198\tvalidation_1-rmse:15.3895\n",
      "[10]\tvalidation_0-rmse:14.2533\tvalidation_1-rmse:14.3143\n",
      "[11]\tvalidation_0-rmse:13.3274\tvalidation_1-rmse:13.3816\n",
      "[12]\tvalidation_0-rmse:12.5266\tvalidation_1-rmse:12.5776\n",
      "[13]\tvalidation_0-rmse:11.8285\tvalidation_1-rmse:11.8863\n",
      "[14]\tvalidation_0-rmse:11.2361\tvalidation_1-rmse:11.2952\n",
      "[15]\tvalidation_0-rmse:10.6927\tvalidation_1-rmse:10.7527\n",
      "[16]\tvalidation_0-rmse:10.2652\tvalidation_1-rmse:10.3227\n",
      "[17]\tvalidation_0-rmse:9.87317\tvalidation_1-rmse:9.92626\n",
      "[18]\tvalidation_0-rmse:9.57181\tvalidation_1-rmse:9.62078\n",
      "[19]\tvalidation_0-rmse:9.29402\tvalidation_1-rmse:9.33657\n",
      "[20]\tvalidation_0-rmse:9.08496\tvalidation_1-rmse:9.12351\n",
      "[21]\tvalidation_0-rmse:8.88433\tvalidation_1-rmse:8.92235\n",
      "[22]\tvalidation_0-rmse:8.7166\tvalidation_1-rmse:8.75652\n",
      "[23]\tvalidation_0-rmse:8.59548\tvalidation_1-rmse:8.63433\n",
      "[24]\tvalidation_0-rmse:8.47749\tvalidation_1-rmse:8.51806\n",
      "[25]\tvalidation_0-rmse:8.39433\tvalidation_1-rmse:8.43475\n",
      "[26]\tvalidation_0-rmse:8.31196\tvalidation_1-rmse:8.35365\n",
      "[27]\tvalidation_0-rmse:8.25568\tvalidation_1-rmse:8.29743\n",
      "[28]\tvalidation_0-rmse:8.19792\tvalidation_1-rmse:8.24064\n",
      "[29]\tvalidation_0-rmse:8.15972\tvalidation_1-rmse:8.20259\n",
      "[30]\tvalidation_0-rmse:8.11919\tvalidation_1-rmse:8.16265\n",
      "[31]\tvalidation_0-rmse:8.09389\tvalidation_1-rmse:8.13666\n",
      "[32]\tvalidation_0-rmse:8.06534\tvalidation_1-rmse:8.10852\n",
      "[33]\tvalidation_0-rmse:8.04222\tvalidation_1-rmse:8.08566\n",
      "[34]\tvalidation_0-rmse:8.02764\tvalidation_1-rmse:8.071\n",
      "[35]\tvalidation_0-rmse:8.01109\tvalidation_1-rmse:8.05462\n",
      "[36]\tvalidation_0-rmse:8.00155\tvalidation_1-rmse:8.04443\n",
      "[37]\tvalidation_0-rmse:7.99005\tvalidation_1-rmse:8.03272\n",
      "[38]\tvalidation_0-rmse:7.98321\tvalidation_1-rmse:8.02566\n",
      "[39]\tvalidation_0-rmse:7.9747\tvalidation_1-rmse:8.01722\n",
      "[40]\tvalidation_0-rmse:7.96782\tvalidation_1-rmse:8.01027\n",
      "[41]\tvalidation_0-rmse:7.96396\tvalidation_1-rmse:8.00603\n",
      "[42]\tvalidation_0-rmse:7.959\tvalidation_1-rmse:8.00094\n",
      "[43]\tvalidation_0-rmse:7.95622\tvalidation_1-rmse:7.99795\n",
      "[44]\tvalidation_0-rmse:7.95257\tvalidation_1-rmse:7.99415\n",
      "[45]\tvalidation_0-rmse:7.95073\tvalidation_1-rmse:7.99208\n",
      "[46]\tvalidation_0-rmse:7.94779\tvalidation_1-rmse:7.98905\n",
      "[47]\tvalidation_0-rmse:7.94552\tvalidation_1-rmse:7.98664\n",
      "[48]\tvalidation_0-rmse:7.94415\tvalidation_1-rmse:7.9852\n",
      "[49]\tvalidation_0-rmse:7.94246\tvalidation_1-rmse:7.98329\n",
      "[50]\tvalidation_0-rmse:7.94171\tvalidation_1-rmse:7.98218\n",
      "[51]\tvalidation_0-rmse:7.94029\tvalidation_1-rmse:7.9806\n",
      "[52]\tvalidation_0-rmse:7.93963\tvalidation_1-rmse:7.97977\n",
      "[53]\tvalidation_0-rmse:7.9386\tvalidation_1-rmse:7.97841\n",
      "[54]\tvalidation_0-rmse:7.93824\tvalidation_1-rmse:7.97781\n",
      "[55]\tvalidation_0-rmse:7.93738\tvalidation_1-rmse:7.97679\n",
      "[56]\tvalidation_0-rmse:7.93668\tvalidation_1-rmse:7.97589\n",
      "[57]\tvalidation_0-rmse:7.93642\tvalidation_1-rmse:7.97551\n",
      "[58]\tvalidation_0-rmse:7.9362\tvalidation_1-rmse:7.97499\n",
      "[59]\tvalidation_0-rmse:7.93607\tvalidation_1-rmse:7.97467\n",
      "[60]\tvalidation_0-rmse:7.93546\tvalidation_1-rmse:7.97399\n",
      "[61]\tvalidation_0-rmse:7.9353\tvalidation_1-rmse:7.97371\n",
      "[62]\tvalidation_0-rmse:7.93519\tvalidation_1-rmse:7.97354\n",
      "[63]\tvalidation_0-rmse:7.93476\tvalidation_1-rmse:7.97296\n",
      "[64]\tvalidation_0-rmse:7.9347\tvalidation_1-rmse:7.97281\n",
      "[65]\tvalidation_0-rmse:7.93466\tvalidation_1-rmse:7.97271\n",
      "[66]\tvalidation_0-rmse:7.93461\tvalidation_1-rmse:7.97262\n",
      "[67]\tvalidation_0-rmse:7.93433\tvalidation_1-rmse:7.97216\n",
      "[68]\tvalidation_0-rmse:7.93436\tvalidation_1-rmse:7.97211\n",
      "[69]\tvalidation_0-rmse:7.93402\tvalidation_1-rmse:7.9716\n",
      "[70]\tvalidation_0-rmse:7.93411\tvalidation_1-rmse:7.97155\n",
      "[71]\tvalidation_0-rmse:7.93382\tvalidation_1-rmse:7.97112\n",
      "[72]\tvalidation_0-rmse:7.93372\tvalidation_1-rmse:7.97079\n",
      "[73]\tvalidation_0-rmse:7.93382\tvalidation_1-rmse:7.97078\n",
      "[74]\tvalidation_0-rmse:7.93371\tvalidation_1-rmse:7.97048\n",
      "[75]\tvalidation_0-rmse:7.93373\tvalidation_1-rmse:7.97034\n",
      "[76]\tvalidation_0-rmse:7.93379\tvalidation_1-rmse:7.97024\n",
      "[77]\tvalidation_0-rmse:7.93373\tvalidation_1-rmse:7.97005\n",
      "[78]\tvalidation_0-rmse:7.9338\tvalidation_1-rmse:7.97001\n",
      "[79]\tvalidation_0-rmse:7.93385\tvalidation_1-rmse:7.96992\n",
      "[80]\tvalidation_0-rmse:7.9338\tvalidation_1-rmse:7.9698\n",
      "[81]\tvalidation_0-rmse:7.93383\tvalidation_1-rmse:7.96974\n",
      "[82]\tvalidation_0-rmse:7.93381\tvalidation_1-rmse:7.96966\n",
      "[83]\tvalidation_0-rmse:7.93378\tvalidation_1-rmse:7.96956\n",
      "[84]\tvalidation_0-rmse:7.9338\tvalidation_1-rmse:7.96953\n",
      "[85]\tvalidation_0-rmse:7.93382\tvalidation_1-rmse:7.96946\n",
      "[86]\tvalidation_0-rmse:7.93389\tvalidation_1-rmse:7.96946\n",
      "[87]\tvalidation_0-rmse:7.93391\tvalidation_1-rmse:7.96947\n",
      "[88]\tvalidation_0-rmse:7.93392\tvalidation_1-rmse:7.96941\n",
      "[89]\tvalidation_0-rmse:7.93395\tvalidation_1-rmse:7.9694\n",
      "[90]\tvalidation_0-rmse:7.93398\tvalidation_1-rmse:7.96933\n",
      "[91]\tvalidation_0-rmse:7.93396\tvalidation_1-rmse:7.96927\n",
      "[92]\tvalidation_0-rmse:7.93402\tvalidation_1-rmse:7.96928\n",
      "[93]\tvalidation_0-rmse:7.93403\tvalidation_1-rmse:7.96925\n",
      "[94]\tvalidation_0-rmse:7.93402\tvalidation_1-rmse:7.96927\n",
      "[95]\tvalidation_0-rmse:7.93402\tvalidation_1-rmse:7.96926\n",
      "[96]\tvalidation_0-rmse:7.93404\tvalidation_1-rmse:7.96925\n",
      "[97]\tvalidation_0-rmse:7.93406\tvalidation_1-rmse:7.96925\n",
      "[98]\tvalidation_0-rmse:7.93407\tvalidation_1-rmse:7.96924\n",
      "[99]\tvalidation_0-rmse:7.93407\tvalidation_1-rmse:7.96924\n",
      "[100]\tvalidation_0-rmse:7.93408\tvalidation_1-rmse:7.96923\n",
      "[101]\tvalidation_0-rmse:7.9341\tvalidation_1-rmse:7.96923\n",
      "[102]\tvalidation_0-rmse:7.93411\tvalidation_1-rmse:7.96922\n",
      "[103]\tvalidation_0-rmse:7.93413\tvalidation_1-rmse:7.96921\n",
      "[104]\tvalidation_0-rmse:7.93414\tvalidation_1-rmse:7.96923\n",
      "[105]\tvalidation_0-rmse:7.93413\tvalidation_1-rmse:7.96922\n",
      "[106]\tvalidation_0-rmse:7.93414\tvalidation_1-rmse:7.96923\n",
      "[107]\tvalidation_0-rmse:7.93414\tvalidation_1-rmse:7.96921\n",
      "[108]\tvalidation_0-rmse:7.93413\tvalidation_1-rmse:7.9692\n",
      "[109]\tvalidation_0-rmse:7.93414\tvalidation_1-rmse:7.96919\n",
      "[110]\tvalidation_0-rmse:7.93416\tvalidation_1-rmse:7.96919\n",
      "[111]\tvalidation_0-rmse:7.93416\tvalidation_1-rmse:7.96918\n",
      "[112]\tvalidation_0-rmse:7.93416\tvalidation_1-rmse:7.96919\n",
      "[113]\tvalidation_0-rmse:7.93416\tvalidation_1-rmse:7.96918\n",
      "[114]\tvalidation_0-rmse:7.93417\tvalidation_1-rmse:7.96917\n",
      "[115]\tvalidation_0-rmse:7.93418\tvalidation_1-rmse:7.96918\n",
      "[116]\tvalidation_0-rmse:7.93419\tvalidation_1-rmse:7.9692\n",
      "[117]\tvalidation_0-rmse:7.93419\tvalidation_1-rmse:7.96918\n",
      "[118]\tvalidation_0-rmse:7.93419\tvalidation_1-rmse:7.96919\n",
      "[119]\tvalidation_0-rmse:7.93419\tvalidation_1-rmse:7.9692\n",
      "[120]\tvalidation_0-rmse:7.9342\tvalidation_1-rmse:7.9692\n",
      "[121]\tvalidation_0-rmse:7.93421\tvalidation_1-rmse:7.9692\n",
      "[122]\tvalidation_0-rmse:7.9342\tvalidation_1-rmse:7.96919\n",
      "[123]\tvalidation_0-rmse:7.9342\tvalidation_1-rmse:7.96919\n",
      "[124]\tvalidation_0-rmse:7.9342\tvalidation_1-rmse:7.96918\n",
      "Stopping. Best iteration:\n",
      "[114]\tvalidation_0-rmse:7.93417\tvalidation_1-rmse:7.96917\n",
      "\n"
     ]
    },
    {
     "data": {
      "text/plain": [
       "XGBRegressor(base_score=0.5, booster='gbtree', colsample_bylevel=1,\n",
       "       colsample_bynode=1, colsample_bytree=1, gamma=0,\n",
       "       importance_type='gain', learning_rate=0.1, max_delta_step=0,\n",
       "       max_depth=3, min_child_weight=1, missing=None, n_estimators=1000,\n",
       "       n_jobs=-1, nthread=None, objective='reg:linear', random_state=0,\n",
       "       reg_alpha=0, reg_lambda=1, scale_pos_weight=1, seed=None,\n",
       "       silent=None, subsample=1, verbosity=1)"
      ]
     },
     "execution_count": 41,
     "metadata": {},
     "output_type": "execute_result"
    }
   ],
   "source": [
    "model = XGBRegressor(n_estimators=1000, n_jobs=-1)\n",
    "\n",
    "model.fit(X_train, y_train, early_stopping_rounds=10,\n",
    "          eval_metric='rmse', eval_set=eval_set)"
   ]
  },
  {
   "cell_type": "code",
   "execution_count": 46,
   "metadata": {},
   "outputs": [
    {
     "data": {
      "image/png": "[encoded data removed]",
      "text/plain": [
       "<Figure size 432x288 with 1 Axes>"
      ]
     },
     "metadata": {
      "needs_background": "light"
     },
     "output_type": "display_data"
    }
   ],
   "source": [
    "results = model.evals_result()\n",
    "val_rmse = results['validation_1']['rmse']\n",
    "epoch = range(len(train_rmse))\n",
    "plt.plot(epoch, val_rmse, label='Validation')\n",
    "plt.legend();"
   ]
  }
 ],
 "metadata": {
  "kernelspec": {
   "display_name": "Python 3",
   "language": "python",
   "name": "python3"
  },
  "language_info": {
   "codemirror_mode": {
    "name": "ipython",
    "version": 3
   },
   "file_extension": ".py",
   "mimetype": "text/x-python",
   "name": "python",
   "nbconvert_exporter": "python",
   "pygments_lexer": "ipython3",
   "version": "3.7.3"
  }
 },
 "nbformat": 4,
 "nbformat_minor": 2
}
