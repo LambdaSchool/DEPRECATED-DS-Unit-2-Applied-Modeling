{
 "cells": [
  {
   "cell_type": "code",
   "execution_count": 2,
   "metadata": {},
   "outputs": [
    {
     "name": "stdout",
     "output_type": "stream",
     "text": [
      "--2019-08-07 21:56:03--  https://github.com/unburied/DS-Unit-2-Applied-Modeling/raw/master/data/caterpillar/caterpillar-tube-pricing.zip\n",
      "Resolving github.com (github.com)... 140.82.114.3\n",
      "Connecting to github.com (github.com)|140.82.114.3|:443... connected.\n",
      "HTTP request sent, awaiting response... 302 Found\n",
      "Location: https://raw.githubusercontent.com/unburied/DS-Unit-2-Applied-Modeling/master/data/caterpillar/caterpillar-tube-pricing.zip [following]\n",
      "--2019-08-07 21:56:03--  https://raw.githubusercontent.com/unburied/DS-Unit-2-Applied-Modeling/master/data/caterpillar/caterpillar-tube-pricing.zip\n",
      "Resolving raw.githubusercontent.com (raw.githubusercontent.com)... 151.101.208.133\n",
      "Connecting to raw.githubusercontent.com (raw.githubusercontent.com)|151.101.208.133|:443... connected.\n",
      "HTTP request sent, awaiting response... 200 OK\n",
      "Length: 823789 (804K) [application/zip]\n",
      "Saving to: ‘caterpillar-tube-pricing.zip’\n",
      "\n",
      "caterpillar-tube-pr 100%[===================>] 804.48K  --.-KB/s    in 0.1s    \n",
      "\n",
      "2019-08-07 21:56:03 (7.23 MB/s) - ‘caterpillar-tube-pricing.zip’ saved [823789/823789]\n",
      "\n"
     ]
    }
   ],
   "source": [
    "!wget https://github.com/unburied/DS-Unit-2-Applied-Modeling/raw/master/data/caterpillar/caterpillar-tube-pricing.zip"
   ]
  },
  {
   "cell_type": "code",
   "execution_count": 8,
   "metadata": {},
   "outputs": [
    {
     "name": "stdout",
     "output_type": "stream",
     "text": [
      "Archive:  caterpillar-tube-pricing.zip\r\n"
     ]
    }
   ],
   "source": [
    "!unzip -n caterpillar-tube-pricing.zip "
   ]
  },
  {
   "cell_type": "code",
   "execution_count": 10,
   "metadata": {},
   "outputs": [
    {
     "name": "stdout",
     "output_type": "stream",
     "text": [
      "Archive:  data.zip\n",
      "   creating: competition_data/\n",
      "  inflating: competition_data/bill_of_materials.csv  \n",
      "  inflating: competition_data/comp_adaptor.csv  \n",
      "  inflating: competition_data/comp_boss.csv  \n",
      "  inflating: competition_data/comp_elbow.csv  \n",
      "  inflating: competition_data/comp_float.csv  \n",
      "  inflating: competition_data/comp_hfl.csv  \n",
      "  inflating: competition_data/comp_nut.csv  \n",
      "  inflating: competition_data/comp_other.csv  \n",
      "  inflating: competition_data/comp_sleeve.csv  \n",
      "  inflating: competition_data/comp_straight.csv  \n",
      "  inflating: competition_data/comp_tee.csv  \n",
      "  inflating: competition_data/comp_threaded.csv  \n",
      "  inflating: competition_data/components.csv  \n",
      "  inflating: competition_data/specs.csv  \n",
      "  inflating: competition_data/test_set.csv  \n",
      "  inflating: competition_data/train_set.csv  \n",
      "  inflating: competition_data/tube.csv  \n",
      "  inflating: competition_data/tube_end_form.csv  \n",
      "  inflating: competition_data/type_component.csv  \n",
      "  inflating: competition_data/type_connection.csv  \n",
      "  inflating: competition_data/type_end_form.csv  \n"
     ]
    }
   ],
   "source": [
    "!unzip data.zip"
   ]
  },
  {
   "cell_type": "code",
   "execution_count": 20,
   "metadata": {},
   "outputs": [],
   "source": [
    "from glob import glob\n",
    "import pandas as pd\n",
    "\n",
    "#load data into df dictionary and clean names as keys\n",
    "df_dict = {}\n",
    "for file in glob('competition_data/*'):\n",
    "    name = file.replace('competition_data/', '').replace('.csv', '')\n",
    "    df_dict[name] = pd.read_csv(file) "
   ]
  },
  {
   "cell_type": "code",
   "execution_count": 22,
   "metadata": {},
   "outputs": [
    {
     "data": {
      "text/plain": [
       "dict_keys(['type_end_form', 'comp_elbow', 'bill_of_materials', 'type_connection', 'comp_float', 'components', 'tube_end_form', 'tube', 'test_set', 'comp_other', 'comp_boss', 'comp_adaptor', 'specs', 'type_component', 'train_set', 'comp_nut', 'comp_threaded', 'comp_straight', 'comp_tee', 'comp_sleeve', 'comp_hfl'])"
      ]
     },
     "execution_count": 22,
     "metadata": {},
     "output_type": "execute_result"
    }
   ],
   "source": [
    "df_dict.keys()"
   ]
  },
  {
   "cell_type": "code",
   "execution_count": 26,
   "metadata": {},
   "outputs": [],
   "source": [
    "#extract data to split and begin exploration\n",
    "trainval = df_dict['train_set']\n",
    "test = df_dict['test_set']"
   ]
  },
  {
   "cell_type": "code",
   "execution_count": 27,
   "metadata": {},
   "outputs": [
    {
     "data": {
      "text/html": [
       "<div>\n",
       "<style scoped>\n",
       "    .dataframe tbody tr th:only-of-type {\n",
       "        vertical-align: middle;\n",
       "    }\n",
       "\n",
       "    .dataframe tbody tr th {\n",
       "        vertical-align: top;\n",
       "    }\n",
       "\n",
       "    .dataframe thead th {\n",
       "        text-align: right;\n",
       "    }\n",
       "</style>\n",
       "<table border=\"1\" class=\"dataframe\">\n",
       "  <thead>\n",
       "    <tr style=\"text-align: right;\">\n",
       "      <th></th>\n",
       "      <th>tube_assembly_id</th>\n",
       "      <th>supplier</th>\n",
       "      <th>quote_date</th>\n",
       "      <th>annual_usage</th>\n",
       "      <th>min_order_quantity</th>\n",
       "      <th>bracket_pricing</th>\n",
       "      <th>quantity</th>\n",
       "      <th>cost</th>\n",
       "    </tr>\n",
       "  </thead>\n",
       "  <tbody>\n",
       "    <tr>\n",
       "      <th>0</th>\n",
       "      <td>TA-00002</td>\n",
       "      <td>S-0066</td>\n",
       "      <td>2013-07-07</td>\n",
       "      <td>0</td>\n",
       "      <td>0</td>\n",
       "      <td>Yes</td>\n",
       "      <td>1</td>\n",
       "      <td>21.905933</td>\n",
       "    </tr>\n",
       "    <tr>\n",
       "      <th>1</th>\n",
       "      <td>TA-00002</td>\n",
       "      <td>S-0066</td>\n",
       "      <td>2013-07-07</td>\n",
       "      <td>0</td>\n",
       "      <td>0</td>\n",
       "      <td>Yes</td>\n",
       "      <td>2</td>\n",
       "      <td>12.341214</td>\n",
       "    </tr>\n",
       "    <tr>\n",
       "      <th>2</th>\n",
       "      <td>TA-00002</td>\n",
       "      <td>S-0066</td>\n",
       "      <td>2013-07-07</td>\n",
       "      <td>0</td>\n",
       "      <td>0</td>\n",
       "      <td>Yes</td>\n",
       "      <td>5</td>\n",
       "      <td>6.601826</td>\n",
       "    </tr>\n",
       "    <tr>\n",
       "      <th>3</th>\n",
       "      <td>TA-00002</td>\n",
       "      <td>S-0066</td>\n",
       "      <td>2013-07-07</td>\n",
       "      <td>0</td>\n",
       "      <td>0</td>\n",
       "      <td>Yes</td>\n",
       "      <td>10</td>\n",
       "      <td>4.687770</td>\n",
       "    </tr>\n",
       "    <tr>\n",
       "      <th>4</th>\n",
       "      <td>TA-00002</td>\n",
       "      <td>S-0066</td>\n",
       "      <td>2013-07-07</td>\n",
       "      <td>0</td>\n",
       "      <td>0</td>\n",
       "      <td>Yes</td>\n",
       "      <td>25</td>\n",
       "      <td>3.541561</td>\n",
       "    </tr>\n",
       "  </tbody>\n",
       "</table>\n",
       "</div>"
      ],
      "text/plain": [
       "  tube_assembly_id supplier  quote_date  annual_usage  min_order_quantity  \\\n",
       "0         TA-00002   S-0066  2013-07-07             0                   0   \n",
       "1         TA-00002   S-0066  2013-07-07             0                   0   \n",
       "2         TA-00002   S-0066  2013-07-07             0                   0   \n",
       "3         TA-00002   S-0066  2013-07-07             0                   0   \n",
       "4         TA-00002   S-0066  2013-07-07             0                   0   \n",
       "\n",
       "  bracket_pricing  quantity       cost  \n",
       "0             Yes         1  21.905933  \n",
       "1             Yes         2  12.341214  \n",
       "2             Yes         5   6.601826  \n",
       "3             Yes        10   4.687770  \n",
       "4             Yes        25   3.541561  "
      ]
     },
     "execution_count": 27,
     "metadata": {},
     "output_type": "execute_result"
    }
   ],
   "source": [
    "trainval.head()"
   ]
  },
  {
   "cell_type": "code",
   "execution_count": 32,
   "metadata": {},
   "outputs": [
    {
     "data": {
      "text/plain": [
       "set()"
      ]
     },
     "execution_count": 32,
     "metadata": {},
     "output_type": "execute_result"
    }
   ],
   "source": [
    "#get unique id's for assemblies to split\n",
    "train_tubes = trainval.tube_assembly_id.unique()\n",
    "test_tubes = test.tube_assembly_id.unique()\n",
    "\n",
    "set(train_tubes) & set(test_tubes)"
   ]
  },
  {
   "cell_type": "code",
   "execution_count": 33,
   "metadata": {},
   "outputs": [
    {
     "data": {
      "text/plain": [
       "set()"
      ]
     },
     "execution_count": 33,
     "metadata": {},
     "output_type": "execute_result"
    }
   ],
   "source": [
    "from sklearn.model_selection import train_test_split\n",
    "\n",
    "#split for train and validation\n",
    "train_assemblies, val_assemblies = train_test_split(train_tubes,\n",
    "                                                   random_state = 42)\n",
    "#confirm both sets have unique assemblies\n",
    "set(train_assemblies) & set(val_assemblies)"
   ]
  },
  {
   "cell_type": "code",
   "execution_count": 36,
   "metadata": {},
   "outputs": [],
   "source": [
    "#split trainval in train and val subsets\n",
    "train = trainval[trainval.tube_assembly_id.isin(train_assemblies)]\n",
    "val = trainval[trainval.tube_assembly_id.isin(val_assemblies)]\n",
    "\n",
    "assert len(train) + len(val) == len(trainval)"
   ]
  },
  {
   "cell_type": "code",
   "execution_count": 37,
   "metadata": {},
   "outputs": [],
   "source": [
    "#get baseline == mean\n",
    "import numpy as np\n",
    "\n",
    "target = 'cost'\n",
    "\n",
    "#set target and predictions\n",
    "y_train = train[target]\n",
    "y_val = val[target]\n",
    "y_pred = np.full_like(y_val, fill_value = y_train.mean())"
   ]
  },
  {
   "cell_type": "code",
   "execution_count": 38,
   "metadata": {},
   "outputs": [],
   "source": [
    "#score baseline\n",
    "from sklearn.metrics import mean_squared_log_error\n",
    "\n",
    "def rmsle(pred, true):\n",
    "    score = np.sqrt(mean_squared_log_error(pred, true))\n",
    "    statement = f'Score = {score}'\n",
    "    return print(statement)"
   ]
  },
  {
   "cell_type": "code",
   "execution_count": 39,
   "metadata": {},
   "outputs": [
    {
     "name": "stdout",
     "output_type": "stream",
     "text": [
      "Score = 0.9418101276064408\n"
     ]
    }
   ],
   "source": [
    "rmsle(y_pred, y_val)"
   ]
  },
  {
   "cell_type": "code",
   "execution_count": 41,
   "metadata": {},
   "outputs": [
    {
     "name": "stdout",
     "output_type": "stream",
     "text": [
      "Score = 0.6907371077556048\n"
     ]
    }
   ],
   "source": [
    "#use simple model to build upon baseline\n",
    "from sklearn.ensemble import RandomForestRegressor\n",
    "\n",
    "#use numerical feature quantity for model baseline\n",
    "feature = ['quantity']\n",
    "X_train = train[feature]\n",
    "X_val = val[feature]\n",
    "\n",
    "#fit model\n",
    "model = RandomForestRegressor(n_estimators = 350, max_depth = 20)\n",
    "model.fit(X_train, y_train)\n",
    "\n",
    "#get score\n",
    "y_pred = model.predict(X_val)\n",
    "rmsle(y_pred, y_val)"
   ]
  },
  {
   "cell_type": "code",
   "execution_count": 71,
   "metadata": {},
   "outputs": [],
   "source": [
    "#wrangle data\n",
    "def wrangle(df):\n",
    "    X = df.copy()\n",
    "    \n",
    "    X['quote_date'] = pd.to_datetime(X.quote_date, infer_datetime_format = True)\n",
    "    X['year'] = X.quote_date.dt.year\n",
    "    X['month'] = X.quote_date.dt.month\n",
    "    X['day'] = X.quote_date.dt.day\n",
    "    X = X.drop(columns = 'quote_date')\n",
    "    \n",
    "    X = mash(X)\n",
    "    \n",
    "    X = X.drop(columns = 'tube_assembly_id')\n",
    "    return X"
   ]
  },
  {
   "cell_type": "code",
   "execution_count": 68,
   "metadata": {},
   "outputs": [],
   "source": [
    "#function to merge all data\n",
    "def mash(X):\n",
    "    X = X.copy()\n",
    "    for k,v in df_dict.items():\n",
    "        #determine if columns share values\n",
    "        shared_columns = set(X.columns) & set(v.columns)\n",
    "        #if so merge\n",
    "        if shared_columns:\n",
    "            X = X.merge(v, how = 'left')\n",
    "    #drop columns that contain NA for now\n",
    "    X = X.dropna(axis = 1)        \n",
    "    return X"
   ]
  },
  {
   "cell_type": "code",
   "execution_count": 73,
   "metadata": {},
   "outputs": [],
   "source": [
    "#wrangle data and pop targets\n",
    "y_train = train.pop('cost')\n",
    "y_val = val.pop('cost')\n",
    "train_wrangled = wrangle(train)\n",
    "val_wrangled = wrangle(val)\n",
    "test_wrangled = wrangle(test)"
   ]
  },
  {
   "cell_type": "code",
   "execution_count": 83,
   "metadata": {},
   "outputs": [],
   "source": [
    "#drop these columns to match train dimensions\n",
    "test_wrangled = test_wrangled.drop(columns = ['quote_date', 'id'])"
   ]
  },
  {
   "cell_type": "code",
   "execution_count": 74,
   "metadata": {},
   "outputs": [
    {
     "name": "stdout",
     "output_type": "stream",
     "text": [
      "Score = 0.34739243984751667\n"
     ]
    }
   ],
   "source": [
    "import category_encoders as ce\n",
    "from sklearn.pipeline import make_pipeline\n",
    "\n",
    "#make pipeline to encode and model data\n",
    "pipeline = make_pipeline(ce.OrdinalEncoder(),\n",
    "                        RandomForestRegressor(n_estimators = 150,\n",
    "                                             max_depth = 20,\n",
    "                                             n_jobs = -1))\n",
    "#fit data and get score\n",
    "pipeline.fit(train_wrangled, y_train)\n",
    "y_pred = pipeline.predict(val_wrangled)\n",
    "rmsle(y_pred, y_val)"
   ]
  },
  {
   "cell_type": "code",
   "execution_count": 93,
   "metadata": {},
   "outputs": [],
   "source": [
    "def submission(test, attempt):   \n",
    "    attempt = 'submission-' + str(attempt) + '.csv'\n",
    "    sample_submission = pd.read_csv('sample_submission.csv')\n",
    "    submission = sample_submission.copy()\n",
    "    submission['cost'] = pipeline.predict(test)\n",
    "    submission.to_csv(attempt, index=False)"
   ]
  },
  {
   "cell_type": "code",
   "execution_count": 92,
   "metadata": {},
   "outputs": [
    {
     "data": {
      "text/plain": [
       "'submission-4.csv'"
      ]
     },
     "execution_count": 92,
     "metadata": {},
     "output_type": "execute_result"
    }
   ],
   "source": []
  }
 ],
 "metadata": {
  "kernelspec": {
   "display_name": "Python 3",
   "language": "python",
   "name": "python3"
  },
  "language_info": {
   "codemirror_mode": {
    "name": "ipython",
    "version": 3
   },
   "file_extension": ".py",
   "mimetype": "text/x-python",
   "name": "python",
   "nbconvert_exporter": "python",
   "pygments_lexer": "ipython3",
   "version": "3.7.3"
  }
 },
 "nbformat": 4,
 "nbformat_minor": 2
}
