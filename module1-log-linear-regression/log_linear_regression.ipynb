{
  "nbformat": 4,
  "nbformat_minor": 0,
  "metadata": {
    "colab": {
      "name": "log_linear_regression.ipynb",
      "version": "0.3.2",
      "provenance": [],
      "collapsed_sections": [
        "oHzoyXgcHL6u",
        "Om5LVgmqHL6v"
      ],
      "include_colab_link": true
    },
    "language_info": {
      "codemirror_mode": {
        "name": "ipython",
        "version": 3
      },
      "file_extension": ".py",
      "mimetype": "text/x-python",
      "name": "python",
      "nbconvert_exporter": "python",
      "pygments_lexer": "ipython3",
      "version": "3.7.1"
    },
    "kernelspec": {
      "display_name": "Python 3",
      "language": "python",
      "name": "python3"
    }
  },
  "cells": [
    {
      "cell_type": "markdown",
      "metadata": {
        "id": "view-in-github",
        "colab_type": "text"
      },
      "source": [
        "<a href=\"https://colab.research.google.com/github/Nov05/DS-Unit-2-Applied-Modeling/blob/master/module1-log-linear-regression/log_linear_regression.ipynb\" target=\"_parent\"><img src=\"https://colab.research.google.com/assets/colab-badge.svg\" alt=\"Open In Colab\"/></a>"
      ]
    },
    {
      "cell_type": "code",
      "metadata": {
        "id": "CjgW5k0GCTGM",
        "colab_type": "code",
        "colab": {}
      },
      "source": [
        "# modified by nov05 on 2019-07-22\n",
        "# Week 8 Day 1\n",
        "# DS-Unit-2-Applied-Modeling  \n",
        "# module1-log-linear-regression/"
      ],
      "execution_count": 0,
      "outputs": []
    },
    {
      "cell_type": "markdown",
      "metadata": {
        "id": "yIFwiSHUCZkH",
        "colab_type": "text"
      },
      "source": [
        "Instruction Notebook  \n",
        "https://colab.research.google.com/drive/1zpRTgVoTT2J8vkC3EQ4QMAnFDjZ5Qv7z  "
      ]
    },
    {
      "cell_type": "code",
      "metadata": {
        "id": "WCgR7ARKPWR9",
        "colab_type": "code",
        "colab": {}
      },
      "source": [
        "!pip install --upgrade pandas-profiling\n",
        "!pip install category_encoders\n",
        "!pip install eli5 pdpbox shap"
      ],
      "execution_count": 0,
      "outputs": []
    },
    {
      "cell_type": "code",
      "metadata": {
        "id": "ICmiHHvpd6sx",
        "colab_type": "code",
        "colab": {}
      },
      "source": [
        "import pandas as pd\n",
        "import numpy as np\n",
        "import matplotlib.pyplot as plt\n",
        "import seaborn as sns\n",
        "import pandas_profiling\n",
        "import datetime as dt\n",
        "from itertools import chain\n",
        "from random import randint\n",
        "import shap\n",
        "\n",
        "import sklearn\n",
        "from sklearn import datasets\n",
        "\n",
        "from sklearn import linear_model\n",
        "from sklearn.linear_model import LogisticRegression\n",
        "from sklearn.tree import DecisionTreeRegressor, DecisionTreeClassifier\n",
        "from sklearn.neighbors import KNeighborsClassifier, KNeighborsRegressor\n",
        "from sklearn.ensemble import AdaBoostClassifier, AdaBoostRegressor, \\\n",
        "     ExtraTreesClassifier, ExtraTreesRegressor, \\\n",
        "     GradientBoostingClassifier, GradientBoostingRegressor, \\\n",
        "     RandomForestClassifier, RandomForestRegressor\n",
        "from sklearn.model_selection import train_test_split, \\\n",
        "     GridSearchCV, cross_val_score, validation_curve, \\\n",
        "     RandomizedSearchCV\n",
        "from sklearn.decomposition import PCA, TruncatedSVD\n",
        "from sklearn.svm import SVC, LinearSVC, NuSVC\n",
        "\n",
        "from sklearn.metrics import mean_absolute_error, \\\n",
        "     mean_squared_error, mean_squared_log_error, \\\n",
        "     accuracy_score, log_loss, r2_score, \\\n",
        "     classification_report, confusion_matrix, \\\n",
        "     roc_auc_score\n",
        "from sklearn.utils.multiclass import unique_labels\n",
        "\n",
        "from sklearn.compose import ColumnTransformer\n",
        "from sklearn.pipeline import Pipeline\n",
        "from sklearn.impute import SimpleImputer\n",
        "from sklearn.preprocessing import StandardScaler, \\\n",
        "     OneHotEncoder, OrdinalEncoder, LabelEncoder\n",
        "\n",
        "import category_encoders as ce\n",
        "from category_encoders.binary import BinaryEncoder \n",
        "\n",
        "import xgboost as xgb\n",
        "from xgboost import XGBClassifier, XGBRegressor\n",
        "\n",
        "import eli5\n",
        "from eli5.sklearn import PermutationImportance\n",
        "\n",
        "from pdpbox.pdp import pdp_isolate, pdp_plot\n",
        "\n",
        "%matplotlib inline\n",
        "import warnings\n",
        "warnings.filterwarnings('ignore')   "
      ],
      "execution_count": 0,
      "outputs": []
    },
    {
      "cell_type": "code",
      "metadata": {
        "id": "ZVDNhT1uPlFd",
        "colab_type": "code",
        "outputId": "c6e2b99e-84b1-41d4-ed08-7ec168a0b9df",
        "colab": {
          "base_uri": "https://localhost:8080/",
          "height": 123
        }
      },
      "source": [
        "!python --version\n",
        "print(\"pandas_profiling\", pandas_profiling.__version__)  \n",
        "print(\"category_encoders\", ce.__version__)  \n",
        "print(\"pandas\", pd.__version__)  \n",
        "print(\"sklearn\", sklearn.__version__)  \n",
        "print(\"SHAP\", shap.__version__)"
      ],
      "execution_count": 11,
      "outputs": [
        {
          "output_type": "stream",
          "text": [
            "Python 3.6.8\n",
            "pandas_profiling 2.2.0\n",
            "category_encoders 2.0.0\n",
            "pandas 0.24.2\n",
            "sklearn 0.21.2\n",
            "SHAP 0.29.3\n"
          ],
          "name": "stdout"
        }
      ]
    },
    {
      "cell_type": "code",
      "metadata": {
        "id": "K04Lvfub4Oe1",
        "colab_type": "code",
        "colab": {}
      },
      "source": [
        "def rmsle(y_true, y_pred):\n",
        "    return np.sqrt(mean_squared_log_error(y_true, y_pred))\n",
        "  \n",
        "def rmse(y_true, y_pred):\n",
        "    return np.sqrt(mean_squared_error(y_true, y_pred))"
      ],
      "execution_count": 0,
      "outputs": []
    },
    {
      "cell_type": "markdown",
      "metadata": {
        "id": "OisISGg7HL6R",
        "colab_type": "text"
      },
      "source": [
        "_Lambda School Data Science — Regression 2_ \n",
        "\n",
        "This sprint, your project is Caterpillar Tube Pricing: Predict the prices suppliers will quote for industrial tube assemblies.\n",
        "\n",
        "# Log-Linear Regression, Feature Engineering\n",
        "\n",
        "\n",
        "#### Objectives\n",
        "- log-transform regression target with right-skewed distribution\n",
        "- use regression metric: RMSLE\n",
        "- do feature engineering with relational data"
      ]
    },
    {
      "cell_type": "markdown",
      "metadata": {
        "id": "Hzm3V46_HL6T",
        "colab_type": "text"
      },
      "source": [
        "## Process\n",
        "\n",
        "#### Francois Chollet, [Deep Learning with Python](https://github.com/fchollet/deep-learning-with-python-notebooks/blob/master/README.md), Chapter 4: Fundamentals of machine learning, \"A universal workflow of machine learning\"\n",
        " \n",
        "> **1. Define the problem at hand and the data on which you’ll train.** Collect this data, or annotate it with labels if need be.\n",
        "\n",
        "> **2. Choose how you’ll measure success on your problem.** Which metrics will you monitor on your validation data?\n",
        "\n",
        "> **3. Determine your evaluation protocol:** hold-out validation? K-fold validation? Which portion of the data should you use for validation?\n",
        "\n",
        "> **4. Develop a first model that does better than a basic baseline:** a model with statistical power.\n",
        "\n",
        "> **5. Develop a model that overfits.** The universal tension in machine learning is between optimization and generalization; the ideal model is one that stands right at the border between underfitting and overfitting; between undercapacity and overcapacity. To figure out where this border lies, first you must cross it.\n",
        "\n",
        "> **6. Regularize your model and tune its hyperparameters, based on performance on the validation data.** Repeatedly modify your model, train it, evaluate on your validation data (not the test data, at this point), modify it again, and repeat, until the model is as good as it can get. \n",
        "\n",
        "> **Iterate on feature engineering: add new features, or remove features that don’t seem to be informative.** Once you’ve developed a satisfactory model configuration, you can train your final production model on all the available data (training and validation) and evaluate it one last time on the test set.\n"
      ]
    },
    {
      "cell_type": "markdown",
      "metadata": {
        "id": "k792L1ItHL6U",
        "colab_type": "text"
      },
      "source": [
        "## Define the problem 🚜\n",
        "\n",
        "#### [Description](https://www.kaggle.com/c/caterpillar-tube-pricing/overview/description)\n",
        "\n",
        "> Like snowflakes, it's difficult to find two tubes in Caterpillar's diverse catalogue of machinery that are exactly alike. Tubes can vary across a number of dimensions, including base materials, number of bends, bend radius, bolt patterns, and end types.\n",
        "\n",
        "> Currently, Caterpillar relies on a variety of suppliers to manufacture these tube assemblies, each having their own unique pricing model. This competition provides detailed tube, component, and annual volume datasets, and challenges you to predict the price a supplier will quote for a given tube assembly. \n",
        "\n",
        "\n"
      ]
    },
    {
      "cell_type": "markdown",
      "metadata": {
        "id": "UgNzQlgnHL6V",
        "colab_type": "text"
      },
      "source": [
        "## Define the data on which you'll train\n",
        "\n",
        "#### [Data Description](https://www.kaggle.com/c/caterpillar-tube-pricing/data)\n",
        "\n",
        "> The dataset is comprised of a large number of relational tables that describe the physical properties of tube assemblies. You are challenged to combine the characteristics of each tube assembly with supplier pricing dynamics in order to forecast a quote price for each tube. The quote price is labeled as cost in the data.\n"
      ]
    },
    {
      "cell_type": "markdown",
      "metadata": {
        "id": "ECT6GwrnHL6V",
        "colab_type": "text"
      },
      "source": [
        "## Get data\n",
        "\n",
        "\n",
        "### Option 1. Kaggle web UI\n",
        " \n",
        "Sign in to Kaggle and go to the [Caterpillar Tube Pricing](https://www.kaggle.com/c/caterpillar-tube-pricing) competition. Go to the Data page. After you have accepted the rules of the competition, use the download buttons to download the data.\n",
        "\n",
        "\n",
        "### Option 2. Kaggle API\n",
        "\n",
        "1. [Follow these instructions](https://github.com/Kaggle/kaggle-api#api-credentials) to create a Kaggle “API Token” and download your `kaggle.json` file.\n",
        "\n",
        "2. Put `kaggle.json` in the correct location.\n",
        "\n",
        "  - If you're using Anaconda, put the file in the directory specified in the [instructions](https://github.com/Kaggle/kaggle-api#api-credentials).\n",
        "\n",
        "  - If you're using Google Colab, upload the file to your Google Drive, and run this cell:\n",
        "\n",
        "  ```\n",
        "  from google.colab import drive\n",
        "  drive.mount('/content/drive')\n",
        "  %env KAGGLE_CONFIG_DIR=/content/drive/My Drive/\n",
        "  ```\n",
        "\n",
        "3. Install the Kaggle API package.\n",
        "```\n",
        "pip install kaggle\n",
        "```\n",
        "\n",
        "4. After you have accepted the rules of the competiton, use the Kaggle API package to get the data.\n",
        "```\n",
        "kaggle competitions download -c caterpillar-tube-pricing\n",
        "```\n",
        "\n",
        "### Option 3. GitHub Repo\n",
        "\n",
        "Get the zip file from the [GitHub repo](https://github.com/LambdaSchool/DS-Unit-2-Applied-Modeling/tree/master/data/caterpillar), by cloning locally, or downloading directly from the web."
      ]
    },
    {
      "cell_type": "code",
      "metadata": {
        "id": "VriThqfw7sBw",
        "colab_type": "code",
        "colab": {}
      },
      "source": [
        "!wget https://raw.githubusercontent.com/LambdaSchool/DS-Unit-2-Applied-Modeling/master/data/caterpillar/caterpillar-tube-pricing.zip\n",
        "!unzip caterpillar-tube-pricing.zip\n",
        "!unzip data.zip"
      ],
      "execution_count": 0,
      "outputs": []
    },
    {
      "cell_type": "markdown",
      "metadata": {
        "id": "_aKl93NNHL6c",
        "colab_type": "text"
      },
      "source": [
        "#### Get filenames & shapes\n",
        "\n",
        "[Python Standard Library: glob](https://docs.python.org/3/library/glob.html)\n",
        "\n",
        "> The `glob` module finds all the pathnames matching a specified pattern"
      ]
    },
    {
      "cell_type": "code",
      "metadata": {
        "id": "_Tj2AaOmHL6c",
        "colab_type": "code",
        "outputId": "07fe8c28-4e1f-4b56-a69b-b8000695772a",
        "colab": {
          "base_uri": "https://localhost:8080/",
          "height": 387
        }
      },
      "source": [
        "from glob import glob\n",
        "import pandas as pd\n",
        "\n",
        "for path in glob('competition_data/*.csv'):\n",
        "    df = pd.read_csv(path)\n",
        "    print(path, df.shape)"
      ],
      "execution_count": 13,
      "outputs": [
        {
          "output_type": "stream",
          "text": [
            "competition_data/test_set.csv (30235, 8)\n",
            "competition_data/comp_adaptor.csv (25, 20)\n",
            "competition_data/comp_elbow.csv (178, 16)\n",
            "competition_data/train_set.csv (30213, 8)\n",
            "competition_data/comp_other.csv (1001, 3)\n",
            "competition_data/comp_float.csv (16, 7)\n",
            "competition_data/components.csv (2048, 3)\n",
            "competition_data/type_connection.csv (14, 2)\n",
            "competition_data/comp_nut.csv (65, 11)\n",
            "competition_data/comp_tee.csv (4, 14)\n",
            "competition_data/type_end_form.csv (8, 2)\n",
            "competition_data/bill_of_materials.csv (21198, 17)\n",
            "competition_data/comp_straight.csv (361, 12)\n",
            "competition_data/specs.csv (21198, 11)\n",
            "competition_data/tube_end_form.csv (27, 2)\n",
            "competition_data/comp_sleeve.csv (50, 10)\n",
            "competition_data/comp_hfl.csv (6, 9)\n",
            "competition_data/type_component.csv (29, 2)\n",
            "competition_data/tube.csv (21198, 16)\n",
            "competition_data/comp_threaded.csv (194, 32)\n",
            "competition_data/comp_boss.csv (147, 15)\n"
          ],
          "name": "stdout"
        }
      ]
    },
    {
      "cell_type": "code",
      "metadata": {
        "id": "jzFg11H0TmKP",
        "colab_type": "code",
        "outputId": "b7c66297-94d9-40e6-fc15-bbe1614ef6e9",
        "colab": {
          "base_uri": "https://localhost:8080/",
          "height": 407
        }
      },
      "source": [
        "for path in glob('competition_data/*.csv'):\n",
        "    df = pd.read_csv(path)\n",
        "    print(path.strip('competition_data'), '\\t', df.shape[1], '\\t', df.columns.to_list())"
      ],
      "execution_count": 14,
      "outputs": [
        {
          "output_type": "stream",
          "text": [
            "/test_set.csv \t 8 \t ['id', 'tube_assembly_id', 'supplier', 'quote_date', 'annual_usage', 'min_order_quantity', 'bracket_pricing', 'quantity']\n",
            "/comp_adaptor.csv \t 20 \t ['component_id', 'component_type_id', 'adaptor_angle', 'overall_length', 'end_form_id_1', 'connection_type_id_1', 'length_1', 'thread_size_1', 'thread_pitch_1', 'nominal_size_1', 'end_form_id_2', 'connection_type_id_2', 'length_2', 'thread_size_2', 'thread_pitch_2', 'nominal_size_2', 'hex_size', 'unique_feature', 'orientation', 'weight']\n",
            "/comp_elbow.csv \t 16 \t ['component_id', 'component_type_id', 'bolt_pattern_long', 'bolt_pattern_wide', 'extension_length', 'overall_length', 'thickness', 'drop_length', 'elbow_angle', 'mj_class_code', 'mj_plug_class_code', 'plug_diameter', 'groove', 'unique_feature', 'orientation', 'weight']\n",
            "/train_set.csv \t 8 \t ['tube_assembly_id', 'supplier', 'quote_date', 'annual_usage', 'min_order_quantity', 'bracket_pricing', 'quantity', 'cost']\n",
            "/comp_other.csv \t 3 \t ['component_id', 'part_name', 'weight']\n",
            "/comp_float.csv \t 7 \t ['component_id', 'component_type_id', 'bolt_pattern_long', 'bolt_pattern_wide', 'thickness', 'orientation', 'weight']\n",
            "/components.csv \t 3 \t ['component_id', 'name', 'component_type_id']\n",
            "/type_connection.csv \t 2 \t ['connection_type_id', 'name']\n",
            "/comp_nut.csv \t 11 \t ['component_id', 'component_type_id', 'hex_nut_size', 'seat_angle', 'length', 'thread_size', 'thread_pitch', 'diameter', 'blind_hole', 'orientation', 'weight']\n",
            "/comp_tee.csv \t 14 \t ['component_id', 'component_type_id', 'bolt_pattern_long', 'bolt_pattern_wide', 'extension_length', 'overall_length', 'thickness', 'drop_length', 'mj_class_code', 'mj_plug_class_code', 'groove', 'unique_feature', 'orientation', 'weight']\n",
            "/type_end_form.csv \t 2 \t ['end_form_id', 'name']\n",
            "/bill_of_materials.csv \t 17 \t ['tube_assembly_id', 'component_id_1', 'quantity_1', 'component_id_2', 'quantity_2', 'component_id_3', 'quantity_3', 'component_id_4', 'quantity_4', 'component_id_5', 'quantity_5', 'component_id_6', 'quantity_6', 'component_id_7', 'quantity_7', 'component_id_8', 'quantity_8']\n",
            "/comp_straight.csv \t 12 \t ['component_id', 'component_type_id', 'bolt_pattern_long', 'bolt_pattern_wide', 'head_diameter', 'overall_length', 'thickness', 'mj_class_code', 'groove', 'unique_feature', 'orientation', 'weight']\n",
            "/specs.csv \t 11 \t ['tube_assembly_id', 'spec1', 'spec2', 'spec3', 'spec4', 'spec5', 'spec6', 'spec7', 'spec8', 'spec9', 'spec10']\n",
            "/tube_end_form.csv \t 2 \t ['end_form_id', 'forming']\n",
            "/comp_sleeve.csv \t 10 \t ['component_id', 'component_type_id', 'connection_type_id', 'length', 'intended_nut_thread', 'intended_nut_pitch', 'unique_feature', 'plating', 'orientation', 'weight']\n",
            "/comp_hfl.csv \t 9 \t ['component_id', 'component_type_id', 'hose_diameter', 'corresponding_shell', 'coupling_class', 'material', 'plating', 'orientation', 'weight']\n",
            "/type_component.csv \t 2 \t ['component_type_id', 'name']\n",
            "/tube.csv \t 16 \t ['tube_assembly_id', 'material_id', 'diameter', 'wall', 'length', 'num_bends', 'bend_radius', 'end_a_1x', 'end_a_2x', 'end_x_1x', 'end_x_2x', 'end_a', 'end_x', 'num_boss', 'num_bracket', 'other']\n",
            "/comp_threaded.csv \t 32 \t ['component_id', 'component_type_id', 'adaptor_angle', 'overall_length', 'hex_size', 'end_form_id_1', 'connection_type_id_1', 'length_1', 'thread_size_1', 'thread_pitch_1', 'nominal_size_1', 'end_form_id_2', 'connection_type_id_2', 'length_2', 'thread_size_2', 'thread_pitch_2', 'nominal_size_2', 'end_form_id_3', 'connection_type_id_3', 'length_3', 'thread_size_3', 'thread_pitch_3', 'nominal_size_3', 'end_form_id_4', 'connection_type_id_4', 'length_4', 'thread_size_4', 'thread_pitch_4', 'nominal_size_4', 'unique_feature', 'orientation', 'weight']\n",
            "/comp_boss.csv \t 15 \t ['component_id', 'component_type_id', 'type', 'connection_type_id', 'outside_shape', 'base_type', 'height_over_tube', 'bolt_pattern_long', 'bolt_pattern_wide', 'groove', 'base_diameter', 'shoulder_diameter', 'unique_feature', 'orientation', 'weight']\n"
          ],
          "name": "stdout"
        }
      ]
    },
    {
      "cell_type": "markdown",
      "metadata": {
        "id": "CxFid8L7HL6e",
        "colab_type": "text"
      },
      "source": [
        "##  Choose how you'll measure success on your problem\n",
        "\n",
        "> Which metrics will you monitor on your validation data?\n",
        "\n",
        "#### [Evaluation](https://www.kaggle.com/c/caterpillar-tube-pricing/overview/evaluation)\n",
        "\n",
        "> Submissions are evaluated one the **Root Mean Squared Logarithmic Error (RMSLE)**. The RMSLE is calculated as\n",
        ">\n",
        "> $\\sqrt{\\frac{1}{n} \\sum_{i=1}^{n}\\left(\\log \\left(p_{i}+1\\right)-\\log \\left(a_{i}+1\\right)\\right)^{2}}$\n",
        ">\n",
        "> Where:\n",
        ">\n",
        "> - $n$ is the number of price quotes in the test set\n",
        "> - $p_i$ is your predicted price\n",
        "> - $a_i$ is the actual price\n",
        "> - $log(x)$ is the natural logarithm\n",
        "\n",
        "#### [Scikit-Learn User Guide](https://scikit-learn.org/stable/modules/model_evaluation.html#mean-squared-log-error)\n",
        "\n",
        "> The `mean_squared_log_error` function is best to use when targets have exponential growth, such as population counts, average sales of a commodity over a span of years etc. Note that this metric penalizes an under-predicted estimate greater than an over-predicted estimate."
      ]
    },
    {
      "cell_type": "code",
      "metadata": {
        "id": "Dnc8Mr_hHL6f",
        "colab_type": "code",
        "colab": {}
      },
      "source": [
        "# def rmsle(y_true, y_pred):\n",
        "#     return np.sqrt(mean_squared_log_error(y_true, y_pred))"
      ],
      "execution_count": 0,
      "outputs": []
    },
    {
      "cell_type": "markdown",
      "metadata": {
        "id": "2iVqdvmBHL6g",
        "colab_type": "text"
      },
      "source": [
        "## Determine your evaluation protocol\n",
        "\n",
        "> Which portion of the data should you use for validation?\n",
        "\n",
        "#### Rachel Thomas, [How (and why) to create a good validation set](https://www.fast.ai/2017/11/13/validation-sets/)\n",
        "\n",
        "> You will want to create your own training and validation sets (by splitting the Kaggle “training” data). You will just use your smaller training set (a subset of Kaggle’s training data) for building your model, and you can evaluate it on your validation set (also a subset of Kaggle’s training data) before you submit to Kaggle.\n",
        "\n",
        "> When is a random subset not good enough?\n",
        "> - Time series\n",
        "> - New people, new boats, new…"
      ]
    },
    {
      "cell_type": "markdown",
      "metadata": {
        "id": "RZ6M5XXPHL6h",
        "colab_type": "text"
      },
      "source": [
        "#### Does the test set have different dates?"
      ]
    },
    {
      "cell_type": "code",
      "metadata": {
        "id": "UVh48zH-HL6h",
        "colab_type": "code",
        "colab": {}
      },
      "source": [
        "trainval = pd.read_csv('competition_data/train_set.csv')\n",
        "test = pd.read_csv('competition_data/test_set.csv')"
      ],
      "execution_count": 0,
      "outputs": []
    },
    {
      "cell_type": "code",
      "metadata": {
        "id": "MFduPwn2fxXe",
        "colab_type": "code",
        "outputId": "d863325b-bfa7-4d60-980b-73a9a153cb7d",
        "colab": {
          "base_uri": "https://localhost:8080/",
          "height": 357
        }
      },
      "source": [
        "trainval.head(10)"
      ],
      "execution_count": 17,
      "outputs": [
        {
          "output_type": "execute_result",
          "data": {
            "text/html": [
              "<div>\n",
              "<style scoped>\n",
              "    .dataframe tbody tr th:only-of-type {\n",
              "        vertical-align: middle;\n",
              "    }\n",
              "\n",
              "    .dataframe tbody tr th {\n",
              "        vertical-align: top;\n",
              "    }\n",
              "\n",
              "    .dataframe thead th {\n",
              "        text-align: right;\n",
              "    }\n",
              "</style>\n",
              "<table border=\"1\" class=\"dataframe\">\n",
              "  <thead>\n",
              "    <tr style=\"text-align: right;\">\n",
              "      <th></th>\n",
              "      <th>tube_assembly_id</th>\n",
              "      <th>supplier</th>\n",
              "      <th>quote_date</th>\n",
              "      <th>annual_usage</th>\n",
              "      <th>min_order_quantity</th>\n",
              "      <th>bracket_pricing</th>\n",
              "      <th>quantity</th>\n",
              "      <th>cost</th>\n",
              "    </tr>\n",
              "  </thead>\n",
              "  <tbody>\n",
              "    <tr>\n",
              "      <th>0</th>\n",
              "      <td>TA-00002</td>\n",
              "      <td>S-0066</td>\n",
              "      <td>2013-07-07</td>\n",
              "      <td>0</td>\n",
              "      <td>0</td>\n",
              "      <td>Yes</td>\n",
              "      <td>1</td>\n",
              "      <td>21.905933</td>\n",
              "    </tr>\n",
              "    <tr>\n",
              "      <th>1</th>\n",
              "      <td>TA-00002</td>\n",
              "      <td>S-0066</td>\n",
              "      <td>2013-07-07</td>\n",
              "      <td>0</td>\n",
              "      <td>0</td>\n",
              "      <td>Yes</td>\n",
              "      <td>2</td>\n",
              "      <td>12.341214</td>\n",
              "    </tr>\n",
              "    <tr>\n",
              "      <th>2</th>\n",
              "      <td>TA-00002</td>\n",
              "      <td>S-0066</td>\n",
              "      <td>2013-07-07</td>\n",
              "      <td>0</td>\n",
              "      <td>0</td>\n",
              "      <td>Yes</td>\n",
              "      <td>5</td>\n",
              "      <td>6.601826</td>\n",
              "    </tr>\n",
              "    <tr>\n",
              "      <th>3</th>\n",
              "      <td>TA-00002</td>\n",
              "      <td>S-0066</td>\n",
              "      <td>2013-07-07</td>\n",
              "      <td>0</td>\n",
              "      <td>0</td>\n",
              "      <td>Yes</td>\n",
              "      <td>10</td>\n",
              "      <td>4.687770</td>\n",
              "    </tr>\n",
              "    <tr>\n",
              "      <th>4</th>\n",
              "      <td>TA-00002</td>\n",
              "      <td>S-0066</td>\n",
              "      <td>2013-07-07</td>\n",
              "      <td>0</td>\n",
              "      <td>0</td>\n",
              "      <td>Yes</td>\n",
              "      <td>25</td>\n",
              "      <td>3.541561</td>\n",
              "    </tr>\n",
              "    <tr>\n",
              "      <th>5</th>\n",
              "      <td>TA-00002</td>\n",
              "      <td>S-0066</td>\n",
              "      <td>2013-07-07</td>\n",
              "      <td>0</td>\n",
              "      <td>0</td>\n",
              "      <td>Yes</td>\n",
              "      <td>50</td>\n",
              "      <td>3.224406</td>\n",
              "    </tr>\n",
              "    <tr>\n",
              "      <th>6</th>\n",
              "      <td>TA-00002</td>\n",
              "      <td>S-0066</td>\n",
              "      <td>2013-07-07</td>\n",
              "      <td>0</td>\n",
              "      <td>0</td>\n",
              "      <td>Yes</td>\n",
              "      <td>100</td>\n",
              "      <td>3.082521</td>\n",
              "    </tr>\n",
              "    <tr>\n",
              "      <th>7</th>\n",
              "      <td>TA-00002</td>\n",
              "      <td>S-0066</td>\n",
              "      <td>2013-07-07</td>\n",
              "      <td>0</td>\n",
              "      <td>0</td>\n",
              "      <td>Yes</td>\n",
              "      <td>250</td>\n",
              "      <td>2.999060</td>\n",
              "    </tr>\n",
              "    <tr>\n",
              "      <th>8</th>\n",
              "      <td>TA-00004</td>\n",
              "      <td>S-0066</td>\n",
              "      <td>2013-07-07</td>\n",
              "      <td>0</td>\n",
              "      <td>0</td>\n",
              "      <td>Yes</td>\n",
              "      <td>1</td>\n",
              "      <td>21.972702</td>\n",
              "    </tr>\n",
              "    <tr>\n",
              "      <th>9</th>\n",
              "      <td>TA-00004</td>\n",
              "      <td>S-0066</td>\n",
              "      <td>2013-07-07</td>\n",
              "      <td>0</td>\n",
              "      <td>0</td>\n",
              "      <td>Yes</td>\n",
              "      <td>2</td>\n",
              "      <td>12.407983</td>\n",
              "    </tr>\n",
              "  </tbody>\n",
              "</table>\n",
              "</div>"
            ],
            "text/plain": [
              "  tube_assembly_id supplier  quote_date  ...  bracket_pricing  quantity       cost\n",
              "0         TA-00002   S-0066  2013-07-07  ...              Yes         1  21.905933\n",
              "1         TA-00002   S-0066  2013-07-07  ...              Yes         2  12.341214\n",
              "2         TA-00002   S-0066  2013-07-07  ...              Yes         5   6.601826\n",
              "3         TA-00002   S-0066  2013-07-07  ...              Yes        10   4.687770\n",
              "4         TA-00002   S-0066  2013-07-07  ...              Yes        25   3.541561\n",
              "5         TA-00002   S-0066  2013-07-07  ...              Yes        50   3.224406\n",
              "6         TA-00002   S-0066  2013-07-07  ...              Yes       100   3.082521\n",
              "7         TA-00002   S-0066  2013-07-07  ...              Yes       250   2.999060\n",
              "8         TA-00004   S-0066  2013-07-07  ...              Yes         1  21.972702\n",
              "9         TA-00004   S-0066  2013-07-07  ...              Yes         2  12.407983\n",
              "\n",
              "[10 rows x 8 columns]"
            ]
          },
          "metadata": {
            "tags": []
          },
          "execution_count": 17
        }
      ]
    },
    {
      "cell_type": "code",
      "metadata": {
        "id": "pak7BYU4fyyq",
        "colab_type": "code",
        "outputId": "488be024-a908-40f8-de88-f53618cdf8e9",
        "colab": {
          "base_uri": "https://localhost:8080/",
          "height": 357
        }
      },
      "source": [
        "test.head(10)"
      ],
      "execution_count": 18,
      "outputs": [
        {
          "output_type": "execute_result",
          "data": {
            "text/html": [
              "<div>\n",
              "<style scoped>\n",
              "    .dataframe tbody tr th:only-of-type {\n",
              "        vertical-align: middle;\n",
              "    }\n",
              "\n",
              "    .dataframe tbody tr th {\n",
              "        vertical-align: top;\n",
              "    }\n",
              "\n",
              "    .dataframe thead th {\n",
              "        text-align: right;\n",
              "    }\n",
              "</style>\n",
              "<table border=\"1\" class=\"dataframe\">\n",
              "  <thead>\n",
              "    <tr style=\"text-align: right;\">\n",
              "      <th></th>\n",
              "      <th>id</th>\n",
              "      <th>tube_assembly_id</th>\n",
              "      <th>supplier</th>\n",
              "      <th>quote_date</th>\n",
              "      <th>annual_usage</th>\n",
              "      <th>min_order_quantity</th>\n",
              "      <th>bracket_pricing</th>\n",
              "      <th>quantity</th>\n",
              "    </tr>\n",
              "  </thead>\n",
              "  <tbody>\n",
              "    <tr>\n",
              "      <th>0</th>\n",
              "      <td>1</td>\n",
              "      <td>TA-00001</td>\n",
              "      <td>S-0066</td>\n",
              "      <td>2013-06-23</td>\n",
              "      <td>0</td>\n",
              "      <td>0</td>\n",
              "      <td>Yes</td>\n",
              "      <td>1</td>\n",
              "    </tr>\n",
              "    <tr>\n",
              "      <th>1</th>\n",
              "      <td>2</td>\n",
              "      <td>TA-00001</td>\n",
              "      <td>S-0066</td>\n",
              "      <td>2013-06-23</td>\n",
              "      <td>0</td>\n",
              "      <td>0</td>\n",
              "      <td>Yes</td>\n",
              "      <td>2</td>\n",
              "    </tr>\n",
              "    <tr>\n",
              "      <th>2</th>\n",
              "      <td>3</td>\n",
              "      <td>TA-00001</td>\n",
              "      <td>S-0066</td>\n",
              "      <td>2013-06-23</td>\n",
              "      <td>0</td>\n",
              "      <td>0</td>\n",
              "      <td>Yes</td>\n",
              "      <td>5</td>\n",
              "    </tr>\n",
              "    <tr>\n",
              "      <th>3</th>\n",
              "      <td>4</td>\n",
              "      <td>TA-00001</td>\n",
              "      <td>S-0066</td>\n",
              "      <td>2013-06-23</td>\n",
              "      <td>0</td>\n",
              "      <td>0</td>\n",
              "      <td>Yes</td>\n",
              "      <td>10</td>\n",
              "    </tr>\n",
              "    <tr>\n",
              "      <th>4</th>\n",
              "      <td>5</td>\n",
              "      <td>TA-00001</td>\n",
              "      <td>S-0066</td>\n",
              "      <td>2013-06-23</td>\n",
              "      <td>0</td>\n",
              "      <td>0</td>\n",
              "      <td>Yes</td>\n",
              "      <td>25</td>\n",
              "    </tr>\n",
              "    <tr>\n",
              "      <th>5</th>\n",
              "      <td>6</td>\n",
              "      <td>TA-00001</td>\n",
              "      <td>S-0066</td>\n",
              "      <td>2013-06-23</td>\n",
              "      <td>0</td>\n",
              "      <td>0</td>\n",
              "      <td>Yes</td>\n",
              "      <td>50</td>\n",
              "    </tr>\n",
              "    <tr>\n",
              "      <th>6</th>\n",
              "      <td>7</td>\n",
              "      <td>TA-00001</td>\n",
              "      <td>S-0066</td>\n",
              "      <td>2013-06-23</td>\n",
              "      <td>0</td>\n",
              "      <td>0</td>\n",
              "      <td>Yes</td>\n",
              "      <td>100</td>\n",
              "    </tr>\n",
              "    <tr>\n",
              "      <th>7</th>\n",
              "      <td>8</td>\n",
              "      <td>TA-00001</td>\n",
              "      <td>S-0066</td>\n",
              "      <td>2013-06-23</td>\n",
              "      <td>0</td>\n",
              "      <td>0</td>\n",
              "      <td>Yes</td>\n",
              "      <td>250</td>\n",
              "    </tr>\n",
              "    <tr>\n",
              "      <th>8</th>\n",
              "      <td>9</td>\n",
              "      <td>TA-00003</td>\n",
              "      <td>S-0066</td>\n",
              "      <td>2013-07-07</td>\n",
              "      <td>0</td>\n",
              "      <td>0</td>\n",
              "      <td>Yes</td>\n",
              "      <td>1</td>\n",
              "    </tr>\n",
              "    <tr>\n",
              "      <th>9</th>\n",
              "      <td>10</td>\n",
              "      <td>TA-00003</td>\n",
              "      <td>S-0066</td>\n",
              "      <td>2013-07-07</td>\n",
              "      <td>0</td>\n",
              "      <td>0</td>\n",
              "      <td>Yes</td>\n",
              "      <td>2</td>\n",
              "    </tr>\n",
              "  </tbody>\n",
              "</table>\n",
              "</div>"
            ],
            "text/plain": [
              "   id tube_assembly_id supplier  ... min_order_quantity  bracket_pricing  quantity\n",
              "0   1         TA-00001   S-0066  ...                  0              Yes         1\n",
              "1   2         TA-00001   S-0066  ...                  0              Yes         2\n",
              "2   3         TA-00001   S-0066  ...                  0              Yes         5\n",
              "3   4         TA-00001   S-0066  ...                  0              Yes        10\n",
              "4   5         TA-00001   S-0066  ...                  0              Yes        25\n",
              "5   6         TA-00001   S-0066  ...                  0              Yes        50\n",
              "6   7         TA-00001   S-0066  ...                  0              Yes       100\n",
              "7   8         TA-00001   S-0066  ...                  0              Yes       250\n",
              "8   9         TA-00003   S-0066  ...                  0              Yes         1\n",
              "9  10         TA-00003   S-0066  ...                  0              Yes         2\n",
              "\n",
              "[10 rows x 8 columns]"
            ]
          },
          "metadata": {
            "tags": []
          },
          "execution_count": 18
        }
      ]
    },
    {
      "cell_type": "markdown",
      "metadata": {
        "id": "wsSTVI7pHL6j",
        "colab_type": "text"
      },
      "source": [
        "#### Does the test set have different tube assemblies?"
      ]
    },
    {
      "cell_type": "code",
      "metadata": {
        "id": "t2dAPdALHL6k",
        "colab_type": "code",
        "outputId": "9748e289-ceb1-4488-d90a-e68c5516003f",
        "colab": {
          "base_uri": "https://localhost:8080/",
          "height": 52
        }
      },
      "source": [
        "trainval_tube_assemblies = trainval['tube_assembly_id'].unique()\n",
        "test_tube_assemblies = test['tube_assembly_id'].unique()\n",
        "print(len(trainval_tube_assemblies), len(test_tube_assemblies))\n",
        "set(trainval_tube_assemblies) & set(test_tube_assemblies)"
      ],
      "execution_count": 5,
      "outputs": [
        {
          "output_type": "stream",
          "text": [
            "8855 8856\n"
          ],
          "name": "stdout"
        },
        {
          "output_type": "execute_result",
          "data": {
            "text/plain": [
              "set()"
            ]
          },
          "metadata": {
            "tags": []
          },
          "execution_count": 5
        }
      ]
    },
    {
      "cell_type": "markdown",
      "metadata": {
        "id": "bqMthlakHL6m",
        "colab_type": "text"
      },
      "source": [
        "#### Make the validation set like the test set"
      ]
    },
    {
      "cell_type": "code",
      "metadata": {
        "id": "BJaJDpRUanlm",
        "colab_type": "code",
        "outputId": "451a3918-f89e-49a1-dddf-e07990757b28",
        "colab": {
          "base_uri": "https://localhost:8080/",
          "height": 52
        }
      },
      "source": [
        "trainval_tube_assemblies"
      ],
      "execution_count": 21,
      "outputs": [
        {
          "output_type": "execute_result",
          "data": {
            "text/plain": [
              "array(['TA-00002', 'TA-00004', 'TA-00005', ..., 'TA-21195', 'TA-21196',\n",
              "       'TA-21197'], dtype=object)"
            ]
          },
          "metadata": {
            "tags": []
          },
          "execution_count": 21
        }
      ]
    },
    {
      "cell_type": "code",
      "metadata": {
        "id": "sJdvI9S2on57",
        "colab_type": "code",
        "colab": {
          "base_uri": "https://localhost:8080/",
          "height": 52
        },
        "outputId": "a586a9fb-8cac-49a1-90da-52eb0c180a73"
      },
      "source": [
        "train_tube_assemblies, val_tube_assemblies = train_test_split(\n",
        "    trainval_tube_assemblies, random_state=42\n",
        ")\n",
        "print(len(train_tube_assemblies), len(val_tube_assemblies))\n",
        "set(train_tube_assemblies) & set(val_tube_assemblies)"
      ],
      "execution_count": 6,
      "outputs": [
        {
          "output_type": "stream",
          "text": [
            "6641 2214\n"
          ],
          "name": "stdout"
        },
        {
          "output_type": "execute_result",
          "data": {
            "text/plain": [
              "set()"
            ]
          },
          "metadata": {
            "tags": []
          },
          "execution_count": 6
        }
      ]
    },
    {
      "cell_type": "code",
      "metadata": {
        "id": "t3Ls9EAwpfgN",
        "colab_type": "code",
        "outputId": "09f71f67-8597-431c-98d4-c764b76a6958",
        "colab": {
          "base_uri": "https://localhost:8080/",
          "height": 52
        }
      },
      "source": [
        "train = trainval[trainval.tube_assembly_id.isin(train_tube_assemblies)]\n",
        "val = trainval[trainval.tube_assembly_id.isin(val_tube_assemblies)]\n",
        "print(train.shape, val.shape, trainval.shape)\n",
        "len(train) + len(val) == len(trainval)"
      ],
      "execution_count": 7,
      "outputs": [
        {
          "output_type": "stream",
          "text": [
            "(22628, 8) (7585, 8) (30213, 8)\n"
          ],
          "name": "stdout"
        },
        {
          "output_type": "execute_result",
          "data": {
            "text/plain": [
              "True"
            ]
          },
          "metadata": {
            "tags": []
          },
          "execution_count": 7
        }
      ]
    },
    {
      "cell_type": "markdown",
      "metadata": {
        "id": "VfAbLiPMHL6o",
        "colab_type": "text"
      },
      "source": [
        "## Begin with baselines for regression"
      ]
    },
    {
      "cell_type": "code",
      "metadata": {
        "id": "EkVT9grDHL6p",
        "colab_type": "code",
        "outputId": "07d7ad93-bcbb-471b-fc59-ad05155af50c",
        "colab": {
          "base_uri": "https://localhost:8080/",
          "height": 295
        }
      },
      "source": [
        "train.describe()"
      ],
      "execution_count": 27,
      "outputs": [
        {
          "output_type": "execute_result",
          "data": {
            "text/html": [
              "<div>\n",
              "<style scoped>\n",
              "    .dataframe tbody tr th:only-of-type {\n",
              "        vertical-align: middle;\n",
              "    }\n",
              "\n",
              "    .dataframe tbody tr th {\n",
              "        vertical-align: top;\n",
              "    }\n",
              "\n",
              "    .dataframe thead th {\n",
              "        text-align: right;\n",
              "    }\n",
              "</style>\n",
              "<table border=\"1\" class=\"dataframe\">\n",
              "  <thead>\n",
              "    <tr style=\"text-align: right;\">\n",
              "      <th></th>\n",
              "      <th>annual_usage</th>\n",
              "      <th>min_order_quantity</th>\n",
              "      <th>quantity</th>\n",
              "      <th>cost</th>\n",
              "    </tr>\n",
              "  </thead>\n",
              "  <tbody>\n",
              "    <tr>\n",
              "      <th>count</th>\n",
              "      <td>22628.000000</td>\n",
              "      <td>22628.000000</td>\n",
              "      <td>22628.000000</td>\n",
              "      <td>22628.000000</td>\n",
              "    </tr>\n",
              "    <tr>\n",
              "      <th>mean</th>\n",
              "      <td>116.908830</td>\n",
              "      <td>2.130193</td>\n",
              "      <td>38.267677</td>\n",
              "      <td>13.450500</td>\n",
              "    </tr>\n",
              "    <tr>\n",
              "      <th>std</th>\n",
              "      <td>1678.532065</td>\n",
              "      <td>13.262875</td>\n",
              "      <td>71.313125</td>\n",
              "      <td>27.622252</td>\n",
              "    </tr>\n",
              "    <tr>\n",
              "      <th>min</th>\n",
              "      <td>0.000000</td>\n",
              "      <td>0.000000</td>\n",
              "      <td>1.000000</td>\n",
              "      <td>0.523027</td>\n",
              "    </tr>\n",
              "    <tr>\n",
              "      <th>25%</th>\n",
              "      <td>0.000000</td>\n",
              "      <td>0.000000</td>\n",
              "      <td>2.000000</td>\n",
              "      <td>3.855934</td>\n",
              "    </tr>\n",
              "    <tr>\n",
              "      <th>50%</th>\n",
              "      <td>0.000000</td>\n",
              "      <td>0.000000</td>\n",
              "      <td>10.000000</td>\n",
              "      <td>6.507236</td>\n",
              "    </tr>\n",
              "    <tr>\n",
              "      <th>75%</th>\n",
              "      <td>2.000000</td>\n",
              "      <td>0.000000</td>\n",
              "      <td>40.000000</td>\n",
              "      <td>13.451951</td>\n",
              "    </tr>\n",
              "    <tr>\n",
              "      <th>max</th>\n",
              "      <td>150000.000000</td>\n",
              "      <td>535.000000</td>\n",
              "      <td>2500.000000</td>\n",
              "      <td>1000.000000</td>\n",
              "    </tr>\n",
              "  </tbody>\n",
              "</table>\n",
              "</div>"
            ],
            "text/plain": [
              "        annual_usage  min_order_quantity      quantity          cost\n",
              "count   22628.000000        22628.000000  22628.000000  22628.000000\n",
              "mean      116.908830            2.130193     38.267677     13.450500\n",
              "std      1678.532065           13.262875     71.313125     27.622252\n",
              "min         0.000000            0.000000      1.000000      0.523027\n",
              "25%         0.000000            0.000000      2.000000      3.855934\n",
              "50%         0.000000            0.000000     10.000000      6.507236\n",
              "75%         2.000000            0.000000     40.000000     13.451951\n",
              "max    150000.000000          535.000000   2500.000000   1000.000000"
            ]
          },
          "metadata": {
            "tags": []
          },
          "execution_count": 27
        }
      ]
    },
    {
      "cell_type": "code",
      "metadata": {
        "id": "TTW2DIZeaVkv",
        "colab_type": "code",
        "outputId": "89777e93-54bb-43fd-b3f9-d72acd5ea9b5",
        "colab": {
          "base_uri": "https://localhost:8080/",
          "height": 172
        }
      },
      "source": [
        "train.describe(exclude='number')"
      ],
      "execution_count": 28,
      "outputs": [
        {
          "output_type": "execute_result",
          "data": {
            "text/html": [
              "<div>\n",
              "<style scoped>\n",
              "    .dataframe tbody tr th:only-of-type {\n",
              "        vertical-align: middle;\n",
              "    }\n",
              "\n",
              "    .dataframe tbody tr th {\n",
              "        vertical-align: top;\n",
              "    }\n",
              "\n",
              "    .dataframe thead th {\n",
              "        text-align: right;\n",
              "    }\n",
              "</style>\n",
              "<table border=\"1\" class=\"dataframe\">\n",
              "  <thead>\n",
              "    <tr style=\"text-align: right;\">\n",
              "      <th></th>\n",
              "      <th>tube_assembly_id</th>\n",
              "      <th>supplier</th>\n",
              "      <th>quote_date</th>\n",
              "      <th>bracket_pricing</th>\n",
              "    </tr>\n",
              "  </thead>\n",
              "  <tbody>\n",
              "    <tr>\n",
              "      <th>count</th>\n",
              "      <td>22628</td>\n",
              "      <td>22628</td>\n",
              "      <td>22628</td>\n",
              "      <td>22628</td>\n",
              "    </tr>\n",
              "    <tr>\n",
              "      <th>unique</th>\n",
              "      <td>6641</td>\n",
              "      <td>52</td>\n",
              "      <td>1510</td>\n",
              "      <td>2</td>\n",
              "    </tr>\n",
              "    <tr>\n",
              "      <th>top</th>\n",
              "      <td>TA-04750</td>\n",
              "      <td>S-0066</td>\n",
              "      <td>2013-10-01</td>\n",
              "      <td>Yes</td>\n",
              "    </tr>\n",
              "    <tr>\n",
              "      <th>freq</th>\n",
              "      <td>12</td>\n",
              "      <td>15391</td>\n",
              "      <td>2077</td>\n",
              "      <td>19699</td>\n",
              "    </tr>\n",
              "  </tbody>\n",
              "</table>\n",
              "</div>"
            ],
            "text/plain": [
              "       tube_assembly_id supplier  quote_date bracket_pricing\n",
              "count             22628    22628       22628           22628\n",
              "unique             6641       52        1510               2\n",
              "top            TA-04750   S-0066  2013-10-01             Yes\n",
              "freq                 12    15391        2077           19699"
            ]
          },
          "metadata": {
            "tags": []
          },
          "execution_count": 28
        }
      ]
    },
    {
      "cell_type": "code",
      "metadata": {
        "id": "6AQ91ImdaeWw",
        "colab_type": "code",
        "outputId": "be1e844c-4cbe-4237-d6d1-70375fad25c2",
        "colab": {
          "base_uri": "https://localhost:8080/",
          "height": 52
        }
      },
      "source": [
        "target = 'cost'\n",
        "y_train = train[target]\n",
        "y_val = val[target]\n",
        "y_pred = np.full_like(y_val, fill_value=y_train.mean())\n",
        "print('Validation RMSLE, Mean Baseline:', rmsle(y_val, y_pred))\n",
        "print('Validation R^2, Mean Baseline:', r2_score(y_val, y_pred))"
      ],
      "execution_count": 11,
      "outputs": [
        {
          "output_type": "stream",
          "text": [
            "Validation RMSLE, Mean Baseline: 0.9418101276064408\n",
            "Validation R^2, Mean Baseline: -4.701447715138585e-06\n"
          ],
          "name": "stdout"
        }
      ]
    },
    {
      "cell_type": "markdown",
      "metadata": {
        "id": "aRhO-PxmHL6q",
        "colab_type": "text"
      },
      "source": [
        "## Develop a first model that does better than a basic baseline\n",
        "\n",
        "### Fit Random Forest with 1 feature: `quantity`"
      ]
    },
    {
      "cell_type": "code",
      "metadata": {
        "id": "yAF5TLfxHL6q",
        "colab_type": "code",
        "outputId": "e70ad12b-73c1-431d-dc57-e32672dc66fe",
        "colab": {
          "base_uri": "https://localhost:8080/",
          "height": 35
        }
      },
      "source": [
        "train.cost.mean()"
      ],
      "execution_count": 30,
      "outputs": [
        {
          "output_type": "execute_result",
          "data": {
            "text/plain": [
              "13.450499769517025"
            ]
          },
          "metadata": {
            "tags": []
          },
          "execution_count": 30
        }
      ]
    },
    {
      "cell_type": "code",
      "metadata": {
        "id": "xt6y8ip0dSYz",
        "colab_type": "code",
        "outputId": "b0c995b2-3b62-4aa8-9a63-db6b859e816b",
        "colab": {
          "base_uri": "https://localhost:8080/",
          "height": 140
        }
      },
      "source": [
        "train.groupby('quantity').cost.mean().head()"
      ],
      "execution_count": 31,
      "outputs": [
        {
          "output_type": "execute_result",
          "data": {
            "text/plain": [
              "quantity\n",
              "1    26.602862\n",
              "2    19.222738\n",
              "3    37.130535\n",
              "4    26.695014\n",
              "5    12.671149\n",
              "Name: cost, dtype: float64"
            ]
          },
          "metadata": {
            "tags": []
          },
          "execution_count": 31
        }
      ]
    },
    {
      "cell_type": "code",
      "metadata": {
        "id": "ZE_OQ_GPdgTp",
        "colab_type": "code",
        "colab": {}
      },
      "source": [
        "features = ['quantity']\n",
        "X_train = train[features]\n",
        "X_val = val[features]"
      ],
      "execution_count": 0,
      "outputs": []
    },
    {
      "cell_type": "code",
      "metadata": {
        "id": "tbOhC9jgeWbB",
        "colab_type": "code",
        "outputId": "c244619b-923b-4226-9c8e-e2aa1a78a2cb",
        "colab": {
          "base_uri": "https://localhost:8080/",
          "height": 70
        }
      },
      "source": [
        "model = RandomForestRegressor(n_estimators=100, random_state=42, n_jobs=-1)\n",
        "model.fit(X_train, y_train)\n",
        "r2 = model.score(X_val, y_val)\n",
        "print('Validation R^2:', r2)\n",
        "\n",
        "y_pred = model.predict(X_val)\n",
        "print(f'Validation RMSLE, Random Forest with {features}:')\n",
        "print(rmsle(y_val, y_pred))"
      ],
      "execution_count": 33,
      "outputs": [
        {
          "output_type": "stream",
          "text": [
            "Validation R^2: 0.08879518736792147\n",
            "Validation RMSLE, Random Forest with ['quantity']:\n",
            "0.6908805822519186\n"
          ],
          "name": "stdout"
        }
      ]
    },
    {
      "cell_type": "markdown",
      "metadata": {
        "id": "p-Vwu3WOHL6s",
        "colab_type": "text"
      },
      "source": [
        "## Log-transform regression target with right-skewed distribution"
      ]
    },
    {
      "cell_type": "markdown",
      "metadata": {
        "id": "cgeetp7IHL6s",
        "colab_type": "text"
      },
      "source": [
        "### Plot right-skewed distribution"
      ]
    },
    {
      "cell_type": "code",
      "metadata": {
        "id": "_9WEajrtHL6t",
        "colab_type": "code",
        "outputId": "183a7b8b-b4dd-432e-da6b-db0568ddf802",
        "colab": {
          "base_uri": "https://localhost:8080/",
          "height": 286
        }
      },
      "source": [
        "sns.distplot(y_train);"
      ],
      "execution_count": 34,
      "outputs": [
        {
          "output_type": "display_data",
          "data": {
            "image/png": "[encoded data removed]",
            "text/plain": [
              "<Figure size 432x288 with 1 Axes>"
            ]
          },
          "metadata": {
            "tags": []
          }
        }
      ]
    },
    {
      "cell_type": "markdown",
      "metadata": {
        "id": "oHzoyXgcHL6u",
        "colab_type": "text"
      },
      "source": [
        "#### Terence Parr & Jeremy Howard, [The Mechanics of Machine Learning, Chapter 5.5](https://mlbook.explained.ai/prep.html#logtarget)\n",
        "\n",
        "> Transforming the target variable (using the mathematical log function) into a tighter, more uniform space makes life easier for any model.\n",
        "\n",
        "> The only problem is that, while easy to execute, understanding why taking the log of the target variable works and how it affects the training/testing process is intellectually challenging. You can skip this section for now, if you like, but just remember that this technique exists and check back here if needed in the future.\n",
        "\n",
        "> Optimally, the distribution of prices would be a narrow “bell curve” distribution without a tail. This would make predictions based upon average prices more accurate. We need a mathematical operation that transforms the widely-distributed target prices into a new space. The “price in dollars space” has a long right tail because of outliers and we want to squeeze that space into a new space that is normally distributed (“bell curved”). More specifically, we need to shrink large values a lot and smaller values a little. That magic operation is called the logarithm or log for short. \n",
        "\n",
        "> To make actual predictions, we have to take the exp of model predictions to get prices in dollars instead of log dollars."
      ]
    },
    {
      "cell_type": "markdown",
      "metadata": {
        "id": "Om5LVgmqHL6v",
        "colab_type": "text"
      },
      "source": [
        "#### Wikipedia, [Logarithm](https://en.wikipedia.org/wiki/Logarithm)\n",
        "\n",
        "> Addition, multiplication, and exponentiation are three fundamental arithmetic operations. Addition can be undone by subtraction. Multiplication can be undone by division. The idea and purpose of **logarithms** is also to **undo** a fundamental arithmetic operation, namely raising a number to a certain power, an operation also known as **exponentiation.** \n",
        "\n",
        "> For example, raising 2 to the third power yields 8.\n",
        "\n",
        "> The logarithm (with respect to base 2) of 8 is 3, reflecting the fact that 2 was raised to the third power to get 8."
      ]
    },
    {
      "cell_type": "markdown",
      "metadata": {
        "id": "5Q5m3kThHL6v",
        "colab_type": "text"
      },
      "source": [
        "### Use Numpy for exponents and logarithms functions\n",
        "- https://docs.scipy.org/doc/numpy/reference/routines.math.html#exponents-and-logarithms"
      ]
    },
    {
      "cell_type": "code",
      "metadata": {
        "id": "IwXxhlqjHL6w",
        "colab_type": "code",
        "outputId": "3683ef08-87be-4316-fe34-da4da3a72ddf",
        "colab": {
          "base_uri": "https://localhost:8080/",
          "height": 52
        }
      },
      "source": [
        "print(np.e)\n",
        "print(np.log(np.e))"
      ],
      "execution_count": 35,
      "outputs": [
        {
          "output_type": "stream",
          "text": [
            "2.718281828459045\n",
            "1.0\n"
          ],
          "name": "stdout"
        }
      ]
    },
    {
      "cell_type": "code",
      "metadata": {
        "id": "S5jrSmv-w3nH",
        "colab_type": "code",
        "outputId": "1fcc6207-2edd-41aa-d397-08a837d7bbd3",
        "colab": {
          "base_uri": "https://localhost:8080/",
          "height": 286
        }
      },
      "source": [
        "sns.distplot(np.log1p(y_train));"
      ],
      "execution_count": 36,
      "outputs": [
        {
          "output_type": "display_data",
          "data": {
            "image/png": "[encoded data removed]",
            "text/plain": [
              "<Figure size 432x288 with 1 Axes>"
            ]
          },
          "metadata": {
            "tags": []
          }
        }
      ]
    },
    {
      "cell_type": "markdown",
      "metadata": {
        "id": "Hxd5XBxhHL6x",
        "colab_type": "text"
      },
      "source": [
        "### Refit model with log-transformed target"
      ]
    },
    {
      "cell_type": "code",
      "metadata": {
        "id": "pEEebu25HL6y",
        "colab_type": "code",
        "outputId": "8aa9343c-4244-43fe-9ac2-7e3c95ff5ec9",
        "colab": {
          "base_uri": "https://localhost:8080/",
          "height": 70
        }
      },
      "source": [
        "model = RandomForestRegressor(n_estimators=100, random_state=42, n_jobs=-1)\n",
        "model.fit(X_train, np.log1p(y_train))\n",
        "r2 = model.score(X_val, y_val)\n",
        "print('Validation R^2:', r2)\n",
        "\n",
        "y_pred = model.predict(X_val)\n",
        "print(f'Validation RMSLE, Random Forest with {features}:')\n",
        "print(rmsle(y_val, np.expm1(y_pred)))"
      ],
      "execution_count": 37,
      "outputs": [
        {
          "output_type": "stream",
          "text": [
            "Validation R^2: -0.11603519498399417\n",
            "Validation RMSLE, Random Forest with ['quantity']:\n",
            "0.622925465880199\n"
          ],
          "name": "stdout"
        }
      ]
    },
    {
      "cell_type": "markdown",
      "metadata": {
        "id": "BB70eZMmWRbf",
        "colab_type": "text"
      },
      "source": [
        "### RMSLE with original targets = RMSE with log-transformed targets"
      ]
    },
    {
      "cell_type": "code",
      "metadata": {
        "id": "V8f4V0b31Mo5",
        "colab_type": "code",
        "colab": {}
      },
      "source": [
        "# def rmse(y_true, y_pred):\n",
        "#     return np.sqrt(mean_squared_error(y_true, y_pred))"
      ],
      "execution_count": 0,
      "outputs": []
    },
    {
      "cell_type": "code",
      "metadata": {
        "id": "ZddIAKp2WMce",
        "colab_type": "code",
        "outputId": "fc4ab768-a010-467b-e067-a94f7c71bbd7",
        "colab": {
          "base_uri": "https://localhost:8080/",
          "height": 35
        }
      },
      "source": [
        "rmse(np.log1p(y_val), y_pred)"
      ],
      "execution_count": 39,
      "outputs": [
        {
          "output_type": "execute_result",
          "data": {
            "text/plain": [
              "0.622925465880199"
            ]
          },
          "metadata": {
            "tags": []
          },
          "execution_count": 39
        }
      ]
    },
    {
      "cell_type": "markdown",
      "metadata": {
        "id": "CplbgtmvHL6z",
        "colab_type": "text"
      },
      "source": [
        "## Interlude: Moore's Law dataset\n",
        "\n",
        "#### Background\n",
        "- https://en.wikipedia.org/wiki/Moore%27s_law\n",
        "- https://en.wikipedia.org/wiki/Transistor_count\n",
        "\n",
        "#### Scrape HTML tables with Pandas!\n",
        "- https://pandas.pydata.org/pandas-docs/stable/reference/api/pandas.read_html.html\n",
        "- https://medium.com/@ageitgey/quick-tip-the-easiest-way-to-grab-data-out-of-a-web-page-in-python-7153cecfca58\n",
        "\n",
        "#### More web scraping options\n",
        "- https://automatetheboringstuff.com/chapter11/"
      ]
    },
    {
      "cell_type": "code",
      "metadata": {
        "id": "kUBrurudHL60",
        "colab_type": "code",
        "outputId": "eae0f526-3222-457a-9081-c909d8d93f10",
        "colab": {
          "base_uri": "https://localhost:8080/",
          "height": 294
        }
      },
      "source": [
        "# Scrape data\n",
        "tables = pd.read_html('https://en.wikipedia.org/wiki/Transistor_count', header=0)\n",
        "moore = tables[0]\n",
        "moore = moore[['Date of introduction', 'Transistor count']].dropna()\n",
        "\n",
        "# Clean data\n",
        "for column in moore:\n",
        "    moore[column] = (moore[column]\n",
        "                     .str.split('[').str[0]  # Remove citations\n",
        "                     .str.replace(r'\\D','')  # Remove non-digit characters\n",
        "                     .astype(int))\n",
        "    \n",
        "moore = moore.sort_values(by='Date of introduction')\n",
        "\n",
        "# Plot distribution of transistor counts\n",
        "sns.distplot(moore['Transistor count']);"
      ],
      "execution_count": 40,
      "outputs": [
        {
          "output_type": "display_data",
          "data": {
            "image/png": "[encoded data removed]",
            "text/plain": [
              "<Figure size 432x288 with 1 Axes>"
            ]
          },
          "metadata": {
            "tags": []
          }
        }
      ]
    },
    {
      "cell_type": "code",
      "metadata": {
        "id": "ktI__vcPHL65",
        "colab_type": "code",
        "outputId": "00c6994e-dc66-44b6-a53c-dfa9e5bbb223",
        "colab": {
          "base_uri": "https://localhost:8080/",
          "height": 294
        }
      },
      "source": [
        "# Plot relationship between date & transistors\n",
        "moore.plot(x='Date of introduction', y='Transistor count', kind='scatter', alpha=0.5);"
      ],
      "execution_count": 41,
      "outputs": [
        {
          "output_type": "display_data",
          "data": {
            "image/png": "[encoded data removed]",
            "text/plain": [
              "<Figure size 432x288 with 1 Axes>"
            ]
          },
          "metadata": {
            "tags": []
          }
        }
      ]
    },
    {
      "cell_type": "code",
      "metadata": {
        "id": "u9s_ajWaHL67",
        "colab_type": "code",
        "colab": {}
      },
      "source": [
        "# Log-transform the target\n",
        "moore['log(Transistor count)'] = np.log1p(moore['Transistor count'])"
      ],
      "execution_count": 0,
      "outputs": []
    },
    {
      "cell_type": "code",
      "metadata": {
        "id": "OaWTYcLQHL69",
        "colab_type": "code",
        "outputId": "bdf504fb-0e1f-4c49-b38f-03681d5ea2d1",
        "colab": {
          "base_uri": "https://localhost:8080/",
          "height": 286
        }
      },
      "source": [
        "# Plot distribution of log-transformed target\n",
        "sns.distplot(moore['log(Transistor count)']);"
      ],
      "execution_count": 43,
      "outputs": [
        {
          "output_type": "display_data",
          "data": {
            "image/png": "[encoded data removed]",
            "text/plain": [
              "<Figure size 432x288 with 1 Axes>"
            ]
          },
          "metadata": {
            "tags": []
          }
        }
      ]
    },
    {
      "cell_type": "code",
      "metadata": {
        "id": "6Q6XBhQmHL6_",
        "colab_type": "code",
        "outputId": "7cf06352-04f2-4f67-be1c-e76d00370e60",
        "colab": {
          "base_uri": "https://localhost:8080/",
          "height": 286
        }
      },
      "source": [
        "# Plot relationship between date & log-transformed target\n",
        "moore.plot(x='Date of introduction', y='log(Transistor count)', kind='scatter', alpha=0.5);"
      ],
      "execution_count": 44,
      "outputs": [
        {
          "output_type": "display_data",
          "data": {
            "image/png": "[encoded data removed]",
            "text/plain": [
              "<Figure size 432x288 with 1 Axes>"
            ]
          },
          "metadata": {
            "tags": []
          }
        }
      ]
    },
    {
      "cell_type": "code",
      "metadata": {
        "id": "iSL4eEUiHL7A",
        "colab_type": "code",
        "outputId": "8df4ba26-01d2-439f-dfe3-b41bd7fb4100",
        "colab": {
          "base_uri": "https://localhost:8080/",
          "height": 286
        }
      },
      "source": [
        "# Fit Linear Regression with log-transformed target\n",
        "from sklearn.linear_model import LinearRegression\n",
        "model = LinearRegression()\n",
        "X = moore[['Date of introduction']]\n",
        "y_log = moore['log(Transistor count)']\n",
        "model.fit(X, y_log)\n",
        "y_pred_log = model.predict(X)\n",
        "\n",
        "# Plot line of best fit, in units of log-transistors\n",
        "ax = moore.plot(x='Date of introduction', y='log(Transistor count)', kind='scatter', alpha=0.5)\n",
        "ax.plot(X, y_pred_log);"
      ],
      "execution_count": 45,
      "outputs": [
        {
          "output_type": "display_data",
          "data": {
            "image/png": "[encoded data removed]",
            "text/plain": [
              "<Figure size 432x288 with 1 Axes>"
            ]
          },
          "metadata": {
            "tags": []
          }
        }
      ]
    },
    {
      "cell_type": "code",
      "metadata": {
        "id": "YKNP4ZtHHL7C",
        "colab_type": "code",
        "outputId": "fabb013f-da37-47a2-c63a-426a11d67242",
        "colab": {
          "base_uri": "https://localhost:8080/",
          "height": 294
        }
      },
      "source": [
        "# Convert log-transistors to transistors\n",
        "y_pred = np.expm1(y_pred_log)\n",
        "\n",
        "# Plot line of best fit, in units of transistors\n",
        "ax = moore.plot(x='Date of introduction', y='Transistor count', kind='scatter', alpha=0.5)\n",
        "ax.plot(X, y_pred);"
      ],
      "execution_count": 46,
      "outputs": [
        {
          "output_type": "display_data",
          "data": {
            "image/png": "[encoded data removed]",
            "text/plain": [
              "<Figure size 432x288 with 1 Axes>"
            ]
          },
          "metadata": {
            "tags": []
          }
        }
      ]
    },
    {
      "cell_type": "markdown",
      "metadata": {
        "id": "QnS1djikHL7D",
        "colab_type": "text"
      },
      "source": [
        "# Back to Caterpillar 🚜"
      ]
    },
    {
      "cell_type": "markdown",
      "metadata": {
        "id": "PDfHk1qzHL7E",
        "colab_type": "text"
      },
      "source": [
        "### Select more features\n",
        "\n",
        "#### [Data Description](https://www.kaggle.com/c/caterpillar-tube-pricing/data)\n",
        "\n",
        "> **train_set.csv and test_set.csv**  \n",
        "> This file contains information on price quotes from our suppliers. Prices can be quoted in 2 ways: bracket and non-bracket pricing. Bracket pricing has multiple levels of purchase based on quantity (in other words, the cost is given assuming a purchase of quantity tubes). Non-bracket pricing has a minimum order amount (min_order) for which the price would apply. Each quote is issued with an annual_usage, an estimate of how many tube assemblies will be purchased in a given year."
      ]
    },
    {
      "cell_type": "code",
      "metadata": {
        "id": "DMphlnI4HL7G",
        "colab_type": "code",
        "outputId": "a3e1ecef-b3cc-4364-ab99-25aeb36d7813",
        "colab": {
          "base_uri": "https://localhost:8080/",
          "height": 110
        }
      },
      "source": [
        "train.head(2)"
      ],
      "execution_count": 47,
      "outputs": [
        {
          "output_type": "execute_result",
          "data": {
            "text/html": [
              "<div>\n",
              "<style scoped>\n",
              "    .dataframe tbody tr th:only-of-type {\n",
              "        vertical-align: middle;\n",
              "    }\n",
              "\n",
              "    .dataframe tbody tr th {\n",
              "        vertical-align: top;\n",
              "    }\n",
              "\n",
              "    .dataframe thead th {\n",
              "        text-align: right;\n",
              "    }\n",
              "</style>\n",
              "<table border=\"1\" class=\"dataframe\">\n",
              "  <thead>\n",
              "    <tr style=\"text-align: right;\">\n",
              "      <th></th>\n",
              "      <th>tube_assembly_id</th>\n",
              "      <th>supplier</th>\n",
              "      <th>quote_date</th>\n",
              "      <th>annual_usage</th>\n",
              "      <th>min_order_quantity</th>\n",
              "      <th>bracket_pricing</th>\n",
              "      <th>quantity</th>\n",
              "      <th>cost</th>\n",
              "    </tr>\n",
              "  </thead>\n",
              "  <tbody>\n",
              "    <tr>\n",
              "      <th>8</th>\n",
              "      <td>TA-00004</td>\n",
              "      <td>S-0066</td>\n",
              "      <td>2013-07-07</td>\n",
              "      <td>0</td>\n",
              "      <td>0</td>\n",
              "      <td>Yes</td>\n",
              "      <td>1</td>\n",
              "      <td>21.972702</td>\n",
              "    </tr>\n",
              "    <tr>\n",
              "      <th>9</th>\n",
              "      <td>TA-00004</td>\n",
              "      <td>S-0066</td>\n",
              "      <td>2013-07-07</td>\n",
              "      <td>0</td>\n",
              "      <td>0</td>\n",
              "      <td>Yes</td>\n",
              "      <td>2</td>\n",
              "      <td>12.407983</td>\n",
              "    </tr>\n",
              "  </tbody>\n",
              "</table>\n",
              "</div>"
            ],
            "text/plain": [
              "  tube_assembly_id supplier  quote_date  ...  bracket_pricing  quantity       cost\n",
              "8         TA-00004   S-0066  2013-07-07  ...              Yes         1  21.972702\n",
              "9         TA-00004   S-0066  2013-07-07  ...              Yes         2  12.407983\n",
              "\n",
              "[2 rows x 8 columns]"
            ]
          },
          "metadata": {
            "tags": []
          },
          "execution_count": 47
        }
      ]
    },
    {
      "cell_type": "code",
      "metadata": {
        "id": "6FR9Gp_MnElO",
        "colab_type": "code",
        "outputId": "246197dd-a2fe-475a-bc50-4bcab0c7ede4",
        "colab": {
          "base_uri": "https://localhost:8080/",
          "height": 295
        }
      },
      "source": [
        "train.describe()"
      ],
      "execution_count": 48,
      "outputs": [
        {
          "output_type": "execute_result",
          "data": {
            "text/html": [
              "<div>\n",
              "<style scoped>\n",
              "    .dataframe tbody tr th:only-of-type {\n",
              "        vertical-align: middle;\n",
              "    }\n",
              "\n",
              "    .dataframe tbody tr th {\n",
              "        vertical-align: top;\n",
              "    }\n",
              "\n",
              "    .dataframe thead th {\n",
              "        text-align: right;\n",
              "    }\n",
              "</style>\n",
              "<table border=\"1\" class=\"dataframe\">\n",
              "  <thead>\n",
              "    <tr style=\"text-align: right;\">\n",
              "      <th></th>\n",
              "      <th>annual_usage</th>\n",
              "      <th>min_order_quantity</th>\n",
              "      <th>quantity</th>\n",
              "      <th>cost</th>\n",
              "    </tr>\n",
              "  </thead>\n",
              "  <tbody>\n",
              "    <tr>\n",
              "      <th>count</th>\n",
              "      <td>22628.000000</td>\n",
              "      <td>22628.000000</td>\n",
              "      <td>22628.000000</td>\n",
              "      <td>22628.000000</td>\n",
              "    </tr>\n",
              "    <tr>\n",
              "      <th>mean</th>\n",
              "      <td>116.908830</td>\n",
              "      <td>2.130193</td>\n",
              "      <td>38.267677</td>\n",
              "      <td>13.450500</td>\n",
              "    </tr>\n",
              "    <tr>\n",
              "      <th>std</th>\n",
              "      <td>1678.532065</td>\n",
              "      <td>13.262875</td>\n",
              "      <td>71.313125</td>\n",
              "      <td>27.622252</td>\n",
              "    </tr>\n",
              "    <tr>\n",
              "      <th>min</th>\n",
              "      <td>0.000000</td>\n",
              "      <td>0.000000</td>\n",
              "      <td>1.000000</td>\n",
              "      <td>0.523027</td>\n",
              "    </tr>\n",
              "    <tr>\n",
              "      <th>25%</th>\n",
              "      <td>0.000000</td>\n",
              "      <td>0.000000</td>\n",
              "      <td>2.000000</td>\n",
              "      <td>3.855934</td>\n",
              "    </tr>\n",
              "    <tr>\n",
              "      <th>50%</th>\n",
              "      <td>0.000000</td>\n",
              "      <td>0.000000</td>\n",
              "      <td>10.000000</td>\n",
              "      <td>6.507236</td>\n",
              "    </tr>\n",
              "    <tr>\n",
              "      <th>75%</th>\n",
              "      <td>2.000000</td>\n",
              "      <td>0.000000</td>\n",
              "      <td>40.000000</td>\n",
              "      <td>13.451951</td>\n",
              "    </tr>\n",
              "    <tr>\n",
              "      <th>max</th>\n",
              "      <td>150000.000000</td>\n",
              "      <td>535.000000</td>\n",
              "      <td>2500.000000</td>\n",
              "      <td>1000.000000</td>\n",
              "    </tr>\n",
              "  </tbody>\n",
              "</table>\n",
              "</div>"
            ],
            "text/plain": [
              "        annual_usage  min_order_quantity      quantity          cost\n",
              "count   22628.000000        22628.000000  22628.000000  22628.000000\n",
              "mean      116.908830            2.130193     38.267677     13.450500\n",
              "std      1678.532065           13.262875     71.313125     27.622252\n",
              "min         0.000000            0.000000      1.000000      0.523027\n",
              "25%         0.000000            0.000000      2.000000      3.855934\n",
              "50%         0.000000            0.000000     10.000000      6.507236\n",
              "75%         2.000000            0.000000     40.000000     13.451951\n",
              "max    150000.000000          535.000000   2500.000000   1000.000000"
            ]
          },
          "metadata": {
            "tags": []
          },
          "execution_count": 48
        }
      ]
    },
    {
      "cell_type": "code",
      "metadata": {
        "id": "c6BnDaUnnOaG",
        "colab_type": "code",
        "outputId": "fb58d972-fee4-4404-e1b1-d5a5e228c27e",
        "colab": {
          "base_uri": "https://localhost:8080/",
          "height": 172
        }
      },
      "source": [
        "train.select_dtypes(exclude=np.number).describe()"
      ],
      "execution_count": 49,
      "outputs": [
        {
          "output_type": "execute_result",
          "data": {
            "text/html": [
              "<div>\n",
              "<style scoped>\n",
              "    .dataframe tbody tr th:only-of-type {\n",
              "        vertical-align: middle;\n",
              "    }\n",
              "\n",
              "    .dataframe tbody tr th {\n",
              "        vertical-align: top;\n",
              "    }\n",
              "\n",
              "    .dataframe thead th {\n",
              "        text-align: right;\n",
              "    }\n",
              "</style>\n",
              "<table border=\"1\" class=\"dataframe\">\n",
              "  <thead>\n",
              "    <tr style=\"text-align: right;\">\n",
              "      <th></th>\n",
              "      <th>tube_assembly_id</th>\n",
              "      <th>supplier</th>\n",
              "      <th>quote_date</th>\n",
              "      <th>bracket_pricing</th>\n",
              "    </tr>\n",
              "  </thead>\n",
              "  <tbody>\n",
              "    <tr>\n",
              "      <th>count</th>\n",
              "      <td>22628</td>\n",
              "      <td>22628</td>\n",
              "      <td>22628</td>\n",
              "      <td>22628</td>\n",
              "    </tr>\n",
              "    <tr>\n",
              "      <th>unique</th>\n",
              "      <td>6641</td>\n",
              "      <td>52</td>\n",
              "      <td>1510</td>\n",
              "      <td>2</td>\n",
              "    </tr>\n",
              "    <tr>\n",
              "      <th>top</th>\n",
              "      <td>TA-04750</td>\n",
              "      <td>S-0066</td>\n",
              "      <td>2013-10-01</td>\n",
              "      <td>Yes</td>\n",
              "    </tr>\n",
              "    <tr>\n",
              "      <th>freq</th>\n",
              "      <td>12</td>\n",
              "      <td>15391</td>\n",
              "      <td>2077</td>\n",
              "      <td>19699</td>\n",
              "    </tr>\n",
              "  </tbody>\n",
              "</table>\n",
              "</div>"
            ],
            "text/plain": [
              "       tube_assembly_id supplier  quote_date bracket_pricing\n",
              "count             22628    22628       22628           22628\n",
              "unique             6641       52        1510               2\n",
              "top            TA-04750   S-0066  2013-10-01             Yes\n",
              "freq                 12    15391        2077           19699"
            ]
          },
          "metadata": {
            "tags": []
          },
          "execution_count": 49
        }
      ]
    },
    {
      "cell_type": "code",
      "metadata": {
        "id": "dSAy3RJunes8",
        "colab_type": "code",
        "colab": {}
      },
      "source": [
        "label = 'cost'\n",
        "features = train.columns.to_list()\n",
        "# features.remove(label)\n",
        "\n",
        "# # remove some features\n",
        "fs = [label,\n",
        "      'tube_assembly_id', # Drop tube_assembly_id because our goal is to predict unknown assemblies\n",
        "#       'supplier', 'quote_date',\n",
        "#       'bracket_pricing',\n",
        "     ]\n",
        "for f in fs:\n",
        "  features.remove(f)\n",
        "  \n",
        "X_train = train[features]\n",
        "y_train = train[label]\n",
        "X_val = val[features]\n",
        "y_val = val[label]\n",
        "X_test = test[features]\n",
        "# y_test = test[label]"
      ],
      "execution_count": 0,
      "outputs": []
    },
    {
      "cell_type": "code",
      "metadata": {
        "id": "Djac7sb2odr5",
        "colab_type": "code",
        "outputId": "0ed2fd00-4302-4ec9-8f0a-790083b78015",
        "colab": {
          "base_uri": "https://localhost:8080/",
          "height": 105
        }
      },
      "source": [
        "numeric_features = X_train[features].select_dtypes(include=np.number).columns.to_list()\n",
        "categorical_features = train[features].select_dtypes(exclude=np.number).columns.to_list()\n",
        "print((len(numeric_features), len(categorical_features)))\n",
        "\n",
        "# select low cardinality features for one-hot encoding\n",
        "# select high cardinality features for ordinal encoding\n",
        "highcardi_features, lowcardi_features = [], []\n",
        "for col in X_train[categorical_features]:\n",
        "  if len(X_train[col].value_counts()) >= 10:\n",
        "    highcardi_features.append(col)\n",
        "  elif len(X_train[col].value_counts()) >= 2:\n",
        "    lowcardi_features.append(col)\n",
        "print((len(numeric_features), len(highcardi_features), len(lowcardi_features)))\n",
        "print(numeric_features)\n",
        "print(highcardi_features)\n",
        "print(lowcardi_features)"
      ],
      "execution_count": 14,
      "outputs": [
        {
          "output_type": "stream",
          "text": [
            "(3, 3)\n",
            "(3, 2, 1)\n",
            "['annual_usage', 'min_order_quantity', 'quantity']\n",
            "['supplier', 'quote_date']\n",
            "['bracket_pricing']\n"
          ],
          "name": "stdout"
        }
      ]
    },
    {
      "cell_type": "code",
      "metadata": {
        "id": "B8__DbHQpaL5",
        "colab_type": "code",
        "colab": {}
      },
      "source": [
        "###############################################\n",
        "# Pipeline preprocessor\n",
        "###############################################\n",
        "numeric_transformer = Pipeline(steps=[\n",
        "    ('imputer', SimpleImputer(strategy='median')),\n",
        "    ('scaler', StandardScaler())])\n",
        "onehot_transformer = Pipeline(steps=[\n",
        "    ('imputer', SimpleImputer(strategy='constant', fill_value='missing')),\n",
        "    ('onehot', ce.OneHotEncoder(drop_invariant=True, use_cat_names=True))]) \n",
        "ordinal_transformer = Pipeline(steps=[\n",
        "    ('imputer', SimpleImputer(strategy='constant', fill_value='missing')),\n",
        "    ('ordinal', ce.OrdinalEncoder())])\n",
        "preprocessor = ColumnTransformer(\n",
        "    transformers=[\n",
        "        ('num', numeric_transformer, numeric_features),\n",
        "        ('one', onehot_transformer, lowcardi_features), # categorical_features\n",
        "        ('ord', ordinal_transformer, highcardi_features), # categorical_features\n",
        "    ])\n",
        "max_depth = 20"
      ],
      "execution_count": 0,
      "outputs": []
    },
    {
      "cell_type": "code",
      "metadata": {
        "id": "jHMPcTsEsHce",
        "colab_type": "code",
        "outputId": "4be57825-5cc0-4235-e2a9-6407f9fa67ee",
        "colab": {
          "base_uri": "https://localhost:8080/",
          "height": 70
        }
      },
      "source": [
        "##############################################\n",
        "# Choose a model\n",
        "##############################################\n",
        "pipeline = Pipeline(steps=[('preprocessor', preprocessor),\n",
        "#                       ('pca', PCA(whiten=True)), # n_components=0.9, \n",
        "#                       ('svd', TruncatedSVD(n_components=200, random_state=5)), # 200059 cols\n",
        "#                       ('lr', LogisticRegression(solver='lbfgs', multi_class='auto', n_jobs=-1)),\n",
        "#                       ('dt', DecisionTreeClassifier(max_depth=26)),\n",
        "#                       ('et', ExtraTreesClassifier(max_depth=28)), # 0.788\n",
        "#                       ('gb', GradientBoostingClassifier()), # 0.752\n",
        "#                       ('gscv', GridSearchCV(boost, parameters)) # might take long time\n",
        "                      ('rf', RandomForestRegressor(n_estimators=200, random_state=5, n_jobs=-1,\n",
        "                                                    max_depth=max_depth, oob_score=True,\n",
        "                                                   ))\n",
        "                     ])\n",
        "pipeline.fit(X_train, np.log1p(y_train))   \n",
        "pred_val = pipeline.predict(X_val)\n",
        "# print(\"R^2 score: %.3f\" % pipeline['rf'].score(X_val, np.log1p(y_val)))\n",
        "print(\"OOB score: %.3f\" % pipeline['rf'].oob_score_)\n",
        "print(\"RMSE score: %.3f\" % rmse(np.log1p(y_val), pred_val))\n",
        "print(\"RMSLE score: %.3f\" % rmsle(y_val, np.expm1(pred_val)))"
      ],
      "execution_count": 59,
      "outputs": [
        {
          "output_type": "stream",
          "text": [
            "OOB score: 0.790\n",
            "RMSE score: 0.409\n",
            "RMSLE score: 0.409\n"
          ],
          "name": "stdout"
        }
      ]
    },
    {
      "cell_type": "markdown",
      "metadata": {
        "id": "yNeNmC_LfTKp",
        "colab_type": "text"
      },
      "source": [
        "#### Feature Importances"
      ]
    },
    {
      "cell_type": "code",
      "metadata": {
        "id": "z-aoO-lxyN9z",
        "colab_type": "code",
        "outputId": "8fbe3bd6-c6b6-4148-b6a0-6de627565519",
        "colab": {
          "base_uri": "https://localhost:8080/",
          "height": 335
        }
      },
      "source": [
        "# Transformed features\n",
        "tfs = pipeline['preprocessor'].named_transformers_\n",
        "features_transformed = numeric_features + \\\n",
        "                       highcardi_features + \\\n",
        "                       tfs['one']['onehot'].get_feature_names()\n",
        "print(\"numeric:\", numeric_features)\n",
        "print(\"ordinal:\", highcardi_features)\n",
        "print(\"onehot:\", tfs['one']['onehot'].get_feature_names())\n",
        "\n",
        "# Random forest feature importances\n",
        "print(pipeline['rf'].n_features_, \"feature importances:\")\n",
        "pd.DataFrame([features_transformed, pipeline['rf'].feature_importances_]).T.sort_values(1, ascending=False)"
      ],
      "execution_count": 60,
      "outputs": [
        {
          "output_type": "stream",
          "text": [
            "numeric: ['annual_usage', 'min_order_quantity', 'quantity']\n",
            "ordinal: ['supplier', 'quote_date']\n",
            "onehot: ['0_Yes', '0_No']\n",
            "7 feature importances:\n"
          ],
          "name": "stdout"
        },
        {
          "output_type": "execute_result",
          "data": {
            "text/html": [
              "<div>\n",
              "<style scoped>\n",
              "    .dataframe tbody tr th:only-of-type {\n",
              "        vertical-align: middle;\n",
              "    }\n",
              "\n",
              "    .dataframe tbody tr th {\n",
              "        vertical-align: top;\n",
              "    }\n",
              "\n",
              "    .dataframe thead th {\n",
              "        text-align: right;\n",
              "    }\n",
              "</style>\n",
              "<table border=\"1\" class=\"dataframe\">\n",
              "  <thead>\n",
              "    <tr style=\"text-align: right;\">\n",
              "      <th></th>\n",
              "      <th>0</th>\n",
              "      <th>1</th>\n",
              "    </tr>\n",
              "  </thead>\n",
              "  <tbody>\n",
              "    <tr>\n",
              "      <th>2</th>\n",
              "      <td>quantity</td>\n",
              "      <td>0.526895</td>\n",
              "    </tr>\n",
              "    <tr>\n",
              "      <th>0</th>\n",
              "      <td>annual_usage</td>\n",
              "      <td>0.186562</td>\n",
              "    </tr>\n",
              "    <tr>\n",
              "      <th>6</th>\n",
              "      <td>0_No</td>\n",
              "      <td>0.139438</td>\n",
              "    </tr>\n",
              "    <tr>\n",
              "      <th>5</th>\n",
              "      <td>0_Yes</td>\n",
              "      <td>0.0963449</td>\n",
              "    </tr>\n",
              "    <tr>\n",
              "      <th>1</th>\n",
              "      <td>min_order_quantity</td>\n",
              "      <td>0.042829</td>\n",
              "    </tr>\n",
              "    <tr>\n",
              "      <th>3</th>\n",
              "      <td>supplier</td>\n",
              "      <td>0.00414021</td>\n",
              "    </tr>\n",
              "    <tr>\n",
              "      <th>4</th>\n",
              "      <td>quote_date</td>\n",
              "      <td>0.00379132</td>\n",
              "    </tr>\n",
              "  </tbody>\n",
              "</table>\n",
              "</div>"
            ],
            "text/plain": [
              "                    0           1\n",
              "2            quantity    0.526895\n",
              "0        annual_usage    0.186562\n",
              "6                0_No    0.139438\n",
              "5               0_Yes   0.0963449\n",
              "1  min_order_quantity    0.042829\n",
              "3            supplier  0.00414021\n",
              "4          quote_date  0.00379132"
            ]
          },
          "metadata": {
            "tags": []
          },
          "execution_count": 60
        }
      ]
    },
    {
      "cell_type": "code",
      "metadata": {
        "id": "lQGbqMgVV6KB",
        "colab_type": "code",
        "colab": {
          "base_uri": "https://localhost:8080/",
          "height": 272
        },
        "outputId": "e3a0f35a-e43d-4a68-cb9e-9918ef6034df"
      },
      "source": [
        "pd.Series(pipeline['rf'].feature_importances_, features_transformed).sort_values().plot.barh();"
      ],
      "execution_count": 64,
      "outputs": [
        {
          "output_type": "display_data",
          "data": {
            "image/png": "[encoded data removed]",
            "text/plain": [
              "<Figure size 432x288 with 1 Axes>"
            ]
          },
          "metadata": {
            "tags": []
          }
        }
      ]
    },
    {
      "cell_type": "code",
      "metadata": {
        "id": "CGp_5wGZfR3d",
        "colab_type": "code",
        "outputId": "de5d5a60-a6f8-4ec8-92b0-4d4218901e9f",
        "colab": {
          "base_uri": "https://localhost:8080/",
          "height": 286
        }
      },
      "source": [
        "sns.distplot(np.log1p(y_val), label='True')\n",
        "sns.distplot(pred_val, label='Predicted')\n",
        "plt.legend();"
      ],
      "execution_count": 55,
      "outputs": [
        {
          "output_type": "display_data",
          "data": {
            "image/png": "[encoded data removed]",
            "text/plain": [
              "<Figure size 432x288 with 1 Axes>"
            ]
          },
          "metadata": {
            "tags": []
          }
        }
      ]
    },
    {
      "cell_type": "code",
      "metadata": {
        "id": "RcL65RPOpyTY",
        "colab_type": "code",
        "outputId": "9d782e2e-278c-43e1-92be-926bc8271cae",
        "colab": {
          "base_uri": "https://localhost:8080/",
          "height": 1000
        }
      },
      "source": [
        "###############################################\n",
        "# Compare models\n",
        "###############################################\n",
        "regressors = [\n",
        "    ('kn', KNeighborsRegressor(n_neighbors=3)),\n",
        "#     ('svc', SVC(kernel=\"rbf\", C=0.025, probability=True)),\n",
        "#     ('nusvc', NuSVC(probability=True)),\n",
        "#     ('lr', LogisticRegression(solver='lbfgs', multi_class='auto', n_jobs=-1)),\n",
        "    ('dt', DecisionTreeRegressor()),\n",
        "    ('rf', RandomForestRegressor(n_estimators=200, random_state=5, n_jobs=-1,\n",
        "                                  max_depth=max_depth,)),    \n",
        "    ('et', ExtraTreesRegressor(max_depth=28)),\n",
        "    ('ada', AdaBoostRegressor(base_estimator=DecisionTreeRegressor(), n_estimators=100)),\n",
        "    ('gb', GradientBoostingRegressor()),\n",
        "    ]\n",
        "\n",
        "for regressor in regressors:\n",
        "  pipeline = Pipeline(steps=[('preprocessor', preprocessor),\n",
        "                              regressor,\n",
        "                            ])      \n",
        "  pipeline.fit(X_train, np.log1p(y_train))   \n",
        "  pred_val = pipeline.predict(X_val)\n",
        "  print(regressor)\n",
        "  # print(\"R^2 score: %.3f\" % pipeline['rf'].score(X_val, np.log1p(y_val)))\n",
        "#   print(\"OOB score: %.3f\" % pipeline['rf'].oob_score_)\n",
        "  print(\"RMSE score: %.3f\" % rmse(np.log1p(y_val), pred_val))\n",
        "  print(\"RMSLE score: %.3f\" % rmsle(y_val, np.expm1(pred_val)))\n",
        "  print()"
      ],
      "execution_count": 56,
      "outputs": [
        {
          "output_type": "stream",
          "text": [
            "('kn', KNeighborsRegressor(algorithm='auto', leaf_size=30, metric='minkowski',\n",
            "                    metric_params=None, n_jobs=None, n_neighbors=3, p=2,\n",
            "                    weights='uniform'))\n",
            "RMSE score: 0.556\n",
            "RMSLE score: 0.556\n",
            "\n",
            "('dt', DecisionTreeRegressor(criterion='mse', max_depth=None, max_features=None,\n",
            "                      max_leaf_nodes=None, min_impurity_decrease=0.0,\n",
            "                      min_impurity_split=None, min_samples_leaf=1,\n",
            "                      min_samples_split=2, min_weight_fraction_leaf=0.0,\n",
            "                      presort=False, random_state=None, splitter='best'))\n",
            "RMSE score: 0.488\n",
            "RMSLE score: 0.488\n",
            "\n",
            "('rf', RandomForestRegressor(bootstrap=True, criterion='mse', max_depth=20,\n",
            "                      max_features='auto', max_leaf_nodes=None,\n",
            "                      min_impurity_decrease=0.0, min_impurity_split=None,\n",
            "                      min_samples_leaf=1, min_samples_split=2,\n",
            "                      min_weight_fraction_leaf=0.0, n_estimators=200, n_jobs=-1,\n",
            "                      oob_score=False, random_state=5, verbose=0,\n",
            "                      warm_start=False))\n",
            "RMSE score: 0.409\n",
            "RMSLE score: 0.409\n",
            "\n",
            "('et', ExtraTreesRegressor(bootstrap=False, criterion='mse', max_depth=28,\n",
            "                    max_features='auto', max_leaf_nodes=None,\n",
            "                    min_impurity_decrease=0.0, min_impurity_split=None,\n",
            "                    min_samples_leaf=1, min_samples_split=2,\n",
            "                    min_weight_fraction_leaf=0.0, n_estimators=10, n_jobs=None,\n",
            "                    oob_score=False, random_state=None, verbose=0,\n",
            "                    warm_start=False))\n",
            "RMSE score: 0.426\n",
            "RMSLE score: 0.426\n",
            "\n",
            "('ada', AdaBoostRegressor(base_estimator=DecisionTreeRegressor(criterion='mse',\n",
            "                                                       max_depth=None,\n",
            "                                                       max_features=None,\n",
            "                                                       max_leaf_nodes=None,\n",
            "                                                       min_impurity_decrease=0.0,\n",
            "                                                       min_impurity_split=None,\n",
            "                                                       min_samples_leaf=1,\n",
            "                                                       min_samples_split=2,\n",
            "                                                       min_weight_fraction_leaf=0.0,\n",
            "                                                       presort=False,\n",
            "                                                       random_state=None,\n",
            "                                                       splitter='best'),\n",
            "                  learning_rate=1.0, loss='linear', n_estimators=100,\n",
            "                  random_state=None))\n",
            "RMSE score: 0.663\n",
            "RMSLE score: 0.663\n",
            "\n",
            "('gb', GradientBoostingRegressor(alpha=0.9, criterion='friedman_mse', init=None,\n",
            "                          learning_rate=0.1, loss='ls', max_depth=3,\n",
            "                          max_features=None, max_leaf_nodes=None,\n",
            "                          min_impurity_decrease=0.0, min_impurity_split=None,\n",
            "                          min_samples_leaf=1, min_samples_split=2,\n",
            "                          min_weight_fraction_leaf=0.0, n_estimators=100,\n",
            "                          n_iter_no_change=None, presort='auto',\n",
            "                          random_state=None, subsample=1.0, tol=0.0001,\n",
            "                          validation_fraction=0.1, verbose=0, warm_start=False))\n",
            "RMSE score: 0.462\n",
            "RMSLE score: 0.462\n",
            "\n"
          ],
          "name": "stdout"
        }
      ]
    },
    {
      "cell_type": "markdown",
      "metadata": {
        "id": "C5yofTpGHL7H",
        "colab_type": "text"
      },
      "source": [
        "## Do feature engineering with relational data\n",
        "\n",
        "#### [Data Description](https://www.kaggle.com/c/caterpillar-tube-pricing/data)\n",
        "\n",
        "> The dataset is comprised of a large number of relational tables that describe the physical properties of tube assemblies. You are challenged to combine the characteristics of each tube assembly with supplier pricing dynamics in order to forecast a quote price for each tube.\n",
        "\n",
        "> **tube.csv**  \n",
        "> This file contains information on tube assemblies, which are the primary focus of the competition. Tube Assemblies are made of multiple parts. The main piece is the tube which has a specific diameter, wall thickness, length, number of bends and bend radius. Either end of the tube (End A or End X) typically has some form of end connection allowing the tube assembly to attach to other features. Special tooling is typically required for short end straight lengths (end_a_1x, end_a_2x refer to if the end length is less than 1 times or 2 times the tube diameter, respectively). Other components can be permanently attached to a tube such as bosses, brackets or other custom features."
      ]
    },
    {
      "cell_type": "code",
      "metadata": {
        "id": "dZTVFP-RHL7H",
        "colab_type": "code",
        "outputId": "03380d86-af3e-4b94-ad77-28d493292a47",
        "colab": {
          "base_uri": "https://localhost:8080/",
          "height": 301
        }
      },
      "source": [
        "for path in glob('competition_data/*.csv'):\n",
        "    df = pd.read_csv(path)\n",
        "    shared_columns = set(df.columns) & set(train.columns)\n",
        "    if shared_columns:\n",
        "        print(path, df.shape)\n",
        "        print(df.columns.tolist(), '\\n')"
      ],
      "execution_count": 57,
      "outputs": [
        {
          "output_type": "stream",
          "text": [
            "competition_data/test_set.csv (30235, 8)\n",
            "['id', 'tube_assembly_id', 'supplier', 'quote_date', 'annual_usage', 'min_order_quantity', 'bracket_pricing', 'quantity'] \n",
            "\n",
            "competition_data/train_set.csv (30213, 8)\n",
            "['tube_assembly_id', 'supplier', 'quote_date', 'annual_usage', 'min_order_quantity', 'bracket_pricing', 'quantity', 'cost'] \n",
            "\n",
            "competition_data/bill_of_materials.csv (21198, 17)\n",
            "['tube_assembly_id', 'component_id_1', 'quantity_1', 'component_id_2', 'quantity_2', 'component_id_3', 'quantity_3', 'component_id_4', 'quantity_4', 'component_id_5', 'quantity_5', 'component_id_6', 'quantity_6', 'component_id_7', 'quantity_7', 'component_id_8', 'quantity_8'] \n",
            "\n",
            "competition_data/specs.csv (21198, 11)\n",
            "['tube_assembly_id', 'spec1', 'spec2', 'spec3', 'spec4', 'spec5', 'spec6', 'spec7', 'spec8', 'spec9', 'spec10'] \n",
            "\n",
            "competition_data/tube.csv (21198, 16)\n",
            "['tube_assembly_id', 'material_id', 'diameter', 'wall', 'length', 'num_bends', 'bend_radius', 'end_a_1x', 'end_a_2x', 'end_x_1x', 'end_x_2x', 'end_a', 'end_x', 'num_boss', 'num_bracket', 'other'] \n",
            "\n"
          ],
          "name": "stdout"
        }
      ]
    },
    {
      "cell_type": "markdown",
      "metadata": {
        "id": "yGJGifFIHL7M",
        "colab_type": "text"
      },
      "source": [
        "# Assignment\n",
        "- Start a clean notebook.\n",
        "- Get the [Caterpillar data from Kaggle](https://www.kaggle.com/c/caterpillar-tube-pricing/data).\n",
        "- Do train/validate/test split.\n",
        "- Select features from `train_set.csv`, `tube.csv`, and at least one more file.\n",
        "- Fit a model.\n",
        "- Get your validation RMSLE (or RMSE with log-transformed targets).\n",
        "- [Submit](https://www.kaggle.com/c/caterpillar-tube-pricing/submit) your predictions to the Kaggle competition.\n",
        "- Commit your notebook to your fork of the GitHub repo.\n",
        "\n",
        "## Stretch Goals\n",
        "- Improve your scores on Kaggle.\n",
        "- Make visualizations and share on Slack.\n",
        "- Look at [Kaggle Kernels](https://www.kaggle.com/c/caterpillar-tube-pricing/kernels) for ideas about feature engineerng and visualization.\n",
        "\n",
        "Read [Better Explained](https://betterexplained.com/) Exponents & Logs series:\n",
        "\n",
        "1. [An Intuitive Guide To Exponential Functions & e](https://betterexplained.com/articles/an-intuitive-guide-to-exponential-functions-e/)\n",
        "2. [Demystifying the Natural Logarithm (ln)](https://betterexplained.com/articles/demystifying-the-natural-logarithm-ln/)\n",
        "3. [A Visual Guide to Simple, Compound and Continuous Interest Rates](https://betterexplained.com/articles/a-visual-guide-to-simple-compound-and-continuous-interest-rates/)\n",
        "4. [Common Definitions of e (Colorized)](https://betterexplained.com/articles/definitions-of-e-colorized/)\n",
        "5. [Understanding Exponents (Why does 0^0 = 1?)](https://betterexplained.com/articles/understanding-exponents-why-does-00-1/)\n",
        "6. [Using Logarithms in the Real World](https://betterexplained.com/articles/using-logs-in-the-real-world/)\n",
        "7. [How To Think With Exponents And Logarithms](https://betterexplained.com/articles/think-with-exponents/)\n",
        "8. [Understanding Discrete vs. Continuous Growth](https://betterexplained.com/articles/understanding-discrete-vs-continuous-growth/)\n",
        "9. [What does an exponent really mean?](https://betterexplained.com/articles/what-does-an-exponent-mean/)\n",
        "10. [Q: Why is e special? (2.718..., not 2, 3.7 or another number?)](https://betterexplained.com/articles/q-why-is-e-special-2-718-not-other-number/)"
      ]
    },
    {
      "cell_type": "markdown",
      "metadata": {
        "id": "56ZQ009j3nJJ",
        "colab_type": "text"
      },
      "source": [
        "<img src=\"https://github.com/Nov05/DS-Unit-2-Applied-Modeling/blob/master/images/CAT_ER.png?raw=true\">  "
      ]
    },
    {
      "cell_type": "markdown",
      "metadata": {
        "id": "B_mfl5Pwu4ae",
        "colab_type": "text"
      },
      "source": [
        "## XGBoost"
      ]
    },
    {
      "cell_type": "code",
      "metadata": {
        "id": "9po4i9ddu3zf",
        "colab_type": "code",
        "colab": {
          "base_uri": "https://localhost:8080/",
          "height": 87
        },
        "outputId": "a3892803-ebfd-4392-de1b-09fe709f83ca"
      },
      "source": [
        "%%time\n",
        "pipeline = Pipeline(steps=[('preprocessor', preprocessor),\n",
        "                           ('xgb', XGBRegressor(n_estimators=1000, n_jobs=-1)),\n",
        "                     ])\n",
        "pipeline.fit(X_train, np.log1p(y_train))   \n",
        "pred_val = pipeline.predict(X_val)\n",
        "print('Validation Error', rmse(np.log1p(y_val), pred_val))"
      ],
      "execution_count": 73,
      "outputs": [
        {
          "output_type": "stream",
          "text": [
            "[00:53:56] WARNING: /workspace/src/objective/regression_obj.cu:152: reg:linear is now deprecated in favor of reg:squarederror.\n",
            "Validation Error 0.4289236121321444\n",
            "CPU times: user 13.4 s, sys: 21.4 ms, total: 13.4 s\n",
            "Wall time: 6.83 s\n"
          ],
          "name": "stdout"
        }
      ]
    },
    {
      "cell_type": "markdown",
      "metadata": {
        "id": "-RCxZ7uO_B1V",
        "colab_type": "text"
      },
      "source": [
        "### Early Stopping in XGBoost"
      ]
    },
    {
      "cell_type": "code",
      "metadata": {
        "id": "drtlocQkvU79",
        "colab_type": "code",
        "colab": {}
      },
      "source": [
        "%%time\n",
        "\n",
        "# eval data should be preprocessed\n",
        "eval_set = []\n",
        "\n",
        "# Early stopping\n",
        "class XGBRegressorEval(XGBRegressor):\n",
        "  def fit(self, *args, **kwargs):\n",
        "    return super().fit(*args, \n",
        "                       eval_set=eval_set, # here needs a fix\n",
        "                       eval_metric='rmse', \n",
        "                       early_stopping_rounds=100, \n",
        "                       **kwargs)\n",
        "\n",
        "pipeline = Pipeline(steps=[('preprocessor', preprocessor),\n",
        "                           ('xgb', XGBRegressorEval(n_estimators=1000, n_jobs=-1)),\n",
        "                     ])\n",
        "eval_set = [(pipeline['preprocessor'].fit_transform(X_train), np.log1p(y_train)),\n",
        "            (pipeline['preprocessor'].fit_transform(X_val), np.log1p(y_val)),\n",
        "           ]\n",
        "pipeline.fit(X_train, np.log1p(y_train))   \n",
        "pred_val = pipeline.predict(X_val)  \n",
        "\n",
        "print('Validation Error', rmse(np.log1p(y_val), pred_val))\n",
        "\n",
        "\"\"\"\n",
        "[133]\tvalidation_0-rmse:0.421376\tvalidation_1-rmse:0.595385\n",
        "Stopping. Best iteration:\n",
        "[33]\tvalidation_0-rmse:0.483706\tvalidation_1-rmse:0.579654\n",
        "\n",
        "Validation Error 0.492939812246325\n",
        "CPU times: user 3.54 s, sys: 63.1 ms, total: 3.6 s\n",
        "Wall time: 2.29 s\n",
        "\"\"\""
      ],
      "execution_count": 0,
      "outputs": []
    },
    {
      "cell_type": "code",
      "metadata": {
        "id": "-aT16kxz_YXr",
        "colab_type": "code",
        "colab": {
          "base_uri": "https://localhost:8080/",
          "height": 273
        },
        "outputId": "25167e42-2704-4b59-b824-758ccfd14d18"
      },
      "source": [
        "rmse_train = pipeline['xgb'].evals_result()['validation_0']['rmse']\n",
        "rmse_val = pipeline['xgb'].evals_result()['validation_1']['rmse']\n",
        "epoch = range(len(rmse_train))\n",
        "\n",
        "plt.figure(figsize=(12,4))\n",
        "plt.subplot(1,2,1)\n",
        "plt.plot(epoch, rmse_train, label='Train')\n",
        "plt.plot(epoch, rmse_val, label='Validation')\n",
        "plt.ylim((0.4, 0.8))\n",
        "plt.legend();\n",
        "plt.subplot(1,2,2)\n",
        "plt.plot(epoch, rmse_train, label='Train')\n",
        "plt.plot(epoch, rmse_val, label='Validation')\n",
        "plt.legend();"
      ],
      "execution_count": 87,
      "outputs": [
        {
          "output_type": "display_data",
          "data": {
            "image/png": "[encoded data removed]",
            "text/plain": [
              "<Figure size 864x288 with 2 Axes>"
            ]
          },
          "metadata": {
            "tags": []
          }
        }
      ]
    },
    {
      "cell_type": "markdown",
      "metadata": {
        "id": "fJ5ztAA8HQA9",
        "colab_type": "text"
      },
      "source": [
        "### Cross-validation"
      ]
    },
    {
      "cell_type": "code",
      "metadata": {
        "id": "Xb4OzjSmdmCd",
        "colab_type": "code",
        "colab": {
          "base_uri": "https://localhost:8080/",
          "height": 35
        },
        "outputId": "b1851dcd-d59e-40cc-deb3-360dc448b5c2"
      },
      "source": [
        "pipeline = Pipeline(steps=[('preprocessor', preprocessor),\n",
        "                           ('rf', RandomForestRegressor(n_estimators=100, random_state=5, n_jobs=-1,\n",
        "#                                                         max_depth=max_depth, \n",
        "                                                        oob_score=True,)),\n",
        "                          ])\n",
        "k = 3\n",
        "groups = train['tube_assembly_id']\n",
        "scores = cross_val_score(pipeline, X_train, np.log1p(y_train), cv=k, \n",
        "                         scoring='neg_mean_squared_error', groups=groups)\n",
        "print(f'RMSLE for {k} folds:', np.sqrt(-scores))"
      ],
      "execution_count": 27,
      "outputs": [
        {
          "output_type": "stream",
          "text": [
            "RMSLE for 3 folds: [0.42908952 0.46085536 0.51136441]\n"
          ],
          "name": "stdout"
        }
      ]
    },
    {
      "cell_type": "code",
      "metadata": {
        "id": "upCFMc84iBUQ",
        "colab_type": "code",
        "colab": {
          "base_uri": "https://localhost:8080/",
          "height": 55
        },
        "outputId": "3d4e407f-7b8c-4fd9-93e0-db4c87acebc5"
      },
      "source": [
        "pipeline.get_params().keys()"
      ],
      "execution_count": 29,
      "outputs": [
        {
          "output_type": "execute_result",
          "data": {
            "text/plain": [
              "dict_keys(['memory', 'steps', 'verbose', 'preprocessor', 'rf', 'preprocessor__n_jobs', 'preprocessor__remainder', 'preprocessor__sparse_threshold', 'preprocessor__transformer_weights', 'preprocessor__transformers', 'preprocessor__verbose', 'preprocessor__num', 'preprocessor__one', 'preprocessor__ord', 'preprocessor__num__memory', 'preprocessor__num__steps', 'preprocessor__num__verbose', 'preprocessor__num__imputer', 'preprocessor__num__scaler', 'preprocessor__num__imputer__add_indicator', 'preprocessor__num__imputer__copy', 'preprocessor__num__imputer__fill_value', 'preprocessor__num__imputer__missing_values', 'preprocessor__num__imputer__strategy', 'preprocessor__num__imputer__verbose', 'preprocessor__num__scaler__copy', 'preprocessor__num__scaler__with_mean', 'preprocessor__num__scaler__with_std', 'preprocessor__one__memory', 'preprocessor__one__steps', 'preprocessor__one__verbose', 'preprocessor__one__imputer', 'preprocessor__one__onehot', 'preprocessor__one__imputer__add_indicator', 'preprocessor__one__imputer__copy', 'preprocessor__one__imputer__fill_value', 'preprocessor__one__imputer__missing_values', 'preprocessor__one__imputer__strategy', 'preprocessor__one__imputer__verbose', 'preprocessor__one__onehot__cols', 'preprocessor__one__onehot__drop_invariant', 'preprocessor__one__onehot__handle_missing', 'preprocessor__one__onehot__handle_unknown', 'preprocessor__one__onehot__return_df', 'preprocessor__one__onehot__use_cat_names', 'preprocessor__one__onehot__verbose', 'preprocessor__ord__memory', 'preprocessor__ord__steps', 'preprocessor__ord__verbose', 'preprocessor__ord__imputer', 'preprocessor__ord__ordinal', 'preprocessor__ord__imputer__add_indicator', 'preprocessor__ord__imputer__copy', 'preprocessor__ord__imputer__fill_value', 'preprocessor__ord__imputer__missing_values', 'preprocessor__ord__imputer__strategy', 'preprocessor__ord__imputer__verbose', 'preprocessor__ord__ordinal__cols', 'preprocessor__ord__ordinal__drop_invariant', 'preprocessor__ord__ordinal__handle_missing', 'preprocessor__ord__ordinal__handle_unknown', 'preprocessor__ord__ordinal__mapping', 'preprocessor__ord__ordinal__return_df', 'preprocessor__ord__ordinal__verbose', 'rf__bootstrap', 'rf__criterion', 'rf__max_depth', 'rf__max_features', 'rf__max_leaf_nodes', 'rf__min_impurity_decrease', 'rf__min_impurity_split', 'rf__min_samples_leaf', 'rf__min_samples_split', 'rf__min_weight_fraction_leaf', 'rf__n_estimators', 'rf__n_jobs', 'rf__oob_score', 'rf__random_state', 'rf__verbose', 'rf__warm_start'])"
            ]
          },
          "metadata": {
            "tags": []
          },
          "execution_count": 29
        }
      ]
    },
    {
      "cell_type": "code",
      "metadata": {
        "id": "nikLc_-QIZkR",
        "colab_type": "code",
        "colab": {
          "base_uri": "https://localhost:8080/",
          "height": 286
        },
        "outputId": "9977a52b-a092-4563-8867-fbe8e83a8cb9"
      },
      "source": [
        "depth = range(1, 31, 3)\n",
        "train_scores, val_scores = validation_curve(\n",
        "    pipeline, X_train, np.log1p(y_train),\n",
        "    param_name='rf__max_depth', \n",
        "    param_range=depth, \n",
        "    scoring='neg_mean_squared_error', \n",
        "    cv=2, \n",
        "    groups=groups)\n",
        "\n",
        "rmsle_train = np.sqrt(-train_scores)\n",
        "rmsle_val = np.sqrt(-val_scores)\n",
        "plt.plot(depth, np.mean(rmsle_train, axis=1), color='blue', label='training error')\n",
        "plt.plot(depth, np.mean(rmsle_val, axis=1), color='red', label='validation error')\n",
        "plt.xlabel('depth')\n",
        "plt.ylabel('RMSLE')\n",
        "plt.legend();"
      ],
      "execution_count": 32,
      "outputs": [
        {
          "output_type": "display_data",
          "data": {
            "image/png": "[encoded data removed]",
            "text/plain": [
              "<Figure size 432x288 with 1 Axes>"
            ]
          },
          "metadata": {
            "tags": []
          }
        }
      ]
    },
    {
      "cell_type": "markdown",
      "metadata": {
        "id": "OCT36PUtjDOC",
        "colab_type": "text"
      },
      "source": [
        "### XGboost cross-validation"
      ]
    },
    {
      "cell_type": "code",
      "metadata": {
        "id": "2dAtCkeNj4RB",
        "colab_type": "code",
        "colab": {
          "base_uri": "https://localhost:8080/",
          "height": 686
        },
        "outputId": "40b68685-5b26-45da-98cf-f1831c3a29f8"
      },
      "source": [
        "pipeline = Pipeline(steps=[('preprocessor', preprocessor),\n",
        "                           ('xgb', XGBRegressor(random_state=5)),\n",
        "                          ])\n",
        "param_distributions = {\n",
        "    'xgb__n_estimators': (100, 1500), \n",
        "    'xgb__max_depth': (1, 30)\n",
        "}\n",
        "search = RandomizedSearchCV(\n",
        "    pipeline, \n",
        "    param_distributions=param_distributions, \n",
        "    n_iter=5, \n",
        "    cv=2, \n",
        "    scoring='neg_mean_squared_error', \n",
        "    verbose=10, \n",
        "    return_train_score=True, \n",
        "    n_jobs=-1\n",
        ")\n",
        "groups = train['tube_assembly_id']\n",
        "search.fit(X_train, np.log1p(y_train), groups=groups)   "
      ],
      "execution_count": 41,
      "outputs": [
        {
          "output_type": "stream",
          "text": [
            "Fitting 2 folds for each of 4 candidates, totalling 8 fits\n"
          ],
          "name": "stdout"
        },
        {
          "output_type": "stream",
          "text": [
            "[Parallel(n_jobs=-1)]: Using backend LokyBackend with 2 concurrent workers.\n",
            "[Parallel(n_jobs=-1)]: Done   1 tasks      | elapsed:    0.5s\n",
            "[Parallel(n_jobs=-1)]: Done   4 tasks      | elapsed:    6.0s\n",
            "[Parallel(n_jobs=-1)]: Done   6 out of   8 | elapsed:   12.1s remaining:    4.0s\n",
            "[Parallel(n_jobs=-1)]: Done   8 out of   8 | elapsed:   24.9s finished\n",
            "[Parallel(n_jobs=-1)]: Done   8 out of   8 | elapsed:   24.9s remaining:    0.0s\n"
          ],
          "name": "stderr"
        },
        {
          "output_type": "stream",
          "text": [
            "[06:28:04] WARNING: /workspace/src/objective/regression_obj.cu:152: reg:linear is now deprecated in favor of reg:squarederror.\n"
          ],
          "name": "stdout"
        },
        {
          "output_type": "execute_result",
          "data": {
            "text/plain": [
              "RandomizedSearchCV(cv=2, error_score='raise-deprecating',\n",
              "                   estimator=Pipeline(memory=None,\n",
              "                                      steps=[('preprocessor',\n",
              "                                              ColumnTransformer(n_jobs=None,\n",
              "                                                                remainder='drop',\n",
              "                                                                sparse_threshold=0.3,\n",
              "                                                                transformer_weights=None,\n",
              "                                                                transformers=[('num',\n",
              "                                                                               Pipeline(memory=None,\n",
              "                                                                                        steps=[('imputer',\n",
              "                                                                                                SimpleImputer(add_indicator=False,\n",
              "                                                                                                              copy=True,\n",
              "                                                                                                              fill_value=None,\n",
              "                                                                                                              missing_values=nan,\n",
              "                                                                                                              strategy...\n",
              "                                                           random_state=5,\n",
              "                                                           reg_alpha=0,\n",
              "                                                           reg_lambda=1,\n",
              "                                                           scale_pos_weight=1,\n",
              "                                                           seed=None,\n",
              "                                                           silent=None,\n",
              "                                                           subsample=1,\n",
              "                                                           verbosity=1))],\n",
              "                                      verbose=False),\n",
              "                   iid='warn', n_iter=5, n_jobs=-1,\n",
              "                   param_distributions={'xgb__max_depth': (1, 30),\n",
              "                                        'xgb__n_estimators': (100, 1500)},\n",
              "                   pre_dispatch='2*n_jobs', random_state=None, refit=True,\n",
              "                   return_train_score=True, scoring='neg_mean_squared_error',\n",
              "                   verbose=10)"
            ]
          },
          "metadata": {
            "tags": []
          },
          "execution_count": 41
        }
      ]
    },
    {
      "cell_type": "code",
      "metadata": {
        "id": "V1ffHcMV7Onb",
        "colab_type": "code",
        "colab": {
          "base_uri": "https://localhost:8080/",
          "height": 55
        },
        "outputId": "71a781cb-8869-4fff-8b77-98a2b619334a"
      },
      "source": [
        "pipeline.get_params().keys()"
      ],
      "execution_count": 31,
      "outputs": [
        {
          "output_type": "execute_result",
          "data": {
            "text/plain": [
              "dict_keys(['memory', 'steps', 'verbose', 'preprocessor', 'xgb', 'preprocessor__n_jobs', 'preprocessor__remainder', 'preprocessor__sparse_threshold', 'preprocessor__transformer_weights', 'preprocessor__transformers', 'preprocessor__verbose', 'preprocessor__num', 'preprocessor__one', 'preprocessor__ord', 'preprocessor__num__memory', 'preprocessor__num__steps', 'preprocessor__num__verbose', 'preprocessor__num__imputer', 'preprocessor__num__scaler', 'preprocessor__num__imputer__add_indicator', 'preprocessor__num__imputer__copy', 'preprocessor__num__imputer__fill_value', 'preprocessor__num__imputer__missing_values', 'preprocessor__num__imputer__strategy', 'preprocessor__num__imputer__verbose', 'preprocessor__num__scaler__copy', 'preprocessor__num__scaler__with_mean', 'preprocessor__num__scaler__with_std', 'preprocessor__one__memory', 'preprocessor__one__steps', 'preprocessor__one__verbose', 'preprocessor__one__imputer', 'preprocessor__one__onehot', 'preprocessor__one__imputer__add_indicator', 'preprocessor__one__imputer__copy', 'preprocessor__one__imputer__fill_value', 'preprocessor__one__imputer__missing_values', 'preprocessor__one__imputer__strategy', 'preprocessor__one__imputer__verbose', 'preprocessor__one__onehot__cols', 'preprocessor__one__onehot__drop_invariant', 'preprocessor__one__onehot__handle_missing', 'preprocessor__one__onehot__handle_unknown', 'preprocessor__one__onehot__return_df', 'preprocessor__one__onehot__use_cat_names', 'preprocessor__one__onehot__verbose', 'preprocessor__ord__memory', 'preprocessor__ord__steps', 'preprocessor__ord__verbose', 'preprocessor__ord__imputer', 'preprocessor__ord__ordinal', 'preprocessor__ord__imputer__add_indicator', 'preprocessor__ord__imputer__copy', 'preprocessor__ord__imputer__fill_value', 'preprocessor__ord__imputer__missing_values', 'preprocessor__ord__imputer__strategy', 'preprocessor__ord__imputer__verbose', 'preprocessor__ord__ordinal__cols', 'preprocessor__ord__ordinal__drop_invariant', 'preprocessor__ord__ordinal__handle_missing', 'preprocessor__ord__ordinal__handle_unknown', 'preprocessor__ord__ordinal__mapping', 'preprocessor__ord__ordinal__return_df', 'preprocessor__ord__ordinal__verbose', 'xgb__base_score', 'xgb__booster', 'xgb__colsample_bylevel', 'xgb__colsample_bynode', 'xgb__colsample_bytree', 'xgb__gamma', 'xgb__importance_type', 'xgb__learning_rate', 'xgb__max_delta_step', 'xgb__max_depth', 'xgb__min_child_weight', 'xgb__missing', 'xgb__n_estimators', 'xgb__n_jobs', 'xgb__nthread', 'xgb__objective', 'xgb__random_state', 'xgb__reg_alpha', 'xgb__reg_lambda', 'xgb__scale_pos_weight', 'xgb__seed', 'xgb__silent', 'xgb__subsample', 'xgb__verbosity'])"
            ]
          },
          "metadata": {
            "tags": []
          },
          "execution_count": 31
        }
      ]
    },
    {
      "cell_type": "code",
      "metadata": {
        "id": "g2W1eX5KqYPh",
        "colab_type": "code",
        "colab": {
          "base_uri": "https://localhost:8080/",
          "height": 52
        },
        "outputId": "2111c582-ef49-49d0-8770-ace35781889d"
      },
      "source": [
        "print('Best hyperparameters', search.best_params_)\n",
        "print('Cross-validation RMSLE', np.sqrt(-search.best_score_))"
      ],
      "execution_count": 42,
      "outputs": [
        {
          "output_type": "stream",
          "text": [
            "Best hyperparameters {'xgb__n_estimators': 100, 'xgb__max_depth': 30}\n",
            "Cross-validation RMSLE 0.511098518427849\n"
          ],
          "name": "stdout"
        }
      ]
    },
    {
      "cell_type": "code",
      "metadata": {
        "id": "6txt0exdmssl",
        "colab_type": "code",
        "colab": {
          "base_uri": "https://localhost:8080/",
          "height": 398
        },
        "outputId": "9b2f660f-9929-4e39-8fe8-81b7fd0ae87a"
      },
      "source": [
        "pd.DataFrame(search.cv_results_).sort_values(by='rank_test_score')"
      ],
      "execution_count": 43,
      "outputs": [
        {
          "output_type": "execute_result",
          "data": {
            "text/html": [
              "<div>\n",
              "<style scoped>\n",
              "    .dataframe tbody tr th:only-of-type {\n",
              "        vertical-align: middle;\n",
              "    }\n",
              "\n",
              "    .dataframe tbody tr th {\n",
              "        vertical-align: top;\n",
              "    }\n",
              "\n",
              "    .dataframe thead th {\n",
              "        text-align: right;\n",
              "    }\n",
              "</style>\n",
              "<table border=\"1\" class=\"dataframe\">\n",
              "  <thead>\n",
              "    <tr style=\"text-align: right;\">\n",
              "      <th></th>\n",
              "      <th>mean_fit_time</th>\n",
              "      <th>std_fit_time</th>\n",
              "      <th>mean_score_time</th>\n",
              "      <th>std_score_time</th>\n",
              "      <th>param_xgb__n_estimators</th>\n",
              "      <th>param_xgb__max_depth</th>\n",
              "      <th>params</th>\n",
              "      <th>split0_test_score</th>\n",
              "      <th>split1_test_score</th>\n",
              "      <th>mean_test_score</th>\n",
              "      <th>std_test_score</th>\n",
              "      <th>rank_test_score</th>\n",
              "      <th>split0_train_score</th>\n",
              "      <th>split1_train_score</th>\n",
              "      <th>mean_train_score</th>\n",
              "      <th>std_train_score</th>\n",
              "    </tr>\n",
              "  </thead>\n",
              "  <tbody>\n",
              "    <tr>\n",
              "      <th>2</th>\n",
              "      <td>5.188811</td>\n",
              "      <td>0.147231</td>\n",
              "      <td>0.341331</td>\n",
              "      <td>0.012991</td>\n",
              "      <td>100</td>\n",
              "      <td>30</td>\n",
              "      <td>{'xgb__n_estimators': 100, 'xgb__max_depth': 30}</td>\n",
              "      <td>-0.215538</td>\n",
              "      <td>-0.306905</td>\n",
              "      <td>-0.261222</td>\n",
              "      <td>0.045684</td>\n",
              "      <td>1</td>\n",
              "      <td>-0.054733</td>\n",
              "      <td>-0.039324</td>\n",
              "      <td>-0.047029</td>\n",
              "      <td>0.007704</td>\n",
              "    </tr>\n",
              "    <tr>\n",
              "      <th>3</th>\n",
              "      <td>11.423413</td>\n",
              "      <td>0.278228</td>\n",
              "      <td>0.729873</td>\n",
              "      <td>0.021187</td>\n",
              "      <td>1500</td>\n",
              "      <td>30</td>\n",
              "      <td>{'xgb__n_estimators': 1500, 'xgb__max_depth': 30}</td>\n",
              "      <td>-0.215767</td>\n",
              "      <td>-0.306923</td>\n",
              "      <td>-0.261345</td>\n",
              "      <td>0.045578</td>\n",
              "      <td>2</td>\n",
              "      <td>-0.054727</td>\n",
              "      <td>-0.039319</td>\n",
              "      <td>-0.047023</td>\n",
              "      <td>0.007704</td>\n",
              "    </tr>\n",
              "    <tr>\n",
              "      <th>1</th>\n",
              "      <td>4.853922</td>\n",
              "      <td>0.015401</td>\n",
              "      <td>0.300738</td>\n",
              "      <td>0.009759</td>\n",
              "      <td>1500</td>\n",
              "      <td>1</td>\n",
              "      <td>{'xgb__n_estimators': 1500, 'xgb__max_depth': 1}</td>\n",
              "      <td>-0.246497</td>\n",
              "      <td>-0.368107</td>\n",
              "      <td>-0.307302</td>\n",
              "      <td>0.060805</td>\n",
              "      <td>3</td>\n",
              "      <td>-0.266883</td>\n",
              "      <td>-0.190402</td>\n",
              "      <td>-0.228642</td>\n",
              "      <td>0.038241</td>\n",
              "    </tr>\n",
              "    <tr>\n",
              "      <th>0</th>\n",
              "      <td>0.375443</td>\n",
              "      <td>0.003559</td>\n",
              "      <td>0.041012</td>\n",
              "      <td>0.002085</td>\n",
              "      <td>100</td>\n",
              "      <td>1</td>\n",
              "      <td>{'xgb__n_estimators': 100, 'xgb__max_depth': 1}</td>\n",
              "      <td>-0.283093</td>\n",
              "      <td>-0.429521</td>\n",
              "      <td>-0.356307</td>\n",
              "      <td>0.073214</td>\n",
              "      <td>4</td>\n",
              "      <td>-0.404681</td>\n",
              "      <td>-0.265734</td>\n",
              "      <td>-0.335208</td>\n",
              "      <td>0.069474</td>\n",
              "    </tr>\n",
              "  </tbody>\n",
              "</table>\n",
              "</div>"
            ],
            "text/plain": [
              "   mean_fit_time  std_fit_time  ...  mean_train_score  std_train_score\n",
              "2       5.188811      0.147231  ...         -0.047029         0.007704\n",
              "3      11.423413      0.278228  ...         -0.047023         0.007704\n",
              "1       4.853922      0.015401  ...         -0.228642         0.038241\n",
              "0       0.375443      0.003559  ...         -0.335208         0.069474\n",
              "\n",
              "[4 rows x 16 columns]"
            ]
          },
          "metadata": {
            "tags": []
          },
          "execution_count": 43
        }
      ]
    },
    {
      "cell_type": "markdown",
      "metadata": {
        "id": "L7aTRC_SQzXJ",
        "colab_type": "text"
      },
      "source": [
        "## Drop-column Importance"
      ]
    },
    {
      "cell_type": "code",
      "metadata": {
        "id": "jcU9zchxBe1R",
        "colab_type": "code",
        "colab": {}
      },
      "source": [
        "%%time\n",
        "pipeline = Pipeline(steps=[('preprocessor', preprocessor),\n",
        "                           ('xgb', XGBRegressor(n_estimators=100, n_jobs=-1)),\n",
        "                     ])\n",
        "cols_drop = ['supplier']\n",
        "  \n",
        "# Fit with column\n",
        "pipeline.fit(X_train, np.log1p(y_train))   \n",
        "pred_val = pipeline.predict(X_val)\n",
        "score_with = rmse(np.log1p(y_val), pred_val)\n",
        "print(f'Validation Error with {cols_drop}', score_with)\n",
        "\n",
        "# Fit without column\n",
        "# ValueError: 'quantity' is not in list\n",
        "pipeline.fit(X_train.drop(columns=cols_drop), np.log1p(y_train))   \n",
        "pred_val = pipeline.predict(X_val.drop(columns=col_drop))\n",
        "score_without = rmse(np.log1p(y_val), pred_val)\n",
        "print(f'Validation Error without {cols_drop}', score_without)\n",
        "\n",
        "# Compare the error with & without column\n",
        "print(f'Drop-Column Importance for {col_drop}:', score_without - score_with)"
      ],
      "execution_count": 0,
      "outputs": []
    },
    {
      "cell_type": "markdown",
      "metadata": {
        "id": "1BHoqfLs-jW8",
        "colab_type": "text"
      },
      "source": [
        "### Permutation Importance"
      ]
    },
    {
      "cell_type": "code",
      "metadata": {
        "id": "mJErnay1-irM",
        "colab_type": "code",
        "colab": {
          "base_uri": "https://localhost:8080/",
          "height": 123
        },
        "outputId": "9c426dcd-f2ae-4a47-be7a-fef9d501a233"
      },
      "source": [
        "pipeline = Pipeline(steps=[('preprocessor', preprocessor),\n",
        "                           ('xgb', XGBRegressor(n_estimators=100, n_jobs=-1)),\n",
        "                     ])\n",
        "feature = 'quantity'\n",
        "\n",
        "def permutation_importance(feature='quantity'):\n",
        "  X_val_permuted = X_val.copy()\n",
        "  X_val_permuted[feature] = np.random.permutation(X_val_permuted[feature])\n",
        "\n",
        "  # Fit with column\n",
        "  pipeline.fit(X_train, np.log1p(y_train))   \n",
        "  pred_val = pipeline.predict(X_val)\n",
        "  score_with = rmse(np.log1p(y_val), pred_val)\n",
        "  print(f'Validation Error with {cols_drop}', score_with)\n",
        "\n",
        "  # Predict with permutated column\n",
        "  pred_val = pipeline.predict(X_val_permuted)\n",
        "  score_permuted = rmse(np.log1p(y_val), pred_val)\n",
        "  print(f'Validation Error with {cols_drop}', score_permuted)\n",
        "\n",
        "  print(f'Validation RMSLE with {feature}:', score_with)\n",
        "  print(f'Validation RMSLE with {feature} permuted:', score_permuted)\n",
        "  print(f'Permutation Importance:', score_permuted - score_with)\n",
        "  \n",
        "permutation_importance()"
      ],
      "execution_count": 48,
      "outputs": [
        {
          "output_type": "stream",
          "text": [
            "[06:40:11] WARNING: /workspace/src/objective/regression_obj.cu:152: reg:linear is now deprecated in favor of reg:squarederror.\n",
            "Validation Error with ['supplier'] 0.45619847505202205\n",
            "Validation Error with ['supplier'] 0.9679079478082928\n",
            "Validation RMSLE with quantity: 0.45619847505202205\n",
            "Validation RMSLE with quantity permuted: 0.9679079478082928\n",
            "Permutation Importance: 0.5117094727562708\n"
          ],
          "name": "stdout"
        }
      ]
    },
    {
      "cell_type": "code",
      "metadata": {
        "id": "N_Oczf39AkPI",
        "colab_type": "code",
        "colab": {
          "base_uri": "https://localhost:8080/",
          "height": 123
        },
        "outputId": "0fcaf375-0e94-426c-f112-fdd85af40eef"
      },
      "source": [
        "permutation_importance('supplier')"
      ],
      "execution_count": 49,
      "outputs": [
        {
          "output_type": "stream",
          "text": [
            "[06:40:22] WARNING: /workspace/src/objective/regression_obj.cu:152: reg:linear is now deprecated in favor of reg:squarederror.\n",
            "Validation Error with ['supplier'] 0.45619847505202205\n",
            "Validation Error with ['supplier'] 0.5859841139653882\n",
            "Validation RMSLE with supplier: 0.45619847505202205\n",
            "Validation RMSLE with supplier permuted: 0.5859841139653882\n",
            "Permutation Importance: 0.12978563891336614\n"
          ],
          "name": "stdout"
        }
      ]
    },
    {
      "cell_type": "markdown",
      "metadata": {
        "id": "DsZQ2V6VAu8B",
        "colab_type": "text"
      },
      "source": [
        "### eli5 library feature importance\n",
        "\n",
        "https://eli5.readthedocs.io/en/latest/autodocs/sklearn.html#eli5.sklearn.permutation_importance.PermutationImportance  \n",
        "\n"
      ]
    },
    {
      "cell_type": "code",
      "metadata": {
        "id": "zd15Em-_AuEf",
        "colab_type": "code",
        "colab": {
          "base_uri": "https://localhost:8080/",
          "height": 172
        },
        "outputId": "2d30a4f5-de58-48d2-f24b-7cc321e21026"
      },
      "source": [
        "pipeline = Pipeline(steps=[('preprocessor', preprocessor),\n",
        "                           ('xgb', XGBRegressor(n_estimators=100, n_jobs=-1)),\n",
        "                     ])\n",
        "pipeline.fit(X_train, np.log1p(y_train))\n",
        "\n",
        "permuter = PermutationImportance(pipeline['xgb'], \n",
        "                                 scoring='neg_mean_squared_error', \n",
        "                                 cv='prefit', \n",
        "                                 n_iter=2, \n",
        "                                 random_state=5)\n",
        "permuter.fit(pipeline['preprocessor'].transform(X_val), np.log1p(y_val))\n",
        "\n",
        "# Transformed features\n",
        "tfs = pipeline['preprocessor'].named_transformers_\n",
        "features_transformed = numeric_features + \\\n",
        "                       highcardi_features + \\\n",
        "                       tfs['one']['onehot'].get_feature_names()\n",
        "\n",
        "eli5.show_weights(permuter, top=None, feature_names=features_transformed)"
      ],
      "execution_count": 84,
      "outputs": [
        {
          "output_type": "stream",
          "text": [
            "[07:14:07] WARNING: /workspace/src/objective/regression_obj.cu:152: reg:linear is now deprecated in favor of reg:squarederror.\n"
          ],
          "name": "stdout"
        },
        {
          "output_type": "execute_result",
          "data": {
            "text/html": [
              "\n",
              "    <style>\n",
              "    table.eli5-weights tr:hover {\n",
              "        filter: brightness(85%);\n",
              "    }\n",
              "</style>\n",
              "\n",
              "\n",
              "\n",
              "    \n",
              "\n",
              "    \n",
              "\n",
              "    \n",
              "\n",
              "    \n",
              "\n",
              "    \n",
              "\n",
              "    \n",
              "\n",
              "\n",
              "    \n",
              "\n",
              "    \n",
              "\n",
              "    \n",
              "\n",
              "    \n",
              "\n",
              "    \n",
              "\n",
              "    \n",
              "\n",
              "\n",
              "    \n",
              "\n",
              "    \n",
              "\n",
              "    \n",
              "\n",
              "    \n",
              "\n",
              "    \n",
              "        <table class=\"eli5-weights eli5-feature-importances\" style=\"border-collapse: collapse; border: none; margin-top: 0em; table-layout: auto;\">\n",
              "    <thead>\n",
              "    <tr style=\"border: none;\">\n",
              "        <th style=\"padding: 0 1em 0 0.5em; text-align: right; border: none;\">Weight</th>\n",
              "        <th style=\"padding: 0 0.5em 0 0.5em; text-align: left; border: none;\">Feature</th>\n",
              "    </tr>\n",
              "    </thead>\n",
              "    <tbody>\n",
              "    \n",
              "        <tr style=\"background-color: hsl(120, 100.00%, 80.00%); border: none;\">\n",
              "            <td style=\"padding: 0 1em 0 0.5em; text-align: right; border: none;\">\n",
              "                0.7420\n",
              "                \n",
              "                    &plusmn; 0.0006\n",
              "                \n",
              "            </td>\n",
              "            <td style=\"padding: 0 0.5em 0 0.5em; text-align: left; border: none;\">\n",
              "                quantity\n",
              "            </td>\n",
              "        </tr>\n",
              "    \n",
              "        <tr style=\"background-color: hsl(120, 100.00%, 93.96%); border: none;\">\n",
              "            <td style=\"padding: 0 1em 0 0.5em; text-align: right; border: none;\">\n",
              "                0.1342\n",
              "                \n",
              "                    &plusmn; 0.0063\n",
              "                \n",
              "            </td>\n",
              "            <td style=\"padding: 0 0.5em 0 0.5em; text-align: left; border: none;\">\n",
              "                0_Yes\n",
              "            </td>\n",
              "        </tr>\n",
              "    \n",
              "        <tr style=\"background-color: hsl(120, 100.00%, 94.07%); border: none;\">\n",
              "            <td style=\"padding: 0 1em 0 0.5em; text-align: right; border: none;\">\n",
              "                0.1308\n",
              "                \n",
              "                    &plusmn; 0.0008\n",
              "                \n",
              "            </td>\n",
              "            <td style=\"padding: 0 0.5em 0 0.5em; text-align: left; border: none;\">\n",
              "                min_order_quantity\n",
              "            </td>\n",
              "        </tr>\n",
              "    \n",
              "        <tr style=\"background-color: hsl(120, 100.00%, 94.38%); border: none;\">\n",
              "            <td style=\"padding: 0 1em 0 0.5em; text-align: right; border: none;\">\n",
              "                0.1211\n",
              "                \n",
              "                    &plusmn; 0.0022\n",
              "                \n",
              "            </td>\n",
              "            <td style=\"padding: 0 0.5em 0 0.5em; text-align: left; border: none;\">\n",
              "                annual_usage\n",
              "            </td>\n",
              "        </tr>\n",
              "    \n",
              "        <tr style=\"background-color: hsl(120, 100.00%, 97.24%); border: none;\">\n",
              "            <td style=\"padding: 0 1em 0 0.5em; text-align: right; border: none;\">\n",
              "                0.0437\n",
              "                \n",
              "                    &plusmn; 0.0018\n",
              "                \n",
              "            </td>\n",
              "            <td style=\"padding: 0 0.5em 0 0.5em; text-align: left; border: none;\">\n",
              "                0_No\n",
              "            </td>\n",
              "        </tr>\n",
              "    \n",
              "        <tr style=\"background-color: hsl(120, 100.00%, 99.87%); border: none;\">\n",
              "            <td style=\"padding: 0 1em 0 0.5em; text-align: right; border: none;\">\n",
              "                0.0005\n",
              "                \n",
              "                    &plusmn; 0.0001\n",
              "                \n",
              "            </td>\n",
              "            <td style=\"padding: 0 0.5em 0 0.5em; text-align: left; border: none;\">\n",
              "                supplier\n",
              "            </td>\n",
              "        </tr>\n",
              "    \n",
              "        <tr style=\"background-color: hsl(0, 100.00%, 100.00%); border: none;\">\n",
              "            <td style=\"padding: 0 1em 0 0.5em; text-align: right; border: none;\">\n",
              "                0\n",
              "                \n",
              "                    &plusmn; 0.0000\n",
              "                \n",
              "            </td>\n",
              "            <td style=\"padding: 0 0.5em 0 0.5em; text-align: left; border: none;\">\n",
              "                quote_date\n",
              "            </td>\n",
              "        </tr>\n",
              "    \n",
              "    \n",
              "    </tbody>\n",
              "</table>\n",
              "    \n",
              "\n",
              "    \n",
              "\n",
              "\n",
              "    \n",
              "\n",
              "    \n",
              "\n",
              "    \n",
              "\n",
              "    \n",
              "\n",
              "    \n",
              "\n",
              "    \n",
              "\n",
              "\n",
              "\n"
            ],
            "text/plain": [
              "<IPython.core.display.HTML object>"
            ]
          },
          "metadata": {
            "tags": []
          },
          "execution_count": 84
        }
      ]
    },
    {
      "cell_type": "markdown",
      "metadata": {
        "id": "3OJ_QFXLFIlw",
        "colab_type": "text"
      },
      "source": [
        "### Partial Dependence"
      ]
    },
    {
      "cell_type": "code",
      "metadata": {
        "id": "WpL5-KgUFQ6M",
        "colab_type": "code",
        "colab": {}
      },
      "source": [
        "pipeline = Pipeline(steps=[('preprocessor', preprocessor),\n",
        "                           ('xgb', XGBRegressor(n_estimators=100, n_jobs=-1)),\n",
        "                          ])\n",
        "pipeline.fit(X_train, np.log1p(y_train))\n",
        "\n",
        "# Transformed features\n",
        "tfs = pipeline['preprocessor'].named_transformers_\n",
        "features_transformed = numeric_features + \\\n",
        "                       highcardi_features + \\\n",
        "                       tfs['one']['onehot'].get_feature_names()\n",
        "\n",
        "feature = 'quatity'\n",
        "dataset = pd.DataFrame(pipeline['preprocessor'].transform(X_val))\n",
        "dataset.columns = features_transformed \n",
        "\n",
        "# ValueError: feature_names mismatch\n",
        "isolated = pdp_isolate(\n",
        "    model=pipeline['xgb'], \n",
        "    dataset=dataset, \n",
        "    model_features=features_transformed, \n",
        "    feature=feature\n",
        ")\n",
        "pdp_plot(isolated, feature_name=feature);"
      ],
      "execution_count": 0,
      "outputs": []
    },
    {
      "cell_type": "code",
      "metadata": {
        "id": "5ilgzrZ-GLcG",
        "colab_type": "code",
        "colab": {
          "base_uri": "https://localhost:8080/",
          "height": 145
        },
        "outputId": "69e5173f-bc34-4e02-a9e4-cde83fd3b917"
      },
      "source": [
        "print(X_val.shape)\n",
        "print(X_val.columns.to_list())\n",
        "pd.DataFrame(pipeline['preprocessor'].transform(X_val)).head(2)"
      ],
      "execution_count": 108,
      "outputs": [
        {
          "output_type": "stream",
          "text": [
            "(7585, 6)\n",
            "['supplier', 'quote_date', 'annual_usage', 'min_order_quantity', 'bracket_pricing', 'quantity']\n"
          ],
          "name": "stdout"
        },
        {
          "output_type": "execute_result",
          "data": {
            "text/html": [
              "<div>\n",
              "<style scoped>\n",
              "    .dataframe tbody tr th:only-of-type {\n",
              "        vertical-align: middle;\n",
              "    }\n",
              "\n",
              "    .dataframe tbody tr th {\n",
              "        vertical-align: top;\n",
              "    }\n",
              "\n",
              "    .dataframe thead th {\n",
              "        text-align: right;\n",
              "    }\n",
              "</style>\n",
              "<table border=\"1\" class=\"dataframe\">\n",
              "  <thead>\n",
              "    <tr style=\"text-align: right;\">\n",
              "      <th></th>\n",
              "      <th>0</th>\n",
              "      <th>1</th>\n",
              "      <th>2</th>\n",
              "      <th>3</th>\n",
              "      <th>4</th>\n",
              "      <th>5</th>\n",
              "      <th>6</th>\n",
              "    </tr>\n",
              "  </thead>\n",
              "  <tbody>\n",
              "    <tr>\n",
              "      <th>0</th>\n",
              "      <td>-0.069651</td>\n",
              "      <td>-0.160617</td>\n",
              "      <td>-0.522604</td>\n",
              "      <td>1.0</td>\n",
              "      <td>0.0</td>\n",
              "      <td>1.0</td>\n",
              "      <td>1.0</td>\n",
              "    </tr>\n",
              "    <tr>\n",
              "      <th>1</th>\n",
              "      <td>-0.069651</td>\n",
              "      <td>-0.160617</td>\n",
              "      <td>-0.508581</td>\n",
              "      <td>1.0</td>\n",
              "      <td>0.0</td>\n",
              "      <td>1.0</td>\n",
              "      <td>1.0</td>\n",
              "    </tr>\n",
              "  </tbody>\n",
              "</table>\n",
              "</div>"
            ],
            "text/plain": [
              "          0         1         2    3    4    5    6\n",
              "0 -0.069651 -0.160617 -0.522604  1.0  0.0  1.0  1.0\n",
              "1 -0.069651 -0.160617 -0.508581  1.0  0.0  1.0  1.0"
            ]
          },
          "metadata": {
            "tags": []
          },
          "execution_count": 108
        }
      ]
    },
    {
      "cell_type": "code",
      "metadata": {
        "id": "4de0ychbH-Rx",
        "colab_type": "code",
        "colab": {}
      },
      "source": [
        ""
      ],
      "execution_count": 0,
      "outputs": []
    }
  ]
}