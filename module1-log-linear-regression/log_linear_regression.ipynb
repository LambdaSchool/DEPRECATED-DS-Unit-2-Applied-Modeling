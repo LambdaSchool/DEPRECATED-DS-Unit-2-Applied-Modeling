{
 "cells": [
  {
   "cell_type": "markdown",
   "metadata": {
    "colab_type": "text",
    "id": "OisISGg7HL6R"
   },
   "source": [
    "_Lambda School Data Science — Regression 2_ \n",
    "\n",
    "This sprint, your project is Caterpillar Tube Pricing: Predict the prices suppliers will quote for industrial tube assemblies.\n",
    "\n",
    "# Log-Linear Regression, Feature Engineering\n",
    "\n",
    "\n",
    "#### Objectives\n",
    "- log-transform regression target with right-skewed distribution\n",
    "- use regression metric: RMSLE\n",
    "- do feature engineering with relational data"
   ]
  },
  {
   "cell_type": "markdown",
   "metadata": {
    "colab_type": "text",
    "id": "Hzm3V46_HL6T"
   },
   "source": [
    "## Process\n",
    "\n",
    "#### Francois Chollet, [Deep Learning with Python](https://github.com/fchollet/deep-learning-with-python-notebooks/blob/master/README.md), Chapter 4: Fundamentals of machine learning, \"A universal workflow of machine learning\"\n",
    " \n",
    "> **1. Define the problem at hand and the data on which you’ll train.** Collect this data, or annotate it with labels if need be.\n",
    "\n",
    "> **2. Choose how you’ll measure success on your problem.** Which metrics will you monitor on your validation data?\n",
    "\n",
    "> **3. Determine your evaluation protocol:** hold-out validation? K-fold validation? Which portion of the data should you use for validation?\n",
    "\n",
    "> **4. Develop a first model that does better than a basic baseline:** a model with statistical power.\n",
    "\n",
    "> **5. Develop a model that overfits.** The universal tension in machine learning is between optimization and generalization; the ideal model is one that stands right at the border between underfitting and overfitting; between undercapacity and overcapacity. To figure out where this border lies, first you must cross it.\n",
    "\n",
    "> **6. Regularize your model and tune its hyperparameters, based on performance on the validation data.** Repeatedly modify your model, train it, evaluate on your validation data (not the test data, at this point), modify it again, and repeat, until the model is as good as it can get. \n",
    "\n",
    "> **Iterate on feature engineering: add new features, or remove features that don’t seem to be informative.** Once you’ve developed a satisfactory model configuration, you can train your final production model on all the available data (training and validation) and evaluate it one last time on the test set.\n"
   ]
  },
  {
   "cell_type": "markdown",
   "metadata": {
    "colab_type": "text",
    "id": "CplbgtmvHL6z"
   },
   "source": [
    "## Moore's Law dataset\n",
    "\n",
    "#### Background\n",
    "- https://en.wikipedia.org/wiki/Moore%27s_law\n",
    "- https://en.wikipedia.org/wiki/Transistor_count\n",
    "\n",
    "#### Scrape HTML tables with Pandas!\n",
    "- https://pandas.pydata.org/pandas-docs/stable/reference/api/pandas.read_html.html\n",
    "- https://medium.com/@ageitgey/quick-tip-the-easiest-way-to-grab-data-out-of-a-web-page-in-python-7153cecfca58\n",
    "\n",
    "#### More web scraping options\n",
    "- https://automatetheboringstuff.com/chapter11/"
   ]
  },
  {
   "cell_type": "code",
   "execution_count": 1,
   "metadata": {},
   "outputs": [],
   "source": [
    "import pandas as pd\n",
    "import numpy as np\n",
    "import matplotlib.pyplot as plt\n",
    "import seaborn as sns\n",
    "%matplotlib inline"
   ]
  },
  {
   "cell_type": "code",
   "execution_count": 5,
   "metadata": {},
   "outputs": [
    {
     "data": {
      "text/html": [
       "<div>\n",
       "<style scoped>\n",
       "    .dataframe tbody tr th:only-of-type {\n",
       "        vertical-align: middle;\n",
       "    }\n",
       "\n",
       "    .dataframe tbody tr th {\n",
       "        vertical-align: top;\n",
       "    }\n",
       "\n",
       "    .dataframe thead th {\n",
       "        text-align: right;\n",
       "    }\n",
       "</style>\n",
       "<table border=\"1\" class=\"dataframe\">\n",
       "  <thead>\n",
       "    <tr style=\"text-align: right;\">\n",
       "      <th></th>\n",
       "      <th>Processor</th>\n",
       "      <th>Transistor count</th>\n",
       "      <th>Date of introduction</th>\n",
       "      <th>Designer</th>\n",
       "      <th>Process</th>\n",
       "      <th>Area</th>\n",
       "    </tr>\n",
       "  </thead>\n",
       "  <tbody>\n",
       "    <tr>\n",
       "      <th>0</th>\n",
       "      <td>Intel 4004</td>\n",
       "      <td>2300</td>\n",
       "      <td>1971</td>\n",
       "      <td>Intel</td>\n",
       "      <td>10,000 nm</td>\n",
       "      <td>12 mm²</td>\n",
       "    </tr>\n",
       "    <tr>\n",
       "      <th>1</th>\n",
       "      <td>Intel 8008</td>\n",
       "      <td>3500</td>\n",
       "      <td>1972</td>\n",
       "      <td>Intel</td>\n",
       "      <td>10,000 nm</td>\n",
       "      <td>14 mm²</td>\n",
       "    </tr>\n",
       "    <tr>\n",
       "      <th>2</th>\n",
       "      <td>NEC μCOM-4</td>\n",
       "      <td>2,500[6][7]</td>\n",
       "      <td>1973</td>\n",
       "      <td>NEC</td>\n",
       "      <td>7,500 nm[8]</td>\n",
       "      <td>?</td>\n",
       "    </tr>\n",
       "    <tr>\n",
       "      <th>3</th>\n",
       "      <td>Toshiba TLCS-12</td>\n",
       "      <td>2,500[9]</td>\n",
       "      <td>1973</td>\n",
       "      <td>Toshiba</td>\n",
       "      <td>6,000 nm</td>\n",
       "      <td>32 mm²</td>\n",
       "    </tr>\n",
       "    <tr>\n",
       "      <th>4</th>\n",
       "      <td>Motorola 6800</td>\n",
       "      <td>4100</td>\n",
       "      <td>1974</td>\n",
       "      <td>Motorola</td>\n",
       "      <td>6,000 nm</td>\n",
       "      <td>16 mm²</td>\n",
       "    </tr>\n",
       "    <tr>\n",
       "      <th>5</th>\n",
       "      <td>Intel 8080</td>\n",
       "      <td>4500</td>\n",
       "      <td>1974</td>\n",
       "      <td>Intel</td>\n",
       "      <td>6,000 nm</td>\n",
       "      <td>20 mm²</td>\n",
       "    </tr>\n",
       "    <tr>\n",
       "      <th>6</th>\n",
       "      <td>TMS 1000</td>\n",
       "      <td>8000</td>\n",
       "      <td>1974[10]</td>\n",
       "      <td>Texas Instruments</td>\n",
       "      <td>8,000 nm</td>\n",
       "      <td>11 mm²</td>\n",
       "    </tr>\n",
       "    <tr>\n",
       "      <th>7</th>\n",
       "      <td>MOS Technology 6502</td>\n",
       "      <td>4,528[a][11]</td>\n",
       "      <td>1975</td>\n",
       "      <td>MOS Technology</td>\n",
       "      <td>8,000 nm</td>\n",
       "      <td>21 mm²</td>\n",
       "    </tr>\n",
       "    <tr>\n",
       "      <th>8</th>\n",
       "      <td>RCA 1802</td>\n",
       "      <td>5000</td>\n",
       "      <td>1976</td>\n",
       "      <td>RCA</td>\n",
       "      <td>5,000 nm</td>\n",
       "      <td>27 mm²</td>\n",
       "    </tr>\n",
       "    <tr>\n",
       "      <th>9</th>\n",
       "      <td>Zilog Z80</td>\n",
       "      <td>8,500[b]</td>\n",
       "      <td>1976</td>\n",
       "      <td>Zilog</td>\n",
       "      <td>4,000 nm</td>\n",
       "      <td>18 mm²</td>\n",
       "    </tr>\n",
       "    <tr>\n",
       "      <th>10</th>\n",
       "      <td>Intel 8085</td>\n",
       "      <td>6500</td>\n",
       "      <td>1976</td>\n",
       "      <td>Intel</td>\n",
       "      <td>3,000 nm</td>\n",
       "      <td>20 mm²</td>\n",
       "    </tr>\n",
       "    <tr>\n",
       "      <th>11</th>\n",
       "      <td>Motorola 6809</td>\n",
       "      <td>9000</td>\n",
       "      <td>1978</td>\n",
       "      <td>Motorola</td>\n",
       "      <td>5,000 nm</td>\n",
       "      <td>21 mm²</td>\n",
       "    </tr>\n",
       "    <tr>\n",
       "      <th>12</th>\n",
       "      <td>Intel 8086</td>\n",
       "      <td>29000</td>\n",
       "      <td>1978</td>\n",
       "      <td>Intel</td>\n",
       "      <td>3,000 nm</td>\n",
       "      <td>33 mm²</td>\n",
       "    </tr>\n",
       "    <tr>\n",
       "      <th>13</th>\n",
       "      <td>Zilog Z8000</td>\n",
       "      <td>17,500[12]</td>\n",
       "      <td>1979</td>\n",
       "      <td>Zilog</td>\n",
       "      <td>NaN</td>\n",
       "      <td>NaN</td>\n",
       "    </tr>\n",
       "    <tr>\n",
       "      <th>14</th>\n",
       "      <td>Intel 8088</td>\n",
       "      <td>29000</td>\n",
       "      <td>1979</td>\n",
       "      <td>Intel</td>\n",
       "      <td>3,000 nm</td>\n",
       "      <td>33 mm²</td>\n",
       "    </tr>\n",
       "    <tr>\n",
       "      <th>15</th>\n",
       "      <td>Motorola 68000</td>\n",
       "      <td>68,000[13]</td>\n",
       "      <td>1979</td>\n",
       "      <td>Motorola</td>\n",
       "      <td>3,500 nm</td>\n",
       "      <td>44 mm²</td>\n",
       "    </tr>\n",
       "    <tr>\n",
       "      <th>16</th>\n",
       "      <td>WDC 65C02</td>\n",
       "      <td>11,500[14]</td>\n",
       "      <td>1981</td>\n",
       "      <td>WDC</td>\n",
       "      <td>3,000 nm</td>\n",
       "      <td>6 mm²</td>\n",
       "    </tr>\n",
       "    <tr>\n",
       "      <th>17</th>\n",
       "      <td>Intel 80186</td>\n",
       "      <td>55000</td>\n",
       "      <td>1982</td>\n",
       "      <td>Intel</td>\n",
       "      <td>3,000 nm</td>\n",
       "      <td>60 mm²</td>\n",
       "    </tr>\n",
       "    <tr>\n",
       "      <th>18</th>\n",
       "      <td>Intel 80286</td>\n",
       "      <td>134000</td>\n",
       "      <td>1982</td>\n",
       "      <td>Intel</td>\n",
       "      <td>1,500 nm</td>\n",
       "      <td>49 mm²</td>\n",
       "    </tr>\n",
       "    <tr>\n",
       "      <th>19</th>\n",
       "      <td>WDC 65C816</td>\n",
       "      <td>22,000[15]</td>\n",
       "      <td>1983</td>\n",
       "      <td>WDC</td>\n",
       "      <td>3,000 nm[16]</td>\n",
       "      <td>9 mm²</td>\n",
       "    </tr>\n",
       "    <tr>\n",
       "      <th>20</th>\n",
       "      <td>NEC V20</td>\n",
       "      <td>63000</td>\n",
       "      <td>1984</td>\n",
       "      <td>NEC</td>\n",
       "      <td>NaN</td>\n",
       "      <td>NaN</td>\n",
       "    </tr>\n",
       "    <tr>\n",
       "      <th>21</th>\n",
       "      <td>Motorola 68020</td>\n",
       "      <td>190,000[17]</td>\n",
       "      <td>1984</td>\n",
       "      <td>Motorola</td>\n",
       "      <td>2,000 nm</td>\n",
       "      <td>85 mm²</td>\n",
       "    </tr>\n",
       "    <tr>\n",
       "      <th>22</th>\n",
       "      <td>Intel 80386</td>\n",
       "      <td>275000</td>\n",
       "      <td>1985</td>\n",
       "      <td>Intel</td>\n",
       "      <td>1,500 nm</td>\n",
       "      <td>104 mm²</td>\n",
       "    </tr>\n",
       "    <tr>\n",
       "      <th>23</th>\n",
       "      <td>ARM 1</td>\n",
       "      <td>25,000[17]</td>\n",
       "      <td>1985</td>\n",
       "      <td>Acorn</td>\n",
       "      <td>3,000 nm</td>\n",
       "      <td>50 mm²</td>\n",
       "    </tr>\n",
       "    <tr>\n",
       "      <th>24</th>\n",
       "      <td>Novix NC4016</td>\n",
       "      <td>16,000[18]</td>\n",
       "      <td>1985[19]</td>\n",
       "      <td>Harris Corporation</td>\n",
       "      <td>3,000 nm[20]</td>\n",
       "      <td>NaN</td>\n",
       "    </tr>\n",
       "    <tr>\n",
       "      <th>25</th>\n",
       "      <td>SPARC MB86900</td>\n",
       "      <td>110,000[21]</td>\n",
       "      <td>1986</td>\n",
       "      <td>Fujitsu</td>\n",
       "      <td>1,200 nm</td>\n",
       "      <td>NaN</td>\n",
       "    </tr>\n",
       "    <tr>\n",
       "      <th>26</th>\n",
       "      <td>NEC V60[22]</td>\n",
       "      <td>375000</td>\n",
       "      <td>1986</td>\n",
       "      <td>NEC</td>\n",
       "      <td>1,500 nm</td>\n",
       "      <td>NaN</td>\n",
       "    </tr>\n",
       "    <tr>\n",
       "      <th>27</th>\n",
       "      <td>ARM 2</td>\n",
       "      <td>30,000[17]</td>\n",
       "      <td>1986</td>\n",
       "      <td>Acorn</td>\n",
       "      <td>2,000 nm</td>\n",
       "      <td>30 mm²</td>\n",
       "    </tr>\n",
       "    <tr>\n",
       "      <th>28</th>\n",
       "      <td>NEC V70[22]</td>\n",
       "      <td>385000</td>\n",
       "      <td>1987</td>\n",
       "      <td>NEC</td>\n",
       "      <td>1,500 nm</td>\n",
       "      <td>NaN</td>\n",
       "    </tr>\n",
       "    <tr>\n",
       "      <th>29</th>\n",
       "      <td>Hitachi Gmicro/200[23]</td>\n",
       "      <td>730000</td>\n",
       "      <td>1987</td>\n",
       "      <td>Hitachi</td>\n",
       "      <td>1,000 nm</td>\n",
       "      <td>NaN</td>\n",
       "    </tr>\n",
       "    <tr>\n",
       "      <th>...</th>\n",
       "      <td>...</td>\n",
       "      <td>...</td>\n",
       "      <td>...</td>\n",
       "      <td>...</td>\n",
       "      <td>...</td>\n",
       "      <td>...</td>\n",
       "    </tr>\n",
       "    <tr>\n",
       "      <th>138</th>\n",
       "      <td>15-core Xeon Ivy Bridge-EX</td>\n",
       "      <td>4,310,000,000[73]</td>\n",
       "      <td>2014</td>\n",
       "      <td>Intel</td>\n",
       "      <td>22 nm</td>\n",
       "      <td>541 mm²</td>\n",
       "    </tr>\n",
       "    <tr>\n",
       "      <th>139</th>\n",
       "      <td>Zeppelin SoC Ryzen</td>\n",
       "      <td>4,800,000,000[74]</td>\n",
       "      <td>2017</td>\n",
       "      <td>AMD</td>\n",
       "      <td>14 nm</td>\n",
       "      <td>192 mm²</td>\n",
       "    </tr>\n",
       "    <tr>\n",
       "      <th>140</th>\n",
       "      <td>Ryzen 5 1600 Ryzen</td>\n",
       "      <td>4,800,000,000[75]</td>\n",
       "      <td>2017</td>\n",
       "      <td>AMD</td>\n",
       "      <td>14 nm</td>\n",
       "      <td>213 mm²</td>\n",
       "    </tr>\n",
       "    <tr>\n",
       "      <th>141</th>\n",
       "      <td>Ryzen 5 1600 X Ryzen</td>\n",
       "      <td>4,800,000,000[76]</td>\n",
       "      <td>2017</td>\n",
       "      <td>AMD</td>\n",
       "      <td>14 nm</td>\n",
       "      <td>213 mm²</td>\n",
       "    </tr>\n",
       "    <tr>\n",
       "      <th>142</th>\n",
       "      <td>61-core Xeon Phi</td>\n",
       "      <td>5,000,000,000[77]</td>\n",
       "      <td>2012</td>\n",
       "      <td>Intel</td>\n",
       "      <td>22 nm</td>\n",
       "      <td>720 mm²</td>\n",
       "    </tr>\n",
       "    <tr>\n",
       "      <th>143</th>\n",
       "      <td>Xbox One main SoC</td>\n",
       "      <td>5000000000</td>\n",
       "      <td>2013</td>\n",
       "      <td>Microsoft/AMD</td>\n",
       "      <td>28 nm</td>\n",
       "      <td>363 mm²</td>\n",
       "    </tr>\n",
       "    <tr>\n",
       "      <th>144</th>\n",
       "      <td>18-core Xeon Haswell-E5</td>\n",
       "      <td>5,560,000,000[78]</td>\n",
       "      <td>2014</td>\n",
       "      <td>Intel</td>\n",
       "      <td>22 nm</td>\n",
       "      <td>661 mm²</td>\n",
       "    </tr>\n",
       "    <tr>\n",
       "      <th>145</th>\n",
       "      <td>IBM z14</td>\n",
       "      <td>6100000000</td>\n",
       "      <td>2017</td>\n",
       "      <td>IBM</td>\n",
       "      <td>14 nm</td>\n",
       "      <td>696 mm²</td>\n",
       "    </tr>\n",
       "    <tr>\n",
       "      <th>146</th>\n",
       "      <td>Apple A12 Bionic (hexa-core ARM64 \"mobile SoC\")</td>\n",
       "      <td>6,900,000,000[79][80]</td>\n",
       "      <td>2018</td>\n",
       "      <td>Apple</td>\n",
       "      <td>7 nm</td>\n",
       "      <td>83.27 mm2</td>\n",
       "    </tr>\n",
       "    <tr>\n",
       "      <th>147</th>\n",
       "      <td>HiSilicon Kirin 960 (octa-core ARM64 \"mobile S...</td>\n",
       "      <td>4,000,000,000[81]</td>\n",
       "      <td>2016</td>\n",
       "      <td>Huawei</td>\n",
       "      <td>16 nm</td>\n",
       "      <td>110.00 mm2</td>\n",
       "    </tr>\n",
       "    <tr>\n",
       "      <th>148</th>\n",
       "      <td>HiSilicon Kirin 980 (octa-core ARM64 \"mobile S...</td>\n",
       "      <td>6,900,000,000[82]</td>\n",
       "      <td>2018</td>\n",
       "      <td>Huawei</td>\n",
       "      <td>7 nm</td>\n",
       "      <td>74.13 mm2</td>\n",
       "    </tr>\n",
       "    <tr>\n",
       "      <th>149</th>\n",
       "      <td>HiSilicon Kirin 970 (octa-core ARM64 \"mobile S...</td>\n",
       "      <td>5,500,000,000[83]</td>\n",
       "      <td>2017</td>\n",
       "      <td>Huawei</td>\n",
       "      <td>10 nm</td>\n",
       "      <td>96.72 mm2</td>\n",
       "    </tr>\n",
       "    <tr>\n",
       "      <th>150</th>\n",
       "      <td>HiSilicon Kirin 710 (octa-core ARM64 \"mobile S...</td>\n",
       "      <td>5,500,000,000[84]</td>\n",
       "      <td>2018</td>\n",
       "      <td>Huawei</td>\n",
       "      <td>12 nm</td>\n",
       "      <td>NaN</td>\n",
       "    </tr>\n",
       "    <tr>\n",
       "      <th>151</th>\n",
       "      <td>Xbox One X (Project Scorpio) main SoC</td>\n",
       "      <td>7,000,000,000[85]</td>\n",
       "      <td>2017</td>\n",
       "      <td>Microsoft/AMD</td>\n",
       "      <td>16 nm</td>\n",
       "      <td>360 mm²[85]</td>\n",
       "    </tr>\n",
       "    <tr>\n",
       "      <th>152</th>\n",
       "      <td>IBM z13 Storage Controller</td>\n",
       "      <td>7100000000</td>\n",
       "      <td>2015</td>\n",
       "      <td>IBM</td>\n",
       "      <td>22 nm</td>\n",
       "      <td>678 mm²</td>\n",
       "    </tr>\n",
       "    <tr>\n",
       "      <th>153</th>\n",
       "      <td>28-core Xeon Platinum 8180</td>\n",
       "      <td>8,000,000,000[86]</td>\n",
       "      <td>2017</td>\n",
       "      <td>Intel</td>\n",
       "      <td>14 nm</td>\n",
       "      <td>NaN</td>\n",
       "    </tr>\n",
       "    <tr>\n",
       "      <th>154</th>\n",
       "      <td>22-core Xeon Broadwell-E5</td>\n",
       "      <td>7,200,000,000[87]</td>\n",
       "      <td>2016</td>\n",
       "      <td>Intel</td>\n",
       "      <td>14 nm</td>\n",
       "      <td>456 mm²</td>\n",
       "    </tr>\n",
       "    <tr>\n",
       "      <th>155</th>\n",
       "      <td>POWER9</td>\n",
       "      <td>8000000000</td>\n",
       "      <td>2017</td>\n",
       "      <td>IBM</td>\n",
       "      <td>14 nm</td>\n",
       "      <td>695 mm²</td>\n",
       "    </tr>\n",
       "    <tr>\n",
       "      <th>156</th>\n",
       "      <td>72-core Xeon Phi</td>\n",
       "      <td>8000000000</td>\n",
       "      <td>2016</td>\n",
       "      <td>Intel</td>\n",
       "      <td>14 nm</td>\n",
       "      <td>683 mm²</td>\n",
       "    </tr>\n",
       "    <tr>\n",
       "      <th>157</th>\n",
       "      <td>IBM z14 Storage Controller</td>\n",
       "      <td>9700000000</td>\n",
       "      <td>2017</td>\n",
       "      <td>IBM</td>\n",
       "      <td>14 nm</td>\n",
       "      <td>696 mm²</td>\n",
       "    </tr>\n",
       "    <tr>\n",
       "      <th>158</th>\n",
       "      <td>Freedom U500 Base Platform Chip (E51, 4×U54) R...</td>\n",
       "      <td>250,000,000[88]</td>\n",
       "      <td>2017</td>\n",
       "      <td>SiFive</td>\n",
       "      <td>28 nm</td>\n",
       "      <td>~30 mm²</td>\n",
       "    </tr>\n",
       "    <tr>\n",
       "      <th>159</th>\n",
       "      <td>32-core SPARC M7</td>\n",
       "      <td>10,000,000,000[89]</td>\n",
       "      <td>2015</td>\n",
       "      <td>Oracle</td>\n",
       "      <td>20 nm</td>\n",
       "      <td>NaN</td>\n",
       "    </tr>\n",
       "    <tr>\n",
       "      <th>160</th>\n",
       "      <td>SPARC64 XII (12-core)</td>\n",
       "      <td>5,450,000,000[90]</td>\n",
       "      <td>2017</td>\n",
       "      <td>Fujitsu</td>\n",
       "      <td>20 nm</td>\n",
       "      <td>795 mm2</td>\n",
       "    </tr>\n",
       "    <tr>\n",
       "      <th>161</th>\n",
       "      <td>Apple A12X Bionic (octa-core ARM64 \"mobile SoC\")</td>\n",
       "      <td>10,000,000,000[91]</td>\n",
       "      <td>2018</td>\n",
       "      <td>Apple</td>\n",
       "      <td>7 nm</td>\n",
       "      <td>122 mm2</td>\n",
       "    </tr>\n",
       "    <tr>\n",
       "      <th>162</th>\n",
       "      <td>Apple A10X Fusion (hexa-core ARM64 \"mobile SoC\")</td>\n",
       "      <td>4,300,000,000[92]</td>\n",
       "      <td>2017</td>\n",
       "      <td>Apple</td>\n",
       "      <td>10 nm</td>\n",
       "      <td>96.40 mm2</td>\n",
       "    </tr>\n",
       "    <tr>\n",
       "      <th>163</th>\n",
       "      <td>Centriq 2400</td>\n",
       "      <td>18,000,000,000[93]</td>\n",
       "      <td>2017</td>\n",
       "      <td>Qualcomm</td>\n",
       "      <td>10 nm</td>\n",
       "      <td>398 mm2</td>\n",
       "    </tr>\n",
       "    <tr>\n",
       "      <th>164</th>\n",
       "      <td>32-core AMD Epyc</td>\n",
       "      <td>19200000000</td>\n",
       "      <td>2017</td>\n",
       "      <td>AMD</td>\n",
       "      <td>14 nm</td>\n",
       "      <td>768 mm2</td>\n",
       "    </tr>\n",
       "    <tr>\n",
       "      <th>165</th>\n",
       "      <td>Fujitsu A64FX</td>\n",
       "      <td>8,876,000,000[94]</td>\n",
       "      <td>2018[95]</td>\n",
       "      <td>Fujitsu</td>\n",
       "      <td>7 nm</td>\n",
       "      <td>NaN</td>\n",
       "    </tr>\n",
       "    <tr>\n",
       "      <th>166</th>\n",
       "      <td>GC2 IPU</td>\n",
       "      <td>23600000000</td>\n",
       "      <td>2018</td>\n",
       "      <td>Graphcore</td>\n",
       "      <td>16 nm</td>\n",
       "      <td>825 mm2</td>\n",
       "    </tr>\n",
       "    <tr>\n",
       "      <th>167</th>\n",
       "      <td>Tegra Xavier SoC</td>\n",
       "      <td>9,000,000,000[96]</td>\n",
       "      <td>2018</td>\n",
       "      <td>Nvidia</td>\n",
       "      <td>12 nm</td>\n",
       "      <td>350 mm²</td>\n",
       "    </tr>\n",
       "  </tbody>\n",
       "</table>\n",
       "<p>168 rows × 6 columns</p>\n",
       "</div>"
      ],
      "text/plain": [
       "            Processor    Transistor count Date of introduction   Designer  \\\n",
       "0          Intel 4004                2300                 1971      Intel   \n",
       "1          Intel 8008                3500                 1972      Intel   \n",
       "2          NEC μCOM-4         2,500[6][7]                 1973        NEC   \n",
       "3     Toshiba TLCS-12            2,500[9]                 1973    Toshiba   \n",
       "4       Motorola 6800                4100                 1974   Motorola   \n",
       "..                ...                 ...                  ...        ...   \n",
       "163      Centriq 2400  18,000,000,000[93]                 2017   Qualcomm   \n",
       "164  32-core AMD Epyc         19200000000                 2017        AMD   \n",
       "165     Fujitsu A64FX   8,876,000,000[94]             2018[95]    Fujitsu   \n",
       "166           GC2 IPU         23600000000                 2018  Graphcore   \n",
       "167  Tegra Xavier SoC   9,000,000,000[96]                 2018     Nvidia   \n",
       "\n",
       "         Process     Area  \n",
       "0      10,000 nm   12 mm²  \n",
       "1      10,000 nm   14 mm²  \n",
       "2    7,500 nm[8]        ?  \n",
       "3       6,000 nm   32 mm²  \n",
       "4       6,000 nm   16 mm²  \n",
       "..           ...      ...  \n",
       "163        10 nm  398 mm2  \n",
       "164        14 nm  768 mm2  \n",
       "165         7 nm      NaN  \n",
       "166        16 nm  825 mm2  \n",
       "167        12 nm  350 mm²  \n",
       "\n",
       "[168 rows x 6 columns]"
      ]
     },
     "execution_count": 5,
     "metadata": {},
     "output_type": "execute_result"
    }
   ],
   "source": [
    "tables[0]"
   ]
  },
  {
   "cell_type": "code",
   "execution_count": 3,
   "metadata": {
    "colab": {
     "base_uri": "https://localhost:8080/",
     "height": 290
    },
    "colab_type": "code",
    "id": "kUBrurudHL60",
    "outputId": "bd603631-e4bb-4eff-9105-40830644f86c"
   },
   "outputs": [
    {
     "data": {
      "image/png": "[encoded data removed]",
      "text/plain": [
       "<Figure size 432x288 with 1 Axes>"
      ]
     },
     "metadata": {
      "needs_background": "light"
     },
     "output_type": "display_data"
    }
   ],
   "source": [
    "# Scrape data\n",
    "tables = pd.read_html('https://en.wikipedia.org/wiki/Transistor_count', header=0)\n",
    "moore = tables[0]\n",
    "moore = moore[['Date of introduction', 'Transistor count']].dropna()\n",
    "\n",
    "# Clean data\n",
    "for column in moore:\n",
    "    moore[column] = (moore[column]\n",
    "                     .str.split('[').str[0]  # Remove citations\n",
    "                     .str.replace(r'\\D','')  # Remove non-digit characters\n",
    "                     .astype(int))\n",
    "    \n",
    "moore = moore.sort_values(by='Date of introduction')\n",
    "\n",
    "# Plot distribution of transistor counts\n",
    "sns.distplot(moore['Transistor count']);"
   ]
  },
  {
   "cell_type": "code",
   "execution_count": 7,
   "metadata": {
    "colab": {
     "base_uri": "https://localhost:8080/",
     "height": 290
    },
    "colab_type": "code",
    "id": "ktI__vcPHL65",
    "outputId": "0ceb0eb5-6c00-46d7-85df-a40c8e1147df"
   },
   "outputs": [
    {
     "data": {
      "image/png": "[encoded data removed]",
      "text/plain": [
       "<Figure size 432x288 with 1 Axes>"
      ]
     },
     "metadata": {
      "needs_background": "light"
     },
     "output_type": "display_data"
    }
   ],
   "source": [
    "# Plot the relationship between date & transistors\n",
    "moore.plot(x='Date of introduction', y='Transistor count', kind='scatter', alpha=0.5);"
   ]
  },
  {
   "cell_type": "code",
   "execution_count": 8,
   "metadata": {
    "colab": {},
    "colab_type": "code",
    "id": "u9s_ajWaHL67"
   },
   "outputs": [],
   "source": [
    "# Log-transform the target\n",
    "moore['log(Transistor count)'] = np.log(moore['Transistor count'])"
   ]
  },
  {
   "cell_type": "code",
   "execution_count": 9,
   "metadata": {
    "colab": {
     "base_uri": "https://localhost:8080/",
     "height": 283
    },
    "colab_type": "code",
    "id": "OaWTYcLQHL69",
    "outputId": "914b8e61-b0e1-4717-921b-12126695b689"
   },
   "outputs": [
    {
     "data": {
      "image/png": "[encoded data removed]",
      "text/plain": [
       "<Figure size 432x288 with 1 Axes>"
      ]
     },
     "metadata": {
      "needs_background": "light"
     },
     "output_type": "display_data"
    }
   ],
   "source": [
    "# Plot distribution of log-transformed target\n",
    "sns.distplot(moore['log(Transistor count)']);"
   ]
  },
  {
   "cell_type": "code",
   "execution_count": 10,
   "metadata": {
    "colab": {
     "base_uri": "https://localhost:8080/",
     "height": 283
    },
    "colab_type": "code",
    "id": "6Q6XBhQmHL6_",
    "outputId": "aa1036ef-1767-45ad-91a1-4cd8dc3572ec"
   },
   "outputs": [
    {
     "data": {
      "image/png": "[encoded data removed]",
      "text/plain": [
       "<Figure size 432x288 with 1 Axes>"
      ]
     },
     "metadata": {
      "needs_background": "light"
     },
     "output_type": "display_data"
    }
   ],
   "source": [
    "# Plot relationship between date & log-transformed target\n",
    "moore.plot(x='Date of introduction', y='log(Transistor count)', kind='scatter', alpha=0.5);"
   ]
  },
  {
   "cell_type": "markdown",
   "metadata": {
    "colab_type": "text",
    "id": "oHzoyXgcHL6u"
   },
   "source": [
    "#### Terence Parr & Jeremy Howard, [The Mechanics of Machine Learning, Chapter 5.5](https://mlbook.explained.ai/prep.html#logtarget)\n",
    "\n",
    "> Transforming the target variable (using the mathematical log function) into a tighter, more uniform space makes life easier for any model.\n",
    "\n",
    "> The only problem is that, while easy to execute, understanding why taking the log of the target variable works and how it affects the training/testing process is intellectually challenging. You can skip this section for now, if you like, but just remember that this technique exists and check back here if needed in the future.\n",
    "\n",
    "> Optimally, the distribution of prices would be a narrow “bell curve” distribution without a tail. This would make predictions based upon average prices more accurate. We need a mathematical operation that transforms the widely-distributed target prices into a new space. The “price in dollars space” has a long right tail because of outliers and we want to squeeze that space into a new space that is normally distributed (“bell curved”). More specifically, we need to shrink large values a lot and smaller values a little. That magic operation is called the logarithm or log for short. \n",
    "\n",
    "> To make actual predictions, we have to take the exp of model predictions to get prices in dollars instead of log dollars."
   ]
  },
  {
   "cell_type": "markdown",
   "metadata": {
    "colab_type": "text",
    "id": "Om5LVgmqHL6v"
   },
   "source": [
    "#### Wikipedia, [Logarithm](https://en.wikipedia.org/wiki/Logarithm)\n",
    "\n",
    "> Addition, multiplication, and exponentiation are three fundamental arithmetic operations. Addition can be undone by subtraction. Multiplication can be undone by division. The idea and purpose of **logarithms** is also to **undo** a fundamental arithmetic operation, namely raising a number to a certain power, an operation also known as **exponentiation.** \n",
    "\n",
    "> For example, raising 2 to the third power yields 8.\n",
    "\n",
    "> The logarithm (with respect to base 2) of 8 is 3, reflecting the fact that 2 was raised to the third power to get 8."
   ]
  },
  {
   "cell_type": "markdown",
   "metadata": {
    "colab_type": "text",
    "id": "5Q5m3kThHL6v"
   },
   "source": [
    "### Use Numpy for exponents and logarithms functions\n",
    "- https://docs.scipy.org/doc/numpy/reference/routines.math.html#exponents-and-logarithms"
   ]
  },
  {
   "cell_type": "code",
   "execution_count": null,
   "metadata": {
    "colab": {
     "base_uri": "https://localhost:8080/",
     "height": 34
    },
    "colab_type": "code",
    "id": "IwXxhlqjHL6w",
    "outputId": "c6468b87-56f9-4791-9311-2cfca2feab65"
   },
   "outputs": [],
   "source": [
    "2 ** 3"
   ]
  },
  {
   "cell_type": "code",
   "execution_count": null,
   "metadata": {
    "colab": {
     "base_uri": "https://localhost:8080/",
     "height": 34
    },
    "colab_type": "code",
    "id": "DZ2VhHlrsKgE",
    "outputId": "a309bde9-aaf0-46cd-a10d-a334363143eb"
   },
   "outputs": [],
   "source": [
    "np.log2(8)"
   ]
  },
  {
   "cell_type": "code",
   "execution_count": null,
   "metadata": {
    "colab": {
     "base_uri": "https://localhost:8080/",
     "height": 34
    },
    "colab_type": "code",
    "id": "2an7cb9bsQT0",
    "outputId": "9e08d946-a090-4963-daa6-df0a2d0fe00b"
   },
   "outputs": [],
   "source": [
    "np.e ** 42"
   ]
  },
  {
   "cell_type": "code",
   "execution_count": null,
   "metadata": {
    "colab": {
     "base_uri": "https://localhost:8080/",
     "height": 34
    },
    "colab_type": "code",
    "id": "8XeS6FMvsZgd",
    "outputId": "352add88-e3e1-4597-d64c-539288f41b50"
   },
   "outputs": [],
   "source": [
    "np.log(1.7392749415204972e+18)"
   ]
  },
  {
   "cell_type": "code",
   "execution_count": null,
   "metadata": {},
   "outputs": [],
   "source": [
    "np.e"
   ]
  },
  {
   "cell_type": "code",
   "execution_count": null,
   "metadata": {
    "colab": {
     "base_uri": "https://localhost:8080/",
     "height": 68
    },
    "colab_type": "code",
    "id": "9-oPqqwSsdzd",
    "outputId": "824afd31-f4a1-4b2f-b0c9-eefce7e2673d"
   },
   "outputs": [],
   "source": [
    "np.log(0)"
   ]
  },
  {
   "cell_type": "code",
   "execution_count": null,
   "metadata": {},
   "outputs": [],
   "source": [
    "np.log(1)"
   ]
  },
  {
   "cell_type": "code",
   "execution_count": null,
   "metadata": {
    "colab": {
     "base_uri": "https://localhost:8080/",
     "height": 34
    },
    "colab_type": "code",
    "id": "dNLtVnGOsh8i",
    "outputId": "b5e501d7-4fd7-44f8-cc56-5d968a96fcdb"
   },
   "outputs": [],
   "source": [
    "np.log1p(0)"
   ]
  },
  {
   "cell_type": "code",
   "execution_count": null,
   "metadata": {
    "colab": {
     "base_uri": "https://localhost:8080/",
     "height": 34
    },
    "colab_type": "code",
    "id": "J51MuUUssmaz",
    "outputId": "8d3787c6-fb05-41d7-9235-9df469781751"
   },
   "outputs": [],
   "source": [
    "np.log1p(42)"
   ]
  },
  {
   "cell_type": "code",
   "execution_count": null,
   "metadata": {},
   "outputs": [],
   "source": [
    "np.log(42 + 1)"
   ]
  },
  {
   "cell_type": "code",
   "execution_count": null,
   "metadata": {
    "colab": {
     "base_uri": "https://localhost:8080/",
     "height": 34
    },
    "colab_type": "code",
    "id": "8MU4vRQ0solk",
    "outputId": "9b585ab7-f6ca-4888-91ec-51197cd4d0f4"
   },
   "outputs": [],
   "source": [
    "np.expm1(3.7612001156935624)"
   ]
  },
  {
   "cell_type": "code",
   "execution_count": null,
   "metadata": {},
   "outputs": [],
   "source": [
    "np.exp(3.7612001156935624) - 1"
   ]
  },
  {
   "cell_type": "code",
   "execution_count": 11,
   "metadata": {
    "colab": {
     "base_uri": "https://localhost:8080/",
     "height": 283
    },
    "colab_type": "code",
    "id": "iSL4eEUiHL7A",
    "outputId": "d7bbf14c-6a50-4a1f-b33d-823574e0474d",
    "scrolled": true
   },
   "outputs": [],
   "source": [
    "# Fit Linear Regression with log-transformed target\n",
    "from sklearn.linear_model import LinearRegression\n",
    "model = LinearRegression()\n",
    "X = moore[['Date of introduction']]\n",
    "y_log = moore['log(Transistor count)']"
   ]
  },
  {
   "cell_type": "code",
   "execution_count": 12,
   "metadata": {},
   "outputs": [],
   "source": [
    "model.fit(X, y_log)\n",
    "y_pred_log = model.predict(X)"
   ]
  },
  {
   "cell_type": "code",
   "execution_count": 13,
   "metadata": {},
   "outputs": [
    {
     "data": {
      "image/png": "[encoded data removed]",
      "text/plain": [
       "<Figure size 432x288 with 1 Axes>"
      ]
     },
     "metadata": {
      "needs_background": "light"
     },
     "output_type": "display_data"
    }
   ],
   "source": [
    "# Plot line of best fit, in units of log-transistors\n",
    "ax = moore.plot(x='Date of introduction', y='log(Transistor count)', kind='scatter', alpha=0.5)\n",
    "ax.plot(X, y_pred_log);"
   ]
  },
  {
   "cell_type": "code",
   "execution_count": 14,
   "metadata": {
    "colab": {
     "base_uri": "https://localhost:8080/",
     "height": 290
    },
    "colab_type": "code",
    "id": "YKNP4ZtHHL7C",
    "outputId": "c28598e2-f26f-4349-d77f-ad828503c20a"
   },
   "outputs": [
    {
     "data": {
      "image/png": "[encoded data removed]",
      "text/plain": [
       "<Figure size 432x288 with 1 Axes>"
      ]
     },
     "metadata": {
      "needs_background": "light"
     },
     "output_type": "display_data"
    }
   ],
   "source": [
    "# Convert log-transistors to transistors\n",
    "y_pred = np.expm1(y_pred_log)\n",
    "\n",
    "# Plot line of best fit, in units of transistors\n",
    "ax = moore.plot(x='Date of introduction', y='Transistor count', kind='scatter', alpha=0.5)\n",
    "ax.plot(X, y_pred);"
   ]
  },
  {
   "cell_type": "markdown",
   "metadata": {},
   "source": [
    "## Caterpillar dataset"
   ]
  },
  {
   "cell_type": "markdown",
   "metadata": {
    "colab_type": "text",
    "id": "k792L1ItHL6U"
   },
   "source": [
    "## Define the problem 🚜\n",
    "\n",
    "#### [Description](https://www.kaggle.com/c/caterpillar-tube-pricing/overview/description)\n",
    "\n",
    "> Like snowflakes, it's difficult to find two tubes in Caterpillar's diverse catalogue of machinery that are exactly alike. Tubes can vary across a number of dimensions, including base materials, number of bends, bend radius, bolt patterns, and end types.\n",
    "\n",
    "> Currently, Caterpillar relies on a variety of suppliers to manufacture these tube assemblies, each having their own unique pricing model. This competition provides detailed tube, component, and annual volume datasets, and challenges you to predict the price a supplier will quote for a given tube assembly. \n",
    "\n",
    "\n"
   ]
  },
  {
   "cell_type": "markdown",
   "metadata": {
    "colab_type": "text",
    "id": "UgNzQlgnHL6V"
   },
   "source": [
    "## Define the data on which you'll train\n",
    "\n",
    "#### [Data Description](https://www.kaggle.com/c/caterpillar-tube-pricing/data)\n",
    "\n",
    "> The dataset is comprised of a large number of relational tables that describe the physical properties of tube assemblies. You are challenged to combine the characteristics of each tube assembly with supplier pricing dynamics in order to forecast a quote price for each tube. The quote price is labeled as cost in the data.\n"
   ]
  },
  {
   "cell_type": "markdown",
   "metadata": {
    "colab_type": "text",
    "id": "ECT6GwrnHL6V"
   },
   "source": [
    "## Get data\n",
    "\n",
    "\n",
    "### Option 1. Kaggle web UI\n",
    " \n",
    "Sign in to Kaggle and go to the [Caterpillar Tube Pricing](https://www.kaggle.com/c/caterpillar-tube-pricing) competition. Go to the Data page. After you have accepted the rules of the competition, use the download buttons to download the data.\n",
    "\n",
    "\n",
    "### Option 2. Kaggle API\n",
    "\n",
    "1. [Follow these instructions](https://github.com/Kaggle/kaggle-api#api-credentials) to create a Kaggle “API Token” and download your `kaggle.json` file.\n",
    "\n",
    "2. Put `kaggle.json` in the correct location.\n",
    "\n",
    "  - If you're using Anaconda, put the file in the directory specified in the [instructions](https://github.com/Kaggle/kaggle-api#api-credentials).\n",
    "\n",
    "  - If you're using Google Colab, upload the file to your Google Drive, and run this cell:\n",
    "\n",
    "  ```\n",
    "  from google.colab import drive\n",
    "  drive.mount('/content/drive')\n",
    "  %env KAGGLE_CONFIG_DIR=/content/drive/My Drive/\n",
    "  ```\n",
    "\n",
    "3. Install the Kaggle API package.\n",
    "```\n",
    "pip install kaggle\n",
    "```\n",
    "\n",
    "4. After you have accepted the rules of the competiton, use the Kaggle API package to get the data.\n",
    "```\n",
    "kaggle competitions download -c caterpillar-tube-pricing\n",
    "```\n",
    "\n",
    "### Option 3. GitHub Repo\n",
    "\n",
    "Get the zip file from the [GitHub repo](https://github.com/LambdaSchool/DS-Unit-2-Applied-Modeling/tree/master/data/caterpillar), by cloning locally, or downloading directly from the web."
   ]
  },
  {
   "cell_type": "code",
   "execution_count": 24,
   "metadata": {
    "colab": {
     "base_uri": "https://localhost:8080/",
     "height": 204
    },
    "colab_type": "code",
    "id": "VriThqfw7sBw",
    "outputId": "dd24afc9-6b65-457e-ae62-c98270621c65"
   },
   "outputs": [
    {
     "name": "stdout",
     "output_type": "stream",
     "text": [
      "/bin/sh: wget: command not found\r\n"
     ]
    }
   ],
   "source": [
    "!wget 'https://raw.githubusercontent.com/LambdaSchool/DS-Unit-2-Applied-Modeling/master/data/caterpillar/caterpillar-tube-pricing.zip'"
   ]
  },
  {
   "cell_type": "code",
   "execution_count": 25,
   "metadata": {
    "colab": {
     "base_uri": "https://localhost:8080/",
     "height": 34
    },
    "colab_type": "code",
    "id": "zb5XAW-hdI-T",
    "outputId": "20c72f0f-1c78-400d-91ab-e5c9bb1b77f3"
   },
   "outputs": [
    {
     "name": "stdout",
     "output_type": "stream",
     "text": [
      "ls: *.zip: No such file or directory\r\n"
     ]
    }
   ],
   "source": [
    "!ls *.zip"
   ]
  },
  {
   "cell_type": "code",
   "execution_count": 26,
   "metadata": {
    "colab": {
     "base_uri": "https://localhost:8080/",
     "height": 85
    },
    "colab_type": "code",
    "id": "awrYyOiA7eYf",
    "outputId": "732b70ba-d109-4ac7-e5fa-dede79612c36"
   },
   "outputs": [
    {
     "name": "stdout",
     "output_type": "stream",
     "text": [
      "unzip:  cannot find or open caterpillar-tube-pricing.zip, caterpillar-tube-pricing.zip.zip or caterpillar-tube-pricing.zip.ZIP.\r\n"
     ]
    }
   ],
   "source": [
    "!unzip -o caterpillar-tube-pricing.zip"
   ]
  },
  {
   "cell_type": "code",
   "execution_count": null,
   "metadata": {
    "colab": {
     "base_uri": "https://localhost:8080/",
     "height": 408
    },
    "colab_type": "code",
    "id": "N57PgMQD726C",
    "outputId": "2ea01ff7-fc63-443b-8ba4-4e803b22b86a"
   },
   "outputs": [],
   "source": [
    "!unzip -o data.zip"
   ]
  },
  {
   "cell_type": "markdown",
   "metadata": {
    "colab_type": "text",
    "id": "_aKl93NNHL6c"
   },
   "source": [
    "#### Get filenames & shapes\n",
    "\n",
    "[Python Standard Library: glob](https://docs.python.org/3/library/glob.html)\n",
    "\n",
    "> The `glob` module finds all the pathnames matching a specified pattern"
   ]
  },
  {
   "cell_type": "code",
   "execution_count": 31,
   "metadata": {},
   "outputs": [],
   "source": [
    "from glob import glob"
   ]
  },
  {
   "cell_type": "code",
   "execution_count": 32,
   "metadata": {
    "colab": {
     "base_uri": "https://localhost:8080/",
     "height": 374
    },
    "colab_type": "code",
    "id": "_Tj2AaOmHL6c",
    "outputId": "d1cda1d2-3f4a-4df6-f3b3-2b4b5b692a8e"
   },
   "outputs": [],
   "source": [
    "import pandas as pd\n",
    "\n",
    "for path in glob('competition_data/*.csv'):\n",
    "    df = pd.read_csv(path)\n",
    "    print(path, df.shape)"
   ]
  },
  {
   "cell_type": "markdown",
   "metadata": {
    "colab_type": "text",
    "id": "CxFid8L7HL6e"
   },
   "source": [
    "\n",
    "##  Choose how you'll measure success on your problem\n",
    "\n",
    "> Which metrics will you monitor on your validation data?\n",
    "\n",
    "#### [Evaluation](https://www.kaggle.com/c/caterpillar-tube-pricing/overview/evaluation)\n",
    "\n",
    "> Submissions are evaluated one the Root Mean Squared Logarithmic Error (RMSLE). The RMSLE is calculated as\n",
    ">\n",
    "> $\\sqrt{\\frac{1}{n} \\sum_{i=1}^{n}\\left(\\log \\left(p_{i}+1\\right)-\\log \\left(a_{i}+1\\right)\\right)^{2}}$\n",
    ">\n",
    "> Where:\n",
    ">\n",
    "> - $n$ is the number of price quotes in the test set\n",
    "> - $p_i$ is your predicted price\n",
    "> - $a_i$ is the actual price\n",
    "> - $log(x)$ is the natural logarithm\n",
    "\n",
    "#### [Scikit-Learn User Guide](https://scikit-learn.org/stable/modules/model_evaluation.html#mean-squared-log-error)\n",
    "\n",
    "> The `mean_squared_log_error` function is best to use when targets have exponential growth, such as population counts, average sales of a commodity over a span of years etc. Note that this metric penalizes an under-predicted estimate greater than an over-predicted estimate."
   ]
  },
  {
   "cell_type": "code",
   "execution_count": 33,
   "metadata": {
    "colab": {},
    "colab_type": "code",
    "id": "Dnc8Mr_hHL6f"
   },
   "outputs": [],
   "source": [
    "import numpy as np\n",
    "from sklearn.metrics import mean_squared_log_error\n",
    "\n",
    "def rmsle(y_true, y_pred):\n",
    "    return np.sqrt(mean_squared_log_error(y_true, y_pred))"
   ]
  },
  {
   "cell_type": "markdown",
   "metadata": {
    "colab_type": "text",
    "id": "2iVqdvmBHL6g"
   },
   "source": [
    "## Determine your evaluation protocol\n",
    "\n",
    "> Which portion of the data should you use for validation?\n",
    "\n",
    "#### Rachel Thomas, [How (and why) to create a good validation set](https://www.fast.ai/2017/11/13/validation-sets/)\n",
    "\n",
    "> You will want to create your own training and validation sets (by splitting the Kaggle “training” data). You will just use your smaller training set (a subset of Kaggle’s training data) for building your model, and you can evaluate it on your validation set (also a subset of Kaggle’s training data) before you submit to Kaggle.\n",
    "\n",
    "> When is a random subset not good enough?\n",
    "> - Time series\n",
    "> - New people, new boats, new…"
   ]
  },
  {
   "cell_type": "markdown",
   "metadata": {
    "colab_type": "text",
    "id": "RZ6M5XXPHL6h"
   },
   "source": [
    "#### Does the test set have different dates?"
   ]
  },
  {
   "cell_type": "code",
   "execution_count": 35,
   "metadata": {
    "colab": {},
    "colab_type": "code",
    "id": "UVh48zH-HL6h"
   },
   "outputs": [],
   "source": [
    "trainval = pd.read_csv('/Users/ericchiyembekeza/Desktop/Lambda School/DS-Unit-2-Applied-Modeling/data/caterpillar/caterpillar-tube-pricing/competition_data/train_set.csv')\n",
    "test = pd.read_csv('/Users/ericchiyembekeza/Desktop/Lambda School/DS-Unit-2-Applied-Modeling/data/caterpillar/caterpillar-tube-pricing/competition_data/test_set.csv')"
   ]
  },
  {
   "cell_type": "code",
   "execution_count": 36,
   "metadata": {
    "colab": {
     "base_uri": "https://localhost:8080/",
     "height": 359
    },
    "colab_type": "code",
    "id": "nbez5Z4Wh_Z8",
    "outputId": "628e0e56-9c77-49fa-c202-f3f3a7cf95d3"
   },
   "outputs": [
    {
     "data": {
      "text/html": [
       "<div>\n",
       "<style scoped>\n",
       "    .dataframe tbody tr th:only-of-type {\n",
       "        vertical-align: middle;\n",
       "    }\n",
       "\n",
       "    .dataframe tbody tr th {\n",
       "        vertical-align: top;\n",
       "    }\n",
       "\n",
       "    .dataframe thead th {\n",
       "        text-align: right;\n",
       "    }\n",
       "</style>\n",
       "<table border=\"1\" class=\"dataframe\">\n",
       "  <thead>\n",
       "    <tr style=\"text-align: right;\">\n",
       "      <th></th>\n",
       "      <th>tube_assembly_id</th>\n",
       "      <th>supplier</th>\n",
       "      <th>quote_date</th>\n",
       "      <th>annual_usage</th>\n",
       "      <th>min_order_quantity</th>\n",
       "      <th>bracket_pricing</th>\n",
       "      <th>quantity</th>\n",
       "      <th>cost</th>\n",
       "    </tr>\n",
       "  </thead>\n",
       "  <tbody>\n",
       "    <tr>\n",
       "      <th>0</th>\n",
       "      <td>TA-00002</td>\n",
       "      <td>S-0066</td>\n",
       "      <td>2013-07-07</td>\n",
       "      <td>0</td>\n",
       "      <td>0</td>\n",
       "      <td>Yes</td>\n",
       "      <td>1</td>\n",
       "      <td>21.905933</td>\n",
       "    </tr>\n",
       "    <tr>\n",
       "      <th>1</th>\n",
       "      <td>TA-00002</td>\n",
       "      <td>S-0066</td>\n",
       "      <td>2013-07-07</td>\n",
       "      <td>0</td>\n",
       "      <td>0</td>\n",
       "      <td>Yes</td>\n",
       "      <td>2</td>\n",
       "      <td>12.341214</td>\n",
       "    </tr>\n",
       "    <tr>\n",
       "      <th>2</th>\n",
       "      <td>TA-00002</td>\n",
       "      <td>S-0066</td>\n",
       "      <td>2013-07-07</td>\n",
       "      <td>0</td>\n",
       "      <td>0</td>\n",
       "      <td>Yes</td>\n",
       "      <td>5</td>\n",
       "      <td>6.601826</td>\n",
       "    </tr>\n",
       "    <tr>\n",
       "      <th>3</th>\n",
       "      <td>TA-00002</td>\n",
       "      <td>S-0066</td>\n",
       "      <td>2013-07-07</td>\n",
       "      <td>0</td>\n",
       "      <td>0</td>\n",
       "      <td>Yes</td>\n",
       "      <td>10</td>\n",
       "      <td>4.687770</td>\n",
       "    </tr>\n",
       "    <tr>\n",
       "      <th>4</th>\n",
       "      <td>TA-00002</td>\n",
       "      <td>S-0066</td>\n",
       "      <td>2013-07-07</td>\n",
       "      <td>0</td>\n",
       "      <td>0</td>\n",
       "      <td>Yes</td>\n",
       "      <td>25</td>\n",
       "      <td>3.541561</td>\n",
       "    </tr>\n",
       "    <tr>\n",
       "      <th>5</th>\n",
       "      <td>TA-00002</td>\n",
       "      <td>S-0066</td>\n",
       "      <td>2013-07-07</td>\n",
       "      <td>0</td>\n",
       "      <td>0</td>\n",
       "      <td>Yes</td>\n",
       "      <td>50</td>\n",
       "      <td>3.224406</td>\n",
       "    </tr>\n",
       "    <tr>\n",
       "      <th>6</th>\n",
       "      <td>TA-00002</td>\n",
       "      <td>S-0066</td>\n",
       "      <td>2013-07-07</td>\n",
       "      <td>0</td>\n",
       "      <td>0</td>\n",
       "      <td>Yes</td>\n",
       "      <td>100</td>\n",
       "      <td>3.082521</td>\n",
       "    </tr>\n",
       "    <tr>\n",
       "      <th>7</th>\n",
       "      <td>TA-00002</td>\n",
       "      <td>S-0066</td>\n",
       "      <td>2013-07-07</td>\n",
       "      <td>0</td>\n",
       "      <td>0</td>\n",
       "      <td>Yes</td>\n",
       "      <td>250</td>\n",
       "      <td>2.999060</td>\n",
       "    </tr>\n",
       "    <tr>\n",
       "      <th>8</th>\n",
       "      <td>TA-00004</td>\n",
       "      <td>S-0066</td>\n",
       "      <td>2013-07-07</td>\n",
       "      <td>0</td>\n",
       "      <td>0</td>\n",
       "      <td>Yes</td>\n",
       "      <td>1</td>\n",
       "      <td>21.972702</td>\n",
       "    </tr>\n",
       "    <tr>\n",
       "      <th>9</th>\n",
       "      <td>TA-00004</td>\n",
       "      <td>S-0066</td>\n",
       "      <td>2013-07-07</td>\n",
       "      <td>0</td>\n",
       "      <td>0</td>\n",
       "      <td>Yes</td>\n",
       "      <td>2</td>\n",
       "      <td>12.407983</td>\n",
       "    </tr>\n",
       "  </tbody>\n",
       "</table>\n",
       "</div>"
      ],
      "text/plain": [
       "  tube_assembly_id supplier  quote_date  annual_usage  min_order_quantity  \\\n",
       "0         TA-00002   S-0066  2013-07-07             0                   0   \n",
       "1         TA-00002   S-0066  2013-07-07             0                   0   \n",
       "2         TA-00002   S-0066  2013-07-07             0                   0   \n",
       "3         TA-00002   S-0066  2013-07-07             0                   0   \n",
       "4         TA-00002   S-0066  2013-07-07             0                   0   \n",
       "5         TA-00002   S-0066  2013-07-07             0                   0   \n",
       "6         TA-00002   S-0066  2013-07-07             0                   0   \n",
       "7         TA-00002   S-0066  2013-07-07             0                   0   \n",
       "8         TA-00004   S-0066  2013-07-07             0                   0   \n",
       "9         TA-00004   S-0066  2013-07-07             0                   0   \n",
       "\n",
       "  bracket_pricing  quantity       cost  \n",
       "0             Yes         1  21.905933  \n",
       "1             Yes         2  12.341214  \n",
       "2             Yes         5   6.601826  \n",
       "3             Yes        10   4.687770  \n",
       "4             Yes        25   3.541561  \n",
       "5             Yes        50   3.224406  \n",
       "6             Yes       100   3.082521  \n",
       "7             Yes       250   2.999060  \n",
       "8             Yes         1  21.972702  \n",
       "9             Yes         2  12.407983  "
      ]
     },
     "execution_count": 36,
     "metadata": {},
     "output_type": "execute_result"
    }
   ],
   "source": [
    "trainval.head(10)"
   ]
  },
  {
   "cell_type": "code",
   "execution_count": 37,
   "metadata": {
    "colab": {
     "base_uri": "https://localhost:8080/",
     "height": 359
    },
    "colab_type": "code",
    "id": "RcTpxXGmiBkf",
    "outputId": "536f47b5-486e-4044-8a86-e578d2b4aca9"
   },
   "outputs": [
    {
     "data": {
      "text/html": [
       "<div>\n",
       "<style scoped>\n",
       "    .dataframe tbody tr th:only-of-type {\n",
       "        vertical-align: middle;\n",
       "    }\n",
       "\n",
       "    .dataframe tbody tr th {\n",
       "        vertical-align: top;\n",
       "    }\n",
       "\n",
       "    .dataframe thead th {\n",
       "        text-align: right;\n",
       "    }\n",
       "</style>\n",
       "<table border=\"1\" class=\"dataframe\">\n",
       "  <thead>\n",
       "    <tr style=\"text-align: right;\">\n",
       "      <th></th>\n",
       "      <th>id</th>\n",
       "      <th>tube_assembly_id</th>\n",
       "      <th>supplier</th>\n",
       "      <th>quote_date</th>\n",
       "      <th>annual_usage</th>\n",
       "      <th>min_order_quantity</th>\n",
       "      <th>bracket_pricing</th>\n",
       "      <th>quantity</th>\n",
       "    </tr>\n",
       "  </thead>\n",
       "  <tbody>\n",
       "    <tr>\n",
       "      <th>0</th>\n",
       "      <td>1</td>\n",
       "      <td>TA-00001</td>\n",
       "      <td>S-0066</td>\n",
       "      <td>2013-06-23</td>\n",
       "      <td>0</td>\n",
       "      <td>0</td>\n",
       "      <td>Yes</td>\n",
       "      <td>1</td>\n",
       "    </tr>\n",
       "    <tr>\n",
       "      <th>1</th>\n",
       "      <td>2</td>\n",
       "      <td>TA-00001</td>\n",
       "      <td>S-0066</td>\n",
       "      <td>2013-06-23</td>\n",
       "      <td>0</td>\n",
       "      <td>0</td>\n",
       "      <td>Yes</td>\n",
       "      <td>2</td>\n",
       "    </tr>\n",
       "    <tr>\n",
       "      <th>2</th>\n",
       "      <td>3</td>\n",
       "      <td>TA-00001</td>\n",
       "      <td>S-0066</td>\n",
       "      <td>2013-06-23</td>\n",
       "      <td>0</td>\n",
       "      <td>0</td>\n",
       "      <td>Yes</td>\n",
       "      <td>5</td>\n",
       "    </tr>\n",
       "    <tr>\n",
       "      <th>3</th>\n",
       "      <td>4</td>\n",
       "      <td>TA-00001</td>\n",
       "      <td>S-0066</td>\n",
       "      <td>2013-06-23</td>\n",
       "      <td>0</td>\n",
       "      <td>0</td>\n",
       "      <td>Yes</td>\n",
       "      <td>10</td>\n",
       "    </tr>\n",
       "    <tr>\n",
       "      <th>4</th>\n",
       "      <td>5</td>\n",
       "      <td>TA-00001</td>\n",
       "      <td>S-0066</td>\n",
       "      <td>2013-06-23</td>\n",
       "      <td>0</td>\n",
       "      <td>0</td>\n",
       "      <td>Yes</td>\n",
       "      <td>25</td>\n",
       "    </tr>\n",
       "    <tr>\n",
       "      <th>5</th>\n",
       "      <td>6</td>\n",
       "      <td>TA-00001</td>\n",
       "      <td>S-0066</td>\n",
       "      <td>2013-06-23</td>\n",
       "      <td>0</td>\n",
       "      <td>0</td>\n",
       "      <td>Yes</td>\n",
       "      <td>50</td>\n",
       "    </tr>\n",
       "    <tr>\n",
       "      <th>6</th>\n",
       "      <td>7</td>\n",
       "      <td>TA-00001</td>\n",
       "      <td>S-0066</td>\n",
       "      <td>2013-06-23</td>\n",
       "      <td>0</td>\n",
       "      <td>0</td>\n",
       "      <td>Yes</td>\n",
       "      <td>100</td>\n",
       "    </tr>\n",
       "    <tr>\n",
       "      <th>7</th>\n",
       "      <td>8</td>\n",
       "      <td>TA-00001</td>\n",
       "      <td>S-0066</td>\n",
       "      <td>2013-06-23</td>\n",
       "      <td>0</td>\n",
       "      <td>0</td>\n",
       "      <td>Yes</td>\n",
       "      <td>250</td>\n",
       "    </tr>\n",
       "    <tr>\n",
       "      <th>8</th>\n",
       "      <td>9</td>\n",
       "      <td>TA-00003</td>\n",
       "      <td>S-0066</td>\n",
       "      <td>2013-07-07</td>\n",
       "      <td>0</td>\n",
       "      <td>0</td>\n",
       "      <td>Yes</td>\n",
       "      <td>1</td>\n",
       "    </tr>\n",
       "    <tr>\n",
       "      <th>9</th>\n",
       "      <td>10</td>\n",
       "      <td>TA-00003</td>\n",
       "      <td>S-0066</td>\n",
       "      <td>2013-07-07</td>\n",
       "      <td>0</td>\n",
       "      <td>0</td>\n",
       "      <td>Yes</td>\n",
       "      <td>2</td>\n",
       "    </tr>\n",
       "  </tbody>\n",
       "</table>\n",
       "</div>"
      ],
      "text/plain": [
       "   id tube_assembly_id supplier  quote_date  annual_usage  min_order_quantity  \\\n",
       "0   1         TA-00001   S-0066  2013-06-23             0                   0   \n",
       "1   2         TA-00001   S-0066  2013-06-23             0                   0   \n",
       "2   3         TA-00001   S-0066  2013-06-23             0                   0   \n",
       "3   4         TA-00001   S-0066  2013-06-23             0                   0   \n",
       "4   5         TA-00001   S-0066  2013-06-23             0                   0   \n",
       "5   6         TA-00001   S-0066  2013-06-23             0                   0   \n",
       "6   7         TA-00001   S-0066  2013-06-23             0                   0   \n",
       "7   8         TA-00001   S-0066  2013-06-23             0                   0   \n",
       "8   9         TA-00003   S-0066  2013-07-07             0                   0   \n",
       "9  10         TA-00003   S-0066  2013-07-07             0                   0   \n",
       "\n",
       "  bracket_pricing  quantity  \n",
       "0             Yes         1  \n",
       "1             Yes         2  \n",
       "2             Yes         5  \n",
       "3             Yes        10  \n",
       "4             Yes        25  \n",
       "5             Yes        50  \n",
       "6             Yes       100  \n",
       "7             Yes       250  \n",
       "8             Yes         1  \n",
       "9             Yes         2  "
      ]
     },
     "execution_count": 37,
     "metadata": {},
     "output_type": "execute_result"
    }
   ],
   "source": [
    "test.head(10)"
   ]
  },
  {
   "cell_type": "code",
   "execution_count": 38,
   "metadata": {
    "colab": {},
    "colab_type": "code",
    "id": "vQfsTgJ3iKWM"
   },
   "outputs": [],
   "source": [
    "trainval['quote_date'] = pd.to_datetime(trainval['quote_date'], infer_datetime_format=True)\n",
    "test['quote_date'] = pd.to_datetime(test['quote_date'], infer_datetime_format=True)"
   ]
  },
  {
   "cell_type": "code",
   "execution_count": 39,
   "metadata": {
    "colab": {
     "base_uri": "https://localhost:8080/",
     "height": 136
    },
    "colab_type": "code",
    "id": "zVJXaO_JiZeO",
    "outputId": "b9526e42-091f-4003-a08b-2ea26af5f6fd"
   },
   "outputs": [
    {
     "data": {
      "text/plain": [
       "count                   30213\n",
       "unique                   1781\n",
       "top       2013-10-01 00:00:00\n",
       "freq                     2877\n",
       "first     1982-09-22 00:00:00\n",
       "last      2017-01-01 00:00:00\n",
       "Name: quote_date, dtype: object"
      ]
     },
     "execution_count": 39,
     "metadata": {},
     "output_type": "execute_result"
    }
   ],
   "source": [
    "trainval['quote_date'].describe()"
   ]
  },
  {
   "cell_type": "code",
   "execution_count": 40,
   "metadata": {
    "colab": {
     "base_uri": "https://localhost:8080/",
     "height": 136
    },
    "colab_type": "code",
    "id": "rvjJunOHieF1",
    "outputId": "aadfebca-8e59-4fe5-804b-23278c663db2"
   },
   "outputs": [
    {
     "data": {
      "text/plain": [
       "count                   30235\n",
       "unique                   1778\n",
       "top       2013-09-01 00:00:00\n",
       "freq                     2992\n",
       "first     1985-11-16 00:00:00\n",
       "last      2017-01-01 00:00:00\n",
       "Name: quote_date, dtype: object"
      ]
     },
     "execution_count": 40,
     "metadata": {},
     "output_type": "execute_result"
    }
   ],
   "source": [
    "test['quote_date'].describe()"
   ]
  },
  {
   "cell_type": "markdown",
   "metadata": {
    "colab_type": "text",
    "id": "wsSTVI7pHL6j"
   },
   "source": [
    "#### Does the test set have different tube assemblies?"
   ]
  },
  {
   "cell_type": "code",
   "execution_count": 41,
   "metadata": {
    "colab": {
     "base_uri": "https://localhost:8080/",
     "height": 34
    },
    "colab_type": "code",
    "id": "GrrvS46bi8ec",
    "outputId": "1f0fcccc-7e38-4255-dbbd-8fb6e080a5e2"
   },
   "outputs": [
    {
     "data": {
      "text/plain": [
       "(8855, 8856)"
      ]
     },
     "execution_count": 41,
     "metadata": {},
     "output_type": "execute_result"
    }
   ],
   "source": [
    "trainval_tube_assemblies = trainval['tube_assembly_id'].unique()\n",
    "test_tube_assemblies = test['tube_assembly_id'].unique()\n",
    "len(trainval_tube_assemblies), len(test_tube_assemblies)"
   ]
  },
  {
   "cell_type": "code",
   "execution_count": 42,
   "metadata": {
    "colab": {
     "base_uri": "https://localhost:8080/",
     "height": 34
    },
    "colab_type": "code",
    "id": "8tuCm8rbjWNn",
    "outputId": "177bb672-93d3-402e-f19c-dff1ba3054a7"
   },
   "outputs": [
    {
     "data": {
      "text/plain": [
       "set()"
      ]
     },
     "execution_count": 42,
     "metadata": {},
     "output_type": "execute_result"
    }
   ],
   "source": [
    "set(trainval_tube_assemblies) & set(test_tube_assemblies)"
   ]
  },
  {
   "cell_type": "code",
   "execution_count": 43,
   "metadata": {},
   "outputs": [
    {
     "data": {
      "text/plain": [
       "array(['TA-00002', 'TA-00004', 'TA-00005', ..., 'TA-21195', 'TA-21196',\n",
       "       'TA-21197'], dtype=object)"
      ]
     },
     "execution_count": 43,
     "metadata": {},
     "output_type": "execute_result"
    }
   ],
   "source": [
    "trainval_tube_assemblies"
   ]
  },
  {
   "cell_type": "markdown",
   "metadata": {
    "colab_type": "text",
    "id": "bqMthlakHL6m"
   },
   "source": [
    "#### Make the validation set like the test set"
   ]
  },
  {
   "cell_type": "code",
   "execution_count": 44,
   "metadata": {
    "colab": {},
    "colab_type": "code",
    "id": "y-AokDYpj_JF"
   },
   "outputs": [],
   "source": [
    "from sklearn.model_selection import train_test_split\n",
    "\n",
    "train_tube_assemblies, val_tube_assemblies = train_test_split(\n",
    "    trainval_tube_assemblies, random_state=42\n",
    ")"
   ]
  },
  {
   "cell_type": "code",
   "execution_count": 45,
   "metadata": {},
   "outputs": [
    {
     "data": {
      "text/plain": [
       "array(['TA-02700', 'TA-20881', 'TA-18779', ..., 'TA-13470', 'TA-02018',\n",
       "       'TA-17839'], dtype=object)"
      ]
     },
     "execution_count": 45,
     "metadata": {},
     "output_type": "execute_result"
    }
   ],
   "source": [
    "train_tube_assemblies"
   ]
  },
  {
   "cell_type": "code",
   "execution_count": 46,
   "metadata": {},
   "outputs": [
    {
     "data": {
      "text/plain": [
       "array(['TA-10379', 'TA-14110', 'TA-09998', ..., 'TA-19237', 'TA-03176',\n",
       "       'TA-01973'], dtype=object)"
      ]
     },
     "execution_count": 46,
     "metadata": {},
     "output_type": "execute_result"
    }
   ],
   "source": [
    "val_tube_assemblies"
   ]
  },
  {
   "cell_type": "code",
   "execution_count": 47,
   "metadata": {
    "colab": {
     "base_uri": "https://localhost:8080/",
     "height": 34
    },
    "colab_type": "code",
    "id": "gFQQdkm9kTGh",
    "outputId": "17b7dfcc-2a4b-4244-a25e-68cbdff081ae"
   },
   "outputs": [
    {
     "data": {
      "text/plain": [
       "(6641, 2214)"
      ]
     },
     "execution_count": 47,
     "metadata": {},
     "output_type": "execute_result"
    }
   ],
   "source": [
    "len(train_tube_assemblies), len(val_tube_assemblies)"
   ]
  },
  {
   "cell_type": "code",
   "execution_count": 48,
   "metadata": {
    "colab": {
     "base_uri": "https://localhost:8080/",
     "height": 34
    },
    "colab_type": "code",
    "id": "0aHiekH0kZsF",
    "outputId": "b818cd56-07f7-4dbe-90f5-175c134d17bf"
   },
   "outputs": [
    {
     "data": {
      "text/plain": [
       "set()"
      ]
     },
     "execution_count": 48,
     "metadata": {},
     "output_type": "execute_result"
    }
   ],
   "source": [
    "set(train_tube_assemblies) & set(val_tube_assemblies)"
   ]
  },
  {
   "cell_type": "code",
   "execution_count": 49,
   "metadata": {
    "colab": {
     "base_uri": "https://localhost:8080/",
     "height": 34
    },
    "colab_type": "code",
    "id": "ZH3C3_qLkiTC",
    "outputId": "59337a74-3053-4152-8ffe-f5db310593ba"
   },
   "outputs": [
    {
     "data": {
      "text/plain": [
       "((22628, 8), (7585, 8), (30213, 8))"
      ]
     },
     "execution_count": 49,
     "metadata": {},
     "output_type": "execute_result"
    }
   ],
   "source": [
    "train = trainval[trainval['tube_assembly_id'].isin(train_tube_assemblies)]\n",
    "val = trainval[trainval['tube_assembly_id'].isin(val_tube_assemblies)]\n",
    "\n",
    "train.shape, val.shape, trainval.shape"
   ]
  },
  {
   "cell_type": "code",
   "execution_count": 50,
   "metadata": {
    "colab": {
     "base_uri": "https://localhost:8080/",
     "height": 34
    },
    "colab_type": "code",
    "id": "rPgvKe5PlBm3",
    "outputId": "691004bf-c4ba-4d5a-a9b8-6bbb60089ed4"
   },
   "outputs": [],
   "source": [
    "assert len(train) + len(val) == len(trainval)"
   ]
  },
  {
   "cell_type": "markdown",
   "metadata": {
    "colab_type": "text",
    "id": "VfAbLiPMHL6o"
   },
   "source": [
    "## Begin with baselines for regression"
   ]
  },
  {
   "cell_type": "code",
   "execution_count": 51,
   "metadata": {
    "colab": {
     "base_uri": "https://localhost:8080/",
     "height": 297
    },
    "colab_type": "code",
    "id": "EkVT9grDHL6p",
    "outputId": "9e79aabb-096f-4494-ee07-9da5f95f53e9"
   },
   "outputs": [
    {
     "data": {
      "text/html": [
       "<div>\n",
       "<style scoped>\n",
       "    .dataframe tbody tr th:only-of-type {\n",
       "        vertical-align: middle;\n",
       "    }\n",
       "\n",
       "    .dataframe tbody tr th {\n",
       "        vertical-align: top;\n",
       "    }\n",
       "\n",
       "    .dataframe thead th {\n",
       "        text-align: right;\n",
       "    }\n",
       "</style>\n",
       "<table border=\"1\" class=\"dataframe\">\n",
       "  <thead>\n",
       "    <tr style=\"text-align: right;\">\n",
       "      <th></th>\n",
       "      <th>annual_usage</th>\n",
       "      <th>min_order_quantity</th>\n",
       "      <th>quantity</th>\n",
       "      <th>cost</th>\n",
       "    </tr>\n",
       "  </thead>\n",
       "  <tbody>\n",
       "    <tr>\n",
       "      <th>count</th>\n",
       "      <td>22628.000000</td>\n",
       "      <td>22628.000000</td>\n",
       "      <td>22628.000000</td>\n",
       "      <td>22628.000000</td>\n",
       "    </tr>\n",
       "    <tr>\n",
       "      <th>mean</th>\n",
       "      <td>116.908830</td>\n",
       "      <td>2.130193</td>\n",
       "      <td>38.267677</td>\n",
       "      <td>13.450500</td>\n",
       "    </tr>\n",
       "    <tr>\n",
       "      <th>std</th>\n",
       "      <td>1678.532065</td>\n",
       "      <td>13.262875</td>\n",
       "      <td>71.313125</td>\n",
       "      <td>27.622252</td>\n",
       "    </tr>\n",
       "    <tr>\n",
       "      <th>min</th>\n",
       "      <td>0.000000</td>\n",
       "      <td>0.000000</td>\n",
       "      <td>1.000000</td>\n",
       "      <td>0.523027</td>\n",
       "    </tr>\n",
       "    <tr>\n",
       "      <th>25%</th>\n",
       "      <td>0.000000</td>\n",
       "      <td>0.000000</td>\n",
       "      <td>2.000000</td>\n",
       "      <td>3.855934</td>\n",
       "    </tr>\n",
       "    <tr>\n",
       "      <th>50%</th>\n",
       "      <td>0.000000</td>\n",
       "      <td>0.000000</td>\n",
       "      <td>10.000000</td>\n",
       "      <td>6.507236</td>\n",
       "    </tr>\n",
       "    <tr>\n",
       "      <th>75%</th>\n",
       "      <td>2.000000</td>\n",
       "      <td>0.000000</td>\n",
       "      <td>40.000000</td>\n",
       "      <td>13.451951</td>\n",
       "    </tr>\n",
       "    <tr>\n",
       "      <th>max</th>\n",
       "      <td>150000.000000</td>\n",
       "      <td>535.000000</td>\n",
       "      <td>2500.000000</td>\n",
       "      <td>1000.000000</td>\n",
       "    </tr>\n",
       "  </tbody>\n",
       "</table>\n",
       "</div>"
      ],
      "text/plain": [
       "        annual_usage  min_order_quantity      quantity          cost\n",
       "count   22628.000000        22628.000000  22628.000000  22628.000000\n",
       "mean      116.908830            2.130193     38.267677     13.450500\n",
       "std      1678.532065           13.262875     71.313125     27.622252\n",
       "min         0.000000            0.000000      1.000000      0.523027\n",
       "25%         0.000000            0.000000      2.000000      3.855934\n",
       "50%         0.000000            0.000000     10.000000      6.507236\n",
       "75%         2.000000            0.000000     40.000000     13.451951\n",
       "max    150000.000000          535.000000   2500.000000   1000.000000"
      ]
     },
     "execution_count": 51,
     "metadata": {},
     "output_type": "execute_result"
    }
   ],
   "source": [
    "train.describe()"
   ]
  },
  {
   "cell_type": "code",
   "execution_count": 52,
   "metadata": {
    "colab": {
     "base_uri": "https://localhost:8080/",
     "height": 235
    },
    "colab_type": "code",
    "id": "Hpsqz2kzlz-8",
    "outputId": "9c059688-e7ec-4677-a0bc-1adc85a82641"
   },
   "outputs": [
    {
     "data": {
      "text/html": [
       "<div>\n",
       "<style scoped>\n",
       "    .dataframe tbody tr th:only-of-type {\n",
       "        vertical-align: middle;\n",
       "    }\n",
       "\n",
       "    .dataframe tbody tr th {\n",
       "        vertical-align: top;\n",
       "    }\n",
       "\n",
       "    .dataframe thead th {\n",
       "        text-align: right;\n",
       "    }\n",
       "</style>\n",
       "<table border=\"1\" class=\"dataframe\">\n",
       "  <thead>\n",
       "    <tr style=\"text-align: right;\">\n",
       "      <th></th>\n",
       "      <th>tube_assembly_id</th>\n",
       "      <th>supplier</th>\n",
       "      <th>quote_date</th>\n",
       "      <th>bracket_pricing</th>\n",
       "    </tr>\n",
       "  </thead>\n",
       "  <tbody>\n",
       "    <tr>\n",
       "      <th>count</th>\n",
       "      <td>22628</td>\n",
       "      <td>22628</td>\n",
       "      <td>22628</td>\n",
       "      <td>22628</td>\n",
       "    </tr>\n",
       "    <tr>\n",
       "      <th>unique</th>\n",
       "      <td>6641</td>\n",
       "      <td>52</td>\n",
       "      <td>1510</td>\n",
       "      <td>2</td>\n",
       "    </tr>\n",
       "    <tr>\n",
       "      <th>top</th>\n",
       "      <td>TA-04750</td>\n",
       "      <td>S-0066</td>\n",
       "      <td>2013-10-01 00:00:00</td>\n",
       "      <td>Yes</td>\n",
       "    </tr>\n",
       "    <tr>\n",
       "      <th>freq</th>\n",
       "      <td>12</td>\n",
       "      <td>15391</td>\n",
       "      <td>2077</td>\n",
       "      <td>19699</td>\n",
       "    </tr>\n",
       "    <tr>\n",
       "      <th>first</th>\n",
       "      <td>NaN</td>\n",
       "      <td>NaN</td>\n",
       "      <td>1987-04-10 00:00:00</td>\n",
       "      <td>NaN</td>\n",
       "    </tr>\n",
       "    <tr>\n",
       "      <th>last</th>\n",
       "      <td>NaN</td>\n",
       "      <td>NaN</td>\n",
       "      <td>2017-01-01 00:00:00</td>\n",
       "      <td>NaN</td>\n",
       "    </tr>\n",
       "  </tbody>\n",
       "</table>\n",
       "</div>"
      ],
      "text/plain": [
       "       tube_assembly_id supplier           quote_date bracket_pricing\n",
       "count             22628    22628                22628           22628\n",
       "unique             6641       52                 1510               2\n",
       "top            TA-04750   S-0066  2013-10-01 00:00:00             Yes\n",
       "freq                 12    15391                 2077           19699\n",
       "first               NaN      NaN  1987-04-10 00:00:00             NaN\n",
       "last                NaN      NaN  2017-01-01 00:00:00             NaN"
      ]
     },
     "execution_count": 52,
     "metadata": {},
     "output_type": "execute_result"
    }
   ],
   "source": [
    "train.describe(exclude='number')"
   ]
  },
  {
   "cell_type": "code",
   "execution_count": 53,
   "metadata": {
    "colab": {
     "base_uri": "https://localhost:8080/",
     "height": 34
    },
    "colab_type": "code",
    "id": "SX5c1wD-l7H1",
    "outputId": "1f275697-974e-4152-9437-6ae77b606b6c"
   },
   "outputs": [
    {
     "name": "stdout",
     "output_type": "stream",
     "text": [
      "Validation RMSLE, Mean Baseline: 0.9418101276064408\n"
     ]
    }
   ],
   "source": [
    "target = 'cost'\n",
    "y_train = train[target]\n",
    "y_val = val[target]\n",
    "\n",
    "y_pred = np.full_like(y_val, fill_value=y_train.mean())\n",
    "\n",
    "print('Validation RMSLE, Mean Baseline:', rmsle(y_val, y_pred))"
   ]
  },
  {
   "cell_type": "code",
   "execution_count": 54,
   "metadata": {
    "colab": {
     "base_uri": "https://localhost:8080/",
     "height": 34
    },
    "colab_type": "code",
    "id": "DqhuJ2c7ppCD",
    "outputId": "dcedc8e0-6f05-4373-e8c1-2e18fd8e2d4d"
   },
   "outputs": [
    {
     "name": "stdout",
     "output_type": "stream",
     "text": [
      "Validation R^2, Mean Baseline: -4.701447715138585e-06\n"
     ]
    }
   ],
   "source": [
    "from sklearn.metrics import r2_score\n",
    "print('Validation R^2, Mean Baseline:', r2_score(y_val, y_pred))"
   ]
  },
  {
   "cell_type": "markdown",
   "metadata": {
    "colab_type": "text",
    "id": "aRhO-PxmHL6q"
   },
   "source": [
    "## Develop a first model that does better than a basic baseline\n",
    "\n",
    "### Fit Random Forest with 1 feature: `quantity`"
   ]
  },
  {
   "cell_type": "code",
   "execution_count": 55,
   "metadata": {
    "colab": {
     "base_uri": "https://localhost:8080/",
     "height": 34
    },
    "colab_type": "code",
    "id": "hKzEWLdEnLpJ",
    "outputId": "4e2c3a30-6673-4183-9b8a-8071f741239f"
   },
   "outputs": [
    {
     "data": {
      "text/plain": [
       "13.450499769517025"
      ]
     },
     "execution_count": 55,
     "metadata": {},
     "output_type": "execute_result"
    }
   ],
   "source": [
    "train['cost'].mean()"
   ]
  },
  {
   "cell_type": "code",
   "execution_count": 56,
   "metadata": {
    "colab": {
     "base_uri": "https://localhost:8080/",
     "height": 1000
    },
    "colab_type": "code",
    "id": "aN2lnbHznF2E",
    "outputId": "7c0b05fd-2826-4057-f5e0-63589ab994d0"
   },
   "outputs": [
    {
     "data": {
      "text/plain": [
       "quantity\n",
       "1       26.602862\n",
       "2       19.222738\n",
       "3       37.130535\n",
       "4       26.695014\n",
       "5       12.671149\n",
       "          ...    \n",
       "750      1.980826\n",
       "829      3.076957\n",
       "1034     2.590097\n",
       "1045    11.492686\n",
       "2500     1.571863\n",
       "Name: cost, Length: 109, dtype: float64"
      ]
     },
     "execution_count": 56,
     "metadata": {},
     "output_type": "execute_result"
    }
   ],
   "source": [
    "train.groupby('quantity')['cost'].mean()"
   ]
  },
  {
   "cell_type": "code",
   "execution_count": 57,
   "metadata": {
    "colab": {},
    "colab_type": "code",
    "id": "yAF5TLfxHL6q"
   },
   "outputs": [],
   "source": [
    "features = ['quantity']\n",
    "X_train = train[features]\n",
    "X_val = val[features]"
   ]
  },
  {
   "cell_type": "code",
   "execution_count": 58,
   "metadata": {
    "colab": {
     "base_uri": "https://localhost:8080/",
     "height": 34
    },
    "colab_type": "code",
    "id": "IxfpvZz2pRyy",
    "outputId": "79fae388-5486-42e8-dd6a-4e244dfd0fab"
   },
   "outputs": [
    {
     "name": "stdout",
     "output_type": "stream",
     "text": [
      "Validation R^2 0.08879518736792147\n"
     ]
    }
   ],
   "source": [
    "from sklearn.ensemble import RandomForestRegressor\n",
    "\n",
    "model = RandomForestRegressor(n_estimators=100, random_state=42, n_jobs=-1)\n",
    "model.fit(X_train, y_train)\n",
    "r2 = model.score(X_val, y_val)\n",
    "print('Validation R^2', r2)"
   ]
  },
  {
   "cell_type": "code",
   "execution_count": 59,
   "metadata": {
    "colab": {
     "base_uri": "https://localhost:8080/",
     "height": 51
    },
    "colab_type": "code",
    "id": "dXz-3kVVqXSs",
    "outputId": "96730c7f-df7f-40d1-9940-485180fc89b4"
   },
   "outputs": [
    {
     "name": "stdout",
     "output_type": "stream",
     "text": [
      "Validation RMSLE, Random Forest with ['quantity']\n",
      "0.6908805822519186\n"
     ]
    }
   ],
   "source": [
    "y_pred = model.predict(X_val)\n",
    "print(f'Validation RMSLE, Random Forest with {features}')\n",
    "print(rmsle(y_val, y_pred))"
   ]
  },
  {
   "cell_type": "markdown",
   "metadata": {
    "colab_type": "text",
    "id": "p-Vwu3WOHL6s"
   },
   "source": [
    "## Log-transform regression target with right-skewed distribution"
   ]
  },
  {
   "cell_type": "markdown",
   "metadata": {
    "colab_type": "text",
    "id": "cgeetp7IHL6s"
   },
   "source": [
    "### Plot right-skewed distribution"
   ]
  },
  {
   "cell_type": "code",
   "execution_count": 60,
   "metadata": {
    "colab": {
     "base_uri": "https://localhost:8080/",
     "height": 283
    },
    "colab_type": "code",
    "id": "_9WEajrtHL6t",
    "outputId": "c7a43205-2cd5-4f0a-f7fb-703d5a21cc4b"
   },
   "outputs": [
    {
     "data": {
      "image/png": "[encoded data removed]",
      "text/plain": [
       "<Figure size 432x288 with 1 Axes>"
      ]
     },
     "metadata": {
      "needs_background": "light"
     },
     "output_type": "display_data"
    }
   ],
   "source": [
    "%matplotlib inline\n",
    "import seaborn as sns\n",
    "sns.distplot(y_train);"
   ]
  },
  {
   "cell_type": "code",
   "execution_count": 61,
   "metadata": {
    "colab": {
     "base_uri": "https://localhost:8080/",
     "height": 283
    },
    "colab_type": "code",
    "id": "FLq_TZXisvIB",
    "outputId": "f8fe090d-1eb0-4746-92b1-f4f146a51945"
   },
   "outputs": [
    {
     "data": {
      "image/png": "[encoded data removed]",
      "text/plain": [
       "<Figure size 432x288 with 1 Axes>"
      ]
     },
     "metadata": {
      "needs_background": "light"
     },
     "output_type": "display_data"
    }
   ],
   "source": [
    "y_train_log = np.log1p(y_train)\n",
    "sns.distplot(y_train_log);"
   ]
  },
  {
   "cell_type": "code",
   "execution_count": 62,
   "metadata": {
    "colab": {
     "base_uri": "https://localhost:8080/",
     "height": 283
    },
    "colab_type": "code",
    "id": "pEEebu25HL6y",
    "outputId": "3cf56111-ca09-43ba-eec8-206a83965ba9"
   },
   "outputs": [
    {
     "data": {
      "image/png": "[encoded data removed]",
      "text/plain": [
       "<Figure size 432x288 with 1 Axes>"
      ]
     },
     "metadata": {
      "needs_background": "light"
     },
     "output_type": "display_data"
    }
   ],
   "source": [
    "y_train_log_exp = np.expm1(y_train_log)\n",
    "sns.distplot(y_train_log_exp);"
   ]
  },
  {
   "cell_type": "code",
   "execution_count": 63,
   "metadata": {
    "colab": {
     "base_uri": "https://localhost:8080/",
     "height": 34
    },
    "colab_type": "code",
    "id": "DSNLF8watQng",
    "outputId": "91160c56-5d4c-4117-f4db-5f74887337e5"
   },
   "outputs": [
    {
     "data": {
      "text/plain": [
       "True"
      ]
     },
     "execution_count": 63,
     "metadata": {},
     "output_type": "execute_result"
    }
   ],
   "source": [
    "all(np.isclose(y_train_log_exp, y_train))"
   ]
  },
  {
   "cell_type": "markdown",
   "metadata": {
    "colab_type": "text",
    "id": "Hxd5XBxhHL6x"
   },
   "source": [
    "### Refit model with log-transformed target"
   ]
  },
  {
   "cell_type": "code",
   "execution_count": 64,
   "metadata": {
    "colab": {
     "base_uri": "https://localhost:8080/",
     "height": 34
    },
    "colab_type": "code",
    "id": "Yg0snp_btPU6",
    "outputId": "805ba3a9-89a1-4181-fdad-ceba5e45e6ee"
   },
   "outputs": [
    {
     "data": {
      "text/plain": [
       "0.622925465880199"
      ]
     },
     "execution_count": 64,
     "metadata": {},
     "output_type": "execute_result"
    }
   ],
   "source": [
    "model.fit(X_train, y_train_log)\n",
    "\n",
    "y_pred_log = model.predict(X_val)\n",
    "\n",
    "y_pred = np.expm1(y_pred_log)\n",
    "rmsle(y_val, y_pred)"
   ]
  },
  {
   "cell_type": "markdown",
   "metadata": {
    "colab_type": "text",
    "id": "BB70eZMmWRbf"
   },
   "source": [
    "### RMSLE with original targets = RMSE with log-transformed targets"
   ]
  },
  {
   "cell_type": "code",
   "execution_count": 65,
   "metadata": {
    "colab": {},
    "colab_type": "code",
    "id": "ZddIAKp2WMce"
   },
   "outputs": [],
   "source": [
    "from sklearn.metrics import mean_squared_error\n",
    "\n",
    "def rmse(y_true, y_pred):\n",
    "    return np.sqrt(mean_squared_error(y_true, y_pred))"
   ]
  },
  {
   "cell_type": "code",
   "execution_count": 66,
   "metadata": {
    "colab": {
     "base_uri": "https://localhost:8080/",
     "height": 34
    },
    "colab_type": "code",
    "id": "fdpn-Avruf-B",
    "outputId": "c64d0b12-203f-4cb9-e67b-64d9c033a732"
   },
   "outputs": [
    {
     "data": {
      "text/plain": [
       "0.622925465880199"
      ]
     },
     "execution_count": 66,
     "metadata": {},
     "output_type": "execute_result"
    }
   ],
   "source": [
    "y_val_log = np.log1p(y_val)\n",
    "rmse(y_val_log, y_pred_log)"
   ]
  },
  {
   "cell_type": "markdown",
   "metadata": {
    "colab_type": "text",
    "id": "PDfHk1qzHL7E"
   },
   "source": [
    "### Select more features\n",
    "\n",
    "#### [Data Description](https://www.kaggle.com/c/caterpillar-tube-pricing/data)\n",
    "\n",
    "> **train_set.csv and test_set.csv**  \n",
    "> This file contains information on price quotes from our suppliers. Prices can be quoted in 2 ways: bracket and non-bracket pricing. Bracket pricing has multiple levels of purchase based on quantity (in other words, the cost is given assuming a purchase of quantity tubes). Non-bracket pricing has a minimum order amount (min_order) for which the price would apply. Each quote is issued with an annual_usage, an estimate of how many tube assemblies will be purchased in a given year."
   ]
  },
  {
   "cell_type": "code",
   "execution_count": null,
   "metadata": {
    "colab": {
     "base_uri": "https://localhost:8080/",
     "height": 204
    },
    "colab_type": "code",
    "id": "xT32Nk2FHL7E",
    "outputId": "0d4de043-d3ce-4054-acf9-17d6f009834c"
   },
   "outputs": [],
   "source": [
    "#!pip install category_encoders"
   ]
  },
  {
   "cell_type": "code",
   "execution_count": 67,
   "metadata": {
    "colab": {
     "base_uri": "https://localhost:8080/",
     "height": 204
    },
    "colab_type": "code",
    "id": "DMphlnI4HL7G",
    "outputId": "88b91a3d-f4fa-4cf3-82df-13e22c6c973a"
   },
   "outputs": [
    {
     "data": {
      "text/html": [
       "<div>\n",
       "<style scoped>\n",
       "    .dataframe tbody tr th:only-of-type {\n",
       "        vertical-align: middle;\n",
       "    }\n",
       "\n",
       "    .dataframe tbody tr th {\n",
       "        vertical-align: top;\n",
       "    }\n",
       "\n",
       "    .dataframe thead th {\n",
       "        text-align: right;\n",
       "    }\n",
       "</style>\n",
       "<table border=\"1\" class=\"dataframe\">\n",
       "  <thead>\n",
       "    <tr style=\"text-align: right;\">\n",
       "      <th></th>\n",
       "      <th>tube_assembly_id</th>\n",
       "      <th>supplier</th>\n",
       "      <th>quote_date</th>\n",
       "      <th>annual_usage</th>\n",
       "      <th>min_order_quantity</th>\n",
       "      <th>bracket_pricing</th>\n",
       "      <th>quantity</th>\n",
       "      <th>cost</th>\n",
       "    </tr>\n",
       "  </thead>\n",
       "  <tbody>\n",
       "    <tr>\n",
       "      <th>8</th>\n",
       "      <td>TA-00004</td>\n",
       "      <td>S-0066</td>\n",
       "      <td>2013-07-07</td>\n",
       "      <td>0</td>\n",
       "      <td>0</td>\n",
       "      <td>Yes</td>\n",
       "      <td>1</td>\n",
       "      <td>21.972702</td>\n",
       "    </tr>\n",
       "    <tr>\n",
       "      <th>9</th>\n",
       "      <td>TA-00004</td>\n",
       "      <td>S-0066</td>\n",
       "      <td>2013-07-07</td>\n",
       "      <td>0</td>\n",
       "      <td>0</td>\n",
       "      <td>Yes</td>\n",
       "      <td>2</td>\n",
       "      <td>12.407983</td>\n",
       "    </tr>\n",
       "    <tr>\n",
       "      <th>10</th>\n",
       "      <td>TA-00004</td>\n",
       "      <td>S-0066</td>\n",
       "      <td>2013-07-07</td>\n",
       "      <td>0</td>\n",
       "      <td>0</td>\n",
       "      <td>Yes</td>\n",
       "      <td>5</td>\n",
       "      <td>6.668596</td>\n",
       "    </tr>\n",
       "    <tr>\n",
       "      <th>11</th>\n",
       "      <td>TA-00004</td>\n",
       "      <td>S-0066</td>\n",
       "      <td>2013-07-07</td>\n",
       "      <td>0</td>\n",
       "      <td>0</td>\n",
       "      <td>Yes</td>\n",
       "      <td>10</td>\n",
       "      <td>4.754539</td>\n",
       "    </tr>\n",
       "    <tr>\n",
       "      <th>12</th>\n",
       "      <td>TA-00004</td>\n",
       "      <td>S-0066</td>\n",
       "      <td>2013-07-07</td>\n",
       "      <td>0</td>\n",
       "      <td>0</td>\n",
       "      <td>Yes</td>\n",
       "      <td>25</td>\n",
       "      <td>3.608331</td>\n",
       "    </tr>\n",
       "  </tbody>\n",
       "</table>\n",
       "</div>"
      ],
      "text/plain": [
       "   tube_assembly_id supplier quote_date  annual_usage  min_order_quantity  \\\n",
       "8          TA-00004   S-0066 2013-07-07             0                   0   \n",
       "9          TA-00004   S-0066 2013-07-07             0                   0   \n",
       "10         TA-00004   S-0066 2013-07-07             0                   0   \n",
       "11         TA-00004   S-0066 2013-07-07             0                   0   \n",
       "12         TA-00004   S-0066 2013-07-07             0                   0   \n",
       "\n",
       "   bracket_pricing  quantity       cost  \n",
       "8              Yes         1  21.972702  \n",
       "9              Yes         2  12.407983  \n",
       "10             Yes         5   6.668596  \n",
       "11             Yes        10   4.754539  \n",
       "12             Yes        25   3.608331  "
      ]
     },
     "execution_count": 67,
     "metadata": {},
     "output_type": "execute_result"
    }
   ],
   "source": [
    "train.head()"
   ]
  },
  {
   "cell_type": "code",
   "execution_count": 68,
   "metadata": {
    "colab": {},
    "colab_type": "code",
    "id": "gTGgaCTpwo4y"
   },
   "outputs": [],
   "source": [
    "def wrangle(X):\n",
    "    X = X.copy()\n",
    "    \n",
    "    # Engineer date features\n",
    "    X['quote_date'] = pd.to_datetime(X['quote_date'], infer_datetime_format=True)\n",
    "    X['quote_date_year'] = X['quote_date'].dt.year\n",
    "    X['quote_date_month'] = X['quote_date'].dt.month\n",
    "    X = X.drop(columns='quote_date')\n",
    "    \n",
    "    # Drop tube_assembly_id because our goal is to predict unknown assemblies\n",
    "    X = X.drop(columns='tube_assembly_id')\n",
    "    \n",
    "    return X\n",
    "\n",
    "train_wrangled = wrangle(train)\n",
    "val_wrangled = wrangle(val)"
   ]
  },
  {
   "cell_type": "code",
   "execution_count": 69,
   "metadata": {
    "colab": {
     "base_uri": "https://localhost:8080/",
     "height": 34
    },
    "colab_type": "code",
    "id": "bFqAhUXVxNkw",
    "outputId": "3739d148-66c6-488d-8809-7cadb179a971"
   },
   "outputs": [
    {
     "name": "stdout",
     "output_type": "stream",
     "text": [
      "Features: ['supplier', 'annual_usage', 'min_order_quantity', 'bracket_pricing', 'quantity', 'quote_date_year', 'quote_date_month']\n"
     ]
    }
   ],
   "source": [
    "features = train_wrangled.columns.drop(target)\n",
    "print('Features:', features.tolist())"
   ]
  },
  {
   "cell_type": "code",
   "execution_count": 70,
   "metadata": {
    "colab": {},
    "colab_type": "code",
    "id": "CXQCKmFXxrVu"
   },
   "outputs": [],
   "source": [
    "X_train = train_wrangled[features]\n",
    "X_val = val_wrangled[features]"
   ]
  },
  {
   "cell_type": "code",
   "execution_count": 71,
   "metadata": {
    "colab": {
     "base_uri": "https://localhost:8080/",
     "height": 34
    },
    "colab_type": "code",
    "id": "Juifo8YWxwmH",
    "outputId": "74439ab9-52b8-4e71-a2ba-3874856ade22"
   },
   "outputs": [
    {
     "data": {
      "text/plain": [
       "0.3950176959701"
      ]
     },
     "execution_count": 71,
     "metadata": {},
     "output_type": "execute_result"
    }
   ],
   "source": [
    "import category_encoders as ce\n",
    "from sklearn.pipeline import make_pipeline\n",
    "\n",
    "pipeline = make_pipeline(\n",
    "    ce.OrdinalEncoder(), \n",
    "    RandomForestRegressor(n_estimators=100, random_state=42, n_jobs=-1)\n",
    ")\n",
    "\n",
    "pipeline.fit(X_train, y_train_log)\n",
    "y_pred_log = pipeline.predict(X_val)\n",
    "rmse(y_val_log, y_pred_log)"
   ]
  },
  {
   "cell_type": "code",
   "execution_count": 72,
   "metadata": {
    "colab": {
     "base_uri": "https://localhost:8080/",
     "height": 34
    },
    "colab_type": "code",
    "id": "ZQISYgYQyXtv",
    "outputId": "4daac443-fad9-484b-f8e4-9ded48b7b038"
   },
   "outputs": [
    {
     "data": {
      "text/plain": [
       "0.3950176959701"
      ]
     },
     "execution_count": 72,
     "metadata": {},
     "output_type": "execute_result"
    }
   ],
   "source": [
    "y_pred = np.expm1(y_pred_log)\n",
    "rmsle(y_val, y_pred)"
   ]
  },
  {
   "cell_type": "markdown",
   "metadata": {
    "colab_type": "text",
    "id": "yNeNmC_LfTKp"
   },
   "source": [
    "#### Feature Importances"
   ]
  },
  {
   "cell_type": "code",
   "execution_count": 73,
   "metadata": {},
   "outputs": [
    {
     "data": {
      "text/plain": [
       "array([0.10029194, 0.17448178, 0.0453758 , 0.00654028, 0.52551195,\n",
       "       0.08767022, 0.06012802])"
      ]
     },
     "execution_count": 73,
     "metadata": {},
     "output_type": "execute_result"
    }
   ],
   "source": [
    "pipeline.named_steps['randomforestregressor'].feature_importances_"
   ]
  },
  {
   "cell_type": "code",
   "execution_count": 74,
   "metadata": {},
   "outputs": [
    {
     "data": {
      "text/plain": [
       "Index(['supplier', 'annual_usage', 'min_order_quantity', 'bracket_pricing',\n",
       "       'quantity', 'quote_date_year', 'quote_date_month'],\n",
       "      dtype='object')"
      ]
     },
     "execution_count": 74,
     "metadata": {},
     "output_type": "execute_result"
    }
   ],
   "source": [
    "X_train.columns"
   ]
  },
  {
   "cell_type": "code",
   "execution_count": 75,
   "metadata": {
    "colab": {
     "base_uri": "https://localhost:8080/",
     "height": 269
    },
    "colab_type": "code",
    "id": "CGp_5wGZfR3d",
    "outputId": "6df749c2-f02c-43c0-ee9d-5d5634098a80"
   },
   "outputs": [],
   "source": [
    "rf = pipeline.named_steps['randomforestregressor']\n",
    "importances = pd.Series(rf.feature_importances_, X_train.columns)"
   ]
  },
  {
   "cell_type": "code",
   "execution_count": 76,
   "metadata": {},
   "outputs": [
    {
     "data": {
      "image/png": "[encoded data removed]",
      "text/plain": [
       "<Figure size 432x288 with 1 Axes>"
      ]
     },
     "metadata": {
      "needs_background": "light"
     },
     "output_type": "display_data"
    }
   ],
   "source": [
    "importances.sort_values().plot.barh(color='grey');"
   ]
  },
  {
   "cell_type": "code",
   "execution_count": 77,
   "metadata": {
    "colab": {
     "base_uri": "https://localhost:8080/",
     "height": 283
    },
    "colab_type": "code",
    "id": "OgEn84RxzIKL",
    "outputId": "8a20ebdc-edeb-4fe5-f62f-18d06e3897d4",
    "scrolled": true
   },
   "outputs": [
    {
     "data": {
      "image/png": "[encoded data removed]",
      "text/plain": [
       "<Figure size 432x288 with 1 Axes>"
      ]
     },
     "metadata": {
      "needs_background": "light"
     },
     "output_type": "display_data"
    }
   ],
   "source": [
    "quantity_quartiles = pd.qcut(train_wrangled['quantity'], q=4)\n",
    "sns.pointplot(x=quantity_quartiles, y=train_wrangled['cost']);"
   ]
  },
  {
   "cell_type": "code",
   "execution_count": 78,
   "metadata": {
    "colab": {
     "base_uri": "https://localhost:8080/",
     "height": 284
    },
    "colab_type": "code",
    "id": "Q-QVjHhGz-SN",
    "outputId": "58ccd74e-452b-4202-b9c9-e9fe970fcc5a"
   },
   "outputs": [
    {
     "data": {
      "image/png": "[encoded data removed]",
      "text/plain": [
       "<Figure size 432x288 with 1 Axes>"
      ]
     },
     "metadata": {
      "needs_background": "light"
     },
     "output_type": "display_data"
    }
   ],
   "source": [
    "import matplotlib.pyplot as plt\n",
    "sns.distplot(y_val_log, label='True')\n",
    "sns.distplot(y_pred_log, label='Predicted')\n",
    "plt.legend();"
   ]
  },
  {
   "cell_type": "markdown",
   "metadata": {
    "colab_type": "text",
    "id": "C5yofTpGHL7H"
   },
   "source": [
    "## Do feature engineering with relational data\n",
    "\n",
    "#### [Data Description](https://www.kaggle.com/c/caterpillar-tube-pricing/data)\n",
    "\n",
    "> The dataset is comprised of a large number of relational tables that describe the physical properties of tube assemblies. You are challenged to combine the characteristics of each tube assembly with supplier pricing dynamics in order to forecast a quote price for each tube.\n",
    "\n",
    "> **tube.csv**  \n",
    "> This file contains information on tube assemblies, which are the primary focus of the competition. Tube Assemblies are made of multiple parts. The main piece is the tube which has a specific diameter, wall thickness, length, number of bends and bend radius. Either end of the tube (End A or End X) typically has some form of end connection allowing the tube assembly to attach to other features. Special tooling is typically required for short end straight lengths (end_a_1x, end_a_2x refer to if the end length is less than 1 times or 2 times the tube diameter, respectively). Other components can be permanently attached to a tube such as bosses, brackets or other custom features."
   ]
  },
  {
   "cell_type": "code",
   "execution_count": 81,
   "metadata": {
    "colab": {
     "base_uri": "https://localhost:8080/",
     "height": 292
    },
    "colab_type": "code",
    "id": "dZTVFP-RHL7H",
    "outputId": "b22c16ab-b9dc-4be4-e269-d87f1d316632"
   },
   "outputs": [
    {
     "name": "stdout",
     "output_type": "stream",
     "text": [
      "/Users/ericchiyembekeza/Desktop/Lambda School/DS-Unit-2-Applied-Modeling/data/caterpillar/caterpillar-tube-pricing/competition_data/bill_of_materials.csv (21198, 17)\n",
      "['tube_assembly_id', 'component_id_1', 'quantity_1', 'component_id_2', 'quantity_2', 'component_id_3', 'quantity_3', 'component_id_4', 'quantity_4', 'component_id_5', 'quantity_5', 'component_id_6', 'quantity_6', 'component_id_7', 'quantity_7', 'component_id_8', 'quantity_8'] \n",
      "\n",
      "/Users/ericchiyembekeza/Desktop/Lambda School/DS-Unit-2-Applied-Modeling/data/caterpillar/caterpillar-tube-pricing/competition_data/train_set.csv (30213, 8)\n",
      "['tube_assembly_id', 'supplier', 'quote_date', 'annual_usage', 'min_order_quantity', 'bracket_pricing', 'quantity', 'cost'] \n",
      "\n",
      "/Users/ericchiyembekeza/Desktop/Lambda School/DS-Unit-2-Applied-Modeling/data/caterpillar/caterpillar-tube-pricing/competition_data/test_set.csv (30235, 8)\n",
      "['id', 'tube_assembly_id', 'supplier', 'quote_date', 'annual_usage', 'min_order_quantity', 'bracket_pricing', 'quantity'] \n",
      "\n",
      "/Users/ericchiyembekeza/Desktop/Lambda School/DS-Unit-2-Applied-Modeling/data/caterpillar/caterpillar-tube-pricing/competition_data/tube.csv (21198, 16)\n",
      "['tube_assembly_id', 'material_id', 'diameter', 'wall', 'length', 'num_bends', 'bend_radius', 'end_a_1x', 'end_a_2x', 'end_x_1x', 'end_x_2x', 'end_a', 'end_x', 'num_boss', 'num_bracket', 'other'] \n",
      "\n",
      "/Users/ericchiyembekeza/Desktop/Lambda School/DS-Unit-2-Applied-Modeling/data/caterpillar/caterpillar-tube-pricing/competition_data/specs.csv (21198, 11)\n",
      "['tube_assembly_id', 'spec1', 'spec2', 'spec3', 'spec4', 'spec5', 'spec6', 'spec7', 'spec8', 'spec9', 'spec10'] \n",
      "\n"
     ]
    }
   ],
   "source": [
    "for path in glob('/Users/ericchiyembekeza/Desktop/Lambda School/DS-Unit-2-Applied-Modeling/data/caterpillar/caterpillar-tube-pricing/competition_data/*.csv'):\n",
    "    df = pd.read_csv(path)\n",
    "    shared_columns = set(df.columns) & set(train.columns)\n",
    "    if shared_columns:\n",
    "        print(path, df.shape)\n",
    "        print(df.columns.tolist(), '\\n')"
   ]
  },
  {
   "cell_type": "code",
   "execution_count": 82,
   "metadata": {
    "colab": {},
    "colab_type": "code",
    "id": "oSwqWMwg1fjO"
   },
   "outputs": [],
   "source": [
    "tube = pd.read_csv('/Users/ericchiyembekeza/Desktop/Lambda School/DS-Unit-2-Applied-Modeling/data/caterpillar/caterpillar-tube-pricing/competition_data/tube.csv')"
   ]
  },
  {
   "cell_type": "code",
   "execution_count": 83,
   "metadata": {
    "colab": {
     "base_uri": "https://localhost:8080/",
     "height": 297
    },
    "colab_type": "code",
    "id": "__xGKXOE1l1U",
    "outputId": "8630ba9f-763d-4034-d3da-73d067eec1d7"
   },
   "outputs": [
    {
     "data": {
      "text/html": [
       "<div>\n",
       "<style scoped>\n",
       "    .dataframe tbody tr th:only-of-type {\n",
       "        vertical-align: middle;\n",
       "    }\n",
       "\n",
       "    .dataframe tbody tr th {\n",
       "        vertical-align: top;\n",
       "    }\n",
       "\n",
       "    .dataframe thead th {\n",
       "        text-align: right;\n",
       "    }\n",
       "</style>\n",
       "<table border=\"1\" class=\"dataframe\">\n",
       "  <thead>\n",
       "    <tr style=\"text-align: right;\">\n",
       "      <th></th>\n",
       "      <th>diameter</th>\n",
       "      <th>wall</th>\n",
       "      <th>length</th>\n",
       "      <th>num_bends</th>\n",
       "      <th>bend_radius</th>\n",
       "      <th>num_boss</th>\n",
       "      <th>num_bracket</th>\n",
       "      <th>other</th>\n",
       "    </tr>\n",
       "  </thead>\n",
       "  <tbody>\n",
       "    <tr>\n",
       "      <th>count</th>\n",
       "      <td>21198.000000</td>\n",
       "      <td>21198.000000</td>\n",
       "      <td>21198.000000</td>\n",
       "      <td>21198.000000</td>\n",
       "      <td>21198.000000</td>\n",
       "      <td>21198.000000</td>\n",
       "      <td>21198.000000</td>\n",
       "      <td>21198.000000</td>\n",
       "    </tr>\n",
       "    <tr>\n",
       "      <th>mean</th>\n",
       "      <td>23.687764</td>\n",
       "      <td>1.578402</td>\n",
       "      <td>100.312844</td>\n",
       "      <td>3.748137</td>\n",
       "      <td>49.350767</td>\n",
       "      <td>0.044485</td>\n",
       "      <td>0.006746</td>\n",
       "      <td>0.022644</td>\n",
       "    </tr>\n",
       "    <tr>\n",
       "      <th>std</th>\n",
       "      <td>25.396277</td>\n",
       "      <td>0.745749</td>\n",
       "      <td>70.542771</td>\n",
       "      <td>2.265405</td>\n",
       "      <td>196.468480</td>\n",
       "      <td>0.260737</td>\n",
       "      <td>0.100015</td>\n",
       "      <td>0.199676</td>\n",
       "    </tr>\n",
       "    <tr>\n",
       "      <th>min</th>\n",
       "      <td>3.180000</td>\n",
       "      <td>0.710000</td>\n",
       "      <td>0.000000</td>\n",
       "      <td>0.000000</td>\n",
       "      <td>0.000000</td>\n",
       "      <td>0.000000</td>\n",
       "      <td>0.000000</td>\n",
       "      <td>0.000000</td>\n",
       "    </tr>\n",
       "    <tr>\n",
       "      <th>25%</th>\n",
       "      <td>9.520000</td>\n",
       "      <td>0.890000</td>\n",
       "      <td>48.000000</td>\n",
       "      <td>2.000000</td>\n",
       "      <td>19.050000</td>\n",
       "      <td>0.000000</td>\n",
       "      <td>0.000000</td>\n",
       "      <td>0.000000</td>\n",
       "    </tr>\n",
       "    <tr>\n",
       "      <th>50%</th>\n",
       "      <td>15.880000</td>\n",
       "      <td>1.650000</td>\n",
       "      <td>86.000000</td>\n",
       "      <td>3.000000</td>\n",
       "      <td>38.100000</td>\n",
       "      <td>0.000000</td>\n",
       "      <td>0.000000</td>\n",
       "      <td>0.000000</td>\n",
       "    </tr>\n",
       "    <tr>\n",
       "      <th>75%</th>\n",
       "      <td>25.400000</td>\n",
       "      <td>1.650000</td>\n",
       "      <td>135.000000</td>\n",
       "      <td>5.000000</td>\n",
       "      <td>50.800000</td>\n",
       "      <td>0.000000</td>\n",
       "      <td>0.000000</td>\n",
       "      <td>0.000000</td>\n",
       "    </tr>\n",
       "    <tr>\n",
       "      <th>max</th>\n",
       "      <td>203.200000</td>\n",
       "      <td>7.900000</td>\n",
       "      <td>1333.000000</td>\n",
       "      <td>17.000000</td>\n",
       "      <td>9999.000000</td>\n",
       "      <td>5.000000</td>\n",
       "      <td>5.000000</td>\n",
       "      <td>8.000000</td>\n",
       "    </tr>\n",
       "  </tbody>\n",
       "</table>\n",
       "</div>"
      ],
      "text/plain": [
       "           diameter          wall        length     num_bends   bend_radius  \\\n",
       "count  21198.000000  21198.000000  21198.000000  21198.000000  21198.000000   \n",
       "mean      23.687764      1.578402    100.312844      3.748137     49.350767   \n",
       "std       25.396277      0.745749     70.542771      2.265405    196.468480   \n",
       "min        3.180000      0.710000      0.000000      0.000000      0.000000   \n",
       "25%        9.520000      0.890000     48.000000      2.000000     19.050000   \n",
       "50%       15.880000      1.650000     86.000000      3.000000     38.100000   \n",
       "75%       25.400000      1.650000    135.000000      5.000000     50.800000   \n",
       "max      203.200000      7.900000   1333.000000     17.000000   9999.000000   \n",
       "\n",
       "           num_boss   num_bracket         other  \n",
       "count  21198.000000  21198.000000  21198.000000  \n",
       "mean       0.044485      0.006746      0.022644  \n",
       "std        0.260737      0.100015      0.199676  \n",
       "min        0.000000      0.000000      0.000000  \n",
       "25%        0.000000      0.000000      0.000000  \n",
       "50%        0.000000      0.000000      0.000000  \n",
       "75%        0.000000      0.000000      0.000000  \n",
       "max        5.000000      5.000000      8.000000  "
      ]
     },
     "execution_count": 83,
     "metadata": {},
     "output_type": "execute_result"
    }
   ],
   "source": [
    "tube.describe()"
   ]
  },
  {
   "cell_type": "code",
   "execution_count": 84,
   "metadata": {
    "colab": {
     "base_uri": "https://localhost:8080/",
     "height": 173
    },
    "colab_type": "code",
    "id": "hHb3FGP71oHe",
    "outputId": "402c6144-bcfe-4abd-fada-cd204964a3df"
   },
   "outputs": [
    {
     "data": {
      "text/html": [
       "<div>\n",
       "<style scoped>\n",
       "    .dataframe tbody tr th:only-of-type {\n",
       "        vertical-align: middle;\n",
       "    }\n",
       "\n",
       "    .dataframe tbody tr th {\n",
       "        vertical-align: top;\n",
       "    }\n",
       "\n",
       "    .dataframe thead th {\n",
       "        text-align: right;\n",
       "    }\n",
       "</style>\n",
       "<table border=\"1\" class=\"dataframe\">\n",
       "  <thead>\n",
       "    <tr style=\"text-align: right;\">\n",
       "      <th></th>\n",
       "      <th>tube_assembly_id</th>\n",
       "      <th>material_id</th>\n",
       "      <th>end_a_1x</th>\n",
       "      <th>end_a_2x</th>\n",
       "      <th>end_x_1x</th>\n",
       "      <th>end_x_2x</th>\n",
       "      <th>end_a</th>\n",
       "      <th>end_x</th>\n",
       "    </tr>\n",
       "  </thead>\n",
       "  <tbody>\n",
       "    <tr>\n",
       "      <th>count</th>\n",
       "      <td>21198</td>\n",
       "      <td>20919</td>\n",
       "      <td>21198</td>\n",
       "      <td>21198</td>\n",
       "      <td>21198</td>\n",
       "      <td>21198</td>\n",
       "      <td>21198</td>\n",
       "      <td>21198</td>\n",
       "    </tr>\n",
       "    <tr>\n",
       "      <th>unique</th>\n",
       "      <td>21198</td>\n",
       "      <td>19</td>\n",
       "      <td>2</td>\n",
       "      <td>2</td>\n",
       "      <td>2</td>\n",
       "      <td>2</td>\n",
       "      <td>25</td>\n",
       "      <td>27</td>\n",
       "    </tr>\n",
       "    <tr>\n",
       "      <th>top</th>\n",
       "      <td>TA-15945</td>\n",
       "      <td>SP-0029</td>\n",
       "      <td>N</td>\n",
       "      <td>N</td>\n",
       "      <td>N</td>\n",
       "      <td>N</td>\n",
       "      <td>EF-003</td>\n",
       "      <td>EF-003</td>\n",
       "    </tr>\n",
       "    <tr>\n",
       "      <th>freq</th>\n",
       "      <td>1</td>\n",
       "      <td>11488</td>\n",
       "      <td>20118</td>\n",
       "      <td>18015</td>\n",
       "      <td>20377</td>\n",
       "      <td>18493</td>\n",
       "      <td>11388</td>\n",
       "      <td>10863</td>\n",
       "    </tr>\n",
       "  </tbody>\n",
       "</table>\n",
       "</div>"
      ],
      "text/plain": [
       "       tube_assembly_id material_id end_a_1x end_a_2x end_x_1x end_x_2x  \\\n",
       "count             21198       20919    21198    21198    21198    21198   \n",
       "unique            21198          19        2        2        2        2   \n",
       "top            TA-15945     SP-0029        N        N        N        N   \n",
       "freq                  1       11488    20118    18015    20377    18493   \n",
       "\n",
       "         end_a   end_x  \n",
       "count    21198   21198  \n",
       "unique      25      27  \n",
       "top     EF-003  EF-003  \n",
       "freq     11388   10863  "
      ]
     },
     "execution_count": 84,
     "metadata": {},
     "output_type": "execute_result"
    }
   ],
   "source": [
    "tube.describe(exclude='number')"
   ]
  },
  {
   "cell_type": "code",
   "execution_count": 86,
   "metadata": {
    "colab": {},
    "colab_type": "code",
    "id": "1vAcVMZr1t-Z"
   },
   "outputs": [],
   "source": [
    "def wrangle(X):\n",
    "    X = X.copy()\n",
    "    \n",
    "    # Engineer date features\n",
    "    X['quote_date'] = pd.to_datetime(X['quote_date'], infer_datetime_format=True)\n",
    "    X['quote_date_year'] = X['quote_date'].dt.year\n",
    "    X['quote_date_month'] = X['quote_date'].dt.month\n",
    "    X = X.drop(columns='quote_date')\n",
    "    \n",
    "    # Merge tube data\n",
    "    tube = pd.read_csv('/Users/ericchiyembekeza/Desktop/Lambda School/DS-Unit-2-Applied-Modeling/data/caterpillar/caterpillar-tube-pricing/competition_data/tube.csv')\n",
    "    X = X.merge(tube, how='left')\n",
    "    \n",
    "    # Drop tube_assembly_id because our goal is to predict unknown assemblies\n",
    "    X = X.drop(columns='tube_assembly_id')\n",
    "    \n",
    "    return X\n",
    "\n",
    "\n",
    "train_wrangled = wrangle(train)\n",
    "val_wrangled = wrangle(val)"
   ]
  },
  {
   "cell_type": "code",
   "execution_count": 87,
   "metadata": {
    "colab": {
     "base_uri": "https://localhost:8080/",
     "height": 34
    },
    "colab_type": "code",
    "id": "TOWFJ-Oh1-RH",
    "outputId": "327804fc-755f-4daa-e09c-949143b907ef"
   },
   "outputs": [
    {
     "data": {
      "text/plain": [
       "((22628, 23), (7585, 23))"
      ]
     },
     "execution_count": 87,
     "metadata": {},
     "output_type": "execute_result"
    }
   ],
   "source": [
    "train_wrangled.shape, val_wrangled.shape"
   ]
  },
  {
   "cell_type": "code",
   "execution_count": 88,
   "metadata": {
    "colab": {
     "base_uri": "https://localhost:8080/",
     "height": 549
    },
    "colab_type": "code",
    "id": "vq7n8iiv2Az9",
    "outputId": "d459d0b2-c6d7-408f-a747-6a528ec15e50"
   },
   "outputs": [
    {
     "data": {
      "text/html": [
       "<div>\n",
       "<style scoped>\n",
       "    .dataframe tbody tr th:only-of-type {\n",
       "        vertical-align: middle;\n",
       "    }\n",
       "\n",
       "    .dataframe tbody tr th {\n",
       "        vertical-align: top;\n",
       "    }\n",
       "\n",
       "    .dataframe thead th {\n",
       "        text-align: right;\n",
       "    }\n",
       "</style>\n",
       "<table border=\"1\" class=\"dataframe\">\n",
       "  <thead>\n",
       "    <tr style=\"text-align: right;\">\n",
       "      <th></th>\n",
       "      <th>supplier</th>\n",
       "      <th>annual_usage</th>\n",
       "      <th>min_order_quantity</th>\n",
       "      <th>bracket_pricing</th>\n",
       "      <th>quantity</th>\n",
       "      <th>cost</th>\n",
       "      <th>quote_date_year</th>\n",
       "      <th>quote_date_month</th>\n",
       "      <th>material_id</th>\n",
       "      <th>diameter</th>\n",
       "      <th>...</th>\n",
       "      <th>bend_radius</th>\n",
       "      <th>end_a_1x</th>\n",
       "      <th>end_a_2x</th>\n",
       "      <th>end_x_1x</th>\n",
       "      <th>end_x_2x</th>\n",
       "      <th>end_a</th>\n",
       "      <th>end_x</th>\n",
       "      <th>num_boss</th>\n",
       "      <th>num_bracket</th>\n",
       "      <th>other</th>\n",
       "    </tr>\n",
       "  </thead>\n",
       "  <tbody>\n",
       "    <tr>\n",
       "      <th>0</th>\n",
       "      <td>S-0066</td>\n",
       "      <td>0</td>\n",
       "      <td>0</td>\n",
       "      <td>Yes</td>\n",
       "      <td>1</td>\n",
       "      <td>21.972702</td>\n",
       "      <td>2013</td>\n",
       "      <td>7</td>\n",
       "      <td>SP-0019</td>\n",
       "      <td>6.35</td>\n",
       "      <td>...</td>\n",
       "      <td>19.05</td>\n",
       "      <td>N</td>\n",
       "      <td>N</td>\n",
       "      <td>N</td>\n",
       "      <td>N</td>\n",
       "      <td>EF-008</td>\n",
       "      <td>EF-008</td>\n",
       "      <td>0</td>\n",
       "      <td>0</td>\n",
       "      <td>0</td>\n",
       "    </tr>\n",
       "    <tr>\n",
       "      <th>1</th>\n",
       "      <td>S-0066</td>\n",
       "      <td>0</td>\n",
       "      <td>0</td>\n",
       "      <td>Yes</td>\n",
       "      <td>2</td>\n",
       "      <td>12.407983</td>\n",
       "      <td>2013</td>\n",
       "      <td>7</td>\n",
       "      <td>SP-0019</td>\n",
       "      <td>6.35</td>\n",
       "      <td>...</td>\n",
       "      <td>19.05</td>\n",
       "      <td>N</td>\n",
       "      <td>N</td>\n",
       "      <td>N</td>\n",
       "      <td>N</td>\n",
       "      <td>EF-008</td>\n",
       "      <td>EF-008</td>\n",
       "      <td>0</td>\n",
       "      <td>0</td>\n",
       "      <td>0</td>\n",
       "    </tr>\n",
       "    <tr>\n",
       "      <th>2</th>\n",
       "      <td>S-0066</td>\n",
       "      <td>0</td>\n",
       "      <td>0</td>\n",
       "      <td>Yes</td>\n",
       "      <td>5</td>\n",
       "      <td>6.668596</td>\n",
       "      <td>2013</td>\n",
       "      <td>7</td>\n",
       "      <td>SP-0019</td>\n",
       "      <td>6.35</td>\n",
       "      <td>...</td>\n",
       "      <td>19.05</td>\n",
       "      <td>N</td>\n",
       "      <td>N</td>\n",
       "      <td>N</td>\n",
       "      <td>N</td>\n",
       "      <td>EF-008</td>\n",
       "      <td>EF-008</td>\n",
       "      <td>0</td>\n",
       "      <td>0</td>\n",
       "      <td>0</td>\n",
       "    </tr>\n",
       "    <tr>\n",
       "      <th>3</th>\n",
       "      <td>S-0066</td>\n",
       "      <td>0</td>\n",
       "      <td>0</td>\n",
       "      <td>Yes</td>\n",
       "      <td>10</td>\n",
       "      <td>4.754539</td>\n",
       "      <td>2013</td>\n",
       "      <td>7</td>\n",
       "      <td>SP-0019</td>\n",
       "      <td>6.35</td>\n",
       "      <td>...</td>\n",
       "      <td>19.05</td>\n",
       "      <td>N</td>\n",
       "      <td>N</td>\n",
       "      <td>N</td>\n",
       "      <td>N</td>\n",
       "      <td>EF-008</td>\n",
       "      <td>EF-008</td>\n",
       "      <td>0</td>\n",
       "      <td>0</td>\n",
       "      <td>0</td>\n",
       "    </tr>\n",
       "    <tr>\n",
       "      <th>4</th>\n",
       "      <td>S-0066</td>\n",
       "      <td>0</td>\n",
       "      <td>0</td>\n",
       "      <td>Yes</td>\n",
       "      <td>25</td>\n",
       "      <td>3.608331</td>\n",
       "      <td>2013</td>\n",
       "      <td>7</td>\n",
       "      <td>SP-0019</td>\n",
       "      <td>6.35</td>\n",
       "      <td>...</td>\n",
       "      <td>19.05</td>\n",
       "      <td>N</td>\n",
       "      <td>N</td>\n",
       "      <td>N</td>\n",
       "      <td>N</td>\n",
       "      <td>EF-008</td>\n",
       "      <td>EF-008</td>\n",
       "      <td>0</td>\n",
       "      <td>0</td>\n",
       "      <td>0</td>\n",
       "    </tr>\n",
       "    <tr>\n",
       "      <th>5</th>\n",
       "      <td>S-0066</td>\n",
       "      <td>0</td>\n",
       "      <td>0</td>\n",
       "      <td>Yes</td>\n",
       "      <td>50</td>\n",
       "      <td>3.291176</td>\n",
       "      <td>2013</td>\n",
       "      <td>7</td>\n",
       "      <td>SP-0019</td>\n",
       "      <td>6.35</td>\n",
       "      <td>...</td>\n",
       "      <td>19.05</td>\n",
       "      <td>N</td>\n",
       "      <td>N</td>\n",
       "      <td>N</td>\n",
       "      <td>N</td>\n",
       "      <td>EF-008</td>\n",
       "      <td>EF-008</td>\n",
       "      <td>0</td>\n",
       "      <td>0</td>\n",
       "      <td>0</td>\n",
       "    </tr>\n",
       "    <tr>\n",
       "      <th>6</th>\n",
       "      <td>S-0066</td>\n",
       "      <td>0</td>\n",
       "      <td>0</td>\n",
       "      <td>Yes</td>\n",
       "      <td>100</td>\n",
       "      <td>3.149291</td>\n",
       "      <td>2013</td>\n",
       "      <td>7</td>\n",
       "      <td>SP-0019</td>\n",
       "      <td>6.35</td>\n",
       "      <td>...</td>\n",
       "      <td>19.05</td>\n",
       "      <td>N</td>\n",
       "      <td>N</td>\n",
       "      <td>N</td>\n",
       "      <td>N</td>\n",
       "      <td>EF-008</td>\n",
       "      <td>EF-008</td>\n",
       "      <td>0</td>\n",
       "      <td>0</td>\n",
       "      <td>0</td>\n",
       "    </tr>\n",
       "    <tr>\n",
       "      <th>7</th>\n",
       "      <td>S-0066</td>\n",
       "      <td>0</td>\n",
       "      <td>0</td>\n",
       "      <td>Yes</td>\n",
       "      <td>250</td>\n",
       "      <td>3.065829</td>\n",
       "      <td>2013</td>\n",
       "      <td>7</td>\n",
       "      <td>SP-0019</td>\n",
       "      <td>6.35</td>\n",
       "      <td>...</td>\n",
       "      <td>19.05</td>\n",
       "      <td>N</td>\n",
       "      <td>N</td>\n",
       "      <td>N</td>\n",
       "      <td>N</td>\n",
       "      <td>EF-008</td>\n",
       "      <td>EF-008</td>\n",
       "      <td>0</td>\n",
       "      <td>0</td>\n",
       "      <td>0</td>\n",
       "    </tr>\n",
       "    <tr>\n",
       "      <th>8</th>\n",
       "      <td>S-0066</td>\n",
       "      <td>0</td>\n",
       "      <td>0</td>\n",
       "      <td>Yes</td>\n",
       "      <td>1</td>\n",
       "      <td>28.374220</td>\n",
       "      <td>2013</td>\n",
       "      <td>9</td>\n",
       "      <td>SP-0029</td>\n",
       "      <td>19.05</td>\n",
       "      <td>...</td>\n",
       "      <td>50.80</td>\n",
       "      <td>N</td>\n",
       "      <td>N</td>\n",
       "      <td>N</td>\n",
       "      <td>N</td>\n",
       "      <td>EF-003</td>\n",
       "      <td>EF-003</td>\n",
       "      <td>0</td>\n",
       "      <td>0</td>\n",
       "      <td>0</td>\n",
       "    </tr>\n",
       "    <tr>\n",
       "      <th>9</th>\n",
       "      <td>S-0066</td>\n",
       "      <td>0</td>\n",
       "      <td>0</td>\n",
       "      <td>Yes</td>\n",
       "      <td>2</td>\n",
       "      <td>16.514303</td>\n",
       "      <td>2013</td>\n",
       "      <td>9</td>\n",
       "      <td>SP-0029</td>\n",
       "      <td>19.05</td>\n",
       "      <td>...</td>\n",
       "      <td>50.80</td>\n",
       "      <td>N</td>\n",
       "      <td>N</td>\n",
       "      <td>N</td>\n",
       "      <td>N</td>\n",
       "      <td>EF-003</td>\n",
       "      <td>EF-003</td>\n",
       "      <td>0</td>\n",
       "      <td>0</td>\n",
       "      <td>0</td>\n",
       "    </tr>\n",
       "  </tbody>\n",
       "</table>\n",
       "<p>10 rows × 23 columns</p>\n",
       "</div>"
      ],
      "text/plain": [
       "  supplier  annual_usage  min_order_quantity bracket_pricing  quantity  \\\n",
       "0   S-0066             0                   0             Yes         1   \n",
       "1   S-0066             0                   0             Yes         2   \n",
       "2   S-0066             0                   0             Yes         5   \n",
       "3   S-0066             0                   0             Yes        10   \n",
       "4   S-0066             0                   0             Yes        25   \n",
       "5   S-0066             0                   0             Yes        50   \n",
       "6   S-0066             0                   0             Yes       100   \n",
       "7   S-0066             0                   0             Yes       250   \n",
       "8   S-0066             0                   0             Yes         1   \n",
       "9   S-0066             0                   0             Yes         2   \n",
       "\n",
       "        cost  quote_date_year  quote_date_month material_id  diameter  ...  \\\n",
       "0  21.972702             2013                 7     SP-0019      6.35  ...   \n",
       "1  12.407983             2013                 7     SP-0019      6.35  ...   \n",
       "2   6.668596             2013                 7     SP-0019      6.35  ...   \n",
       "3   4.754539             2013                 7     SP-0019      6.35  ...   \n",
       "4   3.608331             2013                 7     SP-0019      6.35  ...   \n",
       "5   3.291176             2013                 7     SP-0019      6.35  ...   \n",
       "6   3.149291             2013                 7     SP-0019      6.35  ...   \n",
       "7   3.065829             2013                 7     SP-0019      6.35  ...   \n",
       "8  28.374220             2013                 9     SP-0029     19.05  ...   \n",
       "9  16.514303             2013                 9     SP-0029     19.05  ...   \n",
       "\n",
       "   bend_radius  end_a_1x  end_a_2x  end_x_1x end_x_2x   end_a   end_x  \\\n",
       "0        19.05         N         N         N        N  EF-008  EF-008   \n",
       "1        19.05         N         N         N        N  EF-008  EF-008   \n",
       "2        19.05         N         N         N        N  EF-008  EF-008   \n",
       "3        19.05         N         N         N        N  EF-008  EF-008   \n",
       "4        19.05         N         N         N        N  EF-008  EF-008   \n",
       "5        19.05         N         N         N        N  EF-008  EF-008   \n",
       "6        19.05         N         N         N        N  EF-008  EF-008   \n",
       "7        19.05         N         N         N        N  EF-008  EF-008   \n",
       "8        50.80         N         N         N        N  EF-003  EF-003   \n",
       "9        50.80         N         N         N        N  EF-003  EF-003   \n",
       "\n",
       "  num_boss num_bracket other  \n",
       "0        0           0     0  \n",
       "1        0           0     0  \n",
       "2        0           0     0  \n",
       "3        0           0     0  \n",
       "4        0           0     0  \n",
       "5        0           0     0  \n",
       "6        0           0     0  \n",
       "7        0           0     0  \n",
       "8        0           0     0  \n",
       "9        0           0     0  \n",
       "\n",
       "[10 rows x 23 columns]"
      ]
     },
     "execution_count": 88,
     "metadata": {},
     "output_type": "execute_result"
    }
   ],
   "source": [
    "train_wrangled.head(10)"
   ]
  },
  {
   "cell_type": "code",
   "execution_count": 89,
   "metadata": {
    "colab": {
     "base_uri": "https://localhost:8080/",
     "height": 34
    },
    "colab_type": "code",
    "id": "apRFJbr02aD9",
    "outputId": "b83ca1ab-ef17-483b-8a23-13dd8f12442d"
   },
   "outputs": [],
   "source": [
    "X_train = train_wrangled.drop(columns=target)\n",
    "X_val = val_wrangled.drop(columns=target)"
   ]
  },
  {
   "cell_type": "code",
   "execution_count": 90,
   "metadata": {},
   "outputs": [
    {
     "data": {
      "text/plain": [
       "Pipeline(memory=None,\n",
       "     steps=[('ordinalencoder', OrdinalEncoder(cols=['supplier', 'bracket_pricing', 'material_id', 'end_a_1x', 'end_a_2x', 'end_x_1x', 'end_x_2x', 'end_a', 'end_x'],\n",
       "        drop_invariant=False, handle_unknown='impute', impute_missing=True,\n",
       "        mapping=[{'col': 'supplier', 'mapping': [('S-0066', 1), ...timators=100, n_jobs=-1,\n",
       "           oob_score=False, random_state=42, verbose=0, warm_start=False))])"
      ]
     },
     "execution_count": 90,
     "metadata": {},
     "output_type": "execute_result"
    }
   ],
   "source": [
    "pipeline = make_pipeline(\n",
    "    ce.OrdinalEncoder(), \n",
    "    RandomForestRegressor(n_estimators=100, random_state=42, n_jobs=-1)\n",
    ")\n",
    "\n",
    "pipeline.fit(X_train, y_train_log)"
   ]
  },
  {
   "cell_type": "code",
   "execution_count": 91,
   "metadata": {},
   "outputs": [
    {
     "data": {
      "text/plain": [
       "0.3067473950776893"
      ]
     },
     "execution_count": 91,
     "metadata": {},
     "output_type": "execute_result"
    }
   ],
   "source": [
    "y_pred_log = pipeline.predict(X_val)\n",
    "rmse(y_val_log, y_pred_log)"
   ]
  },
  {
   "cell_type": "code",
   "execution_count": 92,
   "metadata": {
    "colab": {
     "base_uri": "https://localhost:8080/",
     "height": 34
    },
    "colab_type": "code",
    "id": "wUutn0p82nOM",
    "outputId": "6f799a4f-79a7-4ce1-c436-a3ba0d534034"
   },
   "outputs": [
    {
     "data": {
      "text/plain": [
       "True"
      ]
     },
     "execution_count": 92,
     "metadata": {},
     "output_type": "execute_result"
    }
   ],
   "source": [
    "test_wrangled = wrangle(test)\n",
    "X_test = test_wrangled.drop(columns='id')\n",
    "all(X_test.columns == X_train.columns)"
   ]
  },
  {
   "cell_type": "code",
   "execution_count": 94,
   "metadata": {
    "colab": {},
    "colab_type": "code",
    "id": "h2zwgsoA2vXT"
   },
   "outputs": [],
   "source": [
    "y_pred_log = pipeline.predict(X_test)\n",
    "y_pred = np.expm1(y_pred_log)\n",
    "\n",
    "sample_submission = pd.read_csv('/Users/ericchiyembekeza/Desktop/Lambda School/DS-Unit-2-Applied-Modeling/data/caterpillar/caterpillar-tube-pricing/sample_submission.csv')\n",
    "submission = sample_submission.copy()\n",
    "submission['cost'] = y_pred\n",
    "submission.to_csv('submission-01.csv', index=False)"
   ]
  },
  {
   "cell_type": "markdown",
   "metadata": {
    "colab_type": "text",
    "id": "yGJGifFIHL7M"
   },
   "source": [
    "# Assignment\n",
    "- Start a clean notebook.\n",
    "- Get the [Caterpillar data from Kaggle](https://www.kaggle.com/c/caterpillar-tube-pricing/data).\n",
    "- Do train/validate/test split.\n",
    "- Select features from `train_set.csv`, `tube.csv`, and at least one more file.\n",
    "- Fit a model.\n",
    "- Get your validation RMSLE (or RMSE with log-transformed targets).\n",
    "- [Submit](https://www.kaggle.com/c/caterpillar-tube-pricing/submit) your predictions to the Kaggle competition.\n",
    "- Commit your notebook to your fork of the GitHub repo.\n",
    "\n",
    "## Stretch Goals\n",
    "- Improve your scores on Kaggle.\n",
    "- Make visualizations and share on Slack.\n",
    "- Look at [Kaggle Kernels](https://www.kaggle.com/c/caterpillar-tube-pricing/kernels) for ideas about feature engineering and visualization.\n",
    "\n",
    "Read [Better Explained](https://betterexplained.com/) Exponents & Logs series:\n",
    "\n",
    "1. [An Intuitive Guide To Exponential Functions & e](https://betterexplained.com/articles/an-intuitive-guide-to-exponential-functions-e/)\n",
    "2. [Demystifying the Natural Logarithm (ln)](https://betterexplained.com/articles/demystifying-the-natural-logarithm-ln/)\n",
    "3. [A Visual Guide to Simple, Compound and Continuous Interest Rates](https://betterexplained.com/articles/a-visual-guide-to-simple-compound-and-continuous-interest-rates/)\n",
    "4. [Common Definitions of e (Colorized)](https://betterexplained.com/articles/definitions-of-e-colorized/)\n",
    "5. [Understanding Exponents (Why does 0^0 = 1?)](https://betterexplained.com/articles/understanding-exponents-why-does-00-1/)\n",
    "6. [Using Logarithms in the Real World](https://betterexplained.com/articles/using-logs-in-the-real-world/)\n",
    "7. [How To Think With Exponents And Logarithms](https://betterexplained.com/articles/think-with-exponents/)\n",
    "8. [Understanding Discrete vs. Continuous Growth](https://betterexplained.com/articles/understanding-discrete-vs-continuous-growth/)\n",
    "9. [What does an exponent really mean?](https://betterexplained.com/articles/what-does-an-exponent-mean/)\n",
    "10. [Q: Why is e special? (2.718..., not 2, 3.7 or another number?)](https://betterexplained.com/articles/q-why-is-e-special-2-718-not-other-number/)"
   ]
  }
 ],
 "metadata": {
  "colab": {
   "collapsed_sections": [
    "oHzoyXgcHL6u",
    "Om5LVgmqHL6v"
   ],
   "name": "Copy of DS5_log_linear_regression.ipynb",
   "provenance": [],
   "version": "0.3.2"
  },
  "kernelspec": {
   "display_name": "Python 3",
   "language": "python",
   "name": "python3"
  },
  "language_info": {
   "codemirror_mode": {
    "name": "ipython",
    "version": 3
   },
   "file_extension": ".py",
   "mimetype": "text/x-python",
   "name": "python",
   "nbconvert_exporter": "python",
   "pygments_lexer": "ipython3",
   "version": "3.7.3"
  }
 },
 "nbformat": 4,
 "nbformat_minor": 1
}
