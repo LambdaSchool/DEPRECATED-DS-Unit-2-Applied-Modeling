{
  "nbformat": 4,
  "nbformat_minor": 0,
  "metadata": {
    "kernelspec": {
      "display_name": "Python 3",
      "language": "python",
      "name": "python3"
    },
    "language_info": {
      "codemirror_mode": {
        "name": "ipython",
        "version": 3
      },
      "file_extension": ".py",
      "mimetype": "text/x-python",
      "name": "python",
      "nbconvert_exporter": "python",
      "pygments_lexer": "ipython3",
      "version": "3.7.3"
    },
    "colab": {
      "name": "Log-Linear Regression Assignment Notebook.ipynb",
      "version": "0.3.2",
      "provenance": [],
      "include_colab_link": true
    }
  },
  "cells": [
    {
      "cell_type": "markdown",
      "metadata": {
        "id": "view-in-github",
        "colab_type": "text"
      },
      "source": [
        "<a href=\"https://colab.research.google.com/github/ElisabethShah/DS-Unit-2-Applied-Modeling/blob/master/module1-log-linear-regression/Log-Linear%20Regression%20Assignment%20Notebook.ipynb\" target=\"_parent\"><img src=\"https://colab.research.google.com/assets/colab-badge.svg\" alt=\"Open In Colab\"/></a>"
      ]
    },
    {
      "cell_type": "markdown",
      "metadata": {
        "id": "KV_iNw_w4rJ5",
        "colab_type": "text"
      },
      "source": [
        "_Lambda School Data Science — Regression 2_ \n",
        "\n",
        "This sprint, your project is Caterpillar Tube Pricing: Predict the prices suppliers will quote for industrial tube assemblies.\n",
        "\n",
        "# Log-Linear Regression, Feature Engineering|"
      ]
    },
    {
      "cell_type": "markdown",
      "metadata": {
        "id": "WPYw7dey4rJ_",
        "colab_type": "text"
      },
      "source": [
        "## Overview"
      ]
    },
    {
      "cell_type": "markdown",
      "metadata": {
        "id": "lS09qn3H4rKD",
        "colab_type": "text"
      },
      "source": [
        "### Objectives\n",
        "- log-transform regression target with right-skewed distribution\n",
        "- use regression metric: RMSLE\n",
        "- do feature engineering with relational data"
      ]
    },
    {
      "cell_type": "markdown",
      "metadata": {
        "id": "Twix4QSh4rKF",
        "colab_type": "text"
      },
      "source": [
        "### Process\n",
        "\n",
        "** Francois Chollet, [Deep Learning with Python](https://github.com/fchollet/deep-learning-with-python-notebooks/blob/master/README.md), Chapter 4: Fundamentals of machine learning, \"A universal workflow of machine learning\"**\n",
        " \n",
        "> **1. Define the problem at hand and the data on which you’ll train.** Collect this data, or annotate it with labels if need be.\n",
        "\n",
        "> **2. Choose how you’ll measure success on your problem.** Which metrics will you monitor on your validation data?\n",
        "\n",
        "> **3. Determine your evaluation protocol:** hold-out validation? K-fold validation? Which portion of the data should you use for validation?\n",
        "\n",
        "> **4. Develop a first model that does better than a basic baseline:** a model with statistical power.\n",
        "\n",
        "> **5. Develop a model that overfits.** The universal tension in machine learning is between optimization and generalization; the ideal model is one that stands right at the border between underfitting and overfitting; between undercapacity and overcapacity. To figure out where this border lies, first you must cross it.\n",
        "\n",
        "> **6. Regularize your model and tune its hyperparameters, based on performance on the validation data.** Repeatedly modify your model, train it, evaluate on your validation data (not the test data, at this point), modify it again, and repeat, until the model is as good as it can get. \n",
        "\n",
        "> **Iterate on feature engineering: add new features, or remove features that don’t seem to be informative.** Once you’ve developed a satisfactory model configuration, you can train your final production model on all the available data (training and validation) and evaluate it one last time on the test set.\n"
      ]
    },
    {
      "cell_type": "markdown",
      "metadata": {
        "id": "mC31_br94rKI",
        "colab_type": "text"
      },
      "source": [
        "### Caterpillar dataset"
      ]
    },
    {
      "cell_type": "markdown",
      "metadata": {
        "id": "bUqfbFBv4rKJ",
        "colab_type": "text"
      },
      "source": [
        "#### Define the problem 🚜\n",
        "\n",
        "**[Description](https://www.kaggle.com/c/caterpillar-tube-pricing/overview/description)**\n",
        "\n",
        "> Like snowflakes, it's difficult to find two tubes in Caterpillar's diverse catalogue of machinery that are exactly alike. Tubes can vary across a number of dimensions, including base materials, number of bends, bend radius, bolt patterns, and end types.\n",
        "\n",
        "> Currently, Caterpillar relies on a variety of suppliers to manufacture these tube assemblies, each having their own unique pricing model. This competition provides detailed tube, component, and annual volume datasets, and challenges you to predict the price a supplier will quote for a given tube assembly. "
      ]
    },
    {
      "cell_type": "markdown",
      "metadata": {
        "id": "g5FgLxbv4rKL",
        "colab_type": "text"
      },
      "source": [
        "#### Define the data on which you'll train\n",
        "\n",
        "Data Description\n",
        "\n",
        "    The dataset is comprised of a large number of relational tables that describe the physical properties of tube assemblies. You are challenged to combine the characteristics of each tube assembly with supplier pricing dynamics in order to forecast a quote price for each tube. The quote price is labeled as cost in the data.\n"
      ]
    },
    {
      "cell_type": "markdown",
      "metadata": {
        "id": "N9OqW7R64rKM",
        "colab_type": "text"
      },
      "source": [
        "#### Choose how you'll measure success on your problem\n",
        "\n",
        "\n",
        "> Which metrics will you monitor on your validation data?\n",
        "\n",
        "**[Evaluation](https://www.kaggle.com/c/caterpillar-tube-pricing/overview/evaluation)**\n",
        "\n",
        "> Submissions are evaluated on the Root Mean Squared Logarithmic Error (RMSLE). The RMSLE is calculated as\n",
        ">\n",
        "> $\\sqrt{\\frac{1}{n} \\sum_{i=1}^{n}\\left(\\log \\left(p_{i}+1\\right)-\\log \\left(a_{i}+1\\right)\\right)^{2}}$\n",
        ">\n",
        "> Where:\n",
        ">\n",
        "> - $n$ is the number of price quotes in the test set\n",
        "> - $p_i$ is your predicted price\n",
        "> - $a_i$ is the actual price\n",
        "> - $log(x)$ is the natural logarithm\n",
        "\n",
        "**[Scikit-Learn User Guide](https://scikit-learn.org/stable/modules/model_evaluation.html#mean-squared-log-error)**\n",
        "\n",
        "> The `mean_squared_log_error` function is best to use when targets have exponential growth, such as population counts, average sales of a commodity over a span of years etc. Note that this metric penalizes an under-predicted estimate greater than an over-predicted estimate."
      ]
    },
    {
      "cell_type": "markdown",
      "metadata": {
        "id": "e4SGUdsf4rKN",
        "colab_type": "text"
      },
      "source": [
        "#### Determine your evaluation protocol\n",
        "\n",
        "> Which portion of the data should you use for validation?\n",
        "\n",
        "**Rachel Thomas, [How (and why) to create a good validation set](https://www.fast.ai/2017/11/13/validation-sets/)**\n",
        "\n",
        "> You will want to create your own training and validation sets (by splitting the Kaggle “training” data). You will just use your smaller training set (a subset of Kaggle’s training data) for building your model, and you can evaluate it on your validation set (also a subset of Kaggle’s training data) before you submit to Kaggle.\n",
        "\n",
        "> When is a random subset not good enough?\n",
        "> - Time series\n",
        "> - New people, new boats, new…"
      ]
    },
    {
      "cell_type": "markdown",
      "metadata": {
        "id": "Y9JCpW3Q4rKP",
        "colab_type": "text"
      },
      "source": [
        "### Assignment\n",
        "- Start a clean notebook.\n",
        "- Get the [Caterpillar data from Kaggle](https://www.kaggle.com/c/caterpillar-tube-pricing/data).\n",
        "- Do train/validate/test split.\n",
        "- Select features from `train_set.csv`, `tube.csv`, and at least one more file.\n",
        "- Fit a model.\n",
        "- Get your validation RMSLE (or RMSE with log-transformed targets).\n",
        "- [Submit](https://www.kaggle.com/c/caterpillar-tube-pricing/submit) your predictions to the Kaggle competition.\n",
        "- Commit your notebook to your fork of the GitHub repo."
      ]
    },
    {
      "cell_type": "markdown",
      "metadata": {
        "id": "_pZHDS3n4rKR",
        "colab_type": "text"
      },
      "source": [
        "### Stretch Goals\n",
        "- Improve your scores on Kaggle.\n",
        "- Make visualizations and share on Slack.\n",
        "- Look at [Kaggle Kernels](https://www.kaggle.com/c/caterpillar-tube-pricing/kernels) for ideas about feature engineering and visualization.\n",
        "\n",
        "Read [Better Explained](https://betterexplained.com/) Exponents & Logs series:\n",
        "\n",
        "1. [An Intuitive Guide To Exponential Functions & e](https://betterexplained.com/articles/an-intuitive-guide-to-exponential-functions-e/)\n",
        "2. [Demystifying the Natural Logarithm (ln)](https://betterexplained.com/articles/demystifying-the-natural-logarithm-ln/)\n",
        "3. [A Visual Guide to Simple, Compound and Continuous Interest Rates](https://betterexplained.com/articles/a-visual-guide-to-simple-compound-and-continuous-interest-rates/)\n",
        "4. [Common Definitions of e (Colorized)](https://betterexplained.com/articles/definitions-of-e-colorized/)\n",
        "5. [Understanding Exponents (Why does 0^0 = 1?)](https://betterexplained.com/articles/understanding-exponents-why-does-00-1/)\n",
        "6. [Using Logarithms in the Real World](https://betterexplained.com/articles/using-logs-in-the-real-world/)\n",
        "7. [How To Think With Exponents And Logarithms](https://betterexplained.com/articles/think-with-exponents/)\n",
        "8. [Understanding Discrete vs. Continuous Growth](https://betterexplained.com/articles/understanding-discrete-vs-continuous-growth/)\n",
        "9. [What does an exponent really mean?](https://betterexplained.com/articles/what-does-an-exponent-mean/)\n",
        "10. [Q: Why is e special? (2.718..., not 2, 3.7 or another number?)](https://betterexplained.com/articles/q-why-is-e-special-2-718-not-other-number/)"
      ]
    },
    {
      "cell_type": "markdown",
      "metadata": {
        "id": "graMsCJ94rKT",
        "colab_type": "text"
      },
      "source": [
        "## Assignment"
      ]
    },
    {
      "cell_type": "code",
      "metadata": {
        "id": "WN1Vi2zFylV-",
        "colab_type": "code",
        "colab": {
          "base_uri": "https://localhost:8080/",
          "height": 313
        },
        "outputId": "490c996f-e748-4549-fc0d-5757ff4dd14b"
      },
      "source": [
        "!pip install category-encoders"
      ],
      "execution_count": 33,
      "outputs": [
        {
          "output_type": "stream",
          "text": [
            "Collecting category-encoders\n",
            "\u001b[?25l  Downloading https://files.pythonhosted.org/packages/6e/a1/f7a22f144f33be78afeb06bfa78478e8284a64263a3c09b1ef54e673841e/category_encoders-2.0.0-py2.py3-none-any.whl (87kB)\n",
            "\u001b[K     |████████████████████████████████| 92kB 3.4MB/s \n",
            "\u001b[?25hRequirement already satisfied: numpy>=1.11.3 in /usr/local/lib/python3.6/dist-packages (from category-encoders) (1.16.4)\n",
            "Requirement already satisfied: pandas>=0.21.1 in /usr/local/lib/python3.6/dist-packages (from category-encoders) (0.24.2)\n",
            "Requirement already satisfied: scikit-learn>=0.20.0 in /usr/local/lib/python3.6/dist-packages (from category-encoders) (0.21.3)\n",
            "Requirement already satisfied: patsy>=0.4.1 in /usr/local/lib/python3.6/dist-packages (from category-encoders) (0.5.1)\n",
            "Requirement already satisfied: statsmodels>=0.6.1 in /usr/local/lib/python3.6/dist-packages (from category-encoders) (0.10.1)\n",
            "Requirement already satisfied: scipy>=0.19.0 in /usr/local/lib/python3.6/dist-packages (from category-encoders) (1.3.0)\n",
            "Requirement already satisfied: python-dateutil>=2.5.0 in /usr/local/lib/python3.6/dist-packages (from pandas>=0.21.1->category-encoders) (2.5.3)\n",
            "Requirement already satisfied: pytz>=2011k in /usr/local/lib/python3.6/dist-packages (from pandas>=0.21.1->category-encoders) (2018.9)\n",
            "Requirement already satisfied: joblib>=0.11 in /usr/local/lib/python3.6/dist-packages (from scikit-learn>=0.20.0->category-encoders) (0.13.2)\n",
            "Requirement already satisfied: six in /usr/local/lib/python3.6/dist-packages (from patsy>=0.4.1->category-encoders) (1.12.0)\n",
            "Installing collected packages: category-encoders\n",
            "Successfully installed category-encoders-2.0.0\n"
          ],
          "name": "stdout"
        }
      ]
    },
    {
      "cell_type": "code",
      "metadata": {
        "id": "Cec4ScyJ4rKU",
        "colab_type": "code",
        "colab": {}
      },
      "source": [
        "import category_encoders as ce\n",
        "from glob import glob\n",
        "import pandas as pd\n",
        "import numpy as np\n",
        "import requests\n",
        "from sklearn.ensemble import RandomForestRegressor\n",
        "from sklearn.metrics import mean_squared_log_error\n",
        "from sklearn.metrics import r2_score\n",
        "from sklearn.model_selection import train_test_split\n",
        "from sklearn.pipeline import make_pipeline\n",
        "from zipfile import ZipFile"
      ],
      "execution_count": 0,
      "outputs": []
    },
    {
      "cell_type": "code",
      "metadata": {
        "id": "9GmazkDJ4rKZ",
        "colab_type": "code",
        "colab": {}
      },
      "source": [
        "def rmsle(y_true, y_pred):\n",
        "    \"\"\"\n",
        "    Calculates root mean squared log error.\n",
        "    \"\"\"\n",
        "    \n",
        "    return np.sqrt(mean_squared_log_error(y_true, y_pred))"
      ],
      "execution_count": 0,
      "outputs": []
    },
    {
      "cell_type": "markdown",
      "metadata": {
        "id": "hKH8xtZL4rKc",
        "colab_type": "text"
      },
      "source": [
        "### Get the [Caterpillar data from Kaggle](https://www.kaggle.com/c/caterpillar-tube-pricing/data)"
      ]
    },
    {
      "cell_type": "markdown",
      "metadata": {
        "id": "W3IUg56U4rKe",
        "colab_type": "text"
      },
      "source": [
        "#### Option 1. Kaggle web UI\n",
        " \n",
        "Sign in to Kaggle and go to the [Caterpillar Tube Pricing](https://www.kaggle.com/c/caterpillar-tube-pricing) competition. Go to the Data page. After you have accepted the rules of the competition, use the download buttons to download the data."
      ]
    },
    {
      "cell_type": "markdown",
      "metadata": {
        "id": "2O8oUj6Y47m8",
        "colab_type": "text"
      },
      "source": [
        "#### Option 2. Kaggle API\n",
        "\n",
        "1. [Follow these instructions](https://github.com/Kaggle/kaggle-api#api-credentials) to create a Kaggle “API Token” and download your `kaggle.json` file.\n",
        "\n",
        "2. Put `kaggle.json` in the correct location.\n",
        "\n",
        "  - If you're using Anaconda, put the file in the directory specified in the [instructions](https://github.com/Kaggle/kaggle-api#api-credentials).\n",
        "\n",
        "  - If you're using Google Colab, upload the file to your Google Drive, and run this cell:\n",
        "\n",
        "  ```\n",
        "  from google.colab import drive\n",
        "  drive.mount('/content/drive')\n",
        "  %env KAGGLE_CONFIG_DIR=/content/drive/My Drive/\n",
        "  ```\n",
        "\n",
        "3. Install the Kaggle API package.\n",
        "```\n",
        "pip install kaggle\n",
        "```\n",
        "\n",
        "4. After you have accepted the rules of the competiton, use the Kaggle API package to get the data.\n",
        "```\n",
        "kaggle competitions download -c caterpillar-tube-pricing\n",
        "```"
      ]
    },
    {
      "cell_type": "markdown",
      "metadata": {
        "id": "_9MGUf1J4-_L",
        "colab_type": "text"
      },
      "source": [
        "#### Option 3. GitHub Repo\n",
        "\n",
        "Get the zip file from the [GitHub repo](https://github.com/LambdaSchool/DS-Unit-2-Applied-Modeling/tree/master/data/caterpillar), by cloning locally, or downloading directly from the web."
      ]
    },
    {
      "cell_type": "code",
      "metadata": {
        "id": "CTmrAs7t4rKf",
        "colab_type": "code",
        "colab": {}
      },
      "source": [
        "url = ('https://raw.githubusercontent.com/LambdaSchool/'\n",
        "          'DS-Unit-2-Applied-Modeling/master/data/caterpillar/'\n",
        "          'caterpillar-tube-pricing.zip')\n",
        "filename = 'caterpillar-tube-pricing.zip'\n",
        "\n",
        "file = requests.get(url)\n",
        "open(filename, 'wb').write(file.content)\n",
        "\n",
        "with ZipFile(filename, 'r') as zip:\n",
        "    zip.extractall()\n",
        "    \n",
        "with ZipFile('data.zip', 'r') as zip:\n",
        "    zip.extractall()"
      ],
      "execution_count": 0,
      "outputs": []
    },
    {
      "cell_type": "code",
      "metadata": {
        "id": "ZUQt9VZ_4rKl",
        "colab_type": "code",
        "outputId": "22072380-7055-4d44-b7af-8b3e74f8698f",
        "colab": {
          "base_uri": "https://localhost:8080/",
          "height": 0
        }
      },
      "source": [
        "for path in glob('competition_data/*.csv'):\n",
        "    df = pd.read_csv(path)\n",
        "    print(path, df.shape)"
      ],
      "execution_count": 4,
      "outputs": [
        {
          "output_type": "stream",
          "text": [
            "competition_data/comp_boss.csv (147, 15)\n",
            "competition_data/bill_of_materials.csv (21198, 17)\n",
            "competition_data/comp_tee.csv (4, 14)\n",
            "competition_data/comp_nut.csv (65, 11)\n",
            "competition_data/tube.csv (21198, 16)\n",
            "competition_data/comp_adaptor.csv (25, 20)\n",
            "competition_data/comp_sleeve.csv (50, 10)\n",
            "competition_data/comp_straight.csv (361, 12)\n",
            "competition_data/specs.csv (21198, 11)\n",
            "competition_data/components.csv (2048, 3)\n",
            "competition_data/comp_hfl.csv (6, 9)\n",
            "competition_data/comp_float.csv (16, 7)\n",
            "competition_data/tube_end_form.csv (27, 2)\n",
            "competition_data/comp_threaded.csv (194, 32)\n",
            "competition_data/comp_other.csv (1001, 3)\n",
            "competition_data/train_set.csv (30213, 8)\n",
            "competition_data/type_end_form.csv (8, 2)\n",
            "competition_data/type_component.csv (29, 2)\n",
            "competition_data/type_connection.csv (14, 2)\n",
            "competition_data/comp_elbow.csv (178, 16)\n",
            "competition_data/test_set.csv (30235, 8)\n"
          ],
          "name": "stdout"
        }
      ]
    },
    {
      "cell_type": "markdown",
      "metadata": {
        "id": "BsiDq13T4rKq",
        "colab_type": "text"
      },
      "source": [
        "### Do train/validate/test split"
      ]
    },
    {
      "cell_type": "code",
      "metadata": {
        "id": "2dIt7Rku4rKr",
        "colab_type": "code",
        "colab": {}
      },
      "source": [
        "trainval = pd.read_csv('competition_data/train_set.csv')\n",
        "test = pd.read_csv('competition_data/test_set.csv')"
      ],
      "execution_count": 0,
      "outputs": []
    },
    {
      "cell_type": "code",
      "metadata": {
        "id": "aOlvjAck4rKv",
        "colab_type": "code",
        "colab": {}
      },
      "source": [
        "trainval_tube_assemblies = trainval['tube_assembly_id'].unique()\n",
        "train_tube_assemblies, val_tube_assemblies = train_test_split(\n",
        "    trainval_tube_assemblies, random_state=0)"
      ],
      "execution_count": 0,
      "outputs": []
    },
    {
      "cell_type": "code",
      "metadata": {
        "id": "G8LTpBcc4rK0",
        "colab_type": "code",
        "outputId": "f2288124-1c97-4706-bfe5-4741737caae1",
        "colab": {
          "base_uri": "https://localhost:8080/",
          "height": 35
        }
      },
      "source": [
        "len(train_tube_assemblies), len(val_tube_assemblies)"
      ],
      "execution_count": 7,
      "outputs": [
        {
          "output_type": "execute_result",
          "data": {
            "text/plain": [
              "(6641, 2214)"
            ]
          },
          "metadata": {
            "tags": []
          },
          "execution_count": 7
        }
      ]
    },
    {
      "cell_type": "code",
      "metadata": {
        "id": "gKEwksRS4rK4",
        "colab_type": "code",
        "outputId": "a52ece96-3600-45db-dd26-3f3c09076da6",
        "colab": {
          "base_uri": "https://localhost:8080/",
          "height": 35
        }
      },
      "source": [
        "set(train_tube_assemblies) & set(val_tube_assemblies)"
      ],
      "execution_count": 8,
      "outputs": [
        {
          "output_type": "execute_result",
          "data": {
            "text/plain": [
              "set()"
            ]
          },
          "metadata": {
            "tags": []
          },
          "execution_count": 8
        }
      ]
    },
    {
      "cell_type": "code",
      "metadata": {
        "id": "NdiNAb0A4rK7",
        "colab_type": "code",
        "outputId": "edb10e8d-fef6-44f4-afe9-a8ae6453dec4",
        "colab": {
          "base_uri": "https://localhost:8080/",
          "height": 35
        }
      },
      "source": [
        "train = trainval[trainval['tube_assembly_id'].isin(train_tube_assemblies)]\n",
        "val = trainval[trainval['tube_assembly_id'].isin(val_tube_assemblies)]\n",
        "\n",
        "train.shape, val.shape, trainval.shape"
      ],
      "execution_count": 9,
      "outputs": [
        {
          "output_type": "execute_result",
          "data": {
            "text/plain": [
              "((22697, 8), (7516, 8), (30213, 8))"
            ]
          },
          "metadata": {
            "tags": []
          },
          "execution_count": 9
        }
      ]
    },
    {
      "cell_type": "code",
      "metadata": {
        "id": "IR73p01C4rK_",
        "colab_type": "code",
        "colab": {}
      },
      "source": [
        "assert len(train) + len(val) == len(trainval)"
      ],
      "execution_count": 0,
      "outputs": []
    },
    {
      "cell_type": "markdown",
      "metadata": {
        "id": "SiSKFavc4rLC",
        "colab_type": "text"
      },
      "source": [
        "### Begin with baselines for regression"
      ]
    },
    {
      "cell_type": "code",
      "metadata": {
        "id": "MESwENTS4rLD",
        "colab_type": "code",
        "outputId": "bcf9b699-67a5-41ac-ce6f-b9dd8fab442b",
        "colab": {
          "base_uri": "https://localhost:8080/",
          "height": 54
        }
      },
      "source": [
        "target = 'cost'\n",
        "y_train = train[target]\n",
        "y_val = val[target]\n",
        "\n",
        "y_train_pred = np.full_like(y_train, fill_value=y_train.mean())\n",
        "y_pred = np.full_like(y_val, fill_value=y_train.mean())\n",
        "\n",
        "print('Training RMSLE, Mean Baseline:', rmsle(y_train, y_train_pred))\n",
        "print('Validation RMSLE, Mean Baseline:', rmsle(y_val, y_pred))"
      ],
      "execution_count": 11,
      "outputs": [
        {
          "output_type": "stream",
          "text": [
            "Training RMSLE, Mean Baseline: 0.9488613837731072\n",
            "Validation RMSLE, Mean Baseline: 0.934117896930467\n"
          ],
          "name": "stdout"
        }
      ]
    },
    {
      "cell_type": "code",
      "metadata": {
        "id": "icdqOv5G4rLI",
        "colab_type": "code",
        "outputId": "4aa596df-044d-4e7b-9fd2-86c79a2cecc7",
        "colab": {
          "base_uri": "https://localhost:8080/",
          "height": 54
        }
      },
      "source": [
        "print('Training R^2, Mean Baseline:', r2_score(y_train, y_train_pred))\n",
        "print('Validation R^2, Mean Baseline:', r2_score(y_val, y_pred))"
      ],
      "execution_count": 12,
      "outputs": [
        {
          "output_type": "stream",
          "text": [
            "Training R^2, Mean Baseline: 0.0\n",
            "Validation R^2, Mean Baseline: -7.76664143693484e-05\n"
          ],
          "name": "stdout"
        }
      ]
    },
    {
      "cell_type": "markdown",
      "metadata": {
        "id": "CmP6jxTm4rLL",
        "colab_type": "text"
      },
      "source": [
        "### Develop a first model that does better than a basic baseline"
      ]
    },
    {
      "cell_type": "markdown",
      "metadata": {
        "id": "ZHPkNd8v4rLL",
        "colab_type": "text"
      },
      "source": [
        "#### Fit Random Forest with 1 feature: quantity"
      ]
    },
    {
      "cell_type": "code",
      "metadata": {
        "id": "0khu7eyM4rLM",
        "colab_type": "code",
        "colab": {}
      },
      "source": [
        "features = ['quantity']\n",
        "X_train = train[features]\n",
        "X_val = val[features]"
      ],
      "execution_count": 0,
      "outputs": []
    },
    {
      "cell_type": "code",
      "metadata": {
        "id": "_r2ilcNM4rLQ",
        "colab_type": "code",
        "outputId": "f5b5fac6-2308-4d57-ce1a-bdaf72d6b0e0",
        "colab": {
          "base_uri": "https://localhost:8080/",
          "height": 54
        }
      },
      "source": [
        "model = RandomForestRegressor(n_estimators=100, random_state=0, n_jobs=-1)\n",
        "model.fit(X_train, y_train)\n",
        "r2_train = model.score(X_train, y_train)\n",
        "r2_val = model.score(X_val, y_val)\n",
        "print('Training R^2', r2_train)\n",
        "print('Validation R^2', r2_val)"
      ],
      "execution_count": 14,
      "outputs": [
        {
          "output_type": "stream",
          "text": [
            "Training R^2 0.11239845565295126\n",
            "Validation R^2 0.1004097364165959\n"
          ],
          "name": "stdout"
        }
      ]
    },
    {
      "cell_type": "code",
      "metadata": {
        "id": "XS3UQ_1Z4rLT",
        "colab_type": "code",
        "outputId": "5db0bc3a-04b7-4a3f-ce0a-baf269a3cfca",
        "colab": {
          "base_uri": "https://localhost:8080/",
          "height": 90
        }
      },
      "source": [
        "y_train_pred = model.predict(X_train)\n",
        "y_pred = model.predict(X_val)\n",
        "\n",
        "print(f'Training RMSLE, Random Forest with {features}')\n",
        "print(rmsle(y_train, y_train_pred))\n",
        "\n",
        "print(f'Validation RMSLE, Random Forest with {features}')\n",
        "print(rmsle(y_val, y_pred))"
      ],
      "execution_count": 15,
      "outputs": [
        {
          "output_type": "stream",
          "text": [
            "Training RMSLE, Random Forest with ['quantity']\n",
            "0.6853727216426102\n",
            "Validation RMSLE, Random Forest with ['quantity']\n",
            "0.6858160465545607\n"
          ],
          "name": "stdout"
        }
      ]
    },
    {
      "cell_type": "markdown",
      "metadata": {
        "id": "s9_N3ssf4rLW",
        "colab_type": "text"
      },
      "source": [
        "### Select features from `train_set.csv`, `tube.csv`, and at least one more file"
      ]
    },
    {
      "cell_type": "code",
      "metadata": {
        "id": "J-wRcCtr5dmj",
        "colab_type": "code",
        "outputId": "c0e12057-9942-473b-8110-1d5b667d7ac9",
        "colab": {
          "base_uri": "https://localhost:8080/",
          "height": 313
        }
      },
      "source": [
        "for path in glob('competition_data/*.csv'):\n",
        "    df = pd.read_csv(path)\n",
        "    shared_columns = set(df.columns) & set(train.columns)\n",
        "    if shared_columns:\n",
        "        print(path, df.shape)\n",
        "        print(df.columns.tolist(), '\\n')"
      ],
      "execution_count": 16,
      "outputs": [
        {
          "output_type": "stream",
          "text": [
            "competition_data/bill_of_materials.csv (21198, 17)\n",
            "['tube_assembly_id', 'component_id_1', 'quantity_1', 'component_id_2', 'quantity_2', 'component_id_3', 'quantity_3', 'component_id_4', 'quantity_4', 'component_id_5', 'quantity_5', 'component_id_6', 'quantity_6', 'component_id_7', 'quantity_7', 'component_id_8', 'quantity_8'] \n",
            "\n",
            "competition_data/tube.csv (21198, 16)\n",
            "['tube_assembly_id', 'material_id', 'diameter', 'wall', 'length', 'num_bends', 'bend_radius', 'end_a_1x', 'end_a_2x', 'end_x_1x', 'end_x_2x', 'end_a', 'end_x', 'num_boss', 'num_bracket', 'other'] \n",
            "\n",
            "competition_data/specs.csv (21198, 11)\n",
            "['tube_assembly_id', 'spec1', 'spec2', 'spec3', 'spec4', 'spec5', 'spec6', 'spec7', 'spec8', 'spec9', 'spec10'] \n",
            "\n",
            "competition_data/train_set.csv (30213, 8)\n",
            "['tube_assembly_id', 'supplier', 'quote_date', 'annual_usage', 'min_order_quantity', 'bracket_pricing', 'quantity', 'cost'] \n",
            "\n",
            "competition_data/test_set.csv (30235, 8)\n",
            "['id', 'tube_assembly_id', 'supplier', 'quote_date', 'annual_usage', 'min_order_quantity', 'bracket_pricing', 'quantity'] \n",
            "\n"
          ],
          "name": "stdout"
        }
      ]
    },
    {
      "cell_type": "code",
      "metadata": {
        "id": "BQrGsc_t5xJV",
        "colab_type": "code",
        "colab": {}
      },
      "source": [
        "tube = pd.read_csv('competition_data/tube.csv')"
      ],
      "execution_count": 0,
      "outputs": []
    },
    {
      "cell_type": "code",
      "metadata": {
        "id": "LMRjt5Ux6IWb",
        "colab_type": "code",
        "outputId": "a9462b73-9c33-478f-c916-5425971ad99e",
        "colab": {
          "base_uri": "https://localhost:8080/",
          "height": 551
        }
      },
      "source": [
        "tube.describe(include='all').T"
      ],
      "execution_count": 18,
      "outputs": [
        {
          "output_type": "execute_result",
          "data": {
            "text/html": [
              "<div>\n",
              "<style scoped>\n",
              "    .dataframe tbody tr th:only-of-type {\n",
              "        vertical-align: middle;\n",
              "    }\n",
              "\n",
              "    .dataframe tbody tr th {\n",
              "        vertical-align: top;\n",
              "    }\n",
              "\n",
              "    .dataframe thead th {\n",
              "        text-align: right;\n",
              "    }\n",
              "</style>\n",
              "<table border=\"1\" class=\"dataframe\">\n",
              "  <thead>\n",
              "    <tr style=\"text-align: right;\">\n",
              "      <th></th>\n",
              "      <th>count</th>\n",
              "      <th>unique</th>\n",
              "      <th>top</th>\n",
              "      <th>freq</th>\n",
              "      <th>mean</th>\n",
              "      <th>std</th>\n",
              "      <th>min</th>\n",
              "      <th>25%</th>\n",
              "      <th>50%</th>\n",
              "      <th>75%</th>\n",
              "      <th>max</th>\n",
              "    </tr>\n",
              "  </thead>\n",
              "  <tbody>\n",
              "    <tr>\n",
              "      <th>tube_assembly_id</th>\n",
              "      <td>21198</td>\n",
              "      <td>21198</td>\n",
              "      <td>TA-09655</td>\n",
              "      <td>1</td>\n",
              "      <td>NaN</td>\n",
              "      <td>NaN</td>\n",
              "      <td>NaN</td>\n",
              "      <td>NaN</td>\n",
              "      <td>NaN</td>\n",
              "      <td>NaN</td>\n",
              "      <td>NaN</td>\n",
              "    </tr>\n",
              "    <tr>\n",
              "      <th>material_id</th>\n",
              "      <td>20919</td>\n",
              "      <td>19</td>\n",
              "      <td>SP-0029</td>\n",
              "      <td>11488</td>\n",
              "      <td>NaN</td>\n",
              "      <td>NaN</td>\n",
              "      <td>NaN</td>\n",
              "      <td>NaN</td>\n",
              "      <td>NaN</td>\n",
              "      <td>NaN</td>\n",
              "      <td>NaN</td>\n",
              "    </tr>\n",
              "    <tr>\n",
              "      <th>diameter</th>\n",
              "      <td>21198</td>\n",
              "      <td>NaN</td>\n",
              "      <td>NaN</td>\n",
              "      <td>NaN</td>\n",
              "      <td>23.6878</td>\n",
              "      <td>25.3963</td>\n",
              "      <td>3.18</td>\n",
              "      <td>9.52</td>\n",
              "      <td>15.88</td>\n",
              "      <td>25.4</td>\n",
              "      <td>203.2</td>\n",
              "    </tr>\n",
              "    <tr>\n",
              "      <th>wall</th>\n",
              "      <td>21198</td>\n",
              "      <td>NaN</td>\n",
              "      <td>NaN</td>\n",
              "      <td>NaN</td>\n",
              "      <td>1.5784</td>\n",
              "      <td>0.745749</td>\n",
              "      <td>0.71</td>\n",
              "      <td>0.89</td>\n",
              "      <td>1.65</td>\n",
              "      <td>1.65</td>\n",
              "      <td>7.9</td>\n",
              "    </tr>\n",
              "    <tr>\n",
              "      <th>length</th>\n",
              "      <td>21198</td>\n",
              "      <td>NaN</td>\n",
              "      <td>NaN</td>\n",
              "      <td>NaN</td>\n",
              "      <td>100.313</td>\n",
              "      <td>70.5428</td>\n",
              "      <td>0</td>\n",
              "      <td>48</td>\n",
              "      <td>86</td>\n",
              "      <td>135</td>\n",
              "      <td>1333</td>\n",
              "    </tr>\n",
              "    <tr>\n",
              "      <th>num_bends</th>\n",
              "      <td>21198</td>\n",
              "      <td>NaN</td>\n",
              "      <td>NaN</td>\n",
              "      <td>NaN</td>\n",
              "      <td>3.74814</td>\n",
              "      <td>2.26541</td>\n",
              "      <td>0</td>\n",
              "      <td>2</td>\n",
              "      <td>3</td>\n",
              "      <td>5</td>\n",
              "      <td>17</td>\n",
              "    </tr>\n",
              "    <tr>\n",
              "      <th>bend_radius</th>\n",
              "      <td>21198</td>\n",
              "      <td>NaN</td>\n",
              "      <td>NaN</td>\n",
              "      <td>NaN</td>\n",
              "      <td>49.3508</td>\n",
              "      <td>196.468</td>\n",
              "      <td>0</td>\n",
              "      <td>19.05</td>\n",
              "      <td>38.1</td>\n",
              "      <td>50.8</td>\n",
              "      <td>9999</td>\n",
              "    </tr>\n",
              "    <tr>\n",
              "      <th>end_a_1x</th>\n",
              "      <td>21198</td>\n",
              "      <td>2</td>\n",
              "      <td>N</td>\n",
              "      <td>20118</td>\n",
              "      <td>NaN</td>\n",
              "      <td>NaN</td>\n",
              "      <td>NaN</td>\n",
              "      <td>NaN</td>\n",
              "      <td>NaN</td>\n",
              "      <td>NaN</td>\n",
              "      <td>NaN</td>\n",
              "    </tr>\n",
              "    <tr>\n",
              "      <th>end_a_2x</th>\n",
              "      <td>21198</td>\n",
              "      <td>2</td>\n",
              "      <td>N</td>\n",
              "      <td>18015</td>\n",
              "      <td>NaN</td>\n",
              "      <td>NaN</td>\n",
              "      <td>NaN</td>\n",
              "      <td>NaN</td>\n",
              "      <td>NaN</td>\n",
              "      <td>NaN</td>\n",
              "      <td>NaN</td>\n",
              "    </tr>\n",
              "    <tr>\n",
              "      <th>end_x_1x</th>\n",
              "      <td>21198</td>\n",
              "      <td>2</td>\n",
              "      <td>N</td>\n",
              "      <td>20377</td>\n",
              "      <td>NaN</td>\n",
              "      <td>NaN</td>\n",
              "      <td>NaN</td>\n",
              "      <td>NaN</td>\n",
              "      <td>NaN</td>\n",
              "      <td>NaN</td>\n",
              "      <td>NaN</td>\n",
              "    </tr>\n",
              "    <tr>\n",
              "      <th>end_x_2x</th>\n",
              "      <td>21198</td>\n",
              "      <td>2</td>\n",
              "      <td>N</td>\n",
              "      <td>18493</td>\n",
              "      <td>NaN</td>\n",
              "      <td>NaN</td>\n",
              "      <td>NaN</td>\n",
              "      <td>NaN</td>\n",
              "      <td>NaN</td>\n",
              "      <td>NaN</td>\n",
              "      <td>NaN</td>\n",
              "    </tr>\n",
              "    <tr>\n",
              "      <th>end_a</th>\n",
              "      <td>21198</td>\n",
              "      <td>25</td>\n",
              "      <td>EF-003</td>\n",
              "      <td>11388</td>\n",
              "      <td>NaN</td>\n",
              "      <td>NaN</td>\n",
              "      <td>NaN</td>\n",
              "      <td>NaN</td>\n",
              "      <td>NaN</td>\n",
              "      <td>NaN</td>\n",
              "      <td>NaN</td>\n",
              "    </tr>\n",
              "    <tr>\n",
              "      <th>end_x</th>\n",
              "      <td>21198</td>\n",
              "      <td>27</td>\n",
              "      <td>EF-003</td>\n",
              "      <td>10863</td>\n",
              "      <td>NaN</td>\n",
              "      <td>NaN</td>\n",
              "      <td>NaN</td>\n",
              "      <td>NaN</td>\n",
              "      <td>NaN</td>\n",
              "      <td>NaN</td>\n",
              "      <td>NaN</td>\n",
              "    </tr>\n",
              "    <tr>\n",
              "      <th>num_boss</th>\n",
              "      <td>21198</td>\n",
              "      <td>NaN</td>\n",
              "      <td>NaN</td>\n",
              "      <td>NaN</td>\n",
              "      <td>0.0444853</td>\n",
              "      <td>0.260737</td>\n",
              "      <td>0</td>\n",
              "      <td>0</td>\n",
              "      <td>0</td>\n",
              "      <td>0</td>\n",
              "      <td>5</td>\n",
              "    </tr>\n",
              "    <tr>\n",
              "      <th>num_bracket</th>\n",
              "      <td>21198</td>\n",
              "      <td>NaN</td>\n",
              "      <td>NaN</td>\n",
              "      <td>NaN</td>\n",
              "      <td>0.00674592</td>\n",
              "      <td>0.100015</td>\n",
              "      <td>0</td>\n",
              "      <td>0</td>\n",
              "      <td>0</td>\n",
              "      <td>0</td>\n",
              "      <td>5</td>\n",
              "    </tr>\n",
              "    <tr>\n",
              "      <th>other</th>\n",
              "      <td>21198</td>\n",
              "      <td>NaN</td>\n",
              "      <td>NaN</td>\n",
              "      <td>NaN</td>\n",
              "      <td>0.0226436</td>\n",
              "      <td>0.199676</td>\n",
              "      <td>0</td>\n",
              "      <td>0</td>\n",
              "      <td>0</td>\n",
              "      <td>0</td>\n",
              "      <td>8</td>\n",
              "    </tr>\n",
              "  </tbody>\n",
              "</table>\n",
              "</div>"
            ],
            "text/plain": [
              "                  count unique       top   freq  ...    25%    50%   75%    max\n",
              "tube_assembly_id  21198  21198  TA-09655      1  ...    NaN    NaN   NaN    NaN\n",
              "material_id       20919     19   SP-0029  11488  ...    NaN    NaN   NaN    NaN\n",
              "diameter          21198    NaN       NaN    NaN  ...   9.52  15.88  25.4  203.2\n",
              "wall              21198    NaN       NaN    NaN  ...   0.89   1.65  1.65    7.9\n",
              "length            21198    NaN       NaN    NaN  ...     48     86   135   1333\n",
              "num_bends         21198    NaN       NaN    NaN  ...      2      3     5     17\n",
              "bend_radius       21198    NaN       NaN    NaN  ...  19.05   38.1  50.8   9999\n",
              "end_a_1x          21198      2         N  20118  ...    NaN    NaN   NaN    NaN\n",
              "end_a_2x          21198      2         N  18015  ...    NaN    NaN   NaN    NaN\n",
              "end_x_1x          21198      2         N  20377  ...    NaN    NaN   NaN    NaN\n",
              "end_x_2x          21198      2         N  18493  ...    NaN    NaN   NaN    NaN\n",
              "end_a             21198     25    EF-003  11388  ...    NaN    NaN   NaN    NaN\n",
              "end_x             21198     27    EF-003  10863  ...    NaN    NaN   NaN    NaN\n",
              "num_boss          21198    NaN       NaN    NaN  ...      0      0     0      5\n",
              "num_bracket       21198    NaN       NaN    NaN  ...      0      0     0      5\n",
              "other             21198    NaN       NaN    NaN  ...      0      0     0      8\n",
              "\n",
              "[16 rows x 11 columns]"
            ]
          },
          "metadata": {
            "tags": []
          },
          "execution_count": 18
        }
      ]
    },
    {
      "cell_type": "code",
      "metadata": {
        "id": "KeQ8cKi96VTE",
        "colab_type": "code",
        "colab": {}
      },
      "source": [
        "materials = pd.read_csv('competition_data/bill_of_materials.csv')"
      ],
      "execution_count": 0,
      "outputs": []
    },
    {
      "cell_type": "code",
      "metadata": {
        "id": "96O3N0zJFJ93",
        "colab_type": "code",
        "outputId": "b4485a97-182e-45f2-ca6c-89d56e471a10",
        "colab": {
          "base_uri": "https://localhost:8080/",
          "height": 226
        }
      },
      "source": [
        "materials.head()"
      ],
      "execution_count": 20,
      "outputs": [
        {
          "output_type": "execute_result",
          "data": {
            "text/html": [
              "<div>\n",
              "<style scoped>\n",
              "    .dataframe tbody tr th:only-of-type {\n",
              "        vertical-align: middle;\n",
              "    }\n",
              "\n",
              "    .dataframe tbody tr th {\n",
              "        vertical-align: top;\n",
              "    }\n",
              "\n",
              "    .dataframe thead th {\n",
              "        text-align: right;\n",
              "    }\n",
              "</style>\n",
              "<table border=\"1\" class=\"dataframe\">\n",
              "  <thead>\n",
              "    <tr style=\"text-align: right;\">\n",
              "      <th></th>\n",
              "      <th>tube_assembly_id</th>\n",
              "      <th>component_id_1</th>\n",
              "      <th>quantity_1</th>\n",
              "      <th>component_id_2</th>\n",
              "      <th>quantity_2</th>\n",
              "      <th>component_id_3</th>\n",
              "      <th>quantity_3</th>\n",
              "      <th>component_id_4</th>\n",
              "      <th>quantity_4</th>\n",
              "      <th>component_id_5</th>\n",
              "      <th>quantity_5</th>\n",
              "      <th>component_id_6</th>\n",
              "      <th>quantity_6</th>\n",
              "      <th>component_id_7</th>\n",
              "      <th>quantity_7</th>\n",
              "      <th>component_id_8</th>\n",
              "      <th>quantity_8</th>\n",
              "    </tr>\n",
              "  </thead>\n",
              "  <tbody>\n",
              "    <tr>\n",
              "      <th>0</th>\n",
              "      <td>TA-00001</td>\n",
              "      <td>C-1622</td>\n",
              "      <td>2.0</td>\n",
              "      <td>C-1629</td>\n",
              "      <td>2.0</td>\n",
              "      <td>NaN</td>\n",
              "      <td>NaN</td>\n",
              "      <td>NaN</td>\n",
              "      <td>NaN</td>\n",
              "      <td>NaN</td>\n",
              "      <td>NaN</td>\n",
              "      <td>NaN</td>\n",
              "      <td>NaN</td>\n",
              "      <td>NaN</td>\n",
              "      <td>NaN</td>\n",
              "      <td>NaN</td>\n",
              "      <td>NaN</td>\n",
              "    </tr>\n",
              "    <tr>\n",
              "      <th>1</th>\n",
              "      <td>TA-00002</td>\n",
              "      <td>C-1312</td>\n",
              "      <td>2.0</td>\n",
              "      <td>NaN</td>\n",
              "      <td>NaN</td>\n",
              "      <td>NaN</td>\n",
              "      <td>NaN</td>\n",
              "      <td>NaN</td>\n",
              "      <td>NaN</td>\n",
              "      <td>NaN</td>\n",
              "      <td>NaN</td>\n",
              "      <td>NaN</td>\n",
              "      <td>NaN</td>\n",
              "      <td>NaN</td>\n",
              "      <td>NaN</td>\n",
              "      <td>NaN</td>\n",
              "      <td>NaN</td>\n",
              "    </tr>\n",
              "    <tr>\n",
              "      <th>2</th>\n",
              "      <td>TA-00003</td>\n",
              "      <td>C-1312</td>\n",
              "      <td>2.0</td>\n",
              "      <td>NaN</td>\n",
              "      <td>NaN</td>\n",
              "      <td>NaN</td>\n",
              "      <td>NaN</td>\n",
              "      <td>NaN</td>\n",
              "      <td>NaN</td>\n",
              "      <td>NaN</td>\n",
              "      <td>NaN</td>\n",
              "      <td>NaN</td>\n",
              "      <td>NaN</td>\n",
              "      <td>NaN</td>\n",
              "      <td>NaN</td>\n",
              "      <td>NaN</td>\n",
              "      <td>NaN</td>\n",
              "    </tr>\n",
              "    <tr>\n",
              "      <th>3</th>\n",
              "      <td>TA-00004</td>\n",
              "      <td>C-1312</td>\n",
              "      <td>2.0</td>\n",
              "      <td>NaN</td>\n",
              "      <td>NaN</td>\n",
              "      <td>NaN</td>\n",
              "      <td>NaN</td>\n",
              "      <td>NaN</td>\n",
              "      <td>NaN</td>\n",
              "      <td>NaN</td>\n",
              "      <td>NaN</td>\n",
              "      <td>NaN</td>\n",
              "      <td>NaN</td>\n",
              "      <td>NaN</td>\n",
              "      <td>NaN</td>\n",
              "      <td>NaN</td>\n",
              "      <td>NaN</td>\n",
              "    </tr>\n",
              "    <tr>\n",
              "      <th>4</th>\n",
              "      <td>TA-00005</td>\n",
              "      <td>C-1624</td>\n",
              "      <td>1.0</td>\n",
              "      <td>C-1631</td>\n",
              "      <td>1.0</td>\n",
              "      <td>C-1641</td>\n",
              "      <td>1.0</td>\n",
              "      <td>NaN</td>\n",
              "      <td>NaN</td>\n",
              "      <td>NaN</td>\n",
              "      <td>NaN</td>\n",
              "      <td>NaN</td>\n",
              "      <td>NaN</td>\n",
              "      <td>NaN</td>\n",
              "      <td>NaN</td>\n",
              "      <td>NaN</td>\n",
              "      <td>NaN</td>\n",
              "    </tr>\n",
              "  </tbody>\n",
              "</table>\n",
              "</div>"
            ],
            "text/plain": [
              "  tube_assembly_id component_id_1  ...  component_id_8 quantity_8\n",
              "0         TA-00001         C-1622  ...             NaN        NaN\n",
              "1         TA-00002         C-1312  ...             NaN        NaN\n",
              "2         TA-00003         C-1312  ...             NaN        NaN\n",
              "3         TA-00004         C-1312  ...             NaN        NaN\n",
              "4         TA-00005         C-1624  ...             NaN        NaN\n",
              "\n",
              "[5 rows x 17 columns]"
            ]
          },
          "metadata": {
            "tags": []
          },
          "execution_count": 20
        }
      ]
    },
    {
      "cell_type": "code",
      "metadata": {
        "id": "DOTVwgK56efj",
        "colab_type": "code",
        "outputId": "eafdd0c2-d07e-409e-ee1f-008d07ec10cd",
        "colab": {
          "base_uri": "https://localhost:8080/",
          "height": 583
        }
      },
      "source": [
        "materials.describe(include='all').T"
      ],
      "execution_count": 21,
      "outputs": [
        {
          "output_type": "execute_result",
          "data": {
            "text/html": [
              "<div>\n",
              "<style scoped>\n",
              "    .dataframe tbody tr th:only-of-type {\n",
              "        vertical-align: middle;\n",
              "    }\n",
              "\n",
              "    .dataframe tbody tr th {\n",
              "        vertical-align: top;\n",
              "    }\n",
              "\n",
              "    .dataframe thead th {\n",
              "        text-align: right;\n",
              "    }\n",
              "</style>\n",
              "<table border=\"1\" class=\"dataframe\">\n",
              "  <thead>\n",
              "    <tr style=\"text-align: right;\">\n",
              "      <th></th>\n",
              "      <th>count</th>\n",
              "      <th>unique</th>\n",
              "      <th>top</th>\n",
              "      <th>freq</th>\n",
              "      <th>mean</th>\n",
              "      <th>std</th>\n",
              "      <th>min</th>\n",
              "      <th>25%</th>\n",
              "      <th>50%</th>\n",
              "      <th>75%</th>\n",
              "      <th>max</th>\n",
              "    </tr>\n",
              "  </thead>\n",
              "  <tbody>\n",
              "    <tr>\n",
              "      <th>tube_assembly_id</th>\n",
              "      <td>21198</td>\n",
              "      <td>21198</td>\n",
              "      <td>TA-09655</td>\n",
              "      <td>1</td>\n",
              "      <td>NaN</td>\n",
              "      <td>NaN</td>\n",
              "      <td>NaN</td>\n",
              "      <td>NaN</td>\n",
              "      <td>NaN</td>\n",
              "      <td>NaN</td>\n",
              "      <td>NaN</td>\n",
              "    </tr>\n",
              "    <tr>\n",
              "      <th>component_id_1</th>\n",
              "      <td>19149</td>\n",
              "      <td>1079</td>\n",
              "      <td>C-1621</td>\n",
              "      <td>2043</td>\n",
              "      <td>NaN</td>\n",
              "      <td>NaN</td>\n",
              "      <td>NaN</td>\n",
              "      <td>NaN</td>\n",
              "      <td>NaN</td>\n",
              "      <td>NaN</td>\n",
              "      <td>NaN</td>\n",
              "    </tr>\n",
              "    <tr>\n",
              "      <th>quantity_1</th>\n",
              "      <td>19149</td>\n",
              "      <td>NaN</td>\n",
              "      <td>NaN</td>\n",
              "      <td>NaN</td>\n",
              "      <td>1.55987</td>\n",
              "      <td>0.507444</td>\n",
              "      <td>1</td>\n",
              "      <td>1</td>\n",
              "      <td>2</td>\n",
              "      <td>2</td>\n",
              "      <td>6</td>\n",
              "    </tr>\n",
              "    <tr>\n",
              "      <th>component_id_2</th>\n",
              "      <td>14786</td>\n",
              "      <td>834</td>\n",
              "      <td>C-1628</td>\n",
              "      <td>1959</td>\n",
              "      <td>NaN</td>\n",
              "      <td>NaN</td>\n",
              "      <td>NaN</td>\n",
              "      <td>NaN</td>\n",
              "      <td>NaN</td>\n",
              "      <td>NaN</td>\n",
              "      <td>NaN</td>\n",
              "    </tr>\n",
              "    <tr>\n",
              "      <th>quantity_2</th>\n",
              "      <td>14786</td>\n",
              "      <td>NaN</td>\n",
              "      <td>NaN</td>\n",
              "      <td>NaN</td>\n",
              "      <td>1.52611</td>\n",
              "      <td>0.510851</td>\n",
              "      <td>1</td>\n",
              "      <td>1</td>\n",
              "      <td>2</td>\n",
              "      <td>2</td>\n",
              "      <td>6</td>\n",
              "    </tr>\n",
              "    <tr>\n",
              "      <th>component_id_3</th>\n",
              "      <td>4791</td>\n",
              "      <td>509</td>\n",
              "      <td>C-1641</td>\n",
              "      <td>421</td>\n",
              "      <td>NaN</td>\n",
              "      <td>NaN</td>\n",
              "      <td>NaN</td>\n",
              "      <td>NaN</td>\n",
              "      <td>NaN</td>\n",
              "      <td>NaN</td>\n",
              "      <td>NaN</td>\n",
              "    </tr>\n",
              "    <tr>\n",
              "      <th>quantity_3</th>\n",
              "      <td>4798</td>\n",
              "      <td>NaN</td>\n",
              "      <td>NaN</td>\n",
              "      <td>NaN</td>\n",
              "      <td>1.02063</td>\n",
              "      <td>0.1601</td>\n",
              "      <td>1</td>\n",
              "      <td>1</td>\n",
              "      <td>1</td>\n",
              "      <td>1</td>\n",
              "      <td>4</td>\n",
              "    </tr>\n",
              "    <tr>\n",
              "      <th>component_id_4</th>\n",
              "      <td>607</td>\n",
              "      <td>204</td>\n",
              "      <td>C-1660</td>\n",
              "      <td>62</td>\n",
              "      <td>NaN</td>\n",
              "      <td>NaN</td>\n",
              "      <td>NaN</td>\n",
              "      <td>NaN</td>\n",
              "      <td>NaN</td>\n",
              "      <td>NaN</td>\n",
              "      <td>NaN</td>\n",
              "    </tr>\n",
              "    <tr>\n",
              "      <th>quantity_4</th>\n",
              "      <td>608</td>\n",
              "      <td>NaN</td>\n",
              "      <td>NaN</td>\n",
              "      <td>NaN</td>\n",
              "      <td>1.02796</td>\n",
              "      <td>0.209041</td>\n",
              "      <td>1</td>\n",
              "      <td>1</td>\n",
              "      <td>1</td>\n",
              "      <td>1</td>\n",
              "      <td>4</td>\n",
              "    </tr>\n",
              "    <tr>\n",
              "      <th>component_id_5</th>\n",
              "      <td>92</td>\n",
              "      <td>62</td>\n",
              "      <td>C-0872</td>\n",
              "      <td>10</td>\n",
              "      <td>NaN</td>\n",
              "      <td>NaN</td>\n",
              "      <td>NaN</td>\n",
              "      <td>NaN</td>\n",
              "      <td>NaN</td>\n",
              "      <td>NaN</td>\n",
              "      <td>NaN</td>\n",
              "    </tr>\n",
              "    <tr>\n",
              "      <th>quantity_5</th>\n",
              "      <td>92</td>\n",
              "      <td>NaN</td>\n",
              "      <td>NaN</td>\n",
              "      <td>NaN</td>\n",
              "      <td>1.03261</td>\n",
              "      <td>0.178583</td>\n",
              "      <td>1</td>\n",
              "      <td>1</td>\n",
              "      <td>1</td>\n",
              "      <td>1</td>\n",
              "      <td>2</td>\n",
              "    </tr>\n",
              "    <tr>\n",
              "      <th>component_id_6</th>\n",
              "      <td>26</td>\n",
              "      <td>19</td>\n",
              "      <td>C-0923</td>\n",
              "      <td>3</td>\n",
              "      <td>NaN</td>\n",
              "      <td>NaN</td>\n",
              "      <td>NaN</td>\n",
              "      <td>NaN</td>\n",
              "      <td>NaN</td>\n",
              "      <td>NaN</td>\n",
              "      <td>NaN</td>\n",
              "    </tr>\n",
              "    <tr>\n",
              "      <th>quantity_6</th>\n",
              "      <td>26</td>\n",
              "      <td>NaN</td>\n",
              "      <td>NaN</td>\n",
              "      <td>NaN</td>\n",
              "      <td>1.15385</td>\n",
              "      <td>0.367946</td>\n",
              "      <td>1</td>\n",
              "      <td>1</td>\n",
              "      <td>1</td>\n",
              "      <td>1</td>\n",
              "      <td>2</td>\n",
              "    </tr>\n",
              "    <tr>\n",
              "      <th>component_id_7</th>\n",
              "      <td>7</td>\n",
              "      <td>4</td>\n",
              "      <td>C-1019</td>\n",
              "      <td>3</td>\n",
              "      <td>NaN</td>\n",
              "      <td>NaN</td>\n",
              "      <td>NaN</td>\n",
              "      <td>NaN</td>\n",
              "      <td>NaN</td>\n",
              "      <td>NaN</td>\n",
              "      <td>NaN</td>\n",
              "    </tr>\n",
              "    <tr>\n",
              "      <th>quantity_7</th>\n",
              "      <td>7</td>\n",
              "      <td>NaN</td>\n",
              "      <td>NaN</td>\n",
              "      <td>NaN</td>\n",
              "      <td>1</td>\n",
              "      <td>0</td>\n",
              "      <td>1</td>\n",
              "      <td>1</td>\n",
              "      <td>1</td>\n",
              "      <td>1</td>\n",
              "      <td>1</td>\n",
              "    </tr>\n",
              "    <tr>\n",
              "      <th>component_id_8</th>\n",
              "      <td>1</td>\n",
              "      <td>1</td>\n",
              "      <td>C-1981</td>\n",
              "      <td>1</td>\n",
              "      <td>NaN</td>\n",
              "      <td>NaN</td>\n",
              "      <td>NaN</td>\n",
              "      <td>NaN</td>\n",
              "      <td>NaN</td>\n",
              "      <td>NaN</td>\n",
              "      <td>NaN</td>\n",
              "    </tr>\n",
              "    <tr>\n",
              "      <th>quantity_8</th>\n",
              "      <td>1</td>\n",
              "      <td>NaN</td>\n",
              "      <td>NaN</td>\n",
              "      <td>NaN</td>\n",
              "      <td>1</td>\n",
              "      <td>NaN</td>\n",
              "      <td>1</td>\n",
              "      <td>1</td>\n",
              "      <td>1</td>\n",
              "      <td>1</td>\n",
              "      <td>1</td>\n",
              "    </tr>\n",
              "  </tbody>\n",
              "</table>\n",
              "</div>"
            ],
            "text/plain": [
              "                  count unique       top  freq  ...  25%  50%  75%  max\n",
              "tube_assembly_id  21198  21198  TA-09655     1  ...  NaN  NaN  NaN  NaN\n",
              "component_id_1    19149   1079    C-1621  2043  ...  NaN  NaN  NaN  NaN\n",
              "quantity_1        19149    NaN       NaN   NaN  ...    1    2    2    6\n",
              "component_id_2    14786    834    C-1628  1959  ...  NaN  NaN  NaN  NaN\n",
              "quantity_2        14786    NaN       NaN   NaN  ...    1    2    2    6\n",
              "component_id_3     4791    509    C-1641   421  ...  NaN  NaN  NaN  NaN\n",
              "quantity_3         4798    NaN       NaN   NaN  ...    1    1    1    4\n",
              "component_id_4      607    204    C-1660    62  ...  NaN  NaN  NaN  NaN\n",
              "quantity_4          608    NaN       NaN   NaN  ...    1    1    1    4\n",
              "component_id_5       92     62    C-0872    10  ...  NaN  NaN  NaN  NaN\n",
              "quantity_5           92    NaN       NaN   NaN  ...    1    1    1    2\n",
              "component_id_6       26     19    C-0923     3  ...  NaN  NaN  NaN  NaN\n",
              "quantity_6           26    NaN       NaN   NaN  ...    1    1    1    2\n",
              "component_id_7        7      4    C-1019     3  ...  NaN  NaN  NaN  NaN\n",
              "quantity_7            7    NaN       NaN   NaN  ...    1    1    1    1\n",
              "component_id_8        1      1    C-1981     1  ...  NaN  NaN  NaN  NaN\n",
              "quantity_8            1    NaN       NaN   NaN  ...    1    1    1    1\n",
              "\n",
              "[17 rows x 11 columns]"
            ]
          },
          "metadata": {
            "tags": []
          },
          "execution_count": 21
        }
      ]
    },
    {
      "cell_type": "code",
      "metadata": {
        "id": "woy4ASGH_YQV",
        "colab_type": "code",
        "outputId": "dad7892f-c2c7-46c5-ab46-2769a38ddde9",
        "colab": {
          "base_uri": "https://localhost:8080/",
          "height": 226
        }
      },
      "source": [
        "materials.head()"
      ],
      "execution_count": 22,
      "outputs": [
        {
          "output_type": "execute_result",
          "data": {
            "text/html": [
              "<div>\n",
              "<style scoped>\n",
              "    .dataframe tbody tr th:only-of-type {\n",
              "        vertical-align: middle;\n",
              "    }\n",
              "\n",
              "    .dataframe tbody tr th {\n",
              "        vertical-align: top;\n",
              "    }\n",
              "\n",
              "    .dataframe thead th {\n",
              "        text-align: right;\n",
              "    }\n",
              "</style>\n",
              "<table border=\"1\" class=\"dataframe\">\n",
              "  <thead>\n",
              "    <tr style=\"text-align: right;\">\n",
              "      <th></th>\n",
              "      <th>tube_assembly_id</th>\n",
              "      <th>component_id_1</th>\n",
              "      <th>quantity_1</th>\n",
              "      <th>component_id_2</th>\n",
              "      <th>quantity_2</th>\n",
              "      <th>component_id_3</th>\n",
              "      <th>quantity_3</th>\n",
              "      <th>component_id_4</th>\n",
              "      <th>quantity_4</th>\n",
              "      <th>component_id_5</th>\n",
              "      <th>quantity_5</th>\n",
              "      <th>component_id_6</th>\n",
              "      <th>quantity_6</th>\n",
              "      <th>component_id_7</th>\n",
              "      <th>quantity_7</th>\n",
              "      <th>component_id_8</th>\n",
              "      <th>quantity_8</th>\n",
              "    </tr>\n",
              "  </thead>\n",
              "  <tbody>\n",
              "    <tr>\n",
              "      <th>0</th>\n",
              "      <td>TA-00001</td>\n",
              "      <td>C-1622</td>\n",
              "      <td>2.0</td>\n",
              "      <td>C-1629</td>\n",
              "      <td>2.0</td>\n",
              "      <td>NaN</td>\n",
              "      <td>NaN</td>\n",
              "      <td>NaN</td>\n",
              "      <td>NaN</td>\n",
              "      <td>NaN</td>\n",
              "      <td>NaN</td>\n",
              "      <td>NaN</td>\n",
              "      <td>NaN</td>\n",
              "      <td>NaN</td>\n",
              "      <td>NaN</td>\n",
              "      <td>NaN</td>\n",
              "      <td>NaN</td>\n",
              "    </tr>\n",
              "    <tr>\n",
              "      <th>1</th>\n",
              "      <td>TA-00002</td>\n",
              "      <td>C-1312</td>\n",
              "      <td>2.0</td>\n",
              "      <td>NaN</td>\n",
              "      <td>NaN</td>\n",
              "      <td>NaN</td>\n",
              "      <td>NaN</td>\n",
              "      <td>NaN</td>\n",
              "      <td>NaN</td>\n",
              "      <td>NaN</td>\n",
              "      <td>NaN</td>\n",
              "      <td>NaN</td>\n",
              "      <td>NaN</td>\n",
              "      <td>NaN</td>\n",
              "      <td>NaN</td>\n",
              "      <td>NaN</td>\n",
              "      <td>NaN</td>\n",
              "    </tr>\n",
              "    <tr>\n",
              "      <th>2</th>\n",
              "      <td>TA-00003</td>\n",
              "      <td>C-1312</td>\n",
              "      <td>2.0</td>\n",
              "      <td>NaN</td>\n",
              "      <td>NaN</td>\n",
              "      <td>NaN</td>\n",
              "      <td>NaN</td>\n",
              "      <td>NaN</td>\n",
              "      <td>NaN</td>\n",
              "      <td>NaN</td>\n",
              "      <td>NaN</td>\n",
              "      <td>NaN</td>\n",
              "      <td>NaN</td>\n",
              "      <td>NaN</td>\n",
              "      <td>NaN</td>\n",
              "      <td>NaN</td>\n",
              "      <td>NaN</td>\n",
              "    </tr>\n",
              "    <tr>\n",
              "      <th>3</th>\n",
              "      <td>TA-00004</td>\n",
              "      <td>C-1312</td>\n",
              "      <td>2.0</td>\n",
              "      <td>NaN</td>\n",
              "      <td>NaN</td>\n",
              "      <td>NaN</td>\n",
              "      <td>NaN</td>\n",
              "      <td>NaN</td>\n",
              "      <td>NaN</td>\n",
              "      <td>NaN</td>\n",
              "      <td>NaN</td>\n",
              "      <td>NaN</td>\n",
              "      <td>NaN</td>\n",
              "      <td>NaN</td>\n",
              "      <td>NaN</td>\n",
              "      <td>NaN</td>\n",
              "      <td>NaN</td>\n",
              "    </tr>\n",
              "    <tr>\n",
              "      <th>4</th>\n",
              "      <td>TA-00005</td>\n",
              "      <td>C-1624</td>\n",
              "      <td>1.0</td>\n",
              "      <td>C-1631</td>\n",
              "      <td>1.0</td>\n",
              "      <td>C-1641</td>\n",
              "      <td>1.0</td>\n",
              "      <td>NaN</td>\n",
              "      <td>NaN</td>\n",
              "      <td>NaN</td>\n",
              "      <td>NaN</td>\n",
              "      <td>NaN</td>\n",
              "      <td>NaN</td>\n",
              "      <td>NaN</td>\n",
              "      <td>NaN</td>\n",
              "      <td>NaN</td>\n",
              "      <td>NaN</td>\n",
              "    </tr>\n",
              "  </tbody>\n",
              "</table>\n",
              "</div>"
            ],
            "text/plain": [
              "  tube_assembly_id component_id_1  ...  component_id_8 quantity_8\n",
              "0         TA-00001         C-1622  ...             NaN        NaN\n",
              "1         TA-00002         C-1312  ...             NaN        NaN\n",
              "2         TA-00003         C-1312  ...             NaN        NaN\n",
              "3         TA-00004         C-1312  ...             NaN        NaN\n",
              "4         TA-00005         C-1624  ...             NaN        NaN\n",
              "\n",
              "[5 rows x 17 columns]"
            ]
          },
          "metadata": {
            "tags": []
          },
          "execution_count": 22
        }
      ]
    },
    {
      "cell_type": "code",
      "metadata": {
        "id": "tob5seMs6lx1",
        "colab_type": "code",
        "colab": {}
      },
      "source": [
        "components = []\n",
        "quantities = []\n",
        "for i in range(8):\n",
        "  components.append('component_id_' + str(i+1))\n",
        "  quantities.append('quantity_' + str(i+1))\n",
        "  \n",
        "materials_wide = materials.pivot(index='tube_assembly_id', \n",
        "                                 columns=components[0], \n",
        "                                 values=quantities[0]).fillna(0)\n",
        "\n",
        "for i in range(7):\n",
        "  materials_wide = materials_wide.add(materials.pivot(index='tube_assembly_id', \n",
        "                                                      columns=components[i+1], \n",
        "                                                      values=quantities[i+1]).fillna(0),\n",
        "                                     fill_value=0)"
      ],
      "execution_count": 0,
      "outputs": []
    },
    {
      "cell_type": "code",
      "metadata": {
        "id": "hQG0EeeNBeDQ",
        "colab_type": "code",
        "outputId": "3b77c7b5-3063-4f70-9680-4741b568c078",
        "colab": {
          "base_uri": "https://localhost:8080/",
          "height": 238
        }
      },
      "source": [
        "materials_wide[['C-1622', 'C-1629', 'C-1624', 'C-1631', 'C-1641']].head()"
      ],
      "execution_count": 24,
      "outputs": [
        {
          "output_type": "execute_result",
          "data": {
            "text/html": [
              "<div>\n",
              "<style scoped>\n",
              "    .dataframe tbody tr th:only-of-type {\n",
              "        vertical-align: middle;\n",
              "    }\n",
              "\n",
              "    .dataframe tbody tr th {\n",
              "        vertical-align: top;\n",
              "    }\n",
              "\n",
              "    .dataframe thead th {\n",
              "        text-align: right;\n",
              "    }\n",
              "</style>\n",
              "<table border=\"1\" class=\"dataframe\">\n",
              "  <thead>\n",
              "    <tr style=\"text-align: right;\">\n",
              "      <th></th>\n",
              "      <th>C-1622</th>\n",
              "      <th>C-1629</th>\n",
              "      <th>C-1624</th>\n",
              "      <th>C-1631</th>\n",
              "      <th>C-1641</th>\n",
              "    </tr>\n",
              "    <tr>\n",
              "      <th>tube_assembly_id</th>\n",
              "      <th></th>\n",
              "      <th></th>\n",
              "      <th></th>\n",
              "      <th></th>\n",
              "      <th></th>\n",
              "    </tr>\n",
              "  </thead>\n",
              "  <tbody>\n",
              "    <tr>\n",
              "      <th>TA-00001</th>\n",
              "      <td>2.0</td>\n",
              "      <td>2.0</td>\n",
              "      <td>0.0</td>\n",
              "      <td>0.0</td>\n",
              "      <td>0.0</td>\n",
              "    </tr>\n",
              "    <tr>\n",
              "      <th>TA-00002</th>\n",
              "      <td>0.0</td>\n",
              "      <td>0.0</td>\n",
              "      <td>0.0</td>\n",
              "      <td>0.0</td>\n",
              "      <td>0.0</td>\n",
              "    </tr>\n",
              "    <tr>\n",
              "      <th>TA-00003</th>\n",
              "      <td>0.0</td>\n",
              "      <td>0.0</td>\n",
              "      <td>0.0</td>\n",
              "      <td>0.0</td>\n",
              "      <td>0.0</td>\n",
              "    </tr>\n",
              "    <tr>\n",
              "      <th>TA-00004</th>\n",
              "      <td>0.0</td>\n",
              "      <td>0.0</td>\n",
              "      <td>0.0</td>\n",
              "      <td>0.0</td>\n",
              "      <td>0.0</td>\n",
              "    </tr>\n",
              "    <tr>\n",
              "      <th>TA-00005</th>\n",
              "      <td>0.0</td>\n",
              "      <td>0.0</td>\n",
              "      <td>1.0</td>\n",
              "      <td>1.0</td>\n",
              "      <td>1.0</td>\n",
              "    </tr>\n",
              "  </tbody>\n",
              "</table>\n",
              "</div>"
            ],
            "text/plain": [
              "                  C-1622  C-1629  C-1624  C-1631  C-1641\n",
              "tube_assembly_id                                        \n",
              "TA-00001             2.0     2.0     0.0     0.0     0.0\n",
              "TA-00002             0.0     0.0     0.0     0.0     0.0\n",
              "TA-00003             0.0     0.0     0.0     0.0     0.0\n",
              "TA-00004             0.0     0.0     0.0     0.0     0.0\n",
              "TA-00005             0.0     0.0     1.0     1.0     1.0"
            ]
          },
          "metadata": {
            "tags": []
          },
          "execution_count": 24
        }
      ]
    },
    {
      "cell_type": "code",
      "metadata": {
        "id": "m0E_RuiWCwMl",
        "colab_type": "code",
        "colab": {}
      },
      "source": [
        "materials_wide = materials_wide.fillna(0)"
      ],
      "execution_count": 0,
      "outputs": []
    },
    {
      "cell_type": "code",
      "metadata": {
        "id": "wYPE7cgSC9y3",
        "colab_type": "code",
        "outputId": "c01883fd-4845-4905-e4bc-44c67782f679",
        "colab": {
          "base_uri": "https://localhost:8080/",
          "height": 35
        }
      },
      "source": [
        "materials_wide[np.nan].sum()"
      ],
      "execution_count": 26,
      "outputs": [
        {
          "output_type": "execute_result",
          "data": {
            "text/plain": [
              "8.0"
            ]
          },
          "metadata": {
            "tags": []
          },
          "execution_count": 26
        }
      ]
    },
    {
      "cell_type": "code",
      "metadata": {
        "id": "LY5Ue04XDObV",
        "colab_type": "code",
        "outputId": "b4d0ba5a-339a-427d-ad0e-e186508c1033",
        "colab": {
          "base_uri": "https://localhost:8080/",
          "height": 35
        }
      },
      "source": [
        "materials_wide['9999'].sum()"
      ],
      "execution_count": 27,
      "outputs": [
        {
          "output_type": "execute_result",
          "data": {
            "text/plain": [
              "2.0"
            ]
          },
          "metadata": {
            "tags": []
          },
          "execution_count": 27
        }
      ]
    },
    {
      "cell_type": "code",
      "metadata": {
        "id": "KNY1O-XbCVF2",
        "colab_type": "code",
        "colab": {}
      },
      "source": [
        "materials_wide['total_components'] = materials_wide.sum(axis=1)"
      ],
      "execution_count": 0,
      "outputs": []
    },
    {
      "cell_type": "code",
      "metadata": {
        "id": "ejaAQ-T6Ci_9",
        "colab_type": "code",
        "outputId": "8eb7d63c-f5ab-420d-d4a2-044c9cff6719",
        "colab": {
          "base_uri": "https://localhost:8080/",
          "height": 146
        }
      },
      "source": [
        "materials_wide['total_components'].head()"
      ],
      "execution_count": 29,
      "outputs": [
        {
          "output_type": "execute_result",
          "data": {
            "text/plain": [
              "tube_assembly_id\n",
              "TA-00001    4.0\n",
              "TA-00002    2.0\n",
              "TA-00003    2.0\n",
              "TA-00004    2.0\n",
              "TA-00005    3.0\n",
              "Name: total_components, dtype: float64"
            ]
          },
          "metadata": {
            "tags": []
          },
          "execution_count": 29
        }
      ]
    },
    {
      "cell_type": "code",
      "metadata": {
        "id": "s-6O0kmxCs2o",
        "colab_type": "code",
        "colab": {}
      },
      "source": [
        "materials_wide['distinct_components'] = materials_wide.drop('total_components', axis=1).ne(0).sum(axis=1)"
      ],
      "execution_count": 0,
      "outputs": []
    },
    {
      "cell_type": "code",
      "metadata": {
        "id": "YJixCxZhE4yv",
        "colab_type": "code",
        "outputId": "4238bdef-2c61-4203-979b-af64425fd344",
        "colab": {
          "base_uri": "https://localhost:8080/",
          "height": 146
        }
      },
      "source": [
        "materials_wide['distinct_components'].head()"
      ],
      "execution_count": 31,
      "outputs": [
        {
          "output_type": "execute_result",
          "data": {
            "text/plain": [
              "tube_assembly_id\n",
              "TA-00001    2\n",
              "TA-00002    1\n",
              "TA-00003    1\n",
              "TA-00004    1\n",
              "TA-00005    3\n",
              "Name: distinct_components, dtype: int64"
            ]
          },
          "metadata": {
            "tags": []
          },
          "execution_count": 31
        }
      ]
    },
    {
      "cell_type": "markdown",
      "metadata": {
        "id": "ij_MkA6X4rLY",
        "colab_type": "text"
      },
      "source": [
        "### Fit a model"
      ]
    },
    {
      "cell_type": "code",
      "metadata": {
        "id": "NzbXNhXg61iz",
        "colab_type": "code",
        "colab": {}
      },
      "source": [
        "def wrangle(X):\n",
        "    X = X.copy()\n",
        "    \n",
        "    # Engineer date features\n",
        "    X['quote_date'] = pd.to_datetime(X['quote_date'], infer_datetime_format=True)\n",
        "    X['quote_date_year'] = X['quote_date'].dt.year\n",
        "    X['quote_date_month'] = X['quote_date'].dt.month\n",
        "    X = X.drop(columns='quote_date')\n",
        "    \n",
        "    # Merge tube data\n",
        "    tube = pd.read_csv('competition_data/tube.csv')\n",
        "    X = X.merge(tube, how='left')\n",
        "\n",
        "    # Merge materials data.\n",
        "    materials = pd.read_csv('competition_data/bill_of_materials.csv')\n",
        "    components = []\n",
        "    quantities = []\n",
        "    \n",
        "    for i in range(8):\n",
        "      components.append('component_id_' + str(i+1))\n",
        "      quantities.append('quantity_' + str(i+1))\n",
        "      \n",
        "    materials_wide = materials.pivot(index='tube_assembly_id', \n",
        "                                     columns=components[0], \n",
        "                                     values=quantities[0]).fillna(0)\n",
        "    \n",
        "    for i in range(7):\n",
        "      materials_wide = materials_wide.add(materials.pivot(index='tube_assembly_id', \n",
        "                                                          columns=components[i+1], \n",
        "                                                          values=quantities[i+1]).fillna(0),\n",
        "                                          fill_value=0)\n",
        "    \n",
        "    materials_wide = materials_wide.fillna(0)\n",
        "    materials_wide['total_components'] = materials_wide.sum(axis=1)\n",
        "    materials_wide['distinct_components'] = materials_wide.drop('total_components', \n",
        "                                                                axis=1).ne(0).sum(axis=1)\n",
        "    \n",
        "    X = X.merge(materials_wide[['total_components', 'distinct_components']],\n",
        "                how='left',\n",
        "                left_on = 'tube_assembly_id',\n",
        "                right_index=True)\n",
        "    \n",
        "    \n",
        "    # Drop tube_assembly_id because our goal is to predict unknown assemblies\n",
        "    X = X.drop(columns='tube_assembly_id')\n",
        "    \n",
        "    return X\n",
        "\n",
        "train_wrangled = wrangle(train)\n",
        "val_wrangled = wrangle(val)"
      ],
      "execution_count": 0,
      "outputs": []
    },
    {
      "cell_type": "code",
      "metadata": {
        "id": "2S4-EkFJz0_V",
        "colab_type": "code",
        "colab": {}
      },
      "source": [
        "features = train_wrangled.columns.drop(target)\n",
        "\n",
        "X_train = train_wrangled[features]\n",
        "X_val = val_wrangled[features]"
      ],
      "execution_count": 0,
      "outputs": []
    },
    {
      "cell_type": "code",
      "metadata": {
        "id": "3Oui8AdR32uD",
        "colab_type": "code",
        "colab": {
          "base_uri": "https://localhost:8080/",
          "height": 127
        },
        "outputId": "85223365-6b72-4f00-a6d9-6519b7bb2dc4"
      },
      "source": [
        "features"
      ],
      "execution_count": 80,
      "outputs": [
        {
          "output_type": "execute_result",
          "data": {
            "text/plain": [
              "Index(['supplier', 'annual_usage', 'min_order_quantity', 'bracket_pricing',\n",
              "       'quantity', 'quote_date_year', 'quote_date_month', 'material_id',\n",
              "       'diameter', 'wall', 'length', 'num_bends', 'bend_radius', 'end_a_1x',\n",
              "       'end_a_2x', 'end_x_1x', 'end_x_2x', 'end_a', 'end_x', 'num_boss',\n",
              "       'num_bracket', 'other', 'total_components', 'distinct_components'],\n",
              "      dtype='object')"
            ]
          },
          "metadata": {
            "tags": []
          },
          "execution_count": 80
        }
      ]
    },
    {
      "cell_type": "code",
      "metadata": {
        "id": "pAPg8RTmy162",
        "colab_type": "code",
        "colab": {}
      },
      "source": [
        "pipeline = make_pipeline(ce.OrdinalEncoder(),\n",
        "                         RandomForestRegressor(max_features=14, \n",
        "                                               random_state=0, \n",
        "                                               n_jobs=-1))"
      ],
      "execution_count": 0,
      "outputs": []
    },
    {
      "cell_type": "code",
      "metadata": {
        "id": "Vvzvnze_zDxl",
        "colab_type": "code",
        "colab": {
          "base_uri": "https://localhost:8080/",
          "height": 74
        },
        "outputId": "13f8abe7-dde5-4e28-929a-6fd59ad0d54e"
      },
      "source": [
        "pipeline.fit(X_train, y_train);"
      ],
      "execution_count": 141,
      "outputs": [
        {
          "output_type": "stream",
          "text": [
            "/usr/local/lib/python3.6/dist-packages/sklearn/ensemble/forest.py:245: FutureWarning: The default value of n_estimators will change from 10 in version 0.20 to 100 in 0.22.\n",
            "  \"10 in version 0.20 to 100 in 0.22.\", FutureWarning)\n"
          ],
          "name": "stderr"
        }
      ]
    },
    {
      "cell_type": "markdown",
      "metadata": {
        "id": "mGvVEE8b4rLZ",
        "colab_type": "text"
      },
      "source": [
        "### Get your validation RMSLE (or RMSE with log-transformed targets)"
      ]
    },
    {
      "cell_type": "code",
      "metadata": {
        "id": "p6zisx7f4ths",
        "colab_type": "code",
        "colab": {
          "base_uri": "https://localhost:8080/",
          "height": 54
        },
        "outputId": "4485fde7-a7eb-4d86-ffbb-74283034c18e"
      },
      "source": [
        "y_pred_train = pipeline.predict(X_train)\n",
        "y_pred_val = pipeline.predict(X_val)\n",
        "print(rmsle(y_train, y_pred_train))\n",
        "print(rmsle(y_val, y_pred_val))"
      ],
      "execution_count": 142,
      "outputs": [
        {
          "output_type": "stream",
          "text": [
            "0.1379820540512856\n",
            "0.32772827610193944\n"
          ],
          "name": "stdout"
        }
      ]
    },
    {
      "cell_type": "markdown",
      "metadata": {
        "id": "d7qfp4Zz44NG",
        "colab_type": "text"
      },
      "source": [
        "### Get feature importances"
      ]
    },
    {
      "cell_type": "code",
      "metadata": {
        "id": "00bJG9lx442z",
        "colab_type": "code",
        "colab": {
          "base_uri": "https://localhost:8080/",
          "height": 269
        },
        "outputId": "361972ca-5d68-49ca-a509-45c36045318e"
      },
      "source": [
        "rf = pipeline.named_steps['randomforestregressor']\n",
        "importances = pd.Series(rf.feature_importances_, X_train.columns)\n",
        "importances.sort_values().plot.barh();"
      ],
      "execution_count": 143,
      "outputs": [
        {
          "output_type": "display_data",
          "data": {
            "image/png": "[encoded data removed]",
            "text/plain": [
              "<Figure size 432x288 with 1 Axes>"
            ]
          },
          "metadata": {
            "tags": []
          }
        }
      ]
    },
    {
      "cell_type": "markdown",
      "metadata": {
        "id": "i_X24nMg4rLa",
        "colab_type": "text"
      },
      "source": [
        "### [Submit](https://www.kaggle.com/c/caterpillar-tube-pricing/submit) your predictions to the Kaggle competition"
      ]
    },
    {
      "cell_type": "code",
      "metadata": {
        "id": "xosWAiiA4rLa",
        "colab_type": "code",
        "colab": {}
      },
      "source": [
        "test_wrangled = wrangle(test)"
      ],
      "execution_count": 0,
      "outputs": []
    },
    {
      "cell_type": "code",
      "metadata": {
        "id": "RLreRdEm6HKT",
        "colab_type": "code",
        "colab": {}
      },
      "source": [
        "test_X = test_wrangled[features]"
      ],
      "execution_count": 0,
      "outputs": []
    },
    {
      "cell_type": "code",
      "metadata": {
        "id": "IFzvLUpl6K8s",
        "colab_type": "code",
        "colab": {}
      },
      "source": [
        "test_y = pipeline.predict(test_X)"
      ],
      "execution_count": 0,
      "outputs": []
    },
    {
      "cell_type": "code",
      "metadata": {
        "id": "CMWJBkrh6Tcz",
        "colab_type": "code",
        "colab": {}
      },
      "source": [
        "submission = pd.read_csv('sample_submission.csv')"
      ],
      "execution_count": 0,
      "outputs": []
    },
    {
      "cell_type": "code",
      "metadata": {
        "id": "VJZPfvx06bmb",
        "colab_type": "code",
        "colab": {
          "base_uri": "https://localhost:8080/",
          "height": 206
        },
        "outputId": "37751eb3-5e40-4f0a-b45c-07cd64035542"
      },
      "source": [
        "submission.head()"
      ],
      "execution_count": 152,
      "outputs": [
        {
          "output_type": "execute_result",
          "data": {
            "text/html": [
              "<div>\n",
              "<style scoped>\n",
              "    .dataframe tbody tr th:only-of-type {\n",
              "        vertical-align: middle;\n",
              "    }\n",
              "\n",
              "    .dataframe tbody tr th {\n",
              "        vertical-align: top;\n",
              "    }\n",
              "\n",
              "    .dataframe thead th {\n",
              "        text-align: right;\n",
              "    }\n",
              "</style>\n",
              "<table border=\"1\" class=\"dataframe\">\n",
              "  <thead>\n",
              "    <tr style=\"text-align: right;\">\n",
              "      <th></th>\n",
              "      <th>id</th>\n",
              "      <th>cost</th>\n",
              "    </tr>\n",
              "  </thead>\n",
              "  <tbody>\n",
              "    <tr>\n",
              "      <th>0</th>\n",
              "      <td>1</td>\n",
              "      <td>0</td>\n",
              "    </tr>\n",
              "    <tr>\n",
              "      <th>1</th>\n",
              "      <td>2</td>\n",
              "      <td>0</td>\n",
              "    </tr>\n",
              "    <tr>\n",
              "      <th>2</th>\n",
              "      <td>3</td>\n",
              "      <td>0</td>\n",
              "    </tr>\n",
              "    <tr>\n",
              "      <th>3</th>\n",
              "      <td>4</td>\n",
              "      <td>0</td>\n",
              "    </tr>\n",
              "    <tr>\n",
              "      <th>4</th>\n",
              "      <td>5</td>\n",
              "      <td>0</td>\n",
              "    </tr>\n",
              "  </tbody>\n",
              "</table>\n",
              "</div>"
            ],
            "text/plain": [
              "   id  cost\n",
              "0   1     0\n",
              "1   2     0\n",
              "2   3     0\n",
              "3   4     0\n",
              "4   5     0"
            ]
          },
          "metadata": {
            "tags": []
          },
          "execution_count": 152
        }
      ]
    },
    {
      "cell_type": "code",
      "metadata": {
        "id": "fQygfKGs6k4L",
        "colab_type": "code",
        "colab": {}
      },
      "source": [
        "submission['cost'] = test_y"
      ],
      "execution_count": 0,
      "outputs": []
    },
    {
      "cell_type": "code",
      "metadata": {
        "id": "H8Ospy_X6qeT",
        "colab_type": "code",
        "colab": {
          "base_uri": "https://localhost:8080/",
          "height": 206
        },
        "outputId": "79554c0a-3d92-43b7-bd55-2403442d96d3"
      },
      "source": [
        "submission.head()"
      ],
      "execution_count": 154,
      "outputs": [
        {
          "output_type": "execute_result",
          "data": {
            "text/html": [
              "<div>\n",
              "<style scoped>\n",
              "    .dataframe tbody tr th:only-of-type {\n",
              "        vertical-align: middle;\n",
              "    }\n",
              "\n",
              "    .dataframe tbody tr th {\n",
              "        vertical-align: top;\n",
              "    }\n",
              "\n",
              "    .dataframe thead th {\n",
              "        text-align: right;\n",
              "    }\n",
              "</style>\n",
              "<table border=\"1\" class=\"dataframe\">\n",
              "  <thead>\n",
              "    <tr style=\"text-align: right;\">\n",
              "      <th></th>\n",
              "      <th>id</th>\n",
              "      <th>cost</th>\n",
              "    </tr>\n",
              "  </thead>\n",
              "  <tbody>\n",
              "    <tr>\n",
              "      <th>0</th>\n",
              "      <td>1</td>\n",
              "      <td>22.579470</td>\n",
              "    </tr>\n",
              "    <tr>\n",
              "      <th>1</th>\n",
              "      <td>2</td>\n",
              "      <td>13.209495</td>\n",
              "    </tr>\n",
              "    <tr>\n",
              "      <th>2</th>\n",
              "      <td>3</td>\n",
              "      <td>7.404450</td>\n",
              "    </tr>\n",
              "    <tr>\n",
              "      <th>3</th>\n",
              "      <td>4</td>\n",
              "      <td>5.806435</td>\n",
              "    </tr>\n",
              "    <tr>\n",
              "      <th>4</th>\n",
              "      <td>5</td>\n",
              "      <td>4.312470</td>\n",
              "    </tr>\n",
              "  </tbody>\n",
              "</table>\n",
              "</div>"
            ],
            "text/plain": [
              "   id       cost\n",
              "0   1  22.579470\n",
              "1   2  13.209495\n",
              "2   3   7.404450\n",
              "3   4   5.806435\n",
              "4   5   4.312470"
            ]
          },
          "metadata": {
            "tags": []
          },
          "execution_count": 154
        }
      ]
    },
    {
      "cell_type": "code",
      "metadata": {
        "id": "J5ubb-ek6rlD",
        "colab_type": "code",
        "colab": {}
      },
      "source": [
        "submission.to_csv('submission.csv', index=False)"
      ],
      "execution_count": 0,
      "outputs": []
    }
  ]
}