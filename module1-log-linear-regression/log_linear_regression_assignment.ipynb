{
  "nbformat": 4,
  "nbformat_minor": 0,
  "metadata": {
    "colab": {
      "name": "log_linear_regression_assignment.ipynb",
      "version": "0.3.2",
      "provenance": [],
      "collapsed_sections": [],
      "include_colab_link": true
    },
    "kernelspec": {
      "name": "python3",
      "display_name": "Python 3"
    }
  },
  "cells": [
    {
      "cell_type": "markdown",
      "metadata": {
        "id": "view-in-github",
        "colab_type": "text"
      },
      "source": [
        "<a href=\"https://colab.research.google.com/github/MAL3X-01/DS-Unit-2-Applied-Modeling/blob/master/module1-log-linear-regression/log_linear_regression_assignment.ipynb\" target=\"_parent\"><img src=\"https://colab.research.google.com/assets/colab-badge.svg\" alt=\"Open In Colab\"/></a>"
      ]
    },
    {
      "cell_type": "code",
      "metadata": {
        "id": "SNeyEkZkPYzD",
        "colab_type": "code",
        "colab": {
          "base_uri": "https://localhost:8080/",
          "height": 292
        },
        "outputId": "cd4d5ec8-4ffb-4217-8062-3f8bbaa62d7a"
      },
      "source": [
        "#!pip install category_encoders"
      ],
      "execution_count": 19,
      "outputs": [
        {
          "output_type": "stream",
          "text": [
            "Collecting category_encoders\n",
            "\u001b[?25l  Downloading https://files.pythonhosted.org/packages/6e/a1/f7a22f144f33be78afeb06bfa78478e8284a64263a3c09b1ef54e673841e/category_encoders-2.0.0-py2.py3-none-any.whl (87kB)\n",
            "\u001b[K     |████████████████████████████████| 92kB 3.3MB/s \n",
            "\u001b[?25hRequirement already satisfied: numpy>=1.11.3 in /usr/local/lib/python3.6/dist-packages (from category_encoders) (1.16.4)\n",
            "Requirement already satisfied: scikit-learn>=0.20.0 in /usr/local/lib/python3.6/dist-packages (from category_encoders) (0.21.2)\n",
            "Requirement already satisfied: patsy>=0.4.1 in /usr/local/lib/python3.6/dist-packages (from category_encoders) (0.5.1)\n",
            "Requirement already satisfied: pandas>=0.21.1 in /usr/local/lib/python3.6/dist-packages (from category_encoders) (0.24.2)\n",
            "Requirement already satisfied: scipy>=0.19.0 in /usr/local/lib/python3.6/dist-packages (from category_encoders) (1.3.0)\n",
            "Requirement already satisfied: statsmodels>=0.6.1 in /usr/local/lib/python3.6/dist-packages (from category_encoders) (0.10.0)\n",
            "Requirement already satisfied: joblib>=0.11 in /usr/local/lib/python3.6/dist-packages (from scikit-learn>=0.20.0->category_encoders) (0.13.2)\n",
            "Requirement already satisfied: six in /usr/local/lib/python3.6/dist-packages (from patsy>=0.4.1->category_encoders) (1.12.0)\n",
            "Requirement already satisfied: python-dateutil>=2.5.0 in /usr/local/lib/python3.6/dist-packages (from pandas>=0.21.1->category_encoders) (2.5.3)\n",
            "Requirement already satisfied: pytz>=2011k in /usr/local/lib/python3.6/dist-packages (from pandas>=0.21.1->category_encoders) (2018.9)\n",
            "Installing collected packages: category-encoders\n",
            "Successfully installed category-encoders-2.0.0\n"
          ],
          "name": "stdout"
        }
      ]
    },
    {
      "cell_type": "markdown",
      "metadata": {
        "id": "H07riMBaKV5E",
        "colab_type": "text"
      },
      "source": [
        "# Assignment"
      ]
    },
    {
      "cell_type": "markdown",
      "metadata": {
        "id": "t59ASbPMKcRP",
        "colab_type": "text"
      },
      "source": [
        "- Start a clean notebook.\n",
        "-Get the Caterpillar data from Kaggle.\n",
        "-Do train/validate/test split.\n",
        "-Select features from train_set.csv, tube.csv, and at least one more file.\n",
        "-Fit a model.\n",
        "-Get your validation RMSLE (or RMSE with log-transformed targets).\n",
        "-Submit your predictions to the Kaggle competition.\n",
        "-Commit your notebook to your fork of the GitHub repo."
      ]
    },
    {
      "cell_type": "markdown",
      "metadata": {
        "id": "BxBijjcELBmi",
        "colab_type": "text"
      },
      "source": [
        "## Retrieving Kaggle Data"
      ]
    },
    {
      "cell_type": "code",
      "metadata": {
        "id": "DTTl_uW5LBXN",
        "colab_type": "code",
        "colab": {
          "base_uri": "https://localhost:8080/",
          "height": 224
        },
        "outputId": "2534d553-2f39-4c0c-db43-bc701b134215"
      },
      "source": [
        "!wget https://raw.githubusercontent.com/LambdaSchool/DS-Unit-2-Applied-Modeling/master/data/caterpillar/caterpillar-tube-pricing.zip"
      ],
      "execution_count": 1,
      "outputs": [
        {
          "output_type": "stream",
          "text": [
            "--2019-07-22 19:33:27--  https://raw.githubusercontent.com/LambdaSchool/DS-Unit-2-Applied-Modeling/master/data/caterpillar/caterpillar-tube-pricing.zip\n",
            "Resolving raw.githubusercontent.com (raw.githubusercontent.com)... 151.101.0.133, 151.101.64.133, 151.101.128.133, ...\n",
            "Connecting to raw.githubusercontent.com (raw.githubusercontent.com)|151.101.0.133|:443... connected.\n",
            "HTTP request sent, awaiting response... 200 OK\n",
            "Length: 823789 (804K) [application/zip]\n",
            "Saving to: ‘caterpillar-tube-pricing.zip’\n",
            "\n",
            "\r          caterpill   0%[                    ]       0  --.-KB/s               \rcaterpillar-tube-pr 100%[===================>] 804.48K  --.-KB/s    in 0.07s   \n",
            "\n",
            "2019-07-22 19:33:27 (10.6 MB/s) - ‘caterpillar-tube-pricing.zip’ saved [823789/823789]\n",
            "\n"
          ],
          "name": "stdout"
        }
      ]
    },
    {
      "cell_type": "code",
      "metadata": {
        "id": "l1mGWvIOLBUf",
        "colab_type": "code",
        "colab": {
          "base_uri": "https://localhost:8080/",
          "height": 34
        },
        "outputId": "6132b2de-5afe-4812-e128-569fe59eecb1"
      },
      "source": [
        "!ls *.zip"
      ],
      "execution_count": 2,
      "outputs": [
        {
          "output_type": "stream",
          "text": [
            "caterpillar-tube-pricing.zip\n"
          ],
          "name": "stdout"
        }
      ]
    },
    {
      "cell_type": "code",
      "metadata": {
        "id": "fPmh4PLWLBO8",
        "colab_type": "code",
        "colab": {
          "base_uri": "https://localhost:8080/",
          "height": 68
        },
        "outputId": "f6a431cb-3b61-4618-a602-ced58662ccde"
      },
      "source": [
        "!unzip caterpillar-tube-pricing.zip"
      ],
      "execution_count": 3,
      "outputs": [
        {
          "output_type": "stream",
          "text": [
            "Archive:  caterpillar-tube-pricing.zip\n",
            "  inflating: sample_submission.csv   \n",
            "  inflating: data.zip                \n"
          ],
          "name": "stdout"
        }
      ]
    },
    {
      "cell_type": "code",
      "metadata": {
        "id": "oMinH6hILBBP",
        "colab_type": "code",
        "colab": {
          "base_uri": "https://localhost:8080/",
          "height": 408
        },
        "outputId": "b906e3f3-8d0b-42f5-f12e-70f257b4b4f8"
      },
      "source": [
        "!unzip data.zip"
      ],
      "execution_count": 4,
      "outputs": [
        {
          "output_type": "stream",
          "text": [
            "Archive:  data.zip\n",
            "   creating: competition_data/\n",
            "  inflating: competition_data/bill_of_materials.csv  \n",
            "  inflating: competition_data/comp_adaptor.csv  \n",
            "  inflating: competition_data/comp_boss.csv  \n",
            "  inflating: competition_data/comp_elbow.csv  \n",
            "  inflating: competition_data/comp_float.csv  \n",
            "  inflating: competition_data/comp_hfl.csv  \n",
            "  inflating: competition_data/comp_nut.csv  \n",
            "  inflating: competition_data/comp_other.csv  \n",
            "  inflating: competition_data/comp_sleeve.csv  \n",
            "  inflating: competition_data/comp_straight.csv  \n",
            "  inflating: competition_data/comp_tee.csv  \n",
            "  inflating: competition_data/comp_threaded.csv  \n",
            "  inflating: competition_data/components.csv  \n",
            "  inflating: competition_data/specs.csv  \n",
            "  inflating: competition_data/test_set.csv  \n",
            "  inflating: competition_data/train_set.csv  \n",
            "  inflating: competition_data/tube.csv  \n",
            "  inflating: competition_data/tube_end_form.csv  \n",
            "  inflating: competition_data/type_component.csv  \n",
            "  inflating: competition_data/type_connection.csv  \n",
            "  inflating: competition_data/type_end_form.csv  \n"
          ],
          "name": "stdout"
        }
      ]
    },
    {
      "cell_type": "markdown",
      "metadata": {
        "id": "esjAPSnaLVE7",
        "colab_type": "text"
      },
      "source": [
        "### Getting File Names & Shape"
      ]
    },
    {
      "cell_type": "code",
      "metadata": {
        "id": "fEvFU0RwLbXp",
        "colab_type": "code",
        "colab": {
          "base_uri": "https://localhost:8080/",
          "height": 374
        },
        "outputId": "caf3b1cb-f0ed-414a-b6ab-870750752078"
      },
      "source": [
        "from glob import glob\n",
        "import pandas as pd\n",
        "\n",
        "for path in glob('competition_data/*.csv'):\n",
        "    df = pd.read_csv(path)\n",
        "    print(path, df.shape)"
      ],
      "execution_count": 5,
      "outputs": [
        {
          "output_type": "stream",
          "text": [
            "competition_data/type_end_form.csv (8, 2)\n",
            "competition_data/comp_elbow.csv (178, 16)\n",
            "competition_data/tube_end_form.csv (27, 2)\n",
            "competition_data/type_connection.csv (14, 2)\n",
            "competition_data/comp_adaptor.csv (25, 20)\n",
            "competition_data/bill_of_materials.csv (21198, 17)\n",
            "competition_data/comp_sleeve.csv (50, 10)\n",
            "competition_data/comp_straight.csv (361, 12)\n",
            "competition_data/comp_hfl.csv (6, 9)\n",
            "competition_data/components.csv (2048, 3)\n",
            "competition_data/comp_float.csv (16, 7)\n",
            "competition_data/comp_threaded.csv (194, 32)\n",
            "competition_data/test_set.csv (30235, 8)\n",
            "competition_data/comp_nut.csv (65, 11)\n",
            "competition_data/tube.csv (21198, 16)\n",
            "competition_data/train_set.csv (30213, 8)\n",
            "competition_data/specs.csv (21198, 11)\n",
            "competition_data/comp_other.csv (1001, 3)\n",
            "competition_data/type_component.csv (29, 2)\n",
            "competition_data/comp_boss.csv (147, 15)\n",
            "competition_data/comp_tee.csv (4, 14)\n"
          ],
          "name": "stdout"
        }
      ]
    },
    {
      "cell_type": "markdown",
      "metadata": {
        "id": "XnddKGP1LvZD",
        "colab_type": "text"
      },
      "source": [
        "## Read CSV"
      ]
    },
    {
      "cell_type": "code",
      "metadata": {
        "id": "ZKRru0JlLs3S",
        "colab_type": "code",
        "colab": {
          "base_uri": "https://localhost:8080/",
          "height": 34
        },
        "outputId": "6eba487b-f17c-4c99-c315-e9eca8724b25"
      },
      "source": [
        "trainval = pd.read_csv('competition_data/train_set.csv')\n",
        "test = pd.read_csv('competition_data/test_set.csv')\n",
        "\n",
        "print(trainval.shape, test.shape)"
      ],
      "execution_count": 71,
      "outputs": [
        {
          "output_type": "stream",
          "text": [
            "(30213, 8) (30235, 8)\n"
          ],
          "name": "stdout"
        }
      ]
    },
    {
      "cell_type": "code",
      "metadata": {
        "id": "TU9sI3FoTg7w",
        "colab_type": "code",
        "colab": {
          "base_uri": "https://localhost:8080/",
          "height": 170
        },
        "outputId": "39853fa8-dd1b-409b-9905-95d8f697be54"
      },
      "source": [
        "trainval.isnull().sum()"
      ],
      "execution_count": 72,
      "outputs": [
        {
          "output_type": "execute_result",
          "data": {
            "text/plain": [
              "tube_assembly_id      0\n",
              "supplier              0\n",
              "quote_date            0\n",
              "annual_usage          0\n",
              "min_order_quantity    0\n",
              "bracket_pricing       0\n",
              "quantity              0\n",
              "cost                  0\n",
              "dtype: int64"
            ]
          },
          "metadata": {
            "tags": []
          },
          "execution_count": 72
        }
      ]
    },
    {
      "cell_type": "code",
      "metadata": {
        "id": "YOCXLeLBQ8EB",
        "colab_type": "code",
        "colab": {
          "base_uri": "https://localhost:8080/",
          "height": 326
        },
        "outputId": "0ccc78c3-f79c-4e1b-b7d9-07acfdafb1a7"
      },
      "source": [
        "tube = pd.read_csv('competition_data/tube.csv')\n",
        "bom = pd.read_csv('competition_data/bill_of_materials.csv')\n",
        "\n",
        "print(tube.shape, bom.shape)\n",
        "tube.head()"
      ],
      "execution_count": 73,
      "outputs": [
        {
          "output_type": "stream",
          "text": [
            "(21198, 16) (21198, 17)\n"
          ],
          "name": "stdout"
        },
        {
          "output_type": "execute_result",
          "data": {
            "text/html": [
              "<div>\n",
              "<style scoped>\n",
              "    .dataframe tbody tr th:only-of-type {\n",
              "        vertical-align: middle;\n",
              "    }\n",
              "\n",
              "    .dataframe tbody tr th {\n",
              "        vertical-align: top;\n",
              "    }\n",
              "\n",
              "    .dataframe thead th {\n",
              "        text-align: right;\n",
              "    }\n",
              "</style>\n",
              "<table border=\"1\" class=\"dataframe\">\n",
              "  <thead>\n",
              "    <tr style=\"text-align: right;\">\n",
              "      <th></th>\n",
              "      <th>tube_assembly_id</th>\n",
              "      <th>material_id</th>\n",
              "      <th>diameter</th>\n",
              "      <th>wall</th>\n",
              "      <th>length</th>\n",
              "      <th>num_bends</th>\n",
              "      <th>bend_radius</th>\n",
              "      <th>end_a_1x</th>\n",
              "      <th>end_a_2x</th>\n",
              "      <th>end_x_1x</th>\n",
              "      <th>end_x_2x</th>\n",
              "      <th>end_a</th>\n",
              "      <th>end_x</th>\n",
              "      <th>num_boss</th>\n",
              "      <th>num_bracket</th>\n",
              "      <th>other</th>\n",
              "    </tr>\n",
              "  </thead>\n",
              "  <tbody>\n",
              "    <tr>\n",
              "      <th>0</th>\n",
              "      <td>TA-00001</td>\n",
              "      <td>SP-0035</td>\n",
              "      <td>12.70</td>\n",
              "      <td>1.65</td>\n",
              "      <td>164.0</td>\n",
              "      <td>5</td>\n",
              "      <td>38.10</td>\n",
              "      <td>N</td>\n",
              "      <td>N</td>\n",
              "      <td>N</td>\n",
              "      <td>N</td>\n",
              "      <td>EF-003</td>\n",
              "      <td>EF-003</td>\n",
              "      <td>0</td>\n",
              "      <td>0</td>\n",
              "      <td>0</td>\n",
              "    </tr>\n",
              "    <tr>\n",
              "      <th>1</th>\n",
              "      <td>TA-00002</td>\n",
              "      <td>SP-0019</td>\n",
              "      <td>6.35</td>\n",
              "      <td>0.71</td>\n",
              "      <td>137.0</td>\n",
              "      <td>8</td>\n",
              "      <td>19.05</td>\n",
              "      <td>N</td>\n",
              "      <td>N</td>\n",
              "      <td>N</td>\n",
              "      <td>N</td>\n",
              "      <td>EF-008</td>\n",
              "      <td>EF-008</td>\n",
              "      <td>0</td>\n",
              "      <td>0</td>\n",
              "      <td>0</td>\n",
              "    </tr>\n",
              "    <tr>\n",
              "      <th>2</th>\n",
              "      <td>TA-00003</td>\n",
              "      <td>SP-0019</td>\n",
              "      <td>6.35</td>\n",
              "      <td>0.71</td>\n",
              "      <td>127.0</td>\n",
              "      <td>7</td>\n",
              "      <td>19.05</td>\n",
              "      <td>N</td>\n",
              "      <td>N</td>\n",
              "      <td>N</td>\n",
              "      <td>N</td>\n",
              "      <td>EF-008</td>\n",
              "      <td>EF-008</td>\n",
              "      <td>0</td>\n",
              "      <td>0</td>\n",
              "      <td>0</td>\n",
              "    </tr>\n",
              "    <tr>\n",
              "      <th>3</th>\n",
              "      <td>TA-00004</td>\n",
              "      <td>SP-0019</td>\n",
              "      <td>6.35</td>\n",
              "      <td>0.71</td>\n",
              "      <td>137.0</td>\n",
              "      <td>9</td>\n",
              "      <td>19.05</td>\n",
              "      <td>N</td>\n",
              "      <td>N</td>\n",
              "      <td>N</td>\n",
              "      <td>N</td>\n",
              "      <td>EF-008</td>\n",
              "      <td>EF-008</td>\n",
              "      <td>0</td>\n",
              "      <td>0</td>\n",
              "      <td>0</td>\n",
              "    </tr>\n",
              "    <tr>\n",
              "      <th>4</th>\n",
              "      <td>TA-00005</td>\n",
              "      <td>SP-0029</td>\n",
              "      <td>19.05</td>\n",
              "      <td>1.24</td>\n",
              "      <td>109.0</td>\n",
              "      <td>4</td>\n",
              "      <td>50.80</td>\n",
              "      <td>N</td>\n",
              "      <td>N</td>\n",
              "      <td>N</td>\n",
              "      <td>N</td>\n",
              "      <td>EF-003</td>\n",
              "      <td>EF-003</td>\n",
              "      <td>0</td>\n",
              "      <td>0</td>\n",
              "      <td>0</td>\n",
              "    </tr>\n",
              "  </tbody>\n",
              "</table>\n",
              "</div>"
            ],
            "text/plain": [
              "  tube_assembly_id material_id  diameter  ...  num_boss  num_bracket  other\n",
              "0         TA-00001     SP-0035     12.70  ...         0            0      0\n",
              "1         TA-00002     SP-0019      6.35  ...         0            0      0\n",
              "2         TA-00003     SP-0019      6.35  ...         0            0      0\n",
              "3         TA-00004     SP-0019      6.35  ...         0            0      0\n",
              "4         TA-00005     SP-0029     19.05  ...         0            0      0\n",
              "\n",
              "[5 rows x 16 columns]"
            ]
          },
          "metadata": {
            "tags": []
          },
          "execution_count": 73
        }
      ]
    },
    {
      "cell_type": "code",
      "metadata": {
        "id": "1xd9lxOBTy1m",
        "colab_type": "code",
        "colab": {
          "base_uri": "https://localhost:8080/",
          "height": 306
        },
        "outputId": "30333e76-1492-4d13-8f47-6a939835a409"
      },
      "source": [
        "tube.isnull().sum()"
      ],
      "execution_count": 64,
      "outputs": [
        {
          "output_type": "execute_result",
          "data": {
            "text/plain": [
              "tube_assembly_id      0\n",
              "material_id         279\n",
              "diameter              0\n",
              "wall                  0\n",
              "length                0\n",
              "num_bends             0\n",
              "bend_radius           0\n",
              "end_a_1x              0\n",
              "end_a_2x              0\n",
              "end_x_1x              0\n",
              "end_x_2x              0\n",
              "end_a                 0\n",
              "end_x                 0\n",
              "num_boss              0\n",
              "num_bracket           0\n",
              "other                 0\n",
              "dtype: int64"
            ]
          },
          "metadata": {
            "tags": []
          },
          "execution_count": 64
        }
      ]
    },
    {
      "cell_type": "code",
      "metadata": {
        "id": "dfN65yeFTG21",
        "colab_type": "code",
        "colab": {
          "base_uri": "https://localhost:8080/",
          "height": 224
        },
        "outputId": "5dd01ca7-f277-4064-f918-0be0b16311f6"
      },
      "source": [
        "bom.head()"
      ],
      "execution_count": 65,
      "outputs": [
        {
          "output_type": "execute_result",
          "data": {
            "text/html": [
              "<div>\n",
              "<style scoped>\n",
              "    .dataframe tbody tr th:only-of-type {\n",
              "        vertical-align: middle;\n",
              "    }\n",
              "\n",
              "    .dataframe tbody tr th {\n",
              "        vertical-align: top;\n",
              "    }\n",
              "\n",
              "    .dataframe thead th {\n",
              "        text-align: right;\n",
              "    }\n",
              "</style>\n",
              "<table border=\"1\" class=\"dataframe\">\n",
              "  <thead>\n",
              "    <tr style=\"text-align: right;\">\n",
              "      <th></th>\n",
              "      <th>tube_assembly_id</th>\n",
              "      <th>component_id_1</th>\n",
              "      <th>quantity_1</th>\n",
              "      <th>component_id_2</th>\n",
              "      <th>quantity_2</th>\n",
              "      <th>component_id_3</th>\n",
              "      <th>quantity_3</th>\n",
              "      <th>component_id_4</th>\n",
              "      <th>quantity_4</th>\n",
              "      <th>component_id_5</th>\n",
              "      <th>quantity_5</th>\n",
              "      <th>component_id_6</th>\n",
              "      <th>quantity_6</th>\n",
              "      <th>component_id_7</th>\n",
              "      <th>quantity_7</th>\n",
              "      <th>component_id_8</th>\n",
              "      <th>quantity_8</th>\n",
              "    </tr>\n",
              "  </thead>\n",
              "  <tbody>\n",
              "    <tr>\n",
              "      <th>0</th>\n",
              "      <td>TA-00001</td>\n",
              "      <td>C-1622</td>\n",
              "      <td>2.0</td>\n",
              "      <td>C-1629</td>\n",
              "      <td>2.0</td>\n",
              "      <td>NaN</td>\n",
              "      <td>NaN</td>\n",
              "      <td>NaN</td>\n",
              "      <td>NaN</td>\n",
              "      <td>NaN</td>\n",
              "      <td>NaN</td>\n",
              "      <td>NaN</td>\n",
              "      <td>NaN</td>\n",
              "      <td>NaN</td>\n",
              "      <td>NaN</td>\n",
              "      <td>NaN</td>\n",
              "      <td>NaN</td>\n",
              "    </tr>\n",
              "    <tr>\n",
              "      <th>1</th>\n",
              "      <td>TA-00002</td>\n",
              "      <td>C-1312</td>\n",
              "      <td>2.0</td>\n",
              "      <td>NaN</td>\n",
              "      <td>NaN</td>\n",
              "      <td>NaN</td>\n",
              "      <td>NaN</td>\n",
              "      <td>NaN</td>\n",
              "      <td>NaN</td>\n",
              "      <td>NaN</td>\n",
              "      <td>NaN</td>\n",
              "      <td>NaN</td>\n",
              "      <td>NaN</td>\n",
              "      <td>NaN</td>\n",
              "      <td>NaN</td>\n",
              "      <td>NaN</td>\n",
              "      <td>NaN</td>\n",
              "    </tr>\n",
              "    <tr>\n",
              "      <th>2</th>\n",
              "      <td>TA-00003</td>\n",
              "      <td>C-1312</td>\n",
              "      <td>2.0</td>\n",
              "      <td>NaN</td>\n",
              "      <td>NaN</td>\n",
              "      <td>NaN</td>\n",
              "      <td>NaN</td>\n",
              "      <td>NaN</td>\n",
              "      <td>NaN</td>\n",
              "      <td>NaN</td>\n",
              "      <td>NaN</td>\n",
              "      <td>NaN</td>\n",
              "      <td>NaN</td>\n",
              "      <td>NaN</td>\n",
              "      <td>NaN</td>\n",
              "      <td>NaN</td>\n",
              "      <td>NaN</td>\n",
              "    </tr>\n",
              "    <tr>\n",
              "      <th>3</th>\n",
              "      <td>TA-00004</td>\n",
              "      <td>C-1312</td>\n",
              "      <td>2.0</td>\n",
              "      <td>NaN</td>\n",
              "      <td>NaN</td>\n",
              "      <td>NaN</td>\n",
              "      <td>NaN</td>\n",
              "      <td>NaN</td>\n",
              "      <td>NaN</td>\n",
              "      <td>NaN</td>\n",
              "      <td>NaN</td>\n",
              "      <td>NaN</td>\n",
              "      <td>NaN</td>\n",
              "      <td>NaN</td>\n",
              "      <td>NaN</td>\n",
              "      <td>NaN</td>\n",
              "      <td>NaN</td>\n",
              "    </tr>\n",
              "    <tr>\n",
              "      <th>4</th>\n",
              "      <td>TA-00005</td>\n",
              "      <td>C-1624</td>\n",
              "      <td>1.0</td>\n",
              "      <td>C-1631</td>\n",
              "      <td>1.0</td>\n",
              "      <td>C-1641</td>\n",
              "      <td>1.0</td>\n",
              "      <td>NaN</td>\n",
              "      <td>NaN</td>\n",
              "      <td>NaN</td>\n",
              "      <td>NaN</td>\n",
              "      <td>NaN</td>\n",
              "      <td>NaN</td>\n",
              "      <td>NaN</td>\n",
              "      <td>NaN</td>\n",
              "      <td>NaN</td>\n",
              "      <td>NaN</td>\n",
              "    </tr>\n",
              "  </tbody>\n",
              "</table>\n",
              "</div>"
            ],
            "text/plain": [
              "  tube_assembly_id component_id_1  ...  component_id_8 quantity_8\n",
              "0         TA-00001         C-1622  ...             NaN        NaN\n",
              "1         TA-00002         C-1312  ...             NaN        NaN\n",
              "2         TA-00003         C-1312  ...             NaN        NaN\n",
              "3         TA-00004         C-1312  ...             NaN        NaN\n",
              "4         TA-00005         C-1624  ...             NaN        NaN\n",
              "\n",
              "[5 rows x 17 columns]"
            ]
          },
          "metadata": {
            "tags": []
          },
          "execution_count": 65
        }
      ]
    },
    {
      "cell_type": "code",
      "metadata": {
        "id": "5a6if-WqTNCJ",
        "colab_type": "code",
        "colab": {
          "base_uri": "https://localhost:8080/",
          "height": 323
        },
        "outputId": "b1896bfd-67d2-4dc3-beee-9acef21c47be"
      },
      "source": [
        "bom.isnull().sum()"
      ],
      "execution_count": 48,
      "outputs": [
        {
          "output_type": "execute_result",
          "data": {
            "text/plain": [
              "tube_assembly_id        0\n",
              "component_id_1       2049\n",
              "quantity_1           2049\n",
              "component_id_2       6412\n",
              "quantity_2           6412\n",
              "component_id_3      16407\n",
              "quantity_3          16400\n",
              "component_id_4      20591\n",
              "quantity_4          20590\n",
              "component_id_5      21106\n",
              "quantity_5          21106\n",
              "component_id_6      21172\n",
              "quantity_6          21172\n",
              "component_id_7      21191\n",
              "quantity_7          21191\n",
              "component_id_8      21197\n",
              "quantity_8          21197\n",
              "dtype: int64"
            ]
          },
          "metadata": {
            "tags": []
          },
          "execution_count": 48
        }
      ]
    },
    {
      "cell_type": "markdown",
      "metadata": {
        "id": "TNkVxBBPVJU9",
        "colab_type": "text"
      },
      "source": [
        "## Merge Tube/Bill of Material to Train"
      ]
    },
    {
      "cell_type": "code",
      "metadata": {
        "id": "c_SJ7L0NVIeM",
        "colab_type": "code",
        "colab": {
          "base_uri": "https://localhost:8080/",
          "height": 34
        },
        "outputId": "ecb34786-fa4d-4e1d-d4dc-3942f654c81f"
      },
      "source": [
        "tube = tube.merge(bom, on='tube_assembly_id')\n",
        "trainval = trainval.merge(tube, on='tube_assembly_id')\n",
        "test = test.merge(tube, on='tube_assembly_id')\n",
        "\n",
        "trainval.shape, test.shape, tube.shape"
      ],
      "execution_count": 74,
      "outputs": [
        {
          "output_type": "execute_result",
          "data": {
            "text/plain": [
              "((30213, 39), (30235, 39), (21198, 32))"
            ]
          },
          "metadata": {
            "tags": []
          },
          "execution_count": 74
        }
      ]
    },
    {
      "cell_type": "code",
      "metadata": {
        "id": "dZrOQ14zZN6m",
        "colab_type": "code",
        "colab": {
          "base_uri": "https://localhost:8080/",
          "height": 309
        },
        "outputId": "025b29b0-35cb-4e6a-ac5d-467ee216006d"
      },
      "source": [
        "trainval.head()"
      ],
      "execution_count": 76,
      "outputs": [
        {
          "output_type": "execute_result",
          "data": {
            "text/html": [
              "<div>\n",
              "<style scoped>\n",
              "    .dataframe tbody tr th:only-of-type {\n",
              "        vertical-align: middle;\n",
              "    }\n",
              "\n",
              "    .dataframe tbody tr th {\n",
              "        vertical-align: top;\n",
              "    }\n",
              "\n",
              "    .dataframe thead th {\n",
              "        text-align: right;\n",
              "    }\n",
              "</style>\n",
              "<table border=\"1\" class=\"dataframe\">\n",
              "  <thead>\n",
              "    <tr style=\"text-align: right;\">\n",
              "      <th></th>\n",
              "      <th>tube_assembly_id</th>\n",
              "      <th>supplier</th>\n",
              "      <th>quote_date</th>\n",
              "      <th>annual_usage</th>\n",
              "      <th>min_order_quantity</th>\n",
              "      <th>bracket_pricing</th>\n",
              "      <th>quantity</th>\n",
              "      <th>cost</th>\n",
              "      <th>material_id</th>\n",
              "      <th>diameter</th>\n",
              "      <th>wall</th>\n",
              "      <th>length</th>\n",
              "      <th>num_bends</th>\n",
              "      <th>bend_radius</th>\n",
              "      <th>end_a_1x</th>\n",
              "      <th>end_a_2x</th>\n",
              "      <th>end_x_1x</th>\n",
              "      <th>end_x_2x</th>\n",
              "      <th>end_a</th>\n",
              "      <th>end_x</th>\n",
              "      <th>num_boss</th>\n",
              "      <th>num_bracket</th>\n",
              "      <th>other</th>\n",
              "      <th>component_id_1</th>\n",
              "      <th>quantity_1</th>\n",
              "      <th>component_id_2</th>\n",
              "      <th>quantity_2</th>\n",
              "      <th>component_id_3</th>\n",
              "      <th>quantity_3</th>\n",
              "      <th>component_id_4</th>\n",
              "      <th>quantity_4</th>\n",
              "      <th>component_id_5</th>\n",
              "      <th>quantity_5</th>\n",
              "      <th>component_id_6</th>\n",
              "      <th>quantity_6</th>\n",
              "      <th>component_id_7</th>\n",
              "      <th>quantity_7</th>\n",
              "      <th>component_id_8</th>\n",
              "      <th>quantity_8</th>\n",
              "    </tr>\n",
              "  </thead>\n",
              "  <tbody>\n",
              "    <tr>\n",
              "      <th>0</th>\n",
              "      <td>TA-00002</td>\n",
              "      <td>S-0066</td>\n",
              "      <td>2013-07-07</td>\n",
              "      <td>0</td>\n",
              "      <td>0</td>\n",
              "      <td>Yes</td>\n",
              "      <td>1</td>\n",
              "      <td>21.905933</td>\n",
              "      <td>SP-0019</td>\n",
              "      <td>6.35</td>\n",
              "      <td>0.71</td>\n",
              "      <td>137.0</td>\n",
              "      <td>8</td>\n",
              "      <td>19.05</td>\n",
              "      <td>N</td>\n",
              "      <td>N</td>\n",
              "      <td>N</td>\n",
              "      <td>N</td>\n",
              "      <td>EF-008</td>\n",
              "      <td>EF-008</td>\n",
              "      <td>0</td>\n",
              "      <td>0</td>\n",
              "      <td>0</td>\n",
              "      <td>C-1312</td>\n",
              "      <td>2.0</td>\n",
              "      <td>NaN</td>\n",
              "      <td>NaN</td>\n",
              "      <td>NaN</td>\n",
              "      <td>NaN</td>\n",
              "      <td>NaN</td>\n",
              "      <td>NaN</td>\n",
              "      <td>NaN</td>\n",
              "      <td>NaN</td>\n",
              "      <td>NaN</td>\n",
              "      <td>NaN</td>\n",
              "      <td>NaN</td>\n",
              "      <td>NaN</td>\n",
              "      <td>NaN</td>\n",
              "      <td>NaN</td>\n",
              "    </tr>\n",
              "    <tr>\n",
              "      <th>1</th>\n",
              "      <td>TA-00002</td>\n",
              "      <td>S-0066</td>\n",
              "      <td>2013-07-07</td>\n",
              "      <td>0</td>\n",
              "      <td>0</td>\n",
              "      <td>Yes</td>\n",
              "      <td>2</td>\n",
              "      <td>12.341214</td>\n",
              "      <td>SP-0019</td>\n",
              "      <td>6.35</td>\n",
              "      <td>0.71</td>\n",
              "      <td>137.0</td>\n",
              "      <td>8</td>\n",
              "      <td>19.05</td>\n",
              "      <td>N</td>\n",
              "      <td>N</td>\n",
              "      <td>N</td>\n",
              "      <td>N</td>\n",
              "      <td>EF-008</td>\n",
              "      <td>EF-008</td>\n",
              "      <td>0</td>\n",
              "      <td>0</td>\n",
              "      <td>0</td>\n",
              "      <td>C-1312</td>\n",
              "      <td>2.0</td>\n",
              "      <td>NaN</td>\n",
              "      <td>NaN</td>\n",
              "      <td>NaN</td>\n",
              "      <td>NaN</td>\n",
              "      <td>NaN</td>\n",
              "      <td>NaN</td>\n",
              "      <td>NaN</td>\n",
              "      <td>NaN</td>\n",
              "      <td>NaN</td>\n",
              "      <td>NaN</td>\n",
              "      <td>NaN</td>\n",
              "      <td>NaN</td>\n",
              "      <td>NaN</td>\n",
              "      <td>NaN</td>\n",
              "    </tr>\n",
              "    <tr>\n",
              "      <th>2</th>\n",
              "      <td>TA-00002</td>\n",
              "      <td>S-0066</td>\n",
              "      <td>2013-07-07</td>\n",
              "      <td>0</td>\n",
              "      <td>0</td>\n",
              "      <td>Yes</td>\n",
              "      <td>5</td>\n",
              "      <td>6.601826</td>\n",
              "      <td>SP-0019</td>\n",
              "      <td>6.35</td>\n",
              "      <td>0.71</td>\n",
              "      <td>137.0</td>\n",
              "      <td>8</td>\n",
              "      <td>19.05</td>\n",
              "      <td>N</td>\n",
              "      <td>N</td>\n",
              "      <td>N</td>\n",
              "      <td>N</td>\n",
              "      <td>EF-008</td>\n",
              "      <td>EF-008</td>\n",
              "      <td>0</td>\n",
              "      <td>0</td>\n",
              "      <td>0</td>\n",
              "      <td>C-1312</td>\n",
              "      <td>2.0</td>\n",
              "      <td>NaN</td>\n",
              "      <td>NaN</td>\n",
              "      <td>NaN</td>\n",
              "      <td>NaN</td>\n",
              "      <td>NaN</td>\n",
              "      <td>NaN</td>\n",
              "      <td>NaN</td>\n",
              "      <td>NaN</td>\n",
              "      <td>NaN</td>\n",
              "      <td>NaN</td>\n",
              "      <td>NaN</td>\n",
              "      <td>NaN</td>\n",
              "      <td>NaN</td>\n",
              "      <td>NaN</td>\n",
              "    </tr>\n",
              "    <tr>\n",
              "      <th>3</th>\n",
              "      <td>TA-00002</td>\n",
              "      <td>S-0066</td>\n",
              "      <td>2013-07-07</td>\n",
              "      <td>0</td>\n",
              "      <td>0</td>\n",
              "      <td>Yes</td>\n",
              "      <td>10</td>\n",
              "      <td>4.687770</td>\n",
              "      <td>SP-0019</td>\n",
              "      <td>6.35</td>\n",
              "      <td>0.71</td>\n",
              "      <td>137.0</td>\n",
              "      <td>8</td>\n",
              "      <td>19.05</td>\n",
              "      <td>N</td>\n",
              "      <td>N</td>\n",
              "      <td>N</td>\n",
              "      <td>N</td>\n",
              "      <td>EF-008</td>\n",
              "      <td>EF-008</td>\n",
              "      <td>0</td>\n",
              "      <td>0</td>\n",
              "      <td>0</td>\n",
              "      <td>C-1312</td>\n",
              "      <td>2.0</td>\n",
              "      <td>NaN</td>\n",
              "      <td>NaN</td>\n",
              "      <td>NaN</td>\n",
              "      <td>NaN</td>\n",
              "      <td>NaN</td>\n",
              "      <td>NaN</td>\n",
              "      <td>NaN</td>\n",
              "      <td>NaN</td>\n",
              "      <td>NaN</td>\n",
              "      <td>NaN</td>\n",
              "      <td>NaN</td>\n",
              "      <td>NaN</td>\n",
              "      <td>NaN</td>\n",
              "      <td>NaN</td>\n",
              "    </tr>\n",
              "    <tr>\n",
              "      <th>4</th>\n",
              "      <td>TA-00002</td>\n",
              "      <td>S-0066</td>\n",
              "      <td>2013-07-07</td>\n",
              "      <td>0</td>\n",
              "      <td>0</td>\n",
              "      <td>Yes</td>\n",
              "      <td>25</td>\n",
              "      <td>3.541561</td>\n",
              "      <td>SP-0019</td>\n",
              "      <td>6.35</td>\n",
              "      <td>0.71</td>\n",
              "      <td>137.0</td>\n",
              "      <td>8</td>\n",
              "      <td>19.05</td>\n",
              "      <td>N</td>\n",
              "      <td>N</td>\n",
              "      <td>N</td>\n",
              "      <td>N</td>\n",
              "      <td>EF-008</td>\n",
              "      <td>EF-008</td>\n",
              "      <td>0</td>\n",
              "      <td>0</td>\n",
              "      <td>0</td>\n",
              "      <td>C-1312</td>\n",
              "      <td>2.0</td>\n",
              "      <td>NaN</td>\n",
              "      <td>NaN</td>\n",
              "      <td>NaN</td>\n",
              "      <td>NaN</td>\n",
              "      <td>NaN</td>\n",
              "      <td>NaN</td>\n",
              "      <td>NaN</td>\n",
              "      <td>NaN</td>\n",
              "      <td>NaN</td>\n",
              "      <td>NaN</td>\n",
              "      <td>NaN</td>\n",
              "      <td>NaN</td>\n",
              "      <td>NaN</td>\n",
              "      <td>NaN</td>\n",
              "    </tr>\n",
              "  </tbody>\n",
              "</table>\n",
              "</div>"
            ],
            "text/plain": [
              "  tube_assembly_id supplier  quote_date  ...  quantity_7  component_id_8 quantity_8\n",
              "0         TA-00002   S-0066  2013-07-07  ...         NaN             NaN        NaN\n",
              "1         TA-00002   S-0066  2013-07-07  ...         NaN             NaN        NaN\n",
              "2         TA-00002   S-0066  2013-07-07  ...         NaN             NaN        NaN\n",
              "3         TA-00002   S-0066  2013-07-07  ...         NaN             NaN        NaN\n",
              "4         TA-00002   S-0066  2013-07-07  ...         NaN             NaN        NaN\n",
              "\n",
              "[5 rows x 39 columns]"
            ]
          },
          "metadata": {
            "tags": []
          },
          "execution_count": 76
        }
      ]
    },
    {
      "cell_type": "markdown",
      "metadata": {
        "id": "FIC2EUymVV1X",
        "colab_type": "text"
      },
      "source": [
        "## Datetime/ Checking if they have the same ammount TA ID"
      ]
    },
    {
      "cell_type": "code",
      "metadata": {
        "id": "Z7B6E117Lsqo",
        "colab_type": "code",
        "colab": {}
      },
      "source": [
        "trainval['quote_date'] = pd.to_datetime(trainval['quote_date'], infer_datetime_format=True)\n",
        "test['quote_date'] = pd.to_datetime(test['quote_date'], infer_datetime_format=True)"
      ],
      "execution_count": 0,
      "outputs": []
    },
    {
      "cell_type": "code",
      "metadata": {
        "id": "l5L4C9d9LshL",
        "colab_type": "code",
        "colab": {
          "base_uri": "https://localhost:8080/",
          "height": 34
        },
        "outputId": "da38f7f6-3625-4118-ec5d-bcf1e3706a1b"
      },
      "source": [
        "trainval_tube_assemblies = trainval['tube_assembly_id'].unique()\n",
        "test_tube_assemblies = test['tube_assembly_id'].unique()\n",
        "len(trainval_tube_assemblies), len(test_tube_assemblies)"
      ],
      "execution_count": 78,
      "outputs": [
        {
          "output_type": "execute_result",
          "data": {
            "text/plain": [
              "(8855, 8856)"
            ]
          },
          "metadata": {
            "tags": []
          },
          "execution_count": 78
        }
      ]
    },
    {
      "cell_type": "markdown",
      "metadata": {
        "id": "3POcYu6UMquJ",
        "colab_type": "text"
      },
      "source": [
        "## Train/Test Split"
      ]
    },
    {
      "cell_type": "code",
      "metadata": {
        "id": "MeDETfyTMoOw",
        "colab_type": "code",
        "colab": {}
      },
      "source": [
        "from sklearn.model_selection import train_test_split\n",
        "train_tube_assemblies, val_tube_assemblies = train_test_split(\n",
        "    trainval_tube_assemblies, random_state=40\n",
        ")"
      ],
      "execution_count": 0,
      "outputs": []
    },
    {
      "cell_type": "code",
      "metadata": {
        "id": "OqonGWILMoMV",
        "colab_type": "code",
        "colab": {
          "base_uri": "https://localhost:8080/",
          "height": 34
        },
        "outputId": "0f157827-fdf3-467b-8a1f-9bf580f2a1ed"
      },
      "source": [
        "len(train_tube_assemblies), len(val_tube_assemblies)"
      ],
      "execution_count": 80,
      "outputs": [
        {
          "output_type": "execute_result",
          "data": {
            "text/plain": [
              "(6641, 2214)"
            ]
          },
          "metadata": {
            "tags": []
          },
          "execution_count": 80
        }
      ]
    },
    {
      "cell_type": "code",
      "metadata": {
        "id": "4RygePbuMoKJ",
        "colab_type": "code",
        "colab": {
          "base_uri": "https://localhost:8080/",
          "height": 34
        },
        "outputId": "af35e568-0bb3-42d0-b86c-ac3dece4aea8"
      },
      "source": [
        "train = trainval[trainval.tube_assembly_id.isin(train_tube_assemblies)]\n",
        "val = trainval[trainval.tube_assembly_id.isin(val_tube_assemblies)]\n",
        "train.shape, val.shape, trainval.shape"
      ],
      "execution_count": 81,
      "outputs": [
        {
          "output_type": "execute_result",
          "data": {
            "text/plain": [
              "((22516, 39), (7697, 39), (30213, 39))"
            ]
          },
          "metadata": {
            "tags": []
          },
          "execution_count": 81
        }
      ]
    },
    {
      "cell_type": "markdown",
      "metadata": {
        "id": "Ew_frH5wNdLf",
        "colab_type": "text"
      },
      "source": [
        "## Begin with Baseline"
      ]
    },
    {
      "cell_type": "code",
      "metadata": {
        "id": "v6muffLgMoH6",
        "colab_type": "code",
        "colab": {
          "base_uri": "https://localhost:8080/",
          "height": 317
        },
        "outputId": "656660ac-8bed-4dc5-8abd-4f95a49bbbf7"
      },
      "source": [
        "train.describe()"
      ],
      "execution_count": 82,
      "outputs": [
        {
          "output_type": "execute_result",
          "data": {
            "text/html": [
              "<div>\n",
              "<style scoped>\n",
              "    .dataframe tbody tr th:only-of-type {\n",
              "        vertical-align: middle;\n",
              "    }\n",
              "\n",
              "    .dataframe tbody tr th {\n",
              "        vertical-align: top;\n",
              "    }\n",
              "\n",
              "    .dataframe thead th {\n",
              "        text-align: right;\n",
              "    }\n",
              "</style>\n",
              "<table border=\"1\" class=\"dataframe\">\n",
              "  <thead>\n",
              "    <tr style=\"text-align: right;\">\n",
              "      <th></th>\n",
              "      <th>annual_usage</th>\n",
              "      <th>min_order_quantity</th>\n",
              "      <th>quantity</th>\n",
              "      <th>cost</th>\n",
              "      <th>diameter</th>\n",
              "      <th>wall</th>\n",
              "      <th>length</th>\n",
              "      <th>num_bends</th>\n",
              "      <th>bend_radius</th>\n",
              "      <th>num_boss</th>\n",
              "      <th>num_bracket</th>\n",
              "      <th>other</th>\n",
              "      <th>quantity_1</th>\n",
              "      <th>quantity_2</th>\n",
              "      <th>quantity_3</th>\n",
              "      <th>quantity_4</th>\n",
              "      <th>quantity_5</th>\n",
              "      <th>quantity_6</th>\n",
              "      <th>quantity_7</th>\n",
              "      <th>quantity_8</th>\n",
              "    </tr>\n",
              "  </thead>\n",
              "  <tbody>\n",
              "    <tr>\n",
              "      <th>count</th>\n",
              "      <td>22516.000000</td>\n",
              "      <td>22516.000000</td>\n",
              "      <td>22516.000000</td>\n",
              "      <td>22516.000000</td>\n",
              "      <td>22516.000000</td>\n",
              "      <td>22516.000000</td>\n",
              "      <td>22516.000000</td>\n",
              "      <td>22516.000000</td>\n",
              "      <td>22516.000000</td>\n",
              "      <td>22516.000000</td>\n",
              "      <td>22516.000000</td>\n",
              "      <td>22516.000000</td>\n",
              "      <td>21422.000000</td>\n",
              "      <td>15817.000000</td>\n",
              "      <td>5436.000000</td>\n",
              "      <td>614.000000</td>\n",
              "      <td>45.000000</td>\n",
              "      <td>18.000000</td>\n",
              "      <td>7.0</td>\n",
              "      <td>3.0</td>\n",
              "    </tr>\n",
              "    <tr>\n",
              "      <th>mean</th>\n",
              "      <td>124.712782</td>\n",
              "      <td>2.175298</td>\n",
              "      <td>38.305738</td>\n",
              "      <td>13.554021</td>\n",
              "      <td>17.385419</td>\n",
              "      <td>1.391427</td>\n",
              "      <td>97.205179</td>\n",
              "      <td>3.804006</td>\n",
              "      <td>43.754348</td>\n",
              "      <td>0.024827</td>\n",
              "      <td>0.004086</td>\n",
              "      <td>0.014301</td>\n",
              "      <td>1.637289</td>\n",
              "      <td>1.565594</td>\n",
              "      <td>1.019132</td>\n",
              "      <td>1.011401</td>\n",
              "      <td>1.022222</td>\n",
              "      <td>1.222222</td>\n",
              "      <td>1.0</td>\n",
              "      <td>1.0</td>\n",
              "    </tr>\n",
              "    <tr>\n",
              "      <th>std</th>\n",
              "      <td>1730.212711</td>\n",
              "      <td>13.554324</td>\n",
              "      <td>71.345511</td>\n",
              "      <td>29.246918</td>\n",
              "      <td>18.318414</td>\n",
              "      <td>0.641042</td>\n",
              "      <td>61.389960</td>\n",
              "      <td>2.184638</td>\n",
              "      <td>231.373084</td>\n",
              "      <td>0.179708</td>\n",
              "      <td>0.076460</td>\n",
              "      <td>0.149229</td>\n",
              "      <td>0.491263</td>\n",
              "      <td>0.505295</td>\n",
              "      <td>0.138337</td>\n",
              "      <td>0.156012</td>\n",
              "      <td>0.149071</td>\n",
              "      <td>0.427793</td>\n",
              "      <td>0.0</td>\n",
              "      <td>0.0</td>\n",
              "    </tr>\n",
              "    <tr>\n",
              "      <th>min</th>\n",
              "      <td>0.000000</td>\n",
              "      <td>0.000000</td>\n",
              "      <td>1.000000</td>\n",
              "      <td>0.542502</td>\n",
              "      <td>3.180000</td>\n",
              "      <td>0.710000</td>\n",
              "      <td>0.000000</td>\n",
              "      <td>0.000000</td>\n",
              "      <td>0.000000</td>\n",
              "      <td>0.000000</td>\n",
              "      <td>0.000000</td>\n",
              "      <td>0.000000</td>\n",
              "      <td>1.000000</td>\n",
              "      <td>1.000000</td>\n",
              "      <td>1.000000</td>\n",
              "      <td>1.000000</td>\n",
              "      <td>1.000000</td>\n",
              "      <td>1.000000</td>\n",
              "      <td>1.0</td>\n",
              "      <td>1.0</td>\n",
              "    </tr>\n",
              "    <tr>\n",
              "      <th>25%</th>\n",
              "      <td>0.000000</td>\n",
              "      <td>0.000000</td>\n",
              "      <td>2.000000</td>\n",
              "      <td>3.896969</td>\n",
              "      <td>9.520000</td>\n",
              "      <td>0.890000</td>\n",
              "      <td>49.000000</td>\n",
              "      <td>2.000000</td>\n",
              "      <td>19.050000</td>\n",
              "      <td>0.000000</td>\n",
              "      <td>0.000000</td>\n",
              "      <td>0.000000</td>\n",
              "      <td>1.000000</td>\n",
              "      <td>1.000000</td>\n",
              "      <td>1.000000</td>\n",
              "      <td>1.000000</td>\n",
              "      <td>1.000000</td>\n",
              "      <td>1.000000</td>\n",
              "      <td>1.0</td>\n",
              "      <td>1.0</td>\n",
              "    </tr>\n",
              "    <tr>\n",
              "      <th>50%</th>\n",
              "      <td>0.000000</td>\n",
              "      <td>0.000000</td>\n",
              "      <td>10.000000</td>\n",
              "      <td>6.535057</td>\n",
              "      <td>12.700000</td>\n",
              "      <td>1.240000</td>\n",
              "      <td>85.000000</td>\n",
              "      <td>3.000000</td>\n",
              "      <td>31.750000</td>\n",
              "      <td>0.000000</td>\n",
              "      <td>0.000000</td>\n",
              "      <td>0.000000</td>\n",
              "      <td>2.000000</td>\n",
              "      <td>2.000000</td>\n",
              "      <td>1.000000</td>\n",
              "      <td>1.000000</td>\n",
              "      <td>1.000000</td>\n",
              "      <td>1.000000</td>\n",
              "      <td>1.0</td>\n",
              "      <td>1.0</td>\n",
              "    </tr>\n",
              "    <tr>\n",
              "      <th>75%</th>\n",
              "      <td>2.000000</td>\n",
              "      <td>0.000000</td>\n",
              "      <td>40.000000</td>\n",
              "      <td>13.585490</td>\n",
              "      <td>19.050000</td>\n",
              "      <td>1.650000</td>\n",
              "      <td>132.000000</td>\n",
              "      <td>5.000000</td>\n",
              "      <td>50.800000</td>\n",
              "      <td>0.000000</td>\n",
              "      <td>0.000000</td>\n",
              "      <td>0.000000</td>\n",
              "      <td>2.000000</td>\n",
              "      <td>2.000000</td>\n",
              "      <td>1.000000</td>\n",
              "      <td>1.000000</td>\n",
              "      <td>1.000000</td>\n",
              "      <td>1.000000</td>\n",
              "      <td>1.0</td>\n",
              "      <td>1.0</td>\n",
              "    </tr>\n",
              "    <tr>\n",
              "      <th>max</th>\n",
              "      <td>150000.000000</td>\n",
              "      <td>535.000000</td>\n",
              "      <td>2500.000000</td>\n",
              "      <td>1000.000000</td>\n",
              "      <td>203.200000</td>\n",
              "      <td>7.900000</td>\n",
              "      <td>587.000000</td>\n",
              "      <td>17.000000</td>\n",
              "      <td>9999.000000</td>\n",
              "      <td>5.000000</td>\n",
              "      <td>3.000000</td>\n",
              "      <td>8.000000</td>\n",
              "      <td>4.000000</td>\n",
              "      <td>4.000000</td>\n",
              "      <td>3.000000</td>\n",
              "      <td>4.000000</td>\n",
              "      <td>2.000000</td>\n",
              "      <td>2.000000</td>\n",
              "      <td>1.0</td>\n",
              "      <td>1.0</td>\n",
              "    </tr>\n",
              "  </tbody>\n",
              "</table>\n",
              "</div>"
            ],
            "text/plain": [
              "        annual_usage  min_order_quantity  ...  quantity_7  quantity_8\n",
              "count   22516.000000        22516.000000  ...         7.0         3.0\n",
              "mean      124.712782            2.175298  ...         1.0         1.0\n",
              "std      1730.212711           13.554324  ...         0.0         0.0\n",
              "min         0.000000            0.000000  ...         1.0         1.0\n",
              "25%         0.000000            0.000000  ...         1.0         1.0\n",
              "50%         0.000000            0.000000  ...         1.0         1.0\n",
              "75%         2.000000            0.000000  ...         1.0         1.0\n",
              "max    150000.000000          535.000000  ...         1.0         1.0\n",
              "\n",
              "[8 rows x 20 columns]"
            ]
          },
          "metadata": {
            "tags": []
          },
          "execution_count": 82
        }
      ]
    },
    {
      "cell_type": "code",
      "metadata": {
        "id": "mlkpwqPuLjSN",
        "colab_type": "code",
        "colab": {}
      },
      "source": [
        "import numpy as np\n",
        "from sklearn.metrics import mean_squared_log_error\n",
        "\n",
        "def rmsle(y_true, y_pred):\n",
        "    return np.sqrt(mean_squared_log_error(y_true, y_pred))"
      ],
      "execution_count": 0,
      "outputs": []
    },
    {
      "cell_type": "code",
      "metadata": {
        "id": "TLFfMqyOMoFy",
        "colab_type": "code",
        "colab": {
          "base_uri": "https://localhost:8080/",
          "height": 34
        },
        "outputId": "57bbfb71-de50-4cfb-e956-9b7d31402ce4"
      },
      "source": [
        "target = 'cost'\n",
        "y_train = train[target]\n",
        "y_val = val[target]\n",
        "y_pred = np.full_like(y_val, fill_value=y_train.mean())\n",
        "print('Validation RMSLE, Mean Baseline:', rmsle(y_val, y_pred))"
      ],
      "execution_count": 84,
      "outputs": [
        {
          "output_type": "stream",
          "text": [
            "Validation RMSLE, Mean Baseline: 0.9486220140675697\n"
          ],
          "name": "stdout"
        }
      ]
    },
    {
      "cell_type": "code",
      "metadata": {
        "id": "2j6dSocoMoDT",
        "colab_type": "code",
        "colab": {
          "base_uri": "https://localhost:8080/",
          "height": 34
        },
        "outputId": "692c2eba-9692-414c-f462-2bbc96ce98f3"
      },
      "source": [
        "from sklearn.metrics import r2_score\n",
        "print('Validation R^2, Mean Baseline:', r2_score(y_val, y_pred))"
      ],
      "execution_count": 85,
      "outputs": [
        {
          "output_type": "stream",
          "text": [
            "Validation R^2, Mean Baseline: -0.0003106888597628199\n"
          ],
          "name": "stdout"
        }
      ]
    },
    {
      "cell_type": "markdown",
      "metadata": {
        "id": "sl_0ReH6N-oD",
        "colab_type": "text"
      },
      "source": [
        "## First Model"
      ]
    },
    {
      "cell_type": "code",
      "metadata": {
        "id": "63xmiKVLMoAv",
        "colab_type": "code",
        "colab": {}
      },
      "source": [
        "numeric_features = train.select_dtypes(include='number').columns.tolist()\n",
        "\n",
        "cardinality = train.select_dtypes(exclude='number').nunique()\n",
        "\n",
        "categorical_features = cardinality[cardinality <= 52].index.tolist()\n",
        "\n",
        "features = numeric_features + categorical_features\n",
        "#features = ['quantity', 'diameter', 'annual_usage', 'min_order_quantity']\n",
        "X_train = train[features]\n",
        "X_val = val[features]"
      ],
      "execution_count": 0,
      "outputs": []
    },
    {
      "cell_type": "code",
      "metadata": {
        "id": "AEKhhWYzPo1t",
        "colab_type": "code",
        "colab": {
          "base_uri": "https://localhost:8080/",
          "height": 224
        },
        "outputId": "3833a1e7-c209-4c07-c990-ad40806e7b60"
      },
      "source": [
        "train.head()"
      ],
      "execution_count": 20,
      "outputs": [
        {
          "output_type": "execute_result",
          "data": {
            "text/html": [
              "<div>\n",
              "<style scoped>\n",
              "    .dataframe tbody tr th:only-of-type {\n",
              "        vertical-align: middle;\n",
              "    }\n",
              "\n",
              "    .dataframe tbody tr th {\n",
              "        vertical-align: top;\n",
              "    }\n",
              "\n",
              "    .dataframe thead th {\n",
              "        text-align: right;\n",
              "    }\n",
              "</style>\n",
              "<table border=\"1\" class=\"dataframe\">\n",
              "  <thead>\n",
              "    <tr style=\"text-align: right;\">\n",
              "      <th></th>\n",
              "      <th>tube_assembly_id</th>\n",
              "      <th>supplier</th>\n",
              "      <th>quote_date</th>\n",
              "      <th>annual_usage</th>\n",
              "      <th>min_order_quantity</th>\n",
              "      <th>bracket_pricing</th>\n",
              "      <th>quantity</th>\n",
              "      <th>cost</th>\n",
              "    </tr>\n",
              "  </thead>\n",
              "  <tbody>\n",
              "    <tr>\n",
              "      <th>16</th>\n",
              "      <td>TA-00005</td>\n",
              "      <td>S-0066</td>\n",
              "      <td>2013-09-01</td>\n",
              "      <td>0</td>\n",
              "      <td>0</td>\n",
              "      <td>Yes</td>\n",
              "      <td>1</td>\n",
              "      <td>28.374220</td>\n",
              "    </tr>\n",
              "    <tr>\n",
              "      <th>17</th>\n",
              "      <td>TA-00005</td>\n",
              "      <td>S-0066</td>\n",
              "      <td>2013-09-01</td>\n",
              "      <td>0</td>\n",
              "      <td>0</td>\n",
              "      <td>Yes</td>\n",
              "      <td>2</td>\n",
              "      <td>16.514303</td>\n",
              "    </tr>\n",
              "    <tr>\n",
              "      <th>18</th>\n",
              "      <td>TA-00005</td>\n",
              "      <td>S-0066</td>\n",
              "      <td>2013-09-01</td>\n",
              "      <td>0</td>\n",
              "      <td>0</td>\n",
              "      <td>Yes</td>\n",
              "      <td>5</td>\n",
              "      <td>9.397795</td>\n",
              "    </tr>\n",
              "    <tr>\n",
              "      <th>19</th>\n",
              "      <td>TA-00005</td>\n",
              "      <td>S-0066</td>\n",
              "      <td>2013-09-01</td>\n",
              "      <td>0</td>\n",
              "      <td>0</td>\n",
              "      <td>Yes</td>\n",
              "      <td>10</td>\n",
              "      <td>7.027481</td>\n",
              "    </tr>\n",
              "    <tr>\n",
              "      <th>20</th>\n",
              "      <td>TA-00005</td>\n",
              "      <td>S-0066</td>\n",
              "      <td>2013-09-01</td>\n",
              "      <td>0</td>\n",
              "      <td>0</td>\n",
              "      <td>Yes</td>\n",
              "      <td>25</td>\n",
              "      <td>5.603067</td>\n",
              "    </tr>\n",
              "  </tbody>\n",
              "</table>\n",
              "</div>"
            ],
            "text/plain": [
              "   tube_assembly_id supplier quote_date  ...  bracket_pricing  quantity       cost\n",
              "16         TA-00005   S-0066 2013-09-01  ...              Yes         1  28.374220\n",
              "17         TA-00005   S-0066 2013-09-01  ...              Yes         2  16.514303\n",
              "18         TA-00005   S-0066 2013-09-01  ...              Yes         5   9.397795\n",
              "19         TA-00005   S-0066 2013-09-01  ...              Yes        10   7.027481\n",
              "20         TA-00005   S-0066 2013-09-01  ...              Yes        25   5.603067\n",
              "\n",
              "[5 rows x 8 columns]"
            ]
          },
          "metadata": {
            "tags": []
          },
          "execution_count": 20
        }
      ]
    },
    {
      "cell_type": "code",
      "metadata": {
        "id": "Ez4Sp3QLOTk6",
        "colab_type": "code",
        "colab": {}
      },
      "source": [
        "def wrangle(X):\n",
        "    X = X.copy()\n",
        "    \n",
        "    # Engineer date features\n",
        "    X['quote_date'] = pd.to_datetime(X['quote_date'], infer_datetime_format=True)\n",
        "    X['quote_date_year'] = X['quote_date'].dt.year\n",
        "    X['quote_date_month'] = X['quote_date'].dt.month\n",
        "    X = X.drop(columns='quote_date')\n",
        "    \n",
        "    # Drop tube_assembly_id because our goal is to predict unknown assemblies\n",
        "    X = X.drop(columns='tube_assembly_id')\n",
        "    \n",
        "    X = X.fillna(0)\n",
        "    return X\n",
        "\n",
        "train_wrangled = wrangle(train)\n",
        "val_wrangled = wrangle(val)"
      ],
      "execution_count": 0,
      "outputs": []
    },
    {
      "cell_type": "code",
      "metadata": {
        "id": "A2BFS22NOTjA",
        "colab_type": "code",
        "colab": {
          "base_uri": "https://localhost:8080/",
          "height": 54
        },
        "outputId": "0d3dd134-21b5-435a-cfe9-e64df8a271a7"
      },
      "source": [
        "features = train_wrangled.columns.drop(target)\n",
        "print('Features:', features.tolist())"
      ],
      "execution_count": 112,
      "outputs": [
        {
          "output_type": "stream",
          "text": [
            "Features: ['supplier', 'annual_usage', 'min_order_quantity', 'bracket_pricing', 'quantity', 'material_id', 'diameter', 'wall', 'length', 'num_bends', 'bend_radius', 'end_a_1x', 'end_a_2x', 'end_x_1x', 'end_x_2x', 'end_a', 'end_x', 'num_boss', 'num_bracket', 'other', 'component_id_1', 'quantity_1', 'component_id_2', 'quantity_2', 'component_id_3', 'quantity_3', 'component_id_4', 'quantity_4', 'component_id_5', 'quantity_5', 'component_id_6', 'quantity_6', 'component_id_7', 'quantity_7', 'component_id_8', 'quantity_8', 'quote_date_year', 'quote_date_month']\n"
          ],
          "name": "stdout"
        }
      ]
    },
    {
      "cell_type": "code",
      "metadata": {
        "id": "Tyk5vYE5OTgc",
        "colab_type": "code",
        "colab": {}
      },
      "source": [
        "X_train = train_wrangled[features]\n",
        "X_val = val_wrangled[features]"
      ],
      "execution_count": 0,
      "outputs": []
    },
    {
      "cell_type": "code",
      "metadata": {
        "id": "PRUIuAyEQPKe",
        "colab_type": "code",
        "colab": {}
      },
      "source": [
        "from sklearn.metrics import mean_squared_error\n",
        "\n",
        "def rmse(y_true, y_pred):\n",
        "    return np.sqrt(mean_squared_error(y_true, y_pred))"
      ],
      "execution_count": 0,
      "outputs": []
    },
    {
      "cell_type": "code",
      "metadata": {
        "id": "zk7mh14HQJLc",
        "colab_type": "code",
        "colab": {}
      },
      "source": [
        "y_train_log = np.log1p(y_train)\n",
        "y_val_log = np.log1p(y_val)"
      ],
      "execution_count": 0,
      "outputs": []
    },
    {
      "cell_type": "code",
      "metadata": {
        "id": "vibQ2TuBOTd5",
        "colab_type": "code",
        "colab": {
          "base_uri": "https://localhost:8080/",
          "height": 34
        },
        "outputId": "374cada8-379d-48ea-a536-c36c950f6008"
      },
      "source": [
        "import category_encoders as ce\n",
        "from sklearn.pipeline import make_pipeline\n",
        "\n",
        "pipeline = make_pipeline(\n",
        "    ce.OrdinalEncoder(), \n",
        "    RandomForestRegressor(n_estimators=100, random_state=42, n_jobs=-1)\n",
        ")\n",
        "\n",
        "pipeline.fit(X_train, y_train_log)\n",
        "y_pred_log = pipeline.predict(X_val)\n",
        "rmse(y_val_log, y_pred_log)"
      ],
      "execution_count": 116,
      "outputs": [
        {
          "output_type": "execute_result",
          "data": {
            "text/plain": [
              "0.3024339932728005"
            ]
          },
          "metadata": {
            "tags": []
          },
          "execution_count": 116
        }
      ]
    },
    {
      "cell_type": "code",
      "metadata": {
        "id": "ABu-lz1SOTXn",
        "colab_type": "code",
        "colab": {
          "base_uri": "https://localhost:8080/",
          "height": 34
        },
        "outputId": "9aea7b5b-20f3-4ce0-cbd6-ed8318668e2f"
      },
      "source": [
        "y_pred = np.expm1(y_pred_log)\n",
        "rmsle(y_val, y_pred)"
      ],
      "execution_count": 117,
      "outputs": [
        {
          "output_type": "execute_result",
          "data": {
            "text/plain": [
              "0.3024339932728005"
            ]
          },
          "metadata": {
            "tags": []
          },
          "execution_count": 117
        }
      ]
    },
    {
      "cell_type": "markdown",
      "metadata": {
        "id": "qwAisZZXQf1L",
        "colab_type": "text"
      },
      "source": [
        "## Feature Importance"
      ]
    },
    {
      "cell_type": "code",
      "metadata": {
        "id": "hLGhusgiOTVH",
        "colab_type": "code",
        "colab": {
          "base_uri": "https://localhost:8080/",
          "height": 336
        },
        "outputId": "0187804f-3dff-46ed-a5f8-f774ce09fdb2"
      },
      "source": [
        "import matplotlib.pyplot as plt \n",
        "\n",
        "rf = pipeline.named_steps['randomforestregressor']\n",
        "importances = pd.Series(rf.feature_importances_, X_train.columns)\n",
        "\n",
        "n = 10\n",
        "plt.figure(figsize=(10,n/2))\n",
        "plt.title(f'Top {n} features')\n",
        "importances.sort_values()[-n:].plot.barh(color='blue');"
      ],
      "execution_count": 118,
      "outputs": [
        {
          "output_type": "display_data",
          "data": {
            "image/png": "[encoded data removed]",
            "text/plain": [
              "<Figure size 720x360 with 1 Axes>"
            ]
          },
          "metadata": {
            "tags": []
          }
        }
      ]
    },
    {
      "cell_type": "markdown",
      "metadata": {
        "id": "fuf_B_h1KyTm",
        "colab_type": "text"
      },
      "source": [
        "## Submission"
      ]
    },
    {
      "cell_type": "code",
      "metadata": {
        "id": "YMS_3fUeK4oG",
        "colab_type": "code",
        "colab": {}
      },
      "source": [
        "test_wrangled = wrangle(test)\n",
        "X_test = test_wrangled.drop(columns='id')\n",
        "all(X_test.columns == X_train.columns)"
      ],
      "execution_count": 0,
      "outputs": []
    },
    {
      "cell_type": "code",
      "metadata": {
        "id": "pdLd96wnJulo",
        "colab_type": "code",
        "colab": {}
      },
      "source": [
        "y_pred_log = pipeline.predict(X_test)\n",
        "y_pred = np.expm1(y_pred_log)\n",
        "\n",
        "sample_submission = pd.read_csv('sample_submission.csv')\n",
        "submission = sample_submission.copy()\n",
        "submission['cost'] = y_pred\n",
        "submission.to_csv('submission-01.csv', index=False)"
      ],
      "execution_count": 0,
      "outputs": []
    }
  ]
}