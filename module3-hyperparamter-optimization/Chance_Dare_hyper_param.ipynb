{
  "nbformat": 4,
  "nbformat_minor": 0,
  "metadata": {
    "colab": {
      "name": "Chance_Dare_Log_Linear_Regression.ipynb",
      "version": "0.3.2",
      "provenance": [],
      "include_colab_link": true
    },
    "kernelspec": {
      "name": "python3",
      "display_name": "Python 3"
    }
  },
  "cells": [
    {
      "cell_type": "markdown",
      "metadata": {
        "id": "view-in-github",
        "colab_type": "text"
      },
      "source": [
        "<a href=\"https://colab.research.google.com/github/ChanceDurr/DS-Unit-2-Applied-Modeling/blob/master/module3-hyperparamter-optimization/Chance_Dare_hyper_param.ipynb\" target=\"_parent\"><img src=\"https://colab.research.google.com/assets/colab-badge.svg\" alt=\"Open In Colab\"/></a>"
      ]
    },
    {
      "cell_type": "markdown",
      "metadata": {
        "id": "SpIFGQclBfzO",
        "colab_type": "text"
      },
      "source": [
        "# Import packages and csv's"
      ]
    },
    {
      "cell_type": "code",
      "metadata": {
        "id": "AkqbWs_fgaGZ",
        "colab_type": "code",
        "colab": {
          "base_uri": "https://localhost:8080/",
          "height": 376
        },
        "outputId": "7c14e66d-9dff-448f-af51-93766a9a04ea"
      },
      "source": [
        "import pandas as pd\n",
        "from glob import glob\n",
        "import numpy as np\n",
        "import seaborn as sns\n",
        "from sklearn.metrics import mean_squared_log_error\n",
        "from sklearn.model_selection import train_test_split\n",
        "# !pip install category_encoders\n",
        "from category_encoders import OrdinalEncoder\n",
        "from sklearn.pipeline import make_pipeline\n",
        "import matplotlib.pyplot as plt\n",
        "import xgboost as xgb\n",
        "from xgboost import XGBRegressor"
      ],
      "execution_count": 2,
      "outputs": [
        {
          "output_type": "stream",
          "text": [
            "Collecting category_encoders\n",
            "\u001b[?25l  Downloading https://files.pythonhosted.org/packages/6e/a1/f7a22f144f33be78afeb06bfa78478e8284a64263a3c09b1ef54e673841e/category_encoders-2.0.0-py2.py3-none-any.whl (87kB)\n",
            "\u001b[K     |████████████████████████████████| 92kB 5.7MB/s \n",
            "\u001b[?25hRequirement already satisfied: numpy>=1.11.3 in /usr/local/lib/python3.6/dist-packages (from category_encoders) (1.16.4)\n",
            "Requirement already satisfied: pandas>=0.21.1 in /usr/local/lib/python3.6/dist-packages (from category_encoders) (0.24.2)\n",
            "Requirement already satisfied: statsmodels>=0.6.1 in /usr/local/lib/python3.6/dist-packages (from category_encoders) (0.10.0)\n",
            "Requirement already satisfied: scipy>=0.19.0 in /usr/local/lib/python3.6/dist-packages (from category_encoders) (1.3.0)\n",
            "Requirement already satisfied: scikit-learn>=0.20.0 in /usr/local/lib/python3.6/dist-packages (from category_encoders) (0.21.2)\n",
            "Requirement already satisfied: patsy>=0.4.1 in /usr/local/lib/python3.6/dist-packages (from category_encoders) (0.5.1)\n",
            "Requirement already satisfied: pytz>=2011k in /usr/local/lib/python3.6/dist-packages (from pandas>=0.21.1->category_encoders) (2018.9)\n",
            "Requirement already satisfied: python-dateutil>=2.5.0 in /usr/local/lib/python3.6/dist-packages (from pandas>=0.21.1->category_encoders) (2.5.3)\n",
            "Requirement already satisfied: joblib>=0.11 in /usr/local/lib/python3.6/dist-packages (from scikit-learn>=0.20.0->category_encoders) (0.13.2)\n",
            "Requirement already satisfied: six in /usr/local/lib/python3.6/dist-packages (from patsy>=0.4.1->category_encoders) (1.12.0)\n",
            "Installing collected packages: category-encoders\n",
            "Successfully installed category-encoders-2.0.0\n"
          ],
          "name": "stdout"
        }
      ]
    },
    {
      "cell_type": "code",
      "metadata": {
        "id": "Y8lv4uGMajum",
        "colab_type": "code",
        "outputId": "af3d91ba-f125-42ad-b2dc-2cd64cc6e997",
        "colab": {
          "base_uri": "https://localhost:8080/",
          "height": 252
        }
      },
      "source": [
        "!wget https://raw.githubusercontent.com/LambdaSchool/DS-Unit-2-Applied-Modeling/master/data/caterpillar/caterpillar-tube-pricing.zip"
      ],
      "execution_count": 3,
      "outputs": [
        {
          "output_type": "stream",
          "text": [
            "--2019-07-24 20:40:16--  https://raw.githubusercontent.com/LambdaSchool/DS-Unit-2-Applied-Modeling/master/data/caterpillar/caterpillar-tube-pricing.zip\n",
            "Resolving raw.githubusercontent.com (raw.githubusercontent.com)... 151.101.0.133, 151.101.64.133, 151.101.128.133, ...\n",
            "Connecting to raw.githubusercontent.com (raw.githubusercontent.com)|151.101.0.133|:443... connected.\n",
            "HTTP request sent, awaiting response... 200 OK\n",
            "Length: 823789 (804K) [application/zip]\n",
            "Saving to: ‘caterpillar-tube-pricing.zip’\n",
            "\n",
            "\r          caterpill   0%[                    ]       0  --.-KB/s               \rcaterpillar-tube-pr 100%[===================>] 804.48K  --.-KB/s    in 0.04s   \n",
            "\n",
            "2019-07-24 20:40:16 (18.6 MB/s) - ‘caterpillar-tube-pricing.zip’ saved [823789/823789]\n",
            "\n"
          ],
          "name": "stdout"
        }
      ]
    },
    {
      "cell_type": "code",
      "metadata": {
        "id": "zUbU9olfelH1",
        "colab_type": "code",
        "outputId": "412287b3-4227-44f4-a782-a8adf7e106b3",
        "colab": {
          "base_uri": "https://localhost:8080/",
          "height": 185
        }
      },
      "source": [
        "!unzip caterpillar-tube-pricing.zip"
      ],
      "execution_count": 4,
      "outputs": [
        {
          "output_type": "stream",
          "text": [
            "Archive:  caterpillar-tube-pricing.zip\n",
            "  inflating: sample_submission.csv   \n",
            "  inflating: data.zip                \n"
          ],
          "name": "stdout"
        }
      ]
    },
    {
      "cell_type": "code",
      "metadata": {
        "id": "37ighgEwemse",
        "colab_type": "code",
        "outputId": "4f700e27-e7d6-4cf1-a188-5aaf00c63933",
        "colab": {
          "base_uri": "https://localhost:8080/",
          "height": 512
        }
      },
      "source": [
        "!unzip data.zip"
      ],
      "execution_count": 5,
      "outputs": [
        {
          "output_type": "stream",
          "text": [
            "Archive:  data.zip\n",
            "   creating: competition_data/\n",
            "  inflating: competition_data/bill_of_materials.csv  \n",
            "  inflating: competition_data/comp_adaptor.csv  \n",
            "  inflating: competition_data/comp_boss.csv  \n",
            "  inflating: competition_data/comp_elbow.csv  \n",
            "  inflating: competition_data/comp_float.csv  \n",
            "  inflating: competition_data/comp_hfl.csv  \n",
            "  inflating: competition_data/comp_nut.csv  \n",
            "  inflating: competition_data/comp_other.csv  \n",
            "  inflating: competition_data/comp_sleeve.csv  \n",
            "  inflating: competition_data/comp_straight.csv  \n",
            "  inflating: competition_data/comp_tee.csv  \n",
            "  inflating: competition_data/comp_threaded.csv  \n",
            "  inflating: competition_data/components.csv  \n",
            "  inflating: competition_data/specs.csv  \n",
            "  inflating: competition_data/test_set.csv  \n",
            "  inflating: competition_data/train_set.csv  \n",
            "  inflating: competition_data/tube.csv  \n",
            "  inflating: competition_data/tube_end_form.csv  \n",
            "  inflating: competition_data/type_component.csv  \n",
            "  inflating: competition_data/type_connection.csv  \n",
            "  inflating: competition_data/type_end_form.csv  \n"
          ],
          "name": "stdout"
        }
      ]
    },
    {
      "cell_type": "code",
      "metadata": {
        "id": "xPsrKorheuoG",
        "colab_type": "code",
        "colab": {}
      },
      "source": [
        "def rmsle(y_true, y_pred):\n",
        "  return np.sqrt(mean_squared_log_error(y_true, y_pred))"
      ],
      "execution_count": 0,
      "outputs": []
    },
    {
      "cell_type": "code",
      "metadata": {
        "id": "QWSsL-ndeogO",
        "colab_type": "code",
        "outputId": "a6553861-1cec-4d60-8403-a615b323dd1a",
        "colab": {
          "base_uri": "https://localhost:8080/",
          "height": 428
        }
      },
      "source": [
        "for path in glob('competition_data/*.csv'):\n",
        "    df = pd.read_csv(path)\n",
        "    print(path, df.shape)"
      ],
      "execution_count": 7,
      "outputs": [
        {
          "output_type": "stream",
          "text": [
            "competition_data/test_set.csv (30235, 8)\n",
            "competition_data/comp_adaptor.csv (25, 20)\n",
            "competition_data/comp_elbow.csv (178, 16)\n",
            "competition_data/train_set.csv (30213, 8)\n",
            "competition_data/comp_other.csv (1001, 3)\n",
            "competition_data/comp_float.csv (16, 7)\n",
            "competition_data/components.csv (2048, 3)\n",
            "competition_data/type_connection.csv (14, 2)\n",
            "competition_data/comp_nut.csv (65, 11)\n",
            "competition_data/comp_tee.csv (4, 14)\n",
            "competition_data/type_end_form.csv (8, 2)\n",
            "competition_data/bill_of_materials.csv (21198, 17)\n",
            "competition_data/comp_straight.csv (361, 12)\n",
            "competition_data/specs.csv (21198, 11)\n",
            "competition_data/tube_end_form.csv (27, 2)\n",
            "competition_data/comp_sleeve.csv (50, 10)\n",
            "competition_data/comp_hfl.csv (6, 9)\n",
            "competition_data/type_component.csv (29, 2)\n",
            "competition_data/tube.csv (21198, 16)\n",
            "competition_data/comp_threaded.csv (194, 32)\n",
            "competition_data/comp_boss.csv (147, 15)\n"
          ],
          "name": "stdout"
        }
      ]
    },
    {
      "cell_type": "code",
      "metadata": {
        "id": "PaZEBy-kg0Sj",
        "colab_type": "code",
        "colab": {}
      },
      "source": [
        "train_set = pd.read_csv('competition_data/train_set.csv')\n",
        "test = pd.read_csv('competition_data/test_set.csv')"
      ],
      "execution_count": 0,
      "outputs": []
    },
    {
      "cell_type": "markdown",
      "metadata": {
        "id": "FGU5gWSIBk_C",
        "colab_type": "text"
      },
      "source": [
        "#Train / Val Split"
      ]
    },
    {
      "cell_type": "code",
      "metadata": {
        "id": "sX65m7XA943M",
        "colab_type": "code",
        "colab": {}
      },
      "source": [
        "train_set['quote_date'] = pd.to_datetime(train_set['quote_date'], infer_datetime_format=True)"
      ],
      "execution_count": 0,
      "outputs": []
    },
    {
      "cell_type": "code",
      "metadata": {
        "id": "IkEuomEW-U3U",
        "colab_type": "code",
        "outputId": "752e4915-9c90-4def-e937-88645d1d9482",
        "colab": {
          "base_uri": "https://localhost:8080/",
          "height": 92
        }
      },
      "source": [
        "assemblies = train_set['tube_assembly_id'].unique()\n",
        "train_tube_assemblies, val_tube_assemblies = train_test_split(\n",
        "    assemblies, random_state=47)\n",
        "print(train_tube_assemblies.shape)\n",
        "print(val_tube_assemblies.shape)"
      ],
      "execution_count": 10,
      "outputs": [
        {
          "output_type": "stream",
          "text": [
            "(6641,)\n",
            "(2214,)\n"
          ],
          "name": "stdout"
        }
      ]
    },
    {
      "cell_type": "code",
      "metadata": {
        "id": "-Yb50q7_-Zaa",
        "colab_type": "code",
        "colab": {}
      },
      "source": [
        "train = train_set[train_set['tube_assembly_id'].isin(train_tube_assemblies)]\n",
        "val = train_set[train_set['tube_assembly_id'].isin(val_tube_assemblies)]"
      ],
      "execution_count": 0,
      "outputs": []
    },
    {
      "cell_type": "markdown",
      "metadata": {
        "id": "JXKaX2n8C9Y4",
        "colab_type": "text"
      },
      "source": [
        "#Validation RMSLE, Mean Baseline"
      ]
    },
    {
      "cell_type": "code",
      "metadata": {
        "id": "Z4NkgSY9BJ0u",
        "colab_type": "code",
        "outputId": "d5b46b70-296c-49e8-ff2b-e11126a8e7a8",
        "colab": {
          "base_uri": "https://localhost:8080/",
          "height": 76
        }
      },
      "source": [
        "target = 'cost'\n",
        "y_true = val[target]\n",
        "y_pred = np.full_like(y_true, fill_value=train[target].mean())\n",
        "rmsle(y_pred, y_true)"
      ],
      "execution_count": 12,
      "outputs": [
        {
          "output_type": "execute_result",
          "data": {
            "text/plain": [
              "0.950350338860588"
            ]
          },
          "metadata": {
            "tags": []
          },
          "execution_count": 12
        }
      ]
    },
    {
      "cell_type": "markdown",
      "metadata": {
        "id": "LQkAn75QDrjh",
        "colab_type": "text"
      },
      "source": [
        "# Random Forest Regressor"
      ]
    },
    {
      "cell_type": "code",
      "metadata": {
        "id": "Fp5E0dI8CSYq",
        "colab_type": "code",
        "outputId": "06a98d7f-4992-4512-98eb-daba36351b38",
        "colab": {
          "base_uri": "https://localhost:8080/",
          "height": 96
        }
      },
      "source": [
        "from sklearn.ensemble import RandomForestRegressor\n",
        "\n",
        "features = ['quantity']\n",
        "target = 'cost'\n",
        "\n",
        "X_train = train[features]\n",
        "y_train = train[target]\n",
        "X_val = val[features]\n",
        "y_val = val[target]\n",
        "\n",
        "model = RandomForestRegressor(n_estimators=100, random_state=47)\n",
        "model.fit(X_train, y_train)\n",
        "y_pred = model.predict(X_val)\n",
        "\n",
        "rmsle(y_pred, y_val)"
      ],
      "execution_count": 13,
      "outputs": [
        {
          "output_type": "execute_result",
          "data": {
            "text/plain": [
              "0.687755369078692"
            ]
          },
          "metadata": {
            "tags": []
          },
          "execution_count": 13
        }
      ]
    },
    {
      "cell_type": "code",
      "metadata": {
        "id": "Z5f8Z_tODWV3",
        "colab_type": "code",
        "outputId": "e4948938-6b7c-477c-f6ff-81503a6050cd",
        "colab": {
          "base_uri": "https://localhost:8080/",
          "height": 76
        }
      },
      "source": [
        "model = RandomForestRegressor(n_estimators=100, random_state=47)\n",
        "model.fit(X_train, np.log1p(y_train))\n",
        "y_pred = model.predict(X_val)\n",
        "\n",
        "rmsle(np.expm1(y_pred), y_val)"
      ],
      "execution_count": 14,
      "outputs": [
        {
          "output_type": "execute_result",
          "data": {
            "text/plain": [
              "0.6208119734988891"
            ]
          },
          "metadata": {
            "tags": []
          },
          "execution_count": 14
        }
      ]
    },
    {
      "cell_type": "markdown",
      "metadata": {
        "id": "umt9GM-n7ymZ",
        "colab_type": "text"
      },
      "source": [
        "# XGB"
      ]
    },
    {
      "cell_type": "code",
      "metadata": {
        "id": "9JxgdqHfF9yI",
        "colab_type": "code",
        "colab": {}
      },
      "source": [
        "tube = pd.read_csv('competition_data/tube.csv')"
      ],
      "execution_count": 0,
      "outputs": []
    },
    {
      "cell_type": "code",
      "metadata": {
        "id": "XbDR0-GYHsa_",
        "colab_type": "code",
        "colab": {}
      },
      "source": [
        "# Merge tube df on assembly id\n",
        "train = pd.merge(train, tube, how='inner', on='tube_assembly_id')\n",
        "val = pd.merge(val, tube, how='inner', on='tube_assembly_id')\n",
        "test = pd.merge(test, tube, how='inner', on='tube_assembly_id')"
      ],
      "execution_count": 0,
      "outputs": []
    },
    {
      "cell_type": "code",
      "metadata": {
        "id": "NL4HQRFOKZXB",
        "colab_type": "code",
        "outputId": "8f31e742-40d1-4e1e-e6dd-3c133067fb10",
        "colab": {
          "base_uri": "https://localhost:8080/",
          "height": 336
        }
      },
      "source": [
        "train.head()"
      ],
      "execution_count": 17,
      "outputs": [
        {
          "output_type": "execute_result",
          "data": {
            "text/html": [
              "<div>\n",
              "<style scoped>\n",
              "    .dataframe tbody tr th:only-of-type {\n",
              "        vertical-align: middle;\n",
              "    }\n",
              "\n",
              "    .dataframe tbody tr th {\n",
              "        vertical-align: top;\n",
              "    }\n",
              "\n",
              "    .dataframe thead th {\n",
              "        text-align: right;\n",
              "    }\n",
              "</style>\n",
              "<table border=\"1\" class=\"dataframe\">\n",
              "  <thead>\n",
              "    <tr style=\"text-align: right;\">\n",
              "      <th></th>\n",
              "      <th>tube_assembly_id</th>\n",
              "      <th>supplier</th>\n",
              "      <th>quote_date</th>\n",
              "      <th>annual_usage</th>\n",
              "      <th>min_order_quantity</th>\n",
              "      <th>bracket_pricing</th>\n",
              "      <th>quantity</th>\n",
              "      <th>cost</th>\n",
              "      <th>material_id</th>\n",
              "      <th>diameter</th>\n",
              "      <th>wall</th>\n",
              "      <th>length</th>\n",
              "      <th>num_bends</th>\n",
              "      <th>bend_radius</th>\n",
              "      <th>end_a_1x</th>\n",
              "      <th>end_a_2x</th>\n",
              "      <th>end_x_1x</th>\n",
              "      <th>end_x_2x</th>\n",
              "      <th>end_a</th>\n",
              "      <th>end_x</th>\n",
              "      <th>num_boss</th>\n",
              "      <th>num_bracket</th>\n",
              "      <th>other</th>\n",
              "    </tr>\n",
              "  </thead>\n",
              "  <tbody>\n",
              "    <tr>\n",
              "      <th>0</th>\n",
              "      <td>TA-00004</td>\n",
              "      <td>S-0066</td>\n",
              "      <td>2013-07-07</td>\n",
              "      <td>0</td>\n",
              "      <td>0</td>\n",
              "      <td>Yes</td>\n",
              "      <td>1</td>\n",
              "      <td>21.972702</td>\n",
              "      <td>SP-0019</td>\n",
              "      <td>6.35</td>\n",
              "      <td>0.71</td>\n",
              "      <td>137.0</td>\n",
              "      <td>9</td>\n",
              "      <td>19.05</td>\n",
              "      <td>N</td>\n",
              "      <td>N</td>\n",
              "      <td>N</td>\n",
              "      <td>N</td>\n",
              "      <td>EF-008</td>\n",
              "      <td>EF-008</td>\n",
              "      <td>0</td>\n",
              "      <td>0</td>\n",
              "      <td>0</td>\n",
              "    </tr>\n",
              "    <tr>\n",
              "      <th>1</th>\n",
              "      <td>TA-00004</td>\n",
              "      <td>S-0066</td>\n",
              "      <td>2013-07-07</td>\n",
              "      <td>0</td>\n",
              "      <td>0</td>\n",
              "      <td>Yes</td>\n",
              "      <td>2</td>\n",
              "      <td>12.407983</td>\n",
              "      <td>SP-0019</td>\n",
              "      <td>6.35</td>\n",
              "      <td>0.71</td>\n",
              "      <td>137.0</td>\n",
              "      <td>9</td>\n",
              "      <td>19.05</td>\n",
              "      <td>N</td>\n",
              "      <td>N</td>\n",
              "      <td>N</td>\n",
              "      <td>N</td>\n",
              "      <td>EF-008</td>\n",
              "      <td>EF-008</td>\n",
              "      <td>0</td>\n",
              "      <td>0</td>\n",
              "      <td>0</td>\n",
              "    </tr>\n",
              "    <tr>\n",
              "      <th>2</th>\n",
              "      <td>TA-00004</td>\n",
              "      <td>S-0066</td>\n",
              "      <td>2013-07-07</td>\n",
              "      <td>0</td>\n",
              "      <td>0</td>\n",
              "      <td>Yes</td>\n",
              "      <td>5</td>\n",
              "      <td>6.668596</td>\n",
              "      <td>SP-0019</td>\n",
              "      <td>6.35</td>\n",
              "      <td>0.71</td>\n",
              "      <td>137.0</td>\n",
              "      <td>9</td>\n",
              "      <td>19.05</td>\n",
              "      <td>N</td>\n",
              "      <td>N</td>\n",
              "      <td>N</td>\n",
              "      <td>N</td>\n",
              "      <td>EF-008</td>\n",
              "      <td>EF-008</td>\n",
              "      <td>0</td>\n",
              "      <td>0</td>\n",
              "      <td>0</td>\n",
              "    </tr>\n",
              "    <tr>\n",
              "      <th>3</th>\n",
              "      <td>TA-00004</td>\n",
              "      <td>S-0066</td>\n",
              "      <td>2013-07-07</td>\n",
              "      <td>0</td>\n",
              "      <td>0</td>\n",
              "      <td>Yes</td>\n",
              "      <td>10</td>\n",
              "      <td>4.754539</td>\n",
              "      <td>SP-0019</td>\n",
              "      <td>6.35</td>\n",
              "      <td>0.71</td>\n",
              "      <td>137.0</td>\n",
              "      <td>9</td>\n",
              "      <td>19.05</td>\n",
              "      <td>N</td>\n",
              "      <td>N</td>\n",
              "      <td>N</td>\n",
              "      <td>N</td>\n",
              "      <td>EF-008</td>\n",
              "      <td>EF-008</td>\n",
              "      <td>0</td>\n",
              "      <td>0</td>\n",
              "      <td>0</td>\n",
              "    </tr>\n",
              "    <tr>\n",
              "      <th>4</th>\n",
              "      <td>TA-00004</td>\n",
              "      <td>S-0066</td>\n",
              "      <td>2013-07-07</td>\n",
              "      <td>0</td>\n",
              "      <td>0</td>\n",
              "      <td>Yes</td>\n",
              "      <td>25</td>\n",
              "      <td>3.608331</td>\n",
              "      <td>SP-0019</td>\n",
              "      <td>6.35</td>\n",
              "      <td>0.71</td>\n",
              "      <td>137.0</td>\n",
              "      <td>9</td>\n",
              "      <td>19.05</td>\n",
              "      <td>N</td>\n",
              "      <td>N</td>\n",
              "      <td>N</td>\n",
              "      <td>N</td>\n",
              "      <td>EF-008</td>\n",
              "      <td>EF-008</td>\n",
              "      <td>0</td>\n",
              "      <td>0</td>\n",
              "      <td>0</td>\n",
              "    </tr>\n",
              "  </tbody>\n",
              "</table>\n",
              "</div>"
            ],
            "text/plain": [
              "  tube_assembly_id supplier quote_date  ...  num_boss  num_bracket other\n",
              "0         TA-00004   S-0066 2013-07-07  ...         0            0     0\n",
              "1         TA-00004   S-0066 2013-07-07  ...         0            0     0\n",
              "2         TA-00004   S-0066 2013-07-07  ...         0            0     0\n",
              "3         TA-00004   S-0066 2013-07-07  ...         0            0     0\n",
              "4         TA-00004   S-0066 2013-07-07  ...         0            0     0\n",
              "\n",
              "[5 rows x 23 columns]"
            ]
          },
          "metadata": {
            "tags": []
          },
          "execution_count": 17
        }
      ]
    },
    {
      "cell_type": "code",
      "metadata": {
        "id": "NfjNvWN8H9dx",
        "colab_type": "code",
        "colab": {}
      },
      "source": [
        "features = ['quantity', 'length', 'num_bends',\n",
        "            'bend_radius', 'diameter', 'end_a',\n",
        "            'end_x', 'material_id', 'wall']\n",
        "target = 'cost'\n",
        "\n",
        "X_train = train[features]\n",
        "y_train = train[target]\n",
        "X_val = val[features]\n",
        "y_val = val[target]"
      ],
      "execution_count": 0,
      "outputs": []
    },
    {
      "cell_type": "code",
      "metadata": {
        "id": "6qV9MdrN7T7g",
        "colab_type": "code",
        "colab": {
          "base_uri": "https://localhost:8080/",
          "height": 132
        },
        "outputId": "98fd4f86-f7ba-4918-ac84-820b00f19cd2"
      },
      "source": [
        "model = XGBRegressor(n_estimators=100, random_state=47)\n",
        "pipe = make_pipeline(OrdinalEncoder(), model)\n",
        "pipe.fit(X_train, np.log1p(y_train))\n",
        "y_pred = pipe.predict(X_val)"
      ],
      "execution_count": 36,
      "outputs": [
        {
          "output_type": "stream",
          "text": [
            "/usr/local/lib/python3.6/dist-packages/xgboost/core.py:587: FutureWarning: Series.base is deprecated and will be removed in a future version\n",
            "  if getattr(data, 'base', None) is not None and \\\n"
          ],
          "name": "stderr"
        },
        {
          "output_type": "stream",
          "text": [
            "[21:40:15] WARNING: /workspace/src/objective/regression_obj.cu:152: reg:linear is now deprecated in favor of reg:squarederror.\n"
          ],
          "name": "stdout"
        }
      ]
    },
    {
      "cell_type": "code",
      "metadata": {
        "id": "WH7zE94K6yDB",
        "colab_type": "code",
        "colab": {
          "base_uri": "https://localhost:8080/",
          "height": 76
        },
        "outputId": "42f588c9-56b7-45e9-dd90-aea563cdf347"
      },
      "source": [
        "rmsle(np.expm1(y_pred), y_val)"
      ],
      "execution_count": 37,
      "outputs": [
        {
          "output_type": "execute_result",
          "data": {
            "text/plain": [
              "0.4802520611127336"
            ]
          },
          "metadata": {
            "tags": []
          },
          "execution_count": 37
        }
      ]
    },
    {
      "cell_type": "code",
      "metadata": {
        "id": "_dF4DPVbIW-Y",
        "colab_type": "code",
        "outputId": "112041da-b806-42d7-df35-e47801878aa2",
        "colab": {
          "base_uri": "https://localhost:8080/",
          "height": 309
        }
      },
      "source": [
        "feature_importances = pd.Series(model.feature_importances_, features)\n",
        "feature_importances.sort_values().plot.barh();"
      ],
      "execution_count": 31,
      "outputs": [
        {
          "output_type": "display_data",
          "data": {
            "image/png": "[encoded data removed]",
            "text/plain": [
              "<Figure size 432x288 with 1 Axes>"
            ]
          },
          "metadata": {
            "tags": []
          }
        }
      ]
    },
    {
      "cell_type": "markdown",
      "metadata": {
        "id": "BCfuFTfq76yb",
        "colab_type": "text"
      },
      "source": [
        "#Hyper Param/ CV"
      ]
    },
    {
      "cell_type": "code",
      "metadata": {
        "id": "nxbhg7kA73xL",
        "colab_type": "code",
        "colab": {
          "base_uri": "https://localhost:8080/",
          "height": 272
        },
        "outputId": "f785b4c5-fdb3-46e8-91ca-2c9db419e711"
      },
      "source": [
        "from scipy.stats import randint, uniform\n",
        "from sklearn.model_selection import RandomizedSearchCV\n",
        "from sklearn.pipeline import make_pipeline\n",
        "\n",
        "features = ['quantity', 'length', 'num_bends',\n",
        "            'bend_radius', 'diameter', 'end_a',\n",
        "            'end_x', 'material_id', 'wall']\n",
        "target = 'cost'\n",
        "\n",
        "X_train = train[features]\n",
        "y_train = train[target]\n",
        "X_val = val[features]\n",
        "y_val = val[target]\n",
        "y_train_log = np.log1p(y_train)\n",
        "\n",
        "groups = train['tube_assembly_id']\n",
        "\n",
        "pipeline = make_pipeline(\n",
        "    OrdinalEncoder(),\n",
        "    XGBRegressor(random_state=47)\n",
        ")\n",
        "\n",
        "param_distributions = {\n",
        "    'xgbregressor__n_estimators': [x for x in range(450, 500, 1)]\n",
        "}\n",
        "\n",
        "search = RandomizedSearchCV(\n",
        "    pipeline,\n",
        "    param_distributions = param_distributions,\n",
        "    n_iter = 5,\n",
        "    cv = 5,\n",
        "    scoring = 'neg_mean_squared_error',\n",
        "    verbose=10,\n",
        "    return_train_score = True,\n",
        "    n_jobs = -1\n",
        ")\n",
        "\n",
        "\n",
        "search.fit(X_train, y_train_log, groups=groups);"
      ],
      "execution_count": 49,
      "outputs": [
        {
          "output_type": "stream",
          "text": [
            "Fitting 5 folds for each of 5 candidates, totalling 25 fits\n"
          ],
          "name": "stdout"
        },
        {
          "output_type": "stream",
          "text": [
            "[Parallel(n_jobs=-1)]: Using backend LokyBackend with 2 concurrent workers.\n",
            "[Parallel(n_jobs=-1)]: Done   1 tasks      | elapsed:    5.2s\n",
            "[Parallel(n_jobs=-1)]: Done   4 tasks      | elapsed:   11.1s\n",
            "[Parallel(n_jobs=-1)]: Done   9 tasks      | elapsed:   28.7s\n",
            "[Parallel(n_jobs=-1)]: Done  14 tasks      | elapsed:   40.1s\n",
            "[Parallel(n_jobs=-1)]: Done  21 tasks      | elapsed:  1.0min\n",
            "[Parallel(n_jobs=-1)]: Done  25 out of  25 | elapsed:  1.2min remaining:    0.0s\n",
            "[Parallel(n_jobs=-1)]: Done  25 out of  25 | elapsed:  1.2min finished\n",
            "/usr/local/lib/python3.6/dist-packages/xgboost/core.py:587: FutureWarning: Series.base is deprecated and will be removed in a future version\n",
            "  if getattr(data, 'base', None) is not None and \\\n"
          ],
          "name": "stderr"
        },
        {
          "output_type": "stream",
          "text": [
            "[21:58:59] WARNING: /workspace/src/objective/regression_obj.cu:152: reg:linear is now deprecated in favor of reg:squarederror.\n"
          ],
          "name": "stdout"
        }
      ]
    },
    {
      "cell_type": "code",
      "metadata": {
        "id": "LP7F0d2N-ADe",
        "colab_type": "code",
        "colab": {
          "base_uri": "https://localhost:8080/",
          "height": 92
        },
        "outputId": "b1a7c875-6120-44ab-d50c-07bca05030cb"
      },
      "source": [
        "print(f'Best Hyperparameters: {search.best_params_}')\n",
        "print(f'Cross_validation RMSLE: {np.sqrt(-search.best_score_)}')"
      ],
      "execution_count": 50,
      "outputs": [
        {
          "output_type": "stream",
          "text": [
            "Best Hyperparameters: {'xgbregressor__n_estimators': 465}\n",
            "Cross_validation RMSLE: 0.49776341238222976\n"
          ],
          "name": "stdout"
        }
      ]
    },
    {
      "cell_type": "markdown",
      "metadata": {
        "id": "unMVrIBG74rZ",
        "colab_type": "text"
      },
      "source": [
        "#Test"
      ]
    },
    {
      "cell_type": "code",
      "metadata": {
        "id": "YpIAl1IBPRDL",
        "colab_type": "code",
        "colab": {}
      },
      "source": [
        "y_pred = pipe.predict(test[features])"
      ],
      "execution_count": 0,
      "outputs": []
    },
    {
      "cell_type": "code",
      "metadata": {
        "id": "_07maMUTQjNy",
        "colab_type": "code",
        "outputId": "6fede249-cb80-425b-d230-cbe5d5ebdfff",
        "colab": {
          "base_uri": "https://localhost:8080/",
          "height": 344
        }
      },
      "source": [
        "test.describe()"
      ],
      "execution_count": 27,
      "outputs": [
        {
          "output_type": "execute_result",
          "data": {
            "text/html": [
              "<div>\n",
              "<style scoped>\n",
              "    .dataframe tbody tr th:only-of-type {\n",
              "        vertical-align: middle;\n",
              "    }\n",
              "\n",
              "    .dataframe tbody tr th {\n",
              "        vertical-align: top;\n",
              "    }\n",
              "\n",
              "    .dataframe thead th {\n",
              "        text-align: right;\n",
              "    }\n",
              "</style>\n",
              "<table border=\"1\" class=\"dataframe\">\n",
              "  <thead>\n",
              "    <tr style=\"text-align: right;\">\n",
              "      <th></th>\n",
              "      <th>id</th>\n",
              "      <th>annual_usage</th>\n",
              "      <th>min_order_quantity</th>\n",
              "      <th>quantity</th>\n",
              "      <th>diameter</th>\n",
              "      <th>wall</th>\n",
              "      <th>length</th>\n",
              "      <th>num_bends</th>\n",
              "      <th>bend_radius</th>\n",
              "      <th>num_boss</th>\n",
              "      <th>num_bracket</th>\n",
              "      <th>other</th>\n",
              "    </tr>\n",
              "  </thead>\n",
              "  <tbody>\n",
              "    <tr>\n",
              "      <th>count</th>\n",
              "      <td>30235.000000</td>\n",
              "      <td>3.023500e+04</td>\n",
              "      <td>30235.000000</td>\n",
              "      <td>30235.000000</td>\n",
              "      <td>30235.000000</td>\n",
              "      <td>30235.000000</td>\n",
              "      <td>30235.000000</td>\n",
              "      <td>30235.000000</td>\n",
              "      <td>30235.000000</td>\n",
              "      <td>30235.000000</td>\n",
              "      <td>30235.000000</td>\n",
              "      <td>30235.000000</td>\n",
              "    </tr>\n",
              "    <tr>\n",
              "      <th>mean</th>\n",
              "      <td>15118.000000</td>\n",
              "      <td>2.521253e+02</td>\n",
              "      <td>2.297503</td>\n",
              "      <td>37.959782</td>\n",
              "      <td>17.335842</td>\n",
              "      <td>1.375376</td>\n",
              "      <td>99.902491</td>\n",
              "      <td>3.863238</td>\n",
              "      <td>44.621570</td>\n",
              "      <td>0.025765</td>\n",
              "      <td>0.004134</td>\n",
              "      <td>0.015876</td>\n",
              "    </tr>\n",
              "    <tr>\n",
              "      <th>std</th>\n",
              "      <td>8728.237031</td>\n",
              "      <td>2.021673e+04</td>\n",
              "      <td>21.083151</td>\n",
              "      <td>70.365779</td>\n",
              "      <td>18.392260</td>\n",
              "      <td>0.670536</td>\n",
              "      <td>62.808473</td>\n",
              "      <td>2.206852</td>\n",
              "      <td>244.583923</td>\n",
              "      <td>0.191343</td>\n",
              "      <td>0.075531</td>\n",
              "      <td>0.148684</td>\n",
              "    </tr>\n",
              "    <tr>\n",
              "      <th>min</th>\n",
              "      <td>1.000000</td>\n",
              "      <td>0.000000e+00</td>\n",
              "      <td>0.000000</td>\n",
              "      <td>1.000000</td>\n",
              "      <td>3.180000</td>\n",
              "      <td>0.710000</td>\n",
              "      <td>0.000000</td>\n",
              "      <td>0.000000</td>\n",
              "      <td>0.000000</td>\n",
              "      <td>0.000000</td>\n",
              "      <td>0.000000</td>\n",
              "      <td>0.000000</td>\n",
              "    </tr>\n",
              "    <tr>\n",
              "      <th>25%</th>\n",
              "      <td>7559.500000</td>\n",
              "      <td>0.000000e+00</td>\n",
              "      <td>0.000000</td>\n",
              "      <td>2.000000</td>\n",
              "      <td>9.520000</td>\n",
              "      <td>0.890000</td>\n",
              "      <td>50.000000</td>\n",
              "      <td>2.000000</td>\n",
              "      <td>19.050000</td>\n",
              "      <td>0.000000</td>\n",
              "      <td>0.000000</td>\n",
              "      <td>0.000000</td>\n",
              "    </tr>\n",
              "    <tr>\n",
              "      <th>50%</th>\n",
              "      <td>15118.000000</td>\n",
              "      <td>0.000000e+00</td>\n",
              "      <td>0.000000</td>\n",
              "      <td>10.000000</td>\n",
              "      <td>12.700000</td>\n",
              "      <td>1.240000</td>\n",
              "      <td>89.000000</td>\n",
              "      <td>4.000000</td>\n",
              "      <td>31.750000</td>\n",
              "      <td>0.000000</td>\n",
              "      <td>0.000000</td>\n",
              "      <td>0.000000</td>\n",
              "    </tr>\n",
              "    <tr>\n",
              "      <th>75%</th>\n",
              "      <td>22676.500000</td>\n",
              "      <td>2.000000e+00</td>\n",
              "      <td>0.000000</td>\n",
              "      <td>40.000000</td>\n",
              "      <td>19.050000</td>\n",
              "      <td>1.650000</td>\n",
              "      <td>137.000000</td>\n",
              "      <td>5.000000</td>\n",
              "      <td>50.800000</td>\n",
              "      <td>0.000000</td>\n",
              "      <td>0.000000</td>\n",
              "      <td>0.000000</td>\n",
              "    </tr>\n",
              "    <tr>\n",
              "      <th>max</th>\n",
              "      <td>30235.000000</td>\n",
              "      <td>3.498645e+06</td>\n",
              "      <td>2500.000000</td>\n",
              "      <td>2500.000000</td>\n",
              "      <td>203.200000</td>\n",
              "      <td>7.900000</td>\n",
              "      <td>600.000000</td>\n",
              "      <td>17.000000</td>\n",
              "      <td>9999.000000</td>\n",
              "      <td>5.000000</td>\n",
              "      <td>4.000000</td>\n",
              "      <td>6.000000</td>\n",
              "    </tr>\n",
              "  </tbody>\n",
              "</table>\n",
              "</div>"
            ],
            "text/plain": [
              "                 id  annual_usage  ...   num_bracket         other\n",
              "count  30235.000000  3.023500e+04  ...  30235.000000  30235.000000\n",
              "mean   15118.000000  2.521253e+02  ...      0.004134      0.015876\n",
              "std     8728.237031  2.021673e+04  ...      0.075531      0.148684\n",
              "min        1.000000  0.000000e+00  ...      0.000000      0.000000\n",
              "25%     7559.500000  0.000000e+00  ...      0.000000      0.000000\n",
              "50%    15118.000000  0.000000e+00  ...      0.000000      0.000000\n",
              "75%    22676.500000  2.000000e+00  ...      0.000000      0.000000\n",
              "max    30235.000000  3.498645e+06  ...      4.000000      6.000000\n",
              "\n",
              "[8 rows x 12 columns]"
            ]
          },
          "metadata": {
            "tags": []
          },
          "execution_count": 27
        }
      ]
    },
    {
      "cell_type": "code",
      "metadata": {
        "id": "mWcnP6kMP292",
        "colab_type": "code",
        "colab": {}
      },
      "source": [
        "sub = pd.DataFrame(data = {\n",
        "    'id': test['id'],\n",
        "    'cost': np.expm1(y_pred)\n",
        "})\n",
        "sub.to_csv('submission.csv', index=False)"
      ],
      "execution_count": 0,
      "outputs": []
    },
    {
      "cell_type": "code",
      "metadata": {
        "id": "-jIQEXsIQmSq",
        "colab_type": "code",
        "outputId": "b0270200-e7cc-42f3-cba2-1dfb5cdbeb66",
        "colab": {
          "base_uri": "https://localhost:8080/",
          "height": 248
        }
      },
      "source": [
        "sub.head()"
      ],
      "execution_count": 0,
      "outputs": [
        {
          "output_type": "execute_result",
          "data": {
            "text/html": [
              "<div>\n",
              "<style scoped>\n",
              "    .dataframe tbody tr th:only-of-type {\n",
              "        vertical-align: middle;\n",
              "    }\n",
              "\n",
              "    .dataframe tbody tr th {\n",
              "        vertical-align: top;\n",
              "    }\n",
              "\n",
              "    .dataframe thead th {\n",
              "        text-align: right;\n",
              "    }\n",
              "</style>\n",
              "<table border=\"1\" class=\"dataframe\">\n",
              "  <thead>\n",
              "    <tr style=\"text-align: right;\">\n",
              "      <th></th>\n",
              "      <th>id</th>\n",
              "      <th>cost</th>\n",
              "    </tr>\n",
              "  </thead>\n",
              "  <tbody>\n",
              "    <tr>\n",
              "      <th>0</th>\n",
              "      <td>1</td>\n",
              "      <td>13.843841</td>\n",
              "    </tr>\n",
              "    <tr>\n",
              "      <th>1</th>\n",
              "      <td>2</td>\n",
              "      <td>13.245848</td>\n",
              "    </tr>\n",
              "    <tr>\n",
              "      <th>2</th>\n",
              "      <td>3</td>\n",
              "      <td>8.338506</td>\n",
              "    </tr>\n",
              "    <tr>\n",
              "      <th>3</th>\n",
              "      <td>4</td>\n",
              "      <td>5.857256</td>\n",
              "    </tr>\n",
              "    <tr>\n",
              "      <th>4</th>\n",
              "      <td>5</td>\n",
              "      <td>4.321346</td>\n",
              "    </tr>\n",
              "  </tbody>\n",
              "</table>\n",
              "</div>"
            ],
            "text/plain": [
              "   id       cost\n",
              "0   1  13.843841\n",
              "1   2  13.245848\n",
              "2   3   8.338506\n",
              "3   4   5.857256\n",
              "4   5   4.321346"
            ]
          },
          "metadata": {
            "tags": []
          },
          "execution_count": 32
        }
      ]
    },
    {
      "cell_type": "code",
      "metadata": {
        "id": "UqEVT0alQmv9",
        "colab_type": "code",
        "colab": {}
      },
      "source": [
        ""
      ],
      "execution_count": 0,
      "outputs": []
    }
  ]
}