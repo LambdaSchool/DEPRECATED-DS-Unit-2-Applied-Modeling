{
 "cells": [
  {
   "cell_type": "code",
   "execution_count": 21,
   "metadata": {},
   "outputs": [],
   "source": [
    "# conda install nomkl"
   ]
  },
  {
   "cell_type": "code",
   "execution_count": 22,
   "metadata": {},
   "outputs": [],
   "source": [
    "# conda install -c conda-forge category_encoders"
   ]
  },
  {
   "cell_type": "code",
   "execution_count": 23,
   "metadata": {},
   "outputs": [],
   "source": [
    "# conda install -c conda-forge xgboost"
   ]
  },
  {
   "cell_type": "code",
   "execution_count": 24,
   "metadata": {},
   "outputs": [],
   "source": [
    "import os\n",
    "\n",
    "os.environ['KMP_DUPLICATE_LIB_OK']='True'"
   ]
  },
  {
   "cell_type": "code",
   "execution_count": 25,
   "metadata": {},
   "outputs": [],
   "source": [
    "SOURCE = '/Users/RichT/Documents/Lambda/DS-Unit-2-Applied-Modeling-master/data/caterpillar/caterpillar-tube-pricing/competition_data/'"
   ]
  },
  {
   "cell_type": "code",
   "execution_count": 26,
   "metadata": {},
   "outputs": [],
   "source": [
    "import pandas as pd\n",
    "import glob as glob"
   ]
  },
  {
   "cell_type": "code",
   "execution_count": 27,
   "metadata": {},
   "outputs": [],
   "source": [
    "# tidy list of the component id's\n",
    "materials = pd.read_csv(SOURCE + 'bill_of_materials.csv')\n",
    "\n",
    "assembly_components = materials.melt(id_vars='tube_assembly_id', \n",
    "                                     value_vars=[f'component_id_{n}' for n in range(1,9)])\n",
    "\n",
    "assembly_components = (assembly_components\n",
    "                       .sort_values(by='tube_assembly_id')\n",
    "                       .dropna()\n",
    "                       .rename(columns={'value': 'component_id'}))\n"
   ]
  },
  {
   "cell_type": "code",
   "execution_count": 28,
   "metadata": {},
   "outputs": [],
   "source": [
    "# merge with component types\n",
    "components = pd.read_csv(SOURCE + 'components.csv')\n",
    "assembly_component_types = assembly_components.merge(components, how='left')\n"
   ]
  },
  {
   "cell_type": "code",
   "execution_count": 29,
   "metadata": {},
   "outputs": [
    {
     "name": "stdout",
     "output_type": "stream",
     "text": [
      "(19149, 30)\n"
     ]
    }
   ],
   "source": [
    "# create a crosstab (similar to one hot encoding)\n",
    "table = pd.crosstab(assembly_component_types['tube_assembly_id'], \n",
    "                    assembly_component_types['component_type_id'])\n",
    "\n",
    "table = table.reset_index()\n",
    "table.columns.name = ''\n",
    "print(table.shape)"
   ]
  },
  {
   "cell_type": "code",
   "execution_count": 30,
   "metadata": {
    "scrolled": false
   },
   "outputs": [
    {
     "name": "stdout",
     "output_type": "stream",
     "text": [
      "/Users/RichT/Documents/Lambda/DS-Unit-2-Applied-Modeling-master/data/caterpillar/caterpillar-tube-pricing/competition_data/comp_threaded.csv (194, 32)\n",
      "['component_id', 'component_type_id', 'adaptor_angle', 'overall_length', 'hex_size', 'end_form_id_1', 'connection_type_id_1', 'length_1', 'thread_size_1', 'thread_pitch_1', 'nominal_size_1', 'end_form_id_2', 'connection_type_id_2', 'length_2', 'thread_size_2', 'thread_pitch_2', 'nominal_size_2', 'end_form_id_3', 'connection_type_id_3', 'length_3', 'thread_size_3', 'thread_pitch_3', 'nominal_size_3', 'end_form_id_4', 'connection_type_id_4', 'length_4', 'thread_size_4', 'thread_pitch_4', 'nominal_size_4', 'unique_feature', 'orientation', 'weight'] \n",
      "\n",
      "/Users/RichT/Documents/Lambda/DS-Unit-2-Applied-Modeling-master/data/caterpillar/caterpillar-tube-pricing/competition_data/comp_adaptor.csv (25, 20)\n",
      "['component_id', 'component_type_id', 'adaptor_angle', 'overall_length', 'end_form_id_1', 'connection_type_id_1', 'length_1', 'thread_size_1', 'thread_pitch_1', 'nominal_size_1', 'end_form_id_2', 'connection_type_id_2', 'length_2', 'thread_size_2', 'thread_pitch_2', 'nominal_size_2', 'hex_size', 'unique_feature', 'orientation', 'weight'] \n",
      "\n",
      "/Users/RichT/Documents/Lambda/DS-Unit-2-Applied-Modeling-master/data/caterpillar/caterpillar-tube-pricing/competition_data/comp_straight.csv (361, 12)\n",
      "['component_id', 'component_type_id', 'bolt_pattern_long', 'bolt_pattern_wide', 'head_diameter', 'overall_length', 'thickness', 'mj_class_code', 'groove', 'unique_feature', 'orientation', 'weight'] \n",
      "\n",
      "/Users/RichT/Documents/Lambda/DS-Unit-2-Applied-Modeling-master/data/caterpillar/caterpillar-tube-pricing/competition_data/comp_tee.csv (4, 14)\n",
      "['component_id', 'component_type_id', 'bolt_pattern_long', 'bolt_pattern_wide', 'extension_length', 'overall_length', 'thickness', 'drop_length', 'mj_class_code', 'mj_plug_class_code', 'groove', 'unique_feature', 'orientation', 'weight'] \n",
      "\n",
      "/Users/RichT/Documents/Lambda/DS-Unit-2-Applied-Modeling-master/data/caterpillar/caterpillar-tube-pricing/competition_data/comp_boss.csv (147, 15)\n",
      "['component_id', 'component_type_id', 'type', 'connection_type_id', 'outside_shape', 'base_type', 'height_over_tube', 'bolt_pattern_long', 'bolt_pattern_wide', 'groove', 'base_diameter', 'shoulder_diameter', 'unique_feature', 'orientation', 'weight'] \n",
      "\n",
      "/Users/RichT/Documents/Lambda/DS-Unit-2-Applied-Modeling-master/data/caterpillar/caterpillar-tube-pricing/competition_data/comp_float.csv (16, 7)\n",
      "['component_id', 'component_type_id', 'bolt_pattern_long', 'bolt_pattern_wide', 'thickness', 'orientation', 'weight'] \n",
      "\n",
      "/Users/RichT/Documents/Lambda/DS-Unit-2-Applied-Modeling-master/data/caterpillar/caterpillar-tube-pricing/competition_data/comp_elbow.csv (178, 16)\n",
      "['component_id', 'component_type_id', 'bolt_pattern_long', 'bolt_pattern_wide', 'extension_length', 'overall_length', 'thickness', 'drop_length', 'elbow_angle', 'mj_class_code', 'mj_plug_class_code', 'plug_diameter', 'groove', 'unique_feature', 'orientation', 'weight'] \n",
      "\n",
      "/Users/RichT/Documents/Lambda/DS-Unit-2-Applied-Modeling-master/data/caterpillar/caterpillar-tube-pricing/competition_data/comp_sleeve.csv (50, 10)\n",
      "['component_id', 'component_type_id', 'connection_type_id', 'length', 'intended_nut_thread', 'intended_nut_pitch', 'unique_feature', 'plating', 'orientation', 'weight'] \n",
      "\n",
      "/Users/RichT/Documents/Lambda/DS-Unit-2-Applied-Modeling-master/data/caterpillar/caterpillar-tube-pricing/competition_data/comp_hfl.csv (6, 9)\n",
      "['component_id', 'component_type_id', 'hose_diameter', 'corresponding_shell', 'coupling_class', 'material', 'plating', 'orientation', 'weight'] \n",
      "\n",
      "/Users/RichT/Documents/Lambda/DS-Unit-2-Applied-Modeling-master/data/caterpillar/caterpillar-tube-pricing/competition_data/comp_other.csv (1001, 3)\n",
      "['component_id', 'part_name', 'weight'] \n",
      "\n",
      "/Users/RichT/Documents/Lambda/DS-Unit-2-Applied-Modeling-master/data/caterpillar/caterpillar-tube-pricing/competition_data/comp_nut.csv (65, 11)\n",
      "['component_id', 'component_type_id', 'hex_nut_size', 'seat_angle', 'length', 'thread_size', 'thread_pitch', 'diameter', 'blind_hole', 'orientation', 'weight'] \n",
      "\n"
     ]
    }
   ],
   "source": [
    "from glob import glob\n",
    "\n",
    "def search_column(name):\n",
    "    for path in glob(SOURCE + '*.csv'):\n",
    "        df = pd.read_csv(path)\n",
    "        if name in df.columns:\n",
    "            print(path, df.shape)\n",
    "            print(df.columns.tolist(), '\\n')\n",
    "\n",
    "search_column('weight')"
   ]
  },
  {
   "cell_type": "code",
   "execution_count": 31,
   "metadata": {},
   "outputs": [
    {
     "data": {
      "text/plain": [
       "No     121\n",
       "Yes     73\n",
       "Name: orientation, dtype: int64"
      ]
     },
     "execution_count": 31,
     "metadata": {},
     "output_type": "execute_result"
    }
   ],
   "source": [
    "comp_threaded = pd.read_csv(SOURCE + 'comp_threaded.csv')\n",
    "comp_threaded['orientation'].value_counts()"
   ]
  },
  {
   "cell_type": "code",
   "execution_count": 32,
   "metadata": {},
   "outputs": [
    {
     "data": {
      "text/plain": [
       "No     161\n",
       "Yes     33\n",
       "Name: unique_feature, dtype: int64"
      ]
     },
     "execution_count": 32,
     "metadata": {},
     "output_type": "execute_result"
    }
   ],
   "source": [
    "comp_threaded['unique_feature'].value_counts()"
   ]
  },
  {
   "cell_type": "code",
   "execution_count": 33,
   "metadata": {},
   "outputs": [],
   "source": [
    "# read the component files and concat them together\n",
    "comp = pd.concat((pd.read_csv(path) for path in glob(SOURCE + 'comp_*.csv')), sort=False)\n",
    "columns = ['component_id', 'component_type_id', 'orientation', 'unique_feature', 'weight']\n",
    "comp = comp[columns]\n",
    "comp['orientation'] = (comp['orientation']=='Yes').astype(int)\n",
    "comp['unique_feature'] = (comp['unique_feature']=='Yes').astype(int)\n",
    "comp['weight'] = comp['weight'].fillna(comp['weight'].median())\n"
   ]
  },
  {
   "cell_type": "code",
   "execution_count": 34,
   "metadata": {},
   "outputs": [],
   "source": [
    "# engineer features, aggregated for all components in a tube assembly\n",
    "\n",
    "materials['components_total'] = sum(materials[f'quantity_{n}'].fillna(0) for n in range(1,9))\n",
    "materials['components_distinct'] = sum(materials[f'component_id_{n}'].notnull().astype(int) for n in range(1,9))\n",
    "materials['orientation'] = 0\n",
    "materials['unique_feature'] = 0\n",
    "materials['weight'] = 0\n",
    "\n",
    "for n in range(1,9):\n",
    "    materials = materials.merge(comp, left_on= f'component_id_{n}', right_on = 'component_id',\n",
    "                               how = 'left', suffixes=('', f'_{n}'))\n",
    "\n",
    "for col in materials:\n",
    "    if 'orientation' in col or 'unique_feature' in col or 'weight' in col:\n",
    "        materials[col] = materials[col].fillna(0)\n",
    "\n",
    "materials['orientation'] = sum(materials[f'orientation_{n}'] for n in range(1,9))\n",
    "materials['unique_feature'] = sum(materials[f'unique_feature_{n}'] for n in range(1,9))\n",
    "materials['weight'] = sum(materials[f'weight_{n}'] for n in range(1,9))"
   ]
  },
  {
   "cell_type": "code",
   "execution_count": 35,
   "metadata": {},
   "outputs": [
    {
     "name": "stdout",
     "output_type": "stream",
     "text": [
      "(21198, 7)\n"
     ]
    }
   ],
   "source": [
    "features = ['tube_assembly_id', 'orientation', 'unique_feature', 'weight',\n",
    "           'components_total', 'components_distinct', 'component_id_1']\n",
    "materials = materials[features]\n",
    "print(materials.shape)"
   ]
  },
  {
   "cell_type": "code",
   "execution_count": 36,
   "metadata": {},
   "outputs": [],
   "source": [
    "# read tube data\n",
    "tube = pd.read_csv(SOURCE+'tube.csv')"
   ]
  },
  {
   "cell_type": "code",
   "execution_count": 37,
   "metadata": {},
   "outputs": [],
   "source": [
    "from sklearn.model_selection import train_test_split\n",
    "\n",
    "# read data\n",
    "trainval = pd.read_csv(SOURCE + 'train_set.csv')\n",
    "test = pd.read_csv(SOURCE + 'test_set.csv')\n",
    "\n",
    "# split into train/val\n",
    "# with all rows for a given tube assembly going in either train or val\n",
    "trainval_tube_assemblies = trainval['tube_assembly_id'].unique()\n",
    "train_tube_assemblies, val_tube_assemblies = train_test_split(\n",
    "    trainval_tube_assemblies, random_state = 42)\n",
    "train = trainval[trainval.tube_assembly_id.isin(train_tube_assemblies)]\n",
    "val = trainval[trainval.tube_assembly_id.isin(val_tube_assemblies)]\n"
   ]
  },
  {
   "cell_type": "code",
   "execution_count": 38,
   "metadata": {},
   "outputs": [],
   "source": [
    "# wrangle train, val and test sets\n",
    "def wrangle(X):\n",
    "    X = X.copy()\n",
    "    \n",
    "#     engineer date features\n",
    "    X['quote_date'] = pd.to_datetime(X['quote_date'], infer_datetime_format=True)\n",
    "    X['quote_date_year'] = X['quote_date'].dt.year\n",
    "    X['quote_date_month'] = X['quote_date'].dt.month\n",
    "    X = X.drop(columns='quote_date')\n",
    "    \n",
    "#     merge data\n",
    "    X = (X.merge(table, how='left')\n",
    "         .merge(materials, how='left')\n",
    "         .merge(tube, how='left')\n",
    "         .fillna(0))\n",
    "    \n",
    "#     drop tube assembly id because we want to predict unknown assemblies\n",
    "    X = X.drop(columns='tube_assembly_id')\n",
    "    return X\n",
    "\n",
    "train_wrangled = wrangle(train)\n",
    "val_wrangled = wrangle(val)\n",
    "test_wrangled = wrangle(test)\n",
    "\n"
   ]
  },
  {
   "cell_type": "code",
   "execution_count": 39,
   "metadata": {},
   "outputs": [],
   "source": [
    "# arrange into matrix and vector (log transformed)\n",
    "import numpy as np\n",
    "\n",
    "target = 'cost'\n",
    "X_train = train_wrangled.drop(columns=target)\n",
    "X_val = val_wrangled.drop(columns=target)\n",
    "X_test = test_wrangled.drop(columns='id')\n",
    "y_train = train[target]\n",
    "y_val = val[target]\n",
    "y_train_log = np.log1p(y_train)\n",
    "y_val_log = np.log1p(y_val)\n",
    "\n"
   ]
  },
  {
   "cell_type": "code",
   "execution_count": 40,
   "metadata": {},
   "outputs": [],
   "source": [
    "# Use xgboost to fit and evaluate the model\n",
    "import category_encoders as ce\n",
    "from xgboost import XGBRegressor\n",
    "import warnings\n",
    "warnings.simplefilter(action='ignore', category=FutureWarning)\n",
    "\n",
    "# encoder = ce.OrdinalEncoder()\n",
    "# X_train_encoded = encoder.fit_transform(X_train)\n",
    "# X_val_encoded = encoder.transform(X_val)\n",
    "# eval_set = [(X_train_encoded, y_train_log),\n",
    "#            (X_val_encoded, y_val_log)]\n",
    "# model = XGBRegressor(n_estimators=2000, n_jobs=-1)\n",
    "# model.fit(X_train_encoded, y_train_log,\n",
    "#          eval_set=eval_set, eval_metric='rmse', early_stopping_rounds=50)\n"
   ]
  },
  {
   "cell_type": "code",
   "execution_count": 41,
   "metadata": {},
   "outputs": [],
   "source": [
    "from sklearn.ensemble import RandomForestRegressor\n",
    "from sklearn.model_selection import cross_val_score\n",
    "from sklearn.pipeline import make_pipeline\n",
    "\n",
    "# pipeline = make_pipeline(\n",
    "#     ce.OrdinalEncoder(), \n",
    "#     RandomForestRegressor(n_estimators=100, n_jobs=-1, random_state=42)\n",
    "# )\n",
    "\n",
    "# k = 5\n",
    "# groups = train['tube_assembly_id']\n",
    "# scores = cross_val_score(pipeline, X_train, y_train_log, cv=k, \n",
    "#                          scoring='neg_mean_squared_error', groups=groups)\n",
    "# print(f'RMSLE for {k} folds:', np.sqrt(-scores))"
   ]
  },
  {
   "cell_type": "code",
   "execution_count": 42,
   "metadata": {},
   "outputs": [],
   "source": [
    "# THIS EXAMPLE FOR RANDOM FOREST HYPERPARAMATER OPTIMIZATION\n",
    "# from scipy.stats import randint, uniform\n",
    "# from sklearn.model_selection import RandomizedSearchCV\n",
    "\n",
    "# pipeline = make_pipeline(\n",
    "#     ce.OrdinalEncoder(), \n",
    "#     RandomForestRegressor(random_state=42)\n",
    "# )\n",
    "\n",
    "# param_distributions = {\n",
    "#     'randomforestregressor__n_estimators': randint(50, 500), \n",
    "#     'randomforestregressor__max_features': uniform(0, 1), \n",
    "#     'randomforestregressor__max_features': [0.3, 0.5, 0.7]\n",
    "# }\n",
    "\n",
    "# search = RandomizedSearchCV(\n",
    "#     pipeline, \n",
    "#     param_distributions=param_distributions, \n",
    "#     n_iter=20, \n",
    "#     cv=5, \n",
    "#     scoring='neg_mean_squared_error', \n",
    "#     verbose=10, \n",
    "#     return_train_score=True, \n",
    "#     n_jobs=-1\n",
    "# )\n",
    "\n",
    "# search.fit(X_train, y_train_log, groups=groups);"
   ]
  },
  {
   "cell_type": "code",
   "execution_count": 46,
   "metadata": {},
   "outputs": [
    {
     "name": "stdout",
     "output_type": "stream",
     "text": [
      "Fitting 3 folds for each of 10 candidates, totalling 30 fits\n"
     ]
    },
    {
     "name": "stderr",
     "output_type": "stream",
     "text": [
      "[Parallel(n_jobs=-1)]: Using backend LokyBackend with 4 concurrent workers.\n",
      "[Parallel(n_jobs=-1)]: Done   5 tasks      | elapsed:  1.1min\n",
      "[Parallel(n_jobs=-1)]: Done  10 tasks      | elapsed:  1.7min\n",
      "[Parallel(n_jobs=-1)]: Done  17 tasks      | elapsed:  2.9min\n",
      "[Parallel(n_jobs=-1)]: Done  27 out of  30 | elapsed:  4.1min remaining:   27.1s\n",
      "[Parallel(n_jobs=-1)]: Done  30 out of  30 | elapsed:  4.4min finished\n"
     ]
    }
   ],
   "source": [
    "from scipy.stats import randint, uniform\n",
    "from sklearn.model_selection import RandomizedSearchCV\n",
    "groups = train['tube_assembly_id']\n",
    "\n",
    "pipeline = make_pipeline(\n",
    "    ce.OrdinalEncoder(),\n",
    "    XGBRegressor(random_state=42)\n",
    ")\n",
    "\n",
    "param_distributions = {\n",
    "    'xgbregressor__n_estimators': randint(500, 1000),\n",
    "    'xgbregressor__max_depth': randint(3,7)\n",
    "}\n",
    "\n",
    "search = RandomizedSearchCV(\n",
    "    pipeline,\n",
    "    param_distributions= param_distributions,\n",
    "    n_iter = 10,\n",
    "    cv = 3,\n",
    "    scoring = 'neg_mean_squared_error',\n",
    "    verbose = 10,\n",
    "    return_train_score=True,\n",
    "    n_jobs=-1\n",
    ")\n",
    "\n",
    "search.fit(X_train, y_train_log, groups=groups);"
   ]
  },
  {
   "cell_type": "code",
   "execution_count": 48,
   "metadata": {},
   "outputs": [
    {
     "name": "stdout",
     "output_type": "stream",
     "text": [
      "Best Hyperparamaters: {'xgbregressor__max_depth': 5, 'xgbregressor__n_estimators': 596}\n",
      "Cross-Validation RMSLE: 0.2934695351655911\n"
     ]
    }
   ],
   "source": [
    "print('Best Hyperparamaters:', search.best_params_)\n",
    "print('Cross-Validation RMSLE:', np.sqrt(-search.best_score_))"
   ]
  },
  {
   "cell_type": "code",
   "execution_count": 51,
   "metadata": {},
   "outputs": [],
   "source": [
    "pipeline = search.best_estimator_\n",
    "\n",
    "def generate_submission(estimator, X_test, filename):\n",
    "    y_pred_log = estimator.predict(X_test)\n",
    "    y_pred = np.expm1(y_pred_log) #converts from log-dollars to dollars\n",
    "    submission = pd.read_csv(SOURCE + '../sample_submission.csv')\n",
    "    submission['cost'] = y_pred\n",
    "    submission.to_csv(filename, index=False)\n",
    "    \n",
    "    \n",
    "generate_submission(pipeline, X_test, 'submission.csv')"
   ]
  },
  {
   "cell_type": "code",
   "execution_count": null,
   "metadata": {},
   "outputs": [],
   "source": []
  }
 ],
 "metadata": {
  "kernelspec": {
   "display_name": "Python 3",
   "language": "python",
   "name": "python3"
  },
  "language_info": {
   "codemirror_mode": {
    "name": "ipython",
    "version": 3
   },
   "file_extension": ".py",
   "mimetype": "text/x-python",
   "name": "python",
   "nbconvert_exporter": "python",
   "pygments_lexer": "ipython3",
   "version": "3.7.3"
  }
 },
 "nbformat": 4,
 "nbformat_minor": 2
}
