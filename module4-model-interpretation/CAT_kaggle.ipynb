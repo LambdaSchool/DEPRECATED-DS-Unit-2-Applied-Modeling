{
  "nbformat": 4,
  "nbformat_minor": 0,
  "metadata": {
    "colab": {
      "name": "CAT_kaggle.ipynb",
      "version": "0.3.2",
      "provenance": [],
      "collapsed_sections": [],
      "toc_visible": true,
      "include_colab_link": true
    },
    "kernelspec": {
      "name": "python3",
      "display_name": "Python 3"
    }
  },
  "cells": [
    {
      "cell_type": "markdown",
      "metadata": {
        "id": "view-in-github",
        "colab_type": "text"
      },
      "source": [
        "<a href=\"https://colab.research.google.com/github/leehanchung/DS-Unit-2-Applied-Modeling/blob/master/module4-model-interpretation/CAT_kaggle.ipynb\" target=\"_parent\"><img src=\"https://colab.research.google.com/assets/colab-badge.svg\" alt=\"Open In Colab\"/></a>"
      ]
    },
    {
      "cell_type": "code",
      "metadata": {
        "id": "lVDGPM2D4j0l",
        "colab_type": "code",
        "colab": {}
      },
      "source": [
        "!pip install -U -q kaggle\n",
        "!mkdir -p ~/.kaggle\n",
        "!echo '{\"username\":\"vitaminc\",\"key\":\"0eb61e9a1314e9957682754bb623affc\"}' > ~/.kaggle/kaggle.json"
      ],
      "execution_count": 0,
      "outputs": []
    },
    {
      "cell_type": "code",
      "metadata": {
        "id": "pVzgIvlT7uIM",
        "colab_type": "code",
        "colab": {}
      },
      "source": [
        "!chmod 600 ~/.kaggle/kaggle.json"
      ],
      "execution_count": 0,
      "outputs": []
    },
    {
      "cell_type": "code",
      "metadata": {
        "id": "S-wSy9Iq46os",
        "colab_type": "code",
        "colab": {
          "base_uri": "https://localhost:8080/",
          "height": 442
        },
        "outputId": "ada75b6c-d60c-4495-c7dc-a8d0d4d8c171"
      },
      "source": [
        "!pip install eli5 pdpbox category_encoders"
      ],
      "execution_count": 28,
      "outputs": [
        {
          "output_type": "stream",
          "text": [
            "Requirement already satisfied: eli5 in /usr/local/lib/python3.6/dist-packages (0.9.0)\n",
            "Requirement already satisfied: pdpbox in /usr/local/lib/python3.6/dist-packages (0.2.0)\n",
            "Requirement already satisfied: category_encoders in /usr/local/lib/python3.6/dist-packages (2.0.0)\n",
            "Requirement already satisfied: typing in /usr/local/lib/python3.6/dist-packages (from eli5) (3.7.4)\n",
            "Requirement already satisfied: numpy>=1.9.0 in /usr/local/lib/python3.6/dist-packages (from eli5) (1.16.4)\n",
            "Requirement already satisfied: scikit-learn>=0.18 in /usr/local/lib/python3.6/dist-packages (from eli5) (0.21.2)\n",
            "Requirement already satisfied: tabulate>=0.7.7 in /usr/local/lib/python3.6/dist-packages (from eli5) (0.8.3)\n",
            "Requirement already satisfied: graphviz in /usr/local/lib/python3.6/dist-packages (from eli5) (0.10.1)\n",
            "Requirement already satisfied: six in /usr/local/lib/python3.6/dist-packages (from eli5) (1.12.0)\n",
            "Requirement already satisfied: attrs>16.0.0 in /usr/local/lib/python3.6/dist-packages (from eli5) (19.1.0)\n",
            "Requirement already satisfied: scipy in /usr/local/lib/python3.6/dist-packages (from eli5) (1.3.0)\n",
            "Requirement already satisfied: jinja2 in /usr/local/lib/python3.6/dist-packages (from eli5) (2.10.1)\n",
            "Requirement already satisfied: pandas in /usr/local/lib/python3.6/dist-packages (from pdpbox) (0.24.2)\n",
            "Requirement already satisfied: joblib in /usr/local/lib/python3.6/dist-packages (from pdpbox) (0.13.2)\n",
            "Requirement already satisfied: psutil in /usr/local/lib/python3.6/dist-packages (from pdpbox) (5.4.8)\n",
            "Requirement already satisfied: matplotlib>=2.1.2 in /usr/local/lib/python3.6/dist-packages (from pdpbox) (3.0.3)\n",
            "Requirement already satisfied: statsmodels>=0.6.1 in /usr/local/lib/python3.6/dist-packages (from category_encoders) (0.10.0)\n",
            "Requirement already satisfied: patsy>=0.4.1 in /usr/local/lib/python3.6/dist-packages (from category_encoders) (0.5.1)\n",
            "Requirement already satisfied: MarkupSafe>=0.23 in /usr/local/lib/python3.6/dist-packages (from jinja2->eli5) (1.1.1)\n",
            "Requirement already satisfied: python-dateutil>=2.5.0 in /usr/local/lib/python3.6/dist-packages (from pandas->pdpbox) (2.5.3)\n",
            "Requirement already satisfied: pytz>=2011k in /usr/local/lib/python3.6/dist-packages (from pandas->pdpbox) (2018.9)\n",
            "Requirement already satisfied: pyparsing!=2.0.4,!=2.1.2,!=2.1.6,>=2.0.1 in /usr/local/lib/python3.6/dist-packages (from matplotlib>=2.1.2->pdpbox) (2.4.0)\n",
            "Requirement already satisfied: kiwisolver>=1.0.1 in /usr/local/lib/python3.6/dist-packages (from matplotlib>=2.1.2->pdpbox) (1.1.0)\n",
            "Requirement already satisfied: cycler>=0.10 in /usr/local/lib/python3.6/dist-packages (from matplotlib>=2.1.2->pdpbox) (0.10.0)\n",
            "Requirement already satisfied: setuptools in /usr/local/lib/python3.6/dist-packages (from kiwisolver>=1.0.1->matplotlib>=2.1.2->pdpbox) (41.0.1)\n"
          ],
          "name": "stdout"
        }
      ]
    },
    {
      "cell_type": "code",
      "metadata": {
        "id": "UzZjXvLk7yP3",
        "colab_type": "code",
        "outputId": "79dff217-414e-4dba-f329-03d5cc5cceba",
        "colab": {
          "base_uri": "https://localhost:8080/",
          "height": 119
        }
      },
      "source": [
        "!kaggle competitions download -c caterpillar-tube-pricing --force"
      ],
      "execution_count": 29,
      "outputs": [
        {
          "output_type": "stream",
          "text": [
            "Downloading sample_submission.csv to /content\n",
            "\r  0% 0.00/225k [00:00<?, ?B/s]\n",
            "100% 225k/225k [00:00<00:00, 69.4MB/s]\n",
            "Downloading data.zip to /content\n",
            "  0% 0.00/794k [00:00<?, ?B/s]\n",
            "100% 794k/794k [00:00<00:00, 48.7MB/s]\n"
          ],
          "name": "stdout"
        }
      ]
    },
    {
      "cell_type": "code",
      "metadata": {
        "id": "MoRSfxqlAGVI",
        "colab_type": "code",
        "outputId": "30bc34c5-a80b-4b37-9c1c-1ba036eb1406",
        "colab": {
          "base_uri": "https://localhost:8080/",
          "height": 34
        }
      },
      "source": [
        "!unzip caterpillar-tube-pricing.zip"
      ],
      "execution_count": 30,
      "outputs": [
        {
          "output_type": "stream",
          "text": [
            "unzip:  cannot find or open caterpillar-tube-pricing.zip, caterpillar-tube-pricing.zip.zip or caterpillar-tube-pricing.zip.ZIP.\n"
          ],
          "name": "stdout"
        }
      ]
    },
    {
      "cell_type": "markdown",
      "metadata": {
        "id": "-u1Uz-Yg-CZz",
        "colab_type": "text"
      },
      "source": [
        "!unzip data.zip"
      ]
    },
    {
      "cell_type": "code",
      "metadata": {
        "id": "_J8P1KuZaSiv",
        "colab_type": "code",
        "outputId": "4b10d45a-c114-4bfa-b6c7-6226fa025307",
        "colab": {
          "base_uri": "https://localhost:8080/",
          "height": 408
        }
      },
      "source": [
        "!unzip data.zip"
      ],
      "execution_count": 31,
      "outputs": [
        {
          "output_type": "stream",
          "text": [
            "Archive:  data.zip\n",
            "replace competition_data/bill_of_materials.csv? [y]es, [n]o, [A]ll, [N]one, [r]ename: A\n",
            "  inflating: competition_data/bill_of_materials.csv  \n",
            "  inflating: competition_data/comp_adaptor.csv  \n",
            "  inflating: competition_data/comp_boss.csv  \n",
            "  inflating: competition_data/comp_elbow.csv  \n",
            "  inflating: competition_data/comp_float.csv  \n",
            "  inflating: competition_data/comp_hfl.csv  \n",
            "  inflating: competition_data/comp_nut.csv  \n",
            "  inflating: competition_data/comp_other.csv  \n",
            "  inflating: competition_data/comp_sleeve.csv  \n",
            "  inflating: competition_data/comp_straight.csv  \n",
            "  inflating: competition_data/comp_tee.csv  \n",
            "  inflating: competition_data/comp_threaded.csv  \n",
            "  inflating: competition_data/components.csv  \n",
            "  inflating: competition_data/specs.csv  \n",
            "  inflating: competition_data/test_set.csv  \n",
            "  inflating: competition_data/train_set.csv  \n",
            "  inflating: competition_data/tube.csv  \n",
            "  inflating: competition_data/tube_end_form.csv  \n",
            "  inflating: competition_data/type_component.csv  \n",
            "  inflating: competition_data/type_connection.csv  \n",
            "  inflating: competition_data/type_end_form.csv  \n"
          ],
          "name": "stdout"
        }
      ]
    },
    {
      "cell_type": "code",
      "metadata": {
        "id": "xYz213DRC4CD",
        "colab_type": "code",
        "outputId": "a46efe24-787c-41b7-eafb-e057171dc8d0",
        "colab": {
          "base_uri": "https://localhost:8080/",
          "height": 204
        }
      },
      "source": [
        "!pip install category_encoders"
      ],
      "execution_count": 32,
      "outputs": [
        {
          "output_type": "stream",
          "text": [
            "Requirement already satisfied: category_encoders in /usr/local/lib/python3.6/dist-packages (2.0.0)\n",
            "Requirement already satisfied: numpy>=1.11.3 in /usr/local/lib/python3.6/dist-packages (from category_encoders) (1.16.4)\n",
            "Requirement already satisfied: statsmodels>=0.6.1 in /usr/local/lib/python3.6/dist-packages (from category_encoders) (0.10.0)\n",
            "Requirement already satisfied: patsy>=0.4.1 in /usr/local/lib/python3.6/dist-packages (from category_encoders) (0.5.1)\n",
            "Requirement already satisfied: scipy>=0.19.0 in /usr/local/lib/python3.6/dist-packages (from category_encoders) (1.3.0)\n",
            "Requirement already satisfied: scikit-learn>=0.20.0 in /usr/local/lib/python3.6/dist-packages (from category_encoders) (0.21.2)\n",
            "Requirement already satisfied: pandas>=0.21.1 in /usr/local/lib/python3.6/dist-packages (from category_encoders) (0.24.2)\n",
            "Requirement already satisfied: six in /usr/local/lib/python3.6/dist-packages (from patsy>=0.4.1->category_encoders) (1.12.0)\n",
            "Requirement already satisfied: joblib>=0.11 in /usr/local/lib/python3.6/dist-packages (from scikit-learn>=0.20.0->category_encoders) (0.13.2)\n",
            "Requirement already satisfied: python-dateutil>=2.5.0 in /usr/local/lib/python3.6/dist-packages (from pandas>=0.21.1->category_encoders) (2.5.3)\n",
            "Requirement already satisfied: pytz>=2011k in /usr/local/lib/python3.6/dist-packages (from pandas>=0.21.1->category_encoders) (2018.9)\n"
          ],
          "name": "stdout"
        }
      ]
    },
    {
      "cell_type": "code",
      "metadata": {
        "id": "25G1KFsDCNMQ",
        "colab_type": "code",
        "colab": {}
      },
      "source": [
        "from glob import glob\n",
        "import pandas as pd\n",
        "import numpy as np\n",
        "\n",
        "import category_encoders as ce\n",
        "from sklearn.pipeline import Pipeline\n",
        "from sklearn.model_selection import train_test_split\n",
        "from sklearn.ensemble import RandomForestRegressor\n",
        "from sklearn import ensemble, preprocessing\n",
        "import xgboost as xgb\n",
        "\n",
        "from sklearn.metrics import r2_score\n",
        "from sklearn.metrics import mean_squared_log_error\n",
        "from sklearn.metrics import mean_squared_error\n",
        "\n",
        "\n",
        "import matplotlib.pyplot as plt\n",
        "import seaborn as sns\n",
        "%matplotlib inline\n",
        "from pdpbox.pdp import pdp_isolate, pdp_plot\n",
        "from pdpbox.pdp import pdp_interact, pdp_interact_plot"
      ],
      "execution_count": 0,
      "outputs": []
    },
    {
      "cell_type": "code",
      "metadata": {
        "id": "M487HV_o_uxP",
        "colab_type": "code",
        "outputId": "a27a8e97-4eff-425d-c3c3-cda54f62920c",
        "colab": {
          "base_uri": "https://localhost:8080/",
          "height": 374
        }
      },
      "source": [
        "for path in glob('competition_data/*.csv'):\n",
        "    df = pd.read_csv(path)\n",
        "    print(path, df.shape)"
      ],
      "execution_count": 34,
      "outputs": [
        {
          "output_type": "stream",
          "text": [
            "competition_data/comp_other.csv (1001, 3)\n",
            "competition_data/comp_adaptor.csv (25, 20)\n",
            "competition_data/components.csv (2048, 3)\n",
            "competition_data/type_end_form.csv (8, 2)\n",
            "competition_data/tube.csv (21198, 16)\n",
            "competition_data/comp_elbow.csv (178, 16)\n",
            "competition_data/type_connection.csv (14, 2)\n",
            "competition_data/train_set.csv (30213, 8)\n",
            "competition_data/comp_tee.csv (4, 14)\n",
            "competition_data/comp_straight.csv (361, 12)\n",
            "competition_data/comp_float.csv (16, 7)\n",
            "competition_data/comp_boss.csv (147, 15)\n",
            "competition_data/comp_hfl.csv (6, 9)\n",
            "competition_data/comp_nut.csv (65, 11)\n",
            "competition_data/tube_end_form.csv (27, 2)\n",
            "competition_data/comp_sleeve.csv (50, 10)\n",
            "competition_data/test_set.csv (30235, 8)\n",
            "competition_data/bill_of_materials.csv (21198, 17)\n",
            "competition_data/comp_threaded.csv (194, 32)\n",
            "competition_data/specs.csv (21198, 11)\n",
            "competition_data/type_component.csv (29, 2)\n"
          ],
          "name": "stdout"
        }
      ]
    },
    {
      "cell_type": "markdown",
      "metadata": {
        "id": "_xOyXNtuTxgh",
        "colab_type": "text"
      },
      "source": [
        "# 1. Loading Data"
      ]
    },
    {
      "cell_type": "code",
      "metadata": {
        "id": "08jS8zY2B7TU",
        "colab_type": "code",
        "colab": {}
      },
      "source": [
        "trainval = pd.read_csv('competition_data/train_set.csv')\n",
        "test = pd.read_csv('competition_data/test_set.csv')\n",
        "tube = pd.read_csv('competition_data/tube.csv')\n",
        "bom = pd.read_csv('competition_data/bill_of_materials.csv')\n",
        "specs = pd.read_csv('competition_data/specs.csv')\n",
        "submission = pd.read_csv('sample_submission.csv')"
      ],
      "execution_count": 0,
      "outputs": []
    },
    {
      "cell_type": "code",
      "metadata": {
        "id": "Wtc_WQCGB9lL",
        "colab_type": "code",
        "outputId": "624c8fc2-cc7b-4252-a90a-54773eeae829",
        "colab": {
          "base_uri": "https://localhost:8080/",
          "height": 359
        }
      },
      "source": [
        "trainval.head(10)"
      ],
      "execution_count": 36,
      "outputs": [
        {
          "output_type": "execute_result",
          "data": {
            "text/html": [
              "<div>\n",
              "<style scoped>\n",
              "    .dataframe tbody tr th:only-of-type {\n",
              "        vertical-align: middle;\n",
              "    }\n",
              "\n",
              "    .dataframe tbody tr th {\n",
              "        vertical-align: top;\n",
              "    }\n",
              "\n",
              "    .dataframe thead th {\n",
              "        text-align: right;\n",
              "    }\n",
              "</style>\n",
              "<table border=\"1\" class=\"dataframe\">\n",
              "  <thead>\n",
              "    <tr style=\"text-align: right;\">\n",
              "      <th></th>\n",
              "      <th>tube_assembly_id</th>\n",
              "      <th>supplier</th>\n",
              "      <th>quote_date</th>\n",
              "      <th>annual_usage</th>\n",
              "      <th>min_order_quantity</th>\n",
              "      <th>bracket_pricing</th>\n",
              "      <th>quantity</th>\n",
              "      <th>cost</th>\n",
              "    </tr>\n",
              "  </thead>\n",
              "  <tbody>\n",
              "    <tr>\n",
              "      <th>0</th>\n",
              "      <td>TA-00002</td>\n",
              "      <td>S-0066</td>\n",
              "      <td>2013-07-07</td>\n",
              "      <td>0</td>\n",
              "      <td>0</td>\n",
              "      <td>Yes</td>\n",
              "      <td>1</td>\n",
              "      <td>21.905933</td>\n",
              "    </tr>\n",
              "    <tr>\n",
              "      <th>1</th>\n",
              "      <td>TA-00002</td>\n",
              "      <td>S-0066</td>\n",
              "      <td>2013-07-07</td>\n",
              "      <td>0</td>\n",
              "      <td>0</td>\n",
              "      <td>Yes</td>\n",
              "      <td>2</td>\n",
              "      <td>12.341214</td>\n",
              "    </tr>\n",
              "    <tr>\n",
              "      <th>2</th>\n",
              "      <td>TA-00002</td>\n",
              "      <td>S-0066</td>\n",
              "      <td>2013-07-07</td>\n",
              "      <td>0</td>\n",
              "      <td>0</td>\n",
              "      <td>Yes</td>\n",
              "      <td>5</td>\n",
              "      <td>6.601826</td>\n",
              "    </tr>\n",
              "    <tr>\n",
              "      <th>3</th>\n",
              "      <td>TA-00002</td>\n",
              "      <td>S-0066</td>\n",
              "      <td>2013-07-07</td>\n",
              "      <td>0</td>\n",
              "      <td>0</td>\n",
              "      <td>Yes</td>\n",
              "      <td>10</td>\n",
              "      <td>4.687770</td>\n",
              "    </tr>\n",
              "    <tr>\n",
              "      <th>4</th>\n",
              "      <td>TA-00002</td>\n",
              "      <td>S-0066</td>\n",
              "      <td>2013-07-07</td>\n",
              "      <td>0</td>\n",
              "      <td>0</td>\n",
              "      <td>Yes</td>\n",
              "      <td>25</td>\n",
              "      <td>3.541561</td>\n",
              "    </tr>\n",
              "    <tr>\n",
              "      <th>5</th>\n",
              "      <td>TA-00002</td>\n",
              "      <td>S-0066</td>\n",
              "      <td>2013-07-07</td>\n",
              "      <td>0</td>\n",
              "      <td>0</td>\n",
              "      <td>Yes</td>\n",
              "      <td>50</td>\n",
              "      <td>3.224406</td>\n",
              "    </tr>\n",
              "    <tr>\n",
              "      <th>6</th>\n",
              "      <td>TA-00002</td>\n",
              "      <td>S-0066</td>\n",
              "      <td>2013-07-07</td>\n",
              "      <td>0</td>\n",
              "      <td>0</td>\n",
              "      <td>Yes</td>\n",
              "      <td>100</td>\n",
              "      <td>3.082521</td>\n",
              "    </tr>\n",
              "    <tr>\n",
              "      <th>7</th>\n",
              "      <td>TA-00002</td>\n",
              "      <td>S-0066</td>\n",
              "      <td>2013-07-07</td>\n",
              "      <td>0</td>\n",
              "      <td>0</td>\n",
              "      <td>Yes</td>\n",
              "      <td>250</td>\n",
              "      <td>2.999060</td>\n",
              "    </tr>\n",
              "    <tr>\n",
              "      <th>8</th>\n",
              "      <td>TA-00004</td>\n",
              "      <td>S-0066</td>\n",
              "      <td>2013-07-07</td>\n",
              "      <td>0</td>\n",
              "      <td>0</td>\n",
              "      <td>Yes</td>\n",
              "      <td>1</td>\n",
              "      <td>21.972702</td>\n",
              "    </tr>\n",
              "    <tr>\n",
              "      <th>9</th>\n",
              "      <td>TA-00004</td>\n",
              "      <td>S-0066</td>\n",
              "      <td>2013-07-07</td>\n",
              "      <td>0</td>\n",
              "      <td>0</td>\n",
              "      <td>Yes</td>\n",
              "      <td>2</td>\n",
              "      <td>12.407983</td>\n",
              "    </tr>\n",
              "  </tbody>\n",
              "</table>\n",
              "</div>"
            ],
            "text/plain": [
              "  tube_assembly_id supplier  quote_date  ...  bracket_pricing  quantity       cost\n",
              "0         TA-00002   S-0066  2013-07-07  ...              Yes         1  21.905933\n",
              "1         TA-00002   S-0066  2013-07-07  ...              Yes         2  12.341214\n",
              "2         TA-00002   S-0066  2013-07-07  ...              Yes         5   6.601826\n",
              "3         TA-00002   S-0066  2013-07-07  ...              Yes        10   4.687770\n",
              "4         TA-00002   S-0066  2013-07-07  ...              Yes        25   3.541561\n",
              "5         TA-00002   S-0066  2013-07-07  ...              Yes        50   3.224406\n",
              "6         TA-00002   S-0066  2013-07-07  ...              Yes       100   3.082521\n",
              "7         TA-00002   S-0066  2013-07-07  ...              Yes       250   2.999060\n",
              "8         TA-00004   S-0066  2013-07-07  ...              Yes         1  21.972702\n",
              "9         TA-00004   S-0066  2013-07-07  ...              Yes         2  12.407983\n",
              "\n",
              "[10 rows x 8 columns]"
            ]
          },
          "metadata": {
            "tags": []
          },
          "execution_count": 36
        }
      ]
    },
    {
      "cell_type": "code",
      "metadata": {
        "id": "thdcPT3PDtux",
        "colab_type": "code",
        "outputId": "12c8f68d-2cff-4036-a94e-0c2b31a7e794",
        "colab": {
          "base_uri": "https://localhost:8080/",
          "height": 359
        }
      },
      "source": [
        "test.head(10)"
      ],
      "execution_count": 37,
      "outputs": [
        {
          "output_type": "execute_result",
          "data": {
            "text/html": [
              "<div>\n",
              "<style scoped>\n",
              "    .dataframe tbody tr th:only-of-type {\n",
              "        vertical-align: middle;\n",
              "    }\n",
              "\n",
              "    .dataframe tbody tr th {\n",
              "        vertical-align: top;\n",
              "    }\n",
              "\n",
              "    .dataframe thead th {\n",
              "        text-align: right;\n",
              "    }\n",
              "</style>\n",
              "<table border=\"1\" class=\"dataframe\">\n",
              "  <thead>\n",
              "    <tr style=\"text-align: right;\">\n",
              "      <th></th>\n",
              "      <th>id</th>\n",
              "      <th>tube_assembly_id</th>\n",
              "      <th>supplier</th>\n",
              "      <th>quote_date</th>\n",
              "      <th>annual_usage</th>\n",
              "      <th>min_order_quantity</th>\n",
              "      <th>bracket_pricing</th>\n",
              "      <th>quantity</th>\n",
              "    </tr>\n",
              "  </thead>\n",
              "  <tbody>\n",
              "    <tr>\n",
              "      <th>0</th>\n",
              "      <td>1</td>\n",
              "      <td>TA-00001</td>\n",
              "      <td>S-0066</td>\n",
              "      <td>2013-06-23</td>\n",
              "      <td>0</td>\n",
              "      <td>0</td>\n",
              "      <td>Yes</td>\n",
              "      <td>1</td>\n",
              "    </tr>\n",
              "    <tr>\n",
              "      <th>1</th>\n",
              "      <td>2</td>\n",
              "      <td>TA-00001</td>\n",
              "      <td>S-0066</td>\n",
              "      <td>2013-06-23</td>\n",
              "      <td>0</td>\n",
              "      <td>0</td>\n",
              "      <td>Yes</td>\n",
              "      <td>2</td>\n",
              "    </tr>\n",
              "    <tr>\n",
              "      <th>2</th>\n",
              "      <td>3</td>\n",
              "      <td>TA-00001</td>\n",
              "      <td>S-0066</td>\n",
              "      <td>2013-06-23</td>\n",
              "      <td>0</td>\n",
              "      <td>0</td>\n",
              "      <td>Yes</td>\n",
              "      <td>5</td>\n",
              "    </tr>\n",
              "    <tr>\n",
              "      <th>3</th>\n",
              "      <td>4</td>\n",
              "      <td>TA-00001</td>\n",
              "      <td>S-0066</td>\n",
              "      <td>2013-06-23</td>\n",
              "      <td>0</td>\n",
              "      <td>0</td>\n",
              "      <td>Yes</td>\n",
              "      <td>10</td>\n",
              "    </tr>\n",
              "    <tr>\n",
              "      <th>4</th>\n",
              "      <td>5</td>\n",
              "      <td>TA-00001</td>\n",
              "      <td>S-0066</td>\n",
              "      <td>2013-06-23</td>\n",
              "      <td>0</td>\n",
              "      <td>0</td>\n",
              "      <td>Yes</td>\n",
              "      <td>25</td>\n",
              "    </tr>\n",
              "    <tr>\n",
              "      <th>5</th>\n",
              "      <td>6</td>\n",
              "      <td>TA-00001</td>\n",
              "      <td>S-0066</td>\n",
              "      <td>2013-06-23</td>\n",
              "      <td>0</td>\n",
              "      <td>0</td>\n",
              "      <td>Yes</td>\n",
              "      <td>50</td>\n",
              "    </tr>\n",
              "    <tr>\n",
              "      <th>6</th>\n",
              "      <td>7</td>\n",
              "      <td>TA-00001</td>\n",
              "      <td>S-0066</td>\n",
              "      <td>2013-06-23</td>\n",
              "      <td>0</td>\n",
              "      <td>0</td>\n",
              "      <td>Yes</td>\n",
              "      <td>100</td>\n",
              "    </tr>\n",
              "    <tr>\n",
              "      <th>7</th>\n",
              "      <td>8</td>\n",
              "      <td>TA-00001</td>\n",
              "      <td>S-0066</td>\n",
              "      <td>2013-06-23</td>\n",
              "      <td>0</td>\n",
              "      <td>0</td>\n",
              "      <td>Yes</td>\n",
              "      <td>250</td>\n",
              "    </tr>\n",
              "    <tr>\n",
              "      <th>8</th>\n",
              "      <td>9</td>\n",
              "      <td>TA-00003</td>\n",
              "      <td>S-0066</td>\n",
              "      <td>2013-07-07</td>\n",
              "      <td>0</td>\n",
              "      <td>0</td>\n",
              "      <td>Yes</td>\n",
              "      <td>1</td>\n",
              "    </tr>\n",
              "    <tr>\n",
              "      <th>9</th>\n",
              "      <td>10</td>\n",
              "      <td>TA-00003</td>\n",
              "      <td>S-0066</td>\n",
              "      <td>2013-07-07</td>\n",
              "      <td>0</td>\n",
              "      <td>0</td>\n",
              "      <td>Yes</td>\n",
              "      <td>2</td>\n",
              "    </tr>\n",
              "  </tbody>\n",
              "</table>\n",
              "</div>"
            ],
            "text/plain": [
              "   id tube_assembly_id supplier  ... min_order_quantity  bracket_pricing  quantity\n",
              "0   1         TA-00001   S-0066  ...                  0              Yes         1\n",
              "1   2         TA-00001   S-0066  ...                  0              Yes         2\n",
              "2   3         TA-00001   S-0066  ...                  0              Yes         5\n",
              "3   4         TA-00001   S-0066  ...                  0              Yes        10\n",
              "4   5         TA-00001   S-0066  ...                  0              Yes        25\n",
              "5   6         TA-00001   S-0066  ...                  0              Yes        50\n",
              "6   7         TA-00001   S-0066  ...                  0              Yes       100\n",
              "7   8         TA-00001   S-0066  ...                  0              Yes       250\n",
              "8   9         TA-00003   S-0066  ...                  0              Yes         1\n",
              "9  10         TA-00003   S-0066  ...                  0              Yes         2\n",
              "\n",
              "[10 rows x 8 columns]"
            ]
          },
          "metadata": {
            "tags": []
          },
          "execution_count": 37
        }
      ]
    },
    {
      "cell_type": "markdown",
      "metadata": {
        "id": "a06Ne1MPT4CO",
        "colab_type": "text"
      },
      "source": [
        "## 1.1 Adding tube.csv\n",
        "\n",
        "Assuming diameter represenets the diameter of the tube, length represent the length of the tube, and wall represent the thickness of the tube, we can then calculate the size of the tube materials to be diameter * pi * length * wall.  We will create a separate `tube_size` column to hold that information then add it to the training set."
      ]
    },
    {
      "cell_type": "code",
      "metadata": {
        "id": "LGmpKm9HEtKM",
        "colab_type": "code",
        "outputId": "78c30a58-2b98-46e1-8aa0-bcb7f2f229e8",
        "colab": {
          "base_uri": "https://localhost:8080/",
          "height": 204
        }
      },
      "source": [
        "tube.head()"
      ],
      "execution_count": 38,
      "outputs": [
        {
          "output_type": "execute_result",
          "data": {
            "text/html": [
              "<div>\n",
              "<style scoped>\n",
              "    .dataframe tbody tr th:only-of-type {\n",
              "        vertical-align: middle;\n",
              "    }\n",
              "\n",
              "    .dataframe tbody tr th {\n",
              "        vertical-align: top;\n",
              "    }\n",
              "\n",
              "    .dataframe thead th {\n",
              "        text-align: right;\n",
              "    }\n",
              "</style>\n",
              "<table border=\"1\" class=\"dataframe\">\n",
              "  <thead>\n",
              "    <tr style=\"text-align: right;\">\n",
              "      <th></th>\n",
              "      <th>tube_assembly_id</th>\n",
              "      <th>material_id</th>\n",
              "      <th>diameter</th>\n",
              "      <th>wall</th>\n",
              "      <th>length</th>\n",
              "      <th>num_bends</th>\n",
              "      <th>bend_radius</th>\n",
              "      <th>end_a_1x</th>\n",
              "      <th>end_a_2x</th>\n",
              "      <th>end_x_1x</th>\n",
              "      <th>end_x_2x</th>\n",
              "      <th>end_a</th>\n",
              "      <th>end_x</th>\n",
              "      <th>num_boss</th>\n",
              "      <th>num_bracket</th>\n",
              "      <th>other</th>\n",
              "    </tr>\n",
              "  </thead>\n",
              "  <tbody>\n",
              "    <tr>\n",
              "      <th>0</th>\n",
              "      <td>TA-00001</td>\n",
              "      <td>SP-0035</td>\n",
              "      <td>12.70</td>\n",
              "      <td>1.65</td>\n",
              "      <td>164.0</td>\n",
              "      <td>5</td>\n",
              "      <td>38.10</td>\n",
              "      <td>N</td>\n",
              "      <td>N</td>\n",
              "      <td>N</td>\n",
              "      <td>N</td>\n",
              "      <td>EF-003</td>\n",
              "      <td>EF-003</td>\n",
              "      <td>0</td>\n",
              "      <td>0</td>\n",
              "      <td>0</td>\n",
              "    </tr>\n",
              "    <tr>\n",
              "      <th>1</th>\n",
              "      <td>TA-00002</td>\n",
              "      <td>SP-0019</td>\n",
              "      <td>6.35</td>\n",
              "      <td>0.71</td>\n",
              "      <td>137.0</td>\n",
              "      <td>8</td>\n",
              "      <td>19.05</td>\n",
              "      <td>N</td>\n",
              "      <td>N</td>\n",
              "      <td>N</td>\n",
              "      <td>N</td>\n",
              "      <td>EF-008</td>\n",
              "      <td>EF-008</td>\n",
              "      <td>0</td>\n",
              "      <td>0</td>\n",
              "      <td>0</td>\n",
              "    </tr>\n",
              "    <tr>\n",
              "      <th>2</th>\n",
              "      <td>TA-00003</td>\n",
              "      <td>SP-0019</td>\n",
              "      <td>6.35</td>\n",
              "      <td>0.71</td>\n",
              "      <td>127.0</td>\n",
              "      <td>7</td>\n",
              "      <td>19.05</td>\n",
              "      <td>N</td>\n",
              "      <td>N</td>\n",
              "      <td>N</td>\n",
              "      <td>N</td>\n",
              "      <td>EF-008</td>\n",
              "      <td>EF-008</td>\n",
              "      <td>0</td>\n",
              "      <td>0</td>\n",
              "      <td>0</td>\n",
              "    </tr>\n",
              "    <tr>\n",
              "      <th>3</th>\n",
              "      <td>TA-00004</td>\n",
              "      <td>SP-0019</td>\n",
              "      <td>6.35</td>\n",
              "      <td>0.71</td>\n",
              "      <td>137.0</td>\n",
              "      <td>9</td>\n",
              "      <td>19.05</td>\n",
              "      <td>N</td>\n",
              "      <td>N</td>\n",
              "      <td>N</td>\n",
              "      <td>N</td>\n",
              "      <td>EF-008</td>\n",
              "      <td>EF-008</td>\n",
              "      <td>0</td>\n",
              "      <td>0</td>\n",
              "      <td>0</td>\n",
              "    </tr>\n",
              "    <tr>\n",
              "      <th>4</th>\n",
              "      <td>TA-00005</td>\n",
              "      <td>SP-0029</td>\n",
              "      <td>19.05</td>\n",
              "      <td>1.24</td>\n",
              "      <td>109.0</td>\n",
              "      <td>4</td>\n",
              "      <td>50.80</td>\n",
              "      <td>N</td>\n",
              "      <td>N</td>\n",
              "      <td>N</td>\n",
              "      <td>N</td>\n",
              "      <td>EF-003</td>\n",
              "      <td>EF-003</td>\n",
              "      <td>0</td>\n",
              "      <td>0</td>\n",
              "      <td>0</td>\n",
              "    </tr>\n",
              "  </tbody>\n",
              "</table>\n",
              "</div>"
            ],
            "text/plain": [
              "  tube_assembly_id material_id  diameter  ...  num_boss  num_bracket  other\n",
              "0         TA-00001     SP-0035     12.70  ...         0            0      0\n",
              "1         TA-00002     SP-0019      6.35  ...         0            0      0\n",
              "2         TA-00003     SP-0019      6.35  ...         0            0      0\n",
              "3         TA-00004     SP-0019      6.35  ...         0            0      0\n",
              "4         TA-00005     SP-0029     19.05  ...         0            0      0\n",
              "\n",
              "[5 rows x 16 columns]"
            ]
          },
          "metadata": {
            "tags": []
          },
          "execution_count": 38
        }
      ]
    },
    {
      "cell_type": "code",
      "metadata": {
        "id": "8mX5vE_eMfTI",
        "colab_type": "code",
        "outputId": "988cd2d7-a7b5-4f1a-81c5-f1ddc7355db7",
        "colab": {
          "base_uri": "https://localhost:8080/",
          "height": 34
        }
      },
      "source": [
        "tube.tube_assembly_id.nunique(), tube.shape"
      ],
      "execution_count": 39,
      "outputs": [
        {
          "output_type": "execute_result",
          "data": {
            "text/plain": [
              "(21198, (21198, 16))"
            ]
          },
          "metadata": {
            "tags": []
          },
          "execution_count": 39
        }
      ]
    },
    {
      "cell_type": "code",
      "metadata": {
        "id": "gzYDIxGHI7IX",
        "colab_type": "code",
        "colab": {}
      },
      "source": [
        "tube['tube_size'] = tube.diameter * np.pi * tube.length * tube.wall"
      ],
      "execution_count": 0,
      "outputs": []
    },
    {
      "cell_type": "markdown",
      "metadata": {
        "id": "-CQOJL61Ujcq",
        "colab_type": "text"
      },
      "source": [
        "## 1.2. Do a naive summary of the quantity of total components used for each `tube_assembly_id`. We will save those information to  `num_components` to be added with the training set."
      ]
    },
    {
      "cell_type": "code",
      "metadata": {
        "id": "HurlVwsWEU1-",
        "colab_type": "code",
        "outputId": "59676123-db4a-48c3-b4c2-92adec42a36a",
        "colab": {
          "base_uri": "https://localhost:8080/",
          "height": 224
        }
      },
      "source": [
        "bom.head()"
      ],
      "execution_count": 41,
      "outputs": [
        {
          "output_type": "execute_result",
          "data": {
            "text/html": [
              "<div>\n",
              "<style scoped>\n",
              "    .dataframe tbody tr th:only-of-type {\n",
              "        vertical-align: middle;\n",
              "    }\n",
              "\n",
              "    .dataframe tbody tr th {\n",
              "        vertical-align: top;\n",
              "    }\n",
              "\n",
              "    .dataframe thead th {\n",
              "        text-align: right;\n",
              "    }\n",
              "</style>\n",
              "<table border=\"1\" class=\"dataframe\">\n",
              "  <thead>\n",
              "    <tr style=\"text-align: right;\">\n",
              "      <th></th>\n",
              "      <th>tube_assembly_id</th>\n",
              "      <th>component_id_1</th>\n",
              "      <th>quantity_1</th>\n",
              "      <th>component_id_2</th>\n",
              "      <th>quantity_2</th>\n",
              "      <th>component_id_3</th>\n",
              "      <th>quantity_3</th>\n",
              "      <th>component_id_4</th>\n",
              "      <th>quantity_4</th>\n",
              "      <th>component_id_5</th>\n",
              "      <th>quantity_5</th>\n",
              "      <th>component_id_6</th>\n",
              "      <th>quantity_6</th>\n",
              "      <th>component_id_7</th>\n",
              "      <th>quantity_7</th>\n",
              "      <th>component_id_8</th>\n",
              "      <th>quantity_8</th>\n",
              "    </tr>\n",
              "  </thead>\n",
              "  <tbody>\n",
              "    <tr>\n",
              "      <th>0</th>\n",
              "      <td>TA-00001</td>\n",
              "      <td>C-1622</td>\n",
              "      <td>2.0</td>\n",
              "      <td>C-1629</td>\n",
              "      <td>2.0</td>\n",
              "      <td>NaN</td>\n",
              "      <td>NaN</td>\n",
              "      <td>NaN</td>\n",
              "      <td>NaN</td>\n",
              "      <td>NaN</td>\n",
              "      <td>NaN</td>\n",
              "      <td>NaN</td>\n",
              "      <td>NaN</td>\n",
              "      <td>NaN</td>\n",
              "      <td>NaN</td>\n",
              "      <td>NaN</td>\n",
              "      <td>NaN</td>\n",
              "    </tr>\n",
              "    <tr>\n",
              "      <th>1</th>\n",
              "      <td>TA-00002</td>\n",
              "      <td>C-1312</td>\n",
              "      <td>2.0</td>\n",
              "      <td>NaN</td>\n",
              "      <td>NaN</td>\n",
              "      <td>NaN</td>\n",
              "      <td>NaN</td>\n",
              "      <td>NaN</td>\n",
              "      <td>NaN</td>\n",
              "      <td>NaN</td>\n",
              "      <td>NaN</td>\n",
              "      <td>NaN</td>\n",
              "      <td>NaN</td>\n",
              "      <td>NaN</td>\n",
              "      <td>NaN</td>\n",
              "      <td>NaN</td>\n",
              "      <td>NaN</td>\n",
              "    </tr>\n",
              "    <tr>\n",
              "      <th>2</th>\n",
              "      <td>TA-00003</td>\n",
              "      <td>C-1312</td>\n",
              "      <td>2.0</td>\n",
              "      <td>NaN</td>\n",
              "      <td>NaN</td>\n",
              "      <td>NaN</td>\n",
              "      <td>NaN</td>\n",
              "      <td>NaN</td>\n",
              "      <td>NaN</td>\n",
              "      <td>NaN</td>\n",
              "      <td>NaN</td>\n",
              "      <td>NaN</td>\n",
              "      <td>NaN</td>\n",
              "      <td>NaN</td>\n",
              "      <td>NaN</td>\n",
              "      <td>NaN</td>\n",
              "      <td>NaN</td>\n",
              "    </tr>\n",
              "    <tr>\n",
              "      <th>3</th>\n",
              "      <td>TA-00004</td>\n",
              "      <td>C-1312</td>\n",
              "      <td>2.0</td>\n",
              "      <td>NaN</td>\n",
              "      <td>NaN</td>\n",
              "      <td>NaN</td>\n",
              "      <td>NaN</td>\n",
              "      <td>NaN</td>\n",
              "      <td>NaN</td>\n",
              "      <td>NaN</td>\n",
              "      <td>NaN</td>\n",
              "      <td>NaN</td>\n",
              "      <td>NaN</td>\n",
              "      <td>NaN</td>\n",
              "      <td>NaN</td>\n",
              "      <td>NaN</td>\n",
              "      <td>NaN</td>\n",
              "    </tr>\n",
              "    <tr>\n",
              "      <th>4</th>\n",
              "      <td>TA-00005</td>\n",
              "      <td>C-1624</td>\n",
              "      <td>1.0</td>\n",
              "      <td>C-1631</td>\n",
              "      <td>1.0</td>\n",
              "      <td>C-1641</td>\n",
              "      <td>1.0</td>\n",
              "      <td>NaN</td>\n",
              "      <td>NaN</td>\n",
              "      <td>NaN</td>\n",
              "      <td>NaN</td>\n",
              "      <td>NaN</td>\n",
              "      <td>NaN</td>\n",
              "      <td>NaN</td>\n",
              "      <td>NaN</td>\n",
              "      <td>NaN</td>\n",
              "      <td>NaN</td>\n",
              "    </tr>\n",
              "  </tbody>\n",
              "</table>\n",
              "</div>"
            ],
            "text/plain": [
              "  tube_assembly_id component_id_1  ...  component_id_8 quantity_8\n",
              "0         TA-00001         C-1622  ...             NaN        NaN\n",
              "1         TA-00002         C-1312  ...             NaN        NaN\n",
              "2         TA-00003         C-1312  ...             NaN        NaN\n",
              "3         TA-00004         C-1312  ...             NaN        NaN\n",
              "4         TA-00005         C-1624  ...             NaN        NaN\n",
              "\n",
              "[5 rows x 17 columns]"
            ]
          },
          "metadata": {
            "tags": []
          },
          "execution_count": 41
        }
      ]
    },
    {
      "cell_type": "code",
      "metadata": {
        "id": "tl4a2VZHGKIs",
        "colab_type": "code",
        "colab": {}
      },
      "source": [
        "# Sum the total components used while ignoring component_id as a heuristics\n",
        "bom['num_components'] = bom[['quantity_1', 'quantity_2', 'quantity_3', 'quantity_4', \"quantity_5\", 'quantity_6', 'quantity_7', 'quantity_8']].sum(axis=1)"
      ],
      "execution_count": 0,
      "outputs": []
    },
    {
      "cell_type": "code",
      "metadata": {
        "id": "nD2xKp0LG3vi",
        "colab_type": "code",
        "outputId": "d0ae3d50-0773-4ece-9522-a13174048876",
        "colab": {
          "base_uri": "https://localhost:8080/",
          "height": 224
        }
      },
      "source": [
        "bom.head()"
      ],
      "execution_count": 43,
      "outputs": [
        {
          "output_type": "execute_result",
          "data": {
            "text/html": [
              "<div>\n",
              "<style scoped>\n",
              "    .dataframe tbody tr th:only-of-type {\n",
              "        vertical-align: middle;\n",
              "    }\n",
              "\n",
              "    .dataframe tbody tr th {\n",
              "        vertical-align: top;\n",
              "    }\n",
              "\n",
              "    .dataframe thead th {\n",
              "        text-align: right;\n",
              "    }\n",
              "</style>\n",
              "<table border=\"1\" class=\"dataframe\">\n",
              "  <thead>\n",
              "    <tr style=\"text-align: right;\">\n",
              "      <th></th>\n",
              "      <th>tube_assembly_id</th>\n",
              "      <th>component_id_1</th>\n",
              "      <th>quantity_1</th>\n",
              "      <th>component_id_2</th>\n",
              "      <th>quantity_2</th>\n",
              "      <th>component_id_3</th>\n",
              "      <th>quantity_3</th>\n",
              "      <th>component_id_4</th>\n",
              "      <th>quantity_4</th>\n",
              "      <th>component_id_5</th>\n",
              "      <th>quantity_5</th>\n",
              "      <th>component_id_6</th>\n",
              "      <th>quantity_6</th>\n",
              "      <th>component_id_7</th>\n",
              "      <th>quantity_7</th>\n",
              "      <th>component_id_8</th>\n",
              "      <th>quantity_8</th>\n",
              "      <th>num_components</th>\n",
              "    </tr>\n",
              "  </thead>\n",
              "  <tbody>\n",
              "    <tr>\n",
              "      <th>0</th>\n",
              "      <td>TA-00001</td>\n",
              "      <td>C-1622</td>\n",
              "      <td>2.0</td>\n",
              "      <td>C-1629</td>\n",
              "      <td>2.0</td>\n",
              "      <td>NaN</td>\n",
              "      <td>NaN</td>\n",
              "      <td>NaN</td>\n",
              "      <td>NaN</td>\n",
              "      <td>NaN</td>\n",
              "      <td>NaN</td>\n",
              "      <td>NaN</td>\n",
              "      <td>NaN</td>\n",
              "      <td>NaN</td>\n",
              "      <td>NaN</td>\n",
              "      <td>NaN</td>\n",
              "      <td>NaN</td>\n",
              "      <td>4.0</td>\n",
              "    </tr>\n",
              "    <tr>\n",
              "      <th>1</th>\n",
              "      <td>TA-00002</td>\n",
              "      <td>C-1312</td>\n",
              "      <td>2.0</td>\n",
              "      <td>NaN</td>\n",
              "      <td>NaN</td>\n",
              "      <td>NaN</td>\n",
              "      <td>NaN</td>\n",
              "      <td>NaN</td>\n",
              "      <td>NaN</td>\n",
              "      <td>NaN</td>\n",
              "      <td>NaN</td>\n",
              "      <td>NaN</td>\n",
              "      <td>NaN</td>\n",
              "      <td>NaN</td>\n",
              "      <td>NaN</td>\n",
              "      <td>NaN</td>\n",
              "      <td>NaN</td>\n",
              "      <td>2.0</td>\n",
              "    </tr>\n",
              "    <tr>\n",
              "      <th>2</th>\n",
              "      <td>TA-00003</td>\n",
              "      <td>C-1312</td>\n",
              "      <td>2.0</td>\n",
              "      <td>NaN</td>\n",
              "      <td>NaN</td>\n",
              "      <td>NaN</td>\n",
              "      <td>NaN</td>\n",
              "      <td>NaN</td>\n",
              "      <td>NaN</td>\n",
              "      <td>NaN</td>\n",
              "      <td>NaN</td>\n",
              "      <td>NaN</td>\n",
              "      <td>NaN</td>\n",
              "      <td>NaN</td>\n",
              "      <td>NaN</td>\n",
              "      <td>NaN</td>\n",
              "      <td>NaN</td>\n",
              "      <td>2.0</td>\n",
              "    </tr>\n",
              "    <tr>\n",
              "      <th>3</th>\n",
              "      <td>TA-00004</td>\n",
              "      <td>C-1312</td>\n",
              "      <td>2.0</td>\n",
              "      <td>NaN</td>\n",
              "      <td>NaN</td>\n",
              "      <td>NaN</td>\n",
              "      <td>NaN</td>\n",
              "      <td>NaN</td>\n",
              "      <td>NaN</td>\n",
              "      <td>NaN</td>\n",
              "      <td>NaN</td>\n",
              "      <td>NaN</td>\n",
              "      <td>NaN</td>\n",
              "      <td>NaN</td>\n",
              "      <td>NaN</td>\n",
              "      <td>NaN</td>\n",
              "      <td>NaN</td>\n",
              "      <td>2.0</td>\n",
              "    </tr>\n",
              "    <tr>\n",
              "      <th>4</th>\n",
              "      <td>TA-00005</td>\n",
              "      <td>C-1624</td>\n",
              "      <td>1.0</td>\n",
              "      <td>C-1631</td>\n",
              "      <td>1.0</td>\n",
              "      <td>C-1641</td>\n",
              "      <td>1.0</td>\n",
              "      <td>NaN</td>\n",
              "      <td>NaN</td>\n",
              "      <td>NaN</td>\n",
              "      <td>NaN</td>\n",
              "      <td>NaN</td>\n",
              "      <td>NaN</td>\n",
              "      <td>NaN</td>\n",
              "      <td>NaN</td>\n",
              "      <td>NaN</td>\n",
              "      <td>NaN</td>\n",
              "      <td>3.0</td>\n",
              "    </tr>\n",
              "  </tbody>\n",
              "</table>\n",
              "</div>"
            ],
            "text/plain": [
              "  tube_assembly_id component_id_1  ...  quantity_8 num_components\n",
              "0         TA-00001         C-1622  ...         NaN            4.0\n",
              "1         TA-00002         C-1312  ...         NaN            2.0\n",
              "2         TA-00003         C-1312  ...         NaN            2.0\n",
              "3         TA-00004         C-1312  ...         NaN            2.0\n",
              "4         TA-00005         C-1624  ...         NaN            3.0\n",
              "\n",
              "[5 rows x 18 columns]"
            ]
          },
          "metadata": {
            "tags": []
          },
          "execution_count": 43
        }
      ]
    },
    {
      "cell_type": "code",
      "metadata": {
        "id": "53oMwCW6RTND",
        "colab_type": "code",
        "outputId": "b661a8e2-5f24-4686-d27a-857efdb7f168",
        "colab": {
          "base_uri": "https://localhost:8080/",
          "height": 119
        }
      },
      "source": [
        "bom.columns"
      ],
      "execution_count": 44,
      "outputs": [
        {
          "output_type": "execute_result",
          "data": {
            "text/plain": [
              "Index(['tube_assembly_id', 'component_id_1', 'quantity_1', 'component_id_2',\n",
              "       'quantity_2', 'component_id_3', 'quantity_3', 'component_id_4',\n",
              "       'quantity_4', 'component_id_5', 'quantity_5', 'component_id_6',\n",
              "       'quantity_6', 'component_id_7', 'quantity_7', 'component_id_8',\n",
              "       'quantity_8', 'num_components'],\n",
              "      dtype='object')"
            ]
          },
          "metadata": {
            "tags": []
          },
          "execution_count": 44
        }
      ]
    },
    {
      "cell_type": "markdown",
      "metadata": {
        "id": "gDopVvLzU2_R",
        "colab_type": "text"
      },
      "source": [
        "## 1.3 Merging and preprocessing.\n",
        "\n",
        "We are merging `tube_size` from `tube` dataframe and `num_components` from `bill_of_materials` dataframes into both training set and testing set.  We will also transform the `quote_date` column to datetime format."
      ]
    },
    {
      "cell_type": "code",
      "metadata": {
        "id": "PZbIXWQpI4ct",
        "colab_type": "code",
        "colab": {}
      },
      "source": [
        "trainval = pd.merge(trainval, tube[['tube_assembly_id', 'tube_size']], how='left', on='tube_assembly_id')\n",
        "trainval = pd.merge(trainval, bom[['tube_assembly_id', 'num_components']], how='left', on='tube_assembly_id')\n",
        "#trainval = pd.merge(trainval, tube, how='left', on='tube_assembly_id')\n",
        "#trainval = pd.merge(trainval, bom, how='left', on='tube_assembly_id')\n",
        "test = pd.merge(test, tube[['tube_assembly_id', 'tube_size']], how='left', on='tube_assembly_id')\n",
        "test = pd.merge(test, bom[['tube_assembly_id', 'num_components']], how='left', on='tube_assembly_id')\n",
        "#test = pd.merge(test, tube, how='left', on='tube_assembly_id')\n",
        "#test = pd.merge(test, bom, how='left', on='tube_assembly_id')\n",
        "test = test.drop(columns='id')"
      ],
      "execution_count": 0,
      "outputs": []
    },
    {
      "cell_type": "code",
      "metadata": {
        "id": "kjt_ZsmADuk3",
        "colab_type": "code",
        "colab": {}
      },
      "source": [
        "trainval['quote_date'] = pd.to_datetime(trainval['quote_date'], infer_datetime_format=True)\n",
        "trainval['quote_date_year'] = trainval['quote_date'].dt.year\n",
        "trainval['quote_date_month'] = trainval['quote_date'].dt.month\n",
        "trainval = trainval.drop(columns='quote_date')\n",
        "test['quote_date'] = pd.to_datetime(test['quote_date'], infer_datetime_format=True)\n",
        "test['quote_date_year'] = test['quote_date'].dt.year\n",
        "test['quote_date_month'] = test['quote_date'].dt.month\n",
        "test = test.drop(columns='quote_date');"
      ],
      "execution_count": 0,
      "outputs": []
    },
    {
      "cell_type": "code",
      "metadata": {
        "id": "exdrD5cndPgK",
        "colab_type": "code",
        "outputId": "72c70897-0b57-40aa-ed80-4dd482e04418",
        "colab": {
          "base_uri": "https://localhost:8080/",
          "height": 204
        }
      },
      "source": [
        "trainval.head()"
      ],
      "execution_count": 47,
      "outputs": [
        {
          "output_type": "execute_result",
          "data": {
            "text/html": [
              "<div>\n",
              "<style scoped>\n",
              "    .dataframe tbody tr th:only-of-type {\n",
              "        vertical-align: middle;\n",
              "    }\n",
              "\n",
              "    .dataframe tbody tr th {\n",
              "        vertical-align: top;\n",
              "    }\n",
              "\n",
              "    .dataframe thead th {\n",
              "        text-align: right;\n",
              "    }\n",
              "</style>\n",
              "<table border=\"1\" class=\"dataframe\">\n",
              "  <thead>\n",
              "    <tr style=\"text-align: right;\">\n",
              "      <th></th>\n",
              "      <th>tube_assembly_id</th>\n",
              "      <th>supplier</th>\n",
              "      <th>annual_usage</th>\n",
              "      <th>min_order_quantity</th>\n",
              "      <th>bracket_pricing</th>\n",
              "      <th>quantity</th>\n",
              "      <th>cost</th>\n",
              "      <th>tube_size</th>\n",
              "      <th>num_components</th>\n",
              "      <th>quote_date_year</th>\n",
              "      <th>quote_date_month</th>\n",
              "    </tr>\n",
              "  </thead>\n",
              "  <tbody>\n",
              "    <tr>\n",
              "      <th>0</th>\n",
              "      <td>TA-00002</td>\n",
              "      <td>S-0066</td>\n",
              "      <td>0</td>\n",
              "      <td>0</td>\n",
              "      <td>Yes</td>\n",
              "      <td>1</td>\n",
              "      <td>21.905933</td>\n",
              "      <td>1940.450256</td>\n",
              "      <td>2.0</td>\n",
              "      <td>2013</td>\n",
              "      <td>7</td>\n",
              "    </tr>\n",
              "    <tr>\n",
              "      <th>1</th>\n",
              "      <td>TA-00002</td>\n",
              "      <td>S-0066</td>\n",
              "      <td>0</td>\n",
              "      <td>0</td>\n",
              "      <td>Yes</td>\n",
              "      <td>2</td>\n",
              "      <td>12.341214</td>\n",
              "      <td>1940.450256</td>\n",
              "      <td>2.0</td>\n",
              "      <td>2013</td>\n",
              "      <td>7</td>\n",
              "    </tr>\n",
              "    <tr>\n",
              "      <th>2</th>\n",
              "      <td>TA-00002</td>\n",
              "      <td>S-0066</td>\n",
              "      <td>0</td>\n",
              "      <td>0</td>\n",
              "      <td>Yes</td>\n",
              "      <td>5</td>\n",
              "      <td>6.601826</td>\n",
              "      <td>1940.450256</td>\n",
              "      <td>2.0</td>\n",
              "      <td>2013</td>\n",
              "      <td>7</td>\n",
              "    </tr>\n",
              "    <tr>\n",
              "      <th>3</th>\n",
              "      <td>TA-00002</td>\n",
              "      <td>S-0066</td>\n",
              "      <td>0</td>\n",
              "      <td>0</td>\n",
              "      <td>Yes</td>\n",
              "      <td>10</td>\n",
              "      <td>4.687770</td>\n",
              "      <td>1940.450256</td>\n",
              "      <td>2.0</td>\n",
              "      <td>2013</td>\n",
              "      <td>7</td>\n",
              "    </tr>\n",
              "    <tr>\n",
              "      <th>4</th>\n",
              "      <td>TA-00002</td>\n",
              "      <td>S-0066</td>\n",
              "      <td>0</td>\n",
              "      <td>0</td>\n",
              "      <td>Yes</td>\n",
              "      <td>25</td>\n",
              "      <td>3.541561</td>\n",
              "      <td>1940.450256</td>\n",
              "      <td>2.0</td>\n",
              "      <td>2013</td>\n",
              "      <td>7</td>\n",
              "    </tr>\n",
              "  </tbody>\n",
              "</table>\n",
              "</div>"
            ],
            "text/plain": [
              "  tube_assembly_id supplier  ...  quote_date_year  quote_date_month\n",
              "0         TA-00002   S-0066  ...             2013                 7\n",
              "1         TA-00002   S-0066  ...             2013                 7\n",
              "2         TA-00002   S-0066  ...             2013                 7\n",
              "3         TA-00002   S-0066  ...             2013                 7\n",
              "4         TA-00002   S-0066  ...             2013                 7\n",
              "\n",
              "[5 rows x 11 columns]"
            ]
          },
          "metadata": {
            "tags": []
          },
          "execution_count": 47
        }
      ]
    },
    {
      "cell_type": "markdown",
      "metadata": {
        "id": "nM6QqLYWWeZs",
        "colab_type": "text"
      },
      "source": [
        "## 1.4 Training/Validation Split\n",
        "\n",
        "Test dataset has completely different `tube_assembly_id` compare to the training set.  Thus, we are splitting the training set based on `tube_assembly_id`."
      ]
    },
    {
      "cell_type": "code",
      "metadata": {
        "id": "iEdrAijAWdaQ",
        "colab_type": "code",
        "outputId": "84be8c00-d357-4960-b607-308cd34030a5",
        "colab": {
          "base_uri": "https://localhost:8080/",
          "height": 34
        }
      },
      "source": [
        "train_tube_assemblies = trainval['tube_assembly_id'].unique()\n",
        "test_tube_assemblies = test['tube_assembly_id'].unique()\n",
        "len(train_tube_assemblies), len(test_tube_assemblies)"
      ],
      "execution_count": 48,
      "outputs": [
        {
          "output_type": "execute_result",
          "data": {
            "text/plain": [
              "(8855, 8856)"
            ]
          },
          "metadata": {
            "tags": []
          },
          "execution_count": 48
        }
      ]
    },
    {
      "cell_type": "code",
      "metadata": {
        "id": "U5hYTFCsWdFW",
        "colab_type": "code",
        "outputId": "3874b0b6-408b-418d-d652-5c16b9e528da",
        "colab": {
          "base_uri": "https://localhost:8080/",
          "height": 34
        }
      },
      "source": [
        "set(train_tube_assemblies) & set(test_tube_assemblies)"
      ],
      "execution_count": 49,
      "outputs": [
        {
          "output_type": "execute_result",
          "data": {
            "text/plain": [
              "set()"
            ]
          },
          "metadata": {
            "tags": []
          },
          "execution_count": 49
        }
      ]
    },
    {
      "cell_type": "code",
      "metadata": {
        "id": "f5JHqmIua-z3",
        "colab_type": "code",
        "outputId": "00595539-3b5f-4b8b-8fb3-c8f42a5619c9",
        "colab": {
          "base_uri": "https://localhost:8080/",
          "height": 34
        }
      },
      "source": [
        "train_tube_assemblies, val_tube_assemblies = train_test_split(\n",
        "    train_tube_assemblies, random_state=45\n",
        ")\n",
        "len(train_tube_assemblies), len(val_tube_assemblies)"
      ],
      "execution_count": 50,
      "outputs": [
        {
          "output_type": "execute_result",
          "data": {
            "text/plain": [
              "(6641, 2214)"
            ]
          },
          "metadata": {
            "tags": []
          },
          "execution_count": 50
        }
      ]
    },
    {
      "cell_type": "code",
      "metadata": {
        "id": "jb8PX6HEa-v_",
        "colab_type": "code",
        "outputId": "fa15d42c-a3d2-419e-f0dc-ece148d711e8",
        "colab": {
          "base_uri": "https://localhost:8080/",
          "height": 34
        }
      },
      "source": [
        "set(train_tube_assemblies) & set(val_tube_assemblies)"
      ],
      "execution_count": 51,
      "outputs": [
        {
          "output_type": "execute_result",
          "data": {
            "text/plain": [
              "set()"
            ]
          },
          "metadata": {
            "tags": []
          },
          "execution_count": 51
        }
      ]
    },
    {
      "cell_type": "code",
      "metadata": {
        "id": "DcqTOmsra-ru",
        "colab_type": "code",
        "colab": {}
      },
      "source": [
        "train = trainval[trainval.tube_assembly_id.isin(train_tube_assemblies)]\n",
        "val = trainval[trainval.tube_assembly_id.isin(val_tube_assemblies)]\n",
        "assert train.shape[0] + val.shape[0] == trainval.shape[0]"
      ],
      "execution_count": 0,
      "outputs": []
    },
    {
      "cell_type": "markdown",
      "metadata": {
        "id": "MTm_u5Gva-m6",
        "colab_type": "text"
      },
      "source": [
        "#2 . Training"
      ]
    },
    {
      "cell_type": "code",
      "metadata": {
        "id": "9Bnjnpw9D2dv",
        "colab_type": "code",
        "colab": {}
      },
      "source": [
        "# root mean square log error\n",
        "def rmsle(y_true, y_pred):\n",
        "    return np.sqrt(mean_squared_log_error(y_true, y_pred))\n",
        "\n",
        "def rmse(y_true, y_pred):\n",
        "    return np.sqrt(mean_squared_error(y_true, y_pred))"
      ],
      "execution_count": 0,
      "outputs": []
    },
    {
      "cell_type": "code",
      "metadata": {
        "id": "Inoya81wkA2C",
        "colab_type": "code",
        "colab": {}
      },
      "source": [
        "features = trainval.columns.to_list()"
      ],
      "execution_count": 0,
      "outputs": []
    },
    {
      "cell_type": "code",
      "metadata": {
        "id": "a9jXI6eTkFCP",
        "colab_type": "code",
        "outputId": "890cfe26-ecd7-4de8-ddb2-c2fcca7fde01",
        "colab": {
          "base_uri": "https://localhost:8080/",
          "height": 204
        }
      },
      "source": [
        "features"
      ],
      "execution_count": 55,
      "outputs": [
        {
          "output_type": "execute_result",
          "data": {
            "text/plain": [
              "['tube_assembly_id',\n",
              " 'supplier',\n",
              " 'annual_usage',\n",
              " 'min_order_quantity',\n",
              " 'bracket_pricing',\n",
              " 'quantity',\n",
              " 'cost',\n",
              " 'tube_size',\n",
              " 'num_components',\n",
              " 'quote_date_year',\n",
              " 'quote_date_month']"
            ]
          },
          "metadata": {
            "tags": []
          },
          "execution_count": 55
        }
      ]
    },
    {
      "cell_type": "code",
      "metadata": {
        "id": "u07bssZKdJX6",
        "colab_type": "code",
        "outputId": "b7e8241e-1bc0-47cf-8198-6794c973d7a4",
        "colab": {
          "base_uri": "https://localhost:8080/",
          "height": 34
        }
      },
      "source": [
        "features.remove('tube_assembly_id')\n",
        "features.remove('cost')\n",
        "print(features)\n",
        "target = 'cost'"
      ],
      "execution_count": 56,
      "outputs": [
        {
          "output_type": "stream",
          "text": [
            "['supplier', 'annual_usage', 'min_order_quantity', 'bracket_pricing', 'quantity', 'tube_size', 'num_components', 'quote_date_year', 'quote_date_month']\n"
          ],
          "name": "stdout"
        }
      ]
    },
    {
      "cell_type": "code",
      "metadata": {
        "id": "pQO0xld0TuV7",
        "colab_type": "code",
        "colab": {}
      },
      "source": [
        "X_train = train[features]\n",
        "y_train = train[target]\n",
        "X_val = val[features]\n",
        "y_val = val[target]\n",
        "X_test = test[features]"
      ],
      "execution_count": 0,
      "outputs": []
    },
    {
      "cell_type": "code",
      "metadata": {
        "id": "D2-4wRN7fOax",
        "colab_type": "code",
        "outputId": "8507c10e-7f32-4cff-abda-1bd56eb7ede0",
        "colab": {
          "base_uri": "https://localhost:8080/",
          "height": 301
        }
      },
      "source": [
        "sns.distplot(X_train.tube_size)"
      ],
      "execution_count": 58,
      "outputs": [
        {
          "output_type": "execute_result",
          "data": {
            "text/plain": [
              "<matplotlib.axes._subplots.AxesSubplot at 0x7f088b66a128>"
            ]
          },
          "metadata": {
            "tags": []
          },
          "execution_count": 58
        },
        {
          "output_type": "display_data",
          "data": {
            "image/png": "[encoded data removed]",
            "text/plain": [
              "<Figure size 432x288 with 1 Axes>"
            ]
          },
          "metadata": {
            "tags": []
          }
        }
      ]
    },
    {
      "cell_type": "code",
      "metadata": {
        "id": "TcdKmihHTuiJ",
        "colab_type": "code",
        "outputId": "393a1d49-4877-4675-8e05-1a32abfc0338",
        "colab": {
          "base_uri": "https://localhost:8080/",
          "height": 301
        }
      },
      "source": [
        "sns.distplot(np.log1p(X_train.tube_size))"
      ],
      "execution_count": 59,
      "outputs": [
        {
          "output_type": "execute_result",
          "data": {
            "text/plain": [
              "<matplotlib.axes._subplots.AxesSubplot at 0x7f088b50d5c0>"
            ]
          },
          "metadata": {
            "tags": []
          },
          "execution_count": 59
        },
        {
          "output_type": "display_data",
          "data": {
            "image/png": "[encoded data removed]",
            "text/plain": [
              "<Figure size 432x288 with 1 Axes>"
            ]
          },
          "metadata": {
            "tags": []
          }
        }
      ]
    },
    {
      "cell_type": "code",
      "metadata": {
        "id": "_lVHtBbIgwlD",
        "colab_type": "code",
        "colab": {}
      },
      "source": [
        "y_train_log = np.log1p(y_train)\n",
        "y_val_log = np.log1p(y_val)"
      ],
      "execution_count": 0,
      "outputs": []
    },
    {
      "cell_type": "code",
      "metadata": {
        "id": "DW7RkkCWTum8",
        "colab_type": "code",
        "outputId": "3abe67bd-3bc6-4f2f-feeb-94565398d773",
        "colab": {
          "base_uri": "https://localhost:8080/",
          "height": 68
        }
      },
      "source": [
        "pipeline = make_pipeline(\n",
        "    ce.OrdinalEncoder(), \n",
        "    RandomForestRegressor(n_estimators=100, random_state=42, n_jobs=-1)\n",
        ")\n",
        "\n",
        "%time pipeline.fit(X_train, y_train_log)\n",
        "y_pred_log = pipeline.predict(X_val)\n",
        "rmse(y_val_log, y_pred_log)"
      ],
      "execution_count": 61,
      "outputs": [
        {
          "output_type": "stream",
          "text": [
            "CPU times: user 9.22 s, sys: 164 ms, total: 9.39 s\n",
            "Wall time: 4.91 s\n"
          ],
          "name": "stdout"
        },
        {
          "output_type": "execute_result",
          "data": {
            "text/plain": [
              "0.3363101800815872"
            ]
          },
          "metadata": {
            "tags": []
          },
          "execution_count": 61
        }
      ]
    },
    {
      "cell_type": "code",
      "metadata": {
        "id": "fdkHKL9xqPV8",
        "colab_type": "code",
        "outputId": "93c077bd-507f-4819-abb8-09e131eff0a1",
        "colab": {
          "base_uri": "https://localhost:8080/",
          "height": 731
        }
      },
      "source": [
        "#encoder = ce.OrdinalEncoder()\n",
        "#X_train_encoded = encoder.fit_transform(X_train)\n",
        "#X_val_encoded = encoder.transform(X_val)\n",
        "\n",
        "eval_set = [(X_train, y_train_log), \n",
        "            (X_val, y_val_log)]\n",
        "\n",
        "\"\"\"pipe = make_pipeline(\n",
        "    ce.OrdinalEncoder(),\n",
        "    xgb.XGBRegressor(n_estimators=1000, n_jobs=-1, early_stopping_rounds=10, eval_metric='rmse', eval_set=eval_set)\n",
        ")\n",
        "\n",
        "\"\"\"\n",
        "\n",
        "encoder = ce.OrdinalEncoder()\n",
        "xgbr = xgb.XGBRegressor(n_estimators=1000, n_jobs=-1, early_stopping_rounds=10, eval_metric='rmse', eval_set=eval_set)\n",
        "\n",
        "pipe = Pipeline(steps=[('encoder', encoder),\n",
        "                       ('xgb', xgbr)]\n",
        ")\n",
        "\n",
        "\n",
        "#model = XGBRegressor(n_estimators=1000, n_jobs=-1)\n",
        "%time pipe.fit(X_train, y_train_log)#, early_stopping_rounds=10, eval_metric='rmse', eval_set=eval_set)"
      ],
      "execution_count": 77,
      "outputs": [
        {
          "output_type": "stream",
          "text": [
            "/usr/local/lib/python3.6/dist-packages/xgboost/core.py:587: FutureWarning: Series.base is deprecated and will be removed in a future version\n",
            "  if getattr(data, 'base', None) is not None and \\\n"
          ],
          "name": "stderr"
        },
        {
          "output_type": "stream",
          "text": [
            "[20:57:35] WARNING: /workspace/src/objective/regression_obj.cu:152: reg:linear is now deprecated in favor of reg:squarederror.\n",
            "CPU times: user 15.2 s, sys: 47.3 ms, total: 15.3 s\n",
            "Wall time: 7.75 s\n"
          ],
          "name": "stdout"
        },
        {
          "output_type": "execute_result",
          "data": {
            "text/plain": [
              "Pipeline(memory=None,\n",
              "         steps=[('encoder',\n",
              "                 OrdinalEncoder(cols=['supplier', 'bracket_pricing'],\n",
              "                                drop_invariant=False, handle_missing='value',\n",
              "                                handle_unknown='value',\n",
              "                                mapping=[{'col': 'supplier',\n",
              "                                          'data_type': dtype('O'),\n",
              "                                          'mapping': S-0066     1\n",
              "S-0026     2\n",
              "S-0013     3\n",
              "S-0062     4\n",
              "S-0014     5\n",
              "S-0072     6\n",
              "S-0064     7\n",
              "S-0041     8\n",
              "S-0087     9\n",
              "S-0031    10\n",
              "S-0054    11\n",
              "S-0030    12\n",
              "S-0015    13\n",
              "S-0081    14\n",
              "S-0018    15\n",
              "S-0108    16\n",
              "S-0058    17\n",
              "S-0109...\n",
              "30209    1.964544\n",
              "30211    2.955647\n",
              "Name: cost, Length: 7529, dtype: float64)],\n",
              "                              gamma=0, importance_type='gain',\n",
              "                              learning_rate=0.1, max_delta_step=0, max_depth=3,\n",
              "                              min_child_weight=1, missing=None,\n",
              "                              n_estimators=1000, n_jobs=-1, nthread=None,\n",
              "                              objective='reg:linear', random_state=0,\n",
              "                              reg_alpha=0, reg_lambda=1, scale_pos_weight=1,\n",
              "                              seed=None, silent=None, subsample=1,\n",
              "                              verbosity=1))],\n",
              "         verbose=False)"
            ]
          },
          "metadata": {
            "tags": []
          },
          "execution_count": 77
        }
      ]
    },
    {
      "cell_type": "code",
      "metadata": {
        "id": "rl8SW6uFkgWO",
        "colab_type": "code",
        "colab": {}
      },
      "source": [
        "assert X_test.columns.tolist() == X_train.columns.tolist()"
      ],
      "execution_count": 0,
      "outputs": []
    },
    {
      "cell_type": "code",
      "metadata": {
        "id": "VoX9nCVvTuq5",
        "colab_type": "code",
        "colab": {}
      },
      "source": [
        "y_pred_log = pipe.predict(X_test)\n",
        "y_pred = np.expm1(y_pred_log)\n",
        "\n",
        "sample_submission = pd.read_csv('sample_submission.csv')\n",
        "submission = sample_submission.copy()\n",
        "submission['cost'] = y_pred\n",
        "submission.to_csv('submission-02.csv', index=False)"
      ],
      "execution_count": 0,
      "outputs": []
    },
    {
      "cell_type": "code",
      "metadata": {
        "id": "A60UtolgTuxR",
        "colab_type": "code",
        "outputId": "a32b2750-9f29-4681-9f36-0a7a7e6b5054",
        "colab": {
          "base_uri": "https://localhost:8080/",
          "height": 51
        }
      },
      "source": [
        "#!kaggle competitions submit -c caterpillar-tube-pricing -f submission-02.csv -m \"first\""
      ],
      "execution_count": 65,
      "outputs": [
        {
          "output_type": "stream",
          "text": [
            "100% 450k/450k [00:01<00:00, 234kB/s]\n",
            "Successfully submitted to Caterpillar Tube Pricing"
          ],
          "name": "stdout"
        }
      ]
    },
    {
      "cell_type": "code",
      "metadata": {
        "id": "fzeOugEtk25Q",
        "colab_type": "code",
        "colab": {}
      },
      "source": [
        "from xgboost import plot_importance"
      ],
      "execution_count": 0,
      "outputs": []
    },
    {
      "cell_type": "code",
      "metadata": {
        "id": "1P_TtAq06BCI",
        "colab_type": "code",
        "colab": {}
      },
      "source": [
        "bst = pipe.named_steps['xgb']"
      ],
      "execution_count": 0,
      "outputs": []
    },
    {
      "cell_type": "code",
      "metadata": {
        "id": "IABq4gbM6JeS",
        "colab_type": "code",
        "colab": {
          "base_uri": "https://localhost:8080/",
          "height": 312
        },
        "outputId": "8a4a06c1-7b24-4c03-d10b-f7a6b58be249"
      },
      "source": [
        "plot_importance(bst)"
      ],
      "execution_count": 80,
      "outputs": [
        {
          "output_type": "execute_result",
          "data": {
            "text/plain": [
              "<matplotlib.axes._subplots.AxesSubplot at 0x7f08856ce898>"
            ]
          },
          "metadata": {
            "tags": []
          },
          "execution_count": 80
        },
        {
          "output_type": "display_data",
          "data": {
            "image/png": "[encoded data removed]",
            "text/plain": [
              "<Figure size 432x288 with 1 Axes>"
            ]
          },
          "metadata": {
            "tags": []
          }
        }
      ]
    },
    {
      "cell_type": "code",
      "metadata": {
        "id": "cY-apf0J7bAf",
        "colab_type": "code",
        "colab": {}
      },
      "source": [
        ""
      ],
      "execution_count": 0,
      "outputs": []
    },
    {
      "cell_type": "code",
      "metadata": {
        "id": "I-yiZtkXFKsB",
        "colab_type": "code",
        "colab": {
          "base_uri": "https://localhost:8080/",
          "height": 85
        },
        "outputId": "a193763d-8cd0-4d29-a2fb-15bdbccd37d7"
      },
      "source": [
        "X_val.columns"
      ],
      "execution_count": 84,
      "outputs": [
        {
          "output_type": "execute_result",
          "data": {
            "text/plain": [
              "Index(['supplier', 'annual_usage', 'min_order_quantity', 'bracket_pricing',\n",
              "       'quantity', 'tube_size', 'num_components', 'quote_date_year',\n",
              "       'quote_date_month'],\n",
              "      dtype='object')"
            ]
          },
          "metadata": {
            "tags": []
          },
          "execution_count": 84
        }
      ]
    },
    {
      "cell_type": "code",
      "metadata": {
        "id": "p5TAooOt8TnC",
        "colab_type": "code",
        "colab": {
          "base_uri": "https://localhost:8080/",
          "height": 583
        },
        "outputId": "a0e0cd28-fcd9-4bc5-e9cc-9a87851f0971"
      },
      "source": [
        "feature = 'tube_size'\n",
        "\n",
        "isolated = pdp_isolate(\n",
        "    model=pipe, \n",
        "    dataset=X_val, \n",
        "    model_features=X_val.columns, \n",
        "    feature=feature\n",
        ")\n",
        "\n",
        "pdp_plot(isolated, feature_name=feature);"
      ],
      "execution_count": 83,
      "outputs": [
        {
          "output_type": "display_data",
          "data": {
            "image/png": "[encoded data removed]",
            "text/plain": [
              "<Figure size 1080x684 with 2 Axes>"
            ]
          },
          "metadata": {
            "tags": []
          }
        }
      ]
    },
    {
      "cell_type": "code",
      "metadata": {
        "id": "yLo5HYnF8fpr",
        "colab_type": "code",
        "colab": {
          "base_uri": "https://localhost:8080/",
          "height": 585
        },
        "outputId": "78e634aa-1129-496d-d761-77489ba376b5"
      },
      "source": [
        "features = ['quantity', 'min_order_quantity']\n",
        "\n",
        "interaction = pdp_interact(\n",
        "    model=pipe, \n",
        "    dataset=X_val, \n",
        "    model_features=X_val.columns, \n",
        "    features=features\n",
        ")\n",
        "\n",
        "#pdp_plot(isolated, feature_name=feature);\n",
        "pdp_interact_plot(interaction, plot_type='grid', feature_names=features);"
      ],
      "execution_count": 90,
      "outputs": [
        {
          "output_type": "display_data",
          "data": {
            "image/png": "[encoded data removed]",
            "text/plain": [
              "<Figure size 540x684 with 3 Axes>"
            ]
          },
          "metadata": {
            "tags": []
          }
        }
      ]
    },
    {
      "cell_type": "code",
      "metadata": {
        "id": "zKqtbgcJFW4f",
        "colab_type": "code",
        "colab": {}
      },
      "source": [
        ""
      ],
      "execution_count": 0,
      "outputs": []
    }
  ]
}