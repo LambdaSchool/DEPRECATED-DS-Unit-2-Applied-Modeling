{
  "nbformat": 4,
  "nbformat_minor": 0,
  "metadata": {
    "colab": {
      "name": "Log_Linear_Regression_Assignment",
      "version": "0.3.2",
      "provenance": [],
      "include_colab_link": true
    },
    "kernelspec": {
      "name": "python3",
      "display_name": "Python 3"
    }
  },
  "cells": [
    {
      "cell_type": "markdown",
      "metadata": {
        "id": "view-in-github",
        "colab_type": "text"
      },
      "source": [
        "<a href=\"https://colab.research.google.com/github/zevan07/DS-Unit-2-Applied-Modeling/blob/master/Model%20Interpretation.ipynb\" target=\"_parent\"><img src=\"https://colab.research.google.com/assets/colab-badge.svg\" alt=\"Open In Colab\"/></a>"
      ]
    },
    {
      "cell_type": "code",
      "metadata": {
        "id": "aOQSZ736sBGL",
        "colab_type": "code",
        "outputId": "f74143c5-1093-4062-dbff-a6e515141eb3",
        "colab": {
          "base_uri": "https://localhost:8080/",
          "height": 263
        }
      },
      "source": [
        "!wget https://raw.githubusercontent.com/LambdaSchool/DS-Unit-2-Applied-Modeling/master/data/caterpillar/caterpillar-tube-pricing.zip"
      ],
      "execution_count": 2,
      "outputs": [
        {
          "output_type": "stream",
          "text": [
            "--2019-07-25 21:05:05--  https://raw.githubusercontent.com/LambdaSchool/DS-Unit-2-Applied-Modeling/master/data/caterpillar/caterpillar-tube-pricing.zip\n",
            "Resolving raw.githubusercontent.com (raw.githubusercontent.com)... 151.101.0.133, 151.101.64.133, 151.101.128.133, ...\n",
            "Connecting to raw.githubusercontent.com (raw.githubusercontent.com)|151.101.0.133|:443... connected.\n",
            "HTTP request sent, awaiting response... 200 OK\n",
            "Length: 823789 (804K) [application/zip]\n",
            "Saving to: ‘caterpillar-tube-pricing.zip’\n",
            "\n",
            "\r          caterpill   0%[                    ]       0  --.-KB/s               \rcaterpillar-tube-pr 100%[===================>] 804.48K  --.-KB/s    in 0.06s   \n",
            "\n",
            "2019-07-25 21:05:06 (12.6 MB/s) - ‘caterpillar-tube-pricing.zip’ saved [823789/823789]\n",
            "\n"
          ],
          "name": "stdout"
        }
      ]
    },
    {
      "cell_type": "code",
      "metadata": {
        "id": "q4YIQASVsM9Q",
        "colab_type": "code",
        "outputId": "6290e640-9a19-45a1-c226-18996a0545db",
        "colab": {
          "base_uri": "https://localhost:8080/",
          "height": 63
        }
      },
      "source": [
        "!ls *.zip"
      ],
      "execution_count": 3,
      "outputs": [
        {
          "output_type": "stream",
          "text": [
            "caterpillar-tube-pricing.zip\n"
          ],
          "name": "stdout"
        }
      ]
    },
    {
      "cell_type": "code",
      "metadata": {
        "id": "ZXWgHJeWsOp5",
        "colab_type": "code",
        "outputId": "86163318-7ec1-41d0-bcc8-38c873d7ecbe",
        "colab": {
          "base_uri": "https://localhost:8080/",
          "height": 97
        }
      },
      "source": [
        "!unzip caterpillar-tube-pricing.zip"
      ],
      "execution_count": 4,
      "outputs": [
        {
          "output_type": "stream",
          "text": [
            "Archive:  caterpillar-tube-pricing.zip\n",
            "  inflating: sample_submission.csv   \n",
            "  inflating: data.zip                \n"
          ],
          "name": "stdout"
        }
      ]
    },
    {
      "cell_type": "code",
      "metadata": {
        "id": "GOV0g8LRsSTS",
        "colab_type": "code",
        "outputId": "b5d4ff86-538d-4443-d671-478ffac67e53",
        "colab": {
          "base_uri": "https://localhost:8080/",
          "height": 437
        }
      },
      "source": [
        "!unzip data.zip"
      ],
      "execution_count": 5,
      "outputs": [
        {
          "output_type": "stream",
          "text": [
            "Archive:  data.zip\n",
            "   creating: competition_data/\n",
            "  inflating: competition_data/bill_of_materials.csv  \n",
            "  inflating: competition_data/comp_adaptor.csv  \n",
            "  inflating: competition_data/comp_boss.csv  \n",
            "  inflating: competition_data/comp_elbow.csv  \n",
            "  inflating: competition_data/comp_float.csv  \n",
            "  inflating: competition_data/comp_hfl.csv  \n",
            "  inflating: competition_data/comp_nut.csv  \n",
            "  inflating: competition_data/comp_other.csv  \n",
            "  inflating: competition_data/comp_sleeve.csv  \n",
            "  inflating: competition_data/comp_straight.csv  \n",
            "  inflating: competition_data/comp_tee.csv  \n",
            "  inflating: competition_data/comp_threaded.csv  \n",
            "  inflating: competition_data/components.csv  \n",
            "  inflating: competition_data/specs.csv  \n",
            "  inflating: competition_data/test_set.csv  \n",
            "  inflating: competition_data/train_set.csv  \n",
            "  inflating: competition_data/tube.csv  \n",
            "  inflating: competition_data/tube_end_form.csv  \n",
            "  inflating: competition_data/type_component.csv  \n",
            "  inflating: competition_data/type_connection.csv  \n",
            "  inflating: competition_data/type_end_form.csv  \n"
          ],
          "name": "stdout"
        }
      ]
    },
    {
      "cell_type": "code",
      "metadata": {
        "id": "orGGd-FpsTr5",
        "colab_type": "code",
        "outputId": "b848adc1-0e6b-47ec-f535-29692cdcf3e4",
        "colab": {
          "base_uri": "https://localhost:8080/",
          "height": 374
        }
      },
      "source": [
        "from glob import glob\n",
        "import pandas as pd\n",
        "\n",
        "for path in glob('competition_data/*.csv'):\n",
        "    df = pd.read_csv(path)\n",
        "    print(path, df.shape)"
      ],
      "execution_count": 6,
      "outputs": [
        {
          "output_type": "stream",
          "text": [
            "competition_data/comp_other.csv (1001, 3)\n",
            "competition_data/comp_adaptor.csv (25, 20)\n",
            "competition_data/components.csv (2048, 3)\n",
            "competition_data/type_end_form.csv (8, 2)\n",
            "competition_data/tube.csv (21198, 16)\n",
            "competition_data/comp_elbow.csv (178, 16)\n",
            "competition_data/type_connection.csv (14, 2)\n",
            "competition_data/train_set.csv (30213, 8)\n",
            "competition_data/comp_tee.csv (4, 14)\n",
            "competition_data/comp_straight.csv (361, 12)\n",
            "competition_data/comp_float.csv (16, 7)\n",
            "competition_data/comp_boss.csv (147, 15)\n",
            "competition_data/comp_hfl.csv (6, 9)\n",
            "competition_data/comp_nut.csv (65, 11)\n",
            "competition_data/tube_end_form.csv (27, 2)\n",
            "competition_data/comp_sleeve.csv (50, 10)\n",
            "competition_data/test_set.csv (30235, 8)\n",
            "competition_data/bill_of_materials.csv (21198, 17)\n",
            "competition_data/comp_threaded.csv (194, 32)\n",
            "competition_data/specs.csv (21198, 11)\n",
            "competition_data/type_component.csv (29, 2)\n"
          ],
          "name": "stdout"
        }
      ]
    },
    {
      "cell_type": "code",
      "metadata": {
        "id": "YUPbs01Psf1f",
        "colab_type": "code",
        "colab": {}
      },
      "source": [
        "import numpy as np\n",
        "from sklearn.metrics import mean_squared_log_error\n",
        "\n",
        "def rmsle(y_true, y_pred):\n",
        "    return np.sqrt(mean_squared_log_error(y_true, y_pred))"
      ],
      "execution_count": 0,
      "outputs": []
    },
    {
      "cell_type": "code",
      "metadata": {
        "id": "ZPPcTVI-tP98",
        "colab_type": "code",
        "colab": {}
      },
      "source": [
        "trainval = pd.read_csv('competition_data/train_set.csv')\n",
        "test = pd.read_csv('competition_data/test_set.csv')"
      ],
      "execution_count": 0,
      "outputs": []
    },
    {
      "cell_type": "code",
      "metadata": {
        "id": "gHNgRrNotb3G",
        "colab_type": "code",
        "outputId": "52083958-85ed-451c-c4b4-46b98a28c2a6",
        "colab": {
          "base_uri": "https://localhost:8080/",
          "height": 229
        }
      },
      "source": [
        "trainval.head()"
      ],
      "execution_count": 9,
      "outputs": [
        {
          "output_type": "execute_result",
          "data": {
            "text/html": [
              "<div>\n",
              "<style scoped>\n",
              "    .dataframe tbody tr th:only-of-type {\n",
              "        vertical-align: middle;\n",
              "    }\n",
              "\n",
              "    .dataframe tbody tr th {\n",
              "        vertical-align: top;\n",
              "    }\n",
              "\n",
              "    .dataframe thead th {\n",
              "        text-align: right;\n",
              "    }\n",
              "</style>\n",
              "<table border=\"1\" class=\"dataframe\">\n",
              "  <thead>\n",
              "    <tr style=\"text-align: right;\">\n",
              "      <th></th>\n",
              "      <th>tube_assembly_id</th>\n",
              "      <th>supplier</th>\n",
              "      <th>quote_date</th>\n",
              "      <th>annual_usage</th>\n",
              "      <th>min_order_quantity</th>\n",
              "      <th>bracket_pricing</th>\n",
              "      <th>quantity</th>\n",
              "      <th>cost</th>\n",
              "    </tr>\n",
              "  </thead>\n",
              "  <tbody>\n",
              "    <tr>\n",
              "      <th>0</th>\n",
              "      <td>TA-00002</td>\n",
              "      <td>S-0066</td>\n",
              "      <td>2013-07-07</td>\n",
              "      <td>0</td>\n",
              "      <td>0</td>\n",
              "      <td>Yes</td>\n",
              "      <td>1</td>\n",
              "      <td>21.905933</td>\n",
              "    </tr>\n",
              "    <tr>\n",
              "      <th>1</th>\n",
              "      <td>TA-00002</td>\n",
              "      <td>S-0066</td>\n",
              "      <td>2013-07-07</td>\n",
              "      <td>0</td>\n",
              "      <td>0</td>\n",
              "      <td>Yes</td>\n",
              "      <td>2</td>\n",
              "      <td>12.341214</td>\n",
              "    </tr>\n",
              "    <tr>\n",
              "      <th>2</th>\n",
              "      <td>TA-00002</td>\n",
              "      <td>S-0066</td>\n",
              "      <td>2013-07-07</td>\n",
              "      <td>0</td>\n",
              "      <td>0</td>\n",
              "      <td>Yes</td>\n",
              "      <td>5</td>\n",
              "      <td>6.601826</td>\n",
              "    </tr>\n",
              "    <tr>\n",
              "      <th>3</th>\n",
              "      <td>TA-00002</td>\n",
              "      <td>S-0066</td>\n",
              "      <td>2013-07-07</td>\n",
              "      <td>0</td>\n",
              "      <td>0</td>\n",
              "      <td>Yes</td>\n",
              "      <td>10</td>\n",
              "      <td>4.687770</td>\n",
              "    </tr>\n",
              "    <tr>\n",
              "      <th>4</th>\n",
              "      <td>TA-00002</td>\n",
              "      <td>S-0066</td>\n",
              "      <td>2013-07-07</td>\n",
              "      <td>0</td>\n",
              "      <td>0</td>\n",
              "      <td>Yes</td>\n",
              "      <td>25</td>\n",
              "      <td>3.541561</td>\n",
              "    </tr>\n",
              "  </tbody>\n",
              "</table>\n",
              "</div>"
            ],
            "text/plain": [
              "  tube_assembly_id supplier  quote_date  ...  bracket_pricing  quantity       cost\n",
              "0         TA-00002   S-0066  2013-07-07  ...              Yes         1  21.905933\n",
              "1         TA-00002   S-0066  2013-07-07  ...              Yes         2  12.341214\n",
              "2         TA-00002   S-0066  2013-07-07  ...              Yes         5   6.601826\n",
              "3         TA-00002   S-0066  2013-07-07  ...              Yes        10   4.687770\n",
              "4         TA-00002   S-0066  2013-07-07  ...              Yes        25   3.541561\n",
              "\n",
              "[5 rows x 8 columns]"
            ]
          },
          "metadata": {
            "tags": []
          },
          "execution_count": 9
        }
      ]
    },
    {
      "cell_type": "code",
      "metadata": {
        "id": "IzpPR5d2tdbq",
        "colab_type": "code",
        "outputId": "9d0710d5-f64e-499b-963c-05e739830e83",
        "colab": {
          "base_uri": "https://localhost:8080/",
          "height": 229
        }
      },
      "source": [
        "test.head()"
      ],
      "execution_count": 10,
      "outputs": [
        {
          "output_type": "execute_result",
          "data": {
            "text/html": [
              "<div>\n",
              "<style scoped>\n",
              "    .dataframe tbody tr th:only-of-type {\n",
              "        vertical-align: middle;\n",
              "    }\n",
              "\n",
              "    .dataframe tbody tr th {\n",
              "        vertical-align: top;\n",
              "    }\n",
              "\n",
              "    .dataframe thead th {\n",
              "        text-align: right;\n",
              "    }\n",
              "</style>\n",
              "<table border=\"1\" class=\"dataframe\">\n",
              "  <thead>\n",
              "    <tr style=\"text-align: right;\">\n",
              "      <th></th>\n",
              "      <th>id</th>\n",
              "      <th>tube_assembly_id</th>\n",
              "      <th>supplier</th>\n",
              "      <th>quote_date</th>\n",
              "      <th>annual_usage</th>\n",
              "      <th>min_order_quantity</th>\n",
              "      <th>bracket_pricing</th>\n",
              "      <th>quantity</th>\n",
              "    </tr>\n",
              "  </thead>\n",
              "  <tbody>\n",
              "    <tr>\n",
              "      <th>0</th>\n",
              "      <td>1</td>\n",
              "      <td>TA-00001</td>\n",
              "      <td>S-0066</td>\n",
              "      <td>2013-06-23</td>\n",
              "      <td>0</td>\n",
              "      <td>0</td>\n",
              "      <td>Yes</td>\n",
              "      <td>1</td>\n",
              "    </tr>\n",
              "    <tr>\n",
              "      <th>1</th>\n",
              "      <td>2</td>\n",
              "      <td>TA-00001</td>\n",
              "      <td>S-0066</td>\n",
              "      <td>2013-06-23</td>\n",
              "      <td>0</td>\n",
              "      <td>0</td>\n",
              "      <td>Yes</td>\n",
              "      <td>2</td>\n",
              "    </tr>\n",
              "    <tr>\n",
              "      <th>2</th>\n",
              "      <td>3</td>\n",
              "      <td>TA-00001</td>\n",
              "      <td>S-0066</td>\n",
              "      <td>2013-06-23</td>\n",
              "      <td>0</td>\n",
              "      <td>0</td>\n",
              "      <td>Yes</td>\n",
              "      <td>5</td>\n",
              "    </tr>\n",
              "    <tr>\n",
              "      <th>3</th>\n",
              "      <td>4</td>\n",
              "      <td>TA-00001</td>\n",
              "      <td>S-0066</td>\n",
              "      <td>2013-06-23</td>\n",
              "      <td>0</td>\n",
              "      <td>0</td>\n",
              "      <td>Yes</td>\n",
              "      <td>10</td>\n",
              "    </tr>\n",
              "    <tr>\n",
              "      <th>4</th>\n",
              "      <td>5</td>\n",
              "      <td>TA-00001</td>\n",
              "      <td>S-0066</td>\n",
              "      <td>2013-06-23</td>\n",
              "      <td>0</td>\n",
              "      <td>0</td>\n",
              "      <td>Yes</td>\n",
              "      <td>25</td>\n",
              "    </tr>\n",
              "  </tbody>\n",
              "</table>\n",
              "</div>"
            ],
            "text/plain": [
              "   id tube_assembly_id supplier  ... min_order_quantity  bracket_pricing  quantity\n",
              "0   1         TA-00001   S-0066  ...                  0              Yes         1\n",
              "1   2         TA-00001   S-0066  ...                  0              Yes         2\n",
              "2   3         TA-00001   S-0066  ...                  0              Yes         5\n",
              "3   4         TA-00001   S-0066  ...                  0              Yes        10\n",
              "4   5         TA-00001   S-0066  ...                  0              Yes        25\n",
              "\n",
              "[5 rows x 8 columns]"
            ]
          },
          "metadata": {
            "tags": []
          },
          "execution_count": 10
        }
      ]
    },
    {
      "cell_type": "code",
      "metadata": {
        "id": "T0jWML8ItgXG",
        "colab_type": "code",
        "colab": {}
      },
      "source": [
        "trainval['quote_date'] = pd.to_datetime(trainval['quote_date'], infer_datetime_format=True)\n",
        "test['quote_date'] = pd.to_datetime(test['quote_date'], infer_datetime_format=True)"
      ],
      "execution_count": 0,
      "outputs": []
    },
    {
      "cell_type": "code",
      "metadata": {
        "id": "Feu6HfsBt1O7",
        "colab_type": "code",
        "outputId": "36ea6f46-a451-421b-e76e-892bd45038a4",
        "colab": {
          "base_uri": "https://localhost:8080/",
          "height": 136
        }
      },
      "source": [
        "trainval['quote_date'].describe()"
      ],
      "execution_count": 12,
      "outputs": [
        {
          "output_type": "execute_result",
          "data": {
            "text/plain": [
              "count                   30213\n",
              "unique                   1781\n",
              "top       2013-10-01 00:00:00\n",
              "freq                     2877\n",
              "first     1982-09-22 00:00:00\n",
              "last      2017-01-01 00:00:00\n",
              "Name: quote_date, dtype: object"
            ]
          },
          "metadata": {
            "tags": []
          },
          "execution_count": 12
        }
      ]
    },
    {
      "cell_type": "code",
      "metadata": {
        "id": "dHJFMTX6t4Ot",
        "colab_type": "code",
        "outputId": "d66abcfb-c899-4aac-af7b-b5cefeacad6e",
        "colab": {
          "base_uri": "https://localhost:8080/",
          "height": 136
        }
      },
      "source": [
        "test['quote_date'].describe()"
      ],
      "execution_count": 13,
      "outputs": [
        {
          "output_type": "execute_result",
          "data": {
            "text/plain": [
              "count                   30235\n",
              "unique                   1778\n",
              "top       2013-09-01 00:00:00\n",
              "freq                     2992\n",
              "first     1985-11-16 00:00:00\n",
              "last      2017-01-01 00:00:00\n",
              "Name: quote_date, dtype: object"
            ]
          },
          "metadata": {
            "tags": []
          },
          "execution_count": 13
        }
      ]
    },
    {
      "cell_type": "code",
      "metadata": {
        "id": "ShLOCU2Mt8Yx",
        "colab_type": "code",
        "outputId": "4bfc0cfb-0d9c-4851-de46-0cef9bd67534",
        "colab": {
          "base_uri": "https://localhost:8080/",
          "height": 34
        }
      },
      "source": [
        "trainval_tube_assemblies = trainval['tube_assembly_id'].unique()\n",
        "test_tube_assemblies = test['tube_assembly_id'].unique()\n",
        "len(trainval_tube_assemblies), len(test_tube_assemblies)"
      ],
      "execution_count": 14,
      "outputs": [
        {
          "output_type": "execute_result",
          "data": {
            "text/plain": [
              "(8855, 8856)"
            ]
          },
          "metadata": {
            "tags": []
          },
          "execution_count": 14
        }
      ]
    },
    {
      "cell_type": "code",
      "metadata": {
        "id": "eJLP2MlEuKf0",
        "colab_type": "code",
        "outputId": "d3e67ec4-16de-4dc4-e875-2c62b673ee10",
        "colab": {
          "base_uri": "https://localhost:8080/",
          "height": 34
        }
      },
      "source": [
        "set(trainval_tube_assemblies) & set(test_tube_assemblies)\n",
        "#val and test have different tube assemblies"
      ],
      "execution_count": 15,
      "outputs": [
        {
          "output_type": "execute_result",
          "data": {
            "text/plain": [
              "set()"
            ]
          },
          "metadata": {
            "tags": []
          },
          "execution_count": 15
        }
      ]
    },
    {
      "cell_type": "markdown",
      "metadata": {
        "id": "--gKAScyvsYd",
        "colab_type": "text"
      },
      "source": [
        "### Matching up the validation set with the test set"
      ]
    },
    {
      "cell_type": "code",
      "metadata": {
        "id": "aFLkbPurumml",
        "colab_type": "code",
        "outputId": "6d828608-b63c-411a-d161-292a90fcd9bd",
        "colab": {
          "base_uri": "https://localhost:8080/",
          "height": 76
        }
      },
      "source": [
        "trainval_tube_assemblies"
      ],
      "execution_count": 16,
      "outputs": [
        {
          "output_type": "execute_result",
          "data": {
            "text/plain": [
              "array(['TA-00002', 'TA-00004', 'TA-00005', ..., 'TA-21195', 'TA-21196',\n",
              "       'TA-21197'], dtype=object)"
            ]
          },
          "metadata": {
            "tags": []
          },
          "execution_count": 16
        }
      ]
    },
    {
      "cell_type": "code",
      "metadata": {
        "id": "SXeH2kzjupGq",
        "colab_type": "code",
        "colab": {}
      },
      "source": [
        "from sklearn.model_selection import train_test_split\n",
        "train_tube_assemblies, val_tube_assemblies = train_test_split(\n",
        "    trainval_tube_assemblies, random_state=42\n",
        ")"
      ],
      "execution_count": 0,
      "outputs": []
    },
    {
      "cell_type": "code",
      "metadata": {
        "id": "68tJYojCu3yO",
        "colab_type": "code",
        "outputId": "71a548f0-7748-4860-a6d3-da467f04886b",
        "colab": {
          "base_uri": "https://localhost:8080/",
          "height": 34
        }
      },
      "source": [
        "len(train_tube_assemblies), len(val_tube_assemblies)"
      ],
      "execution_count": 18,
      "outputs": [
        {
          "output_type": "execute_result",
          "data": {
            "text/plain": [
              "(6641, 2214)"
            ]
          },
          "metadata": {
            "tags": []
          },
          "execution_count": 18
        }
      ]
    },
    {
      "cell_type": "code",
      "metadata": {
        "id": "sPCNWtPou7Fi",
        "colab_type": "code",
        "outputId": "5316375a-cdab-4bfb-a7cc-524f29199f8d",
        "colab": {
          "base_uri": "https://localhost:8080/",
          "height": 34
        }
      },
      "source": [
        "set(train_tube_assemblies) & set(val_tube_assemblies)"
      ],
      "execution_count": 19,
      "outputs": [
        {
          "output_type": "execute_result",
          "data": {
            "text/plain": [
              "set()"
            ]
          },
          "metadata": {
            "tags": []
          },
          "execution_count": 19
        }
      ]
    },
    {
      "cell_type": "code",
      "metadata": {
        "id": "rOIU9b3MvDKr",
        "colab_type": "code",
        "outputId": "e844632a-66a8-4055-fdb5-6ba10f8bfcbb",
        "colab": {
          "base_uri": "https://localhost:8080/",
          "height": 34
        }
      },
      "source": [
        "train = trainval[trainval.tube_assembly_id.isin(train_tube_assemblies)]\n",
        "val = trainval[trainval.tube_assembly_id.isin(val_tube_assemblies)]\n",
        "train.shape, val.shape, trainval.shape"
      ],
      "execution_count": 20,
      "outputs": [
        {
          "output_type": "execute_result",
          "data": {
            "text/plain": [
              "((22628, 8), (7585, 8), (30213, 8))"
            ]
          },
          "metadata": {
            "tags": []
          },
          "execution_count": 20
        }
      ]
    },
    {
      "cell_type": "code",
      "metadata": {
        "id": "SySrG6g5vSYN",
        "colab_type": "code",
        "outputId": "ba95f319-8e32-4015-8bc4-1b01e92bd021",
        "colab": {
          "base_uri": "https://localhost:8080/",
          "height": 34
        }
      },
      "source": [
        "len(train) + len(val) == len(trainval)"
      ],
      "execution_count": 21,
      "outputs": [
        {
          "output_type": "execute_result",
          "data": {
            "text/plain": [
              "True"
            ]
          },
          "metadata": {
            "tags": []
          },
          "execution_count": 21
        }
      ]
    },
    {
      "cell_type": "code",
      "metadata": {
        "id": "1gTSTDvTvl22",
        "colab_type": "code",
        "outputId": "8f934cd7-acc8-4c97-ea50-fde70a44d591",
        "colab": {
          "base_uri": "https://localhost:8080/",
          "height": 297
        }
      },
      "source": [
        "train.describe()"
      ],
      "execution_count": 22,
      "outputs": [
        {
          "output_type": "execute_result",
          "data": {
            "text/html": [
              "<div>\n",
              "<style scoped>\n",
              "    .dataframe tbody tr th:only-of-type {\n",
              "        vertical-align: middle;\n",
              "    }\n",
              "\n",
              "    .dataframe tbody tr th {\n",
              "        vertical-align: top;\n",
              "    }\n",
              "\n",
              "    .dataframe thead th {\n",
              "        text-align: right;\n",
              "    }\n",
              "</style>\n",
              "<table border=\"1\" class=\"dataframe\">\n",
              "  <thead>\n",
              "    <tr style=\"text-align: right;\">\n",
              "      <th></th>\n",
              "      <th>annual_usage</th>\n",
              "      <th>min_order_quantity</th>\n",
              "      <th>quantity</th>\n",
              "      <th>cost</th>\n",
              "    </tr>\n",
              "  </thead>\n",
              "  <tbody>\n",
              "    <tr>\n",
              "      <th>count</th>\n",
              "      <td>22628.000000</td>\n",
              "      <td>22628.000000</td>\n",
              "      <td>22628.000000</td>\n",
              "      <td>22628.000000</td>\n",
              "    </tr>\n",
              "    <tr>\n",
              "      <th>mean</th>\n",
              "      <td>116.908830</td>\n",
              "      <td>2.130193</td>\n",
              "      <td>38.267677</td>\n",
              "      <td>13.450500</td>\n",
              "    </tr>\n",
              "    <tr>\n",
              "      <th>std</th>\n",
              "      <td>1678.532065</td>\n",
              "      <td>13.262875</td>\n",
              "      <td>71.313125</td>\n",
              "      <td>27.622252</td>\n",
              "    </tr>\n",
              "    <tr>\n",
              "      <th>min</th>\n",
              "      <td>0.000000</td>\n",
              "      <td>0.000000</td>\n",
              "      <td>1.000000</td>\n",
              "      <td>0.523027</td>\n",
              "    </tr>\n",
              "    <tr>\n",
              "      <th>25%</th>\n",
              "      <td>0.000000</td>\n",
              "      <td>0.000000</td>\n",
              "      <td>2.000000</td>\n",
              "      <td>3.855934</td>\n",
              "    </tr>\n",
              "    <tr>\n",
              "      <th>50%</th>\n",
              "      <td>0.000000</td>\n",
              "      <td>0.000000</td>\n",
              "      <td>10.000000</td>\n",
              "      <td>6.507236</td>\n",
              "    </tr>\n",
              "    <tr>\n",
              "      <th>75%</th>\n",
              "      <td>2.000000</td>\n",
              "      <td>0.000000</td>\n",
              "      <td>40.000000</td>\n",
              "      <td>13.451951</td>\n",
              "    </tr>\n",
              "    <tr>\n",
              "      <th>max</th>\n",
              "      <td>150000.000000</td>\n",
              "      <td>535.000000</td>\n",
              "      <td>2500.000000</td>\n",
              "      <td>1000.000000</td>\n",
              "    </tr>\n",
              "  </tbody>\n",
              "</table>\n",
              "</div>"
            ],
            "text/plain": [
              "        annual_usage  min_order_quantity      quantity          cost\n",
              "count   22628.000000        22628.000000  22628.000000  22628.000000\n",
              "mean      116.908830            2.130193     38.267677     13.450500\n",
              "std      1678.532065           13.262875     71.313125     27.622252\n",
              "min         0.000000            0.000000      1.000000      0.523027\n",
              "25%         0.000000            0.000000      2.000000      3.855934\n",
              "50%         0.000000            0.000000     10.000000      6.507236\n",
              "75%         2.000000            0.000000     40.000000     13.451951\n",
              "max    150000.000000          535.000000   2500.000000   1000.000000"
            ]
          },
          "metadata": {
            "tags": []
          },
          "execution_count": 22
        }
      ]
    },
    {
      "cell_type": "code",
      "metadata": {
        "id": "B221Z5yhwLvr",
        "colab_type": "code",
        "outputId": "6704affe-f72c-4759-f972-026affdfdc33",
        "colab": {
          "base_uri": "https://localhost:8080/",
          "height": 204
        }
      },
      "source": [
        "train.describe(exclude='number').head()"
      ],
      "execution_count": 23,
      "outputs": [
        {
          "output_type": "execute_result",
          "data": {
            "text/html": [
              "<div>\n",
              "<style scoped>\n",
              "    .dataframe tbody tr th:only-of-type {\n",
              "        vertical-align: middle;\n",
              "    }\n",
              "\n",
              "    .dataframe tbody tr th {\n",
              "        vertical-align: top;\n",
              "    }\n",
              "\n",
              "    .dataframe thead th {\n",
              "        text-align: right;\n",
              "    }\n",
              "</style>\n",
              "<table border=\"1\" class=\"dataframe\">\n",
              "  <thead>\n",
              "    <tr style=\"text-align: right;\">\n",
              "      <th></th>\n",
              "      <th>tube_assembly_id</th>\n",
              "      <th>supplier</th>\n",
              "      <th>quote_date</th>\n",
              "      <th>bracket_pricing</th>\n",
              "    </tr>\n",
              "  </thead>\n",
              "  <tbody>\n",
              "    <tr>\n",
              "      <th>count</th>\n",
              "      <td>22628</td>\n",
              "      <td>22628</td>\n",
              "      <td>22628</td>\n",
              "      <td>22628</td>\n",
              "    </tr>\n",
              "    <tr>\n",
              "      <th>unique</th>\n",
              "      <td>6641</td>\n",
              "      <td>52</td>\n",
              "      <td>1510</td>\n",
              "      <td>2</td>\n",
              "    </tr>\n",
              "    <tr>\n",
              "      <th>top</th>\n",
              "      <td>TA-04750</td>\n",
              "      <td>S-0066</td>\n",
              "      <td>2013-10-01 00:00:00</td>\n",
              "      <td>Yes</td>\n",
              "    </tr>\n",
              "    <tr>\n",
              "      <th>freq</th>\n",
              "      <td>12</td>\n",
              "      <td>15391</td>\n",
              "      <td>2077</td>\n",
              "      <td>19699</td>\n",
              "    </tr>\n",
              "    <tr>\n",
              "      <th>first</th>\n",
              "      <td>NaN</td>\n",
              "      <td>NaN</td>\n",
              "      <td>1987-04-10 00:00:00</td>\n",
              "      <td>NaN</td>\n",
              "    </tr>\n",
              "  </tbody>\n",
              "</table>\n",
              "</div>"
            ],
            "text/plain": [
              "       tube_assembly_id supplier           quote_date bracket_pricing\n",
              "count             22628    22628                22628           22628\n",
              "unique             6641       52                 1510               2\n",
              "top            TA-04750   S-0066  2013-10-01 00:00:00             Yes\n",
              "freq                 12    15391                 2077           19699\n",
              "first               NaN      NaN  1987-04-10 00:00:00             NaN"
            ]
          },
          "metadata": {
            "tags": []
          },
          "execution_count": 23
        }
      ]
    },
    {
      "cell_type": "markdown",
      "metadata": {
        "id": "5ALo7ZNWwxbK",
        "colab_type": "text"
      },
      "source": [
        "### Create a baseline"
      ]
    },
    {
      "cell_type": "code",
      "metadata": {
        "id": "lLc5cxR_wN6T",
        "colab_type": "code",
        "outputId": "ccf25ed8-3996-48b0-dd7c-659be0cf14c6",
        "colab": {
          "base_uri": "https://localhost:8080/",
          "height": 54
        }
      },
      "source": [
        "\n",
        "target = 'cost'\n",
        "y_train = train[target]\n",
        "y_val = val[target]\n",
        "y_pred = np.full_like(y_val, fill_value=y_train.mean())\n",
        "print('Validation RMSLE, Mean Baseline:', rmsle(y_val, y_pred))"
      ],
      "execution_count": 24,
      "outputs": [
        {
          "output_type": "stream",
          "text": [
            "Validation RMSLE, Mean Baseline: 0.9418101276064408\n"
          ],
          "name": "stdout"
        }
      ]
    },
    {
      "cell_type": "code",
      "metadata": {
        "id": "GOumKOkCwjp7",
        "colab_type": "code",
        "outputId": "e8aded4c-5cba-4d69-f735-38f9861e78af",
        "colab": {
          "base_uri": "https://localhost:8080/",
          "height": 54
        }
      },
      "source": [
        "from sklearn.metrics import r2_score\n",
        "print('Validation R^2, Mean Baseline:', r2_score(y_val, y_pred))"
      ],
      "execution_count": 25,
      "outputs": [
        {
          "output_type": "stream",
          "text": [
            "Validation R^2, Mean Baseline: -4.701447715138585e-06\n"
          ],
          "name": "stdout"
        }
      ]
    },
    {
      "cell_type": "code",
      "metadata": {
        "id": "15qOHvajwuUZ",
        "colab_type": "code",
        "outputId": "3371b3f7-3ca0-4a8b-889d-3ccc36d1bb3c",
        "colab": {
          "base_uri": "https://localhost:8080/",
          "height": 54
        }
      },
      "source": [
        "train.cost.mean()"
      ],
      "execution_count": 26,
      "outputs": [
        {
          "output_type": "execute_result",
          "data": {
            "text/plain": [
              "13.450499769517025"
            ]
          },
          "metadata": {
            "tags": []
          },
          "execution_count": 26
        }
      ]
    },
    {
      "cell_type": "code",
      "metadata": {
        "id": "x7woXYJMxWA4",
        "colab_type": "code",
        "outputId": "9a5c0d70-85fa-44d1-afd9-388da1a862c2",
        "colab": {
          "base_uri": "https://localhost:8080/",
          "height": 1000
        }
      },
      "source": [
        "train.groupby('quantity').cost.mean()"
      ],
      "execution_count": 27,
      "outputs": [
        {
          "output_type": "execute_result",
          "data": {
            "text/plain": [
              "quantity\n",
              "1       26.602862\n",
              "2       19.222738\n",
              "3       37.130535\n",
              "4       26.695014\n",
              "5       12.671149\n",
              "6       10.638119\n",
              "7       31.482244\n",
              "8       16.170021\n",
              "9       21.015575\n",
              "10       7.356611\n",
              "11      23.711489\n",
              "12      14.262210\n",
              "13       7.798112\n",
              "14       9.330717\n",
              "15      13.173706\n",
              "16      10.771868\n",
              "17      13.403166\n",
              "18      11.248039\n",
              "19       7.092018\n",
              "20       5.070719\n",
              "21       7.277866\n",
              "22       6.174626\n",
              "24       9.232764\n",
              "25       5.098735\n",
              "26       4.847274\n",
              "27       5.278957\n",
              "28       5.888784\n",
              "29       5.586375\n",
              "30       8.083138\n",
              "31       4.047340\n",
              "          ...    \n",
              "167     19.449375\n",
              "170      7.603367\n",
              "180      2.601225\n",
              "185     13.746154\n",
              "195      1.627505\n",
              "200      3.792344\n",
              "205      1.941877\n",
              "210      3.741869\n",
              "225      7.873227\n",
              "240      2.573405\n",
              "250      4.077934\n",
              "253     11.945605\n",
              "285      2.107410\n",
              "290      1.620549\n",
              "300      5.785755\n",
              "325      3.994341\n",
              "350      4.594571\n",
              "400      4.321465\n",
              "480      4.932591\n",
              "500      3.597759\n",
              "535      6.357005\n",
              "550      1.414677\n",
              "574      1.926576\n",
              "666      2.871085\n",
              "700      0.817925\n",
              "750      1.980826\n",
              "829      3.076957\n",
              "1034     2.590097\n",
              "1045    11.492686\n",
              "2500     1.571863\n",
              "Name: cost, Length: 109, dtype: float64"
            ]
          },
          "metadata": {
            "tags": []
          },
          "execution_count": 27
        }
      ]
    },
    {
      "cell_type": "code",
      "metadata": {
        "id": "92DsPL7yxZiJ",
        "colab_type": "code",
        "colab": {}
      },
      "source": [
        "features = ['quantity']\n",
        "X_train = train[features]\n",
        "X_val = val[features]"
      ],
      "execution_count": 0,
      "outputs": []
    },
    {
      "cell_type": "code",
      "metadata": {
        "id": "rLV9Dw1Kx29Y",
        "colab_type": "code",
        "outputId": "9337a1be-d299-42e3-a182-b6de625268a8",
        "colab": {
          "base_uri": "https://localhost:8080/",
          "height": 54
        }
      },
      "source": [
        "from sklearn.ensemble import RandomForestRegressor\n",
        "model = RandomForestRegressor(n_estimators=100, random_state=42, n_jobs=-1)\n",
        "model.fit(X_train, y_train)\n",
        "r2 = model.score(X_val, y_val)\n",
        "print('Validation R^2', r2)"
      ],
      "execution_count": 29,
      "outputs": [
        {
          "output_type": "stream",
          "text": [
            "Validation R^2 0.08879518736792147\n"
          ],
          "name": "stdout"
        }
      ]
    },
    {
      "cell_type": "code",
      "metadata": {
        "id": "thNb1oyCyJfA",
        "colab_type": "code",
        "outputId": "d9b8bc4c-17b0-4425-d5c3-682c079c1524",
        "colab": {
          "base_uri": "https://localhost:8080/",
          "height": 71
        }
      },
      "source": [
        "y_pred = model.predict(X_val)\n",
        "print(f'Validation RMSLE, Random Forest with {features}')\n",
        "print(rmsle(y_val, y_pred))"
      ],
      "execution_count": 30,
      "outputs": [
        {
          "output_type": "stream",
          "text": [
            "Validation RMSLE, Random Forest with ['quantity']\n",
            "0.6908805822519186\n"
          ],
          "name": "stdout"
        }
      ]
    },
    {
      "cell_type": "code",
      "metadata": {
        "id": "o1Yoem5MzYWK",
        "colab_type": "code",
        "outputId": "1b86aaea-1bcb-4955-b367-a78276a373b2",
        "colab": {
          "base_uri": "https://localhost:8080/",
          "height": 303
        }
      },
      "source": [
        "%matplotlib inline\n",
        "import seaborn as sns\n",
        "sns.distplot(y_train);"
      ],
      "execution_count": 31,
      "outputs": [
        {
          "output_type": "display_data",
          "data": {
            "image/png": "[encoded data removed]",
            "text/plain": [
              "<Figure size 432x288 with 1 Axes>"
            ]
          },
          "metadata": {
            "tags": []
          }
        }
      ]
    },
    {
      "cell_type": "markdown",
      "metadata": {
        "id": "astdJKel9mbN",
        "colab_type": "text"
      },
      "source": [
        "### A little bit about how logs work"
      ]
    },
    {
      "cell_type": "code",
      "metadata": {
        "id": "JuFTkwAj9lXG",
        "colab_type": "code",
        "colab": {}
      },
      "source": [
        ""
      ],
      "execution_count": 0,
      "outputs": []
    },
    {
      "cell_type": "code",
      "metadata": {
        "id": "seCsNtAfz4I_",
        "colab_type": "code",
        "outputId": "234d8351-9108-4363-a704-cd21789e05ec",
        "colab": {
          "base_uri": "https://localhost:8080/",
          "height": 54
        }
      },
      "source": [
        "np.log1p(42)"
      ],
      "execution_count": 32,
      "outputs": [
        {
          "output_type": "execute_result",
          "data": {
            "text/plain": [
              "3.7612001156935624"
            ]
          },
          "metadata": {
            "tags": []
          },
          "execution_count": 32
        }
      ]
    },
    {
      "cell_type": "code",
      "metadata": {
        "id": "7WbX-F3W52QW",
        "colab_type": "code",
        "outputId": "ace5e788-220e-4888-b3a3-5325cd551265",
        "colab": {
          "base_uri": "https://localhost:8080/",
          "height": 54
        }
      },
      "source": [
        "np.expm1(3.7612001156935624)"
      ],
      "execution_count": 33,
      "outputs": [
        {
          "output_type": "execute_result",
          "data": {
            "text/plain": [
              "42.0"
            ]
          },
          "metadata": {
            "tags": []
          },
          "execution_count": 33
        }
      ]
    },
    {
      "cell_type": "code",
      "metadata": {
        "id": "UnHLJo336Dym",
        "colab_type": "code",
        "outputId": "ee025ebb-70f5-4f8f-c4c4-910d7b485f79",
        "colab": {
          "base_uri": "https://localhost:8080/",
          "height": 303
        }
      },
      "source": [
        "y_train_log = np.log1p(y_train)\n",
        "sns.distplot(y_train_log);"
      ],
      "execution_count": 34,
      "outputs": [
        {
          "output_type": "display_data",
          "data": {
            "image/png": "[encoded data removed]",
            "text/plain": [
              "<Figure size 432x288 with 1 Axes>"
            ]
          },
          "metadata": {
            "tags": []
          }
        }
      ]
    },
    {
      "cell_type": "code",
      "metadata": {
        "id": "nJ4vocCz6M8B",
        "colab_type": "code",
        "outputId": "6e435183-f6da-4440-a738-3e1d9f8c5cef",
        "colab": {
          "base_uri": "https://localhost:8080/",
          "height": 303
        }
      },
      "source": [
        "y_train_log_exp = np.expm1(y_train_log)\n",
        "sns.distplot(y_train_log_exp);"
      ],
      "execution_count": 35,
      "outputs": [
        {
          "output_type": "display_data",
          "data": {
            "image/png": "[encoded data removed]",
            "text/plain": [
              "<Figure size 432x288 with 1 Axes>"
            ]
          },
          "metadata": {
            "tags": []
          }
        }
      ]
    },
    {
      "cell_type": "code",
      "metadata": {
        "id": "f41GxkeJ6ZYq",
        "colab_type": "code",
        "outputId": "b47cd496-8a24-413b-c787-ff9420c95ba0",
        "colab": {
          "base_uri": "https://localhost:8080/",
          "height": 54
        }
      },
      "source": [
        "all(np.isclose(y_train_log_exp, y_train))"
      ],
      "execution_count": 36,
      "outputs": [
        {
          "output_type": "execute_result",
          "data": {
            "text/plain": [
              "True"
            ]
          },
          "metadata": {
            "tags": []
          },
          "execution_count": 36
        }
      ]
    },
    {
      "cell_type": "markdown",
      "metadata": {
        "id": "mgsrlr8n7BVm",
        "colab_type": "text"
      },
      "source": [
        "### Refit the model with log-transformed target"
      ]
    },
    {
      "cell_type": "code",
      "metadata": {
        "id": "zYyVg5Ng68jz",
        "colab_type": "code",
        "outputId": "598be2c7-279c-44bb-bf11-ef75f8a1890f",
        "colab": {
          "base_uri": "https://localhost:8080/",
          "height": 54
        }
      },
      "source": [
        "model.fit(X_train, y_train_log)\n",
        "y_pred_log = model.predict(X_val)\n",
        "y_pred = np.expm1(y_pred_log)\n",
        "rmsle(y_val, y_pred)"
      ],
      "execution_count": 37,
      "outputs": [
        {
          "output_type": "execute_result",
          "data": {
            "text/plain": [
              "0.622925465880199"
            ]
          },
          "metadata": {
            "tags": []
          },
          "execution_count": 37
        }
      ]
    },
    {
      "cell_type": "code",
      "metadata": {
        "id": "BYRPg24i7RKl",
        "colab_type": "code",
        "colab": {}
      },
      "source": [
        "from sklearn.metrics import mean_squared_error\n",
        "\n",
        "def rmse(y_true, y_pred):\n",
        "    return np.sqrt(mean_squared_error(y_true, y_pred))"
      ],
      "execution_count": 0,
      "outputs": []
    },
    {
      "cell_type": "code",
      "metadata": {
        "id": "-hahMFXF7ddK",
        "colab_type": "code",
        "outputId": "0d2d948e-8077-4eb9-e335-093c98878b1a",
        "colab": {
          "base_uri": "https://localhost:8080/",
          "height": 54
        }
      },
      "source": [
        "y_val_log = np.log1p(y_val)\n",
        "rmse(y_val_log, y_pred_log)"
      ],
      "execution_count": 39,
      "outputs": [
        {
          "output_type": "execute_result",
          "data": {
            "text/plain": [
              "0.622925465880199"
            ]
          },
          "metadata": {
            "tags": []
          },
          "execution_count": 39
        }
      ]
    },
    {
      "cell_type": "code",
      "metadata": {
        "id": "HDEWBH_-7i1q",
        "colab_type": "code",
        "outputId": "816a9ea4-8b16-4a67-f067-3f8aeb7220f3",
        "colab": {
          "base_uri": "https://localhost:8080/",
          "height": 292
        }
      },
      "source": [
        "!pip install category_encoders"
      ],
      "execution_count": 40,
      "outputs": [
        {
          "output_type": "stream",
          "text": [
            "Collecting category_encoders\n",
            "\u001b[?25l  Downloading https://files.pythonhosted.org/packages/6e/a1/f7a22f144f33be78afeb06bfa78478e8284a64263a3c09b1ef54e673841e/category_encoders-2.0.0-py2.py3-none-any.whl (87kB)\n",
            "\u001b[K     |████████████████████████████████| 92kB 3.5MB/s \n",
            "\u001b[?25hRequirement already satisfied: scipy>=0.19.0 in /usr/local/lib/python3.6/dist-packages (from category_encoders) (1.3.0)\n",
            "Requirement already satisfied: statsmodels>=0.6.1 in /usr/local/lib/python3.6/dist-packages (from category_encoders) (0.10.0)\n",
            "Requirement already satisfied: patsy>=0.4.1 in /usr/local/lib/python3.6/dist-packages (from category_encoders) (0.5.1)\n",
            "Requirement already satisfied: pandas>=0.21.1 in /usr/local/lib/python3.6/dist-packages (from category_encoders) (0.24.2)\n",
            "Requirement already satisfied: numpy>=1.11.3 in /usr/local/lib/python3.6/dist-packages (from category_encoders) (1.16.4)\n",
            "Requirement already satisfied: scikit-learn>=0.20.0 in /usr/local/lib/python3.6/dist-packages (from category_encoders) (0.21.2)\n",
            "Requirement already satisfied: six in /usr/local/lib/python3.6/dist-packages (from patsy>=0.4.1->category_encoders) (1.12.0)\n",
            "Requirement already satisfied: python-dateutil>=2.5.0 in /usr/local/lib/python3.6/dist-packages (from pandas>=0.21.1->category_encoders) (2.5.3)\n",
            "Requirement already satisfied: pytz>=2011k in /usr/local/lib/python3.6/dist-packages (from pandas>=0.21.1->category_encoders) (2018.9)\n",
            "Requirement already satisfied: joblib>=0.11 in /usr/local/lib/python3.6/dist-packages (from scikit-learn>=0.20.0->category_encoders) (0.13.2)\n",
            "Installing collected packages: category-encoders\n",
            "Successfully installed category-encoders-2.0.0\n"
          ],
          "name": "stdout"
        }
      ]
    },
    {
      "cell_type": "code",
      "metadata": {
        "id": "jpGd2HdY9u9_",
        "colab_type": "code",
        "outputId": "a1fc3da2-4045-444e-8acc-80eb37bbea90",
        "colab": {
          "base_uri": "https://localhost:8080/",
          "height": 224
        }
      },
      "source": [
        "train.head()"
      ],
      "execution_count": 41,
      "outputs": [
        {
          "output_type": "execute_result",
          "data": {
            "text/html": [
              "<div>\n",
              "<style scoped>\n",
              "    .dataframe tbody tr th:only-of-type {\n",
              "        vertical-align: middle;\n",
              "    }\n",
              "\n",
              "    .dataframe tbody tr th {\n",
              "        vertical-align: top;\n",
              "    }\n",
              "\n",
              "    .dataframe thead th {\n",
              "        text-align: right;\n",
              "    }\n",
              "</style>\n",
              "<table border=\"1\" class=\"dataframe\">\n",
              "  <thead>\n",
              "    <tr style=\"text-align: right;\">\n",
              "      <th></th>\n",
              "      <th>tube_assembly_id</th>\n",
              "      <th>supplier</th>\n",
              "      <th>quote_date</th>\n",
              "      <th>annual_usage</th>\n",
              "      <th>min_order_quantity</th>\n",
              "      <th>bracket_pricing</th>\n",
              "      <th>quantity</th>\n",
              "      <th>cost</th>\n",
              "    </tr>\n",
              "  </thead>\n",
              "  <tbody>\n",
              "    <tr>\n",
              "      <th>8</th>\n",
              "      <td>TA-00004</td>\n",
              "      <td>S-0066</td>\n",
              "      <td>2013-07-07</td>\n",
              "      <td>0</td>\n",
              "      <td>0</td>\n",
              "      <td>Yes</td>\n",
              "      <td>1</td>\n",
              "      <td>21.972702</td>\n",
              "    </tr>\n",
              "    <tr>\n",
              "      <th>9</th>\n",
              "      <td>TA-00004</td>\n",
              "      <td>S-0066</td>\n",
              "      <td>2013-07-07</td>\n",
              "      <td>0</td>\n",
              "      <td>0</td>\n",
              "      <td>Yes</td>\n",
              "      <td>2</td>\n",
              "      <td>12.407983</td>\n",
              "    </tr>\n",
              "    <tr>\n",
              "      <th>10</th>\n",
              "      <td>TA-00004</td>\n",
              "      <td>S-0066</td>\n",
              "      <td>2013-07-07</td>\n",
              "      <td>0</td>\n",
              "      <td>0</td>\n",
              "      <td>Yes</td>\n",
              "      <td>5</td>\n",
              "      <td>6.668596</td>\n",
              "    </tr>\n",
              "    <tr>\n",
              "      <th>11</th>\n",
              "      <td>TA-00004</td>\n",
              "      <td>S-0066</td>\n",
              "      <td>2013-07-07</td>\n",
              "      <td>0</td>\n",
              "      <td>0</td>\n",
              "      <td>Yes</td>\n",
              "      <td>10</td>\n",
              "      <td>4.754539</td>\n",
              "    </tr>\n",
              "    <tr>\n",
              "      <th>12</th>\n",
              "      <td>TA-00004</td>\n",
              "      <td>S-0066</td>\n",
              "      <td>2013-07-07</td>\n",
              "      <td>0</td>\n",
              "      <td>0</td>\n",
              "      <td>Yes</td>\n",
              "      <td>25</td>\n",
              "      <td>3.608331</td>\n",
              "    </tr>\n",
              "  </tbody>\n",
              "</table>\n",
              "</div>"
            ],
            "text/plain": [
              "   tube_assembly_id supplier quote_date  ...  bracket_pricing  quantity       cost\n",
              "8          TA-00004   S-0066 2013-07-07  ...              Yes         1  21.972702\n",
              "9          TA-00004   S-0066 2013-07-07  ...              Yes         2  12.407983\n",
              "10         TA-00004   S-0066 2013-07-07  ...              Yes         5   6.668596\n",
              "11         TA-00004   S-0066 2013-07-07  ...              Yes        10   4.754539\n",
              "12         TA-00004   S-0066 2013-07-07  ...              Yes        25   3.608331\n",
              "\n",
              "[5 rows x 8 columns]"
            ]
          },
          "metadata": {
            "tags": []
          },
          "execution_count": 41
        }
      ]
    },
    {
      "cell_type": "code",
      "metadata": {
        "id": "t_ih1NpY9wkA",
        "colab_type": "code",
        "colab": {}
      },
      "source": [
        "def wrangle(X):\n",
        "    X = X.copy()\n",
        "    \n",
        "    # Engineer date features\n",
        "    X['quote_date'] = pd.to_datetime(X['quote_date'], infer_datetime_format=True)\n",
        "    X['quote_year'] = X['quote_date'].dt.year\n",
        "    X['quote_month'] = X['quote_date'].dt.month\n",
        "    X = X.drop(columns='quote_date')\n",
        "    \n",
        "    X = X.drop(columns ='tube_assembly_id')\n",
        "    \n",
        "    return X\n",
        "\n",
        "train_wrangled = wrangle(train)\n",
        "val_wrangled = wrangle(val)"
      ],
      "execution_count": 0,
      "outputs": []
    },
    {
      "cell_type": "code",
      "metadata": {
        "id": "j_qm5MB4DObQ",
        "colab_type": "code",
        "outputId": "c6469ded-03bc-4bcb-f384-33b083009d7e",
        "colab": {
          "base_uri": "https://localhost:8080/",
          "height": 54
        }
      },
      "source": [
        "features = train_wrangled.columns.drop(target)\n",
        "print('Features:', features.tolist())"
      ],
      "execution_count": 43,
      "outputs": [
        {
          "output_type": "stream",
          "text": [
            "Features: ['supplier', 'annual_usage', 'min_order_quantity', 'bracket_pricing', 'quantity', 'quote_year', 'quote_month']\n"
          ],
          "name": "stdout"
        }
      ]
    },
    {
      "cell_type": "code",
      "metadata": {
        "id": "Ut0tjzelDYv_",
        "colab_type": "code",
        "outputId": "c9f83104-f75e-4f5e-934c-cdc4fab6ac1e",
        "colab": {
          "base_uri": "https://localhost:8080/",
          "height": 54
        }
      },
      "source": [
        "import category_encoders as ce\n",
        "from sklearn.pipeline import make_pipeline\n",
        "\n",
        "pipeline = make_pipeline(\n",
        "    ce.OrdinalEncoder(),\n",
        "    RandomForestRegressor(n_estimators=100, random_state=42, n_jobs=-1)\n",
        ")\n",
        "\n",
        "pipeline.fit(X_train, y_train_log)\n",
        "y_pred_log = pipeline.predict(X_val)\n",
        "rmse(y_val_log, y_pred_log)"
      ],
      "execution_count": 44,
      "outputs": [
        {
          "output_type": "execute_result",
          "data": {
            "text/plain": [
              "0.622925465880199"
            ]
          },
          "metadata": {
            "tags": []
          },
          "execution_count": 44
        }
      ]
    },
    {
      "cell_type": "code",
      "metadata": {
        "id": "jUAytIP4Hw9K",
        "colab_type": "code",
        "outputId": "1c86d7f1-070a-4dd0-9984-0662fcb20f2c",
        "colab": {
          "base_uri": "https://localhost:8080/",
          "height": 54
        }
      },
      "source": [
        "y_pred = np.expm1(y_pred_log)\n",
        "rmsle(y_val, y_pred)"
      ],
      "execution_count": 45,
      "outputs": [
        {
          "output_type": "execute_result",
          "data": {
            "text/plain": [
              "0.622925465880199"
            ]
          },
          "metadata": {
            "tags": []
          },
          "execution_count": 45
        }
      ]
    },
    {
      "cell_type": "code",
      "metadata": {
        "id": "fHppxhXIH7B2",
        "colab_type": "code",
        "outputId": "068da1bb-ee97-40c7-ed2e-fb7400fe0075",
        "colab": {
          "base_uri": "https://localhost:8080/",
          "height": 289
        }
      },
      "source": [
        "rf = pipeline.named_steps['randomforestregressor']\n",
        "importances = pd.Series(rf.feature_importances_, X_train.columns)\n",
        "importances.sort_values().plot.barh(color='grey');"
      ],
      "execution_count": 46,
      "outputs": [
        {
          "output_type": "display_data",
          "data": {
            "image/png": "[encoded data removed]",
            "text/plain": [
              "<Figure size 432x288 with 1 Axes>"
            ]
          },
          "metadata": {
            "tags": []
          }
        }
      ]
    },
    {
      "cell_type": "code",
      "metadata": {
        "id": "hqXo2-c2ILO-",
        "colab_type": "code",
        "outputId": "c16922d2-aa3e-4181-933d-06d9123ebc53",
        "colab": {
          "base_uri": "https://localhost:8080/",
          "height": 303
        }
      },
      "source": [
        "quantity_quartiles = pd.qcut(train_wrangled['quantity'], q=4)\n",
        "sns.pointplot(x=quantity_quartiles, y=train_wrangled['cost']);"
      ],
      "execution_count": 47,
      "outputs": [
        {
          "output_type": "display_data",
          "data": {
            "image/png": "[encoded data removed]",
            "text/plain": [
              "<Figure size 432x288 with 1 Axes>"
            ]
          },
          "metadata": {
            "tags": []
          }
        }
      ]
    },
    {
      "cell_type": "code",
      "metadata": {
        "id": "nkuEj17tIX9b",
        "colab_type": "code",
        "outputId": "9a854f90-1601-4525-f476-6b1c97fec78e",
        "colab": {
          "base_uri": "https://localhost:8080/",
          "height": 303
        }
      },
      "source": [
        "import matplotlib.pyplot as plt\n",
        "sns.distplot(y_val_log, label='True')\n",
        "sns.distplot(y_pred_log, label='Predicted')\n",
        "plt.legend();"
      ],
      "execution_count": 48,
      "outputs": [
        {
          "output_type": "display_data",
          "data": {
            "image/png": "[encoded data removed]",
            "text/plain": [
              "<Figure size 432x288 with 1 Axes>"
            ]
          },
          "metadata": {
            "tags": []
          }
        }
      ]
    },
    {
      "cell_type": "code",
      "metadata": {
        "id": "lAcZt6zUImlS",
        "colab_type": "code",
        "outputId": "4d86b891-4425-45bc-ca5f-2cf6e8c7e4b7",
        "colab": {
          "base_uri": "https://localhost:8080/",
          "height": 292
        }
      },
      "source": [
        "for path in glob('competition_data/*.csv'):\n",
        "    df = pd.read_csv(path)\n",
        "    shared_columns = set(df.columns) & set(train.columns)\n",
        "    if shared_columns:\n",
        "        print(path, df.shape)\n",
        "        print(df.columns.tolist(), '\\n')"
      ],
      "execution_count": 49,
      "outputs": [
        {
          "output_type": "stream",
          "text": [
            "competition_data/tube.csv (21198, 16)\n",
            "['tube_assembly_id', 'material_id', 'diameter', 'wall', 'length', 'num_bends', 'bend_radius', 'end_a_1x', 'end_a_2x', 'end_x_1x', 'end_x_2x', 'end_a', 'end_x', 'num_boss', 'num_bracket', 'other'] \n",
            "\n",
            "competition_data/train_set.csv (30213, 8)\n",
            "['tube_assembly_id', 'supplier', 'quote_date', 'annual_usage', 'min_order_quantity', 'bracket_pricing', 'quantity', 'cost'] \n",
            "\n",
            "competition_data/test_set.csv (30235, 8)\n",
            "['id', 'tube_assembly_id', 'supplier', 'quote_date', 'annual_usage', 'min_order_quantity', 'bracket_pricing', 'quantity'] \n",
            "\n",
            "competition_data/bill_of_materials.csv (21198, 17)\n",
            "['tube_assembly_id', 'component_id_1', 'quantity_1', 'component_id_2', 'quantity_2', 'component_id_3', 'quantity_3', 'component_id_4', 'quantity_4', 'component_id_5', 'quantity_5', 'component_id_6', 'quantity_6', 'component_id_7', 'quantity_7', 'component_id_8', 'quantity_8'] \n",
            "\n",
            "competition_data/specs.csv (21198, 11)\n",
            "['tube_assembly_id', 'spec1', 'spec2', 'spec3', 'spec4', 'spec5', 'spec6', 'spec7', 'spec8', 'spec9', 'spec10'] \n",
            "\n"
          ],
          "name": "stdout"
        }
      ]
    },
    {
      "cell_type": "code",
      "metadata": {
        "id": "RrKe3zLqI37r",
        "colab_type": "code",
        "colab": {}
      },
      "source": [
        "specs = pd.read_csv('competition_data/specs.csv')"
      ],
      "execution_count": 0,
      "outputs": []
    },
    {
      "cell_type": "code",
      "metadata": {
        "id": "deStEh2bJFtv",
        "colab_type": "code",
        "outputId": "ae5c5a2d-6921-47ed-9a04-d155a165dfcb",
        "colab": {
          "base_uri": "https://localhost:8080/",
          "height": 224
        }
      },
      "source": [
        "specs.head()"
      ],
      "execution_count": 51,
      "outputs": [
        {
          "output_type": "execute_result",
          "data": {
            "text/html": [
              "<div>\n",
              "<style scoped>\n",
              "    .dataframe tbody tr th:only-of-type {\n",
              "        vertical-align: middle;\n",
              "    }\n",
              "\n",
              "    .dataframe tbody tr th {\n",
              "        vertical-align: top;\n",
              "    }\n",
              "\n",
              "    .dataframe thead th {\n",
              "        text-align: right;\n",
              "    }\n",
              "</style>\n",
              "<table border=\"1\" class=\"dataframe\">\n",
              "  <thead>\n",
              "    <tr style=\"text-align: right;\">\n",
              "      <th></th>\n",
              "      <th>tube_assembly_id</th>\n",
              "      <th>spec1</th>\n",
              "      <th>spec2</th>\n",
              "      <th>spec3</th>\n",
              "      <th>spec4</th>\n",
              "      <th>spec5</th>\n",
              "      <th>spec6</th>\n",
              "      <th>spec7</th>\n",
              "      <th>spec8</th>\n",
              "      <th>spec9</th>\n",
              "      <th>spec10</th>\n",
              "    </tr>\n",
              "  </thead>\n",
              "  <tbody>\n",
              "    <tr>\n",
              "      <th>0</th>\n",
              "      <td>TA-00001</td>\n",
              "      <td>NaN</td>\n",
              "      <td>NaN</td>\n",
              "      <td>NaN</td>\n",
              "      <td>NaN</td>\n",
              "      <td>NaN</td>\n",
              "      <td>NaN</td>\n",
              "      <td>NaN</td>\n",
              "      <td>NaN</td>\n",
              "      <td>NaN</td>\n",
              "      <td>NaN</td>\n",
              "    </tr>\n",
              "    <tr>\n",
              "      <th>1</th>\n",
              "      <td>TA-00002</td>\n",
              "      <td>NaN</td>\n",
              "      <td>NaN</td>\n",
              "      <td>NaN</td>\n",
              "      <td>NaN</td>\n",
              "      <td>NaN</td>\n",
              "      <td>NaN</td>\n",
              "      <td>NaN</td>\n",
              "      <td>NaN</td>\n",
              "      <td>NaN</td>\n",
              "      <td>NaN</td>\n",
              "    </tr>\n",
              "    <tr>\n",
              "      <th>2</th>\n",
              "      <td>TA-00003</td>\n",
              "      <td>NaN</td>\n",
              "      <td>NaN</td>\n",
              "      <td>NaN</td>\n",
              "      <td>NaN</td>\n",
              "      <td>NaN</td>\n",
              "      <td>NaN</td>\n",
              "      <td>NaN</td>\n",
              "      <td>NaN</td>\n",
              "      <td>NaN</td>\n",
              "      <td>NaN</td>\n",
              "    </tr>\n",
              "    <tr>\n",
              "      <th>3</th>\n",
              "      <td>TA-00004</td>\n",
              "      <td>NaN</td>\n",
              "      <td>NaN</td>\n",
              "      <td>NaN</td>\n",
              "      <td>NaN</td>\n",
              "      <td>NaN</td>\n",
              "      <td>NaN</td>\n",
              "      <td>NaN</td>\n",
              "      <td>NaN</td>\n",
              "      <td>NaN</td>\n",
              "      <td>NaN</td>\n",
              "    </tr>\n",
              "    <tr>\n",
              "      <th>4</th>\n",
              "      <td>TA-00005</td>\n",
              "      <td>NaN</td>\n",
              "      <td>NaN</td>\n",
              "      <td>NaN</td>\n",
              "      <td>NaN</td>\n",
              "      <td>NaN</td>\n",
              "      <td>NaN</td>\n",
              "      <td>NaN</td>\n",
              "      <td>NaN</td>\n",
              "      <td>NaN</td>\n",
              "      <td>NaN</td>\n",
              "    </tr>\n",
              "  </tbody>\n",
              "</table>\n",
              "</div>"
            ],
            "text/plain": [
              "  tube_assembly_id spec1 spec2 spec3 spec4 spec5 spec6 spec7 spec8 spec9 spec10\n",
              "0         TA-00001   NaN   NaN   NaN   NaN   NaN   NaN   NaN   NaN   NaN    NaN\n",
              "1         TA-00002   NaN   NaN   NaN   NaN   NaN   NaN   NaN   NaN   NaN    NaN\n",
              "2         TA-00003   NaN   NaN   NaN   NaN   NaN   NaN   NaN   NaN   NaN    NaN\n",
              "3         TA-00004   NaN   NaN   NaN   NaN   NaN   NaN   NaN   NaN   NaN    NaN\n",
              "4         TA-00005   NaN   NaN   NaN   NaN   NaN   NaN   NaN   NaN   NaN    NaN"
            ]
          },
          "metadata": {
            "tags": []
          },
          "execution_count": 51
        }
      ]
    },
    {
      "cell_type": "code",
      "metadata": {
        "id": "ZfPzK1dLJBVI",
        "colab_type": "code",
        "outputId": "e0bed202-bc37-4f51-ecba-22083f96dc7a",
        "colab": {
          "base_uri": "https://localhost:8080/",
          "height": 210
        }
      },
      "source": [
        "specs.describe()"
      ],
      "execution_count": 52,
      "outputs": [
        {
          "output_type": "execute_result",
          "data": {
            "text/html": [
              "<div>\n",
              "<style scoped>\n",
              "    .dataframe tbody tr th:only-of-type {\n",
              "        vertical-align: middle;\n",
              "    }\n",
              "\n",
              "    .dataframe tbody tr th {\n",
              "        vertical-align: top;\n",
              "    }\n",
              "\n",
              "    .dataframe thead th {\n",
              "        text-align: right;\n",
              "    }\n",
              "</style>\n",
              "<table border=\"1\" class=\"dataframe\">\n",
              "  <thead>\n",
              "    <tr style=\"text-align: right;\">\n",
              "      <th></th>\n",
              "      <th>tube_assembly_id</th>\n",
              "      <th>spec1</th>\n",
              "      <th>spec2</th>\n",
              "      <th>spec3</th>\n",
              "      <th>spec4</th>\n",
              "      <th>spec5</th>\n",
              "      <th>spec6</th>\n",
              "      <th>spec7</th>\n",
              "      <th>spec8</th>\n",
              "      <th>spec9</th>\n",
              "      <th>spec10</th>\n",
              "    </tr>\n",
              "  </thead>\n",
              "  <tbody>\n",
              "    <tr>\n",
              "      <th>count</th>\n",
              "      <td>21198</td>\n",
              "      <td>7129</td>\n",
              "      <td>6844</td>\n",
              "      <td>5840</td>\n",
              "      <td>4154</td>\n",
              "      <td>2921</td>\n",
              "      <td>2071</td>\n",
              "      <td>535</td>\n",
              "      <td>106</td>\n",
              "      <td>20</td>\n",
              "      <td>1</td>\n",
              "    </tr>\n",
              "    <tr>\n",
              "      <th>unique</th>\n",
              "      <td>21198</td>\n",
              "      <td>45</td>\n",
              "      <td>51</td>\n",
              "      <td>49</td>\n",
              "      <td>38</td>\n",
              "      <td>37</td>\n",
              "      <td>24</td>\n",
              "      <td>13</td>\n",
              "      <td>4</td>\n",
              "      <td>3</td>\n",
              "      <td>1</td>\n",
              "    </tr>\n",
              "    <tr>\n",
              "      <th>top</th>\n",
              "      <td>TA-06571</td>\n",
              "      <td>SP-0007</td>\n",
              "      <td>SP-0012</td>\n",
              "      <td>SP-0080</td>\n",
              "      <td>SP-0026</td>\n",
              "      <td>SP-0080</td>\n",
              "      <td>SP-0082</td>\n",
              "      <td>SP-0082</td>\n",
              "      <td>SP-0082</td>\n",
              "      <td>SP-0088</td>\n",
              "      <td>SP-0080</td>\n",
              "    </tr>\n",
              "    <tr>\n",
              "      <th>freq</th>\n",
              "      <td>1</td>\n",
              "      <td>3002</td>\n",
              "      <td>1736</td>\n",
              "      <td>1798</td>\n",
              "      <td>1492</td>\n",
              "      <td>1780</td>\n",
              "      <td>1167</td>\n",
              "      <td>322</td>\n",
              "      <td>73</td>\n",
              "      <td>18</td>\n",
              "      <td>1</td>\n",
              "    </tr>\n",
              "  </tbody>\n",
              "</table>\n",
              "</div>"
            ],
            "text/plain": [
              "       tube_assembly_id    spec1    spec2  ...    spec8    spec9   spec10\n",
              "count             21198     7129     6844  ...      106       20        1\n",
              "unique            21198       45       51  ...        4        3        1\n",
              "top            TA-06571  SP-0007  SP-0012  ...  SP-0082  SP-0088  SP-0080\n",
              "freq                  1     3002     1736  ...       73       18        1\n",
              "\n",
              "[4 rows x 11 columns]"
            ]
          },
          "metadata": {
            "tags": []
          },
          "execution_count": 52
        }
      ]
    },
    {
      "cell_type": "code",
      "metadata": {
        "id": "NpYYASYVJO39",
        "colab_type": "code",
        "outputId": "421a4223-b42c-46b4-8262-b7c8dc34052d",
        "colab": {
          "base_uri": "https://localhost:8080/",
          "height": 241
        }
      },
      "source": [
        "specs.isnull().sum()"
      ],
      "execution_count": 53,
      "outputs": [
        {
          "output_type": "execute_result",
          "data": {
            "text/plain": [
              "tube_assembly_id        0\n",
              "spec1               14069\n",
              "spec2               14354\n",
              "spec3               15358\n",
              "spec4               17044\n",
              "spec5               18277\n",
              "spec6               19127\n",
              "spec7               20663\n",
              "spec8               21092\n",
              "spec9               21178\n",
              "spec10              21197\n",
              "dtype: int64"
            ]
          },
          "metadata": {
            "tags": []
          },
          "execution_count": 53
        }
      ]
    },
    {
      "cell_type": "code",
      "metadata": {
        "id": "7Vu0ewQhJqMn",
        "colab_type": "code",
        "colab": {}
      },
      "source": [
        "def wrangle(X):\n",
        "    X = X.copy()\n",
        "    \n",
        "    # Engineer date features\n",
        "    X['quote_date'] = pd.to_datetime(X['quote_date'], infer_datetime_format=True)\n",
        "    X['quote_year'] = X['quote_date'].dt.year\n",
        "    X['quote_month'] = X['quote_date'].dt.month\n",
        "    X = X.drop(columns='quote_date')\n",
        "    \n",
        "    # merge specs, materials data\n",
        "    specs = pd.read_csv('competition_data/specs.csv')\n",
        "    materials = pd.read_csv('competition_data/bill_of_materials.csv')\n",
        "    tube = pd.read_csv('competition_data/tube.csv')\n",
        "\n",
        "    X = X.merge(tube, how='left')\n",
        "\n",
        "    \n",
        "    materials['components_total'] = (materials['quantity_1'].fillna(0) + \n",
        "                                     materials['quantity_2'].fillna(0) + \n",
        "                                     materials['quantity_3'].fillna(0) + \n",
        "                                     materials['quantity_4'].fillna(0) + \n",
        "                                     materials['quantity_5'].fillna(0) + \n",
        "                                     materials['quantity_6'].fillna(0) + \n",
        "                                     materials['quantity_7'].fillna(0) + \n",
        "                                     materials['quantity_8'].fillna(0))\n",
        "\n",
        "    materials['components_distinct'] = (materials['component_id_1'].notnull().astype(int) + \n",
        "                                        materials['component_id_2'].notnull().astype(int) + \n",
        "                                        materials['component_id_3'].notnull().astype(int) + \n",
        "                                        materials['component_id_4'].notnull().astype(int) + \n",
        "                                        materials['component_id_5'].notnull().astype(int) + \n",
        "                                        materials['component_id_6'].notnull().astype(int) + \n",
        "                                        materials['component_id_7'].notnull().astype(int) + \n",
        "                                        materials['component_id_8'].notnull().astype(int)) \n",
        "    \n",
        "    features = ['tube_assembly_id', 'component_id_1', 'components_total', 'components_distinct']\n",
        "    X = X.merge(materials[features], how='left')\n",
        "    \n",
        "    components = pd.read_csv('competition_data/components.csv')\n",
        "    components = components.rename(columns={'component_id': 'component_id_1'})\n",
        "    features = ['component_id_1', 'component_type_id']\n",
        "    X = X.merge(components[features], how='left')\n",
        "    \n",
        "    specs['specs_total'] = specs.drop(columns=['tube_assembly_id']).count(axis=1)\n",
        "    features = ['tube_assembly_id', 'specs_total', 'spec1']\n",
        "    X = X.merge(specs[features], how='left')\n",
        "    \n",
        "    # drop tube_assembly_id because we are attempting to predict unknown assemblies\n",
        "    X = X.drop(columns ='tube_assembly_id')\n",
        "    \n",
        "    return X\n",
        "\n",
        "train_wrangled = wrangle(train)\n",
        "val_wrangled = wrangle(val)\n",
        "test_wrangled = wrangle(test)"
      ],
      "execution_count": 0,
      "outputs": []
    },
    {
      "cell_type": "code",
      "metadata": {
        "id": "DPP77vAE4TAy",
        "colab_type": "code",
        "outputId": "470c4538-b892-4ce2-fa52-efb5a28f8486",
        "colab": {
          "base_uri": "https://localhost:8080/",
          "height": 54
        }
      },
      "source": [
        "train_wrangled.shape, test_wrangled.shape"
      ],
      "execution_count": 55,
      "outputs": [
        {
          "output_type": "execute_result",
          "data": {
            "text/plain": [
              "((22628, 29), (30235, 29))"
            ]
          },
          "metadata": {
            "tags": []
          },
          "execution_count": 55
        }
      ]
    },
    {
      "cell_type": "code",
      "metadata": {
        "id": "7gN2yEIWNRz6",
        "colab_type": "code",
        "outputId": "f0c8d5ab-22d7-4a47-8d12-36522c0d255b",
        "colab": {
          "base_uri": "https://localhost:8080/",
          "height": 317
        }
      },
      "source": [
        "bill_of_materials = pd.read_csv('competition_data/bill_of_materials.csv')\n",
        "bill_of_materials.describe()"
      ],
      "execution_count": 56,
      "outputs": [
        {
          "output_type": "execute_result",
          "data": {
            "text/html": [
              "<div>\n",
              "<style scoped>\n",
              "    .dataframe tbody tr th:only-of-type {\n",
              "        vertical-align: middle;\n",
              "    }\n",
              "\n",
              "    .dataframe tbody tr th {\n",
              "        vertical-align: top;\n",
              "    }\n",
              "\n",
              "    .dataframe thead th {\n",
              "        text-align: right;\n",
              "    }\n",
              "</style>\n",
              "<table border=\"1\" class=\"dataframe\">\n",
              "  <thead>\n",
              "    <tr style=\"text-align: right;\">\n",
              "      <th></th>\n",
              "      <th>quantity_1</th>\n",
              "      <th>quantity_2</th>\n",
              "      <th>quantity_3</th>\n",
              "      <th>quantity_4</th>\n",
              "      <th>quantity_5</th>\n",
              "      <th>quantity_6</th>\n",
              "      <th>quantity_7</th>\n",
              "      <th>quantity_8</th>\n",
              "    </tr>\n",
              "  </thead>\n",
              "  <tbody>\n",
              "    <tr>\n",
              "      <th>count</th>\n",
              "      <td>19149.000000</td>\n",
              "      <td>14786.000000</td>\n",
              "      <td>4798.000000</td>\n",
              "      <td>608.000000</td>\n",
              "      <td>92.000000</td>\n",
              "      <td>26.000000</td>\n",
              "      <td>7.0</td>\n",
              "      <td>1.0</td>\n",
              "    </tr>\n",
              "    <tr>\n",
              "      <th>mean</th>\n",
              "      <td>1.559873</td>\n",
              "      <td>1.526106</td>\n",
              "      <td>1.020634</td>\n",
              "      <td>1.027961</td>\n",
              "      <td>1.032609</td>\n",
              "      <td>1.153846</td>\n",
              "      <td>1.0</td>\n",
              "      <td>1.0</td>\n",
              "    </tr>\n",
              "    <tr>\n",
              "      <th>std</th>\n",
              "      <td>0.507444</td>\n",
              "      <td>0.510851</td>\n",
              "      <td>0.160100</td>\n",
              "      <td>0.209041</td>\n",
              "      <td>0.178583</td>\n",
              "      <td>0.367946</td>\n",
              "      <td>0.0</td>\n",
              "      <td>NaN</td>\n",
              "    </tr>\n",
              "    <tr>\n",
              "      <th>min</th>\n",
              "      <td>1.000000</td>\n",
              "      <td>1.000000</td>\n",
              "      <td>1.000000</td>\n",
              "      <td>1.000000</td>\n",
              "      <td>1.000000</td>\n",
              "      <td>1.000000</td>\n",
              "      <td>1.0</td>\n",
              "      <td>1.0</td>\n",
              "    </tr>\n",
              "    <tr>\n",
              "      <th>25%</th>\n",
              "      <td>1.000000</td>\n",
              "      <td>1.000000</td>\n",
              "      <td>1.000000</td>\n",
              "      <td>1.000000</td>\n",
              "      <td>1.000000</td>\n",
              "      <td>1.000000</td>\n",
              "      <td>1.0</td>\n",
              "      <td>1.0</td>\n",
              "    </tr>\n",
              "    <tr>\n",
              "      <th>50%</th>\n",
              "      <td>2.000000</td>\n",
              "      <td>2.000000</td>\n",
              "      <td>1.000000</td>\n",
              "      <td>1.000000</td>\n",
              "      <td>1.000000</td>\n",
              "      <td>1.000000</td>\n",
              "      <td>1.0</td>\n",
              "      <td>1.0</td>\n",
              "    </tr>\n",
              "    <tr>\n",
              "      <th>75%</th>\n",
              "      <td>2.000000</td>\n",
              "      <td>2.000000</td>\n",
              "      <td>1.000000</td>\n",
              "      <td>1.000000</td>\n",
              "      <td>1.000000</td>\n",
              "      <td>1.000000</td>\n",
              "      <td>1.0</td>\n",
              "      <td>1.0</td>\n",
              "    </tr>\n",
              "    <tr>\n",
              "      <th>max</th>\n",
              "      <td>6.000000</td>\n",
              "      <td>6.000000</td>\n",
              "      <td>4.000000</td>\n",
              "      <td>4.000000</td>\n",
              "      <td>2.000000</td>\n",
              "      <td>2.000000</td>\n",
              "      <td>1.0</td>\n",
              "      <td>1.0</td>\n",
              "    </tr>\n",
              "  </tbody>\n",
              "</table>\n",
              "</div>"
            ],
            "text/plain": [
              "         quantity_1    quantity_2  ...  quantity_7  quantity_8\n",
              "count  19149.000000  14786.000000  ...         7.0         1.0\n",
              "mean       1.559873      1.526106  ...         1.0         1.0\n",
              "std        0.507444      0.510851  ...         0.0         NaN\n",
              "min        1.000000      1.000000  ...         1.0         1.0\n",
              "25%        1.000000      1.000000  ...         1.0         1.0\n",
              "50%        2.000000      2.000000  ...         1.0         1.0\n",
              "75%        2.000000      2.000000  ...         1.0         1.0\n",
              "max        6.000000      6.000000  ...         1.0         1.0\n",
              "\n",
              "[8 rows x 8 columns]"
            ]
          },
          "metadata": {
            "tags": []
          },
          "execution_count": 56
        }
      ]
    },
    {
      "cell_type": "code",
      "metadata": {
        "id": "W4DIFilyKiqb",
        "colab_type": "code",
        "outputId": "949f7fb4-47a8-4763-b2e0-0fdf9f803ec1",
        "colab": {
          "base_uri": "https://localhost:8080/",
          "height": 54
        }
      },
      "source": [
        "train_wrangled.shape, val_wrangled.shape"
      ],
      "execution_count": 57,
      "outputs": [
        {
          "output_type": "execute_result",
          "data": {
            "text/plain": [
              "((22628, 29), (7585, 29))"
            ]
          },
          "metadata": {
            "tags": []
          },
          "execution_count": 57
        }
      ]
    },
    {
      "cell_type": "code",
      "metadata": {
        "id": "YGJgZVOIKzrD",
        "colab_type": "code",
        "outputId": "061c86f7-0e10-4601-e81d-cd6300626084",
        "colab": {
          "base_uri": "https://localhost:8080/",
          "height": 549
        }
      },
      "source": [
        "train_wrangled.head(10)"
      ],
      "execution_count": 58,
      "outputs": [
        {
          "output_type": "execute_result",
          "data": {
            "text/html": [
              "<div>\n",
              "<style scoped>\n",
              "    .dataframe tbody tr th:only-of-type {\n",
              "        vertical-align: middle;\n",
              "    }\n",
              "\n",
              "    .dataframe tbody tr th {\n",
              "        vertical-align: top;\n",
              "    }\n",
              "\n",
              "    .dataframe thead th {\n",
              "        text-align: right;\n",
              "    }\n",
              "</style>\n",
              "<table border=\"1\" class=\"dataframe\">\n",
              "  <thead>\n",
              "    <tr style=\"text-align: right;\">\n",
              "      <th></th>\n",
              "      <th>supplier</th>\n",
              "      <th>annual_usage</th>\n",
              "      <th>min_order_quantity</th>\n",
              "      <th>bracket_pricing</th>\n",
              "      <th>quantity</th>\n",
              "      <th>cost</th>\n",
              "      <th>quote_year</th>\n",
              "      <th>quote_month</th>\n",
              "      <th>material_id</th>\n",
              "      <th>diameter</th>\n",
              "      <th>wall</th>\n",
              "      <th>length</th>\n",
              "      <th>num_bends</th>\n",
              "      <th>bend_radius</th>\n",
              "      <th>end_a_1x</th>\n",
              "      <th>end_a_2x</th>\n",
              "      <th>end_x_1x</th>\n",
              "      <th>end_x_2x</th>\n",
              "      <th>end_a</th>\n",
              "      <th>end_x</th>\n",
              "      <th>num_boss</th>\n",
              "      <th>num_bracket</th>\n",
              "      <th>other</th>\n",
              "      <th>component_id_1</th>\n",
              "      <th>components_total</th>\n",
              "      <th>components_distinct</th>\n",
              "      <th>component_type_id</th>\n",
              "      <th>specs_total</th>\n",
              "      <th>spec1</th>\n",
              "    </tr>\n",
              "  </thead>\n",
              "  <tbody>\n",
              "    <tr>\n",
              "      <th>0</th>\n",
              "      <td>S-0066</td>\n",
              "      <td>0</td>\n",
              "      <td>0</td>\n",
              "      <td>Yes</td>\n",
              "      <td>1</td>\n",
              "      <td>21.972702</td>\n",
              "      <td>2013</td>\n",
              "      <td>7</td>\n",
              "      <td>SP-0019</td>\n",
              "      <td>6.35</td>\n",
              "      <td>0.71</td>\n",
              "      <td>137.0</td>\n",
              "      <td>9</td>\n",
              "      <td>19.05</td>\n",
              "      <td>N</td>\n",
              "      <td>N</td>\n",
              "      <td>N</td>\n",
              "      <td>N</td>\n",
              "      <td>EF-008</td>\n",
              "      <td>EF-008</td>\n",
              "      <td>0</td>\n",
              "      <td>0</td>\n",
              "      <td>0</td>\n",
              "      <td>C-1312</td>\n",
              "      <td>2.0</td>\n",
              "      <td>1</td>\n",
              "      <td>CP-028</td>\n",
              "      <td>0</td>\n",
              "      <td>NaN</td>\n",
              "    </tr>\n",
              "    <tr>\n",
              "      <th>1</th>\n",
              "      <td>S-0066</td>\n",
              "      <td>0</td>\n",
              "      <td>0</td>\n",
              "      <td>Yes</td>\n",
              "      <td>2</td>\n",
              "      <td>12.407983</td>\n",
              "      <td>2013</td>\n",
              "      <td>7</td>\n",
              "      <td>SP-0019</td>\n",
              "      <td>6.35</td>\n",
              "      <td>0.71</td>\n",
              "      <td>137.0</td>\n",
              "      <td>9</td>\n",
              "      <td>19.05</td>\n",
              "      <td>N</td>\n",
              "      <td>N</td>\n",
              "      <td>N</td>\n",
              "      <td>N</td>\n",
              "      <td>EF-008</td>\n",
              "      <td>EF-008</td>\n",
              "      <td>0</td>\n",
              "      <td>0</td>\n",
              "      <td>0</td>\n",
              "      <td>C-1312</td>\n",
              "      <td>2.0</td>\n",
              "      <td>1</td>\n",
              "      <td>CP-028</td>\n",
              "      <td>0</td>\n",
              "      <td>NaN</td>\n",
              "    </tr>\n",
              "    <tr>\n",
              "      <th>2</th>\n",
              "      <td>S-0066</td>\n",
              "      <td>0</td>\n",
              "      <td>0</td>\n",
              "      <td>Yes</td>\n",
              "      <td>5</td>\n",
              "      <td>6.668596</td>\n",
              "      <td>2013</td>\n",
              "      <td>7</td>\n",
              "      <td>SP-0019</td>\n",
              "      <td>6.35</td>\n",
              "      <td>0.71</td>\n",
              "      <td>137.0</td>\n",
              "      <td>9</td>\n",
              "      <td>19.05</td>\n",
              "      <td>N</td>\n",
              "      <td>N</td>\n",
              "      <td>N</td>\n",
              "      <td>N</td>\n",
              "      <td>EF-008</td>\n",
              "      <td>EF-008</td>\n",
              "      <td>0</td>\n",
              "      <td>0</td>\n",
              "      <td>0</td>\n",
              "      <td>C-1312</td>\n",
              "      <td>2.0</td>\n",
              "      <td>1</td>\n",
              "      <td>CP-028</td>\n",
              "      <td>0</td>\n",
              "      <td>NaN</td>\n",
              "    </tr>\n",
              "    <tr>\n",
              "      <th>3</th>\n",
              "      <td>S-0066</td>\n",
              "      <td>0</td>\n",
              "      <td>0</td>\n",
              "      <td>Yes</td>\n",
              "      <td>10</td>\n",
              "      <td>4.754539</td>\n",
              "      <td>2013</td>\n",
              "      <td>7</td>\n",
              "      <td>SP-0019</td>\n",
              "      <td>6.35</td>\n",
              "      <td>0.71</td>\n",
              "      <td>137.0</td>\n",
              "      <td>9</td>\n",
              "      <td>19.05</td>\n",
              "      <td>N</td>\n",
              "      <td>N</td>\n",
              "      <td>N</td>\n",
              "      <td>N</td>\n",
              "      <td>EF-008</td>\n",
              "      <td>EF-008</td>\n",
              "      <td>0</td>\n",
              "      <td>0</td>\n",
              "      <td>0</td>\n",
              "      <td>C-1312</td>\n",
              "      <td>2.0</td>\n",
              "      <td>1</td>\n",
              "      <td>CP-028</td>\n",
              "      <td>0</td>\n",
              "      <td>NaN</td>\n",
              "    </tr>\n",
              "    <tr>\n",
              "      <th>4</th>\n",
              "      <td>S-0066</td>\n",
              "      <td>0</td>\n",
              "      <td>0</td>\n",
              "      <td>Yes</td>\n",
              "      <td>25</td>\n",
              "      <td>3.608331</td>\n",
              "      <td>2013</td>\n",
              "      <td>7</td>\n",
              "      <td>SP-0019</td>\n",
              "      <td>6.35</td>\n",
              "      <td>0.71</td>\n",
              "      <td>137.0</td>\n",
              "      <td>9</td>\n",
              "      <td>19.05</td>\n",
              "      <td>N</td>\n",
              "      <td>N</td>\n",
              "      <td>N</td>\n",
              "      <td>N</td>\n",
              "      <td>EF-008</td>\n",
              "      <td>EF-008</td>\n",
              "      <td>0</td>\n",
              "      <td>0</td>\n",
              "      <td>0</td>\n",
              "      <td>C-1312</td>\n",
              "      <td>2.0</td>\n",
              "      <td>1</td>\n",
              "      <td>CP-028</td>\n",
              "      <td>0</td>\n",
              "      <td>NaN</td>\n",
              "    </tr>\n",
              "    <tr>\n",
              "      <th>5</th>\n",
              "      <td>S-0066</td>\n",
              "      <td>0</td>\n",
              "      <td>0</td>\n",
              "      <td>Yes</td>\n",
              "      <td>50</td>\n",
              "      <td>3.291176</td>\n",
              "      <td>2013</td>\n",
              "      <td>7</td>\n",
              "      <td>SP-0019</td>\n",
              "      <td>6.35</td>\n",
              "      <td>0.71</td>\n",
              "      <td>137.0</td>\n",
              "      <td>9</td>\n",
              "      <td>19.05</td>\n",
              "      <td>N</td>\n",
              "      <td>N</td>\n",
              "      <td>N</td>\n",
              "      <td>N</td>\n",
              "      <td>EF-008</td>\n",
              "      <td>EF-008</td>\n",
              "      <td>0</td>\n",
              "      <td>0</td>\n",
              "      <td>0</td>\n",
              "      <td>C-1312</td>\n",
              "      <td>2.0</td>\n",
              "      <td>1</td>\n",
              "      <td>CP-028</td>\n",
              "      <td>0</td>\n",
              "      <td>NaN</td>\n",
              "    </tr>\n",
              "    <tr>\n",
              "      <th>6</th>\n",
              "      <td>S-0066</td>\n",
              "      <td>0</td>\n",
              "      <td>0</td>\n",
              "      <td>Yes</td>\n",
              "      <td>100</td>\n",
              "      <td>3.149291</td>\n",
              "      <td>2013</td>\n",
              "      <td>7</td>\n",
              "      <td>SP-0019</td>\n",
              "      <td>6.35</td>\n",
              "      <td>0.71</td>\n",
              "      <td>137.0</td>\n",
              "      <td>9</td>\n",
              "      <td>19.05</td>\n",
              "      <td>N</td>\n",
              "      <td>N</td>\n",
              "      <td>N</td>\n",
              "      <td>N</td>\n",
              "      <td>EF-008</td>\n",
              "      <td>EF-008</td>\n",
              "      <td>0</td>\n",
              "      <td>0</td>\n",
              "      <td>0</td>\n",
              "      <td>C-1312</td>\n",
              "      <td>2.0</td>\n",
              "      <td>1</td>\n",
              "      <td>CP-028</td>\n",
              "      <td>0</td>\n",
              "      <td>NaN</td>\n",
              "    </tr>\n",
              "    <tr>\n",
              "      <th>7</th>\n",
              "      <td>S-0066</td>\n",
              "      <td>0</td>\n",
              "      <td>0</td>\n",
              "      <td>Yes</td>\n",
              "      <td>250</td>\n",
              "      <td>3.065829</td>\n",
              "      <td>2013</td>\n",
              "      <td>7</td>\n",
              "      <td>SP-0019</td>\n",
              "      <td>6.35</td>\n",
              "      <td>0.71</td>\n",
              "      <td>137.0</td>\n",
              "      <td>9</td>\n",
              "      <td>19.05</td>\n",
              "      <td>N</td>\n",
              "      <td>N</td>\n",
              "      <td>N</td>\n",
              "      <td>N</td>\n",
              "      <td>EF-008</td>\n",
              "      <td>EF-008</td>\n",
              "      <td>0</td>\n",
              "      <td>0</td>\n",
              "      <td>0</td>\n",
              "      <td>C-1312</td>\n",
              "      <td>2.0</td>\n",
              "      <td>1</td>\n",
              "      <td>CP-028</td>\n",
              "      <td>0</td>\n",
              "      <td>NaN</td>\n",
              "    </tr>\n",
              "    <tr>\n",
              "      <th>8</th>\n",
              "      <td>S-0066</td>\n",
              "      <td>0</td>\n",
              "      <td>0</td>\n",
              "      <td>Yes</td>\n",
              "      <td>1</td>\n",
              "      <td>28.374220</td>\n",
              "      <td>2013</td>\n",
              "      <td>9</td>\n",
              "      <td>SP-0029</td>\n",
              "      <td>19.05</td>\n",
              "      <td>1.24</td>\n",
              "      <td>109.0</td>\n",
              "      <td>4</td>\n",
              "      <td>50.80</td>\n",
              "      <td>N</td>\n",
              "      <td>N</td>\n",
              "      <td>N</td>\n",
              "      <td>N</td>\n",
              "      <td>EF-003</td>\n",
              "      <td>EF-003</td>\n",
              "      <td>0</td>\n",
              "      <td>0</td>\n",
              "      <td>0</td>\n",
              "      <td>C-1624</td>\n",
              "      <td>3.0</td>\n",
              "      <td>3</td>\n",
              "      <td>CP-025</td>\n",
              "      <td>0</td>\n",
              "      <td>NaN</td>\n",
              "    </tr>\n",
              "    <tr>\n",
              "      <th>9</th>\n",
              "      <td>S-0066</td>\n",
              "      <td>0</td>\n",
              "      <td>0</td>\n",
              "      <td>Yes</td>\n",
              "      <td>2</td>\n",
              "      <td>16.514303</td>\n",
              "      <td>2013</td>\n",
              "      <td>9</td>\n",
              "      <td>SP-0029</td>\n",
              "      <td>19.05</td>\n",
              "      <td>1.24</td>\n",
              "      <td>109.0</td>\n",
              "      <td>4</td>\n",
              "      <td>50.80</td>\n",
              "      <td>N</td>\n",
              "      <td>N</td>\n",
              "      <td>N</td>\n",
              "      <td>N</td>\n",
              "      <td>EF-003</td>\n",
              "      <td>EF-003</td>\n",
              "      <td>0</td>\n",
              "      <td>0</td>\n",
              "      <td>0</td>\n",
              "      <td>C-1624</td>\n",
              "      <td>3.0</td>\n",
              "      <td>3</td>\n",
              "      <td>CP-025</td>\n",
              "      <td>0</td>\n",
              "      <td>NaN</td>\n",
              "    </tr>\n",
              "  </tbody>\n",
              "</table>\n",
              "</div>"
            ],
            "text/plain": [
              "  supplier  annual_usage  ...  specs_total spec1\n",
              "0   S-0066             0  ...            0   NaN\n",
              "1   S-0066             0  ...            0   NaN\n",
              "2   S-0066             0  ...            0   NaN\n",
              "3   S-0066             0  ...            0   NaN\n",
              "4   S-0066             0  ...            0   NaN\n",
              "5   S-0066             0  ...            0   NaN\n",
              "6   S-0066             0  ...            0   NaN\n",
              "7   S-0066             0  ...            0   NaN\n",
              "8   S-0066             0  ...            0   NaN\n",
              "9   S-0066             0  ...            0   NaN\n",
              "\n",
              "[10 rows x 29 columns]"
            ]
          },
          "metadata": {
            "tags": []
          },
          "execution_count": 58
        }
      ]
    },
    {
      "cell_type": "code",
      "metadata": {
        "id": "UZn4bwo7CQeY",
        "colab_type": "code",
        "outputId": "d7552e96-521c-4873-a015-4f0ed7004ffb",
        "colab": {
          "base_uri": "https://localhost:8080/",
          "height": 88
        }
      },
      "source": [
        "%%time\n",
        "# adding specs to tube+df only makes the prediction worse\n",
        "\n",
        "X_train = train_wrangled.drop(columns=target)\n",
        "X_val = val_wrangled.drop(columns=target)\n",
        "\n",
        "pipeline = make_pipeline(\n",
        "    ce.OrdinalEncoder(), \n",
        "    RandomForestRegressor(n_estimators=100, random_state=42, n_jobs=-1)\n",
        ")\n",
        "\n",
        "pipeline.fit(X_train, y_train_log)\n",
        "y_pred_log = pipeline.predict(X_val)\n",
        "print(rmse(y_val_log, y_pred_log))"
      ],
      "execution_count": 59,
      "outputs": [
        {
          "output_type": "stream",
          "text": [
            "0.2958563668935705\n",
            "CPU times: user 19.4 s, sys: 152 ms, total: 19.6 s\n",
            "Wall time: 10.1 s\n"
          ],
          "name": "stdout"
        }
      ]
    },
    {
      "cell_type": "code",
      "metadata": {
        "id": "f2UsnA_MCsXi",
        "colab_type": "code",
        "outputId": "474bc888-22cb-4d24-b707-1a0da9609af9",
        "colab": {
          "base_uri": "https://localhost:8080/",
          "height": 54
        }
      },
      "source": [
        "test_wrangled = wrangle(test)\n",
        "X_test =test_wrangled.drop(columns = 'id')\n",
        "all(X_test.columns == X_train.columns)"
      ],
      "execution_count": 60,
      "outputs": [
        {
          "output_type": "execute_result",
          "data": {
            "text/plain": [
              "True"
            ]
          },
          "metadata": {
            "tags": []
          },
          "execution_count": 60
        }
      ]
    },
    {
      "cell_type": "code",
      "metadata": {
        "id": "NJu0djY44B2B",
        "colab_type": "code",
        "colab": {}
      },
      "source": [
        "def generate_submission(estimator, X_test, filename):\n",
        "    y_pred_log = estimator.predict(X_test)\n",
        "    y_pred = np.expm1(y_pred_log)  # Convert from log-dollars to dollars\n",
        "    submission = pd.read_csv('sample_submission.csv')\n",
        "    submission['cost'] = y_pred\n",
        "    submission.to_csv(filename, index=False)\n",
        "    \n",
        "generate_submission(pipeline, X_test, 'submission-02.csv')"
      ],
      "execution_count": 0,
      "outputs": []
    },
    {
      "cell_type": "code",
      "metadata": {
        "id": "e3mz6PSbLoXI",
        "colab_type": "code",
        "colab": {}
      },
      "source": [
        "y_pred_log = pipeline.predict(X_test)\n",
        "y_pred = np.expm1(y_pred_log)\n",
        "\n",
        "sample_submission = pd.read_csv('sample_submission.csv')\n",
        "submission = sample_submission.copy()\n",
        "submission['cost'] = y_pred\n",
        "submission.to_csv('submission-01', index=False)"
      ],
      "execution_count": 0,
      "outputs": []
    },
    {
      "cell_type": "code",
      "metadata": {
        "id": "E9oenqT-t5ns",
        "colab_type": "code",
        "outputId": "751f4d30-c705-4ecf-d024-229c15ad9932",
        "colab": {
          "base_uri": "https://localhost:8080/",
          "height": 54
        }
      },
      "source": [
        "import xgboost as xgb\n",
        "xgb.__version__"
      ],
      "execution_count": 63,
      "outputs": [
        {
          "output_type": "execute_result",
          "data": {
            "text/plain": [
              "'0.90'"
            ]
          },
          "metadata": {
            "tags": []
          },
          "execution_count": 63
        }
      ]
    },
    {
      "cell_type": "code",
      "metadata": {
        "id": "GdDDNSjXuMEi",
        "colab_type": "code",
        "outputId": "efe4fc54-8a5d-4309-e190-90437121b372",
        "colab": {
          "base_uri": "https://localhost:8080/",
          "height": 139
        }
      },
      "source": [
        "%%time\n",
        "\n",
        "from xgboost import XGBRegressor\n",
        "pipeline = make_pipeline(\n",
        "    ce.OrdinalEncoder(),\n",
        "    XGBRegressor(n_estimators=100, n_jobs=-1)\n",
        ")\n",
        "pipeline.fit(X_train, y_train_log)\n",
        "y_pred_log = pipeline.predict(X_val)\n",
        "print('Validation Error', rmse(y_val_log, y_pred_log))"
      ],
      "execution_count": 64,
      "outputs": [
        {
          "output_type": "stream",
          "text": [
            "/usr/local/lib/python3.6/dist-packages/xgboost/core.py:587: FutureWarning: Series.base is deprecated and will be removed in a future version\n",
            "  if getattr(data, 'base', None) is not None and \\\n"
          ],
          "name": "stderr"
        },
        {
          "output_type": "stream",
          "text": [
            "[21:05:34] WARNING: /workspace/src/objective/regression_obj.cu:152: reg:linear is now deprecated in favor of reg:squarederror.\n",
            "Validation Error 0.33353003763257383\n",
            "CPU times: user 3.12 s, sys: 47.2 ms, total: 3.17 s\n",
            "Wall time: 1.9 s\n"
          ],
          "name": "stdout"
        }
      ]
    },
    {
      "cell_type": "code",
      "metadata": {
        "id": "Wdbx9RGr8KoF",
        "colab_type": "code",
        "outputId": "5dbc5db2-3119-4b88-ed75-0fcd814bd135",
        "colab": {
          "base_uri": "https://localhost:8080/",
          "height": 54
        }
      },
      "source": [
        "X_train.shape"
      ],
      "execution_count": 65,
      "outputs": [
        {
          "output_type": "execute_result",
          "data": {
            "text/plain": [
              "(22628, 28)"
            ]
          },
          "metadata": {
            "tags": []
          },
          "execution_count": 65
        }
      ]
    },
    {
      "cell_type": "code",
      "metadata": {
        "id": "ZdsxptlvvIkW",
        "colab_type": "code",
        "outputId": "e2c537ad-238f-4715-c473-d1b9361270cd",
        "colab": {
          "base_uri": "https://localhost:8080/",
          "height": 1000
        }
      },
      "source": [
        "encoder = ce.OrdinalEncoder()\n",
        "X_train_encoded = encoder.fit_transform(X_train)\n",
        "X_val_encoded = encoder.transform(X_val)\n",
        "\n",
        "eval_set = [(X_train_encoded, y_train_log),\n",
        "            (X_val_encoded, y_val_log)]\n",
        "\n",
        "model = XGBRegressor(n_estimators=531, n_jobs=-1)\n",
        "model.fit(X_train_encoded, y_train_log,\n",
        "          early_stopping_rounds=10, eval_metric='rmse',\n",
        "         eval_set=eval_set\n",
        "         )"
      ],
      "execution_count": 66,
      "outputs": [
        {
          "output_type": "stream",
          "text": [
            "[21:05:36] WARNING: /workspace/src/objective/regression_obj.cu:152: reg:linear is now deprecated in favor of reg:squarederror.\n",
            "[0]\tvalidation_0-rmse:1.71924\tvalidation_1-rmse:1.70846\n",
            "Multiple eval metrics have been passed: 'validation_1-rmse' will be used for early stopping.\n",
            "\n",
            "Will train until validation_1-rmse hasn't improved in 10 rounds.\n",
            "[1]\tvalidation_0-rmse:1.56516\tvalidation_1-rmse:1.55498\n",
            "[2]\tvalidation_0-rmse:1.42779\tvalidation_1-rmse:1.41846\n",
            "[3]\tvalidation_0-rmse:1.30338\tvalidation_1-rmse:1.2943\n"
          ],
          "name": "stdout"
        },
        {
          "output_type": "stream",
          "text": [
            "/usr/local/lib/python3.6/dist-packages/xgboost/core.py:587: FutureWarning: Series.base is deprecated and will be removed in a future version\n",
            "  if getattr(data, 'base', None) is not None and \\\n"
          ],
          "name": "stderr"
        },
        {
          "output_type": "stream",
          "text": [
            "[4]\tvalidation_0-rmse:1.19168\tvalidation_1-rmse:1.18295\n",
            "[5]\tvalidation_0-rmse:1.09322\tvalidation_1-rmse:1.08553\n",
            "[6]\tvalidation_0-rmse:1.0052\tvalidation_1-rmse:0.997831\n",
            "[7]\tvalidation_0-rmse:0.927625\tvalidation_1-rmse:0.922043\n",
            "[8]\tvalidation_0-rmse:0.859916\tvalidation_1-rmse:0.857021\n",
            "[9]\tvalidation_0-rmse:0.799929\tvalidation_1-rmse:0.798434\n",
            "[10]\tvalidation_0-rmse:0.747475\tvalidation_1-rmse:0.747741\n",
            "[11]\tvalidation_0-rmse:0.700332\tvalidation_1-rmse:0.700594\n",
            "[12]\tvalidation_0-rmse:0.660555\tvalidation_1-rmse:0.662626\n",
            "[13]\tvalidation_0-rmse:0.623149\tvalidation_1-rmse:0.625612\n",
            "[14]\tvalidation_0-rmse:0.592345\tvalidation_1-rmse:0.5964\n",
            "[15]\tvalidation_0-rmse:0.563783\tvalidation_1-rmse:0.568364\n",
            "[16]\tvalidation_0-rmse:0.540559\tvalidation_1-rmse:0.546317\n",
            "[17]\tvalidation_0-rmse:0.519686\tvalidation_1-rmse:0.5262\n",
            "[18]\tvalidation_0-rmse:0.501662\tvalidation_1-rmse:0.509163\n",
            "[19]\tvalidation_0-rmse:0.483726\tvalidation_1-rmse:0.492813\n",
            "[20]\tvalidation_0-rmse:0.469636\tvalidation_1-rmse:0.478782\n",
            "[21]\tvalidation_0-rmse:0.457695\tvalidation_1-rmse:0.468263\n",
            "[22]\tvalidation_0-rmse:0.447907\tvalidation_1-rmse:0.458799\n",
            "[23]\tvalidation_0-rmse:0.438942\tvalidation_1-rmse:0.449799\n",
            "[24]\tvalidation_0-rmse:0.429625\tvalidation_1-rmse:0.440613\n",
            "[25]\tvalidation_0-rmse:0.422943\tvalidation_1-rmse:0.434739\n",
            "[26]\tvalidation_0-rmse:0.416956\tvalidation_1-rmse:0.429532\n",
            "[27]\tvalidation_0-rmse:0.410153\tvalidation_1-rmse:0.423022\n",
            "[28]\tvalidation_0-rmse:0.405576\tvalidation_1-rmse:0.417651\n",
            "[29]\tvalidation_0-rmse:0.400698\tvalidation_1-rmse:0.412916\n",
            "[30]\tvalidation_0-rmse:0.396107\tvalidation_1-rmse:0.40948\n",
            "[31]\tvalidation_0-rmse:0.393054\tvalidation_1-rmse:0.40554\n",
            "[32]\tvalidation_0-rmse:0.39014\tvalidation_1-rmse:0.401681\n",
            "[33]\tvalidation_0-rmse:0.386493\tvalidation_1-rmse:0.398426\n",
            "[34]\tvalidation_0-rmse:0.38329\tvalidation_1-rmse:0.396328\n",
            "[35]\tvalidation_0-rmse:0.37852\tvalidation_1-rmse:0.391736\n",
            "[36]\tvalidation_0-rmse:0.375238\tvalidation_1-rmse:0.389602\n",
            "[37]\tvalidation_0-rmse:0.37326\tvalidation_1-rmse:0.387398\n",
            "[38]\tvalidation_0-rmse:0.370992\tvalidation_1-rmse:0.3857\n",
            "[39]\tvalidation_0-rmse:0.369202\tvalidation_1-rmse:0.383936\n",
            "[40]\tvalidation_0-rmse:0.367039\tvalidation_1-rmse:0.382155\n",
            "[41]\tvalidation_0-rmse:0.365311\tvalidation_1-rmse:0.380851\n",
            "[42]\tvalidation_0-rmse:0.363798\tvalidation_1-rmse:0.379495\n",
            "[43]\tvalidation_0-rmse:0.361823\tvalidation_1-rmse:0.378165\n",
            "[44]\tvalidation_0-rmse:0.359383\tvalidation_1-rmse:0.375564\n",
            "[45]\tvalidation_0-rmse:0.357921\tvalidation_1-rmse:0.374927\n",
            "[46]\tvalidation_0-rmse:0.356576\tvalidation_1-rmse:0.374032\n",
            "[47]\tvalidation_0-rmse:0.355385\tvalidation_1-rmse:0.372458\n",
            "[48]\tvalidation_0-rmse:0.354158\tvalidation_1-rmse:0.370883\n",
            "[49]\tvalidation_0-rmse:0.353079\tvalidation_1-rmse:0.369956\n",
            "[50]\tvalidation_0-rmse:0.3502\tvalidation_1-rmse:0.367037\n",
            "[51]\tvalidation_0-rmse:0.348947\tvalidation_1-rmse:0.366224\n",
            "[52]\tvalidation_0-rmse:0.347172\tvalidation_1-rmse:0.364304\n",
            "[53]\tvalidation_0-rmse:0.346236\tvalidation_1-rmse:0.363871\n",
            "[54]\tvalidation_0-rmse:0.344947\tvalidation_1-rmse:0.362957\n",
            "[55]\tvalidation_0-rmse:0.343455\tvalidation_1-rmse:0.361312\n",
            "[56]\tvalidation_0-rmse:0.342268\tvalidation_1-rmse:0.359977\n",
            "[57]\tvalidation_0-rmse:0.341631\tvalidation_1-rmse:0.359263\n",
            "[58]\tvalidation_0-rmse:0.340681\tvalidation_1-rmse:0.358657\n",
            "[59]\tvalidation_0-rmse:0.338701\tvalidation_1-rmse:0.356926\n",
            "[60]\tvalidation_0-rmse:0.33766\tvalidation_1-rmse:0.356428\n",
            "[61]\tvalidation_0-rmse:0.336424\tvalidation_1-rmse:0.355204\n",
            "[62]\tvalidation_0-rmse:0.335251\tvalidation_1-rmse:0.354257\n",
            "[63]\tvalidation_0-rmse:0.334375\tvalidation_1-rmse:0.353547\n",
            "[64]\tvalidation_0-rmse:0.333534\tvalidation_1-rmse:0.352722\n",
            "[65]\tvalidation_0-rmse:0.333077\tvalidation_1-rmse:0.352104\n",
            "[66]\tvalidation_0-rmse:0.331714\tvalidation_1-rmse:0.351215\n",
            "[67]\tvalidation_0-rmse:0.330941\tvalidation_1-rmse:0.350759\n",
            "[68]\tvalidation_0-rmse:0.330041\tvalidation_1-rmse:0.349956\n",
            "[69]\tvalidation_0-rmse:0.329623\tvalidation_1-rmse:0.349673\n",
            "[70]\tvalidation_0-rmse:0.328939\tvalidation_1-rmse:0.349472\n",
            "[71]\tvalidation_0-rmse:0.328028\tvalidation_1-rmse:0.348644\n",
            "[72]\tvalidation_0-rmse:0.327362\tvalidation_1-rmse:0.348329\n",
            "[73]\tvalidation_0-rmse:0.326295\tvalidation_1-rmse:0.346953\n",
            "[74]\tvalidation_0-rmse:0.325889\tvalidation_1-rmse:0.346591\n",
            "[75]\tvalidation_0-rmse:0.325168\tvalidation_1-rmse:0.346032\n",
            "[76]\tvalidation_0-rmse:0.324252\tvalidation_1-rmse:0.34532\n",
            "[77]\tvalidation_0-rmse:0.323947\tvalidation_1-rmse:0.345247\n",
            "[78]\tvalidation_0-rmse:0.32363\tvalidation_1-rmse:0.344741\n",
            "[79]\tvalidation_0-rmse:0.323057\tvalidation_1-rmse:0.34441\n",
            "[80]\tvalidation_0-rmse:0.321625\tvalidation_1-rmse:0.342938\n",
            "[81]\tvalidation_0-rmse:0.319887\tvalidation_1-rmse:0.341586\n",
            "[82]\tvalidation_0-rmse:0.319141\tvalidation_1-rmse:0.340566\n",
            "[83]\tvalidation_0-rmse:0.318575\tvalidation_1-rmse:0.34018\n",
            "[84]\tvalidation_0-rmse:0.318289\tvalidation_1-rmse:0.340062\n",
            "[85]\tvalidation_0-rmse:0.317288\tvalidation_1-rmse:0.339187\n",
            "[86]\tvalidation_0-rmse:0.315098\tvalidation_1-rmse:0.337792\n",
            "[87]\tvalidation_0-rmse:0.314772\tvalidation_1-rmse:0.337534\n",
            "[88]\tvalidation_0-rmse:0.314269\tvalidation_1-rmse:0.337256\n",
            "[89]\tvalidation_0-rmse:0.314029\tvalidation_1-rmse:0.337182\n",
            "[90]\tvalidation_0-rmse:0.313399\tvalidation_1-rmse:0.336322\n",
            "[91]\tvalidation_0-rmse:0.312098\tvalidation_1-rmse:0.335228\n",
            "[92]\tvalidation_0-rmse:0.311625\tvalidation_1-rmse:0.334999\n",
            "[93]\tvalidation_0-rmse:0.31091\tvalidation_1-rmse:0.334669\n",
            "[94]\tvalidation_0-rmse:0.310724\tvalidation_1-rmse:0.334593\n",
            "[95]\tvalidation_0-rmse:0.310149\tvalidation_1-rmse:0.334309\n",
            "[96]\tvalidation_0-rmse:0.309639\tvalidation_1-rmse:0.333946\n",
            "[97]\tvalidation_0-rmse:0.309396\tvalidation_1-rmse:0.33382\n",
            "[98]\tvalidation_0-rmse:0.309164\tvalidation_1-rmse:0.333693\n",
            "[99]\tvalidation_0-rmse:0.308901\tvalidation_1-rmse:0.33353\n",
            "[100]\tvalidation_0-rmse:0.308192\tvalidation_1-rmse:0.333015\n",
            "[101]\tvalidation_0-rmse:0.307135\tvalidation_1-rmse:0.332183\n",
            "[102]\tvalidation_0-rmse:0.30635\tvalidation_1-rmse:0.331836\n",
            "[103]\tvalidation_0-rmse:0.3062\tvalidation_1-rmse:0.331777\n",
            "[104]\tvalidation_0-rmse:0.305964\tvalidation_1-rmse:0.331592\n",
            "[105]\tvalidation_0-rmse:0.305678\tvalidation_1-rmse:0.33143\n",
            "[106]\tvalidation_0-rmse:0.304136\tvalidation_1-rmse:0.330463\n",
            "[107]\tvalidation_0-rmse:0.303775\tvalidation_1-rmse:0.330102\n",
            "[108]\tvalidation_0-rmse:0.303105\tvalidation_1-rmse:0.329403\n",
            "[109]\tvalidation_0-rmse:0.302929\tvalidation_1-rmse:0.329357\n",
            "[110]\tvalidation_0-rmse:0.302729\tvalidation_1-rmse:0.329218\n",
            "[111]\tvalidation_0-rmse:0.302565\tvalidation_1-rmse:0.329175\n",
            "[112]\tvalidation_0-rmse:0.301694\tvalidation_1-rmse:0.328435\n",
            "[113]\tvalidation_0-rmse:0.30153\tvalidation_1-rmse:0.32827\n",
            "[114]\tvalidation_0-rmse:0.301167\tvalidation_1-rmse:0.327911\n",
            "[115]\tvalidation_0-rmse:0.300881\tvalidation_1-rmse:0.327384\n",
            "[116]\tvalidation_0-rmse:0.300532\tvalidation_1-rmse:0.327249\n",
            "[117]\tvalidation_0-rmse:0.29996\tvalidation_1-rmse:0.326745\n",
            "[118]\tvalidation_0-rmse:0.299757\tvalidation_1-rmse:0.326608\n",
            "[119]\tvalidation_0-rmse:0.298942\tvalidation_1-rmse:0.325633\n",
            "[120]\tvalidation_0-rmse:0.298799\tvalidation_1-rmse:0.325394\n",
            "[121]\tvalidation_0-rmse:0.298581\tvalidation_1-rmse:0.325296\n",
            "[122]\tvalidation_0-rmse:0.297981\tvalidation_1-rmse:0.325041\n",
            "[123]\tvalidation_0-rmse:0.296808\tvalidation_1-rmse:0.324299\n",
            "[124]\tvalidation_0-rmse:0.296205\tvalidation_1-rmse:0.324006\n",
            "[125]\tvalidation_0-rmse:0.295692\tvalidation_1-rmse:0.3235\n",
            "[126]\tvalidation_0-rmse:0.295542\tvalidation_1-rmse:0.323444\n",
            "[127]\tvalidation_0-rmse:0.2951\tvalidation_1-rmse:0.323291\n",
            "[128]\tvalidation_0-rmse:0.294851\tvalidation_1-rmse:0.323287\n",
            "[129]\tvalidation_0-rmse:0.294352\tvalidation_1-rmse:0.322572\n",
            "[130]\tvalidation_0-rmse:0.293945\tvalidation_1-rmse:0.322141\n",
            "[131]\tvalidation_0-rmse:0.293632\tvalidation_1-rmse:0.321928\n",
            "[132]\tvalidation_0-rmse:0.293191\tvalidation_1-rmse:0.321454\n",
            "[133]\tvalidation_0-rmse:0.292802\tvalidation_1-rmse:0.32125\n",
            "[134]\tvalidation_0-rmse:0.29263\tvalidation_1-rmse:0.321174\n",
            "[135]\tvalidation_0-rmse:0.292511\tvalidation_1-rmse:0.321289\n",
            "[136]\tvalidation_0-rmse:0.29203\tvalidation_1-rmse:0.32076\n",
            "[137]\tvalidation_0-rmse:0.291661\tvalidation_1-rmse:0.320421\n",
            "[138]\tvalidation_0-rmse:0.291382\tvalidation_1-rmse:0.320185\n",
            "[139]\tvalidation_0-rmse:0.290948\tvalidation_1-rmse:0.319794\n",
            "[140]\tvalidation_0-rmse:0.290569\tvalidation_1-rmse:0.319702\n",
            "[141]\tvalidation_0-rmse:0.290107\tvalidation_1-rmse:0.319278\n",
            "[142]\tvalidation_0-rmse:0.289774\tvalidation_1-rmse:0.31916\n",
            "[143]\tvalidation_0-rmse:0.289504\tvalidation_1-rmse:0.319006\n",
            "[144]\tvalidation_0-rmse:0.28927\tvalidation_1-rmse:0.318959\n",
            "[145]\tvalidation_0-rmse:0.289149\tvalidation_1-rmse:0.318867\n",
            "[146]\tvalidation_0-rmse:0.288531\tvalidation_1-rmse:0.318088\n",
            "[147]\tvalidation_0-rmse:0.288218\tvalidation_1-rmse:0.317771\n",
            "[148]\tvalidation_0-rmse:0.288105\tvalidation_1-rmse:0.31768\n",
            "[149]\tvalidation_0-rmse:0.287501\tvalidation_1-rmse:0.317112\n",
            "[150]\tvalidation_0-rmse:0.287182\tvalidation_1-rmse:0.316784\n",
            "[151]\tvalidation_0-rmse:0.286461\tvalidation_1-rmse:0.316538\n",
            "[152]\tvalidation_0-rmse:0.28613\tvalidation_1-rmse:0.316384\n",
            "[153]\tvalidation_0-rmse:0.286008\tvalidation_1-rmse:0.316327\n",
            "[154]\tvalidation_0-rmse:0.285845\tvalidation_1-rmse:0.316294\n",
            "[155]\tvalidation_0-rmse:0.28535\tvalidation_1-rmse:0.315859\n",
            "[156]\tvalidation_0-rmse:0.284829\tvalidation_1-rmse:0.315371\n",
            "[157]\tvalidation_0-rmse:0.284417\tvalidation_1-rmse:0.315119\n",
            "[158]\tvalidation_0-rmse:0.284117\tvalidation_1-rmse:0.314943\n",
            "[159]\tvalidation_0-rmse:0.284032\tvalidation_1-rmse:0.315052\n",
            "[160]\tvalidation_0-rmse:0.283669\tvalidation_1-rmse:0.314693\n",
            "[161]\tvalidation_0-rmse:0.28357\tvalidation_1-rmse:0.314717\n",
            "[162]\tvalidation_0-rmse:0.283151\tvalidation_1-rmse:0.314402\n",
            "[163]\tvalidation_0-rmse:0.282744\tvalidation_1-rmse:0.314152\n",
            "[164]\tvalidation_0-rmse:0.282473\tvalidation_1-rmse:0.313973\n",
            "[165]\tvalidation_0-rmse:0.282166\tvalidation_1-rmse:0.313793\n",
            "[166]\tvalidation_0-rmse:0.28176\tvalidation_1-rmse:0.313435\n",
            "[167]\tvalidation_0-rmse:0.28141\tvalidation_1-rmse:0.313312\n",
            "[168]\tvalidation_0-rmse:0.281099\tvalidation_1-rmse:0.313151\n",
            "[169]\tvalidation_0-rmse:0.280974\tvalidation_1-rmse:0.313128\n",
            "[170]\tvalidation_0-rmse:0.280554\tvalidation_1-rmse:0.312729\n",
            "[171]\tvalidation_0-rmse:0.2804\tvalidation_1-rmse:0.312695\n",
            "[172]\tvalidation_0-rmse:0.280155\tvalidation_1-rmse:0.312535\n",
            "[173]\tvalidation_0-rmse:0.27986\tvalidation_1-rmse:0.312475\n",
            "[174]\tvalidation_0-rmse:0.279778\tvalidation_1-rmse:0.312481\n",
            "[175]\tvalidation_0-rmse:0.279425\tvalidation_1-rmse:0.312165\n",
            "[176]\tvalidation_0-rmse:0.279206\tvalidation_1-rmse:0.311959\n",
            "[177]\tvalidation_0-rmse:0.278995\tvalidation_1-rmse:0.311801\n",
            "[178]\tvalidation_0-rmse:0.278881\tvalidation_1-rmse:0.311705\n",
            "[179]\tvalidation_0-rmse:0.278641\tvalidation_1-rmse:0.311511\n",
            "[180]\tvalidation_0-rmse:0.278423\tvalidation_1-rmse:0.311354\n",
            "[181]\tvalidation_0-rmse:0.278206\tvalidation_1-rmse:0.311154\n",
            "[182]\tvalidation_0-rmse:0.277955\tvalidation_1-rmse:0.311071\n",
            "[183]\tvalidation_0-rmse:0.277714\tvalidation_1-rmse:0.310974\n",
            "[184]\tvalidation_0-rmse:0.277416\tvalidation_1-rmse:0.310874\n",
            "[185]\tvalidation_0-rmse:0.277191\tvalidation_1-rmse:0.310765\n",
            "[186]\tvalidation_0-rmse:0.276933\tvalidation_1-rmse:0.310647\n",
            "[187]\tvalidation_0-rmse:0.27666\tvalidation_1-rmse:0.310426\n",
            "[188]\tvalidation_0-rmse:0.276593\tvalidation_1-rmse:0.31045\n",
            "[189]\tvalidation_0-rmse:0.276371\tvalidation_1-rmse:0.31038\n",
            "[190]\tvalidation_0-rmse:0.276305\tvalidation_1-rmse:0.310303\n",
            "[191]\tvalidation_0-rmse:0.275999\tvalidation_1-rmse:0.310252\n",
            "[192]\tvalidation_0-rmse:0.275802\tvalidation_1-rmse:0.310074\n",
            "[193]\tvalidation_0-rmse:0.27561\tvalidation_1-rmse:0.309921\n",
            "[194]\tvalidation_0-rmse:0.275368\tvalidation_1-rmse:0.309678\n",
            "[195]\tvalidation_0-rmse:0.275062\tvalidation_1-rmse:0.309429\n",
            "[196]\tvalidation_0-rmse:0.274836\tvalidation_1-rmse:0.309292\n",
            "[197]\tvalidation_0-rmse:0.274484\tvalidation_1-rmse:0.308809\n",
            "[198]\tvalidation_0-rmse:0.274315\tvalidation_1-rmse:0.308822\n",
            "[199]\tvalidation_0-rmse:0.274101\tvalidation_1-rmse:0.308625\n",
            "[200]\tvalidation_0-rmse:0.273849\tvalidation_1-rmse:0.308413\n",
            "[201]\tvalidation_0-rmse:0.273319\tvalidation_1-rmse:0.308168\n",
            "[202]\tvalidation_0-rmse:0.272993\tvalidation_1-rmse:0.307925\n",
            "[203]\tvalidation_0-rmse:0.272905\tvalidation_1-rmse:0.307929\n",
            "[204]\tvalidation_0-rmse:0.272743\tvalidation_1-rmse:0.307837\n",
            "[205]\tvalidation_0-rmse:0.272568\tvalidation_1-rmse:0.307689\n",
            "[206]\tvalidation_0-rmse:0.272528\tvalidation_1-rmse:0.307647\n",
            "[207]\tvalidation_0-rmse:0.27244\tvalidation_1-rmse:0.307653\n",
            "[208]\tvalidation_0-rmse:0.272287\tvalidation_1-rmse:0.307485\n",
            "[209]\tvalidation_0-rmse:0.27207\tvalidation_1-rmse:0.307496\n",
            "[210]\tvalidation_0-rmse:0.271954\tvalidation_1-rmse:0.307541\n",
            "[211]\tvalidation_0-rmse:0.271133\tvalidation_1-rmse:0.306911\n",
            "[212]\tvalidation_0-rmse:0.27094\tvalidation_1-rmse:0.306817\n",
            "[213]\tvalidation_0-rmse:0.270735\tvalidation_1-rmse:0.306549\n",
            "[214]\tvalidation_0-rmse:0.270686\tvalidation_1-rmse:0.306494\n",
            "[215]\tvalidation_0-rmse:0.270566\tvalidation_1-rmse:0.306432\n",
            "[216]\tvalidation_0-rmse:0.270206\tvalidation_1-rmse:0.306225\n",
            "[217]\tvalidation_0-rmse:0.270009\tvalidation_1-rmse:0.306127\n",
            "[218]\tvalidation_0-rmse:0.269862\tvalidation_1-rmse:0.306026\n",
            "[219]\tvalidation_0-rmse:0.269727\tvalidation_1-rmse:0.305993\n",
            "[220]\tvalidation_0-rmse:0.269566\tvalidation_1-rmse:0.305839\n",
            "[221]\tvalidation_0-rmse:0.26949\tvalidation_1-rmse:0.305823\n",
            "[222]\tvalidation_0-rmse:0.269243\tvalidation_1-rmse:0.305625\n",
            "[223]\tvalidation_0-rmse:0.269165\tvalidation_1-rmse:0.305603\n",
            "[224]\tvalidation_0-rmse:0.268885\tvalidation_1-rmse:0.305566\n",
            "[225]\tvalidation_0-rmse:0.268802\tvalidation_1-rmse:0.305566\n",
            "[226]\tvalidation_0-rmse:0.268208\tvalidation_1-rmse:0.304907\n",
            "[227]\tvalidation_0-rmse:0.267952\tvalidation_1-rmse:0.304817\n",
            "[228]\tvalidation_0-rmse:0.267262\tvalidation_1-rmse:0.304219\n",
            "[229]\tvalidation_0-rmse:0.267115\tvalidation_1-rmse:0.304102\n",
            "[230]\tvalidation_0-rmse:0.266662\tvalidation_1-rmse:0.303903\n",
            "[231]\tvalidation_0-rmse:0.266424\tvalidation_1-rmse:0.30371\n",
            "[232]\tvalidation_0-rmse:0.266125\tvalidation_1-rmse:0.3037\n",
            "[233]\tvalidation_0-rmse:0.266048\tvalidation_1-rmse:0.303674\n",
            "[234]\tvalidation_0-rmse:0.265854\tvalidation_1-rmse:0.303552\n",
            "[235]\tvalidation_0-rmse:0.265461\tvalidation_1-rmse:0.303253\n",
            "[236]\tvalidation_0-rmse:0.26516\tvalidation_1-rmse:0.303102\n",
            "[237]\tvalidation_0-rmse:0.265069\tvalidation_1-rmse:0.303018\n",
            "[238]\tvalidation_0-rmse:0.265005\tvalidation_1-rmse:0.302953\n",
            "[239]\tvalidation_0-rmse:0.264882\tvalidation_1-rmse:0.302892\n",
            "[240]\tvalidation_0-rmse:0.264549\tvalidation_1-rmse:0.301876\n",
            "[241]\tvalidation_0-rmse:0.264302\tvalidation_1-rmse:0.30173\n",
            "[242]\tvalidation_0-rmse:0.2642\tvalidation_1-rmse:0.301753\n",
            "[243]\tvalidation_0-rmse:0.264042\tvalidation_1-rmse:0.301722\n",
            "[244]\tvalidation_0-rmse:0.263671\tvalidation_1-rmse:0.30161\n",
            "[245]\tvalidation_0-rmse:0.263363\tvalidation_1-rmse:0.300807\n",
            "[246]\tvalidation_0-rmse:0.263175\tvalidation_1-rmse:0.30086\n",
            "[247]\tvalidation_0-rmse:0.263071\tvalidation_1-rmse:0.300886\n",
            "[248]\tvalidation_0-rmse:0.262863\tvalidation_1-rmse:0.300817\n",
            "[249]\tvalidation_0-rmse:0.262754\tvalidation_1-rmse:0.300775\n",
            "[250]\tvalidation_0-rmse:0.262575\tvalidation_1-rmse:0.300837\n",
            "[251]\tvalidation_0-rmse:0.262363\tvalidation_1-rmse:0.300715\n",
            "[252]\tvalidation_0-rmse:0.262309\tvalidation_1-rmse:0.300625\n",
            "[253]\tvalidation_0-rmse:0.26215\tvalidation_1-rmse:0.300623\n",
            "[254]\tvalidation_0-rmse:0.261899\tvalidation_1-rmse:0.300533\n",
            "[255]\tvalidation_0-rmse:0.261737\tvalidation_1-rmse:0.300396\n",
            "[256]\tvalidation_0-rmse:0.2616\tvalidation_1-rmse:0.300334\n",
            "[257]\tvalidation_0-rmse:0.261156\tvalidation_1-rmse:0.299817\n",
            "[258]\tvalidation_0-rmse:0.261022\tvalidation_1-rmse:0.299632\n",
            "[259]\tvalidation_0-rmse:0.260906\tvalidation_1-rmse:0.299524\n",
            "[260]\tvalidation_0-rmse:0.260721\tvalidation_1-rmse:0.299356\n",
            "[261]\tvalidation_0-rmse:0.260456\tvalidation_1-rmse:0.299225\n",
            "[262]\tvalidation_0-rmse:0.260378\tvalidation_1-rmse:0.299225\n",
            "[263]\tvalidation_0-rmse:0.260144\tvalidation_1-rmse:0.299263\n",
            "[264]\tvalidation_0-rmse:0.259615\tvalidation_1-rmse:0.298959\n",
            "[265]\tvalidation_0-rmse:0.259508\tvalidation_1-rmse:0.298857\n",
            "[266]\tvalidation_0-rmse:0.259348\tvalidation_1-rmse:0.298756\n",
            "[267]\tvalidation_0-rmse:0.259262\tvalidation_1-rmse:0.298691\n",
            "[268]\tvalidation_0-rmse:0.258807\tvalidation_1-rmse:0.298397\n",
            "[269]\tvalidation_0-rmse:0.258578\tvalidation_1-rmse:0.298193\n",
            "[270]\tvalidation_0-rmse:0.258287\tvalidation_1-rmse:0.297852\n",
            "[271]\tvalidation_0-rmse:0.257967\tvalidation_1-rmse:0.297643\n",
            "[272]\tvalidation_0-rmse:0.257742\tvalidation_1-rmse:0.297561\n",
            "[273]\tvalidation_0-rmse:0.25758\tvalidation_1-rmse:0.297484\n",
            "[274]\tvalidation_0-rmse:0.257402\tvalidation_1-rmse:0.297313\n",
            "[275]\tvalidation_0-rmse:0.257198\tvalidation_1-rmse:0.297147\n",
            "[276]\tvalidation_0-rmse:0.257035\tvalidation_1-rmse:0.297112\n",
            "[277]\tvalidation_0-rmse:0.256893\tvalidation_1-rmse:0.296979\n",
            "[278]\tvalidation_0-rmse:0.256618\tvalidation_1-rmse:0.296333\n",
            "[279]\tvalidation_0-rmse:0.256531\tvalidation_1-rmse:0.296293\n",
            "[280]\tvalidation_0-rmse:0.256382\tvalidation_1-rmse:0.296332\n",
            "[281]\tvalidation_0-rmse:0.256219\tvalidation_1-rmse:0.296277\n",
            "[282]\tvalidation_0-rmse:0.256133\tvalidation_1-rmse:0.296183\n",
            "[283]\tvalidation_0-rmse:0.256077\tvalidation_1-rmse:0.296162\n",
            "[284]\tvalidation_0-rmse:0.255979\tvalidation_1-rmse:0.296221\n",
            "[285]\tvalidation_0-rmse:0.255853\tvalidation_1-rmse:0.296097\n",
            "[286]\tvalidation_0-rmse:0.255584\tvalidation_1-rmse:0.295978\n",
            "[287]\tvalidation_0-rmse:0.255389\tvalidation_1-rmse:0.295726\n",
            "[288]\tvalidation_0-rmse:0.255236\tvalidation_1-rmse:0.295606\n",
            "[289]\tvalidation_0-rmse:0.255167\tvalidation_1-rmse:0.295544\n",
            "[290]\tvalidation_0-rmse:0.255083\tvalidation_1-rmse:0.295559\n",
            "[291]\tvalidation_0-rmse:0.254841\tvalidation_1-rmse:0.295394\n",
            "[292]\tvalidation_0-rmse:0.254599\tvalidation_1-rmse:0.295295\n",
            "[293]\tvalidation_0-rmse:0.25445\tvalidation_1-rmse:0.295233\n",
            "[294]\tvalidation_0-rmse:0.254323\tvalidation_1-rmse:0.295215\n",
            "[295]\tvalidation_0-rmse:0.254256\tvalidation_1-rmse:0.295223\n",
            "[296]\tvalidation_0-rmse:0.254213\tvalidation_1-rmse:0.295232\n",
            "[297]\tvalidation_0-rmse:0.253984\tvalidation_1-rmse:0.295128\n",
            "[298]\tvalidation_0-rmse:0.253805\tvalidation_1-rmse:0.295053\n",
            "[299]\tvalidation_0-rmse:0.253378\tvalidation_1-rmse:0.294639\n",
            "[300]\tvalidation_0-rmse:0.253303\tvalidation_1-rmse:0.294594\n",
            "[301]\tvalidation_0-rmse:0.253236\tvalidation_1-rmse:0.294583\n",
            "[302]\tvalidation_0-rmse:0.253121\tvalidation_1-rmse:0.294576\n",
            "[303]\tvalidation_0-rmse:0.252964\tvalidation_1-rmse:0.294118\n",
            "[304]\tvalidation_0-rmse:0.252874\tvalidation_1-rmse:0.294132\n",
            "[305]\tvalidation_0-rmse:0.252732\tvalidation_1-rmse:0.294004\n",
            "[306]\tvalidation_0-rmse:0.252636\tvalidation_1-rmse:0.293872\n",
            "[307]\tvalidation_0-rmse:0.25254\tvalidation_1-rmse:0.294048\n",
            "[308]\tvalidation_0-rmse:0.252346\tvalidation_1-rmse:0.293997\n",
            "[309]\tvalidation_0-rmse:0.252179\tvalidation_1-rmse:0.293795\n",
            "[310]\tvalidation_0-rmse:0.251823\tvalidation_1-rmse:0.293595\n",
            "[311]\tvalidation_0-rmse:0.251728\tvalidation_1-rmse:0.293514\n",
            "[312]\tvalidation_0-rmse:0.251592\tvalidation_1-rmse:0.293406\n",
            "[313]\tvalidation_0-rmse:0.251555\tvalidation_1-rmse:0.293413\n",
            "[314]\tvalidation_0-rmse:0.251507\tvalidation_1-rmse:0.293434\n",
            "[315]\tvalidation_0-rmse:0.251409\tvalidation_1-rmse:0.293391\n",
            "[316]\tvalidation_0-rmse:0.251298\tvalidation_1-rmse:0.293283\n",
            "[317]\tvalidation_0-rmse:0.251127\tvalidation_1-rmse:0.293187\n",
            "[318]\tvalidation_0-rmse:0.250988\tvalidation_1-rmse:0.29309\n",
            "[319]\tvalidation_0-rmse:0.250879\tvalidation_1-rmse:0.293028\n",
            "[320]\tvalidation_0-rmse:0.250465\tvalidation_1-rmse:0.292709\n",
            "[321]\tvalidation_0-rmse:0.250052\tvalidation_1-rmse:0.292389\n",
            "[322]\tvalidation_0-rmse:0.249868\tvalidation_1-rmse:0.292296\n",
            "[323]\tvalidation_0-rmse:0.249746\tvalidation_1-rmse:0.292332\n",
            "[324]\tvalidation_0-rmse:0.249655\tvalidation_1-rmse:0.292394\n",
            "[325]\tvalidation_0-rmse:0.249512\tvalidation_1-rmse:0.292427\n",
            "[326]\tvalidation_0-rmse:0.249155\tvalidation_1-rmse:0.292109\n",
            "[327]\tvalidation_0-rmse:0.248999\tvalidation_1-rmse:0.291974\n",
            "[328]\tvalidation_0-rmse:0.248838\tvalidation_1-rmse:0.291803\n",
            "[329]\tvalidation_0-rmse:0.248736\tvalidation_1-rmse:0.291691\n",
            "[330]\tvalidation_0-rmse:0.248639\tvalidation_1-rmse:0.291696\n",
            "[331]\tvalidation_0-rmse:0.248419\tvalidation_1-rmse:0.291674\n",
            "[332]\tvalidation_0-rmse:0.248259\tvalidation_1-rmse:0.29163\n",
            "[333]\tvalidation_0-rmse:0.2481\tvalidation_1-rmse:0.291511\n",
            "[334]\tvalidation_0-rmse:0.247947\tvalidation_1-rmse:0.291436\n",
            "[335]\tvalidation_0-rmse:0.247906\tvalidation_1-rmse:0.291485\n",
            "[336]\tvalidation_0-rmse:0.247858\tvalidation_1-rmse:0.291466\n",
            "[337]\tvalidation_0-rmse:0.247686\tvalidation_1-rmse:0.291383\n",
            "[338]\tvalidation_0-rmse:0.247565\tvalidation_1-rmse:0.29145\n",
            "[339]\tvalidation_0-rmse:0.247535\tvalidation_1-rmse:0.291436\n",
            "[340]\tvalidation_0-rmse:0.247451\tvalidation_1-rmse:0.291395\n",
            "[341]\tvalidation_0-rmse:0.247338\tvalidation_1-rmse:0.291322\n",
            "[342]\tvalidation_0-rmse:0.247077\tvalidation_1-rmse:0.291188\n",
            "[343]\tvalidation_0-rmse:0.24694\tvalidation_1-rmse:0.291013\n",
            "[344]\tvalidation_0-rmse:0.246821\tvalidation_1-rmse:0.290987\n",
            "[345]\tvalidation_0-rmse:0.246671\tvalidation_1-rmse:0.290857\n",
            "[346]\tvalidation_0-rmse:0.246505\tvalidation_1-rmse:0.290747\n",
            "[347]\tvalidation_0-rmse:0.246383\tvalidation_1-rmse:0.290654\n",
            "[348]\tvalidation_0-rmse:0.246241\tvalidation_1-rmse:0.290623\n",
            "[349]\tvalidation_0-rmse:0.246119\tvalidation_1-rmse:0.290568\n",
            "[350]\tvalidation_0-rmse:0.246015\tvalidation_1-rmse:0.290499\n",
            "[351]\tvalidation_0-rmse:0.245796\tvalidation_1-rmse:0.290428\n",
            "[352]\tvalidation_0-rmse:0.245664\tvalidation_1-rmse:0.290458\n",
            "[353]\tvalidation_0-rmse:0.245562\tvalidation_1-rmse:0.290394\n",
            "[354]\tvalidation_0-rmse:0.245376\tvalidation_1-rmse:0.290265\n",
            "[355]\tvalidation_0-rmse:0.245277\tvalidation_1-rmse:0.290223\n",
            "[356]\tvalidation_0-rmse:0.24508\tvalidation_1-rmse:0.290027\n",
            "[357]\tvalidation_0-rmse:0.244902\tvalidation_1-rmse:0.289967\n",
            "[358]\tvalidation_0-rmse:0.244803\tvalidation_1-rmse:0.289902\n",
            "[359]\tvalidation_0-rmse:0.244525\tvalidation_1-rmse:0.289696\n",
            "[360]\tvalidation_0-rmse:0.244507\tvalidation_1-rmse:0.28971\n",
            "[361]\tvalidation_0-rmse:0.244374\tvalidation_1-rmse:0.289693\n",
            "[362]\tvalidation_0-rmse:0.24423\tvalidation_1-rmse:0.289589\n",
            "[363]\tvalidation_0-rmse:0.243971\tvalidation_1-rmse:0.289038\n",
            "[364]\tvalidation_0-rmse:0.243867\tvalidation_1-rmse:0.288673\n",
            "[365]\tvalidation_0-rmse:0.24377\tvalidation_1-rmse:0.288234\n",
            "[366]\tvalidation_0-rmse:0.243598\tvalidation_1-rmse:0.288152\n",
            "[367]\tvalidation_0-rmse:0.243393\tvalidation_1-rmse:0.287909\n",
            "[368]\tvalidation_0-rmse:0.243146\tvalidation_1-rmse:0.287768\n",
            "[369]\tvalidation_0-rmse:0.242991\tvalidation_1-rmse:0.287625\n",
            "[370]\tvalidation_0-rmse:0.242864\tvalidation_1-rmse:0.287573\n",
            "[371]\tvalidation_0-rmse:0.242691\tvalidation_1-rmse:0.287378\n",
            "[372]\tvalidation_0-rmse:0.242582\tvalidation_1-rmse:0.287333\n",
            "[373]\tvalidation_0-rmse:0.24238\tvalidation_1-rmse:0.287085\n",
            "[374]\tvalidation_0-rmse:0.242249\tvalidation_1-rmse:0.287037\n",
            "[375]\tvalidation_0-rmse:0.242165\tvalidation_1-rmse:0.287001\n",
            "[376]\tvalidation_0-rmse:0.241996\tvalidation_1-rmse:0.286842\n",
            "[377]\tvalidation_0-rmse:0.241774\tvalidation_1-rmse:0.286372\n",
            "[378]\tvalidation_0-rmse:0.241625\tvalidation_1-rmse:0.286369\n",
            "[379]\tvalidation_0-rmse:0.24151\tvalidation_1-rmse:0.286363\n",
            "[380]\tvalidation_0-rmse:0.241273\tvalidation_1-rmse:0.286284\n",
            "[381]\tvalidation_0-rmse:0.241163\tvalidation_1-rmse:0.286225\n",
            "[382]\tvalidation_0-rmse:0.241074\tvalidation_1-rmse:0.286176\n",
            "[383]\tvalidation_0-rmse:0.240955\tvalidation_1-rmse:0.286093\n",
            "[384]\tvalidation_0-rmse:0.240896\tvalidation_1-rmse:0.28606\n",
            "[385]\tvalidation_0-rmse:0.240712\tvalidation_1-rmse:0.286098\n",
            "[386]\tvalidation_0-rmse:0.24062\tvalidation_1-rmse:0.286052\n",
            "[387]\tvalidation_0-rmse:0.240555\tvalidation_1-rmse:0.286053\n",
            "[388]\tvalidation_0-rmse:0.240473\tvalidation_1-rmse:0.286\n",
            "[389]\tvalidation_0-rmse:0.240444\tvalidation_1-rmse:0.286007\n",
            "[390]\tvalidation_0-rmse:0.240372\tvalidation_1-rmse:0.28596\n",
            "[391]\tvalidation_0-rmse:0.240283\tvalidation_1-rmse:0.285908\n",
            "[392]\tvalidation_0-rmse:0.240237\tvalidation_1-rmse:0.285894\n",
            "[393]\tvalidation_0-rmse:0.240186\tvalidation_1-rmse:0.28577\n",
            "[394]\tvalidation_0-rmse:0.240073\tvalidation_1-rmse:0.285602\n",
            "[395]\tvalidation_0-rmse:0.239941\tvalidation_1-rmse:0.285625\n",
            "[396]\tvalidation_0-rmse:0.239816\tvalidation_1-rmse:0.285507\n",
            "[397]\tvalidation_0-rmse:0.23967\tvalidation_1-rmse:0.285326\n",
            "[398]\tvalidation_0-rmse:0.239575\tvalidation_1-rmse:0.2853\n",
            "[399]\tvalidation_0-rmse:0.239476\tvalidation_1-rmse:0.28524\n",
            "[400]\tvalidation_0-rmse:0.239195\tvalidation_1-rmse:0.284952\n",
            "[401]\tvalidation_0-rmse:0.239157\tvalidation_1-rmse:0.285007\n",
            "[402]\tvalidation_0-rmse:0.239107\tvalidation_1-rmse:0.284989\n",
            "[403]\tvalidation_0-rmse:0.239018\tvalidation_1-rmse:0.284935\n",
            "[404]\tvalidation_0-rmse:0.238964\tvalidation_1-rmse:0.284911\n",
            "[405]\tvalidation_0-rmse:0.238878\tvalidation_1-rmse:0.284842\n",
            "[406]\tvalidation_0-rmse:0.238722\tvalidation_1-rmse:0.284898\n",
            "[407]\tvalidation_0-rmse:0.238618\tvalidation_1-rmse:0.284783\n",
            "[408]\tvalidation_0-rmse:0.238488\tvalidation_1-rmse:0.284823\n",
            "[409]\tvalidation_0-rmse:0.238396\tvalidation_1-rmse:0.284797\n",
            "[410]\tvalidation_0-rmse:0.238321\tvalidation_1-rmse:0.284886\n",
            "[411]\tvalidation_0-rmse:0.238179\tvalidation_1-rmse:0.284805\n",
            "[412]\tvalidation_0-rmse:0.238061\tvalidation_1-rmse:0.284868\n",
            "[413]\tvalidation_0-rmse:0.237917\tvalidation_1-rmse:0.28471\n",
            "[414]\tvalidation_0-rmse:0.237862\tvalidation_1-rmse:0.284685\n",
            "[415]\tvalidation_0-rmse:0.237781\tvalidation_1-rmse:0.284706\n",
            "[416]\tvalidation_0-rmse:0.237747\tvalidation_1-rmse:0.284699\n",
            "[417]\tvalidation_0-rmse:0.237609\tvalidation_1-rmse:0.284645\n",
            "[418]\tvalidation_0-rmse:0.237596\tvalidation_1-rmse:0.284646\n",
            "[419]\tvalidation_0-rmse:0.237546\tvalidation_1-rmse:0.284644\n",
            "[420]\tvalidation_0-rmse:0.237506\tvalidation_1-rmse:0.284541\n",
            "[421]\tvalidation_0-rmse:0.237427\tvalidation_1-rmse:0.284536\n",
            "[422]\tvalidation_0-rmse:0.237308\tvalidation_1-rmse:0.284584\n",
            "[423]\tvalidation_0-rmse:0.237182\tvalidation_1-rmse:0.284557\n",
            "[424]\tvalidation_0-rmse:0.237119\tvalidation_1-rmse:0.284635\n",
            "[425]\tvalidation_0-rmse:0.237018\tvalidation_1-rmse:0.28438\n",
            "[426]\tvalidation_0-rmse:0.236973\tvalidation_1-rmse:0.284378\n",
            "[427]\tvalidation_0-rmse:0.23687\tvalidation_1-rmse:0.284241\n",
            "[428]\tvalidation_0-rmse:0.236786\tvalidation_1-rmse:0.284248\n",
            "[429]\tvalidation_0-rmse:0.23669\tvalidation_1-rmse:0.2841\n",
            "[430]\tvalidation_0-rmse:0.236599\tvalidation_1-rmse:0.284094\n",
            "[431]\tvalidation_0-rmse:0.236474\tvalidation_1-rmse:0.284047\n",
            "[432]\tvalidation_0-rmse:0.236363\tvalidation_1-rmse:0.284028\n",
            "[433]\tvalidation_0-rmse:0.236291\tvalidation_1-rmse:0.28404\n",
            "[434]\tvalidation_0-rmse:0.236198\tvalidation_1-rmse:0.284043\n",
            "[435]\tvalidation_0-rmse:0.236095\tvalidation_1-rmse:0.283893\n",
            "[436]\tvalidation_0-rmse:0.23594\tvalidation_1-rmse:0.283642\n",
            "[437]\tvalidation_0-rmse:0.235811\tvalidation_1-rmse:0.283671\n",
            "[438]\tvalidation_0-rmse:0.235688\tvalidation_1-rmse:0.283581\n",
            "[439]\tvalidation_0-rmse:0.235542\tvalidation_1-rmse:0.28354\n",
            "[440]\tvalidation_0-rmse:0.235359\tvalidation_1-rmse:0.283442\n",
            "[441]\tvalidation_0-rmse:0.235248\tvalidation_1-rmse:0.283435\n",
            "[442]\tvalidation_0-rmse:0.235106\tvalidation_1-rmse:0.2833\n",
            "[443]\tvalidation_0-rmse:0.235084\tvalidation_1-rmse:0.2833\n",
            "[444]\tvalidation_0-rmse:0.234997\tvalidation_1-rmse:0.28323\n",
            "[445]\tvalidation_0-rmse:0.234929\tvalidation_1-rmse:0.283223\n",
            "[446]\tvalidation_0-rmse:0.234857\tvalidation_1-rmse:0.283165\n",
            "[447]\tvalidation_0-rmse:0.234718\tvalidation_1-rmse:0.283003\n",
            "[448]\tvalidation_0-rmse:0.234705\tvalidation_1-rmse:0.283012\n",
            "[449]\tvalidation_0-rmse:0.234621\tvalidation_1-rmse:0.282979\n",
            "[450]\tvalidation_0-rmse:0.234494\tvalidation_1-rmse:0.283025\n",
            "[451]\tvalidation_0-rmse:0.234431\tvalidation_1-rmse:0.282983\n",
            "[452]\tvalidation_0-rmse:0.234374\tvalidation_1-rmse:0.282724\n",
            "[453]\tvalidation_0-rmse:0.23424\tvalidation_1-rmse:0.282709\n",
            "[454]\tvalidation_0-rmse:0.234213\tvalidation_1-rmse:0.282677\n",
            "[455]\tvalidation_0-rmse:0.233985\tvalidation_1-rmse:0.282465\n",
            "[456]\tvalidation_0-rmse:0.233879\tvalidation_1-rmse:0.282426\n",
            "[457]\tvalidation_0-rmse:0.233851\tvalidation_1-rmse:0.282362\n",
            "[458]\tvalidation_0-rmse:0.233749\tvalidation_1-rmse:0.28233\n",
            "[459]\tvalidation_0-rmse:0.233677\tvalidation_1-rmse:0.282321\n",
            "[460]\tvalidation_0-rmse:0.233562\tvalidation_1-rmse:0.282324\n",
            "[461]\tvalidation_0-rmse:0.23347\tvalidation_1-rmse:0.282264\n",
            "[462]\tvalidation_0-rmse:0.233413\tvalidation_1-rmse:0.282321\n",
            "[463]\tvalidation_0-rmse:0.233168\tvalidation_1-rmse:0.282053\n",
            "[464]\tvalidation_0-rmse:0.233051\tvalidation_1-rmse:0.281977\n",
            "[465]\tvalidation_0-rmse:0.23276\tvalidation_1-rmse:0.281708\n",
            "[466]\tvalidation_0-rmse:0.232709\tvalidation_1-rmse:0.281688\n",
            "[467]\tvalidation_0-rmse:0.232683\tvalidation_1-rmse:0.281687\n",
            "[468]\tvalidation_0-rmse:0.232646\tvalidation_1-rmse:0.281727\n",
            "[469]\tvalidation_0-rmse:0.232375\tvalidation_1-rmse:0.281658\n",
            "[470]\tvalidation_0-rmse:0.232294\tvalidation_1-rmse:0.281494\n",
            "[471]\tvalidation_0-rmse:0.232177\tvalidation_1-rmse:0.281404\n",
            "[472]\tvalidation_0-rmse:0.231977\tvalidation_1-rmse:0.281333\n",
            "[473]\tvalidation_0-rmse:0.23187\tvalidation_1-rmse:0.281265\n",
            "[474]\tvalidation_0-rmse:0.231797\tvalidation_1-rmse:0.281346\n",
            "[475]\tvalidation_0-rmse:0.231714\tvalidation_1-rmse:0.281245\n",
            "[476]\tvalidation_0-rmse:0.231598\tvalidation_1-rmse:0.281235\n",
            "[477]\tvalidation_0-rmse:0.231381\tvalidation_1-rmse:0.281078\n",
            "[478]\tvalidation_0-rmse:0.231292\tvalidation_1-rmse:0.281009\n",
            "[479]\tvalidation_0-rmse:0.231197\tvalidation_1-rmse:0.281104\n",
            "[480]\tvalidation_0-rmse:0.231128\tvalidation_1-rmse:0.281085\n",
            "[481]\tvalidation_0-rmse:0.23105\tvalidation_1-rmse:0.281024\n",
            "[482]\tvalidation_0-rmse:0.231016\tvalidation_1-rmse:0.280999\n",
            "[483]\tvalidation_0-rmse:0.230915\tvalidation_1-rmse:0.280862\n",
            "[484]\tvalidation_0-rmse:0.2308\tvalidation_1-rmse:0.28083\n",
            "[485]\tvalidation_0-rmse:0.230775\tvalidation_1-rmse:0.280877\n",
            "[486]\tvalidation_0-rmse:0.23073\tvalidation_1-rmse:0.280853\n",
            "[487]\tvalidation_0-rmse:0.230515\tvalidation_1-rmse:0.280638\n",
            "[488]\tvalidation_0-rmse:0.230413\tvalidation_1-rmse:0.28061\n",
            "[489]\tvalidation_0-rmse:0.230281\tvalidation_1-rmse:0.280537\n",
            "[490]\tvalidation_0-rmse:0.230196\tvalidation_1-rmse:0.280663\n",
            "[491]\tvalidation_0-rmse:0.230096\tvalidation_1-rmse:0.28064\n",
            "[492]\tvalidation_0-rmse:0.229967\tvalidation_1-rmse:0.280742\n",
            "[493]\tvalidation_0-rmse:0.229929\tvalidation_1-rmse:0.280729\n",
            "[494]\tvalidation_0-rmse:0.229881\tvalidation_1-rmse:0.28069\n",
            "[495]\tvalidation_0-rmse:0.229768\tvalidation_1-rmse:0.280612\n",
            "[496]\tvalidation_0-rmse:0.229715\tvalidation_1-rmse:0.28058\n",
            "[497]\tvalidation_0-rmse:0.22962\tvalidation_1-rmse:0.280514\n",
            "[498]\tvalidation_0-rmse:0.229502\tvalidation_1-rmse:0.280508\n",
            "[499]\tvalidation_0-rmse:0.229439\tvalidation_1-rmse:0.280579\n",
            "[500]\tvalidation_0-rmse:0.229355\tvalidation_1-rmse:0.280576\n",
            "[501]\tvalidation_0-rmse:0.229136\tvalidation_1-rmse:0.280324\n",
            "[502]\tvalidation_0-rmse:0.229038\tvalidation_1-rmse:0.280261\n",
            "[503]\tvalidation_0-rmse:0.228996\tvalidation_1-rmse:0.280351\n",
            "[504]\tvalidation_0-rmse:0.228904\tvalidation_1-rmse:0.280271\n",
            "[505]\tvalidation_0-rmse:0.228803\tvalidation_1-rmse:0.280308\n",
            "[506]\tvalidation_0-rmse:0.228784\tvalidation_1-rmse:0.280316\n",
            "[507]\tvalidation_0-rmse:0.22867\tvalidation_1-rmse:0.280233\n",
            "[508]\tvalidation_0-rmse:0.22862\tvalidation_1-rmse:0.280226\n",
            "[509]\tvalidation_0-rmse:0.228282\tvalidation_1-rmse:0.279931\n",
            "[510]\tvalidation_0-rmse:0.228218\tvalidation_1-rmse:0.279881\n",
            "[511]\tvalidation_0-rmse:0.228135\tvalidation_1-rmse:0.27986\n",
            "[512]\tvalidation_0-rmse:0.228049\tvalidation_1-rmse:0.279835\n",
            "[513]\tvalidation_0-rmse:0.227958\tvalidation_1-rmse:0.279715\n",
            "[514]\tvalidation_0-rmse:0.227876\tvalidation_1-rmse:0.279677\n",
            "[515]\tvalidation_0-rmse:0.227808\tvalidation_1-rmse:0.279654\n",
            "[516]\tvalidation_0-rmse:0.22777\tvalidation_1-rmse:0.279631\n",
            "[517]\tvalidation_0-rmse:0.227712\tvalidation_1-rmse:0.279615\n",
            "[518]\tvalidation_0-rmse:0.227699\tvalidation_1-rmse:0.279631\n",
            "[519]\tvalidation_0-rmse:0.227684\tvalidation_1-rmse:0.279636\n",
            "[520]\tvalidation_0-rmse:0.227648\tvalidation_1-rmse:0.279669\n",
            "[521]\tvalidation_0-rmse:0.22758\tvalidation_1-rmse:0.279638\n",
            "[522]\tvalidation_0-rmse:0.227491\tvalidation_1-rmse:0.279636\n",
            "[523]\tvalidation_0-rmse:0.227383\tvalidation_1-rmse:0.279619\n",
            "[524]\tvalidation_0-rmse:0.227364\tvalidation_1-rmse:0.279634\n",
            "[525]\tvalidation_0-rmse:0.227257\tvalidation_1-rmse:0.279614\n",
            "[526]\tvalidation_0-rmse:0.227045\tvalidation_1-rmse:0.279662\n",
            "[527]\tvalidation_0-rmse:0.226958\tvalidation_1-rmse:0.279664\n",
            "[528]\tvalidation_0-rmse:0.226877\tvalidation_1-rmse:0.279577\n",
            "[529]\tvalidation_0-rmse:0.226794\tvalidation_1-rmse:0.279548\n",
            "[530]\tvalidation_0-rmse:0.226714\tvalidation_1-rmse:0.27951\n"
          ],
          "name": "stdout"
        },
        {
          "output_type": "execute_result",
          "data": {
            "text/plain": [
              "XGBRegressor(base_score=0.5, booster='gbtree', colsample_bylevel=1,\n",
              "             colsample_bynode=1, colsample_bytree=1, gamma=0,\n",
              "             importance_type='gain', learning_rate=0.1, max_delta_step=0,\n",
              "             max_depth=3, min_child_weight=1, missing=None, n_estimators=531,\n",
              "             n_jobs=-1, nthread=None, objective='reg:linear', random_state=0,\n",
              "             reg_alpha=0, reg_lambda=1, scale_pos_weight=1, seed=None,\n",
              "             silent=None, subsample=1, verbosity=1)"
            ]
          },
          "metadata": {
            "tags": []
          },
          "execution_count": 66
        }
      ]
    },
    {
      "cell_type": "code",
      "metadata": {
        "id": "yIiT9M87wt3T",
        "colab_type": "code",
        "outputId": "6973ad76-8111-4fba-e386-0563c2ad4ea2",
        "colab": {
          "base_uri": "https://localhost:8080/",
          "height": 54
        }
      },
      "source": [
        "test_wrangled = wrangle(test)\n",
        "X_test = encoder.transform(test_wrangled.drop(columns='id'))\n",
        "all(X_test.columns == X_train.columns)"
      ],
      "execution_count": 67,
      "outputs": [
        {
          "output_type": "execute_result",
          "data": {
            "text/plain": [
              "True"
            ]
          },
          "metadata": {
            "tags": []
          },
          "execution_count": 67
        }
      ]
    },
    {
      "cell_type": "code",
      "metadata": {
        "id": "cD0NIG8u7ByA",
        "colab_type": "code",
        "outputId": "41eeaf05-3570-4a6c-d2ed-efdc8570b445",
        "colab": {
          "base_uri": "https://localhost:8080/",
          "height": 530
        }
      },
      "source": [
        "X_test.dtypes"
      ],
      "execution_count": 68,
      "outputs": [
        {
          "output_type": "execute_result",
          "data": {
            "text/plain": [
              "supplier               float64\n",
              "annual_usage             int64\n",
              "min_order_quantity       int64\n",
              "bracket_pricing          int64\n",
              "quantity                 int64\n",
              "quote_year               int64\n",
              "quote_month              int64\n",
              "material_id              int64\n",
              "diameter               float64\n",
              "wall                   float64\n",
              "length                 float64\n",
              "num_bends                int64\n",
              "bend_radius            float64\n",
              "end_a_1x                 int64\n",
              "end_a_2x                 int64\n",
              "end_x_1x                 int64\n",
              "end_x_2x                 int64\n",
              "end_a                    int64\n",
              "end_x                  float64\n",
              "num_boss                 int64\n",
              "num_bracket              int64\n",
              "other                    int64\n",
              "component_id_1         float64\n",
              "components_total       float64\n",
              "components_distinct      int64\n",
              "component_type_id      float64\n",
              "specs_total              int64\n",
              "spec1                  float64\n",
              "dtype: object"
            ]
          },
          "metadata": {
            "tags": []
          },
          "execution_count": 68
        }
      ]
    },
    {
      "cell_type": "code",
      "metadata": {
        "id": "eacJ_RdBwMf2",
        "colab_type": "code",
        "colab": {}
      },
      "source": [
        "y_pred_log = model.predict(X_test)\n",
        "y_pred = np.expm1(y_pred_log)\n",
        "\n",
        "sample_submission = pd.read_csv('sample_submission.csv')\n",
        "submission = sample_submission.copy()\n",
        "submission['cost'] = y_pred\n",
        "submission.to_csv('submission-03.csv', index=False)"
      ],
      "execution_count": 0,
      "outputs": []
    },
    {
      "cell_type": "markdown",
      "metadata": {
        "id": "iBfsTZi_HOe3",
        "colab_type": "text"
      },
      "source": [
        "# Hyperparameter Optimization Assignment"
      ]
    },
    {
      "cell_type": "markdown",
      "metadata": {
        "id": "YxjGtInlIhg9",
        "colab_type": "text"
      },
      "source": [
        "### K-folds cross-validation"
      ]
    },
    {
      "cell_type": "code",
      "metadata": {
        "id": "3UbpHNK4wYPs",
        "colab_type": "code",
        "outputId": "f03cb538-4569-4b2c-d5a0-21013fd8d344",
        "colab": {
          "base_uri": "https://localhost:8080/",
          "height": 88
        }
      },
      "source": [
        "%%time\n",
        "from sklearn.model_selection import cross_val_score\n",
        "\n",
        "pipeline = make_pipeline(\n",
        "    ce.OrdinalEncoder(),\n",
        "    RandomForestRegressor(n_estimators=100, n_jobs=-1, random_state=42)\n",
        ")\n",
        "\n",
        "k = 5\n",
        "groups = train['tube_assembly_id']\n",
        "scores = cross_val_score(pipeline, X_train, y_train_log, cv=k, \n",
        "                         scoring='neg_mean_squared_error', groups=groups)\n",
        "\n",
        "print(f'RMSLE for{k} folds:', np.sqrt(-scores))"
      ],
      "execution_count": 70,
      "outputs": [
        {
          "output_type": "stream",
          "text": [
            "RMSLE for5 folds: [0.32532941 0.29329081 0.32276323 0.41974286 0.31314659]\n",
            "CPU times: user 3.62 s, sys: 611 ms, total: 4.23 s\n",
            "Wall time: 43.7 s\n"
          ],
          "name": "stdout"
        }
      ]
    },
    {
      "cell_type": "code",
      "metadata": {
        "id": "wugP4dFZKOCL",
        "colab_type": "code",
        "outputId": "bb4f4d51-c12e-45bf-df55-fd183544ba8a",
        "colab": {
          "base_uri": "https://localhost:8080/",
          "height": 303
        }
      },
      "source": [
        "%matplotlib inline\n",
        "import matplotlib.pyplot as plt\n",
        "from sklearn.model_selection import validation_curve\n",
        "from sklearn.tree import DecisionTreeRegressor\n",
        "\n",
        "pipeline = make_pipeline(ce.OrdinalEncoder(), DecisionTreeRegressor())\n",
        "\n",
        "depth = range(1, 15, 2)\n",
        "train_scores, val_scores = validation_curve(\n",
        "    pipeline, X_train, y_train_log,\n",
        "    param_name='decisiontreeregressor__max_depth',\n",
        "    param_range=depth, scoring='neg_mean_squared_error',\n",
        "    cv=2, groups=groups)\n",
        "\n",
        "train_rmsle = np.sqrt(-train_scores)\n",
        "val_rmsle = np.sqrt(-val_scores)\n",
        "plt.plot(depth, np.mean(train_rmsle, axis=1), color='green', label='training error')\n",
        "plt.plot(depth, np.mean(val_rmsle, axis=1), color='blue', label = 'validation error')\n",
        "plt.xlabel('depth')\n",
        "plt.ylabel('RMSLE')\n",
        "plt.legend();"
      ],
      "execution_count": 71,
      "outputs": [
        {
          "output_type": "display_data",
          "data": {
            "image/png": "[encoded data removed]",
            "text/plain": [
              "<Figure size 432x288 with 1 Axes>"
            ]
          },
          "metadata": {
            "tags": []
          }
        }
      ]
    },
    {
      "cell_type": "markdown",
      "metadata": {
        "id": "vCeKQviLMJSP",
        "colab_type": "text"
      },
      "source": [
        "## Hyperparameter Optimization"
      ]
    },
    {
      "cell_type": "code",
      "metadata": {
        "id": "zkG4ZXCPLMmI",
        "colab_type": "code",
        "colab": {}
      },
      "source": [
        "from scipy.stats import randint, uniform\n",
        "from sklearn.model_selection import RandomizedSearchCV\n",
        "\n",
        "pipeline = make_pipeline(\n",
        "    ce.OrdinalEncoder(),\n",
        "    RandomForestRegressor(random_state=42)\n",
        ")\n",
        "\n",
        "param_distributions = {\n",
        "    'randomforestregressor__n_estimators': randint(50, 500),\n",
        "    'randomforestregressor__max_features': uniform(0, 1),\n",
        "    'randomforestregressor__max_features': [0.3, 0.5, 0.7]\n",
        "}\n",
        "\n",
        "search = RandomizedSearchCV(\n",
        "    pipeline,\n",
        "    param_distributions=param_distributions,\n",
        "    n_iter=5,\n",
        "    cv=5,\n",
        "    scoring='neg_mean_squared_error',\n",
        "    verbose=10,\n",
        "    return_train_score=True,\n",
        "    n_jobs=-1)\n",
        "\n",
        "search.fit(X_train, y_train_log, groups=groups);"
      ],
      "execution_count": 0,
      "outputs": []
    },
    {
      "cell_type": "code",
      "metadata": {
        "id": "orMq7Jv8NYVq",
        "colab_type": "code",
        "outputId": "2a1beb08-6b74-48dc-9017-db6327171646",
        "colab": {
          "base_uri": "https://localhost:8080/",
          "height": 76
        }
      },
      "source": [
        "print('Best hyperparameters', search.best_params_)\n",
        "print('Cross_validation RMSLE', np.sqrt(-search.best_score_))"
      ],
      "execution_count": 0,
      "outputs": [
        {
          "output_type": "stream",
          "text": [
            "Best hyperparameters {'randomforestregressor__max_features': 0.5, 'randomforestregressor__n_estimators': 401}\n",
            "Cross_validation RMSLE 0.32585789263538445\n"
          ],
          "name": "stdout"
        }
      ]
    },
    {
      "cell_type": "code",
      "metadata": {
        "id": "8PVR7Z7iNygC",
        "colab_type": "code",
        "colab": {
          "base_uri": "https://localhost:8080/",
          "height": 620
        },
        "outputId": "a2d1d93d-69b0-42d3-a7bd-8ea335116fb8"
      },
      "source": [
        "!pip install eli5 pdpbox"
      ],
      "execution_count": 1,
      "outputs": [
        {
          "output_type": "stream",
          "text": [
            "Collecting eli5\n",
            "\u001b[?25l  Downloading https://files.pythonhosted.org/packages/73/cb/e773ec38d6d8b48b18537020e7782ac038581b52047d41b6500135e4bdc7/eli5-0.9.0-py2.py3-none-any.whl (94kB)\n",
            "\u001b[K     |████████████████████████████████| 102kB 4.0MB/s \n",
            "\u001b[?25hCollecting pdpbox\n",
            "\u001b[?25l  Downloading https://files.pythonhosted.org/packages/87/23/ac7da5ba1c6c03a87c412e7e7b6e91a10d6ecf4474906c3e736f93940d49/PDPbox-0.2.0.tar.gz (57.7MB)\n",
            "\u001b[K     |████████████████████████████████| 57.7MB 480kB/s \n",
            "\u001b[?25hRequirement already satisfied: scikit-learn>=0.18 in /usr/local/lib/python3.6/dist-packages (from eli5) (0.21.2)\n",
            "Requirement already satisfied: jinja2 in /usr/local/lib/python3.6/dist-packages (from eli5) (2.10.1)\n",
            "Requirement already satisfied: attrs>16.0.0 in /usr/local/lib/python3.6/dist-packages (from eli5) (19.1.0)\n",
            "Requirement already satisfied: numpy>=1.9.0 in /usr/local/lib/python3.6/dist-packages (from eli5) (1.16.4)\n",
            "Requirement already satisfied: six in /usr/local/lib/python3.6/dist-packages (from eli5) (1.12.0)\n",
            "Requirement already satisfied: scipy in /usr/local/lib/python3.6/dist-packages (from eli5) (1.3.0)\n",
            "Requirement already satisfied: graphviz in /usr/local/lib/python3.6/dist-packages (from eli5) (0.10.1)\n",
            "Requirement already satisfied: typing in /usr/local/lib/python3.6/dist-packages (from eli5) (3.7.4)\n",
            "Requirement already satisfied: tabulate>=0.7.7 in /usr/local/lib/python3.6/dist-packages (from eli5) (0.8.3)\n",
            "Requirement already satisfied: pandas in /usr/local/lib/python3.6/dist-packages (from pdpbox) (0.24.2)\n",
            "Requirement already satisfied: matplotlib>=2.1.2 in /usr/local/lib/python3.6/dist-packages (from pdpbox) (3.0.3)\n",
            "Requirement already satisfied: joblib in /usr/local/lib/python3.6/dist-packages (from pdpbox) (0.13.2)\n",
            "Requirement already satisfied: psutil in /usr/local/lib/python3.6/dist-packages (from pdpbox) (5.4.8)\n",
            "Requirement already satisfied: MarkupSafe>=0.23 in /usr/local/lib/python3.6/dist-packages (from jinja2->eli5) (1.1.1)\n",
            "Requirement already satisfied: pytz>=2011k in /usr/local/lib/python3.6/dist-packages (from pandas->pdpbox) (2018.9)\n",
            "Requirement already satisfied: python-dateutil>=2.5.0 in /usr/local/lib/python3.6/dist-packages (from pandas->pdpbox) (2.5.3)\n",
            "Requirement already satisfied: pyparsing!=2.0.4,!=2.1.2,!=2.1.6,>=2.0.1 in /usr/local/lib/python3.6/dist-packages (from matplotlib>=2.1.2->pdpbox) (2.4.0)\n",
            "Requirement already satisfied: kiwisolver>=1.0.1 in /usr/local/lib/python3.6/dist-packages (from matplotlib>=2.1.2->pdpbox) (1.1.0)\n",
            "Requirement already satisfied: cycler>=0.10 in /usr/local/lib/python3.6/dist-packages (from matplotlib>=2.1.2->pdpbox) (0.10.0)\n",
            "Requirement already satisfied: setuptools in /usr/local/lib/python3.6/dist-packages (from kiwisolver>=1.0.1->matplotlib>=2.1.2->pdpbox) (41.0.1)\n",
            "Building wheels for collected packages: pdpbox\n",
            "  Building wheel for pdpbox (setup.py) ... \u001b[?25l\u001b[?25hdone\n",
            "  Stored in directory: /root/.cache/pip/wheels/7d/08/51/63fd122b04a2c87d780464eeffb94867c75bd96a64d500a3fe\n",
            "Successfully built pdpbox\n",
            "Installing collected packages: eli5, pdpbox\n",
            "Successfully installed eli5-0.9.0 pdpbox-0.2.0\n"
          ],
          "name": "stdout"
        }
      ]
    },
    {
      "cell_type": "markdown",
      "metadata": {
        "id": "nH0Nn82h9nzQ",
        "colab_type": "text"
      },
      "source": [
        "#Model Interpretation"
      ]
    },
    {
      "cell_type": "markdown",
      "metadata": {
        "id": "wsoPV02j9lcR",
        "colab_type": "text"
      },
      "source": [
        "## Feature Importances"
      ]
    },
    {
      "cell_type": "code",
      "metadata": {
        "id": "Ud_cZo3Q81D2",
        "colab_type": "code",
        "colab": {
          "base_uri": "https://localhost:8080/",
          "height": 850
        },
        "outputId": "c18faa26-7986-458f-e8ff-3001df83e6a7"
      },
      "source": [
        "importances = pd.Series(model.feature_importances_, X_train_encoded.columns)\n",
        "\n",
        "n = len(X_train_encoded.columns)\n",
        "plt.figure(figsize=(10, n/2))\n",
        "plt.title(f'Top {n} features')\n",
        "importances.sort_values()[-n:].plot.barh(color='grey');"
      ],
      "execution_count": 73,
      "outputs": [
        {
          "output_type": "display_data",
          "data": {
            "image/png": "[encoded data removed]",
            "text/plain": [
              "<Figure size 720x1008 with 1 Axes>"
            ]
          },
          "metadata": {
            "tags": []
          }
        }
      ]
    },
    {
      "cell_type": "code",
      "metadata": {
        "id": "RLi6PzfT9kN-",
        "colab_type": "code",
        "colab": {
          "base_uri": "https://localhost:8080/",
          "height": 229
        },
        "outputId": "6024c374-585f-460f-c427-65c4940241ca"
      },
      "source": [
        "%%time\n",
        "from sklearn.metrics import mean_squared_error\n",
        "from sklearn.model_selection import cross_val_score\n",
        "\n",
        "def rmse(y_true, y_pred):\n",
        "    return np.sqrt(mean_squared_error(y_true, y_pred))\n",
        "\n",
        "column = 'annual_usage'\n",
        "\n",
        "model = XGBRegressor(n_estimators=1000, n_jobs=-1)\n",
        "model.fit(X_train_encoded.drop(columns=column), y_train_log)\n",
        "y_pred_log = model.predict(X_val_encoded.drop(columns=column))\n",
        "score_without = rmse(y_val_log, y_pred_log)\n",
        "print(f'Validation RMSLE without {column}:', score_without)\n",
        "\n",
        "model = model = XGBRegressor(n_estimators=1000, n_jobs=-1)\n",
        "model.fit(X_train_encoded, y_train_log)\n",
        "y_pred_log = model.predict(X_val_encoded)\n",
        "score_with = rmse(y_val_log, y_pred_log)\n",
        "print(f'Validation RMSLE with {column}:', score_with)\n",
        "\n",
        "print(f'Drop-Column Importance for {column}:', score_without - score_with)"
      ],
      "execution_count": 77,
      "outputs": [
        {
          "output_type": "stream",
          "text": [
            "/usr/local/lib/python3.6/dist-packages/xgboost/core.py:587: FutureWarning: Series.base is deprecated and will be removed in a future version\n",
            "  if getattr(data, 'base', None) is not None and \\\n"
          ],
          "name": "stderr"
        },
        {
          "output_type": "stream",
          "text": [
            "[21:16:38] WARNING: /workspace/src/objective/regression_obj.cu:152: reg:linear is now deprecated in favor of reg:squarederror.\n",
            "Validation RMSLE without annual_usage: 0.30626026828060726\n",
            "[21:16:52] WARNING: /workspace/src/objective/regression_obj.cu:152: reg:linear is now deprecated in favor of reg:squarederror.\n"
          ],
          "name": "stdout"
        },
        {
          "output_type": "stream",
          "text": [
            "/usr/local/lib/python3.6/dist-packages/xgboost/core.py:587: FutureWarning: Series.base is deprecated and will be removed in a future version\n",
            "  if getattr(data, 'base', None) is not None and \\\n"
          ],
          "name": "stderr"
        },
        {
          "output_type": "stream",
          "text": [
            "Validation RMSLE with annual_usage: 0.2700581596577784\n",
            "Drop-Column Importance for annual_usage: 0.036202108622828855\n",
            "CPU times: user 54.3 s, sys: 84.3 ms, total: 54.4 s\n",
            "Wall time: 27.4 s\n"
          ],
          "name": "stdout"
        }
      ]
    },
    {
      "cell_type": "markdown",
      "metadata": {
        "id": "pNDIo8Og-3k8",
        "colab_type": "text"
      },
      "source": [
        "## Permutation Importance\n",
        "\n",
        "Replaces a feature in the test set with random noise and if the feature performs no better than it did before then this indicates that it is not a very important feature."
      ]
    },
    {
      "cell_type": "code",
      "metadata": {
        "id": "LKW8pBR4AMDD",
        "colab_type": "code",
        "colab": {
          "base_uri": "https://localhost:8080/",
          "height": 119
        },
        "outputId": "6685cb66-9b0c-4d07-f1f1-5c24efc3370f"
      },
      "source": [
        "feature = 'quantity'\n",
        "X_val_encoded[feature].head()"
      ],
      "execution_count": 78,
      "outputs": [
        {
          "output_type": "execute_result",
          "data": {
            "text/plain": [
              "0     1\n",
              "1     2\n",
              "2     5\n",
              "3    10\n",
              "4    25\n",
              "Name: quantity, dtype: int64"
            ]
          },
          "metadata": {
            "tags": []
          },
          "execution_count": 78
        }
      ]
    },
    {
      "cell_type": "code",
      "metadata": {
        "id": "bhyuyfbIAR33",
        "colab_type": "code",
        "colab": {
          "base_uri": "https://localhost:8080/",
          "height": 170
        },
        "outputId": "93553dd9-7d76-424a-bc22-79a5a0481399"
      },
      "source": [
        "X_val_encoded[feature].describe()"
      ],
      "execution_count": 79,
      "outputs": [
        {
          "output_type": "execute_result",
          "data": {
            "text/plain": [
              "count    7585.000000\n",
              "mean       38.752406\n",
              "std        69.092613\n",
              "min         1.000000\n",
              "25%         2.000000\n",
              "50%        10.000000\n",
              "75%        50.000000\n",
              "max       600.000000\n",
              "Name: quantity, dtype: float64"
            ]
          },
          "metadata": {
            "tags": []
          },
          "execution_count": 79
        }
      ]
    },
    {
      "cell_type": "code",
      "metadata": {
        "id": "XCaaJUFmAVdI",
        "colab_type": "code",
        "colab": {
          "base_uri": "https://localhost:8080/",
          "height": 119
        },
        "outputId": "364c1e2e-726f-4b72-9825-a337881fa268"
      },
      "source": [
        "X_val_permuted = X_val_encoded.copy()\n",
        "X_val_permuted[feature] = np.random.permutation(X_val_encoded[feature])\n",
        "X_val_permuted[feature].head()"
      ],
      "execution_count": 80,
      "outputs": [
        {
          "output_type": "execute_result",
          "data": {
            "text/plain": [
              "0      8\n",
              "1    250\n",
              "2     25\n",
              "3    100\n",
              "4      4\n",
              "Name: quantity, dtype: int64"
            ]
          },
          "metadata": {
            "tags": []
          },
          "execution_count": 80
        }
      ]
    },
    {
      "cell_type": "code",
      "metadata": {
        "id": "sUjLbEp-Ai6G",
        "colab_type": "code",
        "colab": {
          "base_uri": "https://localhost:8080/",
          "height": 170
        },
        "outputId": "3e7367b3-d8ef-446d-e484-28e40cd81c87"
      },
      "source": [
        "X_val_permuted['quantity'].describe()"
      ],
      "execution_count": 81,
      "outputs": [
        {
          "output_type": "execute_result",
          "data": {
            "text/plain": [
              "count    7585.000000\n",
              "mean       38.752406\n",
              "std        69.092613\n",
              "min         1.000000\n",
              "25%         2.000000\n",
              "50%        10.000000\n",
              "75%        50.000000\n",
              "max       600.000000\n",
              "Name: quantity, dtype: float64"
            ]
          },
          "metadata": {
            "tags": []
          },
          "execution_count": 81
        }
      ]
    },
    {
      "cell_type": "code",
      "metadata": {
        "id": "byCX7n9dAnMm",
        "colab_type": "code",
        "colab": {
          "base_uri": "https://localhost:8080/",
          "height": 68
        },
        "outputId": "2229dbb3-2830-40d4-d8a0-f260f5956c01"
      },
      "source": [
        "y_pred_log = model.predict(X_val_permuted)\n",
        "score_permuted = rmse(y_val_log, y_pred_log)\n",
        "print(f'Validation RMSLE with {feature}:', score_with)\n",
        "print(f'Validation RMSLE with {feature} permuted:', score_permuted)\n",
        "print(f'Permutation Importance:', score_permuted - score_with)"
      ],
      "execution_count": 83,
      "outputs": [
        {
          "output_type": "stream",
          "text": [
            "Validation RMSLE with quantity: 0.2700581596577784\n",
            "Validation RMSLE with quantity permuted: 0.901266338217702\n",
            "Permutation Importance: 0.6312081785599235\n"
          ],
          "name": "stdout"
        }
      ]
    },
    {
      "cell_type": "code",
      "metadata": {
        "id": "-h-Fdvel-yum",
        "colab_type": "code",
        "colab": {
          "base_uri": "https://localhost:8080/",
          "height": 510
        },
        "outputId": "afb3a44c-547f-4fc6-a5ff-b3e90b1b3143"
      },
      "source": [
        "import eli5\n",
        "from eli5.sklearn import PermutationImportance\n",
        "\n",
        "permuter = PermutationImportance(model, scoring='neg_mean_squared_error', \n",
        "                                cv='prefit', n_iter=2, random_state=1)\n",
        "\n",
        "permuter.fit(X_val_encoded, y_val_log)\n",
        "feature_names = X_val_encoded.columns.tolist()\n",
        "eli5.show_weights(permuter, top=None, feature_names=feature_names)"
      ],
      "execution_count": 84,
      "outputs": [
        {
          "output_type": "execute_result",
          "data": {
            "text/html": [
              "\n",
              "    <style>\n",
              "    table.eli5-weights tr:hover {\n",
              "        filter: brightness(85%);\n",
              "    }\n",
              "</style>\n",
              "\n",
              "\n",
              "\n",
              "    \n",
              "\n",
              "    \n",
              "\n",
              "    \n",
              "\n",
              "    \n",
              "\n",
              "    \n",
              "\n",
              "    \n",
              "\n",
              "\n",
              "    \n",
              "\n",
              "    \n",
              "\n",
              "    \n",
              "\n",
              "    \n",
              "\n",
              "    \n",
              "\n",
              "    \n",
              "\n",
              "\n",
              "    \n",
              "\n",
              "    \n",
              "\n",
              "    \n",
              "\n",
              "    \n",
              "\n",
              "    \n",
              "        <table class=\"eli5-weights eli5-feature-importances\" style=\"border-collapse: collapse; border: none; margin-top: 0em; table-layout: auto;\">\n",
              "    <thead>\n",
              "    <tr style=\"border: none;\">\n",
              "        <th style=\"padding: 0 1em 0 0.5em; text-align: right; border: none;\">Weight</th>\n",
              "        <th style=\"padding: 0 0.5em 0 0.5em; text-align: left; border: none;\">Feature</th>\n",
              "    </tr>\n",
              "    </thead>\n",
              "    <tbody>\n",
              "    \n",
              "        <tr style=\"background-color: hsl(120, 100.00%, 80.00%); border: none;\">\n",
              "            <td style=\"padding: 0 1em 0 0.5em; text-align: right; border: none;\">\n",
              "                0.7315\n",
              "                \n",
              "                    &plusmn; 0.0304\n",
              "                \n",
              "            </td>\n",
              "            <td style=\"padding: 0 0.5em 0 0.5em; text-align: left; border: none;\">\n",
              "                quantity\n",
              "            </td>\n",
              "        </tr>\n",
              "    \n",
              "        <tr style=\"background-color: hsl(120, 100.00%, 90.75%); border: none;\">\n",
              "            <td style=\"padding: 0 1em 0 0.5em; text-align: right; border: none;\">\n",
              "                0.2431\n",
              "                \n",
              "                    &plusmn; 0.0098\n",
              "                \n",
              "            </td>\n",
              "            <td style=\"padding: 0 0.5em 0 0.5em; text-align: left; border: none;\">\n",
              "                min_order_quantity\n",
              "            </td>\n",
              "        </tr>\n",
              "    \n",
              "        <tr style=\"background-color: hsl(120, 100.00%, 95.98%); border: none;\">\n",
              "            <td style=\"padding: 0 1em 0 0.5em; text-align: right; border: none;\">\n",
              "                0.0740\n",
              "                \n",
              "                    &plusmn; 0.0024\n",
              "                \n",
              "            </td>\n",
              "            <td style=\"padding: 0 0.5em 0 0.5em; text-align: left; border: none;\">\n",
              "                diameter\n",
              "            </td>\n",
              "        </tr>\n",
              "    \n",
              "        <tr style=\"background-color: hsl(120, 100.00%, 96.41%); border: none;\">\n",
              "            <td style=\"padding: 0 1em 0 0.5em; text-align: right; border: none;\">\n",
              "                0.0630\n",
              "                \n",
              "                    &plusmn; 0.0003\n",
              "                \n",
              "            </td>\n",
              "            <td style=\"padding: 0 0.5em 0 0.5em; text-align: left; border: none;\">\n",
              "                annual_usage\n",
              "            </td>\n",
              "        </tr>\n",
              "    \n",
              "        <tr style=\"background-color: hsl(120, 100.00%, 96.58%); border: none;\">\n",
              "            <td style=\"padding: 0 1em 0 0.5em; text-align: right; border: none;\">\n",
              "                0.0588\n",
              "                \n",
              "                    &plusmn; 0.0003\n",
              "                \n",
              "            </td>\n",
              "            <td style=\"padding: 0 0.5em 0 0.5em; text-align: left; border: none;\">\n",
              "                supplier\n",
              "            </td>\n",
              "        </tr>\n",
              "    \n",
              "        <tr style=\"background-color: hsl(120, 100.00%, 97.71%); border: none;\">\n",
              "            <td style=\"padding: 0 1em 0 0.5em; text-align: right; border: none;\">\n",
              "                0.0332\n",
              "                \n",
              "                    &plusmn; 0.0005\n",
              "                \n",
              "            </td>\n",
              "            <td style=\"padding: 0 0.5em 0 0.5em; text-align: left; border: none;\">\n",
              "                quote_year\n",
              "            </td>\n",
              "        </tr>\n",
              "    \n",
              "        <tr style=\"background-color: hsl(120, 100.00%, 97.90%); border: none;\">\n",
              "            <td style=\"padding: 0 1em 0 0.5em; text-align: right; border: none;\">\n",
              "                0.0293\n",
              "                \n",
              "                    &plusmn; 0.0006\n",
              "                \n",
              "            </td>\n",
              "            <td style=\"padding: 0 0.5em 0 0.5em; text-align: left; border: none;\">\n",
              "                components_distinct\n",
              "            </td>\n",
              "        </tr>\n",
              "    \n",
              "        <tr style=\"background-color: hsl(120, 100.00%, 98.37%); border: none;\">\n",
              "            <td style=\"padding: 0 1em 0 0.5em; text-align: right; border: none;\">\n",
              "                0.0203\n",
              "                \n",
              "                    &plusmn; 0.0019\n",
              "                \n",
              "            </td>\n",
              "            <td style=\"padding: 0 0.5em 0 0.5em; text-align: left; border: none;\">\n",
              "                component_type_id\n",
              "            </td>\n",
              "        </tr>\n",
              "    \n",
              "        <tr style=\"background-color: hsl(120, 100.00%, 98.43%); border: none;\">\n",
              "            <td style=\"padding: 0 1em 0 0.5em; text-align: right; border: none;\">\n",
              "                0.0193\n",
              "                \n",
              "                    &plusmn; 0.0007\n",
              "                \n",
              "            </td>\n",
              "            <td style=\"padding: 0 0.5em 0 0.5em; text-align: left; border: none;\">\n",
              "                length\n",
              "            </td>\n",
              "        </tr>\n",
              "    \n",
              "        <tr style=\"background-color: hsl(120, 100.00%, 98.71%); border: none;\">\n",
              "            <td style=\"padding: 0 1em 0 0.5em; text-align: right; border: none;\">\n",
              "                0.0145\n",
              "                \n",
              "                    &plusmn; 0.0002\n",
              "                \n",
              "            </td>\n",
              "            <td style=\"padding: 0 0.5em 0 0.5em; text-align: left; border: none;\">\n",
              "                end_a\n",
              "            </td>\n",
              "        </tr>\n",
              "    \n",
              "        <tr style=\"background-color: hsl(120, 100.00%, 98.87%); border: none;\">\n",
              "            <td style=\"padding: 0 1em 0 0.5em; text-align: right; border: none;\">\n",
              "                0.0121\n",
              "                \n",
              "                    &plusmn; 0.0014\n",
              "                \n",
              "            </td>\n",
              "            <td style=\"padding: 0 0.5em 0 0.5em; text-align: left; border: none;\">\n",
              "                component_id_1\n",
              "            </td>\n",
              "        </tr>\n",
              "    \n",
              "        <tr style=\"background-color: hsl(120, 100.00%, 98.93%); border: none;\">\n",
              "            <td style=\"padding: 0 1em 0 0.5em; text-align: right; border: none;\">\n",
              "                0.0112\n",
              "                \n",
              "                    &plusmn; 0.0000\n",
              "                \n",
              "            </td>\n",
              "            <td style=\"padding: 0 0.5em 0 0.5em; text-align: left; border: none;\">\n",
              "                wall\n",
              "            </td>\n",
              "        </tr>\n",
              "    \n",
              "        <tr style=\"background-color: hsl(120, 100.00%, 99.29%); border: none;\">\n",
              "            <td style=\"padding: 0 1em 0 0.5em; text-align: right; border: none;\">\n",
              "                0.0062\n",
              "                \n",
              "                    &plusmn; 0.0008\n",
              "                \n",
              "            </td>\n",
              "            <td style=\"padding: 0 0.5em 0 0.5em; text-align: left; border: none;\">\n",
              "                end_x\n",
              "            </td>\n",
              "        </tr>\n",
              "    \n",
              "        <tr style=\"background-color: hsl(120, 100.00%, 99.33%); border: none;\">\n",
              "            <td style=\"padding: 0 1em 0 0.5em; text-align: right; border: none;\">\n",
              "                0.0057\n",
              "                \n",
              "                    &plusmn; 0.0005\n",
              "                \n",
              "            </td>\n",
              "            <td style=\"padding: 0 0.5em 0 0.5em; text-align: left; border: none;\">\n",
              "                bend_radius\n",
              "            </td>\n",
              "        </tr>\n",
              "    \n",
              "        <tr style=\"background-color: hsl(120, 100.00%, 99.47%); border: none;\">\n",
              "            <td style=\"padding: 0 1em 0 0.5em; text-align: right; border: none;\">\n",
              "                0.0041\n",
              "                \n",
              "                    &plusmn; 0.0006\n",
              "                \n",
              "            </td>\n",
              "            <td style=\"padding: 0 0.5em 0 0.5em; text-align: left; border: none;\">\n",
              "                quote_month\n",
              "            </td>\n",
              "        </tr>\n",
              "    \n",
              "        <tr style=\"background-color: hsl(120, 100.00%, 99.53%); border: none;\">\n",
              "            <td style=\"padding: 0 1em 0 0.5em; text-align: right; border: none;\">\n",
              "                0.0035\n",
              "                \n",
              "                    &plusmn; 0.0011\n",
              "                \n",
              "            </td>\n",
              "            <td style=\"padding: 0 0.5em 0 0.5em; text-align: left; border: none;\">\n",
              "                other\n",
              "            </td>\n",
              "        </tr>\n",
              "    \n",
              "        <tr style=\"background-color: hsl(120, 100.00%, 99.56%); border: none;\">\n",
              "            <td style=\"padding: 0 1em 0 0.5em; text-align: right; border: none;\">\n",
              "                0.0031\n",
              "                \n",
              "                    &plusmn; 0.0002\n",
              "                \n",
              "            </td>\n",
              "            <td style=\"padding: 0 0.5em 0 0.5em; text-align: left; border: none;\">\n",
              "                components_total\n",
              "            </td>\n",
              "        </tr>\n",
              "    \n",
              "        <tr style=\"background-color: hsl(120, 100.00%, 99.65%); border: none;\">\n",
              "            <td style=\"padding: 0 1em 0 0.5em; text-align: right; border: none;\">\n",
              "                0.0023\n",
              "                \n",
              "                    &plusmn; 0.0003\n",
              "                \n",
              "            </td>\n",
              "            <td style=\"padding: 0 0.5em 0 0.5em; text-align: left; border: none;\">\n",
              "                num_bends\n",
              "            </td>\n",
              "        </tr>\n",
              "    \n",
              "        <tr style=\"background-color: hsl(120, 100.00%, 99.72%); border: none;\">\n",
              "            <td style=\"padding: 0 1em 0 0.5em; text-align: right; border: none;\">\n",
              "                0.0017\n",
              "                \n",
              "                    &plusmn; 0.0002\n",
              "                \n",
              "            </td>\n",
              "            <td style=\"padding: 0 0.5em 0 0.5em; text-align: left; border: none;\">\n",
              "                spec1\n",
              "            </td>\n",
              "        </tr>\n",
              "    \n",
              "        <tr style=\"background-color: hsl(120, 100.00%, 99.73%); border: none;\">\n",
              "            <td style=\"padding: 0 1em 0 0.5em; text-align: right; border: none;\">\n",
              "                0.0016\n",
              "                \n",
              "                    &plusmn; 0.0000\n",
              "                \n",
              "            </td>\n",
              "            <td style=\"padding: 0 0.5em 0 0.5em; text-align: left; border: none;\">\n",
              "                material_id\n",
              "            </td>\n",
              "        </tr>\n",
              "    \n",
              "        <tr style=\"background-color: hsl(120, 100.00%, 99.78%); border: none;\">\n",
              "            <td style=\"padding: 0 1em 0 0.5em; text-align: right; border: none;\">\n",
              "                0.0012\n",
              "                \n",
              "                    &plusmn; 0.0002\n",
              "                \n",
              "            </td>\n",
              "            <td style=\"padding: 0 0.5em 0 0.5em; text-align: left; border: none;\">\n",
              "                bracket_pricing\n",
              "            </td>\n",
              "        </tr>\n",
              "    \n",
              "        <tr style=\"background-color: hsl(120, 100.00%, 99.79%); border: none;\">\n",
              "            <td style=\"padding: 0 1em 0 0.5em; text-align: right; border: none;\">\n",
              "                0.0011\n",
              "                \n",
              "                    &plusmn; 0.0001\n",
              "                \n",
              "            </td>\n",
              "            <td style=\"padding: 0 0.5em 0 0.5em; text-align: left; border: none;\">\n",
              "                specs_total\n",
              "            </td>\n",
              "        </tr>\n",
              "    \n",
              "        <tr style=\"background-color: hsl(120, 100.00%, 99.81%); border: none;\">\n",
              "            <td style=\"padding: 0 1em 0 0.5em; text-align: right; border: none;\">\n",
              "                0.0010\n",
              "                \n",
              "                    &plusmn; 0.0003\n",
              "                \n",
              "            </td>\n",
              "            <td style=\"padding: 0 0.5em 0 0.5em; text-align: left; border: none;\">\n",
              "                end_x_2x\n",
              "            </td>\n",
              "        </tr>\n",
              "    \n",
              "        <tr style=\"background-color: hsl(120, 100.00%, 99.81%); border: none;\">\n",
              "            <td style=\"padding: 0 1em 0 0.5em; text-align: right; border: none;\">\n",
              "                0.0010\n",
              "                \n",
              "                    &plusmn; 0.0002\n",
              "                \n",
              "            </td>\n",
              "            <td style=\"padding: 0 0.5em 0 0.5em; text-align: left; border: none;\">\n",
              "                end_a_2x\n",
              "            </td>\n",
              "        </tr>\n",
              "    \n",
              "        <tr style=\"background-color: hsl(120, 100.00%, 99.85%); border: none;\">\n",
              "            <td style=\"padding: 0 1em 0 0.5em; text-align: right; border: none;\">\n",
              "                0.0007\n",
              "                \n",
              "                    &plusmn; 0.0000\n",
              "                \n",
              "            </td>\n",
              "            <td style=\"padding: 0 0.5em 0 0.5em; text-align: left; border: none;\">\n",
              "                num_boss\n",
              "            </td>\n",
              "        </tr>\n",
              "    \n",
              "        <tr style=\"background-color: hsl(120, 100.00%, 99.91%); border: none;\">\n",
              "            <td style=\"padding: 0 1em 0 0.5em; text-align: right; border: none;\">\n",
              "                0.0003\n",
              "                \n",
              "                    &plusmn; 0.0002\n",
              "                \n",
              "            </td>\n",
              "            <td style=\"padding: 0 0.5em 0 0.5em; text-align: left; border: none;\">\n",
              "                num_bracket\n",
              "            </td>\n",
              "        </tr>\n",
              "    \n",
              "        <tr style=\"background-color: hsl(120, 100.00%, 99.92%); border: none;\">\n",
              "            <td style=\"padding: 0 1em 0 0.5em; text-align: right; border: none;\">\n",
              "                0.0003\n",
              "                \n",
              "                    &plusmn; 0.0001\n",
              "                \n",
              "            </td>\n",
              "            <td style=\"padding: 0 0.5em 0 0.5em; text-align: left; border: none;\">\n",
              "                end_x_1x\n",
              "            </td>\n",
              "        </tr>\n",
              "    \n",
              "        <tr style=\"background-color: hsl(0, 100.00%, 99.95%); border: none;\">\n",
              "            <td style=\"padding: 0 1em 0 0.5em; text-align: right; border: none;\">\n",
              "                -0.0001\n",
              "                \n",
              "                    &plusmn; 0.0001\n",
              "                \n",
              "            </td>\n",
              "            <td style=\"padding: 0 0.5em 0 0.5em; text-align: left; border: none;\">\n",
              "                end_a_1x\n",
              "            </td>\n",
              "        </tr>\n",
              "    \n",
              "    \n",
              "    </tbody>\n",
              "</table>\n",
              "    \n",
              "\n",
              "    \n",
              "\n",
              "\n",
              "    \n",
              "\n",
              "    \n",
              "\n",
              "    \n",
              "\n",
              "    \n",
              "\n",
              "    \n",
              "\n",
              "    \n",
              "\n",
              "\n",
              "\n"
            ],
            "text/plain": [
              "<IPython.core.display.HTML object>"
            ]
          },
          "metadata": {
            "tags": []
          },
          "execution_count": 84
        }
      ]
    },
    {
      "cell_type": "markdown",
      "metadata": {
        "id": "6jxpKxIZCEPQ",
        "colab_type": "text"
      },
      "source": [
        "### Remove features with low importance for faster runtime"
      ]
    },
    {
      "cell_type": "code",
      "metadata": {
        "id": "6ivkqHsfB4G3",
        "colab_type": "code",
        "colab": {
          "base_uri": "https://localhost:8080/",
          "height": 34
        },
        "outputId": "12c0f07d-bd06-423c-b5f4-b90d0782e429"
      },
      "source": [
        "print('Shape before removing features:', X_train.shape)"
      ],
      "execution_count": 85,
      "outputs": [
        {
          "output_type": "stream",
          "text": [
            "Shape before removing features: (22628, 28)\n"
          ],
          "name": "stdout"
        }
      ]
    },
    {
      "cell_type": "code",
      "metadata": {
        "id": "4lu0VSslCMry",
        "colab_type": "code",
        "colab": {
          "base_uri": "https://localhost:8080/",
          "height": 34
        },
        "outputId": "73778275-0601-4fe6-e614-88ac8ad33079"
      },
      "source": [
        "mask = permuter.feature_importances_ > 0\n",
        "features = X_train.columns[mask]\n",
        "X_train = X_train[features]\n",
        "print('Shape after removing features:', X_train.shape)\n",
        "X_val = X_val[features]"
      ],
      "execution_count": 86,
      "outputs": [
        {
          "output_type": "stream",
          "text": [
            "Shape after removing features: (22628, 27)\n"
          ],
          "name": "stdout"
        }
      ]
    },
    {
      "cell_type": "code",
      "metadata": {
        "id": "oSKqkW1gCb24",
        "colab_type": "code",
        "colab": {
          "base_uri": "https://localhost:8080/",
          "height": 110
        },
        "outputId": "55b0dd44-559d-45cb-adb0-e8c4aa270bb4"
      },
      "source": [
        "encoder = ce.OrdinalEncoder()\n",
        "X_train_encoded = encoder.fit_transform(X_train)\n",
        "X_val_encoded = encoder.transform(X_val)\n",
        "model = XGBRegressor(n_estimators=1000, n_jobs=-1)\n",
        "model.fit(X_train_encoded, y_train_log)\n",
        "y_pred_log = model.predict(X_val_encoded)\n",
        "print(f'Validation RMSLE', rmse(y_val_log, y_pred_log))"
      ],
      "execution_count": 87,
      "outputs": [
        {
          "output_type": "stream",
          "text": [
            "/usr/local/lib/python3.6/dist-packages/xgboost/core.py:587: FutureWarning: Series.base is deprecated and will be removed in a future version\n",
            "  if getattr(data, 'base', None) is not None and \\\n"
          ],
          "name": "stderr"
        },
        {
          "output_type": "stream",
          "text": [
            "[21:31:14] WARNING: /workspace/src/objective/regression_obj.cu:152: reg:linear is now deprecated in favor of reg:squarederror.\n",
            "Validation RMSLE 0.2668121693776972\n"
          ],
          "name": "stdout"
        }
      ]
    },
    {
      "cell_type": "markdown",
      "metadata": {
        "id": "3SuJrWNJC7cw",
        "colab_type": "text"
      },
      "source": [
        "## Partial Dependence Plots"
      ]
    },
    {
      "cell_type": "code",
      "metadata": {
        "id": "jh4p1GGZC5Ml",
        "colab_type": "code",
        "colab": {
          "base_uri": "https://localhost:8080/",
          "height": 612
        },
        "outputId": "4ece0e49-2819-4371-d670-247614a8a34c"
      },
      "source": [
        "from pdpbox.pdp import pdp_isolate, pdp_plot\n",
        "\n",
        "feature = 'quantity'\n",
        "isolated = pdp_isolate(\n",
        "    model=model, \n",
        "    dataset=X_val_encoded,\n",
        "    model_features=X_val_encoded.columns,\n",
        "    feature=feature\n",
        ")\n",
        "\n",
        "pdp_plot(isolated, feature_name=feature);"
      ],
      "execution_count": 88,
      "outputs": [
        {
          "output_type": "display_data",
          "data": {
            "image/png": "[encoded data removed]",
            "text/plain": [
              "<Figure size 1080x684 with 2 Axes>"
            ]
          },
          "metadata": {
            "tags": []
          }
        }
      ]
    },
    {
      "cell_type": "code",
      "metadata": {
        "id": "HvsCRARSDXKz",
        "colab_type": "code",
        "colab": {
          "base_uri": "https://localhost:8080/",
          "height": 653
        },
        "outputId": "fd6b3053-642e-4551-8347-5574edde69bc"
      },
      "source": [
        "feature = 'supplier'\n",
        "\n",
        "isolated = pdp_isolate(\n",
        "    model = model,\n",
        "    dataset=X_val_encoded,\n",
        "    model_features=X_val_encoded.columns,\n",
        "    feature=feature\n",
        ")\n",
        "\n",
        "pdp_plot(isolated, feature_name=feature)"
      ],
      "execution_count": 93,
      "outputs": [
        {
          "output_type": "execute_result",
          "data": {
            "text/plain": [
              "(<Figure size 1080x684 with 2 Axes>,\n",
              " {'pdp_ax': <matplotlib.axes._subplots.AxesSubplot at 0x7fe734d50470>,\n",
              "  'title_ax': <matplotlib.axes._subplots.AxesSubplot at 0x7fe7403c06d8>})"
            ]
          },
          "metadata": {
            "tags": []
          },
          "execution_count": 93
        },
        {
          "output_type": "display_data",
          "data": {
            "image/png": "[encoded data removed]",
            "text/plain": [
              "<Figure size 1080x684 with 2 Axes>"
            ]
          },
          "metadata": {
            "tags": []
          }
        }
      ]
    },
    {
      "cell_type": "code",
      "metadata": {
        "id": "goVXpVd9JJKg",
        "colab_type": "code",
        "colab": {
          "base_uri": "https://localhost:8080/",
          "height": 661
        },
        "outputId": "06bc29dc-e25c-40e6-a424-03c42becd0f5"
      },
      "source": [
        "from pdpbox.pdp import pdp_interact, pdp_interact_plot\n",
        "\n",
        "features = ['quantity', 'supplier']\n",
        "\n",
        "interaction = pdp_interact(\n",
        "    model=model,\n",
        "    dataset=X_val_encoded,\n",
        "    model_features=X_val_encoded.columns,\n",
        "    features=features\n",
        ")\n",
        "\n",
        "pdp_interact_plot(interaction, plot_type='grid', feature_names=features)"
      ],
      "execution_count": 97,
      "outputs": [
        {
          "output_type": "execute_result",
          "data": {
            "text/plain": [
              "(<Figure size 540x684 with 3 Axes>,\n",
              " {'pdp_inter_ax': <matplotlib.axes._subplots.AxesSubplot at 0x7fe734ef8ac8>,\n",
              "  'title_ax': <matplotlib.axes._subplots.AxesSubplot at 0x7fe740343048>})"
            ]
          },
          "metadata": {
            "tags": []
          },
          "execution_count": 97
        },
        {
          "output_type": "display_data",
          "data": {
            "image/png": "[encoded data removed]",
            "text/plain": [
              "<Figure size 540x684 with 3 Axes>"
            ]
          },
          "metadata": {
            "tags": []
          }
        }
      ]
    },
    {
      "cell_type": "code",
      "metadata": {
        "id": "-bsUwBvHKFLV",
        "colab_type": "code",
        "colab": {
          "base_uri": "https://localhost:8080/",
          "height": 661
        },
        "outputId": "d39060d0-acf6-42c3-a216-e871676b4f15"
      },
      "source": [
        "features = ['annual_usage', 'quote_year']\n",
        "\n",
        "interaction = pdp_interact(\n",
        "    model=model,\n",
        "    dataset=X_val_encoded,\n",
        "    model_features=X_val_encoded.columns,\n",
        "    features=features\n",
        ")\n",
        "\n",
        "pdp_interact_plot(interaction, plot_type='grid',feature_names=features)"
      ],
      "execution_count": 99,
      "outputs": [
        {
          "output_type": "execute_result",
          "data": {
            "text/plain": [
              "(<Figure size 540x684 with 3 Axes>,\n",
              " {'pdp_inter_ax': <matplotlib.axes._subplots.AxesSubplot at 0x7fe7403cfa90>,\n",
              "  'title_ax': <matplotlib.axes._subplots.AxesSubplot at 0x7fe740343f28>})"
            ]
          },
          "metadata": {
            "tags": []
          },
          "execution_count": 99
        },
        {
          "output_type": "display_data",
          "data": {
            "image/png": "[encoded data removed]",
            "text/plain": [
              "<Figure size 540x684 with 3 Axes>"
            ]
          },
          "metadata": {
            "tags": []
          }
        }
      ]
    },
    {
      "cell_type": "code",
      "metadata": {
        "id": "1kejhOKaK7dw",
        "colab_type": "code",
        "colab": {}
      },
      "source": [
        ""
      ],
      "execution_count": 0,
      "outputs": []
    }
  ]
}
