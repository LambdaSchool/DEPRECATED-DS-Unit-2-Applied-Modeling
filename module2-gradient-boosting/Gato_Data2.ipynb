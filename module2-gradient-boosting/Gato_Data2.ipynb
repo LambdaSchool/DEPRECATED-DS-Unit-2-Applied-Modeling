{
 "cells": [
  {
   "cell_type": "code",
   "execution_count": 1,
   "metadata": {
    "colab": {
     "base_uri": "https://localhost:8080/",
     "height": 408
    },
    "colab_type": "code",
    "id": "N57PgMQD726C",
    "outputId": "2ea01ff7-fc63-443b-8ba4-4e803b22b86a"
   },
   "outputs": [],
   "source": [
    "# only run once\n",
    "#%cd ../data/caterpillar/competition_data\n",
    "#! unzip caterpillar-tube-pricing.zip\n",
    "#! unzip data.zip"
   ]
  },
  {
   "cell_type": "code",
   "execution_count": 2,
   "metadata": {},
   "outputs": [],
   "source": [
    "from glob import glob\n",
    "import pandas as pd\n",
    "import numpy as np\n",
    "from sklearn.metrics import mean_squared_log_error\n",
    "from sklearn.model_selection import train_test_split\n",
    "from sklearn.metrics import r2_score\n",
    "from sklearn.ensemble import RandomForestRegressor\n",
    "%matplotlib inline\n",
    "import seaborn as sns\n",
    "from sklearn.metrics import mean_squared_error\n",
    "from sklearn.linear_model import LinearRegression\n",
    "import category_encoders as ce\n",
    "from sklearn.pipeline import make_pipeline\n",
    "import matplotlib.pyplot as plt\n",
    "\n",
    "\n",
    "def rmsle(y_true, y_pred):\n",
    "    return np.sqrt(mean_squared_log_error(y_true, y_pred))"
   ]
  },
  {
   "cell_type": "code",
   "execution_count": 3,
   "metadata": {},
   "outputs": [
    {
     "name": "stdout",
     "output_type": "stream",
     "text": [
      "/home/gunther/Downloads/github/DS-Unit-2-Applied-Modeling/data/caterpillar/competition_data\n",
      "bill_of_materials.csv  components.csv     test_set.csv\r\n",
      "comp_adaptor.csv       comp_other.csv     train_set.csv\r\n",
      "comp_boss.csv          comp_sleeve.csv    tube.csv\r\n",
      "comp_elbow.csv         comp_straight.csv  tube_end_form.csv\r\n",
      "comp_float.csv         comp_tee.csv       type_component.csv\r\n",
      "comp_hfl.csv           comp_threaded.csv  type_connection.csv\r\n",
      "comp_nut.csv           specs.csv          type_end_form.csv\r\n"
     ]
    }
   ],
   "source": [
    "%cd ../data/caterpillar/competition_data\n",
    "%ls"
   ]
  },
  {
   "cell_type": "code",
   "execution_count": 4,
   "metadata": {
    "colab": {},
    "colab_type": "code",
    "id": "UVh48zH-HL6h"
   },
   "outputs": [
    {
     "data": {
      "text/html": [
       "<div>\n",
       "<style scoped>\n",
       "    .dataframe tbody tr th:only-of-type {\n",
       "        vertical-align: middle;\n",
       "    }\n",
       "\n",
       "    .dataframe tbody tr th {\n",
       "        vertical-align: top;\n",
       "    }\n",
       "\n",
       "    .dataframe thead th {\n",
       "        text-align: right;\n",
       "    }\n",
       "</style>\n",
       "<table border=\"1\" class=\"dataframe\">\n",
       "  <thead>\n",
       "    <tr style=\"text-align: right;\">\n",
       "      <th></th>\n",
       "      <th>tube_assembly_id</th>\n",
       "      <th>supplier</th>\n",
       "      <th>quote_date</th>\n",
       "      <th>annual_usage</th>\n",
       "      <th>min_order_quantity</th>\n",
       "      <th>bracket_pricing</th>\n",
       "      <th>quantity</th>\n",
       "      <th>cost</th>\n",
       "    </tr>\n",
       "  </thead>\n",
       "  <tbody>\n",
       "    <tr>\n",
       "      <th>0</th>\n",
       "      <td>TA-00002</td>\n",
       "      <td>S-0066</td>\n",
       "      <td>2013-07-07</td>\n",
       "      <td>0</td>\n",
       "      <td>0</td>\n",
       "      <td>Yes</td>\n",
       "      <td>1</td>\n",
       "      <td>21.905933</td>\n",
       "    </tr>\n",
       "    <tr>\n",
       "      <th>1</th>\n",
       "      <td>TA-00002</td>\n",
       "      <td>S-0066</td>\n",
       "      <td>2013-07-07</td>\n",
       "      <td>0</td>\n",
       "      <td>0</td>\n",
       "      <td>Yes</td>\n",
       "      <td>2</td>\n",
       "      <td>12.341214</td>\n",
       "    </tr>\n",
       "    <tr>\n",
       "      <th>2</th>\n",
       "      <td>TA-00002</td>\n",
       "      <td>S-0066</td>\n",
       "      <td>2013-07-07</td>\n",
       "      <td>0</td>\n",
       "      <td>0</td>\n",
       "      <td>Yes</td>\n",
       "      <td>5</td>\n",
       "      <td>6.601826</td>\n",
       "    </tr>\n",
       "    <tr>\n",
       "      <th>3</th>\n",
       "      <td>TA-00002</td>\n",
       "      <td>S-0066</td>\n",
       "      <td>2013-07-07</td>\n",
       "      <td>0</td>\n",
       "      <td>0</td>\n",
       "      <td>Yes</td>\n",
       "      <td>10</td>\n",
       "      <td>4.687770</td>\n",
       "    </tr>\n",
       "    <tr>\n",
       "      <th>4</th>\n",
       "      <td>TA-00002</td>\n",
       "      <td>S-0066</td>\n",
       "      <td>2013-07-07</td>\n",
       "      <td>0</td>\n",
       "      <td>0</td>\n",
       "      <td>Yes</td>\n",
       "      <td>25</td>\n",
       "      <td>3.541561</td>\n",
       "    </tr>\n",
       "  </tbody>\n",
       "</table>\n",
       "</div>"
      ],
      "text/plain": [
       "  tube_assembly_id supplier  quote_date  annual_usage  min_order_quantity  \\\n",
       "0         TA-00002   S-0066  2013-07-07             0                   0   \n",
       "1         TA-00002   S-0066  2013-07-07             0                   0   \n",
       "2         TA-00002   S-0066  2013-07-07             0                   0   \n",
       "3         TA-00002   S-0066  2013-07-07             0                   0   \n",
       "4         TA-00002   S-0066  2013-07-07             0                   0   \n",
       "\n",
       "  bracket_pricing  quantity       cost  \n",
       "0             Yes         1  21.905933  \n",
       "1             Yes         2  12.341214  \n",
       "2             Yes         5   6.601826  \n",
       "3             Yes        10   4.687770  \n",
       "4             Yes        25   3.541561  "
      ]
     },
     "execution_count": 4,
     "metadata": {},
     "output_type": "execute_result"
    }
   ],
   "source": [
    "# exploring data\n",
    "trainval = pd.read_csv('train_set.csv')\n",
    "test = pd.read_csv('test_set.csv')\n",
    "trainval.head()"
   ]
  },
  {
   "cell_type": "code",
   "execution_count": 5,
   "metadata": {
    "colab": {
     "base_uri": "https://localhost:8080/",
     "height": 359
    },
    "colab_type": "code",
    "id": "nbez5Z4Wh_Z8",
    "outputId": "628e0e56-9c77-49fa-c202-f3f3a7cf95d3"
   },
   "outputs": [
    {
     "data": {
      "text/html": [
       "<div>\n",
       "<style scoped>\n",
       "    .dataframe tbody tr th:only-of-type {\n",
       "        vertical-align: middle;\n",
       "    }\n",
       "\n",
       "    .dataframe tbody tr th {\n",
       "        vertical-align: top;\n",
       "    }\n",
       "\n",
       "    .dataframe thead th {\n",
       "        text-align: right;\n",
       "    }\n",
       "</style>\n",
       "<table border=\"1\" class=\"dataframe\">\n",
       "  <thead>\n",
       "    <tr style=\"text-align: right;\">\n",
       "      <th></th>\n",
       "      <th>id</th>\n",
       "      <th>tube_assembly_id</th>\n",
       "      <th>supplier</th>\n",
       "      <th>quote_date</th>\n",
       "      <th>annual_usage</th>\n",
       "      <th>min_order_quantity</th>\n",
       "      <th>bracket_pricing</th>\n",
       "      <th>quantity</th>\n",
       "    </tr>\n",
       "  </thead>\n",
       "  <tbody>\n",
       "    <tr>\n",
       "      <th>0</th>\n",
       "      <td>1</td>\n",
       "      <td>TA-00001</td>\n",
       "      <td>S-0066</td>\n",
       "      <td>2013-06-23</td>\n",
       "      <td>0</td>\n",
       "      <td>0</td>\n",
       "      <td>Yes</td>\n",
       "      <td>1</td>\n",
       "    </tr>\n",
       "    <tr>\n",
       "      <th>1</th>\n",
       "      <td>2</td>\n",
       "      <td>TA-00001</td>\n",
       "      <td>S-0066</td>\n",
       "      <td>2013-06-23</td>\n",
       "      <td>0</td>\n",
       "      <td>0</td>\n",
       "      <td>Yes</td>\n",
       "      <td>2</td>\n",
       "    </tr>\n",
       "    <tr>\n",
       "      <th>2</th>\n",
       "      <td>3</td>\n",
       "      <td>TA-00001</td>\n",
       "      <td>S-0066</td>\n",
       "      <td>2013-06-23</td>\n",
       "      <td>0</td>\n",
       "      <td>0</td>\n",
       "      <td>Yes</td>\n",
       "      <td>5</td>\n",
       "    </tr>\n",
       "    <tr>\n",
       "      <th>3</th>\n",
       "      <td>4</td>\n",
       "      <td>TA-00001</td>\n",
       "      <td>S-0066</td>\n",
       "      <td>2013-06-23</td>\n",
       "      <td>0</td>\n",
       "      <td>0</td>\n",
       "      <td>Yes</td>\n",
       "      <td>10</td>\n",
       "    </tr>\n",
       "    <tr>\n",
       "      <th>4</th>\n",
       "      <td>5</td>\n",
       "      <td>TA-00001</td>\n",
       "      <td>S-0066</td>\n",
       "      <td>2013-06-23</td>\n",
       "      <td>0</td>\n",
       "      <td>0</td>\n",
       "      <td>Yes</td>\n",
       "      <td>25</td>\n",
       "    </tr>\n",
       "  </tbody>\n",
       "</table>\n",
       "</div>"
      ],
      "text/plain": [
       "   id tube_assembly_id supplier  quote_date  annual_usage  min_order_quantity  \\\n",
       "0   1         TA-00001   S-0066  2013-06-23             0                   0   \n",
       "1   2         TA-00001   S-0066  2013-06-23             0                   0   \n",
       "2   3         TA-00001   S-0066  2013-06-23             0                   0   \n",
       "3   4         TA-00001   S-0066  2013-06-23             0                   0   \n",
       "4   5         TA-00001   S-0066  2013-06-23             0                   0   \n",
       "\n",
       "  bracket_pricing  quantity  \n",
       "0             Yes         1  \n",
       "1             Yes         2  \n",
       "2             Yes         5  \n",
       "3             Yes        10  \n",
       "4             Yes        25  "
      ]
     },
     "execution_count": 5,
     "metadata": {},
     "output_type": "execute_result"
    }
   ],
   "source": [
    "test.head()"
   ]
  },
  {
   "cell_type": "code",
   "execution_count": 6,
   "metadata": {},
   "outputs": [],
   "source": [
    "# Date Time to test and train DS\n",
    "\n",
    "trainval['quote_date'] = pd.to_datetime(trainval['quote_date'], infer_datetime_format=True)\n",
    "\n",
    "test['quote_date'] = pd.to_datetime(test['quote_date'], infer_datetime_format=True)"
   ]
  },
  {
   "cell_type": "code",
   "execution_count": 7,
   "metadata": {},
   "outputs": [],
   "source": [
    "# Unique Tube assebly id to trainval and test\n",
    "trainval_tube_assemblies = trainval['tube_assembly_id'].unique()\n",
    "\n",
    "test_tube_assemblies = test['tube_assembly_id'].unique()\n"
   ]
  },
  {
   "cell_type": "code",
   "execution_count": 9,
   "metadata": {},
   "outputs": [],
   "source": [
    "# Experimenting with set\n",
    "'''x = [2,35,6,7]\n",
    "y = [2,3,4,5,5,5,5]\n",
    "z = [2,4,6,6,65]\n",
    "set(x) & set(y) & set(z)\n",
    "set(x) & set(y)''';"
   ]
  },
  {
   "cell_type": "code",
   "execution_count": 11,
   "metadata": {},
   "outputs": [
    {
     "data": {
      "text/plain": [
       "set()"
      ]
     },
     "execution_count": 11,
     "metadata": {},
     "output_type": "execute_result"
    }
   ],
   "source": [
    "# nothing in commen with tube assemblies\n",
    "set(trainval_tube_assemblies) & set(test_tube_assemblies)"
   ]
  },
  {
   "cell_type": "code",
   "execution_count": null,
   "metadata": {},
   "outputs": [],
   "source": []
  },
  {
   "cell_type": "code",
   "execution_count": 31,
   "metadata": {},
   "outputs": [
    {
     "data": {
      "text/plain": [
       "(8855, 8856)"
      ]
     },
     "execution_count": 31,
     "metadata": {},
     "output_type": "execute_result"
    }
   ],
   "source": []
  },
  {
   "cell_type": "code",
   "execution_count": 33,
   "metadata": {
    "colab": {},
    "colab_type": "code",
    "id": "vQfsTgJ3iKWM"
   },
   "outputs": [],
   "source": []
  },
  {
   "cell_type": "code",
   "execution_count": 39,
   "metadata": {},
   "outputs": [
    {
     "data": {
      "text/plain": [
       "{'TA-13024',\n",
       " 'TA-13394',\n",
       " 'TA-06494',\n",
       " 'TA-11453',\n",
       " 'TA-13111',\n",
       " 'TA-05940',\n",
       " 'TA-05865',\n",
       " 'TA-14399',\n",
       " 'TA-19533',\n",
       " 'TA-16372',\n",
       " 'TA-10984',\n",
       " 'TA-16417',\n",
       " 'TA-04615',\n",
       " 'TA-02111',\n",
       " 'TA-08458',\n",
       " 'TA-15000',\n",
       " 'TA-00528',\n",
       " 'TA-04261',\n",
       " 'TA-15524',\n",
       " 'TA-11417',\n",
       " 'TA-03219',\n",
       " 'TA-08779',\n",
       " 'TA-14537',\n",
       " 'TA-13524',\n",
       " 'TA-18947',\n",
       " 'TA-21164',\n",
       " 'TA-01231',\n",
       " 'TA-16217',\n",
       " 'TA-19454',\n",
       " 'TA-10617',\n",
       " 'TA-13157',\n",
       " 'TA-07429',\n",
       " 'TA-19559',\n",
       " 'TA-00270',\n",
       " 'TA-03682',\n",
       " 'TA-19530',\n",
       " 'TA-11165',\n",
       " 'TA-02579',\n",
       " 'TA-15714',\n",
       " 'TA-04763',\n",
       " 'TA-20314',\n",
       " 'TA-16516',\n",
       " 'TA-18417',\n",
       " 'TA-17463',\n",
       " 'TA-14046',\n",
       " 'TA-02004',\n",
       " 'TA-07932',\n",
       " 'TA-15304',\n",
       " 'TA-11428',\n",
       " 'TA-00376',\n",
       " 'TA-16816',\n",
       " 'TA-03192',\n",
       " 'TA-09924',\n",
       " 'TA-01609',\n",
       " 'TA-15076',\n",
       " 'TA-19873',\n",
       " 'TA-00655',\n",
       " 'TA-05445',\n",
       " 'TA-07670',\n",
       " 'TA-04057',\n",
       " 'TA-18666',\n",
       " 'TA-12696',\n",
       " 'TA-14373',\n",
       " 'TA-18011',\n",
       " 'TA-06321',\n",
       " 'TA-04329',\n",
       " 'TA-03186',\n",
       " 'TA-10636',\n",
       " 'TA-06231',\n",
       " 'TA-11265',\n",
       " 'TA-05329',\n",
       " 'TA-09966',\n",
       " 'TA-08048',\n",
       " 'TA-15310',\n",
       " 'TA-15332',\n",
       " 'TA-07698',\n",
       " 'TA-07743',\n",
       " 'TA-17657',\n",
       " 'TA-07996',\n",
       " 'TA-17825',\n",
       " 'TA-03973',\n",
       " 'TA-20249',\n",
       " 'TA-00548',\n",
       " 'TA-14267',\n",
       " 'TA-12742',\n",
       " 'TA-04917',\n",
       " 'TA-03772',\n",
       " 'TA-14024',\n",
       " 'TA-01227',\n",
       " 'TA-07810',\n",
       " 'TA-20783',\n",
       " 'TA-02384',\n",
       " 'TA-20072',\n",
       " 'TA-08841',\n",
       " 'TA-08784',\n",
       " 'TA-18216',\n",
       " 'TA-11464',\n",
       " 'TA-07058',\n",
       " 'TA-04639',\n",
       " 'TA-08607',\n",
       " 'TA-01334',\n",
       " 'TA-01433',\n",
       " 'TA-08336',\n",
       " 'TA-03154',\n",
       " 'TA-00252',\n",
       " 'TA-14077',\n",
       " 'TA-05245',\n",
       " 'TA-14089',\n",
       " 'TA-15164',\n",
       " 'TA-17107',\n",
       " 'TA-19551',\n",
       " 'TA-20977',\n",
       " 'TA-00719',\n",
       " 'TA-05684',\n",
       " 'TA-17927',\n",
       " 'TA-08134',\n",
       " 'TA-15646',\n",
       " 'TA-00058',\n",
       " 'TA-15468',\n",
       " 'TA-19688',\n",
       " 'TA-19042',\n",
       " 'TA-02817',\n",
       " 'TA-00047',\n",
       " 'TA-18471',\n",
       " 'TA-08520',\n",
       " 'TA-08024',\n",
       " 'TA-11035',\n",
       " 'TA-13115',\n",
       " 'TA-08369',\n",
       " 'TA-07083',\n",
       " 'TA-01932',\n",
       " 'TA-10013',\n",
       " 'TA-01537',\n",
       " 'TA-10276',\n",
       " 'TA-15091',\n",
       " 'TA-09885',\n",
       " 'TA-12739',\n",
       " 'TA-01665',\n",
       " 'TA-07114',\n",
       " 'TA-16181',\n",
       " 'TA-19700',\n",
       " 'TA-02553',\n",
       " 'TA-09473',\n",
       " 'TA-20546',\n",
       " 'TA-20855',\n",
       " 'TA-05286',\n",
       " 'TA-07056',\n",
       " 'TA-19236',\n",
       " 'TA-01241',\n",
       " 'TA-05638',\n",
       " 'TA-06726',\n",
       " 'TA-06744',\n",
       " 'TA-15222',\n",
       " 'TA-02895',\n",
       " 'TA-07363',\n",
       " 'TA-12599',\n",
       " 'TA-07160',\n",
       " 'TA-05657',\n",
       " 'TA-01641',\n",
       " 'TA-10432',\n",
       " 'TA-05358',\n",
       " 'TA-05123',\n",
       " 'TA-08811',\n",
       " 'TA-20095',\n",
       " 'TA-00164',\n",
       " 'TA-15007',\n",
       " 'TA-21110',\n",
       " 'TA-03785',\n",
       " 'TA-01031',\n",
       " 'TA-07179',\n",
       " 'TA-00215',\n",
       " 'TA-20357',\n",
       " 'TA-19302',\n",
       " 'TA-20272',\n",
       " 'TA-07875',\n",
       " 'TA-05745',\n",
       " 'TA-14917',\n",
       " 'TA-08176',\n",
       " 'TA-19722',\n",
       " 'TA-01170',\n",
       " 'TA-09532',\n",
       " 'TA-18742',\n",
       " 'TA-20071',\n",
       " 'TA-06416',\n",
       " 'TA-13004',\n",
       " 'TA-20443',\n",
       " 'TA-00471',\n",
       " 'TA-14724',\n",
       " 'TA-20694',\n",
       " 'TA-00199',\n",
       " 'TA-14181',\n",
       " 'TA-14530',\n",
       " 'TA-11068',\n",
       " 'TA-08733',\n",
       " 'TA-08464',\n",
       " 'TA-12395',\n",
       " 'TA-13523',\n",
       " 'TA-02300',\n",
       " 'TA-10954',\n",
       " 'TA-05894',\n",
       " 'TA-17232',\n",
       " 'TA-04366',\n",
       " 'TA-19633',\n",
       " 'TA-18496',\n",
       " 'TA-19920',\n",
       " 'TA-07690',\n",
       " 'TA-13309',\n",
       " 'TA-10897',\n",
       " 'TA-15366',\n",
       " 'TA-19547',\n",
       " 'TA-19737',\n",
       " 'TA-15629',\n",
       " 'TA-07801',\n",
       " 'TA-14838',\n",
       " 'TA-19284',\n",
       " 'TA-12940',\n",
       " 'TA-09007',\n",
       " 'TA-03379',\n",
       " 'TA-13234',\n",
       " 'TA-02137',\n",
       " 'TA-11860',\n",
       " 'TA-12009',\n",
       " 'TA-15631',\n",
       " 'TA-03457',\n",
       " 'TA-16768',\n",
       " 'TA-11796',\n",
       " 'TA-20068',\n",
       " 'TA-02606',\n",
       " 'TA-09101',\n",
       " 'TA-20136',\n",
       " 'TA-01462',\n",
       " 'TA-13189',\n",
       " 'TA-02070',\n",
       " 'TA-07292',\n",
       " 'TA-18932',\n",
       " 'TA-07433',\n",
       " 'TA-02354',\n",
       " 'TA-13923',\n",
       " 'TA-16307',\n",
       " 'TA-15604',\n",
       " 'TA-05909',\n",
       " 'TA-19966',\n",
       " 'TA-00213',\n",
       " 'TA-02836',\n",
       " 'TA-19055',\n",
       " 'TA-02086',\n",
       " 'TA-16583',\n",
       " 'TA-05062',\n",
       " 'TA-10767',\n",
       " 'TA-09303',\n",
       " 'TA-06308',\n",
       " 'TA-14160',\n",
       " 'TA-12145',\n",
       " 'TA-02864',\n",
       " 'TA-16052',\n",
       " 'TA-20023',\n",
       " 'TA-11397',\n",
       " 'TA-09981',\n",
       " 'TA-06558',\n",
       " 'TA-00417',\n",
       " 'TA-14487',\n",
       " 'TA-03005',\n",
       " 'TA-18141',\n",
       " 'TA-00082',\n",
       " 'TA-09566',\n",
       " 'TA-18783',\n",
       " 'TA-06309',\n",
       " 'TA-14236',\n",
       " 'TA-12457',\n",
       " 'TA-10537',\n",
       " 'TA-00888',\n",
       " 'TA-09867',\n",
       " 'TA-02570',\n",
       " 'TA-10820',\n",
       " 'TA-09056',\n",
       " 'TA-10081',\n",
       " 'TA-13182',\n",
       " 'TA-06658',\n",
       " 'TA-05659',\n",
       " 'TA-03700',\n",
       " 'TA-07234',\n",
       " 'TA-00280',\n",
       " 'TA-18481',\n",
       " 'TA-10219',\n",
       " 'TA-00540',\n",
       " 'TA-08104',\n",
       " 'TA-17411',\n",
       " 'TA-01087',\n",
       " 'TA-10906',\n",
       " 'TA-00717',\n",
       " 'TA-09840',\n",
       " 'TA-10318',\n",
       " 'TA-17263',\n",
       " 'TA-11783',\n",
       " 'TA-20436',\n",
       " 'TA-05528',\n",
       " 'TA-01090',\n",
       " 'TA-13456',\n",
       " 'TA-00695',\n",
       " 'TA-06425',\n",
       " 'TA-05947',\n",
       " 'TA-04899',\n",
       " 'TA-01940',\n",
       " 'TA-14763',\n",
       " 'TA-05968',\n",
       " 'TA-20480',\n",
       " 'TA-00518',\n",
       " 'TA-09510',\n",
       " 'TA-07409',\n",
       " 'TA-09024',\n",
       " 'TA-19020',\n",
       " 'TA-19404',\n",
       " 'TA-10776',\n",
       " 'TA-04357',\n",
       " 'TA-15440',\n",
       " 'TA-01818',\n",
       " 'TA-19133',\n",
       " 'TA-05663',\n",
       " 'TA-00309',\n",
       " 'TA-08281',\n",
       " 'TA-19921',\n",
       " 'TA-09803',\n",
       " 'TA-04787',\n",
       " 'TA-06725',\n",
       " 'TA-19711',\n",
       " 'TA-07548',\n",
       " 'TA-04229',\n",
       " 'TA-11610',\n",
       " 'TA-09197',\n",
       " 'TA-10850',\n",
       " 'TA-18269',\n",
       " 'TA-18853',\n",
       " 'TA-00852',\n",
       " 'TA-15523',\n",
       " 'TA-04303',\n",
       " 'TA-11964',\n",
       " 'TA-11067',\n",
       " 'TA-05261',\n",
       " 'TA-00354',\n",
       " 'TA-10945',\n",
       " 'TA-12641',\n",
       " 'TA-02670',\n",
       " 'TA-11264',\n",
       " 'TA-10924',\n",
       " 'TA-06586',\n",
       " 'TA-19912',\n",
       " 'TA-19865',\n",
       " 'TA-04152',\n",
       " 'TA-20215',\n",
       " 'TA-00046',\n",
       " 'TA-01748',\n",
       " 'TA-20597',\n",
       " 'TA-02198',\n",
       " 'TA-20482',\n",
       " 'TA-16756',\n",
       " 'TA-07689',\n",
       " 'TA-18562',\n",
       " 'TA-00436',\n",
       " 'TA-20029',\n",
       " 'TA-03083',\n",
       " 'TA-00145',\n",
       " 'TA-20940',\n",
       " 'TA-06035',\n",
       " 'TA-05584',\n",
       " 'TA-16918',\n",
       " 'TA-10618',\n",
       " 'TA-10558',\n",
       " 'TA-11366',\n",
       " 'TA-12314',\n",
       " 'TA-04701',\n",
       " 'TA-01286',\n",
       " 'TA-12514',\n",
       " 'TA-13914',\n",
       " 'TA-17055',\n",
       " 'TA-17160',\n",
       " 'TA-17394',\n",
       " 'TA-19892',\n",
       " 'TA-17698',\n",
       " 'TA-18245',\n",
       " 'TA-14551',\n",
       " 'TA-19054',\n",
       " 'TA-17326',\n",
       " 'TA-14159',\n",
       " 'TA-11257',\n",
       " 'TA-14796',\n",
       " 'TA-06044',\n",
       " 'TA-09302',\n",
       " 'TA-11194',\n",
       " 'TA-06472',\n",
       " 'TA-20571',\n",
       " 'TA-11172',\n",
       " 'TA-06711',\n",
       " 'TA-18388',\n",
       " 'TA-19975',\n",
       " 'TA-10988',\n",
       " 'TA-14377',\n",
       " 'TA-12068',\n",
       " 'TA-17173',\n",
       " 'TA-14148',\n",
       " 'TA-03340',\n",
       " 'TA-11003',\n",
       " 'TA-01680',\n",
       " 'TA-00013',\n",
       " 'TA-19488',\n",
       " 'TA-16410',\n",
       " 'TA-11719',\n",
       " 'TA-16055',\n",
       " 'TA-04269',\n",
       " 'TA-10544',\n",
       " 'TA-11450',\n",
       " 'TA-10965',\n",
       " 'TA-12093',\n",
       " 'TA-01956',\n",
       " 'TA-12138',\n",
       " 'TA-14459',\n",
       " 'TA-04758',\n",
       " 'TA-08938',\n",
       " 'TA-02429',\n",
       " 'TA-12077',\n",
       " 'TA-10205',\n",
       " 'TA-03443',\n",
       " 'TA-11117',\n",
       " 'TA-04299',\n",
       " 'TA-07630',\n",
       " 'TA-16973',\n",
       " 'TA-08468',\n",
       " 'TA-09240',\n",
       " 'TA-00988',\n",
       " 'TA-15529',\n",
       " 'TA-15860',\n",
       " 'TA-10360',\n",
       " 'TA-04707',\n",
       " 'TA-14162',\n",
       " 'TA-05843',\n",
       " 'TA-05439',\n",
       " 'TA-16028',\n",
       " 'TA-03935',\n",
       " 'TA-20151',\n",
       " 'TA-17043',\n",
       " 'TA-15299',\n",
       " 'TA-05307',\n",
       " 'TA-05540',\n",
       " 'TA-14123',\n",
       " 'TA-05352',\n",
       " 'TA-19821',\n",
       " 'TA-14329',\n",
       " 'TA-00697',\n",
       " 'TA-07369',\n",
       " 'TA-20085',\n",
       " 'TA-18236',\n",
       " 'TA-04790',\n",
       " 'TA-12002',\n",
       " 'TA-15154',\n",
       " 'TA-04958',\n",
       " 'TA-02340',\n",
       " 'TA-00729',\n",
       " 'TA-09682',\n",
       " 'TA-19917',\n",
       " 'TA-04898',\n",
       " 'TA-14094',\n",
       " 'TA-01957',\n",
       " 'TA-11443',\n",
       " 'TA-08910',\n",
       " 'TA-17300',\n",
       " 'TA-02751',\n",
       " 'TA-18306',\n",
       " 'TA-14738',\n",
       " 'TA-12160',\n",
       " 'TA-15150',\n",
       " 'TA-00651',\n",
       " 'TA-02757',\n",
       " 'TA-04265',\n",
       " 'TA-18590',\n",
       " 'TA-20954',\n",
       " 'TA-20684',\n",
       " 'TA-03869',\n",
       " 'TA-05679',\n",
       " 'TA-04533',\n",
       " 'TA-02529',\n",
       " 'TA-08983',\n",
       " 'TA-10569',\n",
       " 'TA-19066',\n",
       " 'TA-19692',\n",
       " 'TA-18071',\n",
       " 'TA-02641',\n",
       " 'TA-15165',\n",
       " 'TA-07382',\n",
       " 'TA-07579',\n",
       " 'TA-15643',\n",
       " 'TA-04704',\n",
       " 'TA-05937',\n",
       " 'TA-04939',\n",
       " 'TA-20627',\n",
       " 'TA-10029',\n",
       " 'TA-16860',\n",
       " 'TA-02476',\n",
       " 'TA-20030',\n",
       " 'TA-17812',\n",
       " 'TA-19190',\n",
       " 'TA-20893',\n",
       " 'TA-15365',\n",
       " 'TA-14904',\n",
       " 'TA-03943',\n",
       " 'TA-04777',\n",
       " 'TA-19574',\n",
       " 'TA-16636',\n",
       " 'TA-02007',\n",
       " 'TA-02907',\n",
       " 'TA-02042',\n",
       " 'TA-17855',\n",
       " 'TA-05912',\n",
       " 'TA-16121',\n",
       " 'TA-07910',\n",
       " 'TA-02805',\n",
       " 'TA-02635',\n",
       " 'TA-08333',\n",
       " 'TA-00077',\n",
       " 'TA-09343',\n",
       " 'TA-17015',\n",
       " 'TA-12710',\n",
       " 'TA-08103',\n",
       " 'TA-08456',\n",
       " 'TA-15094',\n",
       " 'TA-09405',\n",
       " 'TA-01118',\n",
       " 'TA-17219',\n",
       " 'TA-15048',\n",
       " 'TA-15556',\n",
       " 'TA-13322',\n",
       " 'TA-11777',\n",
       " 'TA-12450',\n",
       " 'TA-01054',\n",
       " 'TA-20568',\n",
       " 'TA-11704',\n",
       " 'TA-09441',\n",
       " 'TA-03561',\n",
       " 'TA-06885',\n",
       " 'TA-18397',\n",
       " 'TA-01146',\n",
       " 'TA-00121',\n",
       " 'TA-20812',\n",
       " 'TA-09342',\n",
       " 'TA-09386',\n",
       " 'TA-09798',\n",
       " 'TA-13540',\n",
       " 'TA-09320',\n",
       " 'TA-07430',\n",
       " 'TA-11662',\n",
       " 'TA-08462',\n",
       " 'TA-19829',\n",
       " 'TA-20134',\n",
       " 'TA-18308',\n",
       " 'TA-09686',\n",
       " 'TA-12471',\n",
       " 'TA-16718',\n",
       " 'TA-07452',\n",
       " 'TA-09854',\n",
       " 'TA-12708',\n",
       " 'TA-01333',\n",
       " 'TA-07750',\n",
       " 'TA-09819',\n",
       " 'TA-09448',\n",
       " 'TA-16443',\n",
       " 'TA-17824',\n",
       " 'TA-05178',\n",
       " 'TA-19124',\n",
       " 'TA-02559',\n",
       " 'TA-16742',\n",
       " 'TA-14198',\n",
       " 'TA-17408',\n",
       " 'TA-14107',\n",
       " 'TA-20899',\n",
       " 'TA-02785',\n",
       " 'TA-03848',\n",
       " 'TA-02688',\n",
       " 'TA-16476',\n",
       " 'TA-11768',\n",
       " 'TA-06227',\n",
       " 'TA-14320',\n",
       " 'TA-17654',\n",
       " 'TA-14543',\n",
       " 'TA-19178',\n",
       " 'TA-02653',\n",
       " 'TA-16759',\n",
       " 'TA-14696',\n",
       " 'TA-07071',\n",
       " 'TA-15016',\n",
       " 'TA-08080',\n",
       " 'TA-18581',\n",
       " 'TA-19255',\n",
       " 'TA-11179',\n",
       " 'TA-01401',\n",
       " 'TA-09802',\n",
       " 'TA-11069',\n",
       " 'TA-03188',\n",
       " 'TA-01163',\n",
       " 'TA-19229',\n",
       " 'TA-00293',\n",
       " 'TA-19604',\n",
       " 'TA-02569',\n",
       " 'TA-06666',\n",
       " 'TA-11846',\n",
       " 'TA-04264',\n",
       " 'TA-16808',\n",
       " 'TA-20710',\n",
       " 'TA-19365',\n",
       " 'TA-02193',\n",
       " 'TA-06065',\n",
       " 'TA-07454',\n",
       " 'TA-17667',\n",
       " 'TA-07168',\n",
       " 'TA-10143',\n",
       " 'TA-09688',\n",
       " 'TA-17427',\n",
       " 'TA-03779',\n",
       " 'TA-17806',\n",
       " 'TA-18727',\n",
       " 'TA-19597',\n",
       " 'TA-04098',\n",
       " 'TA-03718',\n",
       " 'TA-13784',\n",
       " 'TA-20214',\n",
       " 'TA-05582',\n",
       " 'TA-08625',\n",
       " 'TA-20290',\n",
       " 'TA-06339',\n",
       " 'TA-11670',\n",
       " 'TA-00764',\n",
       " 'TA-02432',\n",
       " 'TA-11630',\n",
       " 'TA-06061',\n",
       " 'TA-11480',\n",
       " 'TA-11001',\n",
       " 'TA-11876',\n",
       " 'TA-01582',\n",
       " 'TA-15584',\n",
       " 'TA-07075',\n",
       " 'TA-06680',\n",
       " 'TA-01821',\n",
       " 'TA-11065',\n",
       " 'TA-14456',\n",
       " 'TA-00688',\n",
       " 'TA-06853',\n",
       " 'TA-18882',\n",
       " 'TA-06025',\n",
       " 'TA-13689',\n",
       " 'TA-04666',\n",
       " 'TA-02558',\n",
       " 'TA-05695',\n",
       " 'TA-08193',\n",
       " 'TA-10361',\n",
       " 'TA-13429',\n",
       " 'TA-16129',\n",
       " 'TA-07550',\n",
       " 'TA-16320',\n",
       " 'TA-16647',\n",
       " 'TA-17336',\n",
       " 'TA-15414',\n",
       " 'TA-09103',\n",
       " 'TA-06691',\n",
       " 'TA-08624',\n",
       " 'TA-10386',\n",
       " 'TA-08888',\n",
       " 'TA-15764',\n",
       " 'TA-20876',\n",
       " 'TA-12186',\n",
       " 'TA-06964',\n",
       " 'TA-16537',\n",
       " 'TA-08734',\n",
       " 'TA-08294',\n",
       " 'TA-08500',\n",
       " 'TA-02519',\n",
       " 'TA-05651',\n",
       " 'TA-12929',\n",
       " 'TA-04696',\n",
       " 'TA-09497',\n",
       " 'TA-10147',\n",
       " 'TA-00497',\n",
       " 'TA-10680',\n",
       " 'TA-05930',\n",
       " 'TA-19109',\n",
       " 'TA-03105',\n",
       " 'TA-17296',\n",
       " 'TA-05558',\n",
       " 'TA-06855',\n",
       " 'TA-00218',\n",
       " 'TA-06795',\n",
       " 'TA-17583',\n",
       " 'TA-03572',\n",
       " 'TA-08385',\n",
       " 'TA-11329',\n",
       " 'TA-15599',\n",
       " 'TA-11516',\n",
       " 'TA-11829',\n",
       " 'TA-13815',\n",
       " 'TA-09678',\n",
       " 'TA-16180',\n",
       " 'TA-09496',\n",
       " 'TA-00207',\n",
       " 'TA-10188',\n",
       " 'TA-05587',\n",
       " 'TA-05521',\n",
       " 'TA-14184',\n",
       " 'TA-08137',\n",
       " 'TA-01199',\n",
       " 'TA-20750',\n",
       " 'TA-00403',\n",
       " 'TA-05227',\n",
       " 'TA-07261',\n",
       " 'TA-01152',\n",
       " 'TA-03221',\n",
       " 'TA-19855',\n",
       " 'TA-00590',\n",
       " 'TA-04127',\n",
       " 'TA-00332',\n",
       " 'TA-10916',\n",
       " 'TA-02469',\n",
       " 'TA-01068',\n",
       " 'TA-10744',\n",
       " 'TA-03985',\n",
       " 'TA-02233',\n",
       " 'TA-15615',\n",
       " 'TA-08088',\n",
       " 'TA-15763',\n",
       " 'TA-18937',\n",
       " 'TA-03137',\n",
       " 'TA-16601',\n",
       " 'TA-15054',\n",
       " 'TA-11826',\n",
       " 'TA-14103',\n",
       " 'TA-02146',\n",
       " 'TA-06126',\n",
       " 'TA-04927',\n",
       " 'TA-00926',\n",
       " 'TA-12139',\n",
       " 'TA-15026',\n",
       " 'TA-11857',\n",
       " 'TA-08324',\n",
       " 'TA-04694',\n",
       " 'TA-20926',\n",
       " 'TA-06932',\n",
       " 'TA-01594',\n",
       " 'TA-06365',\n",
       " 'TA-02376',\n",
       " 'TA-08059',\n",
       " 'TA-20319',\n",
       " 'TA-18399',\n",
       " 'TA-08745',\n",
       " 'TA-16376',\n",
       " 'TA-07345',\n",
       " 'TA-07879',\n",
       " 'TA-01738',\n",
       " 'TA-16950',\n",
       " 'TA-01425',\n",
       " 'TA-13459',\n",
       " 'TA-01972',\n",
       " 'TA-03889',\n",
       " 'TA-10304',\n",
       " 'TA-12577',\n",
       " 'TA-10786',\n",
       " 'TA-00025',\n",
       " 'TA-18648',\n",
       " 'TA-19093',\n",
       " 'TA-07673',\n",
       " 'TA-04212',\n",
       " 'TA-07368',\n",
       " 'TA-19977',\n",
       " 'TA-17488',\n",
       " 'TA-17683',\n",
       " 'TA-08697',\n",
       " 'TA-09259',\n",
       " 'TA-16834',\n",
       " 'TA-02588',\n",
       " 'TA-18567',\n",
       " 'TA-06457',\n",
       " 'TA-02563',\n",
       " 'TA-14052',\n",
       " 'TA-08038',\n",
       " 'TA-03207',\n",
       " 'TA-01278',\n",
       " 'TA-21074',\n",
       " 'TA-00331',\n",
       " 'TA-18416',\n",
       " 'TA-15077',\n",
       " 'TA-14110',\n",
       " 'TA-04202',\n",
       " 'TA-18955',\n",
       " 'TA-08142',\n",
       " 'TA-07473',\n",
       " 'TA-10868',\n",
       " 'TA-07466',\n",
       " 'TA-04480',\n",
       " 'TA-10656',\n",
       " 'TA-17526',\n",
       " 'TA-13765',\n",
       " 'TA-04033',\n",
       " 'TA-17349',\n",
       " 'TA-18408',\n",
       " 'TA-10652',\n",
       " 'TA-04239',\n",
       " 'TA-13828',\n",
       " 'TA-18906',\n",
       " 'TA-00165',\n",
       " 'TA-02829',\n",
       " 'TA-19226',\n",
       " 'TA-09917',\n",
       " 'TA-15343',\n",
       " 'TA-08953',\n",
       " 'TA-05400',\n",
       " 'TA-17888',\n",
       " 'TA-09453',\n",
       " 'TA-08623',\n",
       " 'TA-19165',\n",
       " 'TA-12643',\n",
       " 'TA-13231',\n",
       " 'TA-08539',\n",
       " 'TA-07990',\n",
       " 'TA-00832',\n",
       " 'TA-21098',\n",
       " 'TA-18565',\n",
       " 'TA-01914',\n",
       " 'TA-00304',\n",
       " 'TA-19923',\n",
       " 'TA-00859',\n",
       " 'TA-01784',\n",
       " 'TA-00746',\n",
       " 'TA-11568',\n",
       " 'TA-06907',\n",
       " 'TA-02116',\n",
       " 'TA-11868',\n",
       " 'TA-15253',\n",
       " 'TA-11888',\n",
       " 'TA-17360',\n",
       " 'TA-18048',\n",
       " 'TA-03549',\n",
       " 'TA-11114',\n",
       " 'TA-04506',\n",
       " 'TA-18227',\n",
       " 'TA-16120',\n",
       " 'TA-05190',\n",
       " 'TA-07507',\n",
       " 'TA-08940',\n",
       " 'TA-11119',\n",
       " 'TA-12995',\n",
       " 'TA-09737',\n",
       " 'TA-20422',\n",
       " 'TA-06141',\n",
       " 'TA-11880',\n",
       " 'TA-06443',\n",
       " 'TA-09778',\n",
       " 'TA-16297',\n",
       " 'TA-15331',\n",
       " 'TA-11449',\n",
       " 'TA-12193',\n",
       " 'TA-16074',\n",
       " 'TA-13128',\n",
       " 'TA-14590',\n",
       " 'TA-07289',\n",
       " 'TA-11559',\n",
       " 'TA-13537',\n",
       " 'TA-12925',\n",
       " 'TA-08019',\n",
       " 'TA-13635',\n",
       " 'TA-14578',\n",
       " 'TA-03311',\n",
       " 'TA-17235',\n",
       " 'TA-18698',\n",
       " 'TA-02136',\n",
       " 'TA-02870',\n",
       " 'TA-02310',\n",
       " 'TA-08071',\n",
       " 'TA-04337',\n",
       " 'TA-04826',\n",
       " 'TA-13495',\n",
       " 'TA-12191',\n",
       " 'TA-03892',\n",
       " 'TA-14605',\n",
       " 'TA-05809',\n",
       " 'TA-15891',\n",
       " 'TA-14090',\n",
       " 'TA-01530',\n",
       " 'TA-16246',\n",
       " 'TA-02068',\n",
       " 'TA-10075',\n",
       " 'TA-17062',\n",
       " 'TA-12154',\n",
       " 'TA-10505',\n",
       " 'TA-10817',\n",
       " 'TA-04187',\n",
       " 'TA-19905',\n",
       " 'TA-16484',\n",
       " 'TA-03592',\n",
       " 'TA-07480',\n",
       " 'TA-02322',\n",
       " 'TA-04812',\n",
       " 'TA-02972',\n",
       " 'TA-03386',\n",
       " 'TA-07946',\n",
       " 'TA-12243',\n",
       " 'TA-14924',\n",
       " 'TA-01761',\n",
       " 'TA-07957',\n",
       " 'TA-01010',\n",
       " 'TA-05573',\n",
       " 'TA-13946',\n",
       " 'TA-19032',\n",
       " 'TA-06356',\n",
       " 'TA-04435',\n",
       " 'TA-01268',\n",
       " 'TA-06169',\n",
       " 'TA-17831',\n",
       " 'TA-06290',\n",
       " 'TA-14500',\n",
       " 'TA-11451',\n",
       " 'TA-02279',\n",
       " 'TA-06106',\n",
       " 'TA-05499',\n",
       " 'TA-07285',\n",
       " 'TA-09694',\n",
       " 'TA-17267',\n",
       " 'TA-04792',\n",
       " 'TA-00349',\n",
       " 'TA-21086',\n",
       " 'TA-04587',\n",
       " 'TA-01650',\n",
       " 'TA-13548',\n",
       " 'TA-19515',\n",
       " 'TA-05960',\n",
       " 'TA-16103',\n",
       " 'TA-19703',\n",
       " 'TA-20690',\n",
       " 'TA-04727',\n",
       " 'TA-01655',\n",
       " 'TA-17552',\n",
       " 'TA-10956',\n",
       " 'TA-15710',\n",
       " 'TA-10291',\n",
       " 'TA-10469',\n",
       " 'TA-14154',\n",
       " 'TA-04608',\n",
       " 'TA-04979',\n",
       " 'TA-10365',\n",
       " 'TA-13964',\n",
       " 'TA-07832',\n",
       " 'TA-19653',\n",
       " 'TA-17409',\n",
       " 'TA-13750',\n",
       " 'TA-09965',\n",
       " 'TA-19830',\n",
       " 'TA-14575',\n",
       " 'TA-15281',\n",
       " 'TA-13604',\n",
       " 'TA-04260',\n",
       " 'TA-05124',\n",
       " 'TA-12045',\n",
       " 'TA-20677',\n",
       " 'TA-18524',\n",
       " 'TA-14730',\n",
       " 'TA-10117',\n",
       " 'TA-07221',\n",
       " 'TA-16668',\n",
       " 'TA-09301',\n",
       " 'TA-11258',\n",
       " 'TA-19100',\n",
       " 'TA-09797',\n",
       " 'TA-01042',\n",
       " 'TA-12510',\n",
       " 'TA-13108',\n",
       " 'TA-01674',\n",
       " 'TA-14589',\n",
       " 'TA-15645',\n",
       " 'TA-13069',\n",
       " 'TA-14895',\n",
       " 'TA-13557',\n",
       " 'TA-12652',\n",
       " 'TA-18610',\n",
       " 'TA-11321',\n",
       " 'TA-08946',\n",
       " 'TA-10991',\n",
       " 'TA-02782',\n",
       " 'TA-15511',\n",
       " 'TA-17954',\n",
       " 'TA-11162',\n",
       " 'TA-12065',\n",
       " 'TA-14653',\n",
       " 'TA-20833',\n",
       " 'TA-11379',\n",
       " 'TA-18326',\n",
       " 'TA-05668',\n",
       " 'TA-00678',\n",
       " 'TA-10419',\n",
       " 'TA-03653',\n",
       " 'TA-18335',\n",
       " 'TA-10955',\n",
       " 'TA-01062',\n",
       " 'TA-18654',\n",
       " 'TA-06325',\n",
       " 'TA-18336',\n",
       " 'TA-12352',\n",
       " 'TA-18812',\n",
       " ...}"
      ]
     },
     "execution_count": 39,
     "metadata": {},
     "output_type": "execute_result"
    }
   ],
   "source": []
  },
  {
   "cell_type": "code",
   "execution_count": null,
   "metadata": {},
   "outputs": [],
   "source": []
  },
  {
   "cell_type": "markdown",
   "metadata": {
    "colab_type": "text",
    "id": "bqMthlakHL6m"
   },
   "source": [
    "#### Make the validation set like the test set"
   ]
  },
  {
   "cell_type": "code",
   "execution_count": 32,
   "metadata": {
    "colab": {
     "base_uri": "https://localhost:8080/",
     "height": 51
    },
    "colab_type": "code",
    "id": "BJaJDpRUanlm",
    "outputId": "b34d9f31-8af2-4313-e36a-ccbae1d366b7"
   },
   "outputs": [
    {
     "data": {
      "text/plain": [
       "array(['TA-00002', 'TA-00004', 'TA-00005', ..., 'TA-21195', 'TA-21196',\n",
       "       'TA-21197'], dtype=object)"
      ]
     },
     "execution_count": 32,
     "metadata": {},
     "output_type": "execute_result"
    }
   ],
   "source": [
    "trainval_tube_assemblies"
   ]
  },
  {
   "cell_type": "code",
   "execution_count": 26,
   "metadata": {
    "colab": {},
    "colab_type": "code",
    "id": "y-AokDYpj_JF"
   },
   "outputs": [
    {
     "ename": "NameError",
     "evalue": "name 'trainval_tube_assemblies' is not defined",
     "output_type": "error",
     "traceback": [
      "\u001b[0;31m---------------------------------------------------------------------------\u001b[0m",
      "\u001b[0;31mNameError\u001b[0m                                 Traceback (most recent call last)",
      "\u001b[0;32m<ipython-input-26-3ee63a3500e7>\u001b[0m in \u001b[0;36m<module>\u001b[0;34m\u001b[0m\n\u001b[1;32m      1\u001b[0m \u001b[0;34m\u001b[0m\u001b[0m\n\u001b[1;32m      2\u001b[0m train_tube_assemblies, val_tube_assemblies = train_test_split(\n\u001b[0;32m----> 3\u001b[0;31m     \u001b[0mtrainval_tube_assemblies\u001b[0m\u001b[0;34m,\u001b[0m \u001b[0mrandom_state\u001b[0m\u001b[0;34m=\u001b[0m\u001b[0;36m42\u001b[0m\u001b[0;34m\u001b[0m\u001b[0;34m\u001b[0m\u001b[0m\n\u001b[0m\u001b[1;32m      4\u001b[0m )\n",
      "\u001b[0;31mNameError\u001b[0m: name 'trainval_tube_assemblies' is not defined"
     ]
    }
   ],
   "source": [
    "\n",
    "train_tube_assemblies, val_tube_assemblies = train_test_split(\n",
    "    trainval_tube_assemblies, random_state=42\n",
    ")"
   ]
  },
  {
   "cell_type": "code",
   "execution_count": 0,
   "metadata": {
    "colab": {
     "base_uri": "https://localhost:8080/",
     "height": 34
    },
    "colab_type": "code",
    "id": "gFQQdkm9kTGh",
    "outputId": "17b7dfcc-2a4b-4244-a25e-68cbdff081ae"
   },
   "outputs": [
    {
     "data": {
      "text/plain": [
       "(6641, 2214)"
      ]
     },
     "execution_count": 26,
     "metadata": {
      "tags": []
     },
     "output_type": "execute_result"
    }
   ],
   "source": [
    "len(train_tube_assemblies), len(val_tube_assemblies)"
   ]
  },
  {
   "cell_type": "code",
   "execution_count": 0,
   "metadata": {
    "colab": {
     "base_uri": "https://localhost:8080/",
     "height": 34
    },
    "colab_type": "code",
    "id": "0aHiekH0kZsF",
    "outputId": "b818cd56-07f7-4dbe-90f5-175c134d17bf"
   },
   "outputs": [
    {
     "data": {
      "text/plain": [
       "set()"
      ]
     },
     "execution_count": 27,
     "metadata": {
      "tags": []
     },
     "output_type": "execute_result"
    }
   ],
   "source": [
    "set(train_tube_assemblies) & set(val_tube_assemblies)"
   ]
  },
  {
   "cell_type": "code",
   "execution_count": 0,
   "metadata": {
    "colab": {
     "base_uri": "https://localhost:8080/",
     "height": 34
    },
    "colab_type": "code",
    "id": "ZH3C3_qLkiTC",
    "outputId": "59337a74-3053-4152-8ffe-f5db310593ba"
   },
   "outputs": [
    {
     "data": {
      "text/plain": [
       "((22628, 8), (7585, 8), (30213, 8))"
      ]
     },
     "execution_count": 32,
     "metadata": {
      "tags": []
     },
     "output_type": "execute_result"
    }
   ],
   "source": [
    "train = trainval[trainval.tube_assembly_id.isin(train_tube_assemblies)]\n",
    "val = trainval[trainval.tube_assembly_id.isin(val_tube_assemblies)]\n",
    "train.shape, val.shape, trainval.shape"
   ]
  },
  {
   "cell_type": "code",
   "execution_count": 0,
   "metadata": {
    "colab": {
     "base_uri": "https://localhost:8080/",
     "height": 34
    },
    "colab_type": "code",
    "id": "rPgvKe5PlBm3",
    "outputId": "691004bf-c4ba-4d5a-a9b8-6bbb60089ed4"
   },
   "outputs": [
    {
     "data": {
      "text/plain": [
       "True"
      ]
     },
     "execution_count": 33,
     "metadata": {
      "tags": []
     },
     "output_type": "execute_result"
    }
   ],
   "source": [
    "len(train) + len(val) == len(trainval)"
   ]
  },
  {
   "cell_type": "markdown",
   "metadata": {
    "colab_type": "text",
    "id": "VfAbLiPMHL6o"
   },
   "source": [
    "## Begin with baselines for regression"
   ]
  },
  {
   "cell_type": "code",
   "execution_count": 0,
   "metadata": {
    "colab": {
     "base_uri": "https://localhost:8080/",
     "height": 297
    },
    "colab_type": "code",
    "id": "EkVT9grDHL6p",
    "outputId": "9e79aabb-096f-4494-ee07-9da5f95f53e9"
   },
   "outputs": [
    {
     "data": {
      "text/html": [
       "<div>\n",
       "<style scoped>\n",
       "    .dataframe tbody tr th:only-of-type {\n",
       "        vertical-align: middle;\n",
       "    }\n",
       "\n",
       "    .dataframe tbody tr th {\n",
       "        vertical-align: top;\n",
       "    }\n",
       "\n",
       "    .dataframe thead th {\n",
       "        text-align: right;\n",
       "    }\n",
       "</style>\n",
       "<table border=\"1\" class=\"dataframe\">\n",
       "  <thead>\n",
       "    <tr style=\"text-align: right;\">\n",
       "      <th></th>\n",
       "      <th>annual_usage</th>\n",
       "      <th>min_order_quantity</th>\n",
       "      <th>quantity</th>\n",
       "      <th>cost</th>\n",
       "    </tr>\n",
       "  </thead>\n",
       "  <tbody>\n",
       "    <tr>\n",
       "      <th>count</th>\n",
       "      <td>22628.000000</td>\n",
       "      <td>22628.000000</td>\n",
       "      <td>22628.000000</td>\n",
       "      <td>22628.000000</td>\n",
       "    </tr>\n",
       "    <tr>\n",
       "      <th>mean</th>\n",
       "      <td>116.908830</td>\n",
       "      <td>2.130193</td>\n",
       "      <td>38.267677</td>\n",
       "      <td>13.450500</td>\n",
       "    </tr>\n",
       "    <tr>\n",
       "      <th>std</th>\n",
       "      <td>1678.532065</td>\n",
       "      <td>13.262875</td>\n",
       "      <td>71.313125</td>\n",
       "      <td>27.622252</td>\n",
       "    </tr>\n",
       "    <tr>\n",
       "      <th>min</th>\n",
       "      <td>0.000000</td>\n",
       "      <td>0.000000</td>\n",
       "      <td>1.000000</td>\n",
       "      <td>0.523027</td>\n",
       "    </tr>\n",
       "    <tr>\n",
       "      <th>25%</th>\n",
       "      <td>0.000000</td>\n",
       "      <td>0.000000</td>\n",
       "      <td>2.000000</td>\n",
       "      <td>3.855934</td>\n",
       "    </tr>\n",
       "    <tr>\n",
       "      <th>50%</th>\n",
       "      <td>0.000000</td>\n",
       "      <td>0.000000</td>\n",
       "      <td>10.000000</td>\n",
       "      <td>6.507236</td>\n",
       "    </tr>\n",
       "    <tr>\n",
       "      <th>75%</th>\n",
       "      <td>2.000000</td>\n",
       "      <td>0.000000</td>\n",
       "      <td>40.000000</td>\n",
       "      <td>13.451951</td>\n",
       "    </tr>\n",
       "    <tr>\n",
       "      <th>max</th>\n",
       "      <td>150000.000000</td>\n",
       "      <td>535.000000</td>\n",
       "      <td>2500.000000</td>\n",
       "      <td>1000.000000</td>\n",
       "    </tr>\n",
       "  </tbody>\n",
       "</table>\n",
       "</div>"
      ],
      "text/plain": [
       "        annual_usage  min_order_quantity      quantity          cost\n",
       "count   22628.000000        22628.000000  22628.000000  22628.000000\n",
       "mean      116.908830            2.130193     38.267677     13.450500\n",
       "std      1678.532065           13.262875     71.313125     27.622252\n",
       "min         0.000000            0.000000      1.000000      0.523027\n",
       "25%         0.000000            0.000000      2.000000      3.855934\n",
       "50%         0.000000            0.000000     10.000000      6.507236\n",
       "75%         2.000000            0.000000     40.000000     13.451951\n",
       "max    150000.000000          535.000000   2500.000000   1000.000000"
      ]
     },
     "execution_count": 34,
     "metadata": {
      "tags": []
     },
     "output_type": "execute_result"
    }
   ],
   "source": [
    "train.describe()"
   ]
  },
  {
   "cell_type": "code",
   "execution_count": 0,
   "metadata": {
    "colab": {
     "base_uri": "https://localhost:8080/",
     "height": 235
    },
    "colab_type": "code",
    "id": "Hpsqz2kzlz-8",
    "outputId": "9c059688-e7ec-4677-a0bc-1adc85a82641"
   },
   "outputs": [
    {
     "data": {
      "text/html": [
       "<div>\n",
       "<style scoped>\n",
       "    .dataframe tbody tr th:only-of-type {\n",
       "        vertical-align: middle;\n",
       "    }\n",
       "\n",
       "    .dataframe tbody tr th {\n",
       "        vertical-align: top;\n",
       "    }\n",
       "\n",
       "    .dataframe thead th {\n",
       "        text-align: right;\n",
       "    }\n",
       "</style>\n",
       "<table border=\"1\" class=\"dataframe\">\n",
       "  <thead>\n",
       "    <tr style=\"text-align: right;\">\n",
       "      <th></th>\n",
       "      <th>tube_assembly_id</th>\n",
       "      <th>supplier</th>\n",
       "      <th>quote_date</th>\n",
       "      <th>bracket_pricing</th>\n",
       "    </tr>\n",
       "  </thead>\n",
       "  <tbody>\n",
       "    <tr>\n",
       "      <th>count</th>\n",
       "      <td>22628</td>\n",
       "      <td>22628</td>\n",
       "      <td>22628</td>\n",
       "      <td>22628</td>\n",
       "    </tr>\n",
       "    <tr>\n",
       "      <th>unique</th>\n",
       "      <td>6641</td>\n",
       "      <td>52</td>\n",
       "      <td>1510</td>\n",
       "      <td>2</td>\n",
       "    </tr>\n",
       "    <tr>\n",
       "      <th>top</th>\n",
       "      <td>TA-04750</td>\n",
       "      <td>S-0066</td>\n",
       "      <td>2013-10-01 00:00:00</td>\n",
       "      <td>Yes</td>\n",
       "    </tr>\n",
       "    <tr>\n",
       "      <th>freq</th>\n",
       "      <td>12</td>\n",
       "      <td>15391</td>\n",
       "      <td>2077</td>\n",
       "      <td>19699</td>\n",
       "    </tr>\n",
       "    <tr>\n",
       "      <th>first</th>\n",
       "      <td>NaN</td>\n",
       "      <td>NaN</td>\n",
       "      <td>1987-04-10 00:00:00</td>\n",
       "      <td>NaN</td>\n",
       "    </tr>\n",
       "    <tr>\n",
       "      <th>last</th>\n",
       "      <td>NaN</td>\n",
       "      <td>NaN</td>\n",
       "      <td>2017-01-01 00:00:00</td>\n",
       "      <td>NaN</td>\n",
       "    </tr>\n",
       "  </tbody>\n",
       "</table>\n",
       "</div>"
      ],
      "text/plain": [
       "       tube_assembly_id supplier           quote_date bracket_pricing\n",
       "count             22628    22628                22628           22628\n",
       "unique             6641       52                 1510               2\n",
       "top            TA-04750   S-0066  2013-10-01 00:00:00             Yes\n",
       "freq                 12    15391                 2077           19699\n",
       "first               NaN      NaN  1987-04-10 00:00:00             NaN\n",
       "last                NaN      NaN  2017-01-01 00:00:00             NaN"
      ]
     },
     "execution_count": 35,
     "metadata": {
      "tags": []
     },
     "output_type": "execute_result"
    }
   ],
   "source": [
    "train.describe(exclude='number')"
   ]
  },
  {
   "cell_type": "code",
   "execution_count": 0,
   "metadata": {
    "colab": {
     "base_uri": "https://localhost:8080/",
     "height": 34
    },
    "colab_type": "code",
    "id": "SX5c1wD-l7H1",
    "outputId": "1f275697-974e-4152-9437-6ae77b606b6c"
   },
   "outputs": [
    {
     "name": "stdout",
     "output_type": "stream",
     "text": [
      "Validation RMSLE, Mean Baseline: 0.9418101276064408\n"
     ]
    }
   ],
   "source": [
    "target = 'cost'\n",
    "y_train = train[target]\n",
    "y_val = val[target]\n",
    "y_pred = np.full_like(y_val, fill_value=y_train.mean())\n",
    "print('Validation RMSLE, Mean Baseline:', rmsle(y_val, y_pred))"
   ]
  },
  {
   "cell_type": "code",
   "execution_count": 0,
   "metadata": {
    "colab": {
     "base_uri": "https://localhost:8080/",
     "height": 34
    },
    "colab_type": "code",
    "id": "DqhuJ2c7ppCD",
    "outputId": "dcedc8e0-6f05-4373-e8c1-2e18fd8e2d4d"
   },
   "outputs": [
    {
     "name": "stdout",
     "output_type": "stream",
     "text": [
      "Validation R^2, Mean Baseline: -4.701447715138585e-06\n"
     ]
    }
   ],
   "source": [
    "\n",
    "print('Validation R^2, Mean Baseline:', r2_score(y_val, y_pred))"
   ]
  },
  {
   "cell_type": "markdown",
   "metadata": {
    "colab_type": "text",
    "id": "aRhO-PxmHL6q"
   },
   "source": [
    "## Develop a first model that does better than a basic baseline\n",
    "\n",
    "### Fit Random Forest with 1 feature: `quantity`"
   ]
  },
  {
   "cell_type": "code",
   "execution_count": 0,
   "metadata": {
    "colab": {
     "base_uri": "https://localhost:8080/",
     "height": 34
    },
    "colab_type": "code",
    "id": "hKzEWLdEnLpJ",
    "outputId": "4e2c3a30-6673-4183-9b8a-8071f741239f"
   },
   "outputs": [
    {
     "data": {
      "text/plain": [
       "13.450499769517025"
      ]
     },
     "execution_count": 41,
     "metadata": {
      "tags": []
     },
     "output_type": "execute_result"
    }
   ],
   "source": [
    "train.cost.mean()"
   ]
  },
  {
   "cell_type": "code",
   "execution_count": 0,
   "metadata": {
    "colab": {
     "base_uri": "https://localhost:8080/",
     "height": 1000
    },
    "colab_type": "code",
    "id": "aN2lnbHznF2E",
    "outputId": "7c0b05fd-2826-4057-f5e0-63589ab994d0"
   },
   "outputs": [
    {
     "data": {
      "text/plain": [
       "quantity\n",
       "1       26.602862\n",
       "2       19.222738\n",
       "3       37.130535\n",
       "4       26.695014\n",
       "5       12.671149\n",
       "6       10.638119\n",
       "7       31.482244\n",
       "8       16.170021\n",
       "9       21.015575\n",
       "10       7.356611\n",
       "11      23.711489\n",
       "12      14.262210\n",
       "13       7.798112\n",
       "14       9.330717\n",
       "15      13.173706\n",
       "16      10.771868\n",
       "17      13.403166\n",
       "18      11.248039\n",
       "19       7.092018\n",
       "20       5.070719\n",
       "21       7.277866\n",
       "22       6.174626\n",
       "24       9.232764\n",
       "25       5.098735\n",
       "26       4.847274\n",
       "27       5.278957\n",
       "28       5.888784\n",
       "29       5.586375\n",
       "30       8.083138\n",
       "31       4.047340\n",
       "          ...    \n",
       "167     19.449375\n",
       "170      7.603367\n",
       "180      2.601225\n",
       "185     13.746154\n",
       "195      1.627505\n",
       "200      3.792344\n",
       "205      1.941877\n",
       "210      3.741869\n",
       "225      7.873227\n",
       "240      2.573405\n",
       "250      4.077934\n",
       "253     11.945605\n",
       "285      2.107410\n",
       "290      1.620549\n",
       "300      5.785755\n",
       "325      3.994341\n",
       "350      4.594571\n",
       "400      4.321465\n",
       "480      4.932591\n",
       "500      3.597759\n",
       "535      6.357005\n",
       "550      1.414677\n",
       "574      1.926576\n",
       "666      2.871085\n",
       "700      0.817925\n",
       "750      1.980826\n",
       "829      3.076957\n",
       "1034     2.590097\n",
       "1045    11.492686\n",
       "2500     1.571863\n",
       "Name: cost, Length: 109, dtype: float64"
      ]
     },
     "execution_count": 43,
     "metadata": {
      "tags": []
     },
     "output_type": "execute_result"
    }
   ],
   "source": [
    "train.groupby('quantity').cost.mean()"
   ]
  },
  {
   "cell_type": "code",
   "execution_count": 0,
   "metadata": {
    "colab": {},
    "colab_type": "code",
    "id": "yAF5TLfxHL6q"
   },
   "outputs": [],
   "source": [
    "features = ['quantity']\n",
    "X_train = train[features]\n",
    "X_val = val[features]"
   ]
  },
  {
   "cell_type": "code",
   "execution_count": 0,
   "metadata": {
    "colab": {
     "base_uri": "https://localhost:8080/",
     "height": 34
    },
    "colab_type": "code",
    "id": "IxfpvZz2pRyy",
    "outputId": "79fae388-5486-42e8-dd6a-4e244dfd0fab"
   },
   "outputs": [
    {
     "name": "stdout",
     "output_type": "stream",
     "text": [
      "Validation R^2 0.08879518736792147\n"
     ]
    }
   ],
   "source": [
    "\n",
    "model = RandomForestRegressor(n_estimators=100, random_state=42, n_jobs=-1)\n",
    "model.fit(X_train, y_train)\n",
    "r2 = model.score(X_val, y_val)\n",
    "print('Validation R^2', r2)"
   ]
  },
  {
   "cell_type": "code",
   "execution_count": 0,
   "metadata": {
    "colab": {
     "base_uri": "https://localhost:8080/",
     "height": 51
    },
    "colab_type": "code",
    "id": "dXz-3kVVqXSs",
    "outputId": "96730c7f-df7f-40d1-9940-485180fc89b4"
   },
   "outputs": [
    {
     "name": "stdout",
     "output_type": "stream",
     "text": [
      "Validation RMSLE, Random Forest with ['quantity']\n",
      "0.6908805822519186\n"
     ]
    }
   ],
   "source": [
    "y_pred = model.predict(X_val)\n",
    "print(f'Validation RMSLE, Random Forest with {features}')\n",
    "print(rmsle(y_val, y_pred))"
   ]
  },
  {
   "cell_type": "markdown",
   "metadata": {
    "colab_type": "text",
    "id": "p-Vwu3WOHL6s"
   },
   "source": [
    "## Log-transform regression target with right-skewed distribution"
   ]
  },
  {
   "cell_type": "markdown",
   "metadata": {
    "colab_type": "text",
    "id": "cgeetp7IHL6s"
   },
   "source": [
    "### Plot right-skewed distribution"
   ]
  },
  {
   "cell_type": "code",
   "execution_count": 0,
   "metadata": {
    "colab": {
     "base_uri": "https://localhost:8080/",
     "height": 283
    },
    "colab_type": "code",
    "id": "_9WEajrtHL6t",
    "outputId": "c7a43205-2cd5-4f0a-f7fb-703d5a21cc4b"
   },
   "outputs": [
    {
     "data": {
      "image/png": "[encoded data removed]",
      "text/plain": [
       "<Figure size 432x288 with 1 Axes>"
      ]
     },
     "metadata": {
      "tags": []
     },
     "output_type": "display_data"
    }
   ],
   "source": [
    "\n",
    "sns.distplot(y_train);"
   ]
  },
  {
   "cell_type": "markdown",
   "metadata": {
    "colab_type": "text",
    "id": "oHzoyXgcHL6u"
   },
   "source": [
    "#### Terence Parr & Jeremy Howard, [The Mechanics of Machine Learning, Chapter 5.5](https://mlbook.explained.ai/prep.html#logtarget)\n",
    "\n",
    "> Transforming the target variable (using the mathematical log function) into a tighter, more uniform space makes life easier for any model.\n",
    "\n",
    "> The only problem is that, while easy to execute, understanding why taking the log of the target variable works and how it affects the training/testing process is intellectually challenging. You can skip this section for now, if you like, but just remember that this technique exists and check back here if needed in the future.\n",
    "\n",
    "> Optimally, the distribution of prices would be a narrow “bell curve” distribution without a tail. This would make predictions based upon average prices more accurate. We need a mathematical operation that transforms the widely-distributed target prices into a new space. The “price in dollars space” has a long right tail because of outliers and we want to squeeze that space into a new space that is normally distributed (“bell curved”). More specifically, we need to shrink large values a lot and smaller values a little. That magic operation is called the logarithm or log for short. \n",
    "\n",
    "> To make actual predictions, we have to take the exp of model predictions to get prices in dollars instead of log dollars."
   ]
  },
  {
   "cell_type": "markdown",
   "metadata": {
    "colab_type": "text",
    "id": "Om5LVgmqHL6v"
   },
   "source": [
    "#### Wikipedia, [Logarithm](https://en.wikipedia.org/wiki/Logarithm)\n",
    "\n",
    "> Addition, multiplication, and exponentiation are three fundamental arithmetic operations. Addition can be undone by subtraction. Multiplication can be undone by division. The idea and purpose of **logarithms** is also to **undo** a fundamental arithmetic operation, namely raising a number to a certain power, an operation also known as **exponentiation.** \n",
    "\n",
    "> For example, raising 2 to the third power yields 8.\n",
    "\n",
    "> The logarithm (with respect to base 2) of 8 is 3, reflecting the fact that 2 was raised to the third power to get 8."
   ]
  },
  {
   "cell_type": "markdown",
   "metadata": {
    "colab_type": "text",
    "id": "5Q5m3kThHL6v"
   },
   "source": [
    "### Use Numpy for exponents and logarithms functions\n",
    "- https://docs.scipy.org/doc/numpy/reference/routines.math.html#exponents-and-logarithms"
   ]
  },
  {
   "cell_type": "code",
   "execution_count": 0,
   "metadata": {
    "colab": {
     "base_uri": "https://localhost:8080/",
     "height": 34
    },
    "colab_type": "code",
    "id": "IwXxhlqjHL6w",
    "outputId": "c6468b87-56f9-4791-9311-2cfca2feab65"
   },
   "outputs": [
    {
     "data": {
      "text/plain": [
       "8"
      ]
     },
     "execution_count": 52,
     "metadata": {
      "tags": []
     },
     "output_type": "execute_result"
    }
   ],
   "source": [
    "2 ** 3"
   ]
  },
  {
   "cell_type": "code",
   "execution_count": 0,
   "metadata": {
    "colab": {
     "base_uri": "https://localhost:8080/",
     "height": 34
    },
    "colab_type": "code",
    "id": "DZ2VhHlrsKgE",
    "outputId": "a309bde9-aaf0-46cd-a10d-a334363143eb"
   },
   "outputs": [
    {
     "data": {
      "text/plain": [
       "3.0"
      ]
     },
     "execution_count": 53,
     "metadata": {
      "tags": []
     },
     "output_type": "execute_result"
    }
   ],
   "source": [
    "np.log2(8)"
   ]
  },
  {
   "cell_type": "code",
   "execution_count": 0,
   "metadata": {
    "colab": {
     "base_uri": "https://localhost:8080/",
     "height": 34
    },
    "colab_type": "code",
    "id": "2an7cb9bsQT0",
    "outputId": "9e08d946-a090-4963-daa6-df0a2d0fe00b"
   },
   "outputs": [
    {
     "data": {
      "text/plain": [
       "1.7392749415204972e+18"
      ]
     },
     "execution_count": 55,
     "metadata": {
      "tags": []
     },
     "output_type": "execute_result"
    }
   ],
   "source": [
    "np.e ** 42"
   ]
  },
  {
   "cell_type": "code",
   "execution_count": 0,
   "metadata": {
    "colab": {
     "base_uri": "https://localhost:8080/",
     "height": 34
    },
    "colab_type": "code",
    "id": "8XeS6FMvsZgd",
    "outputId": "352add88-e3e1-4597-d64c-539288f41b50"
   },
   "outputs": [
    {
     "data": {
      "text/plain": [
       "42.0"
      ]
     },
     "execution_count": 56,
     "metadata": {
      "tags": []
     },
     "output_type": "execute_result"
    }
   ],
   "source": [
    "np.log(1.7392749415204972e+18)"
   ]
  },
  {
   "cell_type": "code",
   "execution_count": 0,
   "metadata": {
    "colab": {
     "base_uri": "https://localhost:8080/",
     "height": 68
    },
    "colab_type": "code",
    "id": "9-oPqqwSsdzd",
    "outputId": "824afd31-f4a1-4b2f-b0c9-eefce7e2673d"
   },
   "outputs": [
    {
     "name": "stderr",
     "output_type": "stream",
     "text": [
      "/usr/local/lib/python3.6/dist-packages/ipykernel_launcher.py:1: RuntimeWarning: divide by zero encountered in log\n",
      "  \"\"\"Entry point for launching an IPython kernel.\n"
     ]
    },
    {
     "data": {
      "text/plain": [
       "-inf"
      ]
     },
     "execution_count": 57,
     "metadata": {
      "tags": []
     },
     "output_type": "execute_result"
    }
   ],
   "source": [
    "np.log(0)"
   ]
  },
  {
   "cell_type": "code",
   "execution_count": 0,
   "metadata": {
    "colab": {
     "base_uri": "https://localhost:8080/",
     "height": 34
    },
    "colab_type": "code",
    "id": "dNLtVnGOsh8i",
    "outputId": "b5e501d7-4fd7-44f8-cc56-5d968a96fcdb"
   },
   "outputs": [
    {
     "data": {
      "text/plain": [
       "0.0"
      ]
     },
     "execution_count": 58,
     "metadata": {
      "tags": []
     },
     "output_type": "execute_result"
    }
   ],
   "source": [
    "np.log1p(0)"
   ]
  },
  {
   "cell_type": "code",
   "execution_count": 0,
   "metadata": {
    "colab": {
     "base_uri": "https://localhost:8080/",
     "height": 34
    },
    "colab_type": "code",
    "id": "J51MuUUssmaz",
    "outputId": "8d3787c6-fb05-41d7-9235-9df469781751"
   },
   "outputs": [
    {
     "data": {
      "text/plain": [
       "3.7612001156935624"
      ]
     },
     "execution_count": 59,
     "metadata": {
      "tags": []
     },
     "output_type": "execute_result"
    }
   ],
   "source": [
    "np.log1p(42)"
   ]
  },
  {
   "cell_type": "code",
   "execution_count": 0,
   "metadata": {
    "colab": {
     "base_uri": "https://localhost:8080/",
     "height": 34
    },
    "colab_type": "code",
    "id": "8MU4vRQ0solk",
    "outputId": "9b585ab7-f6ca-4888-91ec-51197cd4d0f4"
   },
   "outputs": [
    {
     "data": {
      "text/plain": [
       "42.0"
      ]
     },
     "execution_count": 60,
     "metadata": {
      "tags": []
     },
     "output_type": "execute_result"
    }
   ],
   "source": [
    "np.expm1(3.7612001156935624)"
   ]
  },
  {
   "cell_type": "code",
   "execution_count": 0,
   "metadata": {
    "colab": {
     "base_uri": "https://localhost:8080/",
     "height": 283
    },
    "colab_type": "code",
    "id": "FLq_TZXisvIB",
    "outputId": "f8fe090d-1eb0-4746-92b1-f4f146a51945"
   },
   "outputs": [
    {
     "data": {
      "image/png": "[encoded data removed]",
      "text/plain": [
       "<Figure size 432x288 with 1 Axes>"
      ]
     },
     "metadata": {
      "tags": []
     },
     "output_type": "display_data"
    }
   ],
   "source": [
    "y_train_log = np.log1p(y_train)\n",
    "sns.distplot(y_train_log);"
   ]
  },
  {
   "cell_type": "code",
   "execution_count": 0,
   "metadata": {
    "colab": {
     "base_uri": "https://localhost:8080/",
     "height": 283
    },
    "colab_type": "code",
    "id": "pEEebu25HL6y",
    "outputId": "3cf56111-ca09-43ba-eec8-206a83965ba9"
   },
   "outputs": [
    {
     "data": {
      "image/png": "[encoded data removed]",
      "text/plain": [
       "<Figure size 432x288 with 1 Axes>"
      ]
     },
     "metadata": {
      "tags": []
     },
     "output_type": "display_data"
    }
   ],
   "source": [
    "y_train_log_exp = np.expm1(y_train_log)\n",
    "sns.distplot(y_train_log_exp);"
   ]
  },
  {
   "cell_type": "code",
   "execution_count": 0,
   "metadata": {
    "colab": {
     "base_uri": "https://localhost:8080/",
     "height": 34
    },
    "colab_type": "code",
    "id": "DSNLF8watQng",
    "outputId": "91160c56-5d4c-4117-f4db-5f74887337e5"
   },
   "outputs": [
    {
     "data": {
      "text/plain": [
       "True"
      ]
     },
     "execution_count": 67,
     "metadata": {
      "tags": []
     },
     "output_type": "execute_result"
    }
   ],
   "source": [
    "all(np.isclose(y_train_log_exp, y_train))"
   ]
  },
  {
   "cell_type": "markdown",
   "metadata": {
    "colab_type": "text",
    "id": "Hxd5XBxhHL6x"
   },
   "source": [
    "### Refit model with log-transformed target"
   ]
  },
  {
   "cell_type": "code",
   "execution_count": 0,
   "metadata": {
    "colab": {
     "base_uri": "https://localhost:8080/",
     "height": 34
    },
    "colab_type": "code",
    "id": "Yg0snp_btPU6",
    "outputId": "805ba3a9-89a1-4181-fdad-ceba5e45e6ee"
   },
   "outputs": [
    {
     "data": {
      "text/plain": [
       "0.622925465880199"
      ]
     },
     "execution_count": 68,
     "metadata": {
      "tags": []
     },
     "output_type": "execute_result"
    }
   ],
   "source": [
    "model.fit(X_train, y_train_log)\n",
    "y_pred_log = model.predict(X_val)\n",
    "y_pred = np.expm1(y_pred_log)\n",
    "rmsle(y_val, y_pred)"
   ]
  },
  {
   "cell_type": "markdown",
   "metadata": {
    "colab_type": "text",
    "id": "BB70eZMmWRbf"
   },
   "source": [
    "### RMSLE with original targets = RMSE with log-transformed targets"
   ]
  },
  {
   "cell_type": "code",
   "execution_count": 0,
   "metadata": {
    "colab": {},
    "colab_type": "code",
    "id": "ZddIAKp2WMce"
   },
   "outputs": [],
   "source": [
    "\n",
    "def rmse(y_true, y_pred):\n",
    "    return np.sqrt(mean_squared_error(y_true, y_pred))"
   ]
  },
  {
   "cell_type": "code",
   "execution_count": 0,
   "metadata": {
    "colab": {
     "base_uri": "https://localhost:8080/",
     "height": 34
    },
    "colab_type": "code",
    "id": "fdpn-Avruf-B",
    "outputId": "c64d0b12-203f-4cb9-e67b-64d9c033a732"
   },
   "outputs": [
    {
     "data": {
      "text/plain": [
       "0.622925465880199"
      ]
     },
     "execution_count": 70,
     "metadata": {
      "tags": []
     },
     "output_type": "execute_result"
    }
   ],
   "source": [
    "y_val_log = np.log1p(y_val)\n",
    "rmse(y_val_log, y_pred_log)"
   ]
  },
  {
   "cell_type": "markdown",
   "metadata": {
    "colab_type": "text",
    "id": "CplbgtmvHL6z"
   },
   "source": [
    "## Interlude: Moore's Law dataset\n",
    "\n",
    "#### Background\n",
    "- https://en.wikipedia.org/wiki/Moore%27s_law\n",
    "- https://en.wikipedia.org/wiki/Transistor_count\n",
    "\n",
    "#### Scrape HTML tables with Pandas!\n",
    "- https://pandas.pydata.org/pandas-docs/stable/reference/api/pandas.read_html.html\n",
    "- https://medium.com/@ageitgey/quick-tip-the-easiest-way-to-grab-data-out-of-a-web-page-in-python-7153cecfca58\n",
    "\n",
    "#### More web scraping options\n",
    "- https://automatetheboringstuff.com/chapter11/"
   ]
  },
  {
   "cell_type": "code",
   "execution_count": 0,
   "metadata": {
    "colab": {
     "base_uri": "https://localhost:8080/",
     "height": 290
    },
    "colab_type": "code",
    "id": "kUBrurudHL60",
    "outputId": "bd603631-e4bb-4eff-9105-40830644f86c"
   },
   "outputs": [
    {
     "data": {
      "image/png": "[encoded data removed]",
      "text/plain": [
       "<Figure size 432x288 with 1 Axes>"
      ]
     },
     "metadata": {
      "tags": []
     },
     "output_type": "display_data"
    }
   ],
   "source": [
    "# Scrape data\n",
    "tables = pd.read_html('https://en.wikipedia.org/wiki/Transistor_count', header=0)\n",
    "moore = tables[0]\n",
    "moore = moore[['Date of introduction', 'Transistor count']].dropna()\n",
    "\n",
    "# Clean data\n",
    "for column in moore:\n",
    "    moore[column] = (moore[column]\n",
    "                     .str.split('[').str[0]  # Remove citations\n",
    "                     .str.replace(r'\\D','')  # Remove non-digit characters\n",
    "                     .astype(int))\n",
    "    \n",
    "moore = moore.sort_values(by='Date of introduction')\n",
    "\n",
    "# Plot distribution of transistor counts\n",
    "sns.distplot(moore['Transistor count']);"
   ]
  },
  {
   "cell_type": "code",
   "execution_count": 0,
   "metadata": {
    "colab": {
     "base_uri": "https://localhost:8080/",
     "height": 290
    },
    "colab_type": "code",
    "id": "ktI__vcPHL65",
    "outputId": "0ceb0eb5-6c00-46d7-85df-a40c8e1147df"
   },
   "outputs": [
    {
     "data": {
      "image/png": "[encoded data removed]",
      "text/plain": [
       "<Figure size 432x288 with 1 Axes>"
      ]
     },
     "metadata": {
      "tags": []
     },
     "output_type": "display_data"
    }
   ],
   "source": [
    "# Plot relationship between date & transistors\n",
    "moore.plot(x='Date of introduction', y='Transistor count', kind='scatter', alpha=0.5);"
   ]
  },
  {
   "cell_type": "code",
   "execution_count": 0,
   "metadata": {
    "colab": {},
    "colab_type": "code",
    "id": "u9s_ajWaHL67"
   },
   "outputs": [],
   "source": [
    "# Log-transform the target\n",
    "moore['log(Transistor count)'] = np.log1p(moore['Transistor count'])"
   ]
  },
  {
   "cell_type": "code",
   "execution_count": 0,
   "metadata": {
    "colab": {
     "base_uri": "https://localhost:8080/",
     "height": 283
    },
    "colab_type": "code",
    "id": "OaWTYcLQHL69",
    "outputId": "914b8e61-b0e1-4717-921b-12126695b689"
   },
   "outputs": [
    {
     "data": {
      "image/png": "[encoded data removed]",
      "text/plain": [
       "<Figure size 432x288 with 1 Axes>"
      ]
     },
     "metadata": {
      "tags": []
     },
     "output_type": "display_data"
    }
   ],
   "source": [
    "# Plot distribution of log-transformed target\n",
    "sns.distplot(moore['log(Transistor count)']);"
   ]
  },
  {
   "cell_type": "code",
   "execution_count": 0,
   "metadata": {
    "colab": {
     "base_uri": "https://localhost:8080/",
     "height": 283
    },
    "colab_type": "code",
    "id": "6Q6XBhQmHL6_",
    "outputId": "aa1036ef-1767-45ad-91a1-4cd8dc3572ec"
   },
   "outputs": [
    {
     "data": {
      "image/png": "[encoded data removed]",
      "text/plain": [
       "<Figure size 432x288 with 1 Axes>"
      ]
     },
     "metadata": {
      "tags": []
     },
     "output_type": "display_data"
    }
   ],
   "source": [
    "# Plot relationship between date & log-transformed target\n",
    "moore.plot(x='Date of introduction', y='log(Transistor count)', kind='scatter', alpha=0.5);"
   ]
  },
  {
   "cell_type": "code",
   "execution_count": 0,
   "metadata": {
    "colab": {
     "base_uri": "https://localhost:8080/",
     "height": 283
    },
    "colab_type": "code",
    "id": "iSL4eEUiHL7A",
    "outputId": "d7bbf14c-6a50-4a1f-b33d-823574e0474d"
   },
   "outputs": [
    {
     "data": {
      "image/png": "[encoded data removed]",
      "text/plain": [
       "<Figure size 432x288 with 1 Axes>"
      ]
     },
     "metadata": {
      "tags": []
     },
     "output_type": "display_data"
    }
   ],
   "source": [
    "# Fit Linear Regression with log-transformed target\n",
    "\n",
    "model = LinearRegression()\n",
    "X = moore[['Date of introduction']]\n",
    "y_log = moore['log(Transistor count)']\n",
    "model.fit(X, y_log)\n",
    "y_pred_log = model.predict(X)\n",
    "\n",
    "# Plot line of best fit, in units of log-transistors\n",
    "ax = moore.plot(x='Date of introduction', y='log(Transistor count)', kind='scatter', alpha=0.5)\n",
    "ax.plot(X, y_pred_log);"
   ]
  },
  {
   "cell_type": "code",
   "execution_count": 0,
   "metadata": {
    "colab": {
     "base_uri": "https://localhost:8080/",
     "height": 290
    },
    "colab_type": "code",
    "id": "YKNP4ZtHHL7C",
    "outputId": "c28598e2-f26f-4349-d77f-ad828503c20a"
   },
   "outputs": [
    {
     "data": {
      "image/png": "[encoded data removed]",
      "text/plain": [
       "<Figure size 432x288 with 1 Axes>"
      ]
     },
     "metadata": {
      "tags": []
     },
     "output_type": "display_data"
    }
   ],
   "source": [
    "# Convert log-transistors to transistors\n",
    "y_pred = np.expm1(y_pred_log)\n",
    "\n",
    "# Plot line of best fit, in units of transistors\n",
    "ax = moore.plot(x='Date of introduction', y='Transistor count', kind='scatter', alpha=0.5)\n",
    "ax.plot(X, y_pred);"
   ]
  },
  {
   "cell_type": "markdown",
   "metadata": {
    "colab_type": "text",
    "id": "QnS1djikHL7D"
   },
   "source": [
    "# Back to Caterpillar 🚜"
   ]
  },
  {
   "cell_type": "markdown",
   "metadata": {
    "colab_type": "text",
    "id": "PDfHk1qzHL7E"
   },
   "source": [
    "### Select more features\n",
    "\n",
    "#### [Data Description](https://www.kaggle.com/c/caterpillar-tube-pricing/data)\n",
    "\n",
    "> **train_set.csv and test_set.csv**  \n",
    "> This file contains information on price quotes from our suppliers. Prices can be quoted in 2 ways: bracket and non-bracket pricing. Bracket pricing has multiple levels of purchase based on quantity (in other words, the cost is given assuming a purchase of quantity tubes). Non-bracket pricing has a minimum order amount (min_order) for which the price would apply. Each quote is issued with an annual_usage, an estimate of how many tube assemblies will be purchased in a given year."
   ]
  },
  {
   "cell_type": "code",
   "execution_count": 0,
   "metadata": {
    "colab": {
     "base_uri": "https://localhost:8080/",
     "height": 204
    },
    "colab_type": "code",
    "id": "xT32Nk2FHL7E",
    "outputId": "0d4de043-d3ce-4054-acf9-17d6f009834c"
   },
   "outputs": [
    {
     "name": "stdout",
     "output_type": "stream",
     "text": [
      "Requirement already satisfied: category_encoders in /usr/local/lib/python3.6/dist-packages (2.0.0)\n",
      "Requirement already satisfied: pandas>=0.21.1 in /usr/local/lib/python3.6/dist-packages (from category_encoders) (0.24.2)\n",
      "Requirement already satisfied: scipy>=0.19.0 in /usr/local/lib/python3.6/dist-packages (from category_encoders) (1.3.0)\n",
      "Requirement already satisfied: numpy>=1.11.3 in /usr/local/lib/python3.6/dist-packages (from category_encoders) (1.16.4)\n",
      "Requirement already satisfied: statsmodels>=0.6.1 in /usr/local/lib/python3.6/dist-packages (from category_encoders) (0.10.0)\n",
      "Requirement already satisfied: patsy>=0.4.1 in /usr/local/lib/python3.6/dist-packages (from category_encoders) (0.5.1)\n",
      "Requirement already satisfied: scikit-learn>=0.20.0 in /usr/local/lib/python3.6/dist-packages (from category_encoders) (0.21.2)\n",
      "Requirement already satisfied: python-dateutil>=2.5.0 in /usr/local/lib/python3.6/dist-packages (from pandas>=0.21.1->category_encoders) (2.5.3)\n",
      "Requirement already satisfied: pytz>=2011k in /usr/local/lib/python3.6/dist-packages (from pandas>=0.21.1->category_encoders) (2018.9)\n",
      "Requirement already satisfied: six in /usr/local/lib/python3.6/dist-packages (from patsy>=0.4.1->category_encoders) (1.12.0)\n",
      "Requirement already satisfied: joblib>=0.11 in /usr/local/lib/python3.6/dist-packages (from scikit-learn>=0.20.0->category_encoders) (0.13.2)\n"
     ]
    }
   ],
   "source": [
    "!pip install category_encoders"
   ]
  },
  {
   "cell_type": "code",
   "execution_count": 0,
   "metadata": {
    "colab": {
     "base_uri": "https://localhost:8080/",
     "height": 204
    },
    "colab_type": "code",
    "id": "DMphlnI4HL7G",
    "outputId": "88b91a3d-f4fa-4cf3-82df-13e22c6c973a"
   },
   "outputs": [
    {
     "data": {
      "text/html": [
       "<div>\n",
       "<style scoped>\n",
       "    .dataframe tbody tr th:only-of-type {\n",
       "        vertical-align: middle;\n",
       "    }\n",
       "\n",
       "    .dataframe tbody tr th {\n",
       "        vertical-align: top;\n",
       "    }\n",
       "\n",
       "    .dataframe thead th {\n",
       "        text-align: right;\n",
       "    }\n",
       "</style>\n",
       "<table border=\"1\" class=\"dataframe\">\n",
       "  <thead>\n",
       "    <tr style=\"text-align: right;\">\n",
       "      <th></th>\n",
       "      <th>tube_assembly_id</th>\n",
       "      <th>supplier</th>\n",
       "      <th>quote_date</th>\n",
       "      <th>annual_usage</th>\n",
       "      <th>min_order_quantity</th>\n",
       "      <th>bracket_pricing</th>\n",
       "      <th>quantity</th>\n",
       "      <th>cost</th>\n",
       "    </tr>\n",
       "  </thead>\n",
       "  <tbody>\n",
       "    <tr>\n",
       "      <th>8</th>\n",
       "      <td>TA-00004</td>\n",
       "      <td>S-0066</td>\n",
       "      <td>2013-07-07</td>\n",
       "      <td>0</td>\n",
       "      <td>0</td>\n",
       "      <td>Yes</td>\n",
       "      <td>1</td>\n",
       "      <td>21.972702</td>\n",
       "    </tr>\n",
       "    <tr>\n",
       "      <th>9</th>\n",
       "      <td>TA-00004</td>\n",
       "      <td>S-0066</td>\n",
       "      <td>2013-07-07</td>\n",
       "      <td>0</td>\n",
       "      <td>0</td>\n",
       "      <td>Yes</td>\n",
       "      <td>2</td>\n",
       "      <td>12.407983</td>\n",
       "    </tr>\n",
       "    <tr>\n",
       "      <th>10</th>\n",
       "      <td>TA-00004</td>\n",
       "      <td>S-0066</td>\n",
       "      <td>2013-07-07</td>\n",
       "      <td>0</td>\n",
       "      <td>0</td>\n",
       "      <td>Yes</td>\n",
       "      <td>5</td>\n",
       "      <td>6.668596</td>\n",
       "    </tr>\n",
       "    <tr>\n",
       "      <th>11</th>\n",
       "      <td>TA-00004</td>\n",
       "      <td>S-0066</td>\n",
       "      <td>2013-07-07</td>\n",
       "      <td>0</td>\n",
       "      <td>0</td>\n",
       "      <td>Yes</td>\n",
       "      <td>10</td>\n",
       "      <td>4.754539</td>\n",
       "    </tr>\n",
       "    <tr>\n",
       "      <th>12</th>\n",
       "      <td>TA-00004</td>\n",
       "      <td>S-0066</td>\n",
       "      <td>2013-07-07</td>\n",
       "      <td>0</td>\n",
       "      <td>0</td>\n",
       "      <td>Yes</td>\n",
       "      <td>25</td>\n",
       "      <td>3.608331</td>\n",
       "    </tr>\n",
       "  </tbody>\n",
       "</table>\n",
       "</div>"
      ],
      "text/plain": [
       "   tube_assembly_id supplier quote_date  ...  bracket_pricing  quantity       cost\n",
       "8          TA-00004   S-0066 2013-07-07  ...              Yes         1  21.972702\n",
       "9          TA-00004   S-0066 2013-07-07  ...              Yes         2  12.407983\n",
       "10         TA-00004   S-0066 2013-07-07  ...              Yes         5   6.668596\n",
       "11         TA-00004   S-0066 2013-07-07  ...              Yes        10   4.754539\n",
       "12         TA-00004   S-0066 2013-07-07  ...              Yes        25   3.608331\n",
       "\n",
       "[5 rows x 8 columns]"
      ]
     },
     "execution_count": 79,
     "metadata": {
      "tags": []
     },
     "output_type": "execute_result"
    }
   ],
   "source": [
    "train.head()"
   ]
  },
  {
   "cell_type": "code",
   "execution_count": 0,
   "metadata": {
    "colab": {},
    "colab_type": "code",
    "id": "gTGgaCTpwo4y"
   },
   "outputs": [],
   "source": [
    "def wrangle(X):\n",
    "    X = X.copy()\n",
    "    \n",
    "    # Engineer date features\n",
    "    X['quote_date'] = pd.to_datetime(X['quote_date'], infer_datetime_format=True)\n",
    "    X['quote_date_year'] = X['quote_date'].dt.year\n",
    "    X['quote_date_month'] = X['quote_date'].dt.month\n",
    "    X = X.drop(columns='quote_date')\n",
    "    \n",
    "    # Drop tube_assembly_id because our goal is to predict unknown assemblies\n",
    "    X = X.drop(columns='tube_assembly_id')\n",
    "    \n",
    "    return X\n",
    "\n",
    "train_wrangled = wrangle(train)\n",
    "val_wrangled = wrangle(val)"
   ]
  },
  {
   "cell_type": "code",
   "execution_count": 0,
   "metadata": {
    "colab": {
     "base_uri": "https://localhost:8080/",
     "height": 34
    },
    "colab_type": "code",
    "id": "bFqAhUXVxNkw",
    "outputId": "3739d148-66c6-488d-8809-7cadb179a971"
   },
   "outputs": [
    {
     "name": "stdout",
     "output_type": "stream",
     "text": [
      "Features: ['supplier', 'annual_usage', 'min_order_quantity', 'bracket_pricing', 'quantity', 'quote_date_year', 'quote_date_month']\n"
     ]
    }
   ],
   "source": [
    "features = train_wrangled.columns.drop(target)\n",
    "print('Features:', features.tolist())"
   ]
  },
  {
   "cell_type": "code",
   "execution_count": 0,
   "metadata": {
    "colab": {},
    "colab_type": "code",
    "id": "CXQCKmFXxrVu"
   },
   "outputs": [],
   "source": [
    "X_train = train_wrangled[features]\n",
    "X_val = val_wrangled[features]"
   ]
  },
  {
   "cell_type": "code",
   "execution_count": 0,
   "metadata": {
    "colab": {
     "base_uri": "https://localhost:8080/",
     "height": 34
    },
    "colab_type": "code",
    "id": "Juifo8YWxwmH",
    "outputId": "74439ab9-52b8-4e71-a2ba-3874856ade22"
   },
   "outputs": [
    {
     "data": {
      "text/plain": [
       "0.3950096664322286"
      ]
     },
     "execution_count": 84,
     "metadata": {
      "tags": []
     },
     "output_type": "execute_result"
    }
   ],
   "source": [
    "\n",
    "pipeline = make_pipeline(\n",
    "    ce.OrdinalEncoder(), \n",
    "    RandomForestRegressor(n_estimators=100, random_state=42, n_jobs=-1)\n",
    ")\n",
    "\n",
    "pipeline.fit(X_train, y_train_log)\n",
    "y_pred_log = pipeline.predict(X_val)\n",
    "rmse(y_val_log, y_pred_log)"
   ]
  },
  {
   "cell_type": "code",
   "execution_count": 0,
   "metadata": {
    "colab": {
     "base_uri": "https://localhost:8080/",
     "height": 34
    },
    "colab_type": "code",
    "id": "ZQISYgYQyXtv",
    "outputId": "4daac443-fad9-484b-f8e4-9ded48b7b038"
   },
   "outputs": [
    {
     "data": {
      "text/plain": [
       "0.3950096664322286"
      ]
     },
     "execution_count": 85,
     "metadata": {
      "tags": []
     },
     "output_type": "execute_result"
    }
   ],
   "source": [
    "y_pred = np.expm1(y_pred_log)\n",
    "rmsle(y_val, y_pred)"
   ]
  },
  {
   "cell_type": "markdown",
   "metadata": {
    "colab_type": "text",
    "id": "yNeNmC_LfTKp"
   },
   "source": [
    "#### Feature Importances"
   ]
  },
  {
   "cell_type": "code",
   "execution_count": 0,
   "metadata": {
    "colab": {
     "base_uri": "https://localhost:8080/",
     "height": 269
    },
    "colab_type": "code",
    "id": "CGp_5wGZfR3d",
    "outputId": "6df749c2-f02c-43c0-ee9d-5d5634098a80"
   },
   "outputs": [
    {
     "data": {
      "image/png": "[encoded data removed]",
      "text/plain": [
       "<Figure size 432x288 with 1 Axes>"
      ]
     },
     "metadata": {
      "tags": []
     },
     "output_type": "display_data"
    }
   ],
   "source": [
    "rf = pipeline.named_steps['randomforestregressor']\n",
    "importances = pd.Series(rf.feature_importances_, X_train.columns)\n",
    "importances.sort_values().plot.barh(color='grey');"
   ]
  },
  {
   "cell_type": "code",
   "execution_count": 0,
   "metadata": {
    "colab": {
     "base_uri": "https://localhost:8080/",
     "height": 283
    },
    "colab_type": "code",
    "id": "OgEn84RxzIKL",
    "outputId": "8a20ebdc-edeb-4fe5-f62f-18d06e3897d4"
   },
   "outputs": [
    {
     "data": {
      "image/png": "[encoded data removed]",
      "text/plain": [
       "<Figure size 432x288 with 1 Axes>"
      ]
     },
     "metadata": {
      "tags": []
     },
     "output_type": "display_data"
    }
   ],
   "source": [
    "quantity_quartiles = pd.qcut(train_wrangled['quantity'], q=4)\n",
    "sns.pointplot(x=quantity_quartiles, y=train_wrangled['cost']);"
   ]
  },
  {
   "cell_type": "code",
   "execution_count": 0,
   "metadata": {
    "colab": {
     "base_uri": "https://localhost:8080/",
     "height": 284
    },
    "colab_type": "code",
    "id": "Q-QVjHhGz-SN",
    "outputId": "58ccd74e-452b-4202-b9c9-e9fe970fcc5a"
   },
   "outputs": [
    {
     "data": {
      "image/png": "[encoded data removed]",
      "text/plain": [
       "<Figure size 432x288 with 1 Axes>"
      ]
     },
     "metadata": {
      "tags": []
     },
     "output_type": "display_data"
    }
   ],
   "source": [
    "\n",
    "sns.distplot(y_val_log, label='True')\n",
    "sns.distplot(y_pred_log, label='Predicted')\n",
    "plt.legend();"
   ]
  },
  {
   "cell_type": "markdown",
   "metadata": {
    "colab_type": "text",
    "id": "C5yofTpGHL7H"
   },
   "source": [
    "## Do feature engineering with relational data\n",
    "\n",
    "#### [Data Description](https://www.kaggle.com/c/caterpillar-tube-pricing/data)\n",
    "\n",
    "> The dataset is comprised of a large number of relational tables that describe the physical properties of tube assemblies. You are challenged to combine the characteristics of each tube assembly with supplier pricing dynamics in order to forecast a quote price for each tube.\n",
    "\n",
    "> **tube.csv**  \n",
    "> This file contains information on tube assemblies, which are the primary focus of the competition. Tube Assemblies are made of multiple parts. The main piece is the tube which has a specific diameter, wall thickness, length, number of bends and bend radius. Either end of the tube (End A or End X) typically has some form of end connection allowing the tube assembly to attach to other features. Special tooling is typically required for short end straight lengths (end_a_1x, end_a_2x refer to if the end length is less than 1 times or 2 times the tube diameter, respectively). Other components can be permanently attached to a tube such as bosses, brackets or other custom features."
   ]
  },
  {
   "cell_type": "code",
   "execution_count": 0,
   "metadata": {
    "colab": {
     "base_uri": "https://localhost:8080/",
     "height": 292
    },
    "colab_type": "code",
    "id": "dZTVFP-RHL7H",
    "outputId": "b22c16ab-b9dc-4be4-e269-d87f1d316632"
   },
   "outputs": [
    {
     "name": "stdout",
     "output_type": "stream",
     "text": [
      "competition_data/test_set.csv (30235, 8)\n",
      "['id', 'tube_assembly_id', 'supplier', 'quote_date', 'annual_usage', 'min_order_quantity', 'bracket_pricing', 'quantity'] \n",
      "\n",
      "competition_data/train_set.csv (30213, 8)\n",
      "['tube_assembly_id', 'supplier', 'quote_date', 'annual_usage', 'min_order_quantity', 'bracket_pricing', 'quantity', 'cost'] \n",
      "\n",
      "competition_data/bill_of_materials.csv (21198, 17)\n",
      "['tube_assembly_id', 'component_id_1', 'quantity_1', 'component_id_2', 'quantity_2', 'component_id_3', 'quantity_3', 'component_id_4', 'quantity_4', 'component_id_5', 'quantity_5', 'component_id_6', 'quantity_6', 'component_id_7', 'quantity_7', 'component_id_8', 'quantity_8'] \n",
      "\n",
      "competition_data/specs.csv (21198, 11)\n",
      "['tube_assembly_id', 'spec1', 'spec2', 'spec3', 'spec4', 'spec5', 'spec6', 'spec7', 'spec8', 'spec9', 'spec10'] \n",
      "\n",
      "competition_data/tube.csv (21198, 16)\n",
      "['tube_assembly_id', 'material_id', 'diameter', 'wall', 'length', 'num_bends', 'bend_radius', 'end_a_1x', 'end_a_2x', 'end_x_1x', 'end_x_2x', 'end_a', 'end_x', 'num_boss', 'num_bracket', 'other'] \n",
      "\n"
     ]
    }
   ],
   "source": [
    "for path in glob('competition_data/*.csv'):\n",
    "    df = pd.read_csv(path)\n",
    "    shared_columns = set(df.columns) & set(train.columns)\n",
    "    if shared_columns:\n",
    "        print(path, df.shape)\n",
    "        print(df.columns.tolist(), '\\n')"
   ]
  },
  {
   "cell_type": "code",
   "execution_count": 0,
   "metadata": {
    "colab": {},
    "colab_type": "code",
    "id": "oSwqWMwg1fjO"
   },
   "outputs": [],
   "source": [
    "tube = pd.read_csv('competition_data/tube.csv')"
   ]
  },
  {
   "cell_type": "code",
   "execution_count": 0,
   "metadata": {
    "colab": {
     "base_uri": "https://localhost:8080/",
     "height": 297
    },
    "colab_type": "code",
    "id": "__xGKXOE1l1U",
    "outputId": "8630ba9f-763d-4034-d3da-73d067eec1d7"
   },
   "outputs": [
    {
     "data": {
      "text/html": [
       "<div>\n",
       "<style scoped>\n",
       "    .dataframe tbody tr th:only-of-type {\n",
       "        vertical-align: middle;\n",
       "    }\n",
       "\n",
       "    .dataframe tbody tr th {\n",
       "        vertical-align: top;\n",
       "    }\n",
       "\n",
       "    .dataframe thead th {\n",
       "        text-align: right;\n",
       "    }\n",
       "</style>\n",
       "<table border=\"1\" class=\"dataframe\">\n",
       "  <thead>\n",
       "    <tr style=\"text-align: right;\">\n",
       "      <th></th>\n",
       "      <th>diameter</th>\n",
       "      <th>wall</th>\n",
       "      <th>length</th>\n",
       "      <th>num_bends</th>\n",
       "      <th>bend_radius</th>\n",
       "      <th>num_boss</th>\n",
       "      <th>num_bracket</th>\n",
       "      <th>other</th>\n",
       "    </tr>\n",
       "  </thead>\n",
       "  <tbody>\n",
       "    <tr>\n",
       "      <th>count</th>\n",
       "      <td>21198.000000</td>\n",
       "      <td>21198.000000</td>\n",
       "      <td>21198.000000</td>\n",
       "      <td>21198.000000</td>\n",
       "      <td>21198.000000</td>\n",
       "      <td>21198.000000</td>\n",
       "      <td>21198.000000</td>\n",
       "      <td>21198.000000</td>\n",
       "    </tr>\n",
       "    <tr>\n",
       "      <th>mean</th>\n",
       "      <td>23.687764</td>\n",
       "      <td>1.578402</td>\n",
       "      <td>100.312844</td>\n",
       "      <td>3.748137</td>\n",
       "      <td>49.350767</td>\n",
       "      <td>0.044485</td>\n",
       "      <td>0.006746</td>\n",
       "      <td>0.022644</td>\n",
       "    </tr>\n",
       "    <tr>\n",
       "      <th>std</th>\n",
       "      <td>25.396277</td>\n",
       "      <td>0.745749</td>\n",
       "      <td>70.542771</td>\n",
       "      <td>2.265405</td>\n",
       "      <td>196.468480</td>\n",
       "      <td>0.260737</td>\n",
       "      <td>0.100015</td>\n",
       "      <td>0.199676</td>\n",
       "    </tr>\n",
       "    <tr>\n",
       "      <th>min</th>\n",
       "      <td>3.180000</td>\n",
       "      <td>0.710000</td>\n",
       "      <td>0.000000</td>\n",
       "      <td>0.000000</td>\n",
       "      <td>0.000000</td>\n",
       "      <td>0.000000</td>\n",
       "      <td>0.000000</td>\n",
       "      <td>0.000000</td>\n",
       "    </tr>\n",
       "    <tr>\n",
       "      <th>25%</th>\n",
       "      <td>9.520000</td>\n",
       "      <td>0.890000</td>\n",
       "      <td>48.000000</td>\n",
       "      <td>2.000000</td>\n",
       "      <td>19.050000</td>\n",
       "      <td>0.000000</td>\n",
       "      <td>0.000000</td>\n",
       "      <td>0.000000</td>\n",
       "    </tr>\n",
       "    <tr>\n",
       "      <th>50%</th>\n",
       "      <td>15.880000</td>\n",
       "      <td>1.650000</td>\n",
       "      <td>86.000000</td>\n",
       "      <td>3.000000</td>\n",
       "      <td>38.100000</td>\n",
       "      <td>0.000000</td>\n",
       "      <td>0.000000</td>\n",
       "      <td>0.000000</td>\n",
       "    </tr>\n",
       "    <tr>\n",
       "      <th>75%</th>\n",
       "      <td>25.400000</td>\n",
       "      <td>1.650000</td>\n",
       "      <td>135.000000</td>\n",
       "      <td>5.000000</td>\n",
       "      <td>50.800000</td>\n",
       "      <td>0.000000</td>\n",
       "      <td>0.000000</td>\n",
       "      <td>0.000000</td>\n",
       "    </tr>\n",
       "    <tr>\n",
       "      <th>max</th>\n",
       "      <td>203.200000</td>\n",
       "      <td>7.900000</td>\n",
       "      <td>1333.000000</td>\n",
       "      <td>17.000000</td>\n",
       "      <td>9999.000000</td>\n",
       "      <td>5.000000</td>\n",
       "      <td>5.000000</td>\n",
       "      <td>8.000000</td>\n",
       "    </tr>\n",
       "  </tbody>\n",
       "</table>\n",
       "</div>"
      ],
      "text/plain": [
       "           diameter          wall  ...   num_bracket         other\n",
       "count  21198.000000  21198.000000  ...  21198.000000  21198.000000\n",
       "mean      23.687764      1.578402  ...      0.006746      0.022644\n",
       "std       25.396277      0.745749  ...      0.100015      0.199676\n",
       "min        3.180000      0.710000  ...      0.000000      0.000000\n",
       "25%        9.520000      0.890000  ...      0.000000      0.000000\n",
       "50%       15.880000      1.650000  ...      0.000000      0.000000\n",
       "75%       25.400000      1.650000  ...      0.000000      0.000000\n",
       "max      203.200000      7.900000  ...      5.000000      8.000000\n",
       "\n",
       "[8 rows x 8 columns]"
      ]
     },
     "execution_count": 100,
     "metadata": {
      "tags": []
     },
     "output_type": "execute_result"
    }
   ],
   "source": [
    "tube.describe()"
   ]
  },
  {
   "cell_type": "code",
   "execution_count": 0,
   "metadata": {
    "colab": {
     "base_uri": "https://localhost:8080/",
     "height": 173
    },
    "colab_type": "code",
    "id": "hHb3FGP71oHe",
    "outputId": "402c6144-bcfe-4abd-fada-cd204964a3df"
   },
   "outputs": [
    {
     "data": {
      "text/html": [
       "<div>\n",
       "<style scoped>\n",
       "    .dataframe tbody tr th:only-of-type {\n",
       "        vertical-align: middle;\n",
       "    }\n",
       "\n",
       "    .dataframe tbody tr th {\n",
       "        vertical-align: top;\n",
       "    }\n",
       "\n",
       "    .dataframe thead th {\n",
       "        text-align: right;\n",
       "    }\n",
       "</style>\n",
       "<table border=\"1\" class=\"dataframe\">\n",
       "  <thead>\n",
       "    <tr style=\"text-align: right;\">\n",
       "      <th></th>\n",
       "      <th>tube_assembly_id</th>\n",
       "      <th>material_id</th>\n",
       "      <th>end_a_1x</th>\n",
       "      <th>end_a_2x</th>\n",
       "      <th>end_x_1x</th>\n",
       "      <th>end_x_2x</th>\n",
       "      <th>end_a</th>\n",
       "      <th>end_x</th>\n",
       "    </tr>\n",
       "  </thead>\n",
       "  <tbody>\n",
       "    <tr>\n",
       "      <th>count</th>\n",
       "      <td>21198</td>\n",
       "      <td>20919</td>\n",
       "      <td>21198</td>\n",
       "      <td>21198</td>\n",
       "      <td>21198</td>\n",
       "      <td>21198</td>\n",
       "      <td>21198</td>\n",
       "      <td>21198</td>\n",
       "    </tr>\n",
       "    <tr>\n",
       "      <th>unique</th>\n",
       "      <td>21198</td>\n",
       "      <td>19</td>\n",
       "      <td>2</td>\n",
       "      <td>2</td>\n",
       "      <td>2</td>\n",
       "      <td>2</td>\n",
       "      <td>25</td>\n",
       "      <td>27</td>\n",
       "    </tr>\n",
       "    <tr>\n",
       "      <th>top</th>\n",
       "      <td>TA-18531</td>\n",
       "      <td>SP-0029</td>\n",
       "      <td>N</td>\n",
       "      <td>N</td>\n",
       "      <td>N</td>\n",
       "      <td>N</td>\n",
       "      <td>EF-003</td>\n",
       "      <td>EF-003</td>\n",
       "    </tr>\n",
       "    <tr>\n",
       "      <th>freq</th>\n",
       "      <td>1</td>\n",
       "      <td>11488</td>\n",
       "      <td>20118</td>\n",
       "      <td>18015</td>\n",
       "      <td>20377</td>\n",
       "      <td>18493</td>\n",
       "      <td>11388</td>\n",
       "      <td>10863</td>\n",
       "    </tr>\n",
       "  </tbody>\n",
       "</table>\n",
       "</div>"
      ],
      "text/plain": [
       "       tube_assembly_id material_id end_a_1x  ... end_x_2x   end_a   end_x\n",
       "count             21198       20919    21198  ...    21198   21198   21198\n",
       "unique            21198          19        2  ...        2      25      27\n",
       "top            TA-18531     SP-0029        N  ...        N  EF-003  EF-003\n",
       "freq                  1       11488    20118  ...    18493   11388   10863\n",
       "\n",
       "[4 rows x 8 columns]"
      ]
     },
     "execution_count": 101,
     "metadata": {
      "tags": []
     },
     "output_type": "execute_result"
    }
   ],
   "source": [
    "tube.describe(exclude='number')"
   ]
  },
  {
   "cell_type": "code",
   "execution_count": 0,
   "metadata": {
    "colab": {},
    "colab_type": "code",
    "id": "1vAcVMZr1t-Z"
   },
   "outputs": [],
   "source": [
    "def wrangle(X):\n",
    "    X = X.copy()\n",
    "    \n",
    "    # Engineer date features\n",
    "    X['quote_date'] = pd.to_datetime(X['quote_date'], infer_datetime_format=True)\n",
    "    X['quote_date_year'] = X['quote_date'].dt.year\n",
    "    X['quote_date_month'] = X['quote_date'].dt.month\n",
    "    X = X.drop(columns='quote_date')\n",
    "    \n",
    "    # Merge tube data\n",
    "    tube = pd.read_csv('competition_data/tube.csv')\n",
    "    X = X.merge(tube, how='left')\n",
    "    \n",
    "    # Drop tube_assembly_id because our goal is to predict unknown assemblies\n",
    "    X = X.drop(columns='tube_assembly_id')\n",
    "    \n",
    "    return X\n",
    "\n",
    "\n",
    "train_wrangled = wrangle(train)\n",
    "val_wrangled = wrangle(val)"
   ]
  },
  {
   "cell_type": "code",
   "execution_count": 0,
   "metadata": {
    "colab": {
     "base_uri": "https://localhost:8080/",
     "height": 34
    },
    "colab_type": "code",
    "id": "TOWFJ-Oh1-RH",
    "outputId": "327804fc-755f-4daa-e09c-949143b907ef"
   },
   "outputs": [
    {
     "data": {
      "text/plain": [
       "((22628, 23), (7585, 23))"
      ]
     },
     "execution_count": 103,
     "metadata": {
      "tags": []
     },
     "output_type": "execute_result"
    }
   ],
   "source": [
    "train_wrangled.shape, val_wrangled.shape"
   ]
  },
  {
   "cell_type": "code",
   "execution_count": 0,
   "metadata": {
    "colab": {
     "base_uri": "https://localhost:8080/",
     "height": 549
    },
    "colab_type": "code",
    "id": "vq7n8iiv2Az9",
    "outputId": "d459d0b2-c6d7-408f-a747-6a528ec15e50"
   },
   "outputs": [
    {
     "data": {
      "text/html": [
       "<div>\n",
       "<style scoped>\n",
       "    .dataframe tbody tr th:only-of-type {\n",
       "        vertical-align: middle;\n",
       "    }\n",
       "\n",
       "    .dataframe tbody tr th {\n",
       "        vertical-align: top;\n",
       "    }\n",
       "\n",
       "    .dataframe thead th {\n",
       "        text-align: right;\n",
       "    }\n",
       "</style>\n",
       "<table border=\"1\" class=\"dataframe\">\n",
       "  <thead>\n",
       "    <tr style=\"text-align: right;\">\n",
       "      <th></th>\n",
       "      <th>supplier</th>\n",
       "      <th>annual_usage</th>\n",
       "      <th>min_order_quantity</th>\n",
       "      <th>bracket_pricing</th>\n",
       "      <th>quantity</th>\n",
       "      <th>cost</th>\n",
       "      <th>quote_date_year</th>\n",
       "      <th>quote_date_month</th>\n",
       "      <th>material_id</th>\n",
       "      <th>diameter</th>\n",
       "      <th>wall</th>\n",
       "      <th>length</th>\n",
       "      <th>num_bends</th>\n",
       "      <th>bend_radius</th>\n",
       "      <th>end_a_1x</th>\n",
       "      <th>end_a_2x</th>\n",
       "      <th>end_x_1x</th>\n",
       "      <th>end_x_2x</th>\n",
       "      <th>end_a</th>\n",
       "      <th>end_x</th>\n",
       "      <th>num_boss</th>\n",
       "      <th>num_bracket</th>\n",
       "      <th>other</th>\n",
       "    </tr>\n",
       "  </thead>\n",
       "  <tbody>\n",
       "    <tr>\n",
       "      <th>0</th>\n",
       "      <td>S-0066</td>\n",
       "      <td>0</td>\n",
       "      <td>0</td>\n",
       "      <td>Yes</td>\n",
       "      <td>1</td>\n",
       "      <td>21.972702</td>\n",
       "      <td>2013</td>\n",
       "      <td>7</td>\n",
       "      <td>SP-0019</td>\n",
       "      <td>6.35</td>\n",
       "      <td>0.71</td>\n",
       "      <td>137.0</td>\n",
       "      <td>9</td>\n",
       "      <td>19.05</td>\n",
       "      <td>N</td>\n",
       "      <td>N</td>\n",
       "      <td>N</td>\n",
       "      <td>N</td>\n",
       "      <td>EF-008</td>\n",
       "      <td>EF-008</td>\n",
       "      <td>0</td>\n",
       "      <td>0</td>\n",
       "      <td>0</td>\n",
       "    </tr>\n",
       "    <tr>\n",
       "      <th>1</th>\n",
       "      <td>S-0066</td>\n",
       "      <td>0</td>\n",
       "      <td>0</td>\n",
       "      <td>Yes</td>\n",
       "      <td>2</td>\n",
       "      <td>12.407983</td>\n",
       "      <td>2013</td>\n",
       "      <td>7</td>\n",
       "      <td>SP-0019</td>\n",
       "      <td>6.35</td>\n",
       "      <td>0.71</td>\n",
       "      <td>137.0</td>\n",
       "      <td>9</td>\n",
       "      <td>19.05</td>\n",
       "      <td>N</td>\n",
       "      <td>N</td>\n",
       "      <td>N</td>\n",
       "      <td>N</td>\n",
       "      <td>EF-008</td>\n",
       "      <td>EF-008</td>\n",
       "      <td>0</td>\n",
       "      <td>0</td>\n",
       "      <td>0</td>\n",
       "    </tr>\n",
       "    <tr>\n",
       "      <th>2</th>\n",
       "      <td>S-0066</td>\n",
       "      <td>0</td>\n",
       "      <td>0</td>\n",
       "      <td>Yes</td>\n",
       "      <td>5</td>\n",
       "      <td>6.668596</td>\n",
       "      <td>2013</td>\n",
       "      <td>7</td>\n",
       "      <td>SP-0019</td>\n",
       "      <td>6.35</td>\n",
       "      <td>0.71</td>\n",
       "      <td>137.0</td>\n",
       "      <td>9</td>\n",
       "      <td>19.05</td>\n",
       "      <td>N</td>\n",
       "      <td>N</td>\n",
       "      <td>N</td>\n",
       "      <td>N</td>\n",
       "      <td>EF-008</td>\n",
       "      <td>EF-008</td>\n",
       "      <td>0</td>\n",
       "      <td>0</td>\n",
       "      <td>0</td>\n",
       "    </tr>\n",
       "    <tr>\n",
       "      <th>3</th>\n",
       "      <td>S-0066</td>\n",
       "      <td>0</td>\n",
       "      <td>0</td>\n",
       "      <td>Yes</td>\n",
       "      <td>10</td>\n",
       "      <td>4.754539</td>\n",
       "      <td>2013</td>\n",
       "      <td>7</td>\n",
       "      <td>SP-0019</td>\n",
       "      <td>6.35</td>\n",
       "      <td>0.71</td>\n",
       "      <td>137.0</td>\n",
       "      <td>9</td>\n",
       "      <td>19.05</td>\n",
       "      <td>N</td>\n",
       "      <td>N</td>\n",
       "      <td>N</td>\n",
       "      <td>N</td>\n",
       "      <td>EF-008</td>\n",
       "      <td>EF-008</td>\n",
       "      <td>0</td>\n",
       "      <td>0</td>\n",
       "      <td>0</td>\n",
       "    </tr>\n",
       "    <tr>\n",
       "      <th>4</th>\n",
       "      <td>S-0066</td>\n",
       "      <td>0</td>\n",
       "      <td>0</td>\n",
       "      <td>Yes</td>\n",
       "      <td>25</td>\n",
       "      <td>3.608331</td>\n",
       "      <td>2013</td>\n",
       "      <td>7</td>\n",
       "      <td>SP-0019</td>\n",
       "      <td>6.35</td>\n",
       "      <td>0.71</td>\n",
       "      <td>137.0</td>\n",
       "      <td>9</td>\n",
       "      <td>19.05</td>\n",
       "      <td>N</td>\n",
       "      <td>N</td>\n",
       "      <td>N</td>\n",
       "      <td>N</td>\n",
       "      <td>EF-008</td>\n",
       "      <td>EF-008</td>\n",
       "      <td>0</td>\n",
       "      <td>0</td>\n",
       "      <td>0</td>\n",
       "    </tr>\n",
       "    <tr>\n",
       "      <th>5</th>\n",
       "      <td>S-0066</td>\n",
       "      <td>0</td>\n",
       "      <td>0</td>\n",
       "      <td>Yes</td>\n",
       "      <td>50</td>\n",
       "      <td>3.291176</td>\n",
       "      <td>2013</td>\n",
       "      <td>7</td>\n",
       "      <td>SP-0019</td>\n",
       "      <td>6.35</td>\n",
       "      <td>0.71</td>\n",
       "      <td>137.0</td>\n",
       "      <td>9</td>\n",
       "      <td>19.05</td>\n",
       "      <td>N</td>\n",
       "      <td>N</td>\n",
       "      <td>N</td>\n",
       "      <td>N</td>\n",
       "      <td>EF-008</td>\n",
       "      <td>EF-008</td>\n",
       "      <td>0</td>\n",
       "      <td>0</td>\n",
       "      <td>0</td>\n",
       "    </tr>\n",
       "    <tr>\n",
       "      <th>6</th>\n",
       "      <td>S-0066</td>\n",
       "      <td>0</td>\n",
       "      <td>0</td>\n",
       "      <td>Yes</td>\n",
       "      <td>100</td>\n",
       "      <td>3.149291</td>\n",
       "      <td>2013</td>\n",
       "      <td>7</td>\n",
       "      <td>SP-0019</td>\n",
       "      <td>6.35</td>\n",
       "      <td>0.71</td>\n",
       "      <td>137.0</td>\n",
       "      <td>9</td>\n",
       "      <td>19.05</td>\n",
       "      <td>N</td>\n",
       "      <td>N</td>\n",
       "      <td>N</td>\n",
       "      <td>N</td>\n",
       "      <td>EF-008</td>\n",
       "      <td>EF-008</td>\n",
       "      <td>0</td>\n",
       "      <td>0</td>\n",
       "      <td>0</td>\n",
       "    </tr>\n",
       "    <tr>\n",
       "      <th>7</th>\n",
       "      <td>S-0066</td>\n",
       "      <td>0</td>\n",
       "      <td>0</td>\n",
       "      <td>Yes</td>\n",
       "      <td>250</td>\n",
       "      <td>3.065829</td>\n",
       "      <td>2013</td>\n",
       "      <td>7</td>\n",
       "      <td>SP-0019</td>\n",
       "      <td>6.35</td>\n",
       "      <td>0.71</td>\n",
       "      <td>137.0</td>\n",
       "      <td>9</td>\n",
       "      <td>19.05</td>\n",
       "      <td>N</td>\n",
       "      <td>N</td>\n",
       "      <td>N</td>\n",
       "      <td>N</td>\n",
       "      <td>EF-008</td>\n",
       "      <td>EF-008</td>\n",
       "      <td>0</td>\n",
       "      <td>0</td>\n",
       "      <td>0</td>\n",
       "    </tr>\n",
       "    <tr>\n",
       "      <th>8</th>\n",
       "      <td>S-0066</td>\n",
       "      <td>0</td>\n",
       "      <td>0</td>\n",
       "      <td>Yes</td>\n",
       "      <td>1</td>\n",
       "      <td>28.374220</td>\n",
       "      <td>2013</td>\n",
       "      <td>9</td>\n",
       "      <td>SP-0029</td>\n",
       "      <td>19.05</td>\n",
       "      <td>1.24</td>\n",
       "      <td>109.0</td>\n",
       "      <td>4</td>\n",
       "      <td>50.80</td>\n",
       "      <td>N</td>\n",
       "      <td>N</td>\n",
       "      <td>N</td>\n",
       "      <td>N</td>\n",
       "      <td>EF-003</td>\n",
       "      <td>EF-003</td>\n",
       "      <td>0</td>\n",
       "      <td>0</td>\n",
       "      <td>0</td>\n",
       "    </tr>\n",
       "    <tr>\n",
       "      <th>9</th>\n",
       "      <td>S-0066</td>\n",
       "      <td>0</td>\n",
       "      <td>0</td>\n",
       "      <td>Yes</td>\n",
       "      <td>2</td>\n",
       "      <td>16.514303</td>\n",
       "      <td>2013</td>\n",
       "      <td>9</td>\n",
       "      <td>SP-0029</td>\n",
       "      <td>19.05</td>\n",
       "      <td>1.24</td>\n",
       "      <td>109.0</td>\n",
       "      <td>4</td>\n",
       "      <td>50.80</td>\n",
       "      <td>N</td>\n",
       "      <td>N</td>\n",
       "      <td>N</td>\n",
       "      <td>N</td>\n",
       "      <td>EF-003</td>\n",
       "      <td>EF-003</td>\n",
       "      <td>0</td>\n",
       "      <td>0</td>\n",
       "      <td>0</td>\n",
       "    </tr>\n",
       "  </tbody>\n",
       "</table>\n",
       "</div>"
      ],
      "text/plain": [
       "  supplier  annual_usage  min_order_quantity  ... num_boss  num_bracket  other\n",
       "0   S-0066             0                   0  ...        0            0      0\n",
       "1   S-0066             0                   0  ...        0            0      0\n",
       "2   S-0066             0                   0  ...        0            0      0\n",
       "3   S-0066             0                   0  ...        0            0      0\n",
       "4   S-0066             0                   0  ...        0            0      0\n",
       "5   S-0066             0                   0  ...        0            0      0\n",
       "6   S-0066             0                   0  ...        0            0      0\n",
       "7   S-0066             0                   0  ...        0            0      0\n",
       "8   S-0066             0                   0  ...        0            0      0\n",
       "9   S-0066             0                   0  ...        0            0      0\n",
       "\n",
       "[10 rows x 23 columns]"
      ]
     },
     "execution_count": 105,
     "metadata": {
      "tags": []
     },
     "output_type": "execute_result"
    }
   ],
   "source": [
    "train_wrangled.head(10)"
   ]
  },
  {
   "cell_type": "code",
   "execution_count": 0,
   "metadata": {
    "colab": {
     "base_uri": "https://localhost:8080/",
     "height": 34
    },
    "colab_type": "code",
    "id": "apRFJbr02aD9",
    "outputId": "b83ca1ab-ef17-483b-8a23-13dd8f12442d"
   },
   "outputs": [
    {
     "data": {
      "text/plain": [
       "0.3071425826783341"
      ]
     },
     "execution_count": 106,
     "metadata": {
      "tags": []
     },
     "output_type": "execute_result"
    }
   ],
   "source": [
    "X_train = train_wrangled.drop(columns=target)\n",
    "X_val = val_wrangled.drop(columns=target)\n",
    "\n",
    "pipeline = make_pipeline(\n",
    "    ce.OrdinalEncoder(), \n",
    "    RandomForestRegressor(n_estimators=100, random_state=42, n_jobs=-1)\n",
    ")\n",
    "\n",
    "pipeline.fit(X_train, y_train_log)\n",
    "y_pred_log = pipeline.predict(X_val)\n",
    "rmse(y_val_log, y_pred_log)"
   ]
  },
  {
   "cell_type": "code",
   "execution_count": 0,
   "metadata": {
    "colab": {
     "base_uri": "https://localhost:8080/",
     "height": 34
    },
    "colab_type": "code",
    "id": "wUutn0p82nOM",
    "outputId": "6f799a4f-79a7-4ce1-c436-a3ba0d534034"
   },
   "outputs": [
    {
     "data": {
      "text/plain": [
       "True"
      ]
     },
     "execution_count": 107,
     "metadata": {
      "tags": []
     },
     "output_type": "execute_result"
    }
   ],
   "source": [
    "test_wrangled = wrangle(test)\n",
    "X_test = test_wrangled.drop(columns='id')\n",
    "all(X_test.columns == X_train.columns)"
   ]
  },
  {
   "cell_type": "code",
   "execution_count": 0,
   "metadata": {
    "colab": {},
    "colab_type": "code",
    "id": "h2zwgsoA2vXT"
   },
   "outputs": [],
   "source": [
    "y_pred_log = pipeline.predict(X_test)\n",
    "y_pred = np.expm1(y_pred_log)\n",
    "\n",
    "sample_submission = pd.read_csv('sample_submission.csv')\n",
    "submission = sample_submission.copy()\n",
    "submission['cost'] = y_pred\n",
    "submission.to_csv('submission-01.csv', index=False)"
   ]
  },
  {
   "cell_type": "markdown",
   "metadata": {
    "colab_type": "text",
    "id": "yGJGifFIHL7M"
   },
   "source": [
    "# Assignment\n",
    "- Start a clean notebook.\n",
    "- Get the [Caterpillar data from Kaggle](https://www.kaggle.com/c/caterpillar-tube-pricing/data).\n",
    "- Do train/validate/test split.\n",
    "- Select features from `train_set.csv`, `tube.csv`, and at least one more file.\n",
    "- Fit a model.\n",
    "- Get your validation RMSLE (or RMSE with log-transformed targets).\n",
    "- [Submit](https://www.kaggle.com/c/caterpillar-tube-pricing/submit) your predictions to the Kaggle competition.\n",
    "- Commit your notebook to your fork of the GitHub repo.\n",
    "\n",
    "## Stretch Goals\n",
    "- Improve your scores on Kaggle.\n",
    "- Make visualizations and share on Slack.\n",
    "- Look at [Kaggle Kernels](https://www.kaggle.com/c/caterpillar-tube-pricing/kernels) for ideas about feature engineering and visualization.\n",
    "\n",
    "Read [Better Explained](https://betterexplained.com/) Exponents & Logs series:\n",
    "\n",
    "1. [An Intuitive Guide To Exponential Functions & e](https://betterexplained.com/articles/an-intuitive-guide-to-exponential-functions-e/)\n",
    "2. [Demystifying the Natural Logarithm (ln)](https://betterexplained.com/articles/demystifying-the-natural-logarithm-ln/)\n",
    "3. [A Visual Guide to Simple, Compound and Continuous Interest Rates](https://betterexplained.com/articles/a-visual-guide-to-simple-compound-and-continuous-interest-rates/)\n",
    "4. [Common Definitions of e (Colorized)](https://betterexplained.com/articles/definitions-of-e-colorized/)\n",
    "5. [Understanding Exponents (Why does 0^0 = 1?)](https://betterexplained.com/articles/understanding-exponents-why-does-00-1/)\n",
    "6. [Using Logarithms in the Real World](https://betterexplained.com/articles/using-logs-in-the-real-world/)\n",
    "7. [How To Think With Exponents And Logarithms](https://betterexplained.com/articles/think-with-exponents/)\n",
    "8. [Understanding Discrete vs. Continuous Growth](https://betterexplained.com/articles/understanding-discrete-vs-continuous-growth/)\n",
    "9. [What does an exponent really mean?](https://betterexplained.com/articles/what-does-an-exponent-mean/)\n",
    "10. [Q: Why is e special? (2.718..., not 2, 3.7 or another number?)](https://betterexplained.com/articles/q-why-is-e-special-2-718-not-other-number/)"
   ]
  }
 ],
 "metadata": {
  "colab": {
   "collapsed_sections": [
    "oHzoyXgcHL6u",
    "Om5LVgmqHL6v"
   ],
   "name": "DS5_log_linear_regression.ipynb",
   "provenance": [],
   "version": "0.3.2"
  },
  "kernelspec": {
   "display_name": "Python 3",
   "language": "python",
   "name": "python3"
  },
  "language_info": {
   "codemirror_mode": {
    "name": "ipython",
    "version": 3
   },
   "file_extension": ".py",
   "mimetype": "text/x-python",
   "name": "python",
   "nbconvert_exporter": "python",
   "pygments_lexer": "ipython3",
   "version": "3.7.3"
  }
 },
 "nbformat": 4,
 "nbformat_minor": 1
}
