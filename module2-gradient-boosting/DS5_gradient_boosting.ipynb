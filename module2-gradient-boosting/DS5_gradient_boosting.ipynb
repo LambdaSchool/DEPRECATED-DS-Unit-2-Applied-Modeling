{
  "nbformat": 4,
  "nbformat_minor": 0,
  "metadata": {
    "colab": {
      "name": "DS5_gradient_boosting.ipynb",
      "version": "0.3.2",
      "provenance": [],
      "collapsed_sections": []
    },
    "kernelspec": {
      "display_name": "Python 3",
      "language": "python",
      "name": "python3"
    },
    "language_info": {
      "codemirror_mode": {
        "name": "ipython",
        "version": 3
      },
      "file_extension": ".py",
      "mimetype": "text/x-python",
      "name": "python",
      "nbconvert_exporter": "python",
      "pygments_lexer": "ipython3",
      "version": "3.7.1"
    }
  },
  "cells": [
    {
      "cell_type": "markdown",
      "metadata": {
        "colab_type": "text",
        "id": "mLjlSwVGRli8"
      },
      "source": [
        "_Lambda School Data Science — Applied Modeling_ \n",
        "\n",
        "This sprint, your project is Caterpillar Tube Pricing: Predict the prices suppliers will quote for industrial tube assemblies.\n",
        "\n",
        "# Gradient Boosting\n",
        "\n",
        "\n",
        "#### Objectives\n",
        "- Do feature engineering with relational data\n",
        "- Use xgboost for gradient boosting"
      ]
    },
    {
      "cell_type": "markdown",
      "metadata": {
        "id": "50IkefI8g8RJ",
        "colab_type": "text"
      },
      "source": [
        "#### Try Tree Ensembles when you do machine learning with labeled, tabular data\n",
        "- \"Tree Ensembles\" means Random Forest or **Gradient Boosting** models. \n",
        "- [Tree Ensembles often have the best predictive accuracy](https://arxiv.org/abs/1708.05070) with labeled, tabular data.\n",
        "- Why? Because trees can fit non-linear, non-[monotonic](https://en.wikipedia.org/wiki/Monotonic_function) relationships, and [interactions](https://christophm.github.io/interpretable-ml-book/interaction.html) between features.\n",
        "- A single decision tree, grown to unlimited depth, will [overfit](http://www.r2d3.us/visual-intro-to-machine-learning-part-1/). We solve this problem by ensembling trees, with bagging (Random Forest) or **[boosting](https://www.youtube.com/watch?v=GM3CDQfQ4sw)** (Gradient Boosting).\n",
        "- Random Forest's advantage: may be less sensitive to hyperparameters. **Gradient Boosting's advantage:** may get better predictive accuracy."
      ]
    },
    {
      "cell_type": "markdown",
      "metadata": {
        "colab_type": "text",
        "id": "Lxo6A73ERli-"
      },
      "source": [
        "#### Python libraries for Gradient Boosting\n",
        "- [scikit-learn Gradient Tree Boosting](https://scikit-learn.org/stable/modules/ensemble.html#gradient-boosting) — slower than other libraries, but [the new version may be better](https://twitter.com/amuellerml/status/1129443826945396737)\n",
        "  - Anaconda: already installed\n",
        "  - Google Colab: already installed\n",
        "- [xgboost](https://xgboost.readthedocs.io/en/latest/) — can accept missing values and enforce [monotonic constraints](https://xiaoxiaowang87.github.io/monotonicity_constraint/)\n",
        "  - Anaconda, Mac/Linux: `conda install -c conda-forge xgboost`\n",
        "  - Windows: `conda install -c anaconda py-xgboost`\n",
        "  - Google Colab: already installed\n",
        "- [LightGBM](https://lightgbm.readthedocs.io/en/latest/) — can accept missing values and enforce [monotonic constraints](https://blog.datadive.net/monotonicity-constraints-in-machine-learning/)\n",
        "  - Anaconda: `conda install -c conda-forge lightgbm`\n",
        "  - Google Colab: already installed\n",
        "- [CatBoost](https://catboost.ai/) — can accept missing values and use [categorical features](https://catboost.ai/docs/concepts/algorithm-main-stages_cat-to-numberic.html) without preprocessing\n",
        "  - Anaconda: `conda install -c conda-forge catboost`\n",
        "  - Google Colab: `pip install catboost`"
      ]
    },
    {
      "cell_type": "markdown",
      "metadata": {
        "colab_type": "text",
        "id": "S3mx5xMnRli_"
      },
      "source": [
        "### Get data\n",
        "\n",
        "\n",
        "#### Option 1. Kaggle web UI\n",
        " \n",
        "Sign in to Kaggle and go to the [Caterpillar Tube Pricing](https://www.kaggle.com/c/caterpillar-tube-pricing) competition. Go to the Data page. After you have accepted the rules of the competition, use the download buttons to download the data.\n",
        "\n",
        "\n",
        "#### Option 2. Kaggle API\n",
        "\n",
        "Follow these [instructions](https://github.com/Kaggle/kaggle-api).\n",
        "\n",
        "#### Option 3. GitHub Repo — LOCAL\n",
        "\n",
        "If you are working locally:\n",
        "\n",
        "1. Clone the [GitHub repo](https://github.com/LambdaSchool/DS-Unit-2-Applied-Modeling/tree/master/data/caterpillar) locally. The data is in the repo, so you don't need to download it separately.\n",
        "\n",
        "2. Unzip the file `caterpillar-tube-pricing.zip` which is in the data folder of your local repo.\n",
        "\n",
        "3. Unzip the file `data.zip`. \n",
        "\n",
        "4. Run the cell below to assign a constant named `SOURCE`, a string that points to the location of the data on your local machine. The rest of the code in the notebook will use this constant."
      ]
    },
    {
      "cell_type": "code",
      "metadata": {
        "colab_type": "code",
        "id": "4llRWHx4EI2q",
        "colab": {}
      },
      "source": [
        "SOURCE = '../data/caterpillar/caterpillar-tube-pricing/competition_data/'"
      ],
      "execution_count": 0,
      "outputs": []
    },
    {
      "cell_type": "markdown",
      "metadata": {
        "colab_type": "text",
        "id": "vvyyeP90FB65"
      },
      "source": [
        "#### Option 4. GitHub Repo — COLAB\n",
        "\n",
        "If you are working on Google Colab, uncomment and run these cells, to download the data, unzip it, and assign a constant that points to the location of the data."
      ]
    },
    {
      "cell_type": "code",
      "metadata": {
        "colab_type": "code",
        "id": "vzVWh6oGFZJb",
        "outputId": "63d91966-d1f8-4d1f-c7b1-13ae889ee322",
        "colab": {
          "base_uri": "https://localhost:8080/",
          "height": 204
        }
      },
      "source": [
        "!wget https://raw.githubusercontent.com/LambdaSchool/DS-Unit-2-Applied-Modeling/master/data/caterpillar/caterpillar-tube-pricing.zip"
      ],
      "execution_count": 0,
      "outputs": [
        {
          "output_type": "stream",
          "text": [
            "--2019-07-23 16:08:21--  https://raw.githubusercontent.com/LambdaSchool/DS-Unit-2-Applied-Modeling/master/data/caterpillar/caterpillar-tube-pricing.zip\n",
            "Resolving raw.githubusercontent.com (raw.githubusercontent.com)... 151.101.0.133, 151.101.64.133, 151.101.128.133, ...\n",
            "Connecting to raw.githubusercontent.com (raw.githubusercontent.com)|151.101.0.133|:443... connected.\n",
            "HTTP request sent, awaiting response... 200 OK\n",
            "Length: 823789 (804K) [application/zip]\n",
            "Saving to: ‘caterpillar-tube-pricing.zip.3’\n",
            "\n",
            "\r          caterpill   0%[                    ]       0  --.-KB/s               \rcaterpillar-tube-pr 100%[===================>] 804.48K  --.-KB/s    in 0.04s   \n",
            "\n",
            "2019-07-23 16:08:21 (17.9 MB/s) - ‘caterpillar-tube-pricing.zip.3’ saved [823789/823789]\n",
            "\n"
          ],
          "name": "stdout"
        }
      ]
    },
    {
      "cell_type": "code",
      "metadata": {
        "colab_type": "code",
        "id": "1QG9BiopRljC",
        "outputId": "451f53ae-7ed3-4235-ed46-bde092e3d942",
        "colab": {
          "base_uri": "https://localhost:8080/",
          "height": 85
        }
      },
      "source": [
        "!unzip caterpillar-tube-pricing.zip"
      ],
      "execution_count": 0,
      "outputs": [
        {
          "output_type": "stream",
          "text": [
            "Archive:  caterpillar-tube-pricing.zip\n",
            "replace sample_submission.csv? [y]es, [n]o, [A]ll, [N]one, [r]ename: A\n",
            "  inflating: sample_submission.csv   \n",
            "  inflating: data.zip                \n"
          ],
          "name": "stdout"
        }
      ]
    },
    {
      "cell_type": "code",
      "metadata": {
        "colab_type": "code",
        "id": "67Pz81FKRljE",
        "outputId": "d39cbf47-718f-476b-c5c5-a189c39ae4d2",
        "colab": {
          "base_uri": "https://localhost:8080/",
          "height": 408
        }
      },
      "source": [
        "!unzip data.zip"
      ],
      "execution_count": 0,
      "outputs": [
        {
          "output_type": "stream",
          "text": [
            "Archive:  data.zip\n",
            "replace competition_data/bill_of_materials.csv? [y]es, [n]o, [A]ll, [N]one, [r]ename: A\n",
            "  inflating: competition_data/bill_of_materials.csv  \n",
            "  inflating: competition_data/comp_adaptor.csv  \n",
            "  inflating: competition_data/comp_boss.csv  \n",
            "  inflating: competition_data/comp_elbow.csv  \n",
            "  inflating: competition_data/comp_float.csv  \n",
            "  inflating: competition_data/comp_hfl.csv  \n",
            "  inflating: competition_data/comp_nut.csv  \n",
            "  inflating: competition_data/comp_other.csv  \n",
            "  inflating: competition_data/comp_sleeve.csv  \n",
            "  inflating: competition_data/comp_straight.csv  \n",
            "  inflating: competition_data/comp_tee.csv  \n",
            "  inflating: competition_data/comp_threaded.csv  \n",
            "  inflating: competition_data/components.csv  \n",
            "  inflating: competition_data/specs.csv  \n",
            "  inflating: competition_data/test_set.csv  \n",
            "  inflating: competition_data/train_set.csv  \n",
            "  inflating: competition_data/tube.csv  \n",
            "  inflating: competition_data/tube_end_form.csv  \n",
            "  inflating: competition_data/type_component.csv  \n",
            "  inflating: competition_data/type_connection.csv  \n",
            "  inflating: competition_data/type_end_form.csv  \n"
          ],
          "name": "stdout"
        }
      ]
    },
    {
      "cell_type": "code",
      "metadata": {
        "colab_type": "code",
        "id": "mF8uDQ5wFSny",
        "colab": {}
      },
      "source": [
        "SOURCE = 'competition_data/'"
      ],
      "execution_count": 0,
      "outputs": []
    },
    {
      "cell_type": "markdown",
      "metadata": {
        "colab_type": "text",
        "id": "6_ZDsGjVRljF"
      },
      "source": [
        "## Do feature engineering with relational data\n",
        "\n",
        "Here are some questions — not answers!\n",
        "\n",
        "### `bill_of_materials`\n",
        "\n",
        "is formatted like this:"
      ]
    },
    {
      "cell_type": "code",
      "metadata": {
        "colab_type": "code",
        "id": "opLig3sDRljG",
        "outputId": "d8e39e65-30cd-4abc-aab6-ff00dd645340",
        "colab": {
          "base_uri": "https://localhost:8080/",
          "height": 224
        }
      },
      "source": [
        "import pandas as pd\n",
        "materials = pd.read_csv(SOURCE + 'bill_of_materials.csv')\n",
        "materials.head()"
      ],
      "execution_count": 0,
      "outputs": [
        {
          "output_type": "execute_result",
          "data": {
            "text/html": [
              "<div>\n",
              "<style scoped>\n",
              "    .dataframe tbody tr th:only-of-type {\n",
              "        vertical-align: middle;\n",
              "    }\n",
              "\n",
              "    .dataframe tbody tr th {\n",
              "        vertical-align: top;\n",
              "    }\n",
              "\n",
              "    .dataframe thead th {\n",
              "        text-align: right;\n",
              "    }\n",
              "</style>\n",
              "<table border=\"1\" class=\"dataframe\">\n",
              "  <thead>\n",
              "    <tr style=\"text-align: right;\">\n",
              "      <th></th>\n",
              "      <th>tube_assembly_id</th>\n",
              "      <th>component_id_1</th>\n",
              "      <th>quantity_1</th>\n",
              "      <th>component_id_2</th>\n",
              "      <th>quantity_2</th>\n",
              "      <th>component_id_3</th>\n",
              "      <th>quantity_3</th>\n",
              "      <th>component_id_4</th>\n",
              "      <th>quantity_4</th>\n",
              "      <th>component_id_5</th>\n",
              "      <th>quantity_5</th>\n",
              "      <th>component_id_6</th>\n",
              "      <th>quantity_6</th>\n",
              "      <th>component_id_7</th>\n",
              "      <th>quantity_7</th>\n",
              "      <th>component_id_8</th>\n",
              "      <th>quantity_8</th>\n",
              "    </tr>\n",
              "  </thead>\n",
              "  <tbody>\n",
              "    <tr>\n",
              "      <th>0</th>\n",
              "      <td>TA-00001</td>\n",
              "      <td>C-1622</td>\n",
              "      <td>2.0</td>\n",
              "      <td>C-1629</td>\n",
              "      <td>2.0</td>\n",
              "      <td>NaN</td>\n",
              "      <td>NaN</td>\n",
              "      <td>NaN</td>\n",
              "      <td>NaN</td>\n",
              "      <td>NaN</td>\n",
              "      <td>NaN</td>\n",
              "      <td>NaN</td>\n",
              "      <td>NaN</td>\n",
              "      <td>NaN</td>\n",
              "      <td>NaN</td>\n",
              "      <td>NaN</td>\n",
              "      <td>NaN</td>\n",
              "    </tr>\n",
              "    <tr>\n",
              "      <th>1</th>\n",
              "      <td>TA-00002</td>\n",
              "      <td>C-1312</td>\n",
              "      <td>2.0</td>\n",
              "      <td>NaN</td>\n",
              "      <td>NaN</td>\n",
              "      <td>NaN</td>\n",
              "      <td>NaN</td>\n",
              "      <td>NaN</td>\n",
              "      <td>NaN</td>\n",
              "      <td>NaN</td>\n",
              "      <td>NaN</td>\n",
              "      <td>NaN</td>\n",
              "      <td>NaN</td>\n",
              "      <td>NaN</td>\n",
              "      <td>NaN</td>\n",
              "      <td>NaN</td>\n",
              "      <td>NaN</td>\n",
              "    </tr>\n",
              "    <tr>\n",
              "      <th>2</th>\n",
              "      <td>TA-00003</td>\n",
              "      <td>C-1312</td>\n",
              "      <td>2.0</td>\n",
              "      <td>NaN</td>\n",
              "      <td>NaN</td>\n",
              "      <td>NaN</td>\n",
              "      <td>NaN</td>\n",
              "      <td>NaN</td>\n",
              "      <td>NaN</td>\n",
              "      <td>NaN</td>\n",
              "      <td>NaN</td>\n",
              "      <td>NaN</td>\n",
              "      <td>NaN</td>\n",
              "      <td>NaN</td>\n",
              "      <td>NaN</td>\n",
              "      <td>NaN</td>\n",
              "      <td>NaN</td>\n",
              "    </tr>\n",
              "    <tr>\n",
              "      <th>3</th>\n",
              "      <td>TA-00004</td>\n",
              "      <td>C-1312</td>\n",
              "      <td>2.0</td>\n",
              "      <td>NaN</td>\n",
              "      <td>NaN</td>\n",
              "      <td>NaN</td>\n",
              "      <td>NaN</td>\n",
              "      <td>NaN</td>\n",
              "      <td>NaN</td>\n",
              "      <td>NaN</td>\n",
              "      <td>NaN</td>\n",
              "      <td>NaN</td>\n",
              "      <td>NaN</td>\n",
              "      <td>NaN</td>\n",
              "      <td>NaN</td>\n",
              "      <td>NaN</td>\n",
              "      <td>NaN</td>\n",
              "    </tr>\n",
              "    <tr>\n",
              "      <th>4</th>\n",
              "      <td>TA-00005</td>\n",
              "      <td>C-1624</td>\n",
              "      <td>1.0</td>\n",
              "      <td>C-1631</td>\n",
              "      <td>1.0</td>\n",
              "      <td>C-1641</td>\n",
              "      <td>1.0</td>\n",
              "      <td>NaN</td>\n",
              "      <td>NaN</td>\n",
              "      <td>NaN</td>\n",
              "      <td>NaN</td>\n",
              "      <td>NaN</td>\n",
              "      <td>NaN</td>\n",
              "      <td>NaN</td>\n",
              "      <td>NaN</td>\n",
              "      <td>NaN</td>\n",
              "      <td>NaN</td>\n",
              "    </tr>\n",
              "  </tbody>\n",
              "</table>\n",
              "</div>"
            ],
            "text/plain": [
              "  tube_assembly_id component_id_1  ...  component_id_8 quantity_8\n",
              "0         TA-00001         C-1622  ...             NaN        NaN\n",
              "1         TA-00002         C-1312  ...             NaN        NaN\n",
              "2         TA-00003         C-1312  ...             NaN        NaN\n",
              "3         TA-00004         C-1312  ...             NaN        NaN\n",
              "4         TA-00005         C-1624  ...             NaN        NaN\n",
              "\n",
              "[5 rows x 17 columns]"
            ]
          },
          "metadata": {
            "tags": []
          },
          "execution_count": 6
        }
      ]
    },
    {
      "cell_type": "markdown",
      "metadata": {
        "colab_type": "text",
        "id": "7_nd_BN1RljI"
      },
      "source": [
        "#### Would this be a better representation?\n",
        "\n",
        "Could pandas melt, crosstab, and other functions help reshape the data like this?"
      ]
    },
    {
      "cell_type": "markdown",
      "metadata": {
        "colab_type": "text",
        "id": "DKgBu-T2RljI"
      },
      "source": [
        "| Crosstab | C-1622 | C-1629 | C-1312 | C-1624 | C-1631 | C-1641 | Distinct | Total |\n",
        "|:--------:|:------:|--------|--------|--------|--------|--------|----------|-------|\n",
        "| TA-00001 | 2      | 2      | 0      | 0      | 0      | 0      | 2        | 4     |\n",
        "| TA-00002 | 0      | 0      | 2      | 0      | 0      | 0      | 1        | 2     |\n",
        "| TA-00003 | 0      | 0      | 2      | 0      | 0      | 0      | 1        | 2     |\n",
        "| TA-00004 | 0      | 0      | 2      | 0      | 0      | 0      | 1        | 2     |\n",
        "| TA-00005 | 0      | 0      | 0      | 1      | 1      | 1      | 3        | 3     |"
      ]
    },
    {
      "cell_type": "markdown",
      "metadata": {
        "colab_type": "text",
        "id": "5fBGv8CIRljJ"
      },
      "source": [
        "### `components`\n",
        "\n",
        "Contains three representations of each component, in order of decreasing cardinality / granularity:\n",
        "\n",
        "- `component_id`\n",
        "- `name`\n",
        "- `component_type_id`\n",
        "\n",
        "What are the pros & cons of these different representations?"
      ]
    },
    {
      "cell_type": "code",
      "metadata": {
        "colab_type": "code",
        "id": "gkj_leYyRljJ",
        "outputId": "232a9705-f661-4d68-c260-eef35128e8a2",
        "colab": {
          "base_uri": "https://localhost:8080/",
          "height": 173
        }
      },
      "source": [
        "components = pd.read_csv(SOURCE + 'components.csv')\n",
        "components.describe()"
      ],
      "execution_count": 0,
      "outputs": [
        {
          "output_type": "execute_result",
          "data": {
            "text/html": [
              "<div>\n",
              "<style scoped>\n",
              "    .dataframe tbody tr th:only-of-type {\n",
              "        vertical-align: middle;\n",
              "    }\n",
              "\n",
              "    .dataframe tbody tr th {\n",
              "        vertical-align: top;\n",
              "    }\n",
              "\n",
              "    .dataframe thead th {\n",
              "        text-align: right;\n",
              "    }\n",
              "</style>\n",
              "<table border=\"1\" class=\"dataframe\">\n",
              "  <thead>\n",
              "    <tr style=\"text-align: right;\">\n",
              "      <th></th>\n",
              "      <th>component_id</th>\n",
              "      <th>name</th>\n",
              "      <th>component_type_id</th>\n",
              "    </tr>\n",
              "  </thead>\n",
              "  <tbody>\n",
              "    <tr>\n",
              "      <th>count</th>\n",
              "      <td>2048</td>\n",
              "      <td>2047</td>\n",
              "      <td>2048</td>\n",
              "    </tr>\n",
              "    <tr>\n",
              "      <th>unique</th>\n",
              "      <td>2048</td>\n",
              "      <td>297</td>\n",
              "      <td>29</td>\n",
              "    </tr>\n",
              "    <tr>\n",
              "      <th>top</th>\n",
              "      <td>C-1288</td>\n",
              "      <td>FLANGE</td>\n",
              "      <td>OTHER</td>\n",
              "    </tr>\n",
              "    <tr>\n",
              "      <th>freq</th>\n",
              "      <td>1</td>\n",
              "      <td>350</td>\n",
              "      <td>1006</td>\n",
              "    </tr>\n",
              "  </tbody>\n",
              "</table>\n",
              "</div>"
            ],
            "text/plain": [
              "       component_id    name component_type_id\n",
              "count          2048    2047              2048\n",
              "unique         2048     297                29\n",
              "top          C-1288  FLANGE             OTHER\n",
              "freq              1     350              1006"
            ]
          },
          "metadata": {
            "tags": []
          },
          "execution_count": 7
        }
      ]
    },
    {
      "cell_type": "code",
      "metadata": {
        "colab_type": "code",
        "id": "cNowF5PvV1wH",
        "outputId": "3711aa36-0217-48b9-cca8-6dda7e2e626f",
        "colab": {
          "base_uri": "https://localhost:8080/",
          "height": 204
        }
      },
      "source": [
        "components.head()"
      ],
      "execution_count": 0,
      "outputs": [
        {
          "output_type": "execute_result",
          "data": {
            "text/html": [
              "<div>\n",
              "<style scoped>\n",
              "    .dataframe tbody tr th:only-of-type {\n",
              "        vertical-align: middle;\n",
              "    }\n",
              "\n",
              "    .dataframe tbody tr th {\n",
              "        vertical-align: top;\n",
              "    }\n",
              "\n",
              "    .dataframe thead th {\n",
              "        text-align: right;\n",
              "    }\n",
              "</style>\n",
              "<table border=\"1\" class=\"dataframe\">\n",
              "  <thead>\n",
              "    <tr style=\"text-align: right;\">\n",
              "      <th></th>\n",
              "      <th>component_id</th>\n",
              "      <th>name</th>\n",
              "      <th>component_type_id</th>\n",
              "    </tr>\n",
              "  </thead>\n",
              "  <tbody>\n",
              "    <tr>\n",
              "      <th>0</th>\n",
              "      <td>9999</td>\n",
              "      <td>OTHER</td>\n",
              "      <td>OTHER</td>\n",
              "    </tr>\n",
              "    <tr>\n",
              "      <th>1</th>\n",
              "      <td>C-0001</td>\n",
              "      <td>SLEEVE</td>\n",
              "      <td>CP-024</td>\n",
              "    </tr>\n",
              "    <tr>\n",
              "      <th>2</th>\n",
              "      <td>C-0002</td>\n",
              "      <td>SLEEVE</td>\n",
              "      <td>CP-024</td>\n",
              "    </tr>\n",
              "    <tr>\n",
              "      <th>3</th>\n",
              "      <td>C-0003</td>\n",
              "      <td>SLEEVE-FLARED</td>\n",
              "      <td>CP-024</td>\n",
              "    </tr>\n",
              "    <tr>\n",
              "      <th>4</th>\n",
              "      <td>C-0004</td>\n",
              "      <td>NUT</td>\n",
              "      <td>CP-026</td>\n",
              "    </tr>\n",
              "  </tbody>\n",
              "</table>\n",
              "</div>"
            ],
            "text/plain": [
              "  component_id           name component_type_id\n",
              "0         9999          OTHER             OTHER\n",
              "1       C-0001         SLEEVE            CP-024\n",
              "2       C-0002         SLEEVE            CP-024\n",
              "3       C-0003  SLEEVE-FLARED            CP-024\n",
              "4       C-0004            NUT            CP-026"
            ]
          },
          "metadata": {
            "tags": []
          },
          "execution_count": 8
        }
      ]
    },
    {
      "cell_type": "markdown",
      "metadata": {
        "colab_type": "text",
        "id": "ZGzxHS-yId5U"
      },
      "source": [
        "### Tip/trick: Want to read all the files at once?"
      ]
    },
    {
      "cell_type": "code",
      "metadata": {
        "colab_type": "code",
        "id": "QuektlLMY-hu",
        "colab": {}
      },
      "source": [
        "from glob import glob\n",
        "\n",
        "data = {}\n",
        "for path in glob(SOURCE + '*.csv'):\n",
        "    df = pd.read_csv(path)\n",
        "    filename = path.split('/')[-1]\n",
        "    name = filename.split('.')[0]\n",
        "    data[name] = df"
      ],
      "execution_count": 0,
      "outputs": []
    },
    {
      "cell_type": "markdown",
      "metadata": {
        "colab_type": "text",
        "id": "NspIenHYRljL"
      },
      "source": [
        "## Example solution for last assignment 🚜"
      ]
    },
    {
      "cell_type": "code",
      "metadata": {
        "colab_type": "code",
        "id": "nxhNfQLlRljL",
        "colab": {}
      },
      "source": [
        "!pip install category_encoders"
      ],
      "execution_count": 0,
      "outputs": []
    },
    {
      "cell_type": "code",
      "metadata": {
        "colab_type": "code",
        "id": "sJB9x5GcRljN",
        "colab": {}
      },
      "source": [
        "import category_encoders as ce\n",
        "import pandas as pd\n",
        "import numpy as np\n",
        "from sklearn.ensemble import RandomForestRegressor\n",
        "from sklearn.metrics import mean_squared_error, mean_squared_log_error\n",
        "from sklearn.model_selection import train_test_split\n",
        "from sklearn.pipeline import make_pipeline\n",
        "\n",
        "def rmse(y_true, y_pred):\n",
        "    return np.sqrt(mean_squared_error(y_true, y_pred))\n",
        "\n",
        "def rmsle(y_true, y_pred):\n",
        "    return np.sqrt(mean_squared_log_error(y_true, y_pred))\n",
        "\n",
        "def wrangle(X):\n",
        "    X = X.copy()\n",
        "    \n",
        "    # Engineer date features\n",
        "    X['quote_date'] = pd.to_datetime(X['quote_date'], infer_datetime_format=True)\n",
        "    X['quote_date_year'] = X['quote_date'].dt.year\n",
        "    X['quote_date_month'] = X['quote_date'].dt.month\n",
        "    X = X.drop(columns='quote_date')\n",
        "    \n",
        "    # Merge tube data\n",
        "    tube = pd.read_csv(SOURCE + 'tube.csv')\n",
        "    X = X.merge(tube, how='left')\n",
        "    \n",
        "    # Engineer features from bill_of_materials\n",
        "    materials = pd.read_csv(SOURCE + 'bill_of_materials.csv')\n",
        "    \n",
        "    materials['components_total'] = (materials['quantity_1'].fillna(0) + \n",
        "                                     materials['quantity_2'].fillna(0) + \n",
        "                                     materials['quantity_3'].fillna(0) + \n",
        "                                     materials['quantity_4'].fillna(0) + \n",
        "                                     materials['quantity_5'].fillna(0) + \n",
        "                                     materials['quantity_6'].fillna(0) + \n",
        "                                     materials['quantity_7'].fillna(0) + \n",
        "                                     materials['quantity_8'].fillna(0))\n",
        "\n",
        "    materials['components_distinct'] = (materials['component_id_1'].notnull().astype(int) + \n",
        "                                        materials['component_id_2'].notnull().astype(int) + \n",
        "                                        materials['component_id_3'].notnull().astype(int) + \n",
        "                                        materials['component_id_4'].notnull().astype(int) + \n",
        "                                        materials['component_id_5'].notnull().astype(int) + \n",
        "                                        materials['component_id_6'].notnull().astype(int) + \n",
        "                                        materials['component_id_7'].notnull().astype(int) + \n",
        "                                        materials['component_id_8'].notnull().astype(int))\n",
        "    \n",
        "    # Merge selected features from bill_of_materials\n",
        "    # Just use the first component_id, ignore the others for now!\n",
        "    features = ['tube_assembly_id', 'component_id_1', 'components_total', 'components_distinct']\n",
        "    X = X.merge(materials[features], how='left')\n",
        "    \n",
        "    # Get component_type_id (has lower cardinality than component_id)\n",
        "    components = pd.read_csv(SOURCE + 'components.csv')\n",
        "    components = components.rename(columns={'component_id': 'component_id_1'})\n",
        "    features = ['component_id_1', 'component_type_id']\n",
        "    X = X.merge(components[features], how='left')\n",
        "    \n",
        "    # Count the number of specs for the tube assembly\n",
        "    specs = pd.read_csv(SOURCE + 'specs.csv')\n",
        "    specs['specs_total'] = specs.drop(columns=['tube_assembly_id']).count(axis=1)\n",
        "    features = ['tube_assembly_id', 'specs_total', 'spec1']\n",
        "    X = X.merge(specs[features], how='left')\n",
        "    \n",
        "    # Drop tube_assembly_id because our goal is to predict unknown assemblies\n",
        "    X = X.drop(columns='tube_assembly_id')\n",
        "    \n",
        "    return X\n",
        "\n",
        "\n",
        "# Read data\n",
        "trainval = pd.read_csv(SOURCE + 'train_set.csv')\n",
        "test = pd.read_csv(SOURCE + 'test_set.csv')\n",
        "\n",
        "# Split into train & validation sets\n",
        "# All rows for a given tube_assembly_id should go in either train or validation\n",
        "trainval_tube_assemblies = trainval['tube_assembly_id'].unique()\n",
        "train_tube_assemblies, val_tube_assemblies = train_test_split(\n",
        "    trainval_tube_assemblies, random_state=42)\n",
        "train = trainval[trainval.tube_assembly_id.isin(train_tube_assemblies)]\n",
        "val = trainval[trainval.tube_assembly_id.isin(val_tube_assemblies)]\n",
        "\n",
        "# Wrangle train, validation, and test sets\n",
        "train = wrangle(train)\n",
        "val = wrangle(val)\n",
        "test = wrangle(test)\n",
        "\n",
        "# Arrange X matrix and y vector (log-transformed)\n",
        "target = 'cost'\n",
        "X_train = train.drop(columns=target)\n",
        "X_val = val.drop(columns=target)\n",
        "X_test = test.drop(columns='id')\n",
        "y_train = train[target]\n",
        "y_val = val[target]\n",
        "y_train_log = np.log1p(y_train)\n",
        "y_val_log = np.log1p(y_val)"
      ],
      "execution_count": 0,
      "outputs": []
    },
    {
      "cell_type": "code",
      "metadata": {
        "colab_type": "code",
        "id": "Vit53URnH6u4",
        "outputId": "2d07cad6-f7bd-424a-ed1e-040c9bc9851e",
        "colab": {
          "base_uri": "https://localhost:8080/",
          "height": 68
        }
      },
      "source": [
        "%%time\n",
        "\n",
        "# Make pipeline\n",
        "pipeline = make_pipeline(\n",
        "    ce.OrdinalEncoder(), \n",
        "    RandomForestRegressor(n_estimators=100, random_state=42, n_jobs=-1)\n",
        ")\n",
        "\n",
        "# Fit\n",
        "pipeline.fit(X_train, y_train_log)\n",
        "\n",
        "# Validate\n",
        "y_pred_log = pipeline.predict(X_val)\n",
        "print('Validation Error', rmse(y_val_log, y_pred_log))\n",
        "\n",
        "# Predict\n",
        "def generate_submission(estimator, X_test, filename):\n",
        "    y_pred_log = estimator.predict(X_test)\n",
        "    y_pred = np.expm1(y_pred_log)  # Convert from log-dollars to dollars\n",
        "    submission = pd.read_csv(SOURCE + '../sample_submission.csv')\n",
        "    submission['cost'] = y_pred\n",
        "    submission.to_csv(filename, index=False)\n",
        "    \n",
        "generate_submission(pipeline, X_test, 'submission-02.csv')"
      ],
      "execution_count": 0,
      "outputs": [
        {
          "output_type": "stream",
          "text": [
            "Validation Error 0.2958563668935705\n",
            "CPU times: user 20.3 s, sys: 187 ms, total: 20.5 s\n",
            "Wall time: 10.8 s\n"
          ],
          "name": "stdout"
        }
      ]
    },
    {
      "cell_type": "code",
      "metadata": {
        "colab_type": "code",
        "id": "OPnPE-xTRljP",
        "outputId": "726a3528-0ad5-468d-be7a-24cd240c4082",
        "colab": {
          "base_uri": "https://localhost:8080/",
          "height": 595
        }
      },
      "source": [
        "%matplotlib inline\n",
        "import matplotlib.pyplot as plt\n",
        "plt.figure(figsize=(10,10))\n",
        "rf = pipeline.named_steps['randomforestregressor']\n",
        "importances = pd.Series(rf.feature_importances_, X_train.columns)\n",
        "importances.sort_values().plot.barh(color='grey');"
      ],
      "execution_count": 0,
      "outputs": [
        {
          "output_type": "display_data",
          "data": {
            "image/png": "[encoded data removed]",
            "text/plain": [
              "<Figure size 720x720 with 1 Axes>"
            ]
          },
          "metadata": {
            "tags": []
          }
        }
      ]
    },
    {
      "cell_type": "markdown",
      "metadata": {
        "colab_type": "text",
        "id": "kKZh950URljR"
      },
      "source": [
        "## Use xgboost for gradient boosting\n",
        "\n",
        "#### [XGBoost Python API Reference: Scikit-Learn API](https://xgboost.readthedocs.io/en/latest/python/python_api.html#module-xgboost.sklearn)"
      ]
    },
    {
      "cell_type": "code",
      "metadata": {
        "colab_type": "code",
        "id": "ruupQ-TWjK6D",
        "outputId": "c218ef99-9a13-4861-eed9-2ccaa9228c52",
        "colab": {
          "base_uri": "https://localhost:8080/",
          "height": 34
        }
      },
      "source": [
        "import xgboost as xgb\n",
        "xgb.__version__"
      ],
      "execution_count": 0,
      "outputs": [
        {
          "output_type": "execute_result",
          "data": {
            "text/plain": [
              "'0.90'"
            ]
          },
          "metadata": {
            "tags": []
          },
          "execution_count": 23
        }
      ]
    },
    {
      "cell_type": "code",
      "metadata": {
        "id": "_XDvVLsb2HnD",
        "colab_type": "code",
        "outputId": "cd6d3e57-7bf2-4e5f-84c9-45225161dfb0",
        "colab": {
          "base_uri": "https://localhost:8080/",
          "height": 119
        }
      },
      "source": [
        "%%time\n",
        "\n",
        "from xgboost import XGBRegressor\n",
        "pipeline = make_pipeline(\n",
        "    ce.OrdinalEncoder(), \n",
        "    XGBRegressor(n_estimators=100, n_jobs=-1)\n",
        ")\n",
        "pipeline.fit(X_train, y_train_log)\n",
        "y_pred_log = pipeline.predict(X_val)\n",
        "print('Validation Error', rmse(y_val_log, y_pred_log))"
      ],
      "execution_count": 0,
      "outputs": [
        {
          "output_type": "stream",
          "text": [
            "/usr/local/lib/python3.6/dist-packages/xgboost/core.py:587: FutureWarning: Series.base is deprecated and will be removed in a future version\n",
            "  if getattr(data, 'base', None) is not None and \\\n"
          ],
          "name": "stderr"
        },
        {
          "output_type": "stream",
          "text": [
            "[17:21:44] WARNING: /workspace/src/objective/regression_obj.cu:152: reg:linear is now deprecated in favor of reg:squarederror.\n",
            "Validation Error 0.33353003763257383\n",
            "CPU times: user 2.87 s, sys: 17.4 ms, total: 2.89 s\n",
            "Wall time: 1.56 s\n"
          ],
          "name": "stdout"
        }
      ]
    },
    {
      "cell_type": "code",
      "metadata": {
        "id": "OeififCB2_nf",
        "colab_type": "code",
        "outputId": "081bbdfc-520e-45a9-9f89-8849e1c083b9",
        "colab": {
          "base_uri": "https://localhost:8080/",
          "height": 119
        }
      },
      "source": [
        "%%time\n",
        "\n",
        "pipeline = make_pipeline(\n",
        "    ce.OrdinalEncoder(), \n",
        "    XGBRegressor(n_estimators=1000, n_jobs=-1)\n",
        ")\n",
        "pipeline.fit(X_train, y_train_log)\n",
        "y_pred_log = pipeline.predict(X_val)\n",
        "print('Validation Error', rmse(y_val_log, y_pred_log))"
      ],
      "execution_count": 0,
      "outputs": [
        {
          "output_type": "stream",
          "text": [
            "/usr/local/lib/python3.6/dist-packages/xgboost/core.py:587: FutureWarning: Series.base is deprecated and will be removed in a future version\n",
            "  if getattr(data, 'base', None) is not None and \\\n"
          ],
          "name": "stderr"
        },
        {
          "output_type": "stream",
          "text": [
            "[17:24:24] WARNING: /workspace/src/objective/regression_obj.cu:152: reg:linear is now deprecated in favor of reg:squarederror.\n",
            "Validation Error 0.2700581596577784\n",
            "CPU times: user 28.1 s, sys: 52 ms, total: 28.1 s\n",
            "Wall time: 14.2 s\n"
          ],
          "name": "stdout"
        }
      ]
    },
    {
      "cell_type": "code",
      "metadata": {
        "id": "j9a-fQZz3YcV",
        "colab_type": "code",
        "colab": {}
      },
      "source": [
        "# Kaggle RMSLE: 0.29727\n",
        "generate_submission(pipeline, X_test, 'submission-03.csv')"
      ],
      "execution_count": 0,
      "outputs": []
    },
    {
      "cell_type": "markdown",
      "metadata": {
        "colab_type": "text",
        "id": "QnpC0mHzRljS"
      },
      "source": [
        "#### Jason Brownlee, [Avoid Overfitting By Early Stopping With XGBoost In Python](https://machinelearningmastery.com/avoid-overfitting-by-early-stopping-with-xgboost-in-python/)"
      ]
    },
    {
      "cell_type": "code",
      "metadata": {
        "colab_type": "code",
        "id": "qb_R5_8eRljT",
        "outputId": "20cded51-235a-4c1f-c7be-f4c46f02ca0f",
        "colab": {
          "base_uri": "https://localhost:8080/",
          "height": 1000
        }
      },
      "source": [
        "import category_encoders as ce\n",
        "from xgboost import XGBRegressor\n",
        "\n",
        "encoder = ce.OrdinalEncoder()\n",
        "X_train_encoded = encoder.fit_transform(X_train)\n",
        "X_val_encoded = encoder.transform(X_val)\n",
        "\n",
        "eval_set = [(X_train_encoded, y_train_log), \n",
        "            (X_val_encoded, y_val_log)]\n",
        "\n",
        "model = XGBRegressor(n_estimators=1000, n_jobs=-1)\n",
        "model.fit(X_train_encoded, y_train_log, \n",
        "          early_stopping_rounds=10, eval_metric='rmse', \n",
        "          eval_set=eval_set)"
      ],
      "execution_count": 0,
      "outputs": [
        {
          "output_type": "stream",
          "text": [
            "[17:41:26] WARNING: /workspace/src/objective/regression_obj.cu:152: reg:linear is now deprecated in favor of reg:squarederror.\n",
            "[0]\tvalidation_0-rmse:1.71924\tvalidation_1-rmse:1.70846\n",
            "Multiple eval metrics have been passed: 'validation_1-rmse' will be used for early stopping.\n",
            "\n",
            "Will train until validation_1-rmse hasn't improved in 10 rounds.\n",
            "[1]\tvalidation_0-rmse:1.56516\tvalidation_1-rmse:1.55498\n",
            "[2]\tvalidation_0-rmse:1.42779\tvalidation_1-rmse:1.41846\n",
            "[3]\tvalidation_0-rmse:1.30338\tvalidation_1-rmse:1.2943\n"
          ],
          "name": "stdout"
        },
        {
          "output_type": "stream",
          "text": [
            "/usr/local/lib/python3.6/dist-packages/xgboost/core.py:587: FutureWarning: Series.base is deprecated and will be removed in a future version\n",
            "  if getattr(data, 'base', None) is not None and \\\n"
          ],
          "name": "stderr"
        },
        {
          "output_type": "stream",
          "text": [
            "[4]\tvalidation_0-rmse:1.19168\tvalidation_1-rmse:1.18295\n",
            "[5]\tvalidation_0-rmse:1.09322\tvalidation_1-rmse:1.08553\n",
            "[6]\tvalidation_0-rmse:1.0052\tvalidation_1-rmse:0.997831\n",
            "[7]\tvalidation_0-rmse:0.927625\tvalidation_1-rmse:0.922043\n",
            "[8]\tvalidation_0-rmse:0.859916\tvalidation_1-rmse:0.857021\n",
            "[9]\tvalidation_0-rmse:0.799929\tvalidation_1-rmse:0.798434\n",
            "[10]\tvalidation_0-rmse:0.747475\tvalidation_1-rmse:0.747741\n",
            "[11]\tvalidation_0-rmse:0.700332\tvalidation_1-rmse:0.700594\n",
            "[12]\tvalidation_0-rmse:0.660555\tvalidation_1-rmse:0.662626\n",
            "[13]\tvalidation_0-rmse:0.623149\tvalidation_1-rmse:0.625612\n",
            "[14]\tvalidation_0-rmse:0.592345\tvalidation_1-rmse:0.5964\n",
            "[15]\tvalidation_0-rmse:0.563783\tvalidation_1-rmse:0.568364\n",
            "[16]\tvalidation_0-rmse:0.540559\tvalidation_1-rmse:0.546317\n",
            "[17]\tvalidation_0-rmse:0.519686\tvalidation_1-rmse:0.5262\n",
            "[18]\tvalidation_0-rmse:0.501662\tvalidation_1-rmse:0.509163\n",
            "[19]\tvalidation_0-rmse:0.483726\tvalidation_1-rmse:0.492813\n",
            "[20]\tvalidation_0-rmse:0.469636\tvalidation_1-rmse:0.478782\n",
            "[21]\tvalidation_0-rmse:0.457695\tvalidation_1-rmse:0.468263\n",
            "[22]\tvalidation_0-rmse:0.447907\tvalidation_1-rmse:0.458799\n",
            "[23]\tvalidation_0-rmse:0.438942\tvalidation_1-rmse:0.449799\n",
            "[24]\tvalidation_0-rmse:0.429625\tvalidation_1-rmse:0.440613\n",
            "[25]\tvalidation_0-rmse:0.422943\tvalidation_1-rmse:0.434739\n",
            "[26]\tvalidation_0-rmse:0.416956\tvalidation_1-rmse:0.429532\n",
            "[27]\tvalidation_0-rmse:0.410153\tvalidation_1-rmse:0.423022\n",
            "[28]\tvalidation_0-rmse:0.405576\tvalidation_1-rmse:0.417651\n",
            "[29]\tvalidation_0-rmse:0.400698\tvalidation_1-rmse:0.412916\n",
            "[30]\tvalidation_0-rmse:0.396107\tvalidation_1-rmse:0.40948\n",
            "[31]\tvalidation_0-rmse:0.393054\tvalidation_1-rmse:0.40554\n",
            "[32]\tvalidation_0-rmse:0.39014\tvalidation_1-rmse:0.401681\n",
            "[33]\tvalidation_0-rmse:0.386493\tvalidation_1-rmse:0.398426\n",
            "[34]\tvalidation_0-rmse:0.38329\tvalidation_1-rmse:0.396328\n",
            "[35]\tvalidation_0-rmse:0.37852\tvalidation_1-rmse:0.391736\n",
            "[36]\tvalidation_0-rmse:0.375238\tvalidation_1-rmse:0.389602\n",
            "[37]\tvalidation_0-rmse:0.37326\tvalidation_1-rmse:0.387398\n",
            "[38]\tvalidation_0-rmse:0.370992\tvalidation_1-rmse:0.3857\n",
            "[39]\tvalidation_0-rmse:0.369202\tvalidation_1-rmse:0.383936\n",
            "[40]\tvalidation_0-rmse:0.367039\tvalidation_1-rmse:0.382155\n",
            "[41]\tvalidation_0-rmse:0.365311\tvalidation_1-rmse:0.380851\n",
            "[42]\tvalidation_0-rmse:0.363798\tvalidation_1-rmse:0.379495\n",
            "[43]\tvalidation_0-rmse:0.361823\tvalidation_1-rmse:0.378165\n",
            "[44]\tvalidation_0-rmse:0.359383\tvalidation_1-rmse:0.375564\n",
            "[45]\tvalidation_0-rmse:0.357921\tvalidation_1-rmse:0.374927\n",
            "[46]\tvalidation_0-rmse:0.356576\tvalidation_1-rmse:0.374032\n",
            "[47]\tvalidation_0-rmse:0.355385\tvalidation_1-rmse:0.372458\n",
            "[48]\tvalidation_0-rmse:0.354158\tvalidation_1-rmse:0.370883\n",
            "[49]\tvalidation_0-rmse:0.353079\tvalidation_1-rmse:0.369956\n",
            "[50]\tvalidation_0-rmse:0.3502\tvalidation_1-rmse:0.367037\n",
            "[51]\tvalidation_0-rmse:0.348947\tvalidation_1-rmse:0.366224\n",
            "[52]\tvalidation_0-rmse:0.347172\tvalidation_1-rmse:0.364304\n",
            "[53]\tvalidation_0-rmse:0.346236\tvalidation_1-rmse:0.363871\n",
            "[54]\tvalidation_0-rmse:0.344947\tvalidation_1-rmse:0.362957\n",
            "[55]\tvalidation_0-rmse:0.343455\tvalidation_1-rmse:0.361312\n",
            "[56]\tvalidation_0-rmse:0.342268\tvalidation_1-rmse:0.359977\n",
            "[57]\tvalidation_0-rmse:0.341631\tvalidation_1-rmse:0.359263\n",
            "[58]\tvalidation_0-rmse:0.340681\tvalidation_1-rmse:0.358657\n",
            "[59]\tvalidation_0-rmse:0.338701\tvalidation_1-rmse:0.356926\n",
            "[60]\tvalidation_0-rmse:0.33766\tvalidation_1-rmse:0.356428\n",
            "[61]\tvalidation_0-rmse:0.336424\tvalidation_1-rmse:0.355204\n",
            "[62]\tvalidation_0-rmse:0.335251\tvalidation_1-rmse:0.354257\n",
            "[63]\tvalidation_0-rmse:0.334375\tvalidation_1-rmse:0.353547\n",
            "[64]\tvalidation_0-rmse:0.333534\tvalidation_1-rmse:0.352722\n",
            "[65]\tvalidation_0-rmse:0.333077\tvalidation_1-rmse:0.352104\n",
            "[66]\tvalidation_0-rmse:0.331714\tvalidation_1-rmse:0.351215\n",
            "[67]\tvalidation_0-rmse:0.330941\tvalidation_1-rmse:0.350759\n",
            "[68]\tvalidation_0-rmse:0.330041\tvalidation_1-rmse:0.349956\n",
            "[69]\tvalidation_0-rmse:0.329623\tvalidation_1-rmse:0.349673\n",
            "[70]\tvalidation_0-rmse:0.328939\tvalidation_1-rmse:0.349472\n",
            "[71]\tvalidation_0-rmse:0.328028\tvalidation_1-rmse:0.348644\n",
            "[72]\tvalidation_0-rmse:0.327362\tvalidation_1-rmse:0.348329\n",
            "[73]\tvalidation_0-rmse:0.326295\tvalidation_1-rmse:0.346953\n",
            "[74]\tvalidation_0-rmse:0.325889\tvalidation_1-rmse:0.346591\n",
            "[75]\tvalidation_0-rmse:0.325168\tvalidation_1-rmse:0.346032\n",
            "[76]\tvalidation_0-rmse:0.324252\tvalidation_1-rmse:0.34532\n",
            "[77]\tvalidation_0-rmse:0.323947\tvalidation_1-rmse:0.345247\n",
            "[78]\tvalidation_0-rmse:0.32363\tvalidation_1-rmse:0.344741\n",
            "[79]\tvalidation_0-rmse:0.323057\tvalidation_1-rmse:0.34441\n",
            "[80]\tvalidation_0-rmse:0.321625\tvalidation_1-rmse:0.342938\n",
            "[81]\tvalidation_0-rmse:0.319887\tvalidation_1-rmse:0.341586\n",
            "[82]\tvalidation_0-rmse:0.319141\tvalidation_1-rmse:0.340566\n",
            "[83]\tvalidation_0-rmse:0.318575\tvalidation_1-rmse:0.34018\n",
            "[84]\tvalidation_0-rmse:0.318289\tvalidation_1-rmse:0.340062\n",
            "[85]\tvalidation_0-rmse:0.317288\tvalidation_1-rmse:0.339187\n",
            "[86]\tvalidation_0-rmse:0.315098\tvalidation_1-rmse:0.337792\n",
            "[87]\tvalidation_0-rmse:0.314772\tvalidation_1-rmse:0.337534\n",
            "[88]\tvalidation_0-rmse:0.314269\tvalidation_1-rmse:0.337256\n",
            "[89]\tvalidation_0-rmse:0.314029\tvalidation_1-rmse:0.337182\n",
            "[90]\tvalidation_0-rmse:0.313399\tvalidation_1-rmse:0.336322\n",
            "[91]\tvalidation_0-rmse:0.312098\tvalidation_1-rmse:0.335228\n",
            "[92]\tvalidation_0-rmse:0.311625\tvalidation_1-rmse:0.334999\n",
            "[93]\tvalidation_0-rmse:0.31091\tvalidation_1-rmse:0.334669\n",
            "[94]\tvalidation_0-rmse:0.310724\tvalidation_1-rmse:0.334593\n",
            "[95]\tvalidation_0-rmse:0.310149\tvalidation_1-rmse:0.334309\n",
            "[96]\tvalidation_0-rmse:0.309639\tvalidation_1-rmse:0.333946\n",
            "[97]\tvalidation_0-rmse:0.309396\tvalidation_1-rmse:0.33382\n",
            "[98]\tvalidation_0-rmse:0.309164\tvalidation_1-rmse:0.333693\n",
            "[99]\tvalidation_0-rmse:0.308901\tvalidation_1-rmse:0.33353\n",
            "[100]\tvalidation_0-rmse:0.308192\tvalidation_1-rmse:0.333015\n",
            "[101]\tvalidation_0-rmse:0.307135\tvalidation_1-rmse:0.332183\n",
            "[102]\tvalidation_0-rmse:0.30635\tvalidation_1-rmse:0.331836\n",
            "[103]\tvalidation_0-rmse:0.3062\tvalidation_1-rmse:0.331777\n",
            "[104]\tvalidation_0-rmse:0.305964\tvalidation_1-rmse:0.331592\n",
            "[105]\tvalidation_0-rmse:0.305678\tvalidation_1-rmse:0.33143\n",
            "[106]\tvalidation_0-rmse:0.304136\tvalidation_1-rmse:0.330463\n",
            "[107]\tvalidation_0-rmse:0.303775\tvalidation_1-rmse:0.330102\n",
            "[108]\tvalidation_0-rmse:0.303105\tvalidation_1-rmse:0.329403\n",
            "[109]\tvalidation_0-rmse:0.302929\tvalidation_1-rmse:0.329357\n",
            "[110]\tvalidation_0-rmse:0.302729\tvalidation_1-rmse:0.329218\n",
            "[111]\tvalidation_0-rmse:0.302565\tvalidation_1-rmse:0.329175\n",
            "[112]\tvalidation_0-rmse:0.301694\tvalidation_1-rmse:0.328435\n",
            "[113]\tvalidation_0-rmse:0.30153\tvalidation_1-rmse:0.32827\n",
            "[114]\tvalidation_0-rmse:0.301167\tvalidation_1-rmse:0.327911\n",
            "[115]\tvalidation_0-rmse:0.300881\tvalidation_1-rmse:0.327384\n",
            "[116]\tvalidation_0-rmse:0.300532\tvalidation_1-rmse:0.327249\n",
            "[117]\tvalidation_0-rmse:0.29996\tvalidation_1-rmse:0.326745\n",
            "[118]\tvalidation_0-rmse:0.299757\tvalidation_1-rmse:0.326608\n",
            "[119]\tvalidation_0-rmse:0.298942\tvalidation_1-rmse:0.325633\n",
            "[120]\tvalidation_0-rmse:0.298799\tvalidation_1-rmse:0.325394\n",
            "[121]\tvalidation_0-rmse:0.298581\tvalidation_1-rmse:0.325296\n",
            "[122]\tvalidation_0-rmse:0.297981\tvalidation_1-rmse:0.325041\n",
            "[123]\tvalidation_0-rmse:0.296808\tvalidation_1-rmse:0.324299\n",
            "[124]\tvalidation_0-rmse:0.296205\tvalidation_1-rmse:0.324006\n",
            "[125]\tvalidation_0-rmse:0.295692\tvalidation_1-rmse:0.3235\n",
            "[126]\tvalidation_0-rmse:0.295542\tvalidation_1-rmse:0.323444\n",
            "[127]\tvalidation_0-rmse:0.2951\tvalidation_1-rmse:0.323291\n",
            "[128]\tvalidation_0-rmse:0.294851\tvalidation_1-rmse:0.323287\n",
            "[129]\tvalidation_0-rmse:0.294352\tvalidation_1-rmse:0.322572\n",
            "[130]\tvalidation_0-rmse:0.293945\tvalidation_1-rmse:0.322141\n",
            "[131]\tvalidation_0-rmse:0.293632\tvalidation_1-rmse:0.321928\n",
            "[132]\tvalidation_0-rmse:0.293191\tvalidation_1-rmse:0.321454\n",
            "[133]\tvalidation_0-rmse:0.292802\tvalidation_1-rmse:0.32125\n",
            "[134]\tvalidation_0-rmse:0.29263\tvalidation_1-rmse:0.321174\n",
            "[135]\tvalidation_0-rmse:0.292511\tvalidation_1-rmse:0.321289\n",
            "[136]\tvalidation_0-rmse:0.29203\tvalidation_1-rmse:0.32076\n",
            "[137]\tvalidation_0-rmse:0.291661\tvalidation_1-rmse:0.320421\n",
            "[138]\tvalidation_0-rmse:0.291382\tvalidation_1-rmse:0.320185\n",
            "[139]\tvalidation_0-rmse:0.290948\tvalidation_1-rmse:0.319794\n",
            "[140]\tvalidation_0-rmse:0.290569\tvalidation_1-rmse:0.319702\n",
            "[141]\tvalidation_0-rmse:0.290107\tvalidation_1-rmse:0.319278\n",
            "[142]\tvalidation_0-rmse:0.289774\tvalidation_1-rmse:0.31916\n",
            "[143]\tvalidation_0-rmse:0.289504\tvalidation_1-rmse:0.319006\n",
            "[144]\tvalidation_0-rmse:0.28927\tvalidation_1-rmse:0.318959\n",
            "[145]\tvalidation_0-rmse:0.289149\tvalidation_1-rmse:0.318867\n",
            "[146]\tvalidation_0-rmse:0.288531\tvalidation_1-rmse:0.318088\n",
            "[147]\tvalidation_0-rmse:0.288218\tvalidation_1-rmse:0.317771\n",
            "[148]\tvalidation_0-rmse:0.288105\tvalidation_1-rmse:0.31768\n",
            "[149]\tvalidation_0-rmse:0.287501\tvalidation_1-rmse:0.317112\n",
            "[150]\tvalidation_0-rmse:0.287182\tvalidation_1-rmse:0.316784\n",
            "[151]\tvalidation_0-rmse:0.286461\tvalidation_1-rmse:0.316538\n",
            "[152]\tvalidation_0-rmse:0.28613\tvalidation_1-rmse:0.316384\n",
            "[153]\tvalidation_0-rmse:0.286008\tvalidation_1-rmse:0.316327\n",
            "[154]\tvalidation_0-rmse:0.285845\tvalidation_1-rmse:0.316294\n",
            "[155]\tvalidation_0-rmse:0.28535\tvalidation_1-rmse:0.315859\n",
            "[156]\tvalidation_0-rmse:0.284829\tvalidation_1-rmse:0.315371\n",
            "[157]\tvalidation_0-rmse:0.284417\tvalidation_1-rmse:0.315119\n",
            "[158]\tvalidation_0-rmse:0.284117\tvalidation_1-rmse:0.314943\n",
            "[159]\tvalidation_0-rmse:0.284032\tvalidation_1-rmse:0.315052\n",
            "[160]\tvalidation_0-rmse:0.283669\tvalidation_1-rmse:0.314693\n",
            "[161]\tvalidation_0-rmse:0.28357\tvalidation_1-rmse:0.314717\n",
            "[162]\tvalidation_0-rmse:0.283151\tvalidation_1-rmse:0.314402\n",
            "[163]\tvalidation_0-rmse:0.282744\tvalidation_1-rmse:0.314152\n",
            "[164]\tvalidation_0-rmse:0.282473\tvalidation_1-rmse:0.313973\n",
            "[165]\tvalidation_0-rmse:0.282166\tvalidation_1-rmse:0.313793\n",
            "[166]\tvalidation_0-rmse:0.28176\tvalidation_1-rmse:0.313435\n",
            "[167]\tvalidation_0-rmse:0.28141\tvalidation_1-rmse:0.313312\n",
            "[168]\tvalidation_0-rmse:0.281099\tvalidation_1-rmse:0.313151\n",
            "[169]\tvalidation_0-rmse:0.280974\tvalidation_1-rmse:0.313128\n",
            "[170]\tvalidation_0-rmse:0.280554\tvalidation_1-rmse:0.312729\n",
            "[171]\tvalidation_0-rmse:0.2804\tvalidation_1-rmse:0.312695\n",
            "[172]\tvalidation_0-rmse:0.280155\tvalidation_1-rmse:0.312535\n",
            "[173]\tvalidation_0-rmse:0.27986\tvalidation_1-rmse:0.312475\n",
            "[174]\tvalidation_0-rmse:0.279778\tvalidation_1-rmse:0.312481\n",
            "[175]\tvalidation_0-rmse:0.279425\tvalidation_1-rmse:0.312165\n",
            "[176]\tvalidation_0-rmse:0.279206\tvalidation_1-rmse:0.311959\n",
            "[177]\tvalidation_0-rmse:0.278995\tvalidation_1-rmse:0.311801\n",
            "[178]\tvalidation_0-rmse:0.278881\tvalidation_1-rmse:0.311705\n",
            "[179]\tvalidation_0-rmse:0.278641\tvalidation_1-rmse:0.311511\n",
            "[180]\tvalidation_0-rmse:0.278423\tvalidation_1-rmse:0.311354\n",
            "[181]\tvalidation_0-rmse:0.278206\tvalidation_1-rmse:0.311154\n",
            "[182]\tvalidation_0-rmse:0.277955\tvalidation_1-rmse:0.311071\n",
            "[183]\tvalidation_0-rmse:0.277714\tvalidation_1-rmse:0.310974\n",
            "[184]\tvalidation_0-rmse:0.277416\tvalidation_1-rmse:0.310874\n",
            "[185]\tvalidation_0-rmse:0.277191\tvalidation_1-rmse:0.310765\n",
            "[186]\tvalidation_0-rmse:0.276933\tvalidation_1-rmse:0.310647\n",
            "[187]\tvalidation_0-rmse:0.27666\tvalidation_1-rmse:0.310426\n",
            "[188]\tvalidation_0-rmse:0.276593\tvalidation_1-rmse:0.31045\n",
            "[189]\tvalidation_0-rmse:0.276371\tvalidation_1-rmse:0.31038\n",
            "[190]\tvalidation_0-rmse:0.276305\tvalidation_1-rmse:0.310303\n",
            "[191]\tvalidation_0-rmse:0.275999\tvalidation_1-rmse:0.310252\n",
            "[192]\tvalidation_0-rmse:0.275802\tvalidation_1-rmse:0.310074\n",
            "[193]\tvalidation_0-rmse:0.27561\tvalidation_1-rmse:0.309921\n",
            "[194]\tvalidation_0-rmse:0.275368\tvalidation_1-rmse:0.309678\n",
            "[195]\tvalidation_0-rmse:0.275062\tvalidation_1-rmse:0.309429\n",
            "[196]\tvalidation_0-rmse:0.274836\tvalidation_1-rmse:0.309292\n",
            "[197]\tvalidation_0-rmse:0.274484\tvalidation_1-rmse:0.308809\n",
            "[198]\tvalidation_0-rmse:0.274315\tvalidation_1-rmse:0.308822\n",
            "[199]\tvalidation_0-rmse:0.274101\tvalidation_1-rmse:0.308625\n",
            "[200]\tvalidation_0-rmse:0.273849\tvalidation_1-rmse:0.308413\n",
            "[201]\tvalidation_0-rmse:0.273319\tvalidation_1-rmse:0.308168\n",
            "[202]\tvalidation_0-rmse:0.272993\tvalidation_1-rmse:0.307925\n",
            "[203]\tvalidation_0-rmse:0.272905\tvalidation_1-rmse:0.307929\n",
            "[204]\tvalidation_0-rmse:0.272743\tvalidation_1-rmse:0.307837\n",
            "[205]\tvalidation_0-rmse:0.272568\tvalidation_1-rmse:0.307689\n",
            "[206]\tvalidation_0-rmse:0.272528\tvalidation_1-rmse:0.307647\n",
            "[207]\tvalidation_0-rmse:0.27244\tvalidation_1-rmse:0.307653\n",
            "[208]\tvalidation_0-rmse:0.272287\tvalidation_1-rmse:0.307485\n",
            "[209]\tvalidation_0-rmse:0.27207\tvalidation_1-rmse:0.307496\n",
            "[210]\tvalidation_0-rmse:0.271954\tvalidation_1-rmse:0.307541\n",
            "[211]\tvalidation_0-rmse:0.271133\tvalidation_1-rmse:0.306911\n",
            "[212]\tvalidation_0-rmse:0.27094\tvalidation_1-rmse:0.306817\n",
            "[213]\tvalidation_0-rmse:0.270735\tvalidation_1-rmse:0.306549\n",
            "[214]\tvalidation_0-rmse:0.270686\tvalidation_1-rmse:0.306494\n",
            "[215]\tvalidation_0-rmse:0.270566\tvalidation_1-rmse:0.306432\n",
            "[216]\tvalidation_0-rmse:0.270206\tvalidation_1-rmse:0.306225\n",
            "[217]\tvalidation_0-rmse:0.270009\tvalidation_1-rmse:0.306127\n",
            "[218]\tvalidation_0-rmse:0.269862\tvalidation_1-rmse:0.306026\n",
            "[219]\tvalidation_0-rmse:0.269727\tvalidation_1-rmse:0.305993\n",
            "[220]\tvalidation_0-rmse:0.269566\tvalidation_1-rmse:0.305839\n",
            "[221]\tvalidation_0-rmse:0.26949\tvalidation_1-rmse:0.305823\n",
            "[222]\tvalidation_0-rmse:0.269243\tvalidation_1-rmse:0.305625\n",
            "[223]\tvalidation_0-rmse:0.269165\tvalidation_1-rmse:0.305603\n",
            "[224]\tvalidation_0-rmse:0.268885\tvalidation_1-rmse:0.305566\n",
            "[225]\tvalidation_0-rmse:0.268802\tvalidation_1-rmse:0.305566\n",
            "[226]\tvalidation_0-rmse:0.268208\tvalidation_1-rmse:0.304907\n",
            "[227]\tvalidation_0-rmse:0.267952\tvalidation_1-rmse:0.304817\n",
            "[228]\tvalidation_0-rmse:0.267262\tvalidation_1-rmse:0.304219\n",
            "[229]\tvalidation_0-rmse:0.267115\tvalidation_1-rmse:0.304102\n",
            "[230]\tvalidation_0-rmse:0.266662\tvalidation_1-rmse:0.303903\n",
            "[231]\tvalidation_0-rmse:0.266424\tvalidation_1-rmse:0.30371\n",
            "[232]\tvalidation_0-rmse:0.266125\tvalidation_1-rmse:0.3037\n",
            "[233]\tvalidation_0-rmse:0.266048\tvalidation_1-rmse:0.303674\n",
            "[234]\tvalidation_0-rmse:0.265854\tvalidation_1-rmse:0.303552\n",
            "[235]\tvalidation_0-rmse:0.265461\tvalidation_1-rmse:0.303253\n",
            "[236]\tvalidation_0-rmse:0.26516\tvalidation_1-rmse:0.303102\n",
            "[237]\tvalidation_0-rmse:0.265069\tvalidation_1-rmse:0.303018\n",
            "[238]\tvalidation_0-rmse:0.265005\tvalidation_1-rmse:0.302953\n",
            "[239]\tvalidation_0-rmse:0.264882\tvalidation_1-rmse:0.302892\n",
            "[240]\tvalidation_0-rmse:0.264549\tvalidation_1-rmse:0.301876\n",
            "[241]\tvalidation_0-rmse:0.264302\tvalidation_1-rmse:0.30173\n",
            "[242]\tvalidation_0-rmse:0.2642\tvalidation_1-rmse:0.301753\n",
            "[243]\tvalidation_0-rmse:0.264042\tvalidation_1-rmse:0.301722\n",
            "[244]\tvalidation_0-rmse:0.263671\tvalidation_1-rmse:0.30161\n",
            "[245]\tvalidation_0-rmse:0.263363\tvalidation_1-rmse:0.300807\n",
            "[246]\tvalidation_0-rmse:0.263175\tvalidation_1-rmse:0.30086\n",
            "[247]\tvalidation_0-rmse:0.263071\tvalidation_1-rmse:0.300886\n",
            "[248]\tvalidation_0-rmse:0.262863\tvalidation_1-rmse:0.300817\n",
            "[249]\tvalidation_0-rmse:0.262754\tvalidation_1-rmse:0.300775\n",
            "[250]\tvalidation_0-rmse:0.262575\tvalidation_1-rmse:0.300837\n",
            "[251]\tvalidation_0-rmse:0.262363\tvalidation_1-rmse:0.300715\n",
            "[252]\tvalidation_0-rmse:0.262309\tvalidation_1-rmse:0.300625\n",
            "[253]\tvalidation_0-rmse:0.26215\tvalidation_1-rmse:0.300623\n",
            "[254]\tvalidation_0-rmse:0.261899\tvalidation_1-rmse:0.300533\n",
            "[255]\tvalidation_0-rmse:0.261737\tvalidation_1-rmse:0.300396\n",
            "[256]\tvalidation_0-rmse:0.2616\tvalidation_1-rmse:0.300334\n",
            "[257]\tvalidation_0-rmse:0.261156\tvalidation_1-rmse:0.299817\n",
            "[258]\tvalidation_0-rmse:0.261022\tvalidation_1-rmse:0.299632\n",
            "[259]\tvalidation_0-rmse:0.260906\tvalidation_1-rmse:0.299524\n",
            "[260]\tvalidation_0-rmse:0.260721\tvalidation_1-rmse:0.299356\n",
            "[261]\tvalidation_0-rmse:0.260456\tvalidation_1-rmse:0.299225\n",
            "[262]\tvalidation_0-rmse:0.260378\tvalidation_1-rmse:0.299225\n",
            "[263]\tvalidation_0-rmse:0.260144\tvalidation_1-rmse:0.299263\n",
            "[264]\tvalidation_0-rmse:0.259615\tvalidation_1-rmse:0.298959\n",
            "[265]\tvalidation_0-rmse:0.259508\tvalidation_1-rmse:0.298857\n",
            "[266]\tvalidation_0-rmse:0.259348\tvalidation_1-rmse:0.298756\n",
            "[267]\tvalidation_0-rmse:0.259262\tvalidation_1-rmse:0.298691\n",
            "[268]\tvalidation_0-rmse:0.258807\tvalidation_1-rmse:0.298397\n",
            "[269]\tvalidation_0-rmse:0.258578\tvalidation_1-rmse:0.298193\n",
            "[270]\tvalidation_0-rmse:0.258287\tvalidation_1-rmse:0.297852\n",
            "[271]\tvalidation_0-rmse:0.257967\tvalidation_1-rmse:0.297643\n",
            "[272]\tvalidation_0-rmse:0.257742\tvalidation_1-rmse:0.297561\n",
            "[273]\tvalidation_0-rmse:0.25758\tvalidation_1-rmse:0.297484\n",
            "[274]\tvalidation_0-rmse:0.257402\tvalidation_1-rmse:0.297313\n",
            "[275]\tvalidation_0-rmse:0.257198\tvalidation_1-rmse:0.297147\n",
            "[276]\tvalidation_0-rmse:0.257035\tvalidation_1-rmse:0.297112\n",
            "[277]\tvalidation_0-rmse:0.256893\tvalidation_1-rmse:0.296979\n",
            "[278]\tvalidation_0-rmse:0.256618\tvalidation_1-rmse:0.296333\n",
            "[279]\tvalidation_0-rmse:0.256531\tvalidation_1-rmse:0.296293\n",
            "[280]\tvalidation_0-rmse:0.256382\tvalidation_1-rmse:0.296332\n",
            "[281]\tvalidation_0-rmse:0.256219\tvalidation_1-rmse:0.296277\n",
            "[282]\tvalidation_0-rmse:0.256133\tvalidation_1-rmse:0.296183\n",
            "[283]\tvalidation_0-rmse:0.256077\tvalidation_1-rmse:0.296162\n",
            "[284]\tvalidation_0-rmse:0.255979\tvalidation_1-rmse:0.296221\n",
            "[285]\tvalidation_0-rmse:0.255853\tvalidation_1-rmse:0.296097\n",
            "[286]\tvalidation_0-rmse:0.255584\tvalidation_1-rmse:0.295978\n",
            "[287]\tvalidation_0-rmse:0.255389\tvalidation_1-rmse:0.295726\n",
            "[288]\tvalidation_0-rmse:0.255236\tvalidation_1-rmse:0.295606\n",
            "[289]\tvalidation_0-rmse:0.255167\tvalidation_1-rmse:0.295544\n",
            "[290]\tvalidation_0-rmse:0.255083\tvalidation_1-rmse:0.295559\n",
            "[291]\tvalidation_0-rmse:0.254841\tvalidation_1-rmse:0.295394\n",
            "[292]\tvalidation_0-rmse:0.254599\tvalidation_1-rmse:0.295295\n",
            "[293]\tvalidation_0-rmse:0.25445\tvalidation_1-rmse:0.295233\n",
            "[294]\tvalidation_0-rmse:0.254323\tvalidation_1-rmse:0.295215\n",
            "[295]\tvalidation_0-rmse:0.254256\tvalidation_1-rmse:0.295223\n",
            "[296]\tvalidation_0-rmse:0.254213\tvalidation_1-rmse:0.295232\n",
            "[297]\tvalidation_0-rmse:0.253984\tvalidation_1-rmse:0.295128\n",
            "[298]\tvalidation_0-rmse:0.253805\tvalidation_1-rmse:0.295053\n",
            "[299]\tvalidation_0-rmse:0.253378\tvalidation_1-rmse:0.294639\n",
            "[300]\tvalidation_0-rmse:0.253303\tvalidation_1-rmse:0.294594\n",
            "[301]\tvalidation_0-rmse:0.253236\tvalidation_1-rmse:0.294583\n",
            "[302]\tvalidation_0-rmse:0.253121\tvalidation_1-rmse:0.294576\n",
            "[303]\tvalidation_0-rmse:0.252964\tvalidation_1-rmse:0.294118\n",
            "[304]\tvalidation_0-rmse:0.252874\tvalidation_1-rmse:0.294132\n",
            "[305]\tvalidation_0-rmse:0.252732\tvalidation_1-rmse:0.294004\n",
            "[306]\tvalidation_0-rmse:0.252636\tvalidation_1-rmse:0.293872\n",
            "[307]\tvalidation_0-rmse:0.25254\tvalidation_1-rmse:0.294048\n",
            "[308]\tvalidation_0-rmse:0.252346\tvalidation_1-rmse:0.293997\n",
            "[309]\tvalidation_0-rmse:0.252179\tvalidation_1-rmse:0.293795\n",
            "[310]\tvalidation_0-rmse:0.251823\tvalidation_1-rmse:0.293595\n",
            "[311]\tvalidation_0-rmse:0.251728\tvalidation_1-rmse:0.293514\n",
            "[312]\tvalidation_0-rmse:0.251592\tvalidation_1-rmse:0.293406\n",
            "[313]\tvalidation_0-rmse:0.251555\tvalidation_1-rmse:0.293413\n",
            "[314]\tvalidation_0-rmse:0.251507\tvalidation_1-rmse:0.293434\n",
            "[315]\tvalidation_0-rmse:0.251409\tvalidation_1-rmse:0.293391\n",
            "[316]\tvalidation_0-rmse:0.251298\tvalidation_1-rmse:0.293283\n",
            "[317]\tvalidation_0-rmse:0.251127\tvalidation_1-rmse:0.293187\n",
            "[318]\tvalidation_0-rmse:0.250988\tvalidation_1-rmse:0.29309\n",
            "[319]\tvalidation_0-rmse:0.250879\tvalidation_1-rmse:0.293028\n",
            "[320]\tvalidation_0-rmse:0.250465\tvalidation_1-rmse:0.292709\n",
            "[321]\tvalidation_0-rmse:0.250052\tvalidation_1-rmse:0.292389\n",
            "[322]\tvalidation_0-rmse:0.249868\tvalidation_1-rmse:0.292296\n",
            "[323]\tvalidation_0-rmse:0.249746\tvalidation_1-rmse:0.292332\n",
            "[324]\tvalidation_0-rmse:0.249655\tvalidation_1-rmse:0.292394\n",
            "[325]\tvalidation_0-rmse:0.249512\tvalidation_1-rmse:0.292427\n",
            "[326]\tvalidation_0-rmse:0.249155\tvalidation_1-rmse:0.292109\n",
            "[327]\tvalidation_0-rmse:0.248999\tvalidation_1-rmse:0.291974\n",
            "[328]\tvalidation_0-rmse:0.248838\tvalidation_1-rmse:0.291803\n",
            "[329]\tvalidation_0-rmse:0.248736\tvalidation_1-rmse:0.291691\n",
            "[330]\tvalidation_0-rmse:0.248639\tvalidation_1-rmse:0.291696\n",
            "[331]\tvalidation_0-rmse:0.248419\tvalidation_1-rmse:0.291674\n",
            "[332]\tvalidation_0-rmse:0.248259\tvalidation_1-rmse:0.29163\n",
            "[333]\tvalidation_0-rmse:0.2481\tvalidation_1-rmse:0.291511\n",
            "[334]\tvalidation_0-rmse:0.247947\tvalidation_1-rmse:0.291436\n",
            "[335]\tvalidation_0-rmse:0.247906\tvalidation_1-rmse:0.291485\n",
            "[336]\tvalidation_0-rmse:0.247858\tvalidation_1-rmse:0.291466\n",
            "[337]\tvalidation_0-rmse:0.247686\tvalidation_1-rmse:0.291383\n",
            "[338]\tvalidation_0-rmse:0.247565\tvalidation_1-rmse:0.29145\n",
            "[339]\tvalidation_0-rmse:0.247535\tvalidation_1-rmse:0.291436\n",
            "[340]\tvalidation_0-rmse:0.247451\tvalidation_1-rmse:0.291395\n",
            "[341]\tvalidation_0-rmse:0.247338\tvalidation_1-rmse:0.291322\n",
            "[342]\tvalidation_0-rmse:0.247077\tvalidation_1-rmse:0.291188\n",
            "[343]\tvalidation_0-rmse:0.24694\tvalidation_1-rmse:0.291013\n",
            "[344]\tvalidation_0-rmse:0.246821\tvalidation_1-rmse:0.290987\n",
            "[345]\tvalidation_0-rmse:0.246671\tvalidation_1-rmse:0.290857\n",
            "[346]\tvalidation_0-rmse:0.246505\tvalidation_1-rmse:0.290747\n",
            "[347]\tvalidation_0-rmse:0.246383\tvalidation_1-rmse:0.290654\n",
            "[348]\tvalidation_0-rmse:0.246241\tvalidation_1-rmse:0.290623\n",
            "[349]\tvalidation_0-rmse:0.246119\tvalidation_1-rmse:0.290568\n",
            "[350]\tvalidation_0-rmse:0.246015\tvalidation_1-rmse:0.290499\n",
            "[351]\tvalidation_0-rmse:0.245796\tvalidation_1-rmse:0.290428\n",
            "[352]\tvalidation_0-rmse:0.245664\tvalidation_1-rmse:0.290458\n",
            "[353]\tvalidation_0-rmse:0.245562\tvalidation_1-rmse:0.290394\n",
            "[354]\tvalidation_0-rmse:0.245376\tvalidation_1-rmse:0.290265\n",
            "[355]\tvalidation_0-rmse:0.245277\tvalidation_1-rmse:0.290223\n",
            "[356]\tvalidation_0-rmse:0.24508\tvalidation_1-rmse:0.290027\n",
            "[357]\tvalidation_0-rmse:0.244902\tvalidation_1-rmse:0.289967\n",
            "[358]\tvalidation_0-rmse:0.244803\tvalidation_1-rmse:0.289902\n",
            "[359]\tvalidation_0-rmse:0.244525\tvalidation_1-rmse:0.289696\n",
            "[360]\tvalidation_0-rmse:0.244507\tvalidation_1-rmse:0.28971\n",
            "[361]\tvalidation_0-rmse:0.244374\tvalidation_1-rmse:0.289693\n",
            "[362]\tvalidation_0-rmse:0.24423\tvalidation_1-rmse:0.289589\n",
            "[363]\tvalidation_0-rmse:0.243971\tvalidation_1-rmse:0.289038\n",
            "[364]\tvalidation_0-rmse:0.243867\tvalidation_1-rmse:0.288673\n",
            "[365]\tvalidation_0-rmse:0.24377\tvalidation_1-rmse:0.288234\n",
            "[366]\tvalidation_0-rmse:0.243598\tvalidation_1-rmse:0.288152\n",
            "[367]\tvalidation_0-rmse:0.243393\tvalidation_1-rmse:0.287909\n",
            "[368]\tvalidation_0-rmse:0.243146\tvalidation_1-rmse:0.287768\n",
            "[369]\tvalidation_0-rmse:0.242991\tvalidation_1-rmse:0.287625\n",
            "[370]\tvalidation_0-rmse:0.242864\tvalidation_1-rmse:0.287573\n",
            "[371]\tvalidation_0-rmse:0.242691\tvalidation_1-rmse:0.287378\n",
            "[372]\tvalidation_0-rmse:0.242582\tvalidation_1-rmse:0.287333\n",
            "[373]\tvalidation_0-rmse:0.24238\tvalidation_1-rmse:0.287085\n",
            "[374]\tvalidation_0-rmse:0.242249\tvalidation_1-rmse:0.287037\n",
            "[375]\tvalidation_0-rmse:0.242165\tvalidation_1-rmse:0.287001\n",
            "[376]\tvalidation_0-rmse:0.241996\tvalidation_1-rmse:0.286842\n",
            "[377]\tvalidation_0-rmse:0.241774\tvalidation_1-rmse:0.286372\n",
            "[378]\tvalidation_0-rmse:0.241625\tvalidation_1-rmse:0.286369\n",
            "[379]\tvalidation_0-rmse:0.24151\tvalidation_1-rmse:0.286363\n",
            "[380]\tvalidation_0-rmse:0.241273\tvalidation_1-rmse:0.286284\n",
            "[381]\tvalidation_0-rmse:0.241163\tvalidation_1-rmse:0.286225\n",
            "[382]\tvalidation_0-rmse:0.241074\tvalidation_1-rmse:0.286176\n",
            "[383]\tvalidation_0-rmse:0.240955\tvalidation_1-rmse:0.286093\n",
            "[384]\tvalidation_0-rmse:0.240896\tvalidation_1-rmse:0.28606\n",
            "[385]\tvalidation_0-rmse:0.240712\tvalidation_1-rmse:0.286098\n",
            "[386]\tvalidation_0-rmse:0.24062\tvalidation_1-rmse:0.286052\n",
            "[387]\tvalidation_0-rmse:0.240555\tvalidation_1-rmse:0.286053\n",
            "[388]\tvalidation_0-rmse:0.240473\tvalidation_1-rmse:0.286\n",
            "[389]\tvalidation_0-rmse:0.240444\tvalidation_1-rmse:0.286007\n",
            "[390]\tvalidation_0-rmse:0.240372\tvalidation_1-rmse:0.28596\n",
            "[391]\tvalidation_0-rmse:0.240283\tvalidation_1-rmse:0.285908\n",
            "[392]\tvalidation_0-rmse:0.240237\tvalidation_1-rmse:0.285894\n",
            "[393]\tvalidation_0-rmse:0.240186\tvalidation_1-rmse:0.28577\n",
            "[394]\tvalidation_0-rmse:0.240073\tvalidation_1-rmse:0.285602\n",
            "[395]\tvalidation_0-rmse:0.239941\tvalidation_1-rmse:0.285625\n",
            "[396]\tvalidation_0-rmse:0.239816\tvalidation_1-rmse:0.285507\n",
            "[397]\tvalidation_0-rmse:0.23967\tvalidation_1-rmse:0.285326\n",
            "[398]\tvalidation_0-rmse:0.239575\tvalidation_1-rmse:0.2853\n",
            "[399]\tvalidation_0-rmse:0.239476\tvalidation_1-rmse:0.28524\n",
            "[400]\tvalidation_0-rmse:0.239195\tvalidation_1-rmse:0.284952\n",
            "[401]\tvalidation_0-rmse:0.239157\tvalidation_1-rmse:0.285007\n",
            "[402]\tvalidation_0-rmse:0.239107\tvalidation_1-rmse:0.284989\n",
            "[403]\tvalidation_0-rmse:0.239018\tvalidation_1-rmse:0.284935\n",
            "[404]\tvalidation_0-rmse:0.238964\tvalidation_1-rmse:0.284911\n",
            "[405]\tvalidation_0-rmse:0.238878\tvalidation_1-rmse:0.284842\n",
            "[406]\tvalidation_0-rmse:0.238722\tvalidation_1-rmse:0.284898\n",
            "[407]\tvalidation_0-rmse:0.238618\tvalidation_1-rmse:0.284783\n",
            "[408]\tvalidation_0-rmse:0.238488\tvalidation_1-rmse:0.284823\n",
            "[409]\tvalidation_0-rmse:0.238396\tvalidation_1-rmse:0.284797\n",
            "[410]\tvalidation_0-rmse:0.238321\tvalidation_1-rmse:0.284886\n",
            "[411]\tvalidation_0-rmse:0.238179\tvalidation_1-rmse:0.284805\n",
            "[412]\tvalidation_0-rmse:0.238061\tvalidation_1-rmse:0.284868\n",
            "[413]\tvalidation_0-rmse:0.237917\tvalidation_1-rmse:0.28471\n",
            "[414]\tvalidation_0-rmse:0.237862\tvalidation_1-rmse:0.284685\n",
            "[415]\tvalidation_0-rmse:0.237781\tvalidation_1-rmse:0.284706\n",
            "[416]\tvalidation_0-rmse:0.237747\tvalidation_1-rmse:0.284699\n",
            "[417]\tvalidation_0-rmse:0.237609\tvalidation_1-rmse:0.284645\n",
            "[418]\tvalidation_0-rmse:0.237596\tvalidation_1-rmse:0.284646\n",
            "[419]\tvalidation_0-rmse:0.237546\tvalidation_1-rmse:0.284644\n",
            "[420]\tvalidation_0-rmse:0.237506\tvalidation_1-rmse:0.284541\n",
            "[421]\tvalidation_0-rmse:0.237427\tvalidation_1-rmse:0.284536\n",
            "[422]\tvalidation_0-rmse:0.237308\tvalidation_1-rmse:0.284584\n",
            "[423]\tvalidation_0-rmse:0.237182\tvalidation_1-rmse:0.284557\n",
            "[424]\tvalidation_0-rmse:0.237119\tvalidation_1-rmse:0.284635\n",
            "[425]\tvalidation_0-rmse:0.237018\tvalidation_1-rmse:0.28438\n",
            "[426]\tvalidation_0-rmse:0.236973\tvalidation_1-rmse:0.284378\n",
            "[427]\tvalidation_0-rmse:0.23687\tvalidation_1-rmse:0.284241\n",
            "[428]\tvalidation_0-rmse:0.236786\tvalidation_1-rmse:0.284248\n",
            "[429]\tvalidation_0-rmse:0.23669\tvalidation_1-rmse:0.2841\n",
            "[430]\tvalidation_0-rmse:0.236599\tvalidation_1-rmse:0.284094\n",
            "[431]\tvalidation_0-rmse:0.236474\tvalidation_1-rmse:0.284047\n",
            "[432]\tvalidation_0-rmse:0.236363\tvalidation_1-rmse:0.284028\n",
            "[433]\tvalidation_0-rmse:0.236291\tvalidation_1-rmse:0.28404\n",
            "[434]\tvalidation_0-rmse:0.236198\tvalidation_1-rmse:0.284043\n",
            "[435]\tvalidation_0-rmse:0.236095\tvalidation_1-rmse:0.283893\n",
            "[436]\tvalidation_0-rmse:0.23594\tvalidation_1-rmse:0.283642\n",
            "[437]\tvalidation_0-rmse:0.235811\tvalidation_1-rmse:0.283671\n",
            "[438]\tvalidation_0-rmse:0.235688\tvalidation_1-rmse:0.283581\n",
            "[439]\tvalidation_0-rmse:0.235542\tvalidation_1-rmse:0.28354\n",
            "[440]\tvalidation_0-rmse:0.235359\tvalidation_1-rmse:0.283442\n",
            "[441]\tvalidation_0-rmse:0.235248\tvalidation_1-rmse:0.283435\n",
            "[442]\tvalidation_0-rmse:0.235106\tvalidation_1-rmse:0.2833\n",
            "[443]\tvalidation_0-rmse:0.235084\tvalidation_1-rmse:0.2833\n",
            "[444]\tvalidation_0-rmse:0.234997\tvalidation_1-rmse:0.28323\n",
            "[445]\tvalidation_0-rmse:0.234929\tvalidation_1-rmse:0.283223\n",
            "[446]\tvalidation_0-rmse:0.234857\tvalidation_1-rmse:0.283165\n",
            "[447]\tvalidation_0-rmse:0.234718\tvalidation_1-rmse:0.283003\n",
            "[448]\tvalidation_0-rmse:0.234705\tvalidation_1-rmse:0.283012\n",
            "[449]\tvalidation_0-rmse:0.234621\tvalidation_1-rmse:0.282979\n",
            "[450]\tvalidation_0-rmse:0.234494\tvalidation_1-rmse:0.283025\n",
            "[451]\tvalidation_0-rmse:0.234431\tvalidation_1-rmse:0.282983\n",
            "[452]\tvalidation_0-rmse:0.234374\tvalidation_1-rmse:0.282724\n",
            "[453]\tvalidation_0-rmse:0.23424\tvalidation_1-rmse:0.282709\n",
            "[454]\tvalidation_0-rmse:0.234213\tvalidation_1-rmse:0.282677\n",
            "[455]\tvalidation_0-rmse:0.233985\tvalidation_1-rmse:0.282465\n",
            "[456]\tvalidation_0-rmse:0.233879\tvalidation_1-rmse:0.282426\n",
            "[457]\tvalidation_0-rmse:0.233851\tvalidation_1-rmse:0.282362\n",
            "[458]\tvalidation_0-rmse:0.233749\tvalidation_1-rmse:0.28233\n",
            "[459]\tvalidation_0-rmse:0.233677\tvalidation_1-rmse:0.282321\n",
            "[460]\tvalidation_0-rmse:0.233562\tvalidation_1-rmse:0.282324\n",
            "[461]\tvalidation_0-rmse:0.23347\tvalidation_1-rmse:0.282264\n",
            "[462]\tvalidation_0-rmse:0.233413\tvalidation_1-rmse:0.282321\n",
            "[463]\tvalidation_0-rmse:0.233168\tvalidation_1-rmse:0.282053\n",
            "[464]\tvalidation_0-rmse:0.233051\tvalidation_1-rmse:0.281977\n",
            "[465]\tvalidation_0-rmse:0.23276\tvalidation_1-rmse:0.281708\n",
            "[466]\tvalidation_0-rmse:0.232709\tvalidation_1-rmse:0.281688\n",
            "[467]\tvalidation_0-rmse:0.232683\tvalidation_1-rmse:0.281687\n",
            "[468]\tvalidation_0-rmse:0.232646\tvalidation_1-rmse:0.281727\n",
            "[469]\tvalidation_0-rmse:0.232375\tvalidation_1-rmse:0.281658\n",
            "[470]\tvalidation_0-rmse:0.232294\tvalidation_1-rmse:0.281494\n",
            "[471]\tvalidation_0-rmse:0.232177\tvalidation_1-rmse:0.281404\n",
            "[472]\tvalidation_0-rmse:0.231977\tvalidation_1-rmse:0.281333\n",
            "[473]\tvalidation_0-rmse:0.23187\tvalidation_1-rmse:0.281265\n",
            "[474]\tvalidation_0-rmse:0.231797\tvalidation_1-rmse:0.281346\n",
            "[475]\tvalidation_0-rmse:0.231714\tvalidation_1-rmse:0.281245\n",
            "[476]\tvalidation_0-rmse:0.231598\tvalidation_1-rmse:0.281235\n",
            "[477]\tvalidation_0-rmse:0.231381\tvalidation_1-rmse:0.281078\n",
            "[478]\tvalidation_0-rmse:0.231292\tvalidation_1-rmse:0.281009\n",
            "[479]\tvalidation_0-rmse:0.231197\tvalidation_1-rmse:0.281104\n",
            "[480]\tvalidation_0-rmse:0.231128\tvalidation_1-rmse:0.281085\n",
            "[481]\tvalidation_0-rmse:0.23105\tvalidation_1-rmse:0.281024\n",
            "[482]\tvalidation_0-rmse:0.231016\tvalidation_1-rmse:0.280999\n",
            "[483]\tvalidation_0-rmse:0.230915\tvalidation_1-rmse:0.280862\n",
            "[484]\tvalidation_0-rmse:0.2308\tvalidation_1-rmse:0.28083\n",
            "[485]\tvalidation_0-rmse:0.230775\tvalidation_1-rmse:0.280877\n",
            "[486]\tvalidation_0-rmse:0.23073\tvalidation_1-rmse:0.280853\n",
            "[487]\tvalidation_0-rmse:0.230515\tvalidation_1-rmse:0.280638\n",
            "[488]\tvalidation_0-rmse:0.230413\tvalidation_1-rmse:0.28061\n",
            "[489]\tvalidation_0-rmse:0.230281\tvalidation_1-rmse:0.280537\n",
            "[490]\tvalidation_0-rmse:0.230196\tvalidation_1-rmse:0.280663\n",
            "[491]\tvalidation_0-rmse:0.230096\tvalidation_1-rmse:0.28064\n",
            "[492]\tvalidation_0-rmse:0.229967\tvalidation_1-rmse:0.280742\n",
            "[493]\tvalidation_0-rmse:0.229929\tvalidation_1-rmse:0.280729\n",
            "[494]\tvalidation_0-rmse:0.229881\tvalidation_1-rmse:0.28069\n",
            "[495]\tvalidation_0-rmse:0.229768\tvalidation_1-rmse:0.280612\n",
            "[496]\tvalidation_0-rmse:0.229715\tvalidation_1-rmse:0.28058\n",
            "[497]\tvalidation_0-rmse:0.22962\tvalidation_1-rmse:0.280514\n",
            "[498]\tvalidation_0-rmse:0.229502\tvalidation_1-rmse:0.280508\n",
            "[499]\tvalidation_0-rmse:0.229439\tvalidation_1-rmse:0.280579\n",
            "[500]\tvalidation_0-rmse:0.229355\tvalidation_1-rmse:0.280576\n",
            "[501]\tvalidation_0-rmse:0.229136\tvalidation_1-rmse:0.280324\n",
            "[502]\tvalidation_0-rmse:0.229038\tvalidation_1-rmse:0.280261\n",
            "[503]\tvalidation_0-rmse:0.228996\tvalidation_1-rmse:0.280351\n",
            "[504]\tvalidation_0-rmse:0.228904\tvalidation_1-rmse:0.280271\n",
            "[505]\tvalidation_0-rmse:0.228803\tvalidation_1-rmse:0.280308\n",
            "[506]\tvalidation_0-rmse:0.228784\tvalidation_1-rmse:0.280316\n",
            "[507]\tvalidation_0-rmse:0.22867\tvalidation_1-rmse:0.280233\n",
            "[508]\tvalidation_0-rmse:0.22862\tvalidation_1-rmse:0.280226\n",
            "[509]\tvalidation_0-rmse:0.228282\tvalidation_1-rmse:0.279931\n",
            "[510]\tvalidation_0-rmse:0.228218\tvalidation_1-rmse:0.279881\n",
            "[511]\tvalidation_0-rmse:0.228135\tvalidation_1-rmse:0.27986\n",
            "[512]\tvalidation_0-rmse:0.228049\tvalidation_1-rmse:0.279835\n",
            "[513]\tvalidation_0-rmse:0.227958\tvalidation_1-rmse:0.279715\n",
            "[514]\tvalidation_0-rmse:0.227876\tvalidation_1-rmse:0.279677\n",
            "[515]\tvalidation_0-rmse:0.227808\tvalidation_1-rmse:0.279654\n",
            "[516]\tvalidation_0-rmse:0.22777\tvalidation_1-rmse:0.279631\n",
            "[517]\tvalidation_0-rmse:0.227712\tvalidation_1-rmse:0.279615\n",
            "[518]\tvalidation_0-rmse:0.227699\tvalidation_1-rmse:0.279631\n",
            "[519]\tvalidation_0-rmse:0.227684\tvalidation_1-rmse:0.279636\n",
            "[520]\tvalidation_0-rmse:0.227648\tvalidation_1-rmse:0.279669\n",
            "[521]\tvalidation_0-rmse:0.22758\tvalidation_1-rmse:0.279638\n",
            "[522]\tvalidation_0-rmse:0.227491\tvalidation_1-rmse:0.279636\n",
            "[523]\tvalidation_0-rmse:0.227383\tvalidation_1-rmse:0.279619\n",
            "[524]\tvalidation_0-rmse:0.227364\tvalidation_1-rmse:0.279634\n",
            "[525]\tvalidation_0-rmse:0.227257\tvalidation_1-rmse:0.279614\n",
            "[526]\tvalidation_0-rmse:0.227045\tvalidation_1-rmse:0.279662\n",
            "[527]\tvalidation_0-rmse:0.226958\tvalidation_1-rmse:0.279664\n",
            "[528]\tvalidation_0-rmse:0.226877\tvalidation_1-rmse:0.279577\n",
            "[529]\tvalidation_0-rmse:0.226794\tvalidation_1-rmse:0.279548\n",
            "[530]\tvalidation_0-rmse:0.226714\tvalidation_1-rmse:0.27951\n",
            "[531]\tvalidation_0-rmse:0.226572\tvalidation_1-rmse:0.27946\n",
            "[532]\tvalidation_0-rmse:0.226494\tvalidation_1-rmse:0.279497\n",
            "[533]\tvalidation_0-rmse:0.226448\tvalidation_1-rmse:0.279951\n",
            "[534]\tvalidation_0-rmse:0.22637\tvalidation_1-rmse:0.280036\n",
            "[535]\tvalidation_0-rmse:0.226308\tvalidation_1-rmse:0.280008\n",
            "[536]\tvalidation_0-rmse:0.226251\tvalidation_1-rmse:0.280074\n",
            "[537]\tvalidation_0-rmse:0.226136\tvalidation_1-rmse:0.280084\n",
            "[538]\tvalidation_0-rmse:0.226085\tvalidation_1-rmse:0.280056\n",
            "[539]\tvalidation_0-rmse:0.226062\tvalidation_1-rmse:0.280051\n",
            "[540]\tvalidation_0-rmse:0.226024\tvalidation_1-rmse:0.279994\n",
            "[541]\tvalidation_0-rmse:0.225909\tvalidation_1-rmse:0.279963\n",
            "Stopping. Best iteration:\n",
            "[531]\tvalidation_0-rmse:0.226572\tvalidation_1-rmse:0.27946\n",
            "\n"
          ],
          "name": "stdout"
        },
        {
          "output_type": "execute_result",
          "data": {
            "text/plain": [
              "XGBRegressor(base_score=0.5, booster='gbtree', colsample_bylevel=1,\n",
              "             colsample_bynode=1, colsample_bytree=1, gamma=0,\n",
              "             importance_type='gain', learning_rate=0.1, max_delta_step=0,\n",
              "             max_depth=3, min_child_weight=1, missing=None, n_estimators=1000,\n",
              "             n_jobs=-1, nthread=None, objective='reg:linear', random_state=0,\n",
              "             reg_alpha=0, reg_lambda=1, scale_pos_weight=1, seed=None,\n",
              "             silent=None, subsample=1, verbosity=1)"
            ]
          },
          "metadata": {
            "tags": []
          },
          "execution_count": 27
        }
      ]
    },
    {
      "cell_type": "code",
      "metadata": {
        "id": "LYhXGK28Bqkn",
        "colab_type": "code",
        "outputId": "143be6d1-cbbe-494f-e88f-1989efdf5cc4",
        "colab": {
          "base_uri": "https://localhost:8080/",
          "height": 34
        }
      },
      "source": [
        "sum(range(1,542))"
      ],
      "execution_count": 0,
      "outputs": [
        {
          "output_type": "execute_result",
          "data": {
            "text/plain": [
              "146611"
            ]
          },
          "metadata": {
            "tags": []
          },
          "execution_count": 46
        }
      ]
    },
    {
      "cell_type": "code",
      "metadata": {
        "id": "eygBiuB19T9F",
        "colab_type": "code",
        "outputId": "c07db189-bbd3-4c19-d962-90aa8aff9098",
        "colab": {
          "base_uri": "https://localhost:8080/",
          "height": 269
        }
      },
      "source": [
        "results = model.evals_result()\n",
        "train_rmse = results['validation_0']['rmse']\n",
        "val_rmse = results['validation_1']['rmse']\n",
        "epoch = range(len(train_rmse))\n",
        "plt.plot(epoch, train_rmse, label='Train')\n",
        "plt.plot(epoch, val_rmse, label='Validation')\n",
        "plt.ylim((0.2,0.4))\n",
        "plt.legend();"
      ],
      "execution_count": 0,
      "outputs": [
        {
          "output_type": "display_data",
          "data": {
            "image/png": "[encoded data removed]",
            "text/plain": [
              "<Figure size 432x288 with 1 Axes>"
            ]
          },
          "metadata": {
            "tags": []
          }
        }
      ]
    },
    {
      "cell_type": "markdown",
      "metadata": {
        "colab_type": "text",
        "id": "Uu50KGLSqDK0"
      },
      "source": [
        "#### Kaggle RMSLE: 0.29454"
      ]
    },
    {
      "cell_type": "markdown",
      "metadata": {
        "colab_type": "text",
        "id": "OCKIuAU2RljU"
      },
      "source": [
        "### Understand the difference between boosting & bagging\n",
        "\n",
        "Boosting (used by Gradient Boosting) is different than Bagging (used by Random Forests). \n",
        "\n",
        "[_An Introduction to Statistical Learning_](http://www-bcf.usc.edu/~gareth/ISL/ISLR%20Seventh%20Printing.pdf) Chapter 8.2.3, Boosting:\n",
        "\n",
        ">Recall that bagging involves creating multiple copies of the original training data set using the bootstrap, fitting a separate decision tree to each copy, and then combining all of the trees in order to create a single predictive model.\n",
        "\n",
        ">**Boosting works in a similar way, except that the trees are grown _sequentially_: each tree is grown using information from previously grown trees.**\n",
        "\n",
        ">Unlike fitting a single large decision tree to the data, which amounts to _fitting the data hard_ and potentially overfitting, the boosting approach instead _learns slowly._ Given the current model, we fit a decision tree to the residuals from the model.\n",
        "\n",
        ">We then add this new decision tree into the fitted function in order to update the residuals. Each of these trees can be rather small, with just a few terminal nodes. **By fitting small trees to the residuals, we slowly improve fˆ in areas where it does not perform well.**\n",
        "\n",
        ">Note that in boosting, unlike in bagging, the construction of each tree depends strongly on the trees that have already been grown."
      ]
    },
    {
      "cell_type": "markdown",
      "metadata": {
        "colab_type": "text",
        "id": "kXCr2NY5RljV"
      },
      "source": [
        "# Assignment\n",
        "- Continue to participate in the [Kaggle Caterpillar competition](https://www.kaggle.com/c/caterpillar-tube-pricing).\n",
        "- Do more feature engineering. \n",
        "- Use xgboost for gradient boosting.\n",
        "- Submit new predictions.\n",
        "- Commit your notebook to your fork of the GitHub repo.\n",
        "\n",
        "## Stretch Goals\n",
        "- Improve your scores on Kaggle.\n",
        "- Make visualizations and share on Slack.\n",
        "- Look at [Kaggle Kernels](https://www.kaggle.com/c/caterpillar-tube-pricing/kernels) for ideas about feature engineerng and visualization.\n",
        "- Look at the bonus notebook in the repo, about Monotonic Constraints with Gradient Boosting.\n",
        "- Read more about gradient boosting:\n",
        "  - [A Gentle Introduction to the Gradient Boosting Algorithm for Machine Learning](https://machinelearningmastery.com/gentle-introduction-gradient-boosting-algorithm-machine-learning/)\n",
        "  - [A Kaggle Master Explains Gradient Boosting](http://blog.kaggle.com/2017/01/23/a-kaggle-master-explains-gradient-boosting/)\n",
        "  - [_An Introduction to Statistical Learning_](http://www-bcf.usc.edu/~gareth/ISL/ISLR%20Seventh%20Printing.pdf) Chapter 8\n",
        "  - [Gradient Boosting Explained](http://arogozhnikov.github.io/2016/06/24/gradient_boosting_explained.html)\n",
        "  - [Boosting](https://www.youtube.com/watch?v=GM3CDQfQ4sw) (3 minute video)"
      ]
    }
  ]
}