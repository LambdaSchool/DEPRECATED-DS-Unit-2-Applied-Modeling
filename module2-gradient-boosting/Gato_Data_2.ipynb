{
 "cells": [
  {
   "cell_type": "code",
   "execution_count": 14,
   "metadata": {},
   "outputs": [
    {
     "name": "stdout",
     "output_type": "stream",
     "text": [
      "bill_of_materials.csv  components.csv\t  train_set.csv\r\n",
      "cat_submission.csv     comp_other.csv\t  tube.csv\r\n",
      "comp_adaptor.csv       comp_sleeve.csv\t  tube_end_form.csv\r\n",
      "comp_boss.csv\t       comp_straight.csv  type_component.csv\r\n",
      "comp_elbow.csv\t       comp_tee.csv\t  type_connection.csv\r\n",
      "comp_float.csv\t       comp_threaded.csv  type_end_form.csv\r\n",
      "comp_hfl.csv\t       specs.csv\r\n",
      "comp_nut.csv\t       test_set.csv\r\n"
     ]
    }
   ],
   "source": [
    "\n",
    "%matplotlib inline\n",
    "import pandas as pd\n",
    "import numpy as np\n",
    "import pandas as pd\n",
    "import numpy as np\n",
    "import seaborn as sns\n",
    "import category_encoders as ce\n",
    "from sklearn.metrics import mean_squared_log_error ,r2_score ,mean_squared_error\n",
    "from sklearn.model_selection import train_test_split\n",
    "from glob import glob\n",
    "from sklearn.ensemble import RandomForestRegressor\n",
    "from sklearn.pipeline import make_pipeline\n",
    "from sklearn.impute import SimpleImputer\n",
    "\n",
    "s =\"../data/caterpillar/competition_data/\"\n",
    "\n",
    "!ls $s"
   ]
  },
  {
   "cell_type": "code",
   "execution_count": 25,
   "metadata": {},
   "outputs": [],
   "source": [
    "data ={}\n",
    "for path in glob(s +'*.csv'):\n",
    "    df = pd.read_csv(path)\n",
    "    filename = path.split('/')[-1]\n",
    "    name = filename.split('.')[0]\n",
    "    data[name] = df\n",
    "\n",
    "    \n",
    "def wrangle\n",
    "\n"
   ]
  }
 ],
 "metadata": {
  "colab": {
   "collapsed_sections": [
    "oHzoyXgcHL6u",
    "Om5LVgmqHL6v"
   ],
   "name": "DS5_log_linear_regression.ipynb",
   "provenance": [],
   "version": "0.3.2"
  },
  "kernelspec": {
   "display_name": "Python 3",
   "language": "python",
   "name": "python3"
  },
  "language_info": {
   "codemirror_mode": {
    "name": "ipython",
    "version": 3
   },
   "file_extension": ".py",
   "mimetype": "text/x-python",
   "name": "python",
   "nbconvert_exporter": "python",
   "pygments_lexer": "ipython3",
   "version": "3.7.3"
  }
 },
 "nbformat": 4,
 "nbformat_minor": 1
}
