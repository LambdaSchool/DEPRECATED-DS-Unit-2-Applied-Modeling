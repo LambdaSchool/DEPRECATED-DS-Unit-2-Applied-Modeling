{
 "cells": [
  {
   "cell_type": "code",
   "execution_count": 1,
   "metadata": {},
   "outputs": [
    {
     "name": "stdout",
     "output_type": "stream",
     "text": [
      "--2019-08-13 21:10:58--  https://github.com/unburied/DS-Unit-2-Applied-Modeling/raw/master/data/caterpillar/caterpillar-tube-pricing.zip\n",
      "Resolving github.com (github.com)... 192.30.253.113\n",
      "Connecting to github.com (github.com)|192.30.253.113|:443... connected.\n",
      "HTTP request sent, awaiting response... 302 Found\n",
      "Location: https://raw.githubusercontent.com/unburied/DS-Unit-2-Applied-Modeling/master/data/caterpillar/caterpillar-tube-pricing.zip [following]\n",
      "--2019-08-13 21:10:59--  https://raw.githubusercontent.com/unburied/DS-Unit-2-Applied-Modeling/master/data/caterpillar/caterpillar-tube-pricing.zip\n",
      "Resolving raw.githubusercontent.com (raw.githubusercontent.com)... 151.101.208.133\n",
      "Connecting to raw.githubusercontent.com (raw.githubusercontent.com)|151.101.208.133|:443... connected.\n",
      "HTTP request sent, awaiting response... 200 OK\n",
      "Length: 823789 (804K) [application/zip]\n",
      "Saving to: ‘caterpillar-tube-pricing.zip.7’\n",
      "\n",
      "caterpillar-tube-pr 100%[===================>] 804.48K  --.-KB/s    in 0.1s    \n",
      "\n",
      "2019-08-13 21:10:59 (7.24 MB/s) - ‘caterpillar-tube-pricing.zip.7’ saved [823789/823789]\n",
      "\n"
     ]
    }
   ],
   "source": [
    "!wget https://github.com/unburied/DS-Unit-2-Applied-Modeling/raw/master/data/caterpillar/caterpillar-tube-pricing.zip"
   ]
  },
  {
   "cell_type": "code",
   "execution_count": 2,
   "metadata": {},
   "outputs": [],
   "source": [
    "#!unzip -n caterpillar-tube-pricing.zip "
   ]
  },
  {
   "cell_type": "code",
   "execution_count": 3,
   "metadata": {},
   "outputs": [],
   "source": [
    "#!unzip data.zip"
   ]
  },
  {
   "cell_type": "code",
   "execution_count": 4,
   "metadata": {},
   "outputs": [],
   "source": [
    "from glob import glob\n",
    "import pandas as pd\n",
    "\n",
    "#load data into df dictionary and clean names as keys\n",
    "df_dict = {}\n",
    "for file in glob('competition_data/*'):\n",
    "    name = file.replace('competition_data/', '').replace('.csv', '')\n",
    "    df_dict[name] = pd.read_csv(file) "
   ]
  },
  {
   "cell_type": "code",
   "execution_count": 5,
   "metadata": {},
   "outputs": [
    {
     "data": {
      "text/plain": [
       "dict_keys(['type_end_form', 'comp_elbow', 'bill_of_materials', 'type_connection', 'comp_float', 'components', 'tube_end_form', 'tube', 'test_set', 'comp_other', 'comp_boss', 'comp_adaptor', 'specs', 'type_component', 'train_set', 'comp_nut', 'comp_threaded', 'comp_straight', 'comp_tee', 'comp_sleeve', 'comp_hfl'])"
      ]
     },
     "execution_count": 5,
     "metadata": {},
     "output_type": "execute_result"
    }
   ],
   "source": [
    "df_dict.keys()"
   ]
  },
  {
   "cell_type": "code",
   "execution_count": 6,
   "metadata": {},
   "outputs": [],
   "source": [
    "#extract data to split and begin exploration\n",
    "trainval = df_dict['train_set']\n",
    "test = df_dict['test_set']"
   ]
  },
  {
   "cell_type": "code",
   "execution_count": 7,
   "metadata": {},
   "outputs": [
    {
     "data": {
      "text/html": [
       "<div>\n",
       "<style scoped>\n",
       "    .dataframe tbody tr th:only-of-type {\n",
       "        vertical-align: middle;\n",
       "    }\n",
       "\n",
       "    .dataframe tbody tr th {\n",
       "        vertical-align: top;\n",
       "    }\n",
       "\n",
       "    .dataframe thead th {\n",
       "        text-align: right;\n",
       "    }\n",
       "</style>\n",
       "<table border=\"1\" class=\"dataframe\">\n",
       "  <thead>\n",
       "    <tr style=\"text-align: right;\">\n",
       "      <th></th>\n",
       "      <th>tube_assembly_id</th>\n",
       "      <th>supplier</th>\n",
       "      <th>quote_date</th>\n",
       "      <th>annual_usage</th>\n",
       "      <th>min_order_quantity</th>\n",
       "      <th>bracket_pricing</th>\n",
       "      <th>quantity</th>\n",
       "      <th>cost</th>\n",
       "    </tr>\n",
       "  </thead>\n",
       "  <tbody>\n",
       "    <tr>\n",
       "      <th>0</th>\n",
       "      <td>TA-00002</td>\n",
       "      <td>S-0066</td>\n",
       "      <td>2013-07-07</td>\n",
       "      <td>0</td>\n",
       "      <td>0</td>\n",
       "      <td>Yes</td>\n",
       "      <td>1</td>\n",
       "      <td>21.905933</td>\n",
       "    </tr>\n",
       "    <tr>\n",
       "      <th>1</th>\n",
       "      <td>TA-00002</td>\n",
       "      <td>S-0066</td>\n",
       "      <td>2013-07-07</td>\n",
       "      <td>0</td>\n",
       "      <td>0</td>\n",
       "      <td>Yes</td>\n",
       "      <td>2</td>\n",
       "      <td>12.341214</td>\n",
       "    </tr>\n",
       "    <tr>\n",
       "      <th>2</th>\n",
       "      <td>TA-00002</td>\n",
       "      <td>S-0066</td>\n",
       "      <td>2013-07-07</td>\n",
       "      <td>0</td>\n",
       "      <td>0</td>\n",
       "      <td>Yes</td>\n",
       "      <td>5</td>\n",
       "      <td>6.601826</td>\n",
       "    </tr>\n",
       "    <tr>\n",
       "      <th>3</th>\n",
       "      <td>TA-00002</td>\n",
       "      <td>S-0066</td>\n",
       "      <td>2013-07-07</td>\n",
       "      <td>0</td>\n",
       "      <td>0</td>\n",
       "      <td>Yes</td>\n",
       "      <td>10</td>\n",
       "      <td>4.687770</td>\n",
       "    </tr>\n",
       "    <tr>\n",
       "      <th>4</th>\n",
       "      <td>TA-00002</td>\n",
       "      <td>S-0066</td>\n",
       "      <td>2013-07-07</td>\n",
       "      <td>0</td>\n",
       "      <td>0</td>\n",
       "      <td>Yes</td>\n",
       "      <td>25</td>\n",
       "      <td>3.541561</td>\n",
       "    </tr>\n",
       "  </tbody>\n",
       "</table>\n",
       "</div>"
      ],
      "text/plain": [
       "  tube_assembly_id supplier  quote_date  annual_usage  min_order_quantity  \\\n",
       "0         TA-00002   S-0066  2013-07-07             0                   0   \n",
       "1         TA-00002   S-0066  2013-07-07             0                   0   \n",
       "2         TA-00002   S-0066  2013-07-07             0                   0   \n",
       "3         TA-00002   S-0066  2013-07-07             0                   0   \n",
       "4         TA-00002   S-0066  2013-07-07             0                   0   \n",
       "\n",
       "  bracket_pricing  quantity       cost  \n",
       "0             Yes         1  21.905933  \n",
       "1             Yes         2  12.341214  \n",
       "2             Yes         5   6.601826  \n",
       "3             Yes        10   4.687770  \n",
       "4             Yes        25   3.541561  "
      ]
     },
     "execution_count": 7,
     "metadata": {},
     "output_type": "execute_result"
    }
   ],
   "source": [
    "trainval.head()"
   ]
  },
  {
   "cell_type": "code",
   "execution_count": 8,
   "metadata": {},
   "outputs": [
    {
     "data": {
      "text/plain": [
       "set()"
      ]
     },
     "execution_count": 8,
     "metadata": {},
     "output_type": "execute_result"
    }
   ],
   "source": [
    "#get unique id's for assemblies to split\n",
    "train_tubes = trainval.tube_assembly_id.unique()\n",
    "test_tubes = test.tube_assembly_id.unique()\n",
    "\n",
    "set(train_tubes) & set(test_tubes)"
   ]
  },
  {
   "cell_type": "code",
   "execution_count": 9,
   "metadata": {},
   "outputs": [
    {
     "data": {
      "text/plain": [
       "set()"
      ]
     },
     "execution_count": 9,
     "metadata": {},
     "output_type": "execute_result"
    }
   ],
   "source": [
    "from sklearn.model_selection import train_test_split\n",
    "\n",
    "#split for train and validation\n",
    "train_assemblies, val_assemblies = train_test_split(train_tubes,\n",
    "                                                   random_state = 42)\n",
    "#confirm both sets have unique assemblies\n",
    "set(train_assemblies) & set(val_assemblies)"
   ]
  },
  {
   "cell_type": "code",
   "execution_count": 10,
   "metadata": {},
   "outputs": [],
   "source": [
    "#split trainval in train and val subsets\n",
    "train = trainval[trainval.tube_assembly_id.isin(train_assemblies)]\n",
    "val = trainval[trainval.tube_assembly_id.isin(val_assemblies)]\n",
    "\n",
    "assert len(train) + len(val) == len(trainval)"
   ]
  },
  {
   "cell_type": "code",
   "execution_count": 11,
   "metadata": {},
   "outputs": [],
   "source": [
    "#get baseline == mean\n",
    "import numpy as np\n",
    "\n",
    "target = 'cost'\n",
    "\n",
    "#set target and predictions\n",
    "y_train = train[target]\n",
    "y_val = val[target]\n",
    "y_pred = np.full_like(y_val, fill_value = y_train.mean())"
   ]
  },
  {
   "cell_type": "code",
   "execution_count": 12,
   "metadata": {},
   "outputs": [],
   "source": [
    "#score baseline\n",
    "from sklearn.metrics import mean_squared_log_error\n",
    "\n",
    "def rmsle(pred, true):\n",
    "    score = np.sqrt(mean_squared_log_error(pred, true))\n",
    "    statement = f'Score = {score}'\n",
    "    return print(statement)"
   ]
  },
  {
   "cell_type": "code",
   "execution_count": 13,
   "metadata": {},
   "outputs": [
    {
     "name": "stdout",
     "output_type": "stream",
     "text": [
      "Score = 0.9418101276064408\n"
     ]
    }
   ],
   "source": [
    "rmsle(y_pred, y_val)"
   ]
  },
  {
   "cell_type": "code",
   "execution_count": 14,
   "metadata": {},
   "outputs": [
    {
     "name": "stdout",
     "output_type": "stream",
     "text": [
      "Score = 0.6908077787154119\n"
     ]
    }
   ],
   "source": [
    "#use simple model to build upon baseline\n",
    "from sklearn.ensemble import RandomForestRegressor\n",
    "\n",
    "#use numerical feature quantity for model baseline\n",
    "feature = ['quantity']\n",
    "X_train = train[feature]\n",
    "X_val = val[feature]\n",
    "\n",
    "#fit model\n",
    "model = RandomForestRegressor(n_estimators = 350, max_depth = 20)\n",
    "model.fit(X_train, y_train)\n",
    "\n",
    "#get score\n",
    "y_pred = model.predict(X_val)\n",
    "rmsle(y_pred, y_val)"
   ]
  },
  {
   "cell_type": "code",
   "execution_count": 15,
   "metadata": {},
   "outputs": [],
   "source": [
    "#wrangle data\n",
    "def wrangle(df):\n",
    "    X = df.copy()\n",
    "    \n",
    "    #merge related columns for separate files\n",
    "    X = mash(X)\n",
    "    \n",
    "    #add bills data\n",
    "    X = X.merge(clean_bills(df_dict['bill_of_materials']), how = 'left')\n",
    "    \n",
    "    X['quote_date'] = pd.to_datetime(X.quote_date, infer_datetime_format = True)\n",
    "    X['year'] = X.quote_date.dt.year\n",
    "    X['month'] = X.quote_date.dt.month\n",
    "    X['day'] = X.quote_date.dt.day\n",
    "    X['day_of_year'] = X.quote_date.dt.dayofyear\n",
    "    X['day_of_week'] = X.quote_date.dt.dayofweek\n",
    "    \n",
    "    X['component_id'] = X.component_id_1\n",
    "    X = X.merge(df_dict['tube'], how = 'left')\n",
    "    X = X.merge(df_dict['components'], how = 'left')\n",
    "    X = X.merge(df_dict['type_component'], how = 'left')\n",
    "    \n",
    "    drop = ['quote_date', 'tube_assembly_id','other', 'component_id_1']\n",
    "    X = X.drop(columns = drop)\n",
    "    \n",
    "    \n",
    "    \n",
    "    return X"
   ]
  },
  {
   "cell_type": "code",
   "execution_count": 16,
   "metadata": {},
   "outputs": [],
   "source": [
    "#function to merge all data\n",
    "def mash(X):\n",
    "    X = X.copy()\n",
    "    for k,v in df_dict.items():\n",
    "        #determine if columns share values\n",
    "        shared_columns = set(X.columns) & set(v.columns)\n",
    "        #if so merge\n",
    "        if shared_columns:\n",
    "            X = X.merge(v, how = 'left')\n",
    "    #drop columns that contain NA for now\n",
    "    X = X.dropna(axis = 1)        \n",
    "    return X"
   ]
  },
  {
   "cell_type": "code",
   "execution_count": 17,
   "metadata": {},
   "outputs": [],
   "source": [
    "def clean_bills(df):\n",
    "    id_info = df.copy()\n",
    "    \n",
    "    #initialize a columns of zeros to count up from\n",
    "    id_info['num_of_comps'] = [0 for _ in range(id_info.shape[0])]\n",
    "    id_info['total_quantity'] = [0 for _ in range(id_info.shape[0])]\n",
    "    \n",
    "    #increment new columns for any column not containing a null value\n",
    "    for col in range(1,9):\n",
    "        id_info['num_of_comps'] = np.where(id_info[f'component_id_{col}'].isnull(),\n",
    "                                           id_info.num_of_comps , id_info.num_of_comps + 1)\n",
    "        id_info['total_quantity'] = np.where(id_info[f'quantity_{col}'].isnull(),\n",
    "                                           id_info.total_quantity , \n",
    "                                           id_info.total_quantity + id_info[f'quantity_{col}'])\n",
    "        \n",
    "    #return df filtered with new columns and 3 components ids\n",
    "    filters = ['component_id_1','component_id_2','component_id_3',\n",
    "               'num_of_comps', 'total_quantity', 'tube_assembly_id']\n",
    "    \n",
    "    return id_info[filters]"
   ]
  },
  {
   "cell_type": "code",
   "execution_count": 18,
   "metadata": {},
   "outputs": [],
   "source": [
    "#wrangle data and pop targets\n",
    "y_train = train.pop('cost')\n",
    "y_val = val.pop('cost')\n",
    "train_wrangled = wrangle(train)\n",
    "val_wrangled = wrangle(val)\n",
    "test_wrangled = wrangle(test)"
   ]
  },
  {
   "cell_type": "code",
   "execution_count": 19,
   "metadata": {},
   "outputs": [],
   "source": [
    "#tie up loose ends\n",
    "train_wrangled = train_wrangled.drop(columns = 'cost')\n",
    "val_wrangled = val_wrangled.drop(columns = 'cost')\n",
    "test_wrangled = test_wrangled.drop(columns = 'id')"
   ]
  },
  {
   "cell_type": "code",
   "execution_count": 20,
   "metadata": {},
   "outputs": [
    {
     "name": "stdout",
     "output_type": "stream",
     "text": [
      "Score = 0.29373382585035696\n"
     ]
    }
   ],
   "source": [
    "import category_encoders as ce\n",
    "from sklearn.pipeline import make_pipeline\n",
    "\n",
    "#make pipeline to encode and model data\n",
    "pipeline = make_pipeline(ce.OrdinalEncoder(),\n",
    "                        RandomForestRegressor(n_estimators = 150,\n",
    "                                             max_depth = 20,\n",
    "                                             n_jobs = -1))\n",
    "#fit data and get score\n",
    "pipeline.fit(train_wrangled, y_train)\n",
    "y_pred = pipeline.predict(val_wrangled)\n",
    "rmsle(y_pred, y_val)"
   ]
  },
  {
   "cell_type": "code",
   "execution_count": 21,
   "metadata": {},
   "outputs": [],
   "source": [
    "def submission(test, attempt):   \n",
    "    attempt = 'submission-' + str(attempt) + '.csv'\n",
    "    sample_submission = pd.read_csv('sample_submission.csv')\n",
    "    submission = sample_submission.copy()\n",
    "    submission['cost'] = np.expm1(pipeline.predict(test))\n",
    "    submission.to_csv(attempt, index=False)"
   ]
  },
  {
   "cell_type": "code",
   "execution_count": 23,
   "metadata": {},
   "outputs": [],
   "source": [
    "#convert to log values\n",
    "y_train_log = np.log1p(y_train)\n",
    "y_val_log = np.log1p(y_val)"
   ]
  },
  {
   "cell_type": "code",
   "execution_count": 24,
   "metadata": {},
   "outputs": [
    {
     "name": "stderr",
     "output_type": "stream",
     "text": [
      "/home/unburied/anaconda3/lib/python3.7/site-packages/xgboost/core.py:587: FutureWarning: Series.base is deprecated and will be removed in a future version\n",
      "  if getattr(data, 'base', None) is not None and \\\n"
     ]
    },
    {
     "name": "stdout",
     "output_type": "stream",
     "text": [
      "[21:12:00] WARNING: src/objective/regression_obj.cu:152: reg:linear is now deprecated in favor of reg:squarederror.\n"
     ]
    }
   ],
   "source": [
    "from xgboost import XGBRegressor\n",
    "\n",
    "# Make pipeline\n",
    "pipeline = make_pipeline(\n",
    "    ce.OrdinalEncoder(), \n",
    "    XGBRegressor(n_estimators=1000, n_job=-1))\n",
    "    \n",
    "pipeline.fit(train_wrangled, y_train_log)\n",
    "y_pred_log = pipeline.predict(val_wrangled)"
   ]
  },
  {
   "cell_type": "code",
   "execution_count": 25,
   "metadata": {},
   "outputs": [],
   "source": [
    "#score baseline\n",
    "from sklearn.metrics import mean_squared_error\n",
    "\n",
    "def rmse(pred, true):\n",
    "    score = np.sqrt(mean_squared_error(pred, true))\n",
    "    statement = f'Score = {score}'\n",
    "    return print(statement)"
   ]
  },
  {
   "cell_type": "code",
   "execution_count": 26,
   "metadata": {},
   "outputs": [
    {
     "name": "stdout",
     "output_type": "stream",
     "text": [
      "Score = 0.2657981713355923\n"
     ]
    }
   ],
   "source": [
    "rmse(y_pred_log, y_val_log)"
   ]
  },
  {
   "cell_type": "code",
   "execution_count": 29,
   "metadata": {},
   "outputs": [
    {
     "data": {
      "text/plain": [
       "XGBRegressor(base_score=0.5, booster='gbtree', colsample_bylevel=1,\n",
       "       colsample_bynode=1, colsample_bytree=1, gamma=0,\n",
       "       importance_type='gain', learning_rate=0.1, max_delta_step=0,\n",
       "       max_depth=3, min_child_weight=1, missing=None, n_estimators=1000,\n",
       "       n_job=-1, n_jobs=1, nthread=None, objective='reg:linear',\n",
       "       random_state=0, reg_alpha=0, reg_lambda=1, scale_pos_weight=1,\n",
       "       seed=None, silent=None, subsample=1, verbosity=1)"
      ]
     },
     "execution_count": 29,
     "metadata": {},
     "output_type": "execute_result"
    }
   ],
   "source": [
    "#submission(test_wrangled, 4)\n",
    "pipeline.named_steps['xgbregressor']"
   ]
  },
  {
   "cell_type": "code",
   "execution_count": 35,
   "metadata": {},
   "outputs": [],
   "source": [
    "from sklearn.model_selection import RandomizedSearchCV\n",
    "\n",
    "n_estimators = range(1000, 3000, 250)\n",
    "max_depth = range(1,5)\n",
    "learning_rate = [.1, .5, 1 , 2]\n",
    "\n",
    "param_distributions = {\n",
    "    'xgbregressor__n_estimators' : n_estimators,\n",
    "    'xgbregressor__max_depth' : max_depth,\n",
    "    'xgbregressor__learning_rate' : learning_rate,\n",
    "    }\n",
    "tuner = RandomizedSearchCV(\n",
    "    pipeline,\n",
    "    param_distributions = param_distributions,\n",
    "    n_iter = 25,\n",
    "    cv = 4,\n",
    "    return_train_score = True,\n",
    "    n_jobs = 3)"
   ]
  },
  {
   "cell_type": "code",
   "execution_count": 36,
   "metadata": {},
   "outputs": [
    {
     "name": "stderr",
     "output_type": "stream",
     "text": [
      "/home/unburied/anaconda3/lib/python3.7/site-packages/xgboost/core.py:587: FutureWarning: Series.base is deprecated and will be removed in a future version\n",
      "  if getattr(data, 'base', None) is not None and \\\n"
     ]
    },
    {
     "name": "stdout",
     "output_type": "stream",
     "text": [
      "[21:45:20] WARNING: src/objective/regression_obj.cu:152: reg:linear is now deprecated in favor of reg:squarederror.\n"
     ]
    },
    {
     "data": {
      "text/plain": [
       "RandomizedSearchCV(cv=4, error_score='raise-deprecating',\n",
       "          estimator=Pipeline(memory=None,\n",
       "     steps=[('ordinalencoder', OrdinalEncoder(cols=['supplier', 'bracket_pricing', 'end_a_1x', 'end_a_2x', 'end_x_1x', 'end_x_2x', 'end_a', 'end_x', 'component_id_2', 'component_id_3', 'component_id', 'material_id', 'name', 'component_type_id'],\n",
       "        drop_invariant=False, handle_unknown='impute', impu...lpha=0, reg_lambda=1, scale_pos_weight=1,\n",
       "       seed=None, silent=None, subsample=1, verbosity=1))]),\n",
       "          fit_params=None, iid='warn', n_iter=25, n_jobs=3,\n",
       "          param_distributions={'xgbregressor__n_estimators': range(1000, 3000, 250), 'xgbregressor__max_depth': range(1, 5), 'xgbregressor__learning_rate': [0.1, 0.5, 1, 2]},\n",
       "          pre_dispatch='2*n_jobs', random_state=None, refit=True,\n",
       "          return_train_score=True, scoring=None, verbose=0)"
      ]
     },
     "execution_count": 36,
     "metadata": {},
     "output_type": "execute_result"
    }
   ],
   "source": [
    "tuner.fit(train_wrangled, y_train_log)"
   ]
  },
  {
   "cell_type": "code",
   "execution_count": 37,
   "metadata": {},
   "outputs": [
    {
     "data": {
      "text/plain": [
       "{'xgbregressor__n_estimators': 2000,\n",
       " 'xgbregressor__max_depth': 4,\n",
       " 'xgbregressor__learning_rate': 0.1}"
      ]
     },
     "execution_count": 37,
     "metadata": {},
     "output_type": "execute_result"
    }
   ],
   "source": [
    "tuner.best_params_"
   ]
  },
  {
   "cell_type": "code",
   "execution_count": 39,
   "metadata": {},
   "outputs": [
    {
     "name": "stdout",
     "output_type": "stream",
     "text": [
      "Score = 0.2657981713355923\n"
     ]
    }
   ],
   "source": [
    "y_pred_log = tuner.estimator.predict(val_wrangled)\n",
    "rmse(y_pred_log,y_val_log)"
   ]
  },
  {
   "cell_type": "code",
   "execution_count": 40,
   "metadata": {},
   "outputs": [
    {
     "name": "stderr",
     "output_type": "stream",
     "text": [
      "/home/unburied/anaconda3/lib/python3.7/site-packages/xgboost/core.py:587: FutureWarning: Series.base is deprecated and will be removed in a future version\n",
      "  if getattr(data, 'base', None) is not None and \\\n"
     ]
    },
    {
     "name": "stdout",
     "output_type": "stream",
     "text": [
      "[21:50:37] WARNING: src/objective/regression_obj.cu:152: reg:linear is now deprecated in favor of reg:squarederror.\n"
     ]
    }
   ],
   "source": [
    "pipeline = make_pipeline(\n",
    "    ce.OrdinalEncoder(), \n",
    "    XGBRegressor(n_estimators=2000,\n",
    "                 max_depth = 4,\n",
    "                 n_job=-1))\n",
    "    \n",
    "pipeline.fit(train_wrangled, y_train_log)"
   ]
  },
  {
   "cell_type": "code",
   "execution_count": 41,
   "metadata": {},
   "outputs": [],
   "source": [
    "submission(test_wrangled, 5)"
   ]
  },
  {
   "cell_type": "code",
   "execution_count": 42,
   "metadata": {},
   "outputs": [],
   "source": [
    "#will add an ensabmle of features on next iteration"
   ]
  },
  {
   "cell_type": "code",
   "execution_count": null,
   "metadata": {},
   "outputs": [],
   "source": []
  }
 ],
 "metadata": {
  "kernelspec": {
   "display_name": "Python 3",
   "language": "python",
   "name": "python3"
  },
  "language_info": {
   "codemirror_mode": {
    "name": "ipython",
    "version": 3
   },
   "file_extension": ".py",
   "mimetype": "text/x-python",
   "name": "python",
   "nbconvert_exporter": "python",
   "pygments_lexer": "ipython3",
   "version": "3.7.3"
  }
 },
 "nbformat": 4,
 "nbformat_minor": 2
}
