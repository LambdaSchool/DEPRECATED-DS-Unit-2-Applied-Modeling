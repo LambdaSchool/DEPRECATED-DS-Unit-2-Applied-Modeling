{
  "nbformat": 4,
  "nbformat_minor": 0,
  "metadata": {
    "colab": {
      "name": "Tyler_Sheppard_DS_Sprint_Challenge_8_Regression_2.ipynb",
      "version": "0.3.2",
      "provenance": [],
      "collapsed_sections": [],
      "include_colab_link": true
    },
    "language_info": {
      "codemirror_mode": {
        "name": "ipython",
        "version": 3
      },
      "file_extension": ".py",
      "mimetype": "text/x-python",
      "name": "python",
      "nbconvert_exporter": "python",
      "pygments_lexer": "ipython3",
      "version": "3.7.1"
    },
    "kernelspec": {
      "display_name": "Python 3",
      "language": "python",
      "name": "python3"
    }
  },
  "cells": [
    {
      "cell_type": "markdown",
      "metadata": {
        "id": "view-in-github",
        "colab_type": "text"
      },
      "source": [
        "<a href=\"https://colab.research.google.com/github/jtsheppard/DS-Unit-2-Applied-Modeling/blob/master/Tyler_Sheppard_DS_Sprint_Challenge_8_Regression_2.ipynb\" target=\"_parent\"><img src=\"https://colab.research.google.com/assets/colab-badge.svg\" alt=\"Open In Colab\"/></a>"
      ]
    },
    {
      "cell_type": "markdown",
      "metadata": {
        "id": "rPh-uurrzprt",
        "colab_type": "text"
      },
      "source": [
        "_Lambda School Data Science, Unit 2_\n",
        " \n",
        "# Regression 2 Sprint Challenge: Predict drugstore sales 🏥\n",
        "\n",
        "For your Sprint Challenge, you'll use real-world sales data from a German drugstore chain, from Jan 2, 2013 — July 31, 2015.\n",
        "\n",
        "You are given three dataframes:\n",
        "\n",
        "- `train`: historical sales data for 100 stores\n",
        "- `test`: historical sales data for 100 different stores\n",
        "- `store`: supplemental information about the stores\n",
        "\n",
        "\n",
        "The train and test set do _not_ have different date ranges. But they _do_ have different store ids. Your task is _not_ to forecast future sales from past sales. **Your task is to predict sales at unknown stores, from sales at known stores.**"
      ]
    },
    {
      "cell_type": "code",
      "metadata": {
        "id": "jKOFk_6nzpru",
        "colab_type": "code",
        "colab": {}
      },
      "source": [
        "import pandas as pd\n",
        "train = pd.read_csv('https://drive.google.com/uc?export=download&id=1E9rgiGf1f_WL2S4-V6gD7ZhB8r8Yb_lE')\n",
        "test = pd.read_csv('https://drive.google.com/uc?export=download&id=1vkaVptn4TTYC9-YPZvbvmfDNHVR8aUml')\n",
        "store = pd.read_csv('https://drive.google.com/uc?export=download&id=1rZD-V1mWydeytptQfr-NL7dBqre6lZMo')\n",
        "assert train.shape == (78400, 7)\n",
        "assert test.shape == (78400, 7)\n",
        "assert store.shape == (200, 10)"
      ],
      "execution_count": 0,
      "outputs": []
    },
    {
      "cell_type": "markdown",
      "metadata": {
        "id": "PrvIj4olzprv",
        "colab_type": "text"
      },
      "source": [
        "The dataframes have a variety of columns:\n",
        "\n",
        "- **Store** - a unique Id for each store\n",
        "- **DayOfWeek** - integer, 1-6\n",
        "- **Date** - the date, from Jan 2, 2013 — July 31, 2015.\n",
        "- **Sales** - the units of inventory sold on a given date (this is the target you are predicting)\n",
        "- **Customers** - the number of customers on a given date\n",
        "- **Promo** - indicates whether a store is running a promo on that day\n",
        "- **SchoolHoliday** - indicates the closure of public schools\n",
        "- **StoreType** - differentiates between 4 different store models: a, b, c, d\n",
        "- **Assortment** - describes an assortment level: a = basic, b = extra, c = extended\n",
        "- **CompetitionDistance** - distance in meters to the nearest competitor store\n",
        "- **CompetitionOpenSince[Month/Year]** - gives the approximate year and month of the time the nearest competitor was opened\n",
        "- **Promo2** - Promo2 is a continuing and consecutive promotion for some stores: 0 = store is not participating, 1 = store is participating\n",
        "- **Promo2Since[Year/Week]** - describes the year and calendar week when the store started participating in Promo2\n",
        "- **PromoInterval** - describes the consecutive intervals Promo2 is started, naming the months the promotion is started anew. E.g. \"Feb,May,Aug,Nov\" means each round starts in February, May, August, November of any given year for that store"
      ]
    },
    {
      "cell_type": "markdown",
      "metadata": {
        "id": "Txb785Qdzprw",
        "colab_type": "text"
      },
      "source": [
        "This Sprint Challenge has three parts. To demonstrate mastery on each part, do all the required instructions. To earn a score of \"3\" for the part, also do the stretch goals."
      ]
    },
    {
      "cell_type": "markdown",
      "metadata": {
        "id": "B9NV3COuzprw",
        "colab_type": "text"
      },
      "source": [
        "## 1. Wrangle relational data, Log-transform the target\n",
        "- Merge the `store` dataframe with the `train` and `test` dataframes. \n",
        "- Arrange the X matrix and y vector for the train and test sets.\n",
        "- Log-transform the target for the train and test set.\n",
        "- Plot the target's distribution for the train set, before and after the transformation.\n",
        "\n",
        "#### Stretch goals\n",
        "- Engineer 3+ more features."
      ]
    },
    {
      "cell_type": "code",
      "metadata": {
        "id": "ul0pkrckIjx6",
        "colab_type": "code",
        "outputId": "cfe49066-5325-4ebd-ab0f-e1cc09e35ad8",
        "colab": {
          "base_uri": "https://localhost:8080/",
          "height": 195
        }
      },
      "source": [
        "train.head()"
      ],
      "execution_count": 2,
      "outputs": [
        {
          "output_type": "execute_result",
          "data": {
            "text/html": [
              "<div>\n",
              "<style scoped>\n",
              "    .dataframe tbody tr th:only-of-type {\n",
              "        vertical-align: middle;\n",
              "    }\n",
              "\n",
              "    .dataframe tbody tr th {\n",
              "        vertical-align: top;\n",
              "    }\n",
              "\n",
              "    .dataframe thead th {\n",
              "        text-align: right;\n",
              "    }\n",
              "</style>\n",
              "<table border=\"1\" class=\"dataframe\">\n",
              "  <thead>\n",
              "    <tr style=\"text-align: right;\">\n",
              "      <th></th>\n",
              "      <th>Store</th>\n",
              "      <th>DayOfWeek</th>\n",
              "      <th>Date</th>\n",
              "      <th>Sales</th>\n",
              "      <th>Customers</th>\n",
              "      <th>Promo</th>\n",
              "      <th>SchoolHoliday</th>\n",
              "    </tr>\n",
              "  </thead>\n",
              "  <tbody>\n",
              "    <tr>\n",
              "      <th>0</th>\n",
              "      <td>4</td>\n",
              "      <td>5</td>\n",
              "      <td>2015-07-31</td>\n",
              "      <td>13995</td>\n",
              "      <td>1498</td>\n",
              "      <td>1</td>\n",
              "      <td>1</td>\n",
              "    </tr>\n",
              "    <tr>\n",
              "      <th>1</th>\n",
              "      <td>8</td>\n",
              "      <td>5</td>\n",
              "      <td>2015-07-31</td>\n",
              "      <td>8492</td>\n",
              "      <td>833</td>\n",
              "      <td>1</td>\n",
              "      <td>1</td>\n",
              "    </tr>\n",
              "    <tr>\n",
              "      <th>2</th>\n",
              "      <td>11</td>\n",
              "      <td>5</td>\n",
              "      <td>2015-07-31</td>\n",
              "      <td>10457</td>\n",
              "      <td>1236</td>\n",
              "      <td>1</td>\n",
              "      <td>1</td>\n",
              "    </tr>\n",
              "    <tr>\n",
              "      <th>3</th>\n",
              "      <td>12</td>\n",
              "      <td>5</td>\n",
              "      <td>2015-07-31</td>\n",
              "      <td>8959</td>\n",
              "      <td>962</td>\n",
              "      <td>1</td>\n",
              "      <td>1</td>\n",
              "    </tr>\n",
              "    <tr>\n",
              "      <th>4</th>\n",
              "      <td>34</td>\n",
              "      <td>5</td>\n",
              "      <td>2015-07-31</td>\n",
              "      <td>11144</td>\n",
              "      <td>1162</td>\n",
              "      <td>1</td>\n",
              "      <td>1</td>\n",
              "    </tr>\n",
              "  </tbody>\n",
              "</table>\n",
              "</div>"
            ],
            "text/plain": [
              "   Store  DayOfWeek        Date  Sales  Customers  Promo  SchoolHoliday\n",
              "0      4          5  2015-07-31  13995       1498      1              1\n",
              "1      8          5  2015-07-31   8492        833      1              1\n",
              "2     11          5  2015-07-31  10457       1236      1              1\n",
              "3     12          5  2015-07-31   8959        962      1              1\n",
              "4     34          5  2015-07-31  11144       1162      1              1"
            ]
          },
          "metadata": {
            "tags": []
          },
          "execution_count": 2
        }
      ]
    },
    {
      "cell_type": "code",
      "metadata": {
        "id": "mwuXLCn7ITaw",
        "colab_type": "code",
        "colab": {}
      },
      "source": [
        "#merging data\n",
        "train = train.merge(store, how='left')\n",
        "test = test.merge(store, how='left')\n"
      ],
      "execution_count": 0,
      "outputs": []
    },
    {
      "cell_type": "code",
      "metadata": {
        "id": "qjvBbl78zprx",
        "colab_type": "code",
        "outputId": "49919b96-d080-44b0-f819-1a169f14098b",
        "colab": {
          "base_uri": "https://localhost:8080/",
          "height": 34
        }
      },
      "source": [
        "train.shape"
      ],
      "execution_count": 4,
      "outputs": [
        {
          "output_type": "execute_result",
          "data": {
            "text/plain": [
              "(78400, 16)"
            ]
          },
          "metadata": {
            "tags": []
          },
          "execution_count": 4
        }
      ]
    },
    {
      "cell_type": "code",
      "metadata": {
        "id": "ayNfOTnKIbCM",
        "colab_type": "code",
        "outputId": "db1b4110-95c1-43a0-a499-bd68b10e45a9",
        "colab": {
          "base_uri": "https://localhost:8080/",
          "height": 34
        }
      },
      "source": [
        "test.shape"
      ],
      "execution_count": 5,
      "outputs": [
        {
          "output_type": "execute_result",
          "data": {
            "text/plain": [
              "(78400, 16)"
            ]
          },
          "metadata": {
            "tags": []
          },
          "execution_count": 5
        }
      ]
    },
    {
      "cell_type": "code",
      "metadata": {
        "id": "IKevnk4iIdRs",
        "colab_type": "code",
        "outputId": "fe08bbd4-6fec-4b22-b55a-eb6555efda17",
        "colab": {
          "base_uri": "https://localhost:8080/",
          "height": 299
        }
      },
      "source": [
        "#cinfirming merge\n",
        "train.head()"
      ],
      "execution_count": 6,
      "outputs": [
        {
          "output_type": "execute_result",
          "data": {
            "text/html": [
              "<div>\n",
              "<style scoped>\n",
              "    .dataframe tbody tr th:only-of-type {\n",
              "        vertical-align: middle;\n",
              "    }\n",
              "\n",
              "    .dataframe tbody tr th {\n",
              "        vertical-align: top;\n",
              "    }\n",
              "\n",
              "    .dataframe thead th {\n",
              "        text-align: right;\n",
              "    }\n",
              "</style>\n",
              "<table border=\"1\" class=\"dataframe\">\n",
              "  <thead>\n",
              "    <tr style=\"text-align: right;\">\n",
              "      <th></th>\n",
              "      <th>Store</th>\n",
              "      <th>DayOfWeek</th>\n",
              "      <th>Date</th>\n",
              "      <th>Sales</th>\n",
              "      <th>Customers</th>\n",
              "      <th>Promo</th>\n",
              "      <th>SchoolHoliday</th>\n",
              "      <th>StoreType</th>\n",
              "      <th>Assortment</th>\n",
              "      <th>CompetitionDistance</th>\n",
              "      <th>CompetitionOpenSinceMonth</th>\n",
              "      <th>CompetitionOpenSinceYear</th>\n",
              "      <th>Promo2</th>\n",
              "      <th>Promo2SinceWeek</th>\n",
              "      <th>Promo2SinceYear</th>\n",
              "      <th>PromoInterval</th>\n",
              "    </tr>\n",
              "  </thead>\n",
              "  <tbody>\n",
              "    <tr>\n",
              "      <th>0</th>\n",
              "      <td>4</td>\n",
              "      <td>5</td>\n",
              "      <td>2015-07-31</td>\n",
              "      <td>13995</td>\n",
              "      <td>1498</td>\n",
              "      <td>1</td>\n",
              "      <td>1</td>\n",
              "      <td>c</td>\n",
              "      <td>c</td>\n",
              "      <td>620.0</td>\n",
              "      <td>9.0</td>\n",
              "      <td>2009.0</td>\n",
              "      <td>0</td>\n",
              "      <td>NaN</td>\n",
              "      <td>NaN</td>\n",
              "      <td>NaN</td>\n",
              "    </tr>\n",
              "    <tr>\n",
              "      <th>1</th>\n",
              "      <td>8</td>\n",
              "      <td>5</td>\n",
              "      <td>2015-07-31</td>\n",
              "      <td>8492</td>\n",
              "      <td>833</td>\n",
              "      <td>1</td>\n",
              "      <td>1</td>\n",
              "      <td>a</td>\n",
              "      <td>a</td>\n",
              "      <td>7520.0</td>\n",
              "      <td>10.0</td>\n",
              "      <td>2014.0</td>\n",
              "      <td>0</td>\n",
              "      <td>NaN</td>\n",
              "      <td>NaN</td>\n",
              "      <td>NaN</td>\n",
              "    </tr>\n",
              "    <tr>\n",
              "      <th>2</th>\n",
              "      <td>11</td>\n",
              "      <td>5</td>\n",
              "      <td>2015-07-31</td>\n",
              "      <td>10457</td>\n",
              "      <td>1236</td>\n",
              "      <td>1</td>\n",
              "      <td>1</td>\n",
              "      <td>a</td>\n",
              "      <td>c</td>\n",
              "      <td>960.0</td>\n",
              "      <td>11.0</td>\n",
              "      <td>2011.0</td>\n",
              "      <td>1</td>\n",
              "      <td>1.0</td>\n",
              "      <td>2012.0</td>\n",
              "      <td>Jan,Apr,Jul,Oct</td>\n",
              "    </tr>\n",
              "    <tr>\n",
              "      <th>3</th>\n",
              "      <td>12</td>\n",
              "      <td>5</td>\n",
              "      <td>2015-07-31</td>\n",
              "      <td>8959</td>\n",
              "      <td>962</td>\n",
              "      <td>1</td>\n",
              "      <td>1</td>\n",
              "      <td>a</td>\n",
              "      <td>c</td>\n",
              "      <td>1070.0</td>\n",
              "      <td>NaN</td>\n",
              "      <td>NaN</td>\n",
              "      <td>1</td>\n",
              "      <td>13.0</td>\n",
              "      <td>2010.0</td>\n",
              "      <td>Jan,Apr,Jul,Oct</td>\n",
              "    </tr>\n",
              "    <tr>\n",
              "      <th>4</th>\n",
              "      <td>34</td>\n",
              "      <td>5</td>\n",
              "      <td>2015-07-31</td>\n",
              "      <td>11144</td>\n",
              "      <td>1162</td>\n",
              "      <td>1</td>\n",
              "      <td>1</td>\n",
              "      <td>c</td>\n",
              "      <td>a</td>\n",
              "      <td>2240.0</td>\n",
              "      <td>9.0</td>\n",
              "      <td>2009.0</td>\n",
              "      <td>0</td>\n",
              "      <td>NaN</td>\n",
              "      <td>NaN</td>\n",
              "      <td>NaN</td>\n",
              "    </tr>\n",
              "  </tbody>\n",
              "</table>\n",
              "</div>"
            ],
            "text/plain": [
              "   Store  DayOfWeek  ... Promo2SinceYear    PromoInterval\n",
              "0      4          5  ...             NaN              NaN\n",
              "1      8          5  ...             NaN              NaN\n",
              "2     11          5  ...          2012.0  Jan,Apr,Jul,Oct\n",
              "3     12          5  ...          2010.0  Jan,Apr,Jul,Oct\n",
              "4     34          5  ...             NaN              NaN\n",
              "\n",
              "[5 rows x 16 columns]"
            ]
          },
          "metadata": {
            "tags": []
          },
          "execution_count": 6
        }
      ]
    },
    {
      "cell_type": "code",
      "metadata": {
        "id": "CIue5lnlMKkz",
        "colab_type": "code",
        "colab": {}
      },
      "source": [
        "#Arrange the X matrix and y vector for the train and test sets.\n",
        "import numpy as np\n",
        "from sklearn.model_selection import train_test_split\n",
        "\n",
        "trainval = train\n",
        "trainval_store = trainval['Store'].unique()\n",
        "train_store, val_store = train_test_split(trainval_store, random_state=42)\n",
        "train = trainval[trainval.Store.isin(train_store)]\n",
        "val = trainval[trainval.Store.isin(val_store)]\n",
        "target = 'Sales'\n",
        "x_train = train.drop(columns=target)\n",
        "x_val = val.drop(columns=target)\n",
        "x_test = test.drop(columns=target)\n",
        "y_test = test[target]\n",
        "y_train = train[target]\n",
        "y_val = val[target]\n",
        "y_train_log = np.log1p(y_train)\n",
        "y_val_log = np.log1p(y_val)\n",
        "y_test_log = np.log1p(y_test) "
      ],
      "execution_count": 0,
      "outputs": []
    },
    {
      "cell_type": "code",
      "metadata": {
        "id": "_OP8XY6kMW8K",
        "colab_type": "code",
        "outputId": "7a8baaa7-38bc-47c7-85d3-e731641c065d",
        "colab": {
          "base_uri": "https://localhost:8080/",
          "height": 283
        }
      },
      "source": [
        "#Log-transform the target for the train and test set.\n",
        "#viewing plot distrobution before log transform\n",
        "import seaborn as sns\n",
        "% matplotlib inline\n",
        "sns.distplot(y_train);"
      ],
      "execution_count": 8,
      "outputs": [
        {
          "output_type": "display_data",
          "data": {
            "image/png": "[encoded data removed]",
            "text/plain": [
              "<Figure size 432x288 with 1 Axes>"
            ]
          },
          "metadata": {
            "tags": []
          }
        }
      ]
    },
    {
      "cell_type": "code",
      "metadata": {
        "id": "_lw-YTKXOWQG",
        "colab_type": "code",
        "colab": {
          "base_uri": "https://localhost:8080/",
          "height": 283
        },
        "outputId": "4ac217f3-1390-4faf-9e7b-d5001b40e96b"
      },
      "source": [
        "sns.distplot(y_test);"
      ],
      "execution_count": 9,
      "outputs": [
        {
          "output_type": "display_data",
          "data": {
            "image/png": "[encoded data removed]",
            "text/plain": [
              "<Figure size 432x288 with 1 Axes>"
            ]
          },
          "metadata": {
            "tags": []
          }
        }
      ]
    },
    {
      "cell_type": "code",
      "metadata": {
        "id": "_u8L4Rv_PBtp",
        "colab_type": "code",
        "colab": {}
      },
      "source": [
        "y_train_log = np.log1p(y_train)\n",
        "y_test_log = np.log1p(y_test)"
      ],
      "execution_count": 0,
      "outputs": []
    },
    {
      "cell_type": "code",
      "metadata": {
        "id": "Okx5sB1APsep",
        "colab_type": "code",
        "outputId": "28e66728-de30-4662-c214-1d8b62403005",
        "colab": {
          "base_uri": "https://localhost:8080/",
          "height": 283
        }
      },
      "source": [
        "#ploting after log transform\n",
        "% matplotlib inline\n",
        "sns.distplot(y_train_log);"
      ],
      "execution_count": 11,
      "outputs": [
        {
          "output_type": "display_data",
          "data": {
            "image/png": "[encoded data removed]",
            "text/plain": [
              "<Figure size 432x288 with 1 Axes>"
            ]
          },
          "metadata": {
            "tags": []
          }
        }
      ]
    },
    {
      "cell_type": "code",
      "metadata": {
        "id": "K3wdXHeWPDaV",
        "colab_type": "code",
        "outputId": "e4f1655c-d062-42ab-8417-3259a2ccff6f",
        "colab": {
          "base_uri": "https://localhost:8080/",
          "height": 283
        }
      },
      "source": [
        "sns.distplot(y_test_log);"
      ],
      "execution_count": 12,
      "outputs": [
        {
          "output_type": "display_data",
          "data": {
            "image/png": "[encoded data removed]",
            "text/plain": [
              "<Figure size 432x288 with 1 Axes>"
            ]
          },
          "metadata": {
            "tags": []
          }
        }
      ]
    },
    {
      "cell_type": "code",
      "metadata": {
        "id": "ZyaRFv5NQAmO",
        "colab_type": "code",
        "colab": {}
      },
      "source": [
        "#I did it, yay. \n",
        "#I kknow it said just the train set but I wanted to check both"
      ],
      "execution_count": 0,
      "outputs": []
    },
    {
      "cell_type": "markdown",
      "metadata": {
        "id": "xiljXNuKzprz",
        "colab_type": "text"
      },
      "source": [
        "## 2. Fit and validate your model\n",
        "- **Use Gradient Boosting** or any type of regression model.\n",
        "- **Beat the baseline:** The estimated baseline Root Mean Squared Logarithmic Error is 0.90, if we guessed the mean sales for every prediction. Remember that RMSE with the log-transformed target is equivalent to RMSLE with the original target. Try to get your error below 0.20.\n",
        "- **To validate your model, choose any one of these options:**\n",
        "  - Split the train dataframe into train and validation sets. Put all dates for a given store into the same set. Use xgboost `early_stopping_rounds` with the validation set. \n",
        "  - Or, use scikit-learn `cross_val_score`. Put all dates for a given store into the same fold.\n",
        "  - Or, use scikit-learn `RandomizedSearchCV` for hyperparameter optimization. Put all dates for a given store into the same fold.\n",
        "- **Get the Validation Error** (multiple times if you try multiple iterations) **and Test Error** (one time, at the end).\n",
        "  \n",
        "#### Stretch goal\n",
        "- Optimize 3+ hyperparameters by searching 10+ \"candidates\" (possible combinations of hyperparameters). "
      ]
    },
    {
      "cell_type": "code",
      "metadata": {
        "id": "MHQ6-aK5T5tx",
        "colab_type": "code",
        "outputId": "e5cd1292-4855-43ab-8610-0a91a2d21a8a",
        "colab": {
          "base_uri": "https://localhost:8080/",
          "height": 202
        }
      },
      "source": [
        "!pip install category_encoders"
      ],
      "execution_count": 14,
      "outputs": [
        {
          "output_type": "stream",
          "text": [
            "Requirement already satisfied: category_encoders in /usr/local/lib/python3.6/dist-packages (2.0.0)\n",
            "Requirement already satisfied: patsy>=0.4.1 in /usr/local/lib/python3.6/dist-packages (from category_encoders) (0.5.1)\n",
            "Requirement already satisfied: scikit-learn>=0.20.0 in /usr/local/lib/python3.6/dist-packages (from category_encoders) (0.21.3)\n",
            "Requirement already satisfied: numpy>=1.11.3 in /usr/local/lib/python3.6/dist-packages (from category_encoders) (1.16.4)\n",
            "Requirement already satisfied: pandas>=0.21.1 in /usr/local/lib/python3.6/dist-packages (from category_encoders) (0.24.2)\n",
            "Requirement already satisfied: statsmodels>=0.6.1 in /usr/local/lib/python3.6/dist-packages (from category_encoders) (0.10.1)\n",
            "Requirement already satisfied: scipy>=0.19.0 in /usr/local/lib/python3.6/dist-packages (from category_encoders) (1.3.1)\n",
            "Requirement already satisfied: six in /usr/local/lib/python3.6/dist-packages (from patsy>=0.4.1->category_encoders) (1.12.0)\n",
            "Requirement already satisfied: joblib>=0.11 in /usr/local/lib/python3.6/dist-packages (from scikit-learn>=0.20.0->category_encoders) (0.13.2)\n",
            "Requirement already satisfied: python-dateutil>=2.5.0 in /usr/local/lib/python3.6/dist-packages (from pandas>=0.21.1->category_encoders) (2.5.3)\n",
            "Requirement already satisfied: pytz>=2011k in /usr/local/lib/python3.6/dist-packages (from pandas>=0.21.1->category_encoders) (2018.9)\n"
          ],
          "name": "stdout"
        }
      ]
    },
    {
      "cell_type": "code",
      "metadata": {
        "id": "WWNccxI5zprz",
        "colab_type": "code",
        "outputId": "9354ba65-c118-4ba3-f0ab-22dc65c35305",
        "colab": {
          "base_uri": "https://localhost:8080/",
          "height": 1000
        }
      },
      "source": [
        "#XBG Regressor\n",
        "import category_encoders as ce\n",
        "from xgboost import XGBRegressor\n",
        "\n",
        "encoder = ce.OrdinalEncoder()\n",
        "xtre = encoder.fit_transform(x_train)\n",
        "xve = encoder.transform(x_val)\n",
        "\n",
        "x_test = encoder.transform(x_test)\n",
        "\n",
        "\n",
        "eval_set = [(xtre, y_train_log), (xve, y_val_log)]\n",
        "\n",
        "model = XGBRegressor(n_estimators=2000, n_jobs=-1)\n",
        "model.fit(xtre, y_train_log, eval_set=eval_set, eval_metric='rmse', early_stopping_rounds=50)"
      ],
      "execution_count": 15,
      "outputs": [
        {
          "output_type": "stream",
          "text": [
            "[02:47:18] WARNING: /workspace/src/objective/regression_obj.cu:152: reg:linear is now deprecated in favor of reg:squarederror.\n",
            "[0]\tvalidation_0-rmse:7.47822\tvalidation_1-rmse:7.39615\n",
            "Multiple eval metrics have been passed: 'validation_1-rmse' will be used for early stopping.\n",
            "\n",
            "Will train until validation_1-rmse hasn't improved in 50 rounds.\n"
          ],
          "name": "stdout"
        },
        {
          "output_type": "stream",
          "text": [
            "/usr/local/lib/python3.6/dist-packages/xgboost/core.py:587: FutureWarning: Series.base is deprecated and will be removed in a future version\n",
            "  if getattr(data, 'base', None) is not None and \\\n"
          ],
          "name": "stderr"
        },
        {
          "output_type": "stream",
          "text": [
            "[1]\tvalidation_0-rmse:6.73097\tvalidation_1-rmse:6.64893\n",
            "[2]\tvalidation_0-rmse:6.05845\tvalidation_1-rmse:5.97748\n",
            "[3]\tvalidation_0-rmse:5.45322\tvalidation_1-rmse:5.3726\n",
            "[4]\tvalidation_0-rmse:4.90853\tvalidation_1-rmse:4.82896\n",
            "[5]\tvalidation_0-rmse:4.41837\tvalidation_1-rmse:4.34105\n",
            "[6]\tvalidation_0-rmse:3.97723\tvalidation_1-rmse:3.90139\n",
            "[7]\tvalidation_0-rmse:3.58027\tvalidation_1-rmse:3.50594\n",
            "[8]\tvalidation_0-rmse:3.22306\tvalidation_1-rmse:3.14983\n",
            "[9]\tvalidation_0-rmse:2.90161\tvalidation_1-rmse:2.82914\n",
            "[10]\tvalidation_0-rmse:2.61238\tvalidation_1-rmse:2.54134\n",
            "[11]\tvalidation_0-rmse:2.3521\tvalidation_1-rmse:2.28286\n",
            "[12]\tvalidation_0-rmse:2.11793\tvalidation_1-rmse:2.0493\n",
            "[13]\tvalidation_0-rmse:1.90726\tvalidation_1-rmse:1.84017\n",
            "[14]\tvalidation_0-rmse:1.71775\tvalidation_1-rmse:1.65179\n",
            "[15]\tvalidation_0-rmse:1.54729\tvalidation_1-rmse:1.48407\n",
            "[16]\tvalidation_0-rmse:1.39396\tvalidation_1-rmse:1.33068\n",
            "[17]\tvalidation_0-rmse:1.2561\tvalidation_1-rmse:1.19416\n",
            "[18]\tvalidation_0-rmse:1.13215\tvalidation_1-rmse:1.07149\n",
            "[19]\tvalidation_0-rmse:1.02072\tvalidation_1-rmse:0.960878\n",
            "[20]\tvalidation_0-rmse:0.920582\tvalidation_1-rmse:0.862856\n",
            "[21]\tvalidation_0-rmse:0.830638\tvalidation_1-rmse:0.774101\n",
            "[22]\tvalidation_0-rmse:0.749709\tvalidation_1-rmse:0.695382\n",
            "[23]\tvalidation_0-rmse:0.677186\tvalidation_1-rmse:0.623986\n",
            "[24]\tvalidation_0-rmse:0.612002\tvalidation_1-rmse:0.561015\n",
            "[25]\tvalidation_0-rmse:0.553567\tvalidation_1-rmse:0.503823\n",
            "[26]\tvalidation_0-rmse:0.501132\tvalidation_1-rmse:0.45395\n",
            "[27]\tvalidation_0-rmse:0.45435\tvalidation_1-rmse:0.408672\n",
            "[28]\tvalidation_0-rmse:0.412327\tvalidation_1-rmse:0.369259\n",
            "[29]\tvalidation_0-rmse:0.374813\tvalidation_1-rmse:0.336026\n",
            "[30]\tvalidation_0-rmse:0.341382\tvalidation_1-rmse:0.305165\n",
            "[31]\tvalidation_0-rmse:0.311071\tvalidation_1-rmse:0.278741\n",
            "[32]\tvalidation_0-rmse:0.284512\tvalidation_1-rmse:0.257357\n",
            "[33]\tvalidation_0-rmse:0.261022\tvalidation_1-rmse:0.237186\n",
            "[34]\tvalidation_0-rmse:0.240299\tvalidation_1-rmse:0.220093\n",
            "[35]\tvalidation_0-rmse:0.221934\tvalidation_1-rmse:0.207239\n",
            "[36]\tvalidation_0-rmse:0.205735\tvalidation_1-rmse:0.195487\n",
            "[37]\tvalidation_0-rmse:0.190835\tvalidation_1-rmse:0.185426\n",
            "[38]\tvalidation_0-rmse:0.178421\tvalidation_1-rmse:0.178397\n",
            "[39]\tvalidation_0-rmse:0.167332\tvalidation_1-rmse:0.172253\n",
            "[40]\tvalidation_0-rmse:0.157887\tvalidation_1-rmse:0.167385\n",
            "[41]\tvalidation_0-rmse:0.149757\tvalidation_1-rmse:0.164006\n",
            "[42]\tvalidation_0-rmse:0.142741\tvalidation_1-rmse:0.160772\n",
            "[43]\tvalidation_0-rmse:0.136589\tvalidation_1-rmse:0.159273\n",
            "[44]\tvalidation_0-rmse:0.131395\tvalidation_1-rmse:0.157995\n",
            "[45]\tvalidation_0-rmse:0.126962\tvalidation_1-rmse:0.157054\n",
            "[46]\tvalidation_0-rmse:0.123097\tvalidation_1-rmse:0.156579\n",
            "[47]\tvalidation_0-rmse:0.119391\tvalidation_1-rmse:0.155878\n",
            "[48]\tvalidation_0-rmse:0.116477\tvalidation_1-rmse:0.155239\n",
            "[49]\tvalidation_0-rmse:0.113299\tvalidation_1-rmse:0.154525\n",
            "[50]\tvalidation_0-rmse:0.111277\tvalidation_1-rmse:0.154397\n",
            "[51]\tvalidation_0-rmse:0.10915\tvalidation_1-rmse:0.155031\n",
            "[52]\tvalidation_0-rmse:0.107041\tvalidation_1-rmse:0.154667\n",
            "[53]\tvalidation_0-rmse:0.105437\tvalidation_1-rmse:0.154422\n",
            "[54]\tvalidation_0-rmse:0.104036\tvalidation_1-rmse:0.15472\n",
            "[55]\tvalidation_0-rmse:0.102962\tvalidation_1-rmse:0.154874\n",
            "[56]\tvalidation_0-rmse:0.102001\tvalidation_1-rmse:0.1553\n",
            "[57]\tvalidation_0-rmse:0.101064\tvalidation_1-rmse:0.1552\n",
            "[58]\tvalidation_0-rmse:0.100071\tvalidation_1-rmse:0.155925\n",
            "[59]\tvalidation_0-rmse:0.099251\tvalidation_1-rmse:0.155907\n",
            "[60]\tvalidation_0-rmse:0.098635\tvalidation_1-rmse:0.156419\n",
            "[61]\tvalidation_0-rmse:0.097922\tvalidation_1-rmse:0.15652\n",
            "[62]\tvalidation_0-rmse:0.096982\tvalidation_1-rmse:0.156241\n",
            "[63]\tvalidation_0-rmse:0.096429\tvalidation_1-rmse:0.156296\n",
            "[64]\tvalidation_0-rmse:0.095974\tvalidation_1-rmse:0.155392\n",
            "[65]\tvalidation_0-rmse:0.095453\tvalidation_1-rmse:0.155379\n",
            "[66]\tvalidation_0-rmse:0.095003\tvalidation_1-rmse:0.155319\n",
            "[67]\tvalidation_0-rmse:0.094501\tvalidation_1-rmse:0.155022\n",
            "[68]\tvalidation_0-rmse:0.093642\tvalidation_1-rmse:0.154945\n",
            "[69]\tvalidation_0-rmse:0.093166\tvalidation_1-rmse:0.155444\n",
            "[70]\tvalidation_0-rmse:0.092805\tvalidation_1-rmse:0.154491\n",
            "[71]\tvalidation_0-rmse:0.092155\tvalidation_1-rmse:0.154361\n",
            "[72]\tvalidation_0-rmse:0.091788\tvalidation_1-rmse:0.153586\n",
            "[73]\tvalidation_0-rmse:0.090868\tvalidation_1-rmse:0.153481\n",
            "[74]\tvalidation_0-rmse:0.0906\tvalidation_1-rmse:0.153107\n",
            "[75]\tvalidation_0-rmse:0.08976\tvalidation_1-rmse:0.152944\n",
            "[76]\tvalidation_0-rmse:0.08939\tvalidation_1-rmse:0.153419\n",
            "[77]\tvalidation_0-rmse:0.089167\tvalidation_1-rmse:0.153543\n",
            "[78]\tvalidation_0-rmse:0.088815\tvalidation_1-rmse:0.153598\n",
            "[79]\tvalidation_0-rmse:0.08853\tvalidation_1-rmse:0.153509\n",
            "[80]\tvalidation_0-rmse:0.088221\tvalidation_1-rmse:0.153916\n",
            "[81]\tvalidation_0-rmse:0.087944\tvalidation_1-rmse:0.152725\n",
            "[82]\tvalidation_0-rmse:0.087573\tvalidation_1-rmse:0.152593\n",
            "[83]\tvalidation_0-rmse:0.087368\tvalidation_1-rmse:0.152484\n",
            "[84]\tvalidation_0-rmse:0.086999\tvalidation_1-rmse:0.152467\n",
            "[85]\tvalidation_0-rmse:0.086812\tvalidation_1-rmse:0.152436\n",
            "[86]\tvalidation_0-rmse:0.086552\tvalidation_1-rmse:0.152458\n",
            "[87]\tvalidation_0-rmse:0.086285\tvalidation_1-rmse:0.15291\n",
            "[88]\tvalidation_0-rmse:0.086084\tvalidation_1-rmse:0.152088\n",
            "[89]\tvalidation_0-rmse:0.085777\tvalidation_1-rmse:0.151989\n",
            "[90]\tvalidation_0-rmse:0.085454\tvalidation_1-rmse:0.151923\n",
            "[91]\tvalidation_0-rmse:0.085175\tvalidation_1-rmse:0.151814\n",
            "[92]\tvalidation_0-rmse:0.084663\tvalidation_1-rmse:0.151379\n",
            "[93]\tvalidation_0-rmse:0.08398\tvalidation_1-rmse:0.15145\n",
            "[94]\tvalidation_0-rmse:0.083725\tvalidation_1-rmse:0.151156\n",
            "[95]\tvalidation_0-rmse:0.083227\tvalidation_1-rmse:0.151177\n",
            "[96]\tvalidation_0-rmse:0.083038\tvalidation_1-rmse:0.150715\n",
            "[97]\tvalidation_0-rmse:0.082858\tvalidation_1-rmse:0.150093\n",
            "[98]\tvalidation_0-rmse:0.082724\tvalidation_1-rmse:0.150045\n",
            "[99]\tvalidation_0-rmse:0.082377\tvalidation_1-rmse:0.150058\n",
            "[100]\tvalidation_0-rmse:0.082075\tvalidation_1-rmse:0.150076\n",
            "[101]\tvalidation_0-rmse:0.081913\tvalidation_1-rmse:0.149714\n",
            "[102]\tvalidation_0-rmse:0.081636\tvalidation_1-rmse:0.149367\n",
            "[103]\tvalidation_0-rmse:0.081368\tvalidation_1-rmse:0.149225\n",
            "[104]\tvalidation_0-rmse:0.08121\tvalidation_1-rmse:0.14917\n",
            "[105]\tvalidation_0-rmse:0.080816\tvalidation_1-rmse:0.148849\n",
            "[106]\tvalidation_0-rmse:0.080612\tvalidation_1-rmse:0.148965\n",
            "[107]\tvalidation_0-rmse:0.080247\tvalidation_1-rmse:0.148743\n",
            "[108]\tvalidation_0-rmse:0.080021\tvalidation_1-rmse:0.148423\n",
            "[109]\tvalidation_0-rmse:0.079882\tvalidation_1-rmse:0.147753\n",
            "[110]\tvalidation_0-rmse:0.079641\tvalidation_1-rmse:0.147607\n",
            "[111]\tvalidation_0-rmse:0.079443\tvalidation_1-rmse:0.147558\n",
            "[112]\tvalidation_0-rmse:0.079137\tvalidation_1-rmse:0.147549\n",
            "[113]\tvalidation_0-rmse:0.079033\tvalidation_1-rmse:0.147277\n",
            "[114]\tvalidation_0-rmse:0.07888\tvalidation_1-rmse:0.147241\n",
            "[115]\tvalidation_0-rmse:0.078697\tvalidation_1-rmse:0.146946\n",
            "[116]\tvalidation_0-rmse:0.078442\tvalidation_1-rmse:0.147122\n",
            "[117]\tvalidation_0-rmse:0.078282\tvalidation_1-rmse:0.147192\n",
            "[118]\tvalidation_0-rmse:0.078191\tvalidation_1-rmse:0.146753\n",
            "[119]\tvalidation_0-rmse:0.078082\tvalidation_1-rmse:0.147122\n",
            "[120]\tvalidation_0-rmse:0.077924\tvalidation_1-rmse:0.147248\n",
            "[121]\tvalidation_0-rmse:0.077652\tvalidation_1-rmse:0.147222\n",
            "[122]\tvalidation_0-rmse:0.077213\tvalidation_1-rmse:0.147697\n",
            "[123]\tvalidation_0-rmse:0.077086\tvalidation_1-rmse:0.147346\n",
            "[124]\tvalidation_0-rmse:0.076884\tvalidation_1-rmse:0.147293\n",
            "[125]\tvalidation_0-rmse:0.076585\tvalidation_1-rmse:0.147754\n",
            "[126]\tvalidation_0-rmse:0.076408\tvalidation_1-rmse:0.147664\n",
            "[127]\tvalidation_0-rmse:0.076247\tvalidation_1-rmse:0.147463\n",
            "[128]\tvalidation_0-rmse:0.075931\tvalidation_1-rmse:0.147763\n",
            "[129]\tvalidation_0-rmse:0.075705\tvalidation_1-rmse:0.148024\n",
            "[130]\tvalidation_0-rmse:0.075638\tvalidation_1-rmse:0.147751\n",
            "[131]\tvalidation_0-rmse:0.075519\tvalidation_1-rmse:0.147751\n",
            "[132]\tvalidation_0-rmse:0.075381\tvalidation_1-rmse:0.147575\n",
            "[133]\tvalidation_0-rmse:0.075301\tvalidation_1-rmse:0.147691\n",
            "[134]\tvalidation_0-rmse:0.075042\tvalidation_1-rmse:0.148166\n",
            "[135]\tvalidation_0-rmse:0.074758\tvalidation_1-rmse:0.148515\n",
            "[136]\tvalidation_0-rmse:0.074623\tvalidation_1-rmse:0.148447\n",
            "[137]\tvalidation_0-rmse:0.074515\tvalidation_1-rmse:0.148384\n",
            "[138]\tvalidation_0-rmse:0.074381\tvalidation_1-rmse:0.148694\n",
            "[139]\tvalidation_0-rmse:0.074258\tvalidation_1-rmse:0.148715\n",
            "[140]\tvalidation_0-rmse:0.074069\tvalidation_1-rmse:0.148849\n",
            "[141]\tvalidation_0-rmse:0.073856\tvalidation_1-rmse:0.148667\n",
            "[142]\tvalidation_0-rmse:0.073765\tvalidation_1-rmse:0.148606\n",
            "[143]\tvalidation_0-rmse:0.073639\tvalidation_1-rmse:0.148623\n",
            "[144]\tvalidation_0-rmse:0.073562\tvalidation_1-rmse:0.148608\n",
            "[145]\tvalidation_0-rmse:0.073451\tvalidation_1-rmse:0.148492\n",
            "[146]\tvalidation_0-rmse:0.073339\tvalidation_1-rmse:0.148767\n",
            "[147]\tvalidation_0-rmse:0.07305\tvalidation_1-rmse:0.14904\n",
            "[148]\tvalidation_0-rmse:0.072805\tvalidation_1-rmse:0.148997\n",
            "[149]\tvalidation_0-rmse:0.072652\tvalidation_1-rmse:0.149287\n",
            "[150]\tvalidation_0-rmse:0.072452\tvalidation_1-rmse:0.14959\n",
            "[151]\tvalidation_0-rmse:0.072286\tvalidation_1-rmse:0.149659\n",
            "[152]\tvalidation_0-rmse:0.072117\tvalidation_1-rmse:0.149524\n",
            "[153]\tvalidation_0-rmse:0.071966\tvalidation_1-rmse:0.149875\n",
            "[154]\tvalidation_0-rmse:0.0718\tvalidation_1-rmse:0.150314\n",
            "[155]\tvalidation_0-rmse:0.071669\tvalidation_1-rmse:0.150281\n",
            "[156]\tvalidation_0-rmse:0.071407\tvalidation_1-rmse:0.150065\n",
            "[157]\tvalidation_0-rmse:0.071215\tvalidation_1-rmse:0.150361\n",
            "[158]\tvalidation_0-rmse:0.070996\tvalidation_1-rmse:0.150488\n",
            "[159]\tvalidation_0-rmse:0.070834\tvalidation_1-rmse:0.150732\n",
            "[160]\tvalidation_0-rmse:0.070735\tvalidation_1-rmse:0.150822\n",
            "[161]\tvalidation_0-rmse:0.070523\tvalidation_1-rmse:0.150597\n",
            "[162]\tvalidation_0-rmse:0.070416\tvalidation_1-rmse:0.150488\n",
            "[163]\tvalidation_0-rmse:0.070306\tvalidation_1-rmse:0.150521\n",
            "[164]\tvalidation_0-rmse:0.070186\tvalidation_1-rmse:0.150785\n",
            "[165]\tvalidation_0-rmse:0.069758\tvalidation_1-rmse:0.150779\n",
            "[166]\tvalidation_0-rmse:0.069695\tvalidation_1-rmse:0.150783\n",
            "[167]\tvalidation_0-rmse:0.069519\tvalidation_1-rmse:0.15087\n",
            "[168]\tvalidation_0-rmse:0.069351\tvalidation_1-rmse:0.150656\n",
            "Stopping. Best iteration:\n",
            "[118]\tvalidation_0-rmse:0.078191\tvalidation_1-rmse:0.146753\n",
            "\n"
          ],
          "name": "stdout"
        },
        {
          "output_type": "execute_result",
          "data": {
            "text/plain": [
              "XGBRegressor(base_score=0.5, booster='gbtree', colsample_bylevel=1,\n",
              "             colsample_bynode=1, colsample_bytree=1, gamma=0,\n",
              "             importance_type='gain', learning_rate=0.1, max_delta_step=0,\n",
              "             max_depth=3, min_child_weight=1, missing=None, n_estimators=2000,\n",
              "             n_jobs=-1, nthread=None, objective='reg:linear', random_state=0,\n",
              "             reg_alpha=0, reg_lambda=1, scale_pos_weight=1, seed=None,\n",
              "             silent=None, subsample=1, verbosity=1)"
            ]
          },
          "metadata": {
            "tags": []
          },
          "execution_count": 15
        }
      ]
    },
    {
      "cell_type": "code",
      "metadata": {
        "id": "KOv9FnJcUjHJ",
        "colab_type": "code",
        "outputId": "c58605d9-bc1f-4200-a2dc-81dfef012041",
        "colab": {
          "base_uri": "https://localhost:8080/",
          "height": 50
        }
      },
      "source": [
        "#val/test error\n",
        "from sklearn.metrics import mean_squared_error\n",
        "\n",
        "def rmse(y_true, y_pred):\n",
        "  return np.sqrt(mean_squared_error(y_true, y_pred))\n",
        "\n",
        "y_pred_log = model.predict(xve)\n",
        "print('Validation score', rmse(y_val_log, y_pred_log))\n",
        "y_pred_log = model.predict(x_test)\n",
        "print('Test score', rmse(y_test_log, y_pred_log))\n"
      ],
      "execution_count": 16,
      "outputs": [
        {
          "output_type": "stream",
          "text": [
            "Validation score 0.14675346731105396\n",
            "Test score 0.1458119756125263\n"
          ],
          "name": "stdout"
        }
      ]
    },
    {
      "cell_type": "markdown",
      "metadata": {
        "id": "JGqeEpRmzpr1",
        "colab_type": "text"
      },
      "source": [
        "## 3. Plot model interpretation visualizations\n",
        "- Choose any one of these options:\n",
        "  - Permutation Importances plot\n",
        "  - Partial Dependency Plot, 1 feature isolation\n",
        "  - Partial Dependency Plot, 2 feature interaction\n",
        "  \n",
        "#### Stretch goals\n",
        "- Plot 2+ visualizations.\n",
        "- Use permutation importances for feature selection. "
      ]
    },
    {
      "cell_type": "code",
      "metadata": {
        "id": "ZeOJFJJZzpr1",
        "colab_type": "code",
        "outputId": "895f9077-a94f-4d0d-d6e0-c4a48cdd9b9e",
        "colab": {
          "base_uri": "https://localhost:8080/",
          "height": 472
        }
      },
      "source": [
        "import matplotlib.pyplot as plt\n",
        "# Get feature importances\n",
        "importances = pd.Series(model.feature_importances_, xtre.columns)\n",
        "\n",
        "# Plot feature importances\n",
        "n = len(xtre.columns)\n",
        "plt.figure(figsize=(10,n/2))\n",
        "plt.title(f'Top {n} features')\n",
        "importances.sort_values()[-n:].plot.barh(color='grey');"
      ],
      "execution_count": 17,
      "outputs": [
        {
          "output_type": "display_data",
          "data": {
            "image/png": "[encoded data removed]",
            "text/plain": [
              "<Figure size 720x540 with 1 Axes>"
            ]
          },
          "metadata": {
            "tags": []
          }
        }
      ]
    },
    {
      "cell_type": "code",
      "metadata": {
        "id": "Q7Rb_w7XZM5_",
        "colab_type": "code",
        "outputId": "a34415f3-5228-47ae-95e5-a6b54ad4a640",
        "colab": {
          "base_uri": "https://localhost:8080/",
          "height": 218
        }
      },
      "source": [
        "!pip install eli5"
      ],
      "execution_count": 18,
      "outputs": [
        {
          "output_type": "stream",
          "text": [
            "Requirement already satisfied: eli5 in /usr/local/lib/python3.6/dist-packages (0.9.0)\n",
            "Requirement already satisfied: attrs>16.0.0 in /usr/local/lib/python3.6/dist-packages (from eli5) (19.1.0)\n",
            "Requirement already satisfied: tabulate>=0.7.7 in /usr/local/lib/python3.6/dist-packages (from eli5) (0.8.3)\n",
            "Requirement already satisfied: six in /usr/local/lib/python3.6/dist-packages (from eli5) (1.12.0)\n",
            "Requirement already satisfied: scipy in /usr/local/lib/python3.6/dist-packages (from eli5) (1.3.1)\n",
            "Requirement already satisfied: scikit-learn>=0.18 in /usr/local/lib/python3.6/dist-packages (from eli5) (0.21.3)\n",
            "Requirement already satisfied: typing in /usr/local/lib/python3.6/dist-packages (from eli5) (3.7.4)\n",
            "Requirement already satisfied: jinja2 in /usr/local/lib/python3.6/dist-packages (from eli5) (2.10.1)\n",
            "Requirement already satisfied: graphviz in /usr/local/lib/python3.6/dist-packages (from eli5) (0.10.1)\n",
            "Requirement already satisfied: numpy>=1.9.0 in /usr/local/lib/python3.6/dist-packages (from eli5) (1.16.4)\n",
            "Requirement already satisfied: joblib>=0.11 in /usr/local/lib/python3.6/dist-packages (from scikit-learn>=0.18->eli5) (0.13.2)\n",
            "Requirement already satisfied: MarkupSafe>=0.23 in /usr/local/lib/python3.6/dist-packages (from jinja2->eli5) (1.1.1)\n"
          ],
          "name": "stdout"
        }
      ]
    },
    {
      "cell_type": "code",
      "metadata": {
        "id": "mulaTsnvXdmT",
        "colab_type": "code",
        "outputId": "5498aa4a-6a65-4d8e-88ce-4f831186718c",
        "colab": {
          "base_uri": "https://localhost:8080/",
          "height": 370
        }
      },
      "source": [
        "#Permutation Importances plot\n",
        "import eli5\n",
        "from eli5.sklearn import PermutationImportance\n",
        "\n",
        "permuter = PermutationImportance(model, scoring='neg_mean_squared_error',\n",
        "                                 cv='prefit', n_iter=4, random_state=42)\n",
        "\n",
        "permuter.fit(xve, y_val_log)\n",
        "feature_names = xve.columns.tolist()\n",
        "eli5.show_weights(permuter, top=None, feature_names=feature_names)"
      ],
      "execution_count": 19,
      "outputs": [
        {
          "output_type": "error",
          "ename": "ValueError",
          "evalue": "ignored",
          "traceback": [
            "\u001b[0;31m---------------------------------------------------------------------------\u001b[0m",
            "\u001b[0;31mValueError\u001b[0m                                Traceback (most recent call last)",
            "\u001b[0;32m<ipython-input-19-7b1972a62cef>\u001b[0m in \u001b[0;36m<module>\u001b[0;34m()\u001b[0m\n\u001b[1;32m      5\u001b[0m                                  cv='prefit', n_iter=4, random_state=42)\n\u001b[1;32m      6\u001b[0m \u001b[0;34m\u001b[0m\u001b[0m\n\u001b[0;32m----> 7\u001b[0;31m \u001b[0mpermuter\u001b[0m\u001b[0;34m.\u001b[0m\u001b[0mfit\u001b[0m\u001b[0;34m(\u001b[0m\u001b[0mxve\u001b[0m\u001b[0;34m,\u001b[0m \u001b[0my_val_log\u001b[0m\u001b[0;34m)\u001b[0m\u001b[0;34m\u001b[0m\u001b[0;34m\u001b[0m\u001b[0m\n\u001b[0m\u001b[1;32m      8\u001b[0m \u001b[0mfeature_names\u001b[0m \u001b[0;34m=\u001b[0m \u001b[0mxve\u001b[0m\u001b[0;34m.\u001b[0m\u001b[0mcolumns\u001b[0m\u001b[0;34m.\u001b[0m\u001b[0mtolist\u001b[0m\u001b[0;34m(\u001b[0m\u001b[0;34m)\u001b[0m\u001b[0;34m\u001b[0m\u001b[0;34m\u001b[0m\u001b[0m\n\u001b[1;32m      9\u001b[0m \u001b[0meli5\u001b[0m\u001b[0;34m.\u001b[0m\u001b[0mshow_weights\u001b[0m\u001b[0;34m(\u001b[0m\u001b[0mpermuter\u001b[0m\u001b[0;34m,\u001b[0m \u001b[0mtop\u001b[0m\u001b[0;34m=\u001b[0m\u001b[0;32mNone\u001b[0m\u001b[0;34m,\u001b[0m \u001b[0mfeature_names\u001b[0m\u001b[0;34m=\u001b[0m\u001b[0mfeature_names\u001b[0m\u001b[0;34m)\u001b[0m\u001b[0;34m\u001b[0m\u001b[0;34m\u001b[0m\u001b[0m\n",
            "\u001b[0;32m/usr/local/lib/python3.6/dist-packages/eli5/sklearn/permutation_importance.py\u001b[0m in \u001b[0;36mfit\u001b[0;34m(self, X, y, groups, **fit_params)\u001b[0m\n\u001b[1;32m    195\u001b[0m             \u001b[0mself\u001b[0m\u001b[0;34m.\u001b[0m\u001b[0mestimator_\u001b[0m\u001b[0;34m.\u001b[0m\u001b[0mfit\u001b[0m\u001b[0;34m(\u001b[0m\u001b[0mX\u001b[0m\u001b[0;34m,\u001b[0m \u001b[0my\u001b[0m\u001b[0;34m,\u001b[0m \u001b[0;34m**\u001b[0m\u001b[0mfit_params\u001b[0m\u001b[0;34m)\u001b[0m\u001b[0;34m\u001b[0m\u001b[0;34m\u001b[0m\u001b[0m\n\u001b[1;32m    196\u001b[0m \u001b[0;34m\u001b[0m\u001b[0m\n\u001b[0;32m--> 197\u001b[0;31m         \u001b[0mX\u001b[0m \u001b[0;34m=\u001b[0m \u001b[0mcheck_array\u001b[0m\u001b[0;34m(\u001b[0m\u001b[0mX\u001b[0m\u001b[0;34m)\u001b[0m\u001b[0;34m\u001b[0m\u001b[0;34m\u001b[0m\u001b[0m\n\u001b[0m\u001b[1;32m    198\u001b[0m \u001b[0;34m\u001b[0m\u001b[0m\n\u001b[1;32m    199\u001b[0m         \u001b[0;32mif\u001b[0m \u001b[0mself\u001b[0m\u001b[0;34m.\u001b[0m\u001b[0mcv\u001b[0m \u001b[0;32mnot\u001b[0m \u001b[0;32min\u001b[0m \u001b[0;34m(\u001b[0m\u001b[0;32mNone\u001b[0m\u001b[0;34m,\u001b[0m \u001b[0;34m\"prefit\"\u001b[0m\u001b[0;34m)\u001b[0m\u001b[0;34m:\u001b[0m\u001b[0;34m\u001b[0m\u001b[0;34m\u001b[0m\u001b[0m\n",
            "\u001b[0;32m/usr/local/lib/python3.6/dist-packages/sklearn/utils/validation.py\u001b[0m in \u001b[0;36mcheck_array\u001b[0;34m(array, accept_sparse, accept_large_sparse, dtype, order, copy, force_all_finite, ensure_2d, allow_nd, ensure_min_samples, ensure_min_features, warn_on_dtype, estimator)\u001b[0m\n\u001b[1;32m    540\u001b[0m         \u001b[0;32mif\u001b[0m \u001b[0mforce_all_finite\u001b[0m\u001b[0;34m:\u001b[0m\u001b[0;34m\u001b[0m\u001b[0;34m\u001b[0m\u001b[0m\n\u001b[1;32m    541\u001b[0m             _assert_all_finite(array,\n\u001b[0;32m--> 542\u001b[0;31m                                allow_nan=force_all_finite == 'allow-nan')\n\u001b[0m\u001b[1;32m    543\u001b[0m \u001b[0;34m\u001b[0m\u001b[0m\n\u001b[1;32m    544\u001b[0m     \u001b[0;32mif\u001b[0m \u001b[0mensure_min_samples\u001b[0m \u001b[0;34m>\u001b[0m \u001b[0;36m0\u001b[0m\u001b[0;34m:\u001b[0m\u001b[0;34m\u001b[0m\u001b[0;34m\u001b[0m\u001b[0m\n",
            "\u001b[0;32m/usr/local/lib/python3.6/dist-packages/sklearn/utils/validation.py\u001b[0m in \u001b[0;36m_assert_all_finite\u001b[0;34m(X, allow_nan)\u001b[0m\n\u001b[1;32m     54\u001b[0m                 not allow_nan and not np.isfinite(X).all()):\n\u001b[1;32m     55\u001b[0m             \u001b[0mtype_err\u001b[0m \u001b[0;34m=\u001b[0m \u001b[0;34m'infinity'\u001b[0m \u001b[0;32mif\u001b[0m \u001b[0mallow_nan\u001b[0m \u001b[0;32melse\u001b[0m \u001b[0;34m'NaN, infinity'\u001b[0m\u001b[0;34m\u001b[0m\u001b[0;34m\u001b[0m\u001b[0m\n\u001b[0;32m---> 56\u001b[0;31m             \u001b[0;32mraise\u001b[0m \u001b[0mValueError\u001b[0m\u001b[0;34m(\u001b[0m\u001b[0mmsg_err\u001b[0m\u001b[0;34m.\u001b[0m\u001b[0mformat\u001b[0m\u001b[0;34m(\u001b[0m\u001b[0mtype_err\u001b[0m\u001b[0;34m,\u001b[0m \u001b[0mX\u001b[0m\u001b[0;34m.\u001b[0m\u001b[0mdtype\u001b[0m\u001b[0;34m)\u001b[0m\u001b[0;34m)\u001b[0m\u001b[0;34m\u001b[0m\u001b[0;34m\u001b[0m\u001b[0m\n\u001b[0m\u001b[1;32m     57\u001b[0m     \u001b[0;31m# for object dtype data, we only check for NaNs (GH-13254)\u001b[0m\u001b[0;34m\u001b[0m\u001b[0;34m\u001b[0m\u001b[0;34m\u001b[0m\u001b[0m\n\u001b[1;32m     58\u001b[0m     \u001b[0;32melif\u001b[0m \u001b[0mX\u001b[0m\u001b[0;34m.\u001b[0m\u001b[0mdtype\u001b[0m \u001b[0;34m==\u001b[0m \u001b[0mnp\u001b[0m\u001b[0;34m.\u001b[0m\u001b[0mdtype\u001b[0m\u001b[0;34m(\u001b[0m\u001b[0;34m'object'\u001b[0m\u001b[0;34m)\u001b[0m \u001b[0;32mand\u001b[0m \u001b[0;32mnot\u001b[0m \u001b[0mallow_nan\u001b[0m\u001b[0;34m:\u001b[0m\u001b[0;34m\u001b[0m\u001b[0;34m\u001b[0m\u001b[0m\n",
            "\u001b[0;31mValueError\u001b[0m: Input contains NaN, infinity or a value too large for dtype('float64')."
          ]
        }
      ]
    },
    {
      "cell_type": "code",
      "metadata": {
        "id": "VHqKYApuZesY",
        "colab_type": "code",
        "colab": {}
      },
      "source": [
        "#forgot to take out NaN values\n",
        "\n",
        "xve.fillna(xve.mean(), inplace=True)"
      ],
      "execution_count": 0,
      "outputs": []
    },
    {
      "cell_type": "code",
      "metadata": {
        "id": "PLffhrnwaEa4",
        "colab_type": "code",
        "outputId": "1e718d7b-fdfe-46e1-a887-456c6ec4c914",
        "colab": {
          "base_uri": "https://localhost:8080/",
          "height": 286
        }
      },
      "source": [
        "#let's try that again\n",
        "permuter = PermutationImportance(model, scoring='neg_mean_squared_error',\n",
        "                                 cv='prefit', n_iter=4, random_state=42)\n",
        "\n",
        "permuter.fit(xve, y_val_log)\n",
        "feature_names = xve.columns.tolist()\n",
        "eli5.show_weights(permuter, top=None, feature_names=feature_names)"
      ],
      "execution_count": 21,
      "outputs": [
        {
          "output_type": "execute_result",
          "data": {
            "text/html": [
              "\n",
              "    <style>\n",
              "    table.eli5-weights tr:hover {\n",
              "        filter: brightness(85%);\n",
              "    }\n",
              "</style>\n",
              "\n",
              "\n",
              "\n",
              "    \n",
              "\n",
              "    \n",
              "\n",
              "    \n",
              "\n",
              "    \n",
              "\n",
              "    \n",
              "\n",
              "    \n",
              "\n",
              "\n",
              "    \n",
              "\n",
              "    \n",
              "\n",
              "    \n",
              "\n",
              "    \n",
              "\n",
              "    \n",
              "\n",
              "    \n",
              "\n",
              "\n",
              "    \n",
              "\n",
              "    \n",
              "\n",
              "    \n",
              "\n",
              "    \n",
              "\n",
              "    \n",
              "        <table class=\"eli5-weights eli5-feature-importances\" style=\"border-collapse: collapse; border: none; margin-top: 0em; table-layout: auto;\">\n",
              "    <thead>\n",
              "    <tr style=\"border: none;\">\n",
              "        <th style=\"padding: 0 1em 0 0.5em; text-align: right; border: none;\">Weight</th>\n",
              "        <th style=\"padding: 0 0.5em 0 0.5em; text-align: left; border: none;\">Feature</th>\n",
              "    </tr>\n",
              "    </thead>\n",
              "    <tbody>\n",
              "    \n",
              "        <tr style=\"background-color: hsl(120, 100.00%, 80.00%); border: none;\">\n",
              "            <td style=\"padding: 0 1em 0 0.5em; text-align: right; border: none;\">\n",
              "                0.1808\n",
              "                \n",
              "                    &plusmn; 0.0013\n",
              "                \n",
              "            </td>\n",
              "            <td style=\"padding: 0 0.5em 0 0.5em; text-align: left; border: none;\">\n",
              "                Customers\n",
              "            </td>\n",
              "        </tr>\n",
              "    \n",
              "        <tr style=\"background-color: hsl(120, 100.00%, 97.54%); border: none;\">\n",
              "            <td style=\"padding: 0 1em 0 0.5em; text-align: right; border: none;\">\n",
              "                0.0091\n",
              "                \n",
              "                    &plusmn; 0.0002\n",
              "                \n",
              "            </td>\n",
              "            <td style=\"padding: 0 0.5em 0 0.5em; text-align: left; border: none;\">\n",
              "                Promo\n",
              "            </td>\n",
              "        </tr>\n",
              "    \n",
              "        <tr style=\"background-color: hsl(120, 100.00%, 98.79%); border: none;\">\n",
              "            <td style=\"padding: 0 1em 0 0.5em; text-align: right; border: none;\">\n",
              "                0.0033\n",
              "                \n",
              "                    &plusmn; 0.0002\n",
              "                \n",
              "            </td>\n",
              "            <td style=\"padding: 0 0.5em 0 0.5em; text-align: left; border: none;\">\n",
              "                StoreType\n",
              "            </td>\n",
              "        </tr>\n",
              "    \n",
              "        <tr style=\"background-color: hsl(120, 100.00%, 98.90%); border: none;\">\n",
              "            <td style=\"padding: 0 1em 0 0.5em; text-align: right; border: none;\">\n",
              "                0.0029\n",
              "                \n",
              "                    &plusmn; 0.0002\n",
              "                \n",
              "            </td>\n",
              "            <td style=\"padding: 0 0.5em 0 0.5em; text-align: left; border: none;\">\n",
              "                Store\n",
              "            </td>\n",
              "        </tr>\n",
              "    \n",
              "        <tr style=\"background-color: hsl(120, 100.00%, 99.16%); border: none;\">\n",
              "            <td style=\"padding: 0 1em 0 0.5em; text-align: right; border: none;\">\n",
              "                0.0020\n",
              "                \n",
              "                    &plusmn; 0.0001\n",
              "                \n",
              "            </td>\n",
              "            <td style=\"padding: 0 0.5em 0 0.5em; text-align: left; border: none;\">\n",
              "                Assortment\n",
              "            </td>\n",
              "        </tr>\n",
              "    \n",
              "        <tr style=\"background-color: hsl(120, 100.00%, 99.17%); border: none;\">\n",
              "            <td style=\"padding: 0 1em 0 0.5em; text-align: right; border: none;\">\n",
              "                0.0019\n",
              "                \n",
              "                    &plusmn; 0.0001\n",
              "                \n",
              "            </td>\n",
              "            <td style=\"padding: 0 0.5em 0 0.5em; text-align: left; border: none;\">\n",
              "                Date\n",
              "            </td>\n",
              "        </tr>\n",
              "    \n",
              "        <tr style=\"background-color: hsl(120, 100.00%, 99.21%); border: none;\">\n",
              "            <td style=\"padding: 0 1em 0 0.5em; text-align: right; border: none;\">\n",
              "                0.0018\n",
              "                \n",
              "                    &plusmn; 0.0001\n",
              "                \n",
              "            </td>\n",
              "            <td style=\"padding: 0 0.5em 0 0.5em; text-align: left; border: none;\">\n",
              "                CompetitionDistance\n",
              "            </td>\n",
              "        </tr>\n",
              "    \n",
              "        <tr style=\"background-color: hsl(120, 100.00%, 99.69%); border: none;\">\n",
              "            <td style=\"padding: 0 1em 0 0.5em; text-align: right; border: none;\">\n",
              "                0.0005\n",
              "                \n",
              "                    &plusmn; 0.0001\n",
              "                \n",
              "            </td>\n",
              "            <td style=\"padding: 0 0.5em 0 0.5em; text-align: left; border: none;\">\n",
              "                DayOfWeek\n",
              "            </td>\n",
              "        </tr>\n",
              "    \n",
              "        <tr style=\"background-color: hsl(120, 100.00%, 99.85%); border: none;\">\n",
              "            <td style=\"padding: 0 1em 0 0.5em; text-align: right; border: none;\">\n",
              "                0.0002\n",
              "                \n",
              "                    &plusmn; 0.0000\n",
              "                \n",
              "            </td>\n",
              "            <td style=\"padding: 0 0.5em 0 0.5em; text-align: left; border: none;\">\n",
              "                Promo2SinceYear\n",
              "            </td>\n",
              "        </tr>\n",
              "    \n",
              "        <tr style=\"background-color: hsl(120, 100.00%, 99.94%); border: none;\">\n",
              "            <td style=\"padding: 0 1em 0 0.5em; text-align: right; border: none;\">\n",
              "                0.0000\n",
              "                \n",
              "                    &plusmn; 0.0000\n",
              "                \n",
              "            </td>\n",
              "            <td style=\"padding: 0 0.5em 0 0.5em; text-align: left; border: none;\">\n",
              "                SchoolHoliday\n",
              "            </td>\n",
              "        </tr>\n",
              "    \n",
              "        <tr style=\"background-color: hsl(120, 100.00%, 99.98%); border: none;\">\n",
              "            <td style=\"padding: 0 1em 0 0.5em; text-align: right; border: none;\">\n",
              "                0.0000\n",
              "                \n",
              "                    &plusmn; 0.0000\n",
              "                \n",
              "            </td>\n",
              "            <td style=\"padding: 0 0.5em 0 0.5em; text-align: left; border: none;\">\n",
              "                CompetitionOpenSinceMonth\n",
              "            </td>\n",
              "        </tr>\n",
              "    \n",
              "        <tr style=\"background-color: hsl(0, 100.00%, 100.00%); border: none;\">\n",
              "            <td style=\"padding: 0 1em 0 0.5em; text-align: right; border: none;\">\n",
              "                0\n",
              "                \n",
              "                    &plusmn; 0.0000\n",
              "                \n",
              "            </td>\n",
              "            <td style=\"padding: 0 0.5em 0 0.5em; text-align: left; border: none;\">\n",
              "                PromoInterval\n",
              "            </td>\n",
              "        </tr>\n",
              "    \n",
              "        <tr style=\"background-color: hsl(0, 100.00%, 100.00%); border: none;\">\n",
              "            <td style=\"padding: 0 1em 0 0.5em; text-align: right; border: none;\">\n",
              "                0\n",
              "                \n",
              "                    &plusmn; 0.0000\n",
              "                \n",
              "            </td>\n",
              "            <td style=\"padding: 0 0.5em 0 0.5em; text-align: left; border: none;\">\n",
              "                Promo2SinceWeek\n",
              "            </td>\n",
              "        </tr>\n",
              "    \n",
              "        <tr style=\"background-color: hsl(0, 100.00%, 100.00%); border: none;\">\n",
              "            <td style=\"padding: 0 1em 0 0.5em; text-align: right; border: none;\">\n",
              "                0\n",
              "                \n",
              "                    &plusmn; 0.0000\n",
              "                \n",
              "            </td>\n",
              "            <td style=\"padding: 0 0.5em 0 0.5em; text-align: left; border: none;\">\n",
              "                Promo2\n",
              "            </td>\n",
              "        </tr>\n",
              "    \n",
              "        <tr style=\"background-color: hsl(0, 100.00%, 99.70%); border: none;\">\n",
              "            <td style=\"padding: 0 1em 0 0.5em; text-align: right; border: none;\">\n",
              "                -0.0004\n",
              "                \n",
              "                    &plusmn; 0.0001\n",
              "                \n",
              "            </td>\n",
              "            <td style=\"padding: 0 0.5em 0 0.5em; text-align: left; border: none;\">\n",
              "                CompetitionOpenSinceYear\n",
              "            </td>\n",
              "        </tr>\n",
              "    \n",
              "    \n",
              "    </tbody>\n",
              "</table>\n",
              "    \n",
              "\n",
              "    \n",
              "\n",
              "\n",
              "    \n",
              "\n",
              "    \n",
              "\n",
              "    \n",
              "\n",
              "    \n",
              "\n",
              "    \n",
              "\n",
              "    \n",
              "\n",
              "\n",
              "\n"
            ],
            "text/plain": [
              "<IPython.core.display.HTML object>"
            ]
          },
          "metadata": {
            "tags": []
          },
          "execution_count": 21
        }
      ]
    },
    {
      "cell_type": "code",
      "metadata": {
        "id": "gD4jPfxyaum5",
        "colab_type": "code",
        "outputId": "84ffa16e-2760-42bf-9a7a-1e5a3cc02c78",
        "colab": {
          "base_uri": "https://localhost:8080/",
          "height": 269
        }
      },
      "source": [
        "!pip install pdpbox"
      ],
      "execution_count": 22,
      "outputs": [
        {
          "output_type": "stream",
          "text": [
            "Requirement already satisfied: pdpbox in /usr/local/lib/python3.6/dist-packages (0.2.0)\n",
            "Requirement already satisfied: numpy in /usr/local/lib/python3.6/dist-packages (from pdpbox) (1.16.4)\n",
            "Requirement already satisfied: joblib in /usr/local/lib/python3.6/dist-packages (from pdpbox) (0.13.2)\n",
            "Requirement already satisfied: psutil in /usr/local/lib/python3.6/dist-packages (from pdpbox) (5.4.8)\n",
            "Requirement already satisfied: scikit-learn in /usr/local/lib/python3.6/dist-packages (from pdpbox) (0.21.3)\n",
            "Requirement already satisfied: matplotlib>=2.1.2 in /usr/local/lib/python3.6/dist-packages (from pdpbox) (3.0.3)\n",
            "Requirement already satisfied: scipy in /usr/local/lib/python3.6/dist-packages (from pdpbox) (1.3.1)\n",
            "Requirement already satisfied: pandas in /usr/local/lib/python3.6/dist-packages (from pdpbox) (0.24.2)\n",
            "Requirement already satisfied: python-dateutil>=2.1 in /usr/local/lib/python3.6/dist-packages (from matplotlib>=2.1.2->pdpbox) (2.5.3)\n",
            "Requirement already satisfied: kiwisolver>=1.0.1 in /usr/local/lib/python3.6/dist-packages (from matplotlib>=2.1.2->pdpbox) (1.1.0)\n",
            "Requirement already satisfied: pyparsing!=2.0.4,!=2.1.2,!=2.1.6,>=2.0.1 in /usr/local/lib/python3.6/dist-packages (from matplotlib>=2.1.2->pdpbox) (2.4.2)\n",
            "Requirement already satisfied: cycler>=0.10 in /usr/local/lib/python3.6/dist-packages (from matplotlib>=2.1.2->pdpbox) (0.10.0)\n",
            "Requirement already satisfied: pytz>=2011k in /usr/local/lib/python3.6/dist-packages (from pandas->pdpbox) (2018.9)\n",
            "Requirement already satisfied: six>=1.5 in /usr/local/lib/python3.6/dist-packages (from python-dateutil>=2.1->matplotlib>=2.1.2->pdpbox) (1.12.0)\n",
            "Requirement already satisfied: setuptools in /usr/local/lib/python3.6/dist-packages (from kiwisolver>=1.0.1->matplotlib>=2.1.2->pdpbox) (41.0.1)\n"
          ],
          "name": "stdout"
        }
      ]
    },
    {
      "cell_type": "code",
      "metadata": {
        "id": "TtQGhRcnaLRV",
        "colab_type": "code",
        "outputId": "4f5371c5-0c0e-4312-bd2b-13482e3295af",
        "colab": {
          "base_uri": "https://localhost:8080/",
          "height": 582
        }
      },
      "source": [
        "#Partial Dependency Plot, 1 feature isolation\n",
        "from pdpbox.pdp import pdp_isolate, pdp_plot\n",
        "\n",
        "feature = 'Customers'\n",
        "\n",
        "isolated = pdp_isolate(\n",
        "    model=model, \n",
        "    dataset=xve, \n",
        "    model_features=xve.columns, \n",
        "    feature=feature\n",
        ")\n",
        "\n",
        "pdp_plot(isolated, feature_name=feature);"
      ],
      "execution_count": 23,
      "outputs": [
        {
          "output_type": "display_data",
          "data": {
            "image/png": "[encoded data removed]",
            "text/plain": [
              "<Figure size 1080x684 with 2 Axes>"
            ]
          },
          "metadata": {
            "tags": []
          }
        }
      ]
    },
    {
      "cell_type": "code",
      "metadata": {
        "id": "BWLzbm94bEzE",
        "colab_type": "code",
        "outputId": "f9b5aa2c-d6c8-48ec-ce5c-b5abfb08990e",
        "colab": {
          "base_uri": "https://localhost:8080/",
          "height": 585
        }
      },
      "source": [
        "#Partial Dependency Plot, 2 feature interaction\n",
        "from pdpbox.pdp import pdp_interact, pdp_interact_plot\n",
        "\n",
        "features = ['Customers', 'Date']\n",
        "\n",
        "interaction = pdp_interact(\n",
        "    model=model, \n",
        "    dataset=xve, \n",
        "    model_features=xve.columns, \n",
        "    features=features\n",
        ")\n",
        "\n",
        "pdp_interact_plot(interaction, plot_type='grid', feature_names=features);"
      ],
      "execution_count": 24,
      "outputs": [
        {
          "output_type": "display_data",
          "data": {
            "image/png": "[encoded data removed]",
            "text/plain": [
              "<Figure size 540x684 with 3 Axes>"
            ]
          },
          "metadata": {
            "tags": []
          }
        }
      ]
    },
    {
      "cell_type": "code",
      "metadata": {
        "id": "QXZVb-8SdEaT",
        "colab_type": "code",
        "colab": {}
      },
      "source": [
        ""
      ],
      "execution_count": 0,
      "outputs": []
    }
  ]
}